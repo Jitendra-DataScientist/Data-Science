{
 "cells": [
  {
   "cell_type": "code",
   "execution_count": 1,
   "metadata": {
    "colab": {},
    "colab_type": "code",
    "id": "BfnOuLEQSUqs"
   },
   "outputs": [],
   "source": [
    "import numpy as np\n",
    "import pandas as pd\n",
    "import seaborn as sns\n",
    "from statsmodels.formula.api import ols      # For n-way ANOVA\n",
    "from statsmodels.stats.anova import _get_covariance,anova_lm # For n-way ANOVA\n",
    "%matplotlib inline"
   ]
  },
  {
   "cell_type": "code",
   "execution_count": 2,
   "metadata": {
    "colab": {},
    "colab_type": "code",
    "id": "FCRgLLwuSUq0"
   },
   "outputs": [],
   "source": [
    "DF = pd.read_csv('1 paul-newfood.csv')"
   ]
  },
  {
   "cell_type": "code",
   "execution_count": 3,
   "metadata": {
    "colab": {},
    "colab_type": "code",
    "id": "VkRG4BCGSUq5",
    "outputId": "8d45e385-f98a-49e4-90cf-2aff07d95a11"
   },
   "outputs": [
    {
     "data": {
      "text/html": [
       "<div>\n",
       "<style scoped>\n",
       "    .dataframe tbody tr th:only-of-type {\n",
       "        vertical-align: middle;\n",
       "    }\n",
       "\n",
       "    .dataframe tbody tr th {\n",
       "        vertical-align: top;\n",
       "    }\n",
       "\n",
       "    .dataframe thead th {\n",
       "        text-align: right;\n",
       "    }\n",
       "</style>\n",
       "<table border=\"1\" class=\"dataframe\">\n",
       "  <thead>\n",
       "    <tr style=\"text-align: right;\">\n",
       "      <th></th>\n",
       "      <th>Sales</th>\n",
       "      <th>PriceLevel</th>\n",
       "      <th>AdLevel</th>\n",
       "      <th>StoreSize</th>\n",
       "    </tr>\n",
       "  </thead>\n",
       "  <tbody>\n",
       "    <tr>\n",
       "      <th>0</th>\n",
       "      <td>620</td>\n",
       "      <td>1</td>\n",
       "      <td>1</td>\n",
       "      <td>34</td>\n",
       "    </tr>\n",
       "    <tr>\n",
       "      <th>1</th>\n",
       "      <td>774</td>\n",
       "      <td>1</td>\n",
       "      <td>1</td>\n",
       "      <td>41</td>\n",
       "    </tr>\n",
       "    <tr>\n",
       "      <th>2</th>\n",
       "      <td>955</td>\n",
       "      <td>1</td>\n",
       "      <td>2</td>\n",
       "      <td>32</td>\n",
       "    </tr>\n",
       "    <tr>\n",
       "      <th>3</th>\n",
       "      <td>669</td>\n",
       "      <td>1</td>\n",
       "      <td>2</td>\n",
       "      <td>28</td>\n",
       "    </tr>\n",
       "    <tr>\n",
       "      <th>4</th>\n",
       "      <td>623</td>\n",
       "      <td>1</td>\n",
       "      <td>1</td>\n",
       "      <td>34</td>\n",
       "    </tr>\n",
       "  </tbody>\n",
       "</table>\n",
       "</div>"
      ],
      "text/plain": [
       "   Sales  PriceLevel  AdLevel  StoreSize\n",
       "0    620           1        1         34\n",
       "1    774           1        1         41\n",
       "2    955           1        2         32\n",
       "3    669           1        2         28\n",
       "4    623           1        1         34"
      ]
     },
     "execution_count": 3,
     "metadata": {},
     "output_type": "execute_result"
    }
   ],
   "source": [
    "DF.head()"
   ]
  },
  {
   "cell_type": "code",
   "execution_count": 6,
   "metadata": {
    "colab": {},
    "colab_type": "code",
    "id": "Xh3xr4q4SUrC",
    "outputId": "45c7a918-71e1-4658-96bf-760053b43bbd"
   },
   "outputs": [
    {
     "data": {
      "text/html": [
       "<div>\n",
       "<style scoped>\n",
       "    .dataframe tbody tr th:only-of-type {\n",
       "        vertical-align: middle;\n",
       "    }\n",
       "\n",
       "    .dataframe tbody tr th {\n",
       "        vertical-align: top;\n",
       "    }\n",
       "\n",
       "    .dataframe thead th {\n",
       "        text-align: right;\n",
       "    }\n",
       "</style>\n",
       "<table border=\"1\" class=\"dataframe\">\n",
       "  <thead>\n",
       "    <tr style=\"text-align: right;\">\n",
       "      <th></th>\n",
       "      <th>Sales</th>\n",
       "      <th>PriceLevel</th>\n",
       "      <th>AdLevel</th>\n",
       "      <th>StoreSize</th>\n",
       "    </tr>\n",
       "  </thead>\n",
       "  <tbody>\n",
       "    <tr>\n",
       "      <th>count</th>\n",
       "      <td>24.000000</td>\n",
       "      <td>24.000000</td>\n",
       "      <td>24.000000</td>\n",
       "      <td>24.000000</td>\n",
       "    </tr>\n",
       "    <tr>\n",
       "      <th>mean</th>\n",
       "      <td>571.416667</td>\n",
       "      <td>2.000000</td>\n",
       "      <td>1.500000</td>\n",
       "      <td>32.333333</td>\n",
       "    </tr>\n",
       "    <tr>\n",
       "      <th>std</th>\n",
       "      <td>212.629279</td>\n",
       "      <td>0.834058</td>\n",
       "      <td>0.510754</td>\n",
       "      <td>6.424590</td>\n",
       "    </tr>\n",
       "    <tr>\n",
       "      <th>min</th>\n",
       "      <td>294.000000</td>\n",
       "      <td>1.000000</td>\n",
       "      <td>1.000000</td>\n",
       "      <td>19.000000</td>\n",
       "    </tr>\n",
       "    <tr>\n",
       "      <th>25%</th>\n",
       "      <td>393.250000</td>\n",
       "      <td>1.000000</td>\n",
       "      <td>1.000000</td>\n",
       "      <td>28.750000</td>\n",
       "    </tr>\n",
       "    <tr>\n",
       "      <th>50%</th>\n",
       "      <td>550.000000</td>\n",
       "      <td>2.000000</td>\n",
       "      <td>1.500000</td>\n",
       "      <td>32.000000</td>\n",
       "    </tr>\n",
       "    <tr>\n",
       "      <th>75%</th>\n",
       "      <td>677.000000</td>\n",
       "      <td>3.000000</td>\n",
       "      <td>2.000000</td>\n",
       "      <td>37.000000</td>\n",
       "    </tr>\n",
       "    <tr>\n",
       "      <th>max</th>\n",
       "      <td>1208.000000</td>\n",
       "      <td>3.000000</td>\n",
       "      <td>2.000000</td>\n",
       "      <td>43.000000</td>\n",
       "    </tr>\n",
       "  </tbody>\n",
       "</table>\n",
       "</div>"
      ],
      "text/plain": [
       "             Sales  PriceLevel    AdLevel  StoreSize\n",
       "count    24.000000   24.000000  24.000000  24.000000\n",
       "mean    571.416667    2.000000   1.500000  32.333333\n",
       "std     212.629279    0.834058   0.510754   6.424590\n",
       "min     294.000000    1.000000   1.000000  19.000000\n",
       "25%     393.250000    1.000000   1.000000  28.750000\n",
       "50%     550.000000    2.000000   1.500000  32.000000\n",
       "75%     677.000000    3.000000   2.000000  37.000000\n",
       "max    1208.000000    3.000000   2.000000  43.000000"
      ]
     },
     "execution_count": 6,
     "metadata": {},
     "output_type": "execute_result"
    }
   ],
   "source": [
    "DF.describe()"
   ]
  },
  {
   "cell_type": "code",
   "execution_count": 7,
   "metadata": {
    "colab": {},
    "colab_type": "code",
    "id": "-KgsJkp1SUrK",
    "outputId": "7b50171a-4b16-4dd4-ddff-77be848850be"
   },
   "outputs": [
    {
     "name": "stdout",
     "output_type": "stream",
     "text": [
      "<class 'pandas.core.frame.DataFrame'>\n",
      "RangeIndex: 24 entries, 0 to 23\n",
      "Data columns (total 4 columns):\n",
      " #   Column      Non-Null Count  Dtype\n",
      "---  ------      --------------  -----\n",
      " 0   Sales       24 non-null     int64\n",
      " 1   PriceLevel  24 non-null     int64\n",
      " 2   AdLevel     24 non-null     int64\n",
      " 3   StoreSize   24 non-null     int64\n",
      "dtypes: int64(4)\n",
      "memory usage: 896.0 bytes\n"
     ]
    }
   ],
   "source": [
    "DF.info()"
   ]
  },
  {
   "cell_type": "code",
   "execution_count": 4,
   "metadata": {
    "colab": {},
    "colab_type": "code",
    "id": "xREwvrC5SUra",
    "outputId": "cc5ed889-32aa-4ee6-89d3-275d866c07de"
   },
   "outputs": [
    {
     "data": {
      "text/plain": [
       "<bound method IndexOpsMixin.value_counts of 0     1\n",
       "1     1\n",
       "2     1\n",
       "3     1\n",
       "4     1\n",
       "5     1\n",
       "6     1\n",
       "7     1\n",
       "8     2\n",
       "9     2\n",
       "10    2\n",
       "11    2\n",
       "12    2\n",
       "13    2\n",
       "14    2\n",
       "15    2\n",
       "16    3\n",
       "17    3\n",
       "18    3\n",
       "19    3\n",
       "20    3\n",
       "21    3\n",
       "22    3\n",
       "23    3\n",
       "Name: PriceLevel, dtype: int64>"
      ]
     },
     "execution_count": 4,
     "metadata": {},
     "output_type": "execute_result"
    }
   ],
   "source": [
    "DF.PriceLevel.value_counts"
   ]
  },
  {
   "cell_type": "code",
   "execution_count": 5,
   "metadata": {
    "colab": {},
    "colab_type": "code",
    "id": "PK1-7K8XSUrp",
    "outputId": "1f2ac506-6510-42e3-a201-9733a8bbf328"
   },
   "outputs": [
    {
     "data": {
      "text/plain": [
       "<bound method IndexOpsMixin.value_counts of 0     1\n",
       "1     1\n",
       "2     2\n",
       "3     2\n",
       "4     1\n",
       "5     1\n",
       "6     2\n",
       "7     2\n",
       "8     1\n",
       "9     1\n",
       "10    2\n",
       "11    2\n",
       "12    1\n",
       "13    1\n",
       "14    2\n",
       "15    2\n",
       "16    1\n",
       "17    1\n",
       "18    2\n",
       "19    2\n",
       "20    1\n",
       "21    1\n",
       "22    2\n",
       "23    2\n",
       "Name: AdLevel, dtype: int64>"
      ]
     },
     "execution_count": 5,
     "metadata": {},
     "output_type": "execute_result"
    }
   ],
   "source": [
    "DF.AdLevel.value_counts"
   ]
  },
  {
   "cell_type": "code",
   "execution_count": 6,
   "metadata": {
    "colab": {},
    "colab_type": "code",
    "id": "WHKMZI72SUrw",
    "outputId": "252dbbe5-cc8f-4d46-d989-8c71df57c18b"
   },
   "outputs": [
    {
     "name": "stdout",
     "output_type": "stream",
     "text": [
      "              df         sum_sq        mean_sq          F    PR(>F)\n",
      "PriceLevel   1.0  590976.562500  590976.562500  27.649652  0.000033\n",
      "AdLevel      1.0      32.666667      32.666667   0.001528  0.969185\n",
      "Residual    21.0  448848.604167   21373.743056        NaN       NaN\n"
     ]
    }
   ],
   "source": [
    "formula = 'Sales ~ (PriceLevel) + (AdLevel)'\n",
    "model = ols(formula, DF).fit()\n",
    "aov_table = anova_lm(model)\n",
    "print(aov_table)"
   ]
  },
  {
   "cell_type": "code",
   "execution_count": 7,
   "metadata": {},
   "outputs": [
    {
     "name": "stdout",
     "output_type": "stream",
     "text": [
      "                 df         sum_sq        mean_sq          F    PR(>F)\n",
      "C(PriceLevel)   2.0  600412.583333  300206.291667  13.663982  0.000182\n",
      "C(AdLevel)      1.0      32.666667      32.666667   0.001487  0.969624\n",
      "Residual       20.0  439412.583333   21970.629167        NaN       NaN\n"
     ]
    }
   ],
   "source": [
    "formula = 'Sales ~ C(PriceLevel) + C(AdLevel)'\n",
    "model = ols(formula, DF).fit()\n",
    "aov_table = anova_lm(model)\n",
    "print(aov_table)"
   ]
  },
  {
   "cell_type": "code",
   "execution_count": 8,
   "metadata": {},
   "outputs": [
    {
     "name": "stdout",
     "output_type": "stream",
     "text": [
      "              df         sum_sq        mean_sq          F    PR(>F)\n",
      "PriceLevel   2.0  600412.583333  300206.291667  13.663982  0.000182\n",
      "AdLevel      1.0      32.666667      32.666667   0.001487  0.969624\n",
      "Residual    20.0  439412.583333   21970.629167        NaN       NaN\n"
     ]
    }
   ],
   "source": [
    "DF.PriceLevel = pd.Categorical(DF.PriceLevel)\n",
    "DF.AdLevel = pd.Categorical(DF.AdLevel)\n",
    "formula = 'Sales ~ (PriceLevel) + (AdLevel)'\n",
    "model = ols(formula, DF).fit()\n",
    "aov_table = anova_lm(model)\n",
    "print(aov_table)"
   ]
  },
  {
   "cell_type": "code",
   "execution_count": 9,
   "metadata": {
    "colab": {},
    "colab_type": "code",
    "id": "vST30pdBSUr3",
    "outputId": "6e4456c4-546d-461c-c999-46892b2fe0f4"
   },
   "outputs": [
    {
     "data": {
      "image/png": "[encoded data removed]",
      "text/plain": [
       "<Figure size 432x288 with 1 Axes>"
      ]
     },
     "metadata": {
      "needs_background": "light"
     },
     "output_type": "display_data"
    }
   ],
   "source": [
    "sns.pointplot(x='PriceLevel', y='Sales', data=DF, hue='AdLevel');"
   ]
  },
  {
   "cell_type": "code",
   "execution_count": 11,
   "metadata": {
    "colab": {},
    "colab_type": "code",
    "id": "VLz1VS7PSUr-",
    "outputId": "036db0f5-6988-47ea-d51e-d41457e60751"
   },
   "outputs": [
    {
     "data": {
      "image/png": "[encoded data removed]",
      "text/plain": [
       "<Figure size 432x288 with 1 Axes>"
      ]
     },
     "metadata": {
      "needs_background": "light"
     },
     "output_type": "display_data"
    }
   ],
   "source": [
    "sns.pointplot(x='PriceLevel', y='Sales', data=DF, hue='AdLevel', ci=None);"
   ]
  },
  {
   "cell_type": "code",
   "execution_count": 12,
   "metadata": {},
   "outputs": [],
   "source": [
    "DF = pd.read_csv('1 paul-newfood.csv')"
   ]
  },
  {
   "cell_type": "code",
   "execution_count": 13,
   "metadata": {},
   "outputs": [
    {
     "name": "stdout",
     "output_type": "stream",
     "text": [
      "                      df         sum_sq        mean_sq          F    PR(>F)\n",
      "PriceLevel           1.0  590976.562500  590976.562500  30.407768  0.000021\n",
      "AdLevel              1.0      32.666667      32.666667   0.001681  0.967704\n",
      "PriceLevel:AdLevel   1.0   60147.562500   60147.562500   3.094798  0.093833\n",
      "Residual            20.0  388701.041667   19435.052083        NaN       NaN\n"
     ]
    }
   ],
   "source": [
    "formula = 'Sales ~ (PriceLevel) + (AdLevel) + (PriceLevel):(AdLevel)'\n",
    "model = ols(formula, DF).fit()\n",
    "aov_table = anova_lm(model)\n",
    "print(aov_table)"
   ]
  },
  {
   "cell_type": "code",
   "execution_count": 14,
   "metadata": {},
   "outputs": [
    {
     "name": "stdout",
     "output_type": "stream",
     "text": [
      "                            df         sum_sq        mean_sq          F  \\\n",
      "C(PriceLevel)              2.0  600412.583333  300206.291667  14.781913   \n",
      "C(AdLevel)                 1.0      32.666667      32.666667   0.001608   \n",
      "C(PriceLevel):C(AdLevel)   2.0   73850.083333   36925.041667   1.818159   \n",
      "Residual                  18.0  365562.500000   20309.027778        NaN   \n",
      "\n",
      "                            PR(>F)  \n",
      "C(PriceLevel)             0.000159  \n",
      "C(AdLevel)                0.968450  \n",
      "C(PriceLevel):C(AdLevel)  0.190898  \n",
      "Residual                       NaN  \n"
     ]
    }
   ],
   "source": [
    "formula = 'Sales ~ C(PriceLevel) + C(AdLevel) + C(PriceLevel):C(AdLevel)'\n",
    "model = ols(formula, DF).fit()\n",
    "aov_table = anova_lm(model)\n",
    "print(aov_table)"
   ]
  },
  {
   "cell_type": "code",
   "execution_count": 15,
   "metadata": {
    "colab": {},
    "colab_type": "code",
    "id": "vf0JNFdISUsI",
    "outputId": "0bec2a0e-18c9-4b24-a692-16d28e9740dd"
   },
   "outputs": [
    {
     "name": "stdout",
     "output_type": "stream",
     "text": [
      "                      df         sum_sq        mean_sq          F    PR(>F)\n",
      "PriceLevel           2.0  600412.583333  300206.291667  14.781913  0.000159\n",
      "AdLevel              1.0      32.666667      32.666667   0.001608  0.968450\n",
      "PriceLevel:AdLevel   2.0   73850.083333   36925.041667   1.818159  0.190898\n",
      "Residual            18.0  365562.500000   20309.027778        NaN       NaN\n"
     ]
    }
   ],
   "source": [
    "DF.PriceLevel = pd.Categorical(DF.PriceLevel)\n",
    "DF.AdLevel = pd.Categorical(DF.AdLevel)\n",
    "formula = 'Sales ~ (PriceLevel) + (AdLevel) + (PriceLevel):(AdLevel)'\n",
    "model = ols(formula, DF).fit()\n",
    "aov_table = anova_lm(model)\n",
    "print(aov_table)"
   ]
  },
  {
   "cell_type": "code",
   "execution_count": 16,
   "metadata": {},
   "outputs": [
    {
     "name": "stdout",
     "output_type": "stream",
     "text": [
      "                      df         sum_sq        mean_sq          F  \\\n",
      "PriceLevel           1.0  590976.562500  590976.562500  61.586939   \n",
      "AdLevel              1.0      32.666667      32.666667   0.003404   \n",
      "StoreSize            1.0  222290.553610  222290.553610  23.165377   \n",
      "PriceLevel:AdLevel   1.0   44237.661181   44237.661181   4.610102   \n",
      "Residual            19.0  182320.389376    9595.809967        NaN   \n",
      "\n",
      "                          PR(>F)  \n",
      "PriceLevel          2.226910e-07  \n",
      "AdLevel             9.540823e-01  \n",
      "StoreSize           1.208685e-04  \n",
      "PriceLevel:AdLevel  4.490278e-02  \n",
      "Residual                     NaN  \n"
     ]
    }
   ],
   "source": [
    "DF = pd.read_csv('1 paul-newfood.csv')\n",
    "formula = 'Sales ~ (PriceLevel) + (AdLevel) + StoreSize + (PriceLevel):(AdLevel)'\n",
    "model = ols(formula, DF).fit()\n",
    "aov_table = anova_lm(model,type=2)\n",
    "print(aov_table)"
   ]
  },
  {
   "cell_type": "code",
   "execution_count": 17,
   "metadata": {},
   "outputs": [
    {
     "name": "stdout",
     "output_type": "stream",
     "text": [
      "                            df         sum_sq        mean_sq          F  \\\n",
      "C(PriceLevel)              2.0  600412.583333  300206.291667  29.483426   \n",
      "C(AdLevel)                 1.0      32.666667      32.666667   0.003208   \n",
      "C(PriceLevel):C(AdLevel)   2.0   73850.083333   36925.041667   3.626429   \n",
      "StoreSize                  1.0  192465.010526  192465.010526  18.902095   \n",
      "Residual                  17.0  173097.489474   10182.205263        NaN   \n",
      "\n",
      "                            PR(>F)  \n",
      "C(PriceLevel)             0.000003  \n",
      "C(AdLevel)                0.955492  \n",
      "C(PriceLevel):C(AdLevel)  0.048790  \n",
      "StoreSize                 0.000438  \n",
      "Residual                       NaN  \n"
     ]
    }
   ],
   "source": [
    "formula = 'Sales ~ C(PriceLevel) + C(AdLevel) + StoreSize + C(PriceLevel):C(AdLevel)'\n",
    "model = ols(formula, DF).fit()\n",
    "aov_table = anova_lm(model,type=2)\n",
    "print(aov_table)"
   ]
  },
  {
   "cell_type": "code",
   "execution_count": 18,
   "metadata": {
    "colab": {},
    "colab_type": "code",
    "id": "pY1W1cdeSUsP",
    "outputId": "09e6019a-a93f-41e4-a5f2-d2548a32ed89"
   },
   "outputs": [
    {
     "name": "stdout",
     "output_type": "stream",
     "text": [
      "                      df         sum_sq        mean_sq          F    PR(>F)\n",
      "PriceLevel           2.0  600412.583333  300206.291667  29.483426  0.000003\n",
      "AdLevel              1.0      32.666667      32.666667   0.003208  0.955492\n",
      "PriceLevel:AdLevel   2.0   73850.083333   36925.041667   3.626429  0.048790\n",
      "StoreSize            1.0  192465.010526  192465.010526  18.902095  0.000438\n",
      "Residual            17.0  173097.489474   10182.205263        NaN       NaN\n"
     ]
    }
   ],
   "source": [
    "DF.PriceLevel = pd.Categorical(DF.PriceLevel)\n",
    "DF.AdLevel = pd.Categorical(DF.AdLevel)\n",
    "formula = 'Sales ~ (PriceLevel) + (AdLevel) + StoreSize + (PriceLevel):(AdLevel)'\n",
    "model = ols(formula, DF).fit()\n",
    "aov_table = anova_lm(model,type=2)\n",
    "print(aov_table)"
   ]
  }
 ],
 "metadata": {
  "colab": {
   "name": "Anova-Paul.ipynb",
   "provenance": []
  },
  "kernelspec": {
   "display_name": "Python 3",
   "language": "python",
   "name": "python3"
  },
  "language_info": {
   "codemirror_mode": {
    "name": "ipython",
    "version": 3
   },
   "file_extension": ".py",
   "mimetype": "text/x-python",
   "name": "python",
   "nbconvert_exporter": "python",
   "pygments_lexer": "ipython3",
   "version": "3.8.5"
  }
 },
 "nbformat": 4,
 "nbformat_minor": 1
}
