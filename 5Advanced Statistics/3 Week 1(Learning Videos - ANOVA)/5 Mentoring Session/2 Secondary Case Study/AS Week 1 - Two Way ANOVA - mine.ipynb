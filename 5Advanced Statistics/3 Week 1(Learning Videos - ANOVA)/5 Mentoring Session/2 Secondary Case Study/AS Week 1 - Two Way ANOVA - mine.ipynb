{
 "cells": [
  {
   "cell_type": "markdown",
   "metadata": {},
   "source": [
    "<img src=\"https://d1vwxdpzbgdqj.cloudfront.net/s3-public-images/learning-partners/greatlearning-brand.png\" style=\"float:right;\" width=25%></img>"
   ]
  },
  {
   "cell_type": "markdown",
   "metadata": {},
   "source": [
    "### The following is the description of the dataset that we are going to use for Two Way ANOVA."
   ]
  },
  {
   "cell_type": "markdown",
   "metadata": {},
   "source": [
    "\n",
    "<img src=\"https://albertapressleader.ca/wp-content/uploads/2020/12/kidney-dialysis.jpg\" width = 45%></img>\n",
    "\n",
    "### Problem Statement:\n",
    "\n",
    "### The dose for effective dialysis depends on duration of treatment and weight gain between treatments. To study the effects of these two factors on the number of days hospitalized attributable to kidney failure, a random sample of 10 patients per group undergone treatment in a large dialysis facility was obtained. Treatment duration was at 3 levels: short, mid and long. Average weight gain between treatments during the year was categorized into three levels: mild, moderate and severe."
   ]
  },
  {
   "cell_type": "code",
   "execution_count": 1,
   "metadata": {
    "ExecuteTime": {
     "end_time": "2020-05-11T12:38:58.371363Z",
     "start_time": "2020-05-11T12:38:58.335459Z"
    }
   },
   "outputs": [],
   "source": [
    "import numpy as np\n",
    "import pandas as pd\n",
    "import seaborn as sns\n",
    "from statsmodels.formula.api import ols      # For n-way ANOVA\n",
    "from statsmodels.stats.anova import _get_covariance,anova_lm # For n-way ANOVA"
   ]
  },
  {
   "cell_type": "code",
   "execution_count": 2,
   "metadata": {
    "ExecuteTime": {
     "end_time": "2020-05-11T12:38:58.508708Z",
     "start_time": "2020-05-11T12:38:58.374356Z"
    }
   },
   "outputs": [],
   "source": [
    "df = pd.read_csv('2 Dialysis (1).csv')"
   ]
  },
  {
   "cell_type": "code",
   "execution_count": 3,
   "metadata": {
    "ExecuteTime": {
     "end_time": "2020-05-11T12:38:58.683241Z",
     "start_time": "2020-05-11T12:38:58.511701Z"
    }
   },
   "outputs": [
    {
     "data": {
      "text/html": [
       "<div>\n",
       "<style scoped>\n",
       "    .dataframe tbody tr th:only-of-type {\n",
       "        vertical-align: middle;\n",
       "    }\n",
       "\n",
       "    .dataframe tbody tr th {\n",
       "        vertical-align: top;\n",
       "    }\n",
       "\n",
       "    .dataframe thead th {\n",
       "        text-align: right;\n",
       "    }\n",
       "</style>\n",
       "<table border=\"1\" class=\"dataframe\">\n",
       "  <thead>\n",
       "    <tr style=\"text-align: right;\">\n",
       "      <th></th>\n",
       "      <th>Duration</th>\n",
       "      <th>Weight_Gain</th>\n",
       "      <th>Patient</th>\n",
       "      <th>Days</th>\n",
       "    </tr>\n",
       "  </thead>\n",
       "  <tbody>\n",
       "    <tr>\n",
       "      <th>0</th>\n",
       "      <td>1</td>\n",
       "      <td>1</td>\n",
       "      <td>1</td>\n",
       "      <td>3</td>\n",
       "    </tr>\n",
       "    <tr>\n",
       "      <th>1</th>\n",
       "      <td>1</td>\n",
       "      <td>1</td>\n",
       "      <td>2</td>\n",
       "      <td>3</td>\n",
       "    </tr>\n",
       "    <tr>\n",
       "      <th>2</th>\n",
       "      <td>1</td>\n",
       "      <td>1</td>\n",
       "      <td>3</td>\n",
       "      <td>14</td>\n",
       "    </tr>\n",
       "    <tr>\n",
       "      <th>3</th>\n",
       "      <td>1</td>\n",
       "      <td>1</td>\n",
       "      <td>4</td>\n",
       "      <td>16</td>\n",
       "    </tr>\n",
       "    <tr>\n",
       "      <th>4</th>\n",
       "      <td>1</td>\n",
       "      <td>1</td>\n",
       "      <td>5</td>\n",
       "      <td>3</td>\n",
       "    </tr>\n",
       "  </tbody>\n",
       "</table>\n",
       "</div>"
      ],
      "text/plain": [
       "   Duration  Weight_Gain  Patient  Days\n",
       "0         1            1        1     3\n",
       "1         1            1        2     3\n",
       "2         1            1        3    14\n",
       "3         1            1        4    16\n",
       "4         1            1        5     3"
      ]
     },
     "execution_count": 3,
     "metadata": {},
     "output_type": "execute_result"
    }
   ],
   "source": [
    "df.head()"
   ]
  },
  {
   "cell_type": "code",
   "execution_count": 4,
   "metadata": {
    "ExecuteTime": {
     "end_time": "2020-05-11T12:38:59.059721Z",
     "start_time": "2020-05-11T12:38:58.944030Z"
    }
   },
   "outputs": [
    {
     "name": "stdout",
     "output_type": "stream",
     "text": [
      "<class 'pandas.core.frame.DataFrame'>\n",
      "RangeIndex: 90 entries, 0 to 89\n",
      "Data columns (total 4 columns):\n",
      " #   Column       Non-Null Count  Dtype\n",
      "---  ------       --------------  -----\n",
      " 0   Duration     90 non-null     int64\n",
      " 1   Weight_Gain  90 non-null     int64\n",
      " 2   Patient      90 non-null     int64\n",
      " 3   Days         90 non-null     int64\n",
      "dtypes: int64(4)\n",
      "memory usage: 2.9 KB\n"
     ]
    }
   ],
   "source": [
    "df.info()"
   ]
  },
  {
   "cell_type": "code",
   "execution_count": 4,
   "metadata": {
    "ExecuteTime": {
     "end_time": "2020-05-11T12:38:59.177379Z",
     "start_time": "2020-05-11T12:38:59.063710Z"
    }
   },
   "outputs": [],
   "source": [
    "df['Weight_Gain']= pd.Categorical(df['Weight_Gain'])\n",
    "df['Duration']= pd.Categorical(df['Duration'])\n",
    "df['Patient']= pd.Categorical(df['Patient'])"
   ]
  },
  {
   "cell_type": "code",
   "execution_count": 6,
   "metadata": {
    "ExecuteTime": {
     "end_time": "2020-05-11T12:38:59.314015Z",
     "start_time": "2020-05-11T12:38:59.181367Z"
    }
   },
   "outputs": [
    {
     "name": "stdout",
     "output_type": "stream",
     "text": [
      "<class 'pandas.core.frame.DataFrame'>\n",
      "RangeIndex: 90 entries, 0 to 89\n",
      "Data columns (total 4 columns):\n",
      " #   Column       Non-Null Count  Dtype   \n",
      "---  ------       --------------  -----   \n",
      " 0   Duration     90 non-null     category\n",
      " 1   Weight_Gain  90 non-null     category\n",
      " 2   Patient      90 non-null     category\n",
      " 3   Days         90 non-null     int64   \n",
      "dtypes: category(3), int64(1)\n",
      "memory usage: 1.7 KB\n"
     ]
    }
   ],
   "source": [
    "df.info()"
   ]
  },
  {
   "cell_type": "code",
   "execution_count": 7,
   "metadata": {},
   "outputs": [],
   "source": [
    "duration_1 = df[df['Duration']==1]['Days']\n",
    "duration_2 = df[df['Duration']==2]['Days']\n",
    "duration_3 = df[df['Duration']==3]['Days']\n",
    "\n",
    "Weight_Gain_1 = df[df['Weight_Gain']==1]['Days']\n",
    "Weight_Gain_2 = df[df['Weight_Gain']==2]['Days']\n",
    "Weight_Gain_3 = df[df['Weight_Gain']==3]['Days']"
   ]
  },
  {
   "cell_type": "code",
   "execution_count": 9,
   "metadata": {},
   "outputs": [
    {
     "name": "stdout",
     "output_type": "stream",
     "text": [
      "ShapiroResult(statistic=0.8940047025680542, pvalue=0.006010832265019417)\n",
      "ShapiroResult(statistic=0.9489384889602661, pvalue=0.15833470225334167)\n",
      "ShapiroResult(statistic=0.9332407712936401, pvalue=0.05990174040198326)\n",
      "ShapiroResult(statistic=0.9053216576576233, pvalue=0.01136202085763216)\n",
      "ShapiroResult(statistic=0.9667301774024963, pvalue=0.45400169491767883)\n",
      "ShapiroResult(statistic=0.9148339033126831, pvalue=0.019741877913475037)\n",
      "AndersonResult(statistic=1.1678600124904968, critical_values=array([0.521, 0.593, 0.712, 0.83 , 0.988]), significance_level=array([15. , 10. ,  5. ,  2.5,  1. ]))\n",
      "AndersonResult(statistic=0.48634982313612696, critical_values=array([0.521, 0.593, 0.712, 0.83 , 0.988]), significance_level=array([15. , 10. ,  5. ,  2.5,  1. ]))\n",
      "AndersonResult(statistic=0.541924988816092, critical_values=array([0.521, 0.593, 0.712, 0.83 , 0.988]), significance_level=array([15. , 10. ,  5. ,  2.5,  1. ]))\n"
     ]
    }
   ],
   "source": [
    "from scipy import stats\n",
    "#The Shapiro-Wilk test tests the null hypothesis that the data was drawn from a normal distribution.\n",
    "#alpha = 0.05\n",
    "print(stats.shapiro([duration_1]))\n",
    "print(stats.shapiro([duration_2]))\n",
    "print(stats.shapiro([duration_3]))\n",
    "\n",
    "print(stats.shapiro([Weight_Gain_1]))\n",
    "print(stats.shapiro([Weight_Gain_2]))\n",
    "print(stats.shapiro([Weight_Gain_3]))\n",
    "\n",
    "#Anderson Darling Test if Shapiro fails\n",
    "print(stats.anderson(duration_1,dist='norm'))\n",
    "print(stats.anderson(duration_2,dist='norm'))\n",
    "print(stats.anderson(duration_3,dist='norm'))"
   ]
  },
  {
   "cell_type": "code",
   "execution_count": 10,
   "metadata": {},
   "outputs": [
    {
     "name": "stdout",
     "output_type": "stream",
     "text": [
      "LeveneResult(statistic=0.513934349574488, pvalue=0.5999421217786557)\n",
      "LeveneResult(statistic=1.3856337425064233, pvalue=0.25563037501060487)\n"
     ]
    }
   ],
   "source": [
    "#Homogeniety\n",
    "#The Levene test tests the null hypothesis that all input samples are from populations with equal variances.\n",
    "#alpha = 0.05\n",
    "print(stats.levene(duration_1,duration_2,duration_3))\n",
    "print(stats.levene(Weight_Gain_1,Weight_Gain_2,Weight_Gain_3))"
   ]
  },
  {
   "cell_type": "markdown",
   "metadata": {},
   "source": [
    "## The Hypothesis for the One Way ANOVA are:\n",
    "    \n",
    "## $H_0$: The mean number of days of hospital stay is the same at 3 levels of treatment Weight_Gain\n",
    "## $H_a$: For at least one level of treatment Weight_Gain, mean number of days of hospital stay is different\n"
   ]
  },
  {
   "cell_type": "markdown",
   "metadata": {},
   "source": [
    "**Now, let us go ahead and perform one way ANOVA with 'Weight Gain' with respect to 'Days'.**"
   ]
  },
  {
   "cell_type": "code",
   "execution_count": 11,
   "metadata": {
    "ExecuteTime": {
     "end_time": "2020-05-11T12:38:59.583290Z",
     "start_time": "2020-05-11T12:38:59.437683Z"
    }
   },
   "outputs": [
    {
     "data": {
      "text/html": [
       "<div>\n",
       "<style scoped>\n",
       "    .dataframe tbody tr th:only-of-type {\n",
       "        vertical-align: middle;\n",
       "    }\n",
       "\n",
       "    .dataframe tbody tr th {\n",
       "        vertical-align: top;\n",
       "    }\n",
       "\n",
       "    .dataframe thead th {\n",
       "        text-align: right;\n",
       "    }\n",
       "</style>\n",
       "<table border=\"1\" class=\"dataframe\">\n",
       "  <thead>\n",
       "    <tr style=\"text-align: right;\">\n",
       "      <th></th>\n",
       "      <th>df</th>\n",
       "      <th>sum_sq</th>\n",
       "      <th>mean_sq</th>\n",
       "      <th>F</th>\n",
       "      <th>PR(&gt;F)</th>\n",
       "    </tr>\n",
       "  </thead>\n",
       "  <tbody>\n",
       "    <tr>\n",
       "      <th>C(Weight_Gain)</th>\n",
       "      <td>2.0</td>\n",
       "      <td>6.822222</td>\n",
       "      <td>3.411111</td>\n",
       "      <td>0.108508</td>\n",
       "      <td>0.897293</td>\n",
       "    </tr>\n",
       "    <tr>\n",
       "      <th>Residual</th>\n",
       "      <td>87.0</td>\n",
       "      <td>2734.966667</td>\n",
       "      <td>31.436398</td>\n",
       "      <td>NaN</td>\n",
       "      <td>NaN</td>\n",
       "    </tr>\n",
       "  </tbody>\n",
       "</table>\n",
       "</div>"
      ],
      "text/plain": [
       "                  df       sum_sq    mean_sq         F    PR(>F)\n",
       "C(Weight_Gain)   2.0     6.822222   3.411111  0.108508  0.897293\n",
       "Residual        87.0  2734.966667  31.436398       NaN       NaN"
      ]
     },
     "execution_count": 11,
     "metadata": {},
     "output_type": "execute_result"
    }
   ],
   "source": [
    "formula = 'Days ~ C(Weight_Gain)'\n",
    "model = ols(formula, df).fit()\n",
    "aov_table = anova_lm(model)\n",
    "(aov_table)"
   ]
  },
  {
   "cell_type": "markdown",
   "metadata": {},
   "source": [
    "**Now, we see that the corresponding p-value is greater than alpha (0.05). Thus, we $\\textbf{fail to reject}$ the $\\textbf{Null Hypothesis}$ ($H_0$).**"
   ]
  },
  {
   "cell_type": "markdown",
   "metadata": {},
   "source": [
    "**The mean no. of days of hospital stay is the same at 3 levels of treatment weight gain.**"
   ]
  },
  {
   "cell_type": "markdown",
   "metadata": {},
   "source": [
    "**Let us now perform One Way ANOVA with the variable 'Duration' with respect to 'Days'.**"
   ]
  },
  {
   "cell_type": "markdown",
   "metadata": {},
   "source": [
    "## The Hypothesis for the One Way ANOVA are:\n",
    "    \n",
    "## $H_0$: The mean number of days of hospital stay is the same at 3 levels of treatment Duration\n",
    "## $H_a$: For at least one level of treatment Duration, mean number of days of hospital stay is different\n"
   ]
  },
  {
   "cell_type": "code",
   "execution_count": 11,
   "metadata": {
    "ExecuteTime": {
     "end_time": "2020-05-11T12:38:59.685018Z",
     "start_time": "2020-05-11T12:38:59.585288Z"
    }
   },
   "outputs": [],
   "source": [
    "df['Duration']= pd.Categorical(df['Duration'])"
   ]
  },
  {
   "cell_type": "code",
   "execution_count": 12,
   "metadata": {
    "ExecuteTime": {
     "end_time": "2020-05-11T12:38:59.866533Z",
     "start_time": "2020-05-11T12:38:59.687013Z"
    }
   },
   "outputs": [
    {
     "data": {
      "text/html": [
       "<div>\n",
       "<style scoped>\n",
       "    .dataframe tbody tr th:only-of-type {\n",
       "        vertical-align: middle;\n",
       "    }\n",
       "\n",
       "    .dataframe tbody tr th {\n",
       "        vertical-align: top;\n",
       "    }\n",
       "\n",
       "    .dataframe thead th {\n",
       "        text-align: right;\n",
       "    }\n",
       "</style>\n",
       "<table border=\"1\" class=\"dataframe\">\n",
       "  <thead>\n",
       "    <tr style=\"text-align: right;\">\n",
       "      <th></th>\n",
       "      <th>df</th>\n",
       "      <th>sum_sq</th>\n",
       "      <th>mean_sq</th>\n",
       "      <th>F</th>\n",
       "      <th>PR(&gt;F)</th>\n",
       "    </tr>\n",
       "  </thead>\n",
       "  <tbody>\n",
       "    <tr>\n",
       "      <th>C(Duration)</th>\n",
       "      <td>2.0</td>\n",
       "      <td>326.955556</td>\n",
       "      <td>163.477778</td>\n",
       "      <td>5.889668</td>\n",
       "      <td>0.003991</td>\n",
       "    </tr>\n",
       "    <tr>\n",
       "      <th>Residual</th>\n",
       "      <td>87.0</td>\n",
       "      <td>2414.833333</td>\n",
       "      <td>27.756705</td>\n",
       "      <td>NaN</td>\n",
       "      <td>NaN</td>\n",
       "    </tr>\n",
       "  </tbody>\n",
       "</table>\n",
       "</div>"
      ],
      "text/plain": [
       "               df       sum_sq     mean_sq         F    PR(>F)\n",
       "C(Duration)   2.0   326.955556  163.477778  5.889668  0.003991\n",
       "Residual     87.0  2414.833333   27.756705       NaN       NaN"
      ]
     },
     "execution_count": 12,
     "metadata": {},
     "output_type": "execute_result"
    }
   ],
   "source": [
    "formula = 'Days ~ C(Duration)'\n",
    "model = ols(formula, df).fit()\n",
    "aov_table = anova_lm(model)\n",
    "(aov_table)"
   ]
  },
  {
   "cell_type": "markdown",
   "metadata": {},
   "source": [
    "**Now, we see that the corresponding p-value is less than alpha (0.05). Thus, we $\\textbf{reject}$ the $\\textbf{Null Hypothesis}$ ($H_0$).**"
   ]
  },
  {
   "cell_type": "markdown",
   "metadata": {},
   "source": [
    "**For at least one level of treatment Duration, mean number of days of hospital stay is different**"
   ]
  },
  {
   "cell_type": "markdown",
   "metadata": {},
   "source": [
    "**Let us now perform the Two Way ANOVA. We will now analyse the effect of both the treatments on the 'Days' variable.**"
   ]
  },
  {
   "cell_type": "code",
   "execution_count": 13,
   "metadata": {
    "ExecuteTime": {
     "end_time": "2020-05-11T12:39:00.013177Z",
     "start_time": "2020-05-11T12:38:59.868528Z"
    }
   },
   "outputs": [
    {
     "data": {
      "text/html": [
       "<div>\n",
       "<style scoped>\n",
       "    .dataframe tbody tr th:only-of-type {\n",
       "        vertical-align: middle;\n",
       "    }\n",
       "\n",
       "    .dataframe tbody tr th {\n",
       "        vertical-align: top;\n",
       "    }\n",
       "\n",
       "    .dataframe thead th {\n",
       "        text-align: right;\n",
       "    }\n",
       "</style>\n",
       "<table border=\"1\" class=\"dataframe\">\n",
       "  <thead>\n",
       "    <tr style=\"text-align: right;\">\n",
       "      <th></th>\n",
       "      <th>df</th>\n",
       "      <th>sum_sq</th>\n",
       "      <th>mean_sq</th>\n",
       "      <th>F</th>\n",
       "      <th>PR(&gt;F)</th>\n",
       "    </tr>\n",
       "  </thead>\n",
       "  <tbody>\n",
       "    <tr>\n",
       "      <th>C(Weight_Gain)</th>\n",
       "      <td>2.0</td>\n",
       "      <td>6.822222</td>\n",
       "      <td>3.411111</td>\n",
       "      <td>0.120408</td>\n",
       "      <td>0.886709</td>\n",
       "    </tr>\n",
       "    <tr>\n",
       "      <th>C(Duration)</th>\n",
       "      <td>2.0</td>\n",
       "      <td>326.955556</td>\n",
       "      <td>163.477778</td>\n",
       "      <td>5.770576</td>\n",
       "      <td>0.004467</td>\n",
       "    </tr>\n",
       "    <tr>\n",
       "      <th>Residual</th>\n",
       "      <td>85.0</td>\n",
       "      <td>2408.011111</td>\n",
       "      <td>28.329542</td>\n",
       "      <td>NaN</td>\n",
       "      <td>NaN</td>\n",
       "    </tr>\n",
       "  </tbody>\n",
       "</table>\n",
       "</div>"
      ],
      "text/plain": [
       "                  df       sum_sq     mean_sq         F    PR(>F)\n",
       "C(Weight_Gain)   2.0     6.822222    3.411111  0.120408  0.886709\n",
       "C(Duration)      2.0   326.955556  163.477778  5.770576  0.004467\n",
       "Residual        85.0  2408.011111   28.329542       NaN       NaN"
      ]
     },
     "execution_count": 13,
     "metadata": {},
     "output_type": "execute_result"
    }
   ],
   "source": [
    "formula = 'Days ~ C(Weight_Gain) + C(Duration)'\n",
    "model = ols(formula, df).fit()\n",
    "aov_table = anova_lm(model)\n",
    "(aov_table)"
   ]
  },
  {
   "cell_type": "markdown",
   "metadata": {},
   "source": [
    "**The p-value in the one of the treatments is greater than $\\alpha$(0.05)**"
   ]
  },
  {
   "cell_type": "markdown",
   "metadata": {},
   "source": [
    "**Let us check whether there is any interaction effect between the treatments.**"
   ]
  },
  {
   "cell_type": "code",
   "execution_count": 15,
   "metadata": {
    "ExecuteTime": {
     "end_time": "2020-05-11T12:39:04.888946Z",
     "start_time": "2020-05-11T12:39:04.704533Z"
    }
   },
   "outputs": [
    {
     "data": {
      "image/png": "[encoded data removed]",
      "text/plain": [
       "<Figure size 432x288 with 1 Axes>"
      ]
     },
     "metadata": {
      "needs_background": "light"
     },
     "output_type": "display_data"
    }
   ],
   "source": [
    "sns.pointplot(x='Weight_Gain', y='Days', data=df, hue='Duration',ci=None);"
   ]
  },
  {
   "cell_type": "code",
   "execution_count": 16,
   "metadata": {},
   "outputs": [
    {
     "data": {
      "image/png": "[encoded data removed]",
      "text/plain": [
       "<Figure size 432x288 with 1 Axes>"
      ]
     },
     "metadata": {
      "needs_background": "light"
     },
     "output_type": "display_data"
    }
   ],
   "source": [
    "sns.pointplot(x='Duration', y='Days', data=df, hue='Weight_Gain',ci=None);"
   ]
  },
  {
   "cell_type": "code",
   "execution_count": 17,
   "metadata": {
    "ExecuteTime": {
     "end_time": "2020-05-11T12:40:59.480423Z",
     "start_time": "2020-05-11T12:40:59.169253Z"
    }
   },
   "outputs": [
    {
     "data": {
      "image/png": "[encoded data removed]",
      "text/plain": [
       "<Figure size 432x288 with 1 Axes>"
      ]
     },
     "metadata": {
      "needs_background": "light"
     },
     "output_type": "display_data"
    }
   ],
   "source": [
    "#Method 2 of drawing an interaction plot\n",
    "\n",
    "from statsmodels.graphics.factorplots import interaction_plot\n",
    "interaction_plot(np.array(df['Weight_Gain']),np.array(df['Duration']),np.array(df['Days']),markers=['D','^','o']);"
   ]
  },
  {
   "cell_type": "code",
   "execution_count": 18,
   "metadata": {},
   "outputs": [
    {
     "data": {
      "image/png": "[encoded data removed]",
      "text/plain": [
       "<Figure size 432x288 with 1 Axes>"
      ]
     },
     "metadata": {
      "needs_background": "light"
     },
     "output_type": "display_data"
    }
   ],
   "source": [
    "interaction_plot(np.array(df['Duration']),np.array(df['Weight_Gain']),np.array(df['Days']),markers=['D','^','o']);"
   ]
  },
  {
   "cell_type": "markdown",
   "metadata": {},
   "source": [
    "**Still, we can see that there is some sort of interaction between the two treatments. So, we will introduce a new term while performing the Two Way ANOVA.**"
   ]
  },
  {
   "cell_type": "code",
   "execution_count": 17,
   "metadata": {
    "ExecuteTime": {
     "end_time": "2020-05-11T12:39:01.674323Z",
     "start_time": "2020-05-11T12:39:01.641151Z"
    }
   },
   "outputs": [
    {
     "data": {
      "text/html": [
       "<div>\n",
       "<style scoped>\n",
       "    .dataframe tbody tr th:only-of-type {\n",
       "        vertical-align: middle;\n",
       "    }\n",
       "\n",
       "    .dataframe tbody tr th {\n",
       "        vertical-align: top;\n",
       "    }\n",
       "\n",
       "    .dataframe thead th {\n",
       "        text-align: right;\n",
       "    }\n",
       "</style>\n",
       "<table border=\"1\" class=\"dataframe\">\n",
       "  <thead>\n",
       "    <tr style=\"text-align: right;\">\n",
       "      <th></th>\n",
       "      <th>df</th>\n",
       "      <th>sum_sq</th>\n",
       "      <th>mean_sq</th>\n",
       "      <th>F</th>\n",
       "      <th>PR(&gt;F)</th>\n",
       "    </tr>\n",
       "  </thead>\n",
       "  <tbody>\n",
       "    <tr>\n",
       "      <th>C(Weight_Gain)</th>\n",
       "      <td>2.0</td>\n",
       "      <td>6.822222</td>\n",
       "      <td>3.411111</td>\n",
       "      <td>0.133498</td>\n",
       "      <td>0.875222</td>\n",
       "    </tr>\n",
       "    <tr>\n",
       "      <th>C(Duration)</th>\n",
       "      <td>2.0</td>\n",
       "      <td>326.955556</td>\n",
       "      <td>163.477778</td>\n",
       "      <td>6.397884</td>\n",
       "      <td>0.002632</td>\n",
       "    </tr>\n",
       "    <tr>\n",
       "      <th>C(Weight_Gain):C(Duration)</th>\n",
       "      <td>4.0</td>\n",
       "      <td>338.311111</td>\n",
       "      <td>84.577778</td>\n",
       "      <td>3.310045</td>\n",
       "      <td>0.014538</td>\n",
       "    </tr>\n",
       "    <tr>\n",
       "      <th>Residual</th>\n",
       "      <td>81.0</td>\n",
       "      <td>2069.700000</td>\n",
       "      <td>25.551852</td>\n",
       "      <td>NaN</td>\n",
       "      <td>NaN</td>\n",
       "    </tr>\n",
       "  </tbody>\n",
       "</table>\n",
       "</div>"
      ],
      "text/plain": [
       "                              df       sum_sq     mean_sq         F    PR(>F)\n",
       "C(Weight_Gain)               2.0     6.822222    3.411111  0.133498  0.875222\n",
       "C(Duration)                  2.0   326.955556  163.477778  6.397884  0.002632\n",
       "C(Weight_Gain):C(Duration)   4.0   338.311111   84.577778  3.310045  0.014538\n",
       "Residual                    81.0  2069.700000   25.551852       NaN       NaN"
      ]
     },
     "execution_count": 17,
     "metadata": {},
     "output_type": "execute_result"
    }
   ],
   "source": [
    "formula = 'Days ~ C(Weight_Gain) + C(Duration) + C(Weight_Gain):C(Duration)'\n",
    "model = ols(formula, df).fit()\n",
    "aov_table = anova_lm(model)\n",
    "(aov_table)"
   ]
  },
  {
   "cell_type": "markdown",
   "metadata": {},
   "source": [
    "**Due to the inclusion of the interaction effect term, we can see a slight change in the p-value of the first two treatments as compared to the Two-Way ANOVA without the interaction effect terms.And we see that the p-value of the interaction effect term of 'Weight_Gain' and 'Duration' suggests that the Null Hypothesis is rejected in this case.**"
   ]
  },
  {
   "cell_type": "markdown",
   "metadata": {},
   "source": [
    "                                                                         ------ Happy Learning------"
   ]
  }
 ],
 "metadata": {
  "kernelspec": {
   "display_name": "Python 3",
   "language": "python",
   "name": "python3"
  },
  "language_info": {
   "codemirror_mode": {
    "name": "ipython",
    "version": 3
   },
   "file_extension": ".py",
   "mimetype": "text/x-python",
   "name": "python",
   "nbconvert_exporter": "python",
   "pygments_lexer": "ipython3",
   "version": "3.8.5"
  },
  "toc": {
   "base_numbering": 1,
   "nav_menu": {},
   "number_sections": true,
   "sideBar": true,
   "skip_h1_title": false,
   "title_cell": "Table of Contents",
   "title_sidebar": "Contents",
   "toc_cell": false,
   "toc_position": {},
   "toc_section_display": true,
   "toc_window_display": false
  },
  "varInspector": {
   "cols": {
    "lenName": 16,
    "lenType": 16,
    "lenVar": 40
   },
   "kernels_config": {
    "python": {
     "delete_cmd_postfix": "",
     "delete_cmd_prefix": "del ",
     "library": "var_list.py",
     "varRefreshCmd": "print(var_dic_list())"
    },
    "r": {
     "delete_cmd_postfix": ") ",
     "delete_cmd_prefix": "rm(",
     "library": "var_list.r",
     "varRefreshCmd": "cat(var_dic_list()) "
    }
   },
   "types_to_exclude": [
    "module",
    "function",
    "builtin_function_or_method",
    "instance",
    "_Feature"
   ],
   "window_display": false
  }
 },
 "nbformat": 4,
 "nbformat_minor": 4
}
