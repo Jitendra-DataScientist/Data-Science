{
 "cells": [
  {
   "cell_type": "markdown",
   "id": "60d76bb2",
   "metadata": {},
   "source": [
    "## Please follow the below structure while attempting the hackathon, make sure to submit the jupyter file as well for every submission you are making.\n",
    "\n",
    "## Please answer the descriptive question in the Jupyter Notebook Itself. This is going to carry more weightage in the final evaluation."
   ]
  },
  {
   "cell_type": "markdown",
   "id": "15026c5a",
   "metadata": {},
   "source": [
    "## Importing Necessary Libraries"
   ]
  },
  {
   "cell_type": "code",
   "execution_count": 1,
   "id": "9c51994a",
   "metadata": {},
   "outputs": [],
   "source": [
    "import numpy as np\n",
    "import pandas as pd"
   ]
  },
  {
   "cell_type": "markdown",
   "id": "48d76054",
   "metadata": {},
   "source": [
    "## 1 Data Cleaning"
   ]
  },
  {
   "cell_type": "markdown",
   "id": "aa07476f",
   "metadata": {},
   "source": [
    "In this section you can do all the Data cleaning part of all necessary imputations and treatments\n",
    "\n",
    "\n",
    "\n",
    "\n",
    "\n",
    "\n",
    "\n",
    "\n",
    "\n",
    "\n",
    "\n",
    "\n",
    "\n",
    "\n",
    "\n",
    "\n",
    "\n",
    "\n",
    "\n",
    "\n",
    "\n"
   ]
  },
  {
   "cell_type": "markdown",
   "id": "b5b309c3",
   "metadata": {},
   "source": [
    "## 2 Exploratory Data Analyis"
   ]
  },
  {
   "cell_type": "markdown",
   "id": "ab955d0a",
   "metadata": {},
   "source": [
    "In this section you can talk about the plots and the insights you have generated from the data\n",
    "\n",
    "\n",
    "\n",
    "\n",
    "\n",
    "\n",
    "\n",
    "\n",
    "\n",
    "\n",
    "\n",
    "\n",
    "\n",
    "\n",
    "\n",
    "\n",
    "\n",
    "\n",
    "\n",
    "\n",
    "\n",
    "\n",
    "\n"
   ]
  },
  {
   "cell_type": "markdown",
   "id": "d7d85628",
   "metadata": {},
   "source": [
    "## 3 Model Building"
   ]
  },
  {
   "cell_type": "markdown",
   "id": "31a1f68c",
   "metadata": {},
   "source": [
    "In this you can build various ML models and try tuning the parameters involved to achieve better score"
   ]
  },
  {
   "cell_type": "markdown",
   "id": "8b1cf2ac",
   "metadata": {},
   "source": [
    "## Model 1"
   ]
  },
  {
   "cell_type": "code",
   "execution_count": null,
   "id": "ef5c751a",
   "metadata": {},
   "outputs": [],
   "source": [
    "\n",
    "\n"
   ]
  },
  {
   "cell_type": "markdown",
   "id": "ea85664f",
   "metadata": {},
   "source": [
    "## Model 2 "
   ]
  },
  {
   "cell_type": "code",
   "execution_count": null,
   "id": "755438e0",
   "metadata": {},
   "outputs": [],
   "source": [
    "\n",
    "\n"
   ]
  },
  {
   "cell_type": "markdown",
   "id": "e70c81e9",
   "metadata": {},
   "source": [
    "## Model 3"
   ]
  },
  {
   "cell_type": "code",
   "execution_count": null,
   "id": "6c1ff1e5",
   "metadata": {},
   "outputs": [],
   "source": [
    "\n",
    "\n"
   ]
  },
  {
   "cell_type": "markdown",
   "id": "135c1058",
   "metadata": {},
   "source": [
    "## Descriptive Section"
   ]
  },
  {
   "cell_type": "markdown",
   "id": "99111297",
   "metadata": {},
   "source": [
    "### Q) Once you have a mechanism to estimate the “level of default”, please describe how the financial institution must use that mechanism to decide whether to approve or decline the prospect for the loan they are applying for. \n",
    "##### (This is an open-ended question and you are free to come up with a detailed explanation basis the analysis, model building exercise you have carried out)"
   ]
  },
  {
   "cell_type": "code",
   "execution_count": null,
   "id": "6c6fc2ea",
   "metadata": {},
   "outputs": [],
   "source": []
  }
 ],
 "metadata": {
  "kernelspec": {
   "display_name": "Python 3",
   "language": "python",
   "name": "python3"
  },
  "language_info": {
   "codemirror_mode": {
    "name": "ipython",
    "version": 3
   },
   "file_extension": ".py",
   "mimetype": "text/x-python",
   "name": "python",
   "nbconvert_exporter": "python",
   "pygments_lexer": "ipython3",
   "version": "3.8.8"
  }
 },
 "nbformat": 4,
 "nbformat_minor": 5
}
