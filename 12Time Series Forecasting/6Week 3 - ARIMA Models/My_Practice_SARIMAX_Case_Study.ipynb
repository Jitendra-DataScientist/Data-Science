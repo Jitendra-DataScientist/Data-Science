{
 "cells": [
  {
   "cell_type": "code",
   "execution_count": 1,
   "metadata": {
    "ExecuteTime": {
     "end_time": "2020-05-29T09:40:59.373715Z",
     "start_time": "2020-05-29T09:40:56.363413Z"
    },
    "colab": {
     "base_uri": "https://localhost:8080/",
     "height": 71
    },
    "colab_type": "code",
    "id": "d8PFoEDn1Jxf",
    "outputId": "bc499fd3-96af-4790-fa03-5c7729c963f1"
   },
   "outputs": [
    {
     "name": "stderr",
     "output_type": "stream",
     "text": [
      "C:\\Users\\cools\\AppData\\Local\\Temp/ipykernel_14488/3397153266.py:5: FutureWarning: The pandas.datetime class is deprecated and will be removed from pandas in a future version. Import from datetime module instead.\n",
      "  from pandas import datetime\n"
     ]
    }
   ],
   "source": [
    "# loading packages\n",
    "# basic + dates \n",
    "import numpy as np\n",
    "import pandas as pd\n",
    "from pandas import datetime\n",
    "\n",
    "# data visualization\n",
    "import matplotlib.pyplot as plt\n",
    "import seaborn as sns # advanced vizs\n",
    "%matplotlib inline\n",
    "\n",
    "# statistics\n",
    "from statsmodels.distributions.empirical_distribution import ECDF\n",
    "\n",
    "# time series analysis\n",
    "from statsmodels.tsa.seasonal import seasonal_decompose\n",
    "from statsmodels.graphics.tsaplots import plot_acf, plot_pacf\n",
    "\n",
    "import warnings\n",
    "warnings.filterwarnings(\"ignore\")"
   ]
  },
  {
   "cell_type": "markdown",
   "metadata": {
    "colab_type": "text",
    "id": "LSN6gKO31JxX"
   },
   "source": [
    "Store id \n",
    "Day of Week \n",
    "Date\n",
    "Customers: the number of customers on a given day.(Target Variable)\n",
    "Open: an indicator for whether the store was open: 0 = closed, 1 = open.\n",
    "Promo: indicates whether a store is running a promo on that day.\n",
    "StateHoliday: indicates a state holiday. Normally all stores, with few exceptions, are closed on state holidays. This has value as \"0\", \"a\", \"b\", \"c\"\n",
    "SchoolHoliday: indicates if the (Store, Date) was affected by the closure of public schools.\n"
   ]
  },
  {
   "cell_type": "code",
   "execution_count": 2,
   "metadata": {
    "ExecuteTime": {
     "end_time": "2020-05-29T09:41:13.495394Z",
     "start_time": "2020-05-29T09:40:59.377973Z"
    },
    "colab": {},
    "colab_type": "code",
    "id": "bksFCfWS1Jxs"
   },
   "outputs": [],
   "source": [
    "# importing data\n",
    "import os\n",
    "\n",
    "Store50 = pd.read_excel(\"Store_50.xlsx\", parse_dates = True, index_col = 'Date')"
   ]
  },
  {
   "cell_type": "code",
   "execution_count": 3,
   "metadata": {
    "ExecuteTime": {
     "end_time": "2020-05-29T09:41:13.536975Z",
     "start_time": "2020-05-29T09:41:13.500975Z"
    },
    "colab": {
     "base_uri": "https://localhost:8080/",
     "height": 235
    },
    "colab_type": "code",
    "id": "8kqBDtZQ1Jx6",
    "outputId": "fb3553bc-1fed-4da2-99d5-dff6b75c6111"
   },
   "outputs": [
    {
     "data": {
      "text/html": [
       "<div>\n",
       "<style scoped>\n",
       "    .dataframe tbody tr th:only-of-type {\n",
       "        vertical-align: middle;\n",
       "    }\n",
       "\n",
       "    .dataframe tbody tr th {\n",
       "        vertical-align: top;\n",
       "    }\n",
       "\n",
       "    .dataframe thead th {\n",
       "        text-align: right;\n",
       "    }\n",
       "</style>\n",
       "<table border=\"1\" class=\"dataframe\">\n",
       "  <thead>\n",
       "    <tr style=\"text-align: right;\">\n",
       "      <th></th>\n",
       "      <th>Store</th>\n",
       "      <th>Day Of Week</th>\n",
       "      <th>Customers</th>\n",
       "      <th>Open</th>\n",
       "      <th>Promotion</th>\n",
       "      <th>State Holiday</th>\n",
       "      <th>School Holiday</th>\n",
       "    </tr>\n",
       "    <tr>\n",
       "      <th>Date</th>\n",
       "      <th></th>\n",
       "      <th></th>\n",
       "      <th></th>\n",
       "      <th></th>\n",
       "      <th></th>\n",
       "      <th></th>\n",
       "      <th></th>\n",
       "    </tr>\n",
       "  </thead>\n",
       "  <tbody>\n",
       "    <tr>\n",
       "      <th>2016-05-31</th>\n",
       "      <td>1044</td>\n",
       "      <td>1</td>\n",
       "      <td>884</td>\n",
       "      <td>1</td>\n",
       "      <td>1</td>\n",
       "      <td>0</td>\n",
       "      <td>0</td>\n",
       "    </tr>\n",
       "    <tr>\n",
       "      <th>2016-05-31</th>\n",
       "      <td>1041</td>\n",
       "      <td>1</td>\n",
       "      <td>1032</td>\n",
       "      <td>1</td>\n",
       "      <td>1</td>\n",
       "      <td>0</td>\n",
       "      <td>1</td>\n",
       "    </tr>\n",
       "    <tr>\n",
       "      <th>2016-05-31</th>\n",
       "      <td>1036</td>\n",
       "      <td>1</td>\n",
       "      <td>1070</td>\n",
       "      <td>1</td>\n",
       "      <td>1</td>\n",
       "      <td>0</td>\n",
       "      <td>0</td>\n",
       "    </tr>\n",
       "    <tr>\n",
       "      <th>2016-05-31</th>\n",
       "      <td>1047</td>\n",
       "      <td>1</td>\n",
       "      <td>2043</td>\n",
       "      <td>1</td>\n",
       "      <td>1</td>\n",
       "      <td>0</td>\n",
       "      <td>0</td>\n",
       "    </tr>\n",
       "    <tr>\n",
       "      <th>2016-05-31</th>\n",
       "      <td>1012</td>\n",
       "      <td>1</td>\n",
       "      <td>1239</td>\n",
       "      <td>1</td>\n",
       "      <td>1</td>\n",
       "      <td>0</td>\n",
       "      <td>0</td>\n",
       "    </tr>\n",
       "  </tbody>\n",
       "</table>\n",
       "</div>"
      ],
      "text/plain": [
       "            Store  Day Of Week  Customers  Open  Promotion State Holiday  \\\n",
       "Date                                                                       \n",
       "2016-05-31   1044            1        884     1          1             0   \n",
       "2016-05-31   1041            1       1032     1          1             0   \n",
       "2016-05-31   1036            1       1070     1          1             0   \n",
       "2016-05-31   1047            1       2043     1          1             0   \n",
       "2016-05-31   1012            1       1239     1          1             0   \n",
       "\n",
       "            School Holiday  \n",
       "Date                        \n",
       "2016-05-31               0  \n",
       "2016-05-31               1  \n",
       "2016-05-31               0  \n",
       "2016-05-31               0  \n",
       "2016-05-31               0  "
      ]
     },
     "execution_count": 3,
     "metadata": {},
     "output_type": "execute_result"
    }
   ],
   "source": [
    "Store50.head()"
   ]
  },
  {
   "cell_type": "code",
   "execution_count": 4,
   "metadata": {
    "ExecuteTime": {
     "end_time": "2020-05-29T09:41:13.680476Z",
     "start_time": "2020-05-29T09:41:13.542078Z"
    }
   },
   "outputs": [
    {
     "name": "stdout",
     "output_type": "stream",
     "text": [
      "The number of rows:  43326 \n",
      "The number of columns:  7\n"
     ]
    }
   ],
   "source": [
    "print(\"The number of rows: \",Store50.shape[0], \"\\n\"\"The number of columns: \",Store50.shape[1])"
   ]
  },
  {
   "cell_type": "code",
   "execution_count": 5,
   "metadata": {
    "ExecuteTime": {
     "end_time": "2020-05-29T09:41:13.845220Z",
     "start_time": "2020-05-29T09:41:13.684152Z"
    }
   },
   "outputs": [],
   "source": [
    "Store50_1044 = Store50[Store50.Store == 1044]['Customers']. sort_index(ascending=True)"
   ]
  },
  {
   "cell_type": "code",
   "execution_count": 6,
   "metadata": {
    "ExecuteTime": {
     "end_time": "2020-05-29T09:41:13.990569Z",
     "start_time": "2020-05-29T09:41:13.849258Z"
    }
   },
   "outputs": [
    {
     "data": {
      "text/plain": [
       "Date\n",
       "2014-01-01      0\n",
       "2014-01-02    473\n",
       "2014-01-03    483\n",
       "2014-01-04      0\n",
       "2014-01-05      0\n",
       "Name: Customers, dtype: int64"
      ]
     },
     "execution_count": 6,
     "metadata": {},
     "output_type": "execute_result"
    }
   ],
   "source": [
    "Store50_1044.head()"
   ]
  },
  {
   "cell_type": "code",
   "execution_count": 7,
   "metadata": {
    "ExecuteTime": {
     "end_time": "2020-05-29T09:41:14.594614Z",
     "start_time": "2020-05-29T09:41:13.994974Z"
    },
    "colab": {
     "base_uri": "https://localhost:8080/",
     "height": 501
    },
    "colab_type": "code",
    "id": "KJMZqRrb1J3d",
    "outputId": "d0d6eda3-7e03-496b-d8df-0d5b994715f9"
   },
   "outputs": [
    {
     "data": {
      "image/png": "[encoded data removed]",
      "text/plain": [
       "<Figure size 864x576 with 1 Axes>"
      ]
     },
     "metadata": {
      "needs_background": "light"
     },
     "output_type": "display_data"
    }
   ],
   "source": [
    "plt.figure(figsize=(12,8))\n",
    "plot_acf(Store50_1044,lags=50,  ax=plt.gca())\n",
    "plt.show()"
   ]
  },
  {
   "cell_type": "code",
   "execution_count": 8,
   "metadata": {
    "ExecuteTime": {
     "end_time": "2020-05-29T09:41:15.156209Z",
     "start_time": "2020-05-29T09:41:14.599660Z"
    },
    "colab": {
     "base_uri": "https://localhost:8080/",
     "height": 501
    },
    "colab_type": "code",
    "id": "t5SPt6-g1J3l",
    "outputId": "e3ba8285-fb03-4dd0-b07c-72323f341f67"
   },
   "outputs": [
    {
     "data": {
      "image/png": "[encoded data removed]",
      "text/plain": [
       "<Figure size 864x576 with 1 Axes>"
      ]
     },
     "metadata": {
      "needs_background": "light"
     },
     "output_type": "display_data"
    }
   ],
   "source": [
    "plt.figure(figsize=(12,8))\n",
    "plot_pacf(Store50_1044, lags=50, ax=plt.gca())\n",
    "plt.show()"
   ]
  },
  {
   "cell_type": "code",
   "execution_count": 9,
   "metadata": {
    "ExecuteTime": {
     "end_time": "2020-05-29T09:41:15.172074Z",
     "start_time": "2020-05-29T09:41:15.162604Z"
    },
    "colab": {},
    "colab_type": "code",
    "id": "siN13Nqr1J3w"
   },
   "outputs": [],
   "source": [
    "## Seasonality after certain lags is visible. Every 7th day"
   ]
  },
  {
   "cell_type": "code",
   "execution_count": 10,
   "metadata": {
    "ExecuteTime": {
     "end_time": "2020-05-29T09:41:15.302046Z",
     "start_time": "2020-05-29T09:41:15.176124Z"
    }
   },
   "outputs": [],
   "source": [
    "### Data is being read again for model. This time no index is created while loading the data. First time when the data, index was used\n",
    "## so that specific Explortory Data Analysis can be done."
   ]
  },
  {
   "cell_type": "code",
   "execution_count": 11,
   "metadata": {
    "ExecuteTime": {
     "end_time": "2020-05-29T09:41:29.270582Z",
     "start_time": "2020-05-29T09:41:15.303043Z"
    },
    "colab": {},
    "colab_type": "code",
    "id": "rwyD7-pQ1J3-"
   },
   "outputs": [],
   "source": [
    "Store50 = pd.read_excel(\"Store_50.xlsx\",parse_dates=True)\n",
    "# Extract customers only for store 1044 and the model would be built for this customer \n",
    "Store50_1044 = Store50[Store50.Store == 1044]\n",
    "# reverse to the order: from 2013 to 2015\n",
    "Store50_1044 = Store50_1044.sort_index(ascending = False)\n",
    "\n"
   ]
  },
  {
   "cell_type": "code",
   "execution_count": 12,
   "metadata": {
    "ExecuteTime": {
     "end_time": "2020-05-29T09:41:29.310239Z",
     "start_time": "2020-05-29T09:41:29.270582Z"
    },
    "colab": {
     "base_uri": "https://localhost:8080/",
     "height": 204
    },
    "colab_type": "code",
    "id": "zlnlFZ4b1J4O",
    "outputId": "ab90c345-017d-4681-efb1-928e4bf56d1a"
   },
   "outputs": [
    {
     "data": {
      "text/html": [
       "<div>\n",
       "<style scoped>\n",
       "    .dataframe tbody tr th:only-of-type {\n",
       "        vertical-align: middle;\n",
       "    }\n",
       "\n",
       "    .dataframe tbody tr th {\n",
       "        vertical-align: top;\n",
       "    }\n",
       "\n",
       "    .dataframe thead th {\n",
       "        text-align: right;\n",
       "    }\n",
       "</style>\n",
       "<table border=\"1\" class=\"dataframe\">\n",
       "  <thead>\n",
       "    <tr style=\"text-align: right;\">\n",
       "      <th></th>\n",
       "      <th>Store</th>\n",
       "      <th>Day Of Week</th>\n",
       "      <th>Date</th>\n",
       "      <th>Customers</th>\n",
       "      <th>Open</th>\n",
       "      <th>Promotion</th>\n",
       "      <th>State Holiday</th>\n",
       "      <th>School Holiday</th>\n",
       "    </tr>\n",
       "  </thead>\n",
       "  <tbody>\n",
       "    <tr>\n",
       "      <th>43275</th>\n",
       "      <td>1044</td>\n",
       "      <td>2</td>\n",
       "      <td>2014-01-01 00:00:00</td>\n",
       "      <td>0</td>\n",
       "      <td>0</td>\n",
       "      <td>0</td>\n",
       "      <td>a</td>\n",
       "      <td>1</td>\n",
       "    </tr>\n",
       "    <tr>\n",
       "      <th>43224</th>\n",
       "      <td>1044</td>\n",
       "      <td>3</td>\n",
       "      <td>2014-02-01 00:00:00</td>\n",
       "      <td>481</td>\n",
       "      <td>1</td>\n",
       "      <td>0</td>\n",
       "      <td>0</td>\n",
       "      <td>1</td>\n",
       "    </tr>\n",
       "    <tr>\n",
       "      <th>43173</th>\n",
       "      <td>1044</td>\n",
       "      <td>4</td>\n",
       "      <td>2014-03-01 00:00:00</td>\n",
       "      <td>453</td>\n",
       "      <td>1</td>\n",
       "      <td>0</td>\n",
       "      <td>0</td>\n",
       "      <td>1</td>\n",
       "    </tr>\n",
       "    <tr>\n",
       "      <th>43122</th>\n",
       "      <td>1044</td>\n",
       "      <td>5</td>\n",
       "      <td>2014-04-01 00:00:00</td>\n",
       "      <td>497</td>\n",
       "      <td>1</td>\n",
       "      <td>0</td>\n",
       "      <td>0</td>\n",
       "      <td>1</td>\n",
       "    </tr>\n",
       "    <tr>\n",
       "      <th>43071</th>\n",
       "      <td>1044</td>\n",
       "      <td>6</td>\n",
       "      <td>2014-05-01 00:00:00</td>\n",
       "      <td>450</td>\n",
       "      <td>1</td>\n",
       "      <td>0</td>\n",
       "      <td>0</td>\n",
       "      <td>0</td>\n",
       "    </tr>\n",
       "  </tbody>\n",
       "</table>\n",
       "</div>"
      ],
      "text/plain": [
       "       Store  Day Of Week                 Date  Customers  Open  Promotion  \\\n",
       "43275   1044            2  2014-01-01 00:00:00          0     0          0   \n",
       "43224   1044            3  2014-02-01 00:00:00        481     1          0   \n",
       "43173   1044            4  2014-03-01 00:00:00        453     1          0   \n",
       "43122   1044            5  2014-04-01 00:00:00        497     1          0   \n",
       "43071   1044            6  2014-05-01 00:00:00        450     1          0   \n",
       "\n",
       "      State Holiday  School Holiday  \n",
       "43275             a               1  \n",
       "43224             0               1  \n",
       "43173             0               1  \n",
       "43122             0               1  \n",
       "43071             0               0  "
      ]
     },
     "execution_count": 12,
     "metadata": {},
     "output_type": "execute_result"
    }
   ],
   "source": [
    "Store50_1044.head()"
   ]
  },
  {
   "cell_type": "code",
   "execution_count": 13,
   "metadata": {
    "ExecuteTime": {
     "end_time": "2020-05-29T09:41:29.489035Z",
     "start_time": "2020-05-29T09:41:29.313234Z"
    },
    "colab": {},
    "colab_type": "code",
    "id": "qLANKBcX1J4a"
   },
   "outputs": [],
   "source": [
    "Store50_1044.rename(columns = {\"Day Of Week\": \"DayOfWeek\", \"State Holiday\":\"StateHoliday\",\"School Holiday\":\"SchoolHoliday\"}, \n",
    "                      inplace = True) "
   ]
  },
  {
   "cell_type": "code",
   "execution_count": 14,
   "metadata": {
    "ExecuteTime": {
     "end_time": "2020-05-29T09:41:29.776696Z",
     "start_time": "2020-05-29T09:41:29.493375Z"
    },
    "colab": {},
    "colab_type": "code",
    "id": "VKLzzqrG1J4l"
   },
   "outputs": [],
   "source": [
    "Store50_1044['Date'] = pd.to_datetime(Store50_1044['Date'])\n"
   ]
  },
  {
   "cell_type": "code",
   "execution_count": 15,
   "metadata": {
    "ExecuteTime": {
     "end_time": "2020-05-29T09:41:29.810327Z",
     "start_time": "2020-05-29T09:41:29.781877Z"
    },
    "colab": {},
    "colab_type": "code",
    "id": "f3uttVaZ1J4u"
   },
   "outputs": [],
   "source": [
    "Store50_1044['year']= Store50_1044['Date'].dt.year"
   ]
  },
  {
   "cell_type": "code",
   "execution_count": 16,
   "metadata": {
    "ExecuteTime": {
     "end_time": "2020-05-29T09:41:29.942381Z",
     "start_time": "2020-05-29T09:41:29.813358Z"
    },
    "colab": {
     "base_uri": "https://localhost:8080/",
     "height": 204
    },
    "colab_type": "code",
    "id": "i3FkqsoY1J45",
    "outputId": "f5530492-dea3-4aa2-dd7d-1fbe16d8a7ee"
   },
   "outputs": [
    {
     "data": {
      "text/html": [
       "<div>\n",
       "<style scoped>\n",
       "    .dataframe tbody tr th:only-of-type {\n",
       "        vertical-align: middle;\n",
       "    }\n",
       "\n",
       "    .dataframe tbody tr th {\n",
       "        vertical-align: top;\n",
       "    }\n",
       "\n",
       "    .dataframe thead th {\n",
       "        text-align: right;\n",
       "    }\n",
       "</style>\n",
       "<table border=\"1\" class=\"dataframe\">\n",
       "  <thead>\n",
       "    <tr style=\"text-align: right;\">\n",
       "      <th></th>\n",
       "      <th>Store</th>\n",
       "      <th>DayOfWeek</th>\n",
       "      <th>Date</th>\n",
       "      <th>Customers</th>\n",
       "      <th>Open</th>\n",
       "      <th>Promotion</th>\n",
       "      <th>StateHoliday</th>\n",
       "      <th>SchoolHoliday</th>\n",
       "      <th>year</th>\n",
       "    </tr>\n",
       "  </thead>\n",
       "  <tbody>\n",
       "    <tr>\n",
       "      <th>43275</th>\n",
       "      <td>1044</td>\n",
       "      <td>2</td>\n",
       "      <td>2014-01-01</td>\n",
       "      <td>0</td>\n",
       "      <td>0</td>\n",
       "      <td>0</td>\n",
       "      <td>a</td>\n",
       "      <td>1</td>\n",
       "      <td>2014</td>\n",
       "    </tr>\n",
       "    <tr>\n",
       "      <th>43224</th>\n",
       "      <td>1044</td>\n",
       "      <td>3</td>\n",
       "      <td>2014-02-01</td>\n",
       "      <td>481</td>\n",
       "      <td>1</td>\n",
       "      <td>0</td>\n",
       "      <td>0</td>\n",
       "      <td>1</td>\n",
       "      <td>2014</td>\n",
       "    </tr>\n",
       "    <tr>\n",
       "      <th>43173</th>\n",
       "      <td>1044</td>\n",
       "      <td>4</td>\n",
       "      <td>2014-03-01</td>\n",
       "      <td>453</td>\n",
       "      <td>1</td>\n",
       "      <td>0</td>\n",
       "      <td>0</td>\n",
       "      <td>1</td>\n",
       "      <td>2014</td>\n",
       "    </tr>\n",
       "    <tr>\n",
       "      <th>43122</th>\n",
       "      <td>1044</td>\n",
       "      <td>5</td>\n",
       "      <td>2014-04-01</td>\n",
       "      <td>497</td>\n",
       "      <td>1</td>\n",
       "      <td>0</td>\n",
       "      <td>0</td>\n",
       "      <td>1</td>\n",
       "      <td>2014</td>\n",
       "    </tr>\n",
       "    <tr>\n",
       "      <th>43071</th>\n",
       "      <td>1044</td>\n",
       "      <td>6</td>\n",
       "      <td>2014-05-01</td>\n",
       "      <td>450</td>\n",
       "      <td>1</td>\n",
       "      <td>0</td>\n",
       "      <td>0</td>\n",
       "      <td>0</td>\n",
       "      <td>2014</td>\n",
       "    </tr>\n",
       "  </tbody>\n",
       "</table>\n",
       "</div>"
      ],
      "text/plain": [
       "       Store  DayOfWeek       Date  Customers  Open  Promotion StateHoliday  \\\n",
       "43275   1044          2 2014-01-01          0     0          0            a   \n",
       "43224   1044          3 2014-02-01        481     1          0            0   \n",
       "43173   1044          4 2014-03-01        453     1          0            0   \n",
       "43122   1044          5 2014-04-01        497     1          0            0   \n",
       "43071   1044          6 2014-05-01        450     1          0            0   \n",
       "\n",
       "       SchoolHoliday  year  \n",
       "43275              1  2014  \n",
       "43224              1  2014  \n",
       "43173              1  2014  \n",
       "43122              1  2014  \n",
       "43071              0  2014  "
      ]
     },
     "execution_count": 16,
     "metadata": {},
     "output_type": "execute_result"
    }
   ],
   "source": [
    "Store50_1044.head()"
   ]
  },
  {
   "cell_type": "code",
   "execution_count": 17,
   "metadata": {
    "ExecuteTime": {
     "end_time": "2020-05-29T09:41:30.044313Z",
     "start_time": "2020-05-29T09:41:29.946373Z"
    },
    "colab": {},
    "colab_type": "code",
    "id": "kSh1TDQg1J5D"
   },
   "outputs": [],
   "source": [
    "train=Store50_1044[Store50_1044['year'] !=2016]\n",
    "test=Store50_1044[Store50_1044['year'] ==2016]"
   ]
  },
  {
   "cell_type": "code",
   "execution_count": 18,
   "metadata": {
    "ExecuteTime": {
     "end_time": "2020-05-29T09:41:30.143590Z",
     "start_time": "2020-05-29T09:41:30.045310Z"
    },
    "colab": {},
    "colab_type": "code",
    "id": "T27GFRRw1J5N"
   },
   "outputs": [],
   "source": [
    "train_mod=train[['Date','Customers']]\n",
    "test_mod=train[['Date','Customers']]"
   ]
  },
  {
   "cell_type": "code",
   "execution_count": 19,
   "metadata": {
    "ExecuteTime": {
     "end_time": "2020-05-29T09:41:30.295383Z",
     "start_time": "2020-05-29T09:41:30.147627Z"
    },
    "colab": {
     "base_uri": "https://localhost:8080/",
     "height": 51
    },
    "colab_type": "code",
    "id": "So15h7Me1J5c",
    "outputId": "b28f96dd-4f9e-4ead-ebac-69ff898e120b"
   },
   "outputs": [
    {
     "name": "stdout",
     "output_type": "stream",
     "text": [
      "(730, 9)\n",
      "(152, 9)\n"
     ]
    }
   ],
   "source": [
    "print(train.shape)\n",
    "print(test.shape)"
   ]
  },
  {
   "cell_type": "code",
   "execution_count": 20,
   "metadata": {
    "ExecuteTime": {
     "end_time": "2020-05-29T09:41:30.427519Z",
     "start_time": "2020-05-29T09:41:30.295383Z"
    },
    "colab": {},
    "colab_type": "code",
    "id": "RORbasuj1J5k"
   },
   "outputs": [],
   "source": [
    "## Test for stationarity of the series - Dicky Fuller test\n",
    "\n",
    "from statsmodels.tsa.stattools import adfuller\n",
    "def test_stationarity(timeseries):\n",
    "    \n",
    "    #Determing rolling statistics\n",
    "    rolmean = timeseries.rolling(window=7).mean()\n",
    "    rolstd = timeseries.rolling(window=7).std()\n",
    "\n",
    "    #Plot rolling statistics:\n",
    "    orig = plt.plot(timeseries, color='blue',label='Original')\n",
    "    mean = plt.plot(rolmean, color='red', label='Rolling Mean')\n",
    "    std = plt.plot(rolstd, color='black', label = 'Rolling Std')\n",
    "    plt.legend(loc='best')\n",
    "    plt.title('Rolling Mean & Standard Deviation')\n",
    "    plt.show(block=False)\n",
    "    \n",
    "    #Perform Dickey-Fuller test:\n",
    "    print ('Results of Dickey-Fuller Test:')\n",
    "    dftest = adfuller(timeseries, autolag='AIC')\n",
    "    dfoutput = pd.Series(dftest[0:4], index=['Test Statistic','p-value','#Lags Used','Number of Observations Used'])\n",
    "    for key,value in dftest[4].items():\n",
    "        dfoutput['Critical Value (%s)'%key] = value\n",
    "    print (dfoutput,'\\n')"
   ]
  },
  {
   "cell_type": "code",
   "execution_count": 21,
   "metadata": {
    "ExecuteTime": {
     "end_time": "2020-05-29T09:41:31.186925Z",
     "start_time": "2020-05-29T09:41:30.429518Z"
    },
    "colab": {
     "base_uri": "https://localhost:8080/",
     "height": 604
    },
    "colab_type": "code",
    "id": "gs-Lwhns1J5r",
    "outputId": "e5b1c4c8-7b00-438d-9d7d-cdf70c77ed42"
   },
   "outputs": [
    {
     "data": {
      "image/png": "[encoded data removed]",
      "text/plain": [
       "<Figure size 432x288 with 1 Axes>"
      ]
     },
     "metadata": {
      "needs_background": "light"
     },
     "output_type": "display_data"
    },
    {
     "name": "stdout",
     "output_type": "stream",
     "text": [
      "Results of Dickey-Fuller Test:\n",
      "Test Statistic                  -2.872975\n",
      "p-value                          0.048582\n",
      "#Lags Used                      20.000000\n",
      "Number of Observations Used    709.000000\n",
      "Critical Value (1%)             -3.439607\n",
      "Critical Value (5%)             -2.865625\n",
      "Critical Value (10%)            -2.568945\n",
      "dtype: float64 \n",
      "\n"
     ]
    }
   ],
   "source": [
    "test_stationarity(train['Customers'])"
   ]
  },
  {
   "cell_type": "code",
   "execution_count": 22,
   "metadata": {
    "ExecuteTime": {
     "end_time": "2020-05-29T09:41:31.202842Z",
     "start_time": "2020-05-29T09:41:31.188924Z"
    },
    "colab": {},
    "colab_type": "code",
    "id": "1yihHf6O1J5y"
   },
   "outputs": [],
   "source": [
    "## Series is stationary and hence no need for differentiation"
   ]
  },
  {
   "cell_type": "code",
   "execution_count": 23,
   "metadata": {
    "ExecuteTime": {
     "end_time": "2020-05-29T09:41:31.310014Z",
     "start_time": "2020-05-29T09:41:31.213362Z"
    },
    "colab": {
     "base_uri": "https://localhost:8080/",
     "height": 102
    },
    "colab_type": "code",
    "id": "GIhmfjrT1J54",
    "outputId": "504a2fc5-60ff-4bc0-ede5-fc45ec7fe7b8"
   },
   "outputs": [
    {
     "name": "stdout",
     "output_type": "stream",
     "text": [
      "Examples of parameter combinations for Model...\n",
      "Model: (0, 0, 1)(0, 0, 1, 7)\n",
      "Model: (0, 0, 1)(0, 0, 2, 7)\n",
      "Model: (0, 0, 2)(1, 0, 0, 7)\n",
      "Model: (0, 0, 2)(1, 0, 1, 7)\n"
     ]
    }
   ],
   "source": [
    "import itertools\n",
    "p = q = range(0, 3)\n",
    "d= range(0,1)\n",
    "pdq = list(itertools.product(p, d, q))\n",
    "model_pdq = [(x[0], x[1], x[2], 7) for x in list(itertools.product(p, d, q))]\n",
    "print('Examples of parameter combinations for Model...')\n",
    "print('Model: {}{}'.format(pdq[1], model_pdq[1]))\n",
    "print('Model: {}{}'.format(pdq[1], model_pdq[2]))\n",
    "print('Model: {}{}'.format(pdq[2], model_pdq[3]))\n",
    "print('Model: {}{}'.format(pdq[2], model_pdq[4]))"
   ]
  },
  {
   "cell_type": "code",
   "execution_count": 24,
   "metadata": {
    "ExecuteTime": {
     "end_time": "2020-05-29T09:41:31.439876Z",
     "start_time": "2020-05-29T09:41:31.317564Z"
    }
   },
   "outputs": [
    {
     "name": "stdout",
     "output_type": "stream",
     "text": [
      "Empty DataFrame\n",
      "Columns: [param, AIC]\n",
      "Index: []\n"
     ]
    }
   ],
   "source": [
    "# Creating an empty Dataframe with column names only\n",
    "ARIMA_AIC = pd.DataFrame(columns=['param', 'AIC'])\n",
    "print(ARIMA_AIC)\n"
   ]
  },
  {
   "cell_type": "code",
   "execution_count": 25,
   "metadata": {
    "ExecuteTime": {
     "end_time": "2020-05-29T09:41:31.548299Z",
     "start_time": "2020-05-29T09:41:31.444623Z"
    }
   },
   "outputs": [
    {
     "data": {
      "text/plain": [
       "43275      0\n",
       "43224    481\n",
       "43173    453\n",
       "43122    497\n",
       "43071    450\n",
       "        ... \n",
       "7920     537\n",
       "7878       0\n",
       "7836     667\n",
       "7794     668\n",
       "7752     462\n",
       "Name: Customers, Length: 730, dtype: int64"
      ]
     },
     "execution_count": 25,
     "metadata": {},
     "output_type": "execute_result"
    }
   ],
   "source": [
    "train['Customers']"
   ]
  },
  {
   "cell_type": "code",
   "execution_count": 26,
   "metadata": {
    "ExecuteTime": {
     "end_time": "2020-05-29T09:41:36.753045Z",
     "start_time": "2020-05-29T09:41:31.551315Z"
    }
   },
   "outputs": [
    {
     "name": "stdout",
     "output_type": "stream",
     "text": [
      "ARIMA(0, 0, 0) - AIC:10018.497075995292\n",
      "ARIMA(0, 0, 1) - AIC:9999.149162156038\n",
      "ARIMA(0, 0, 2) - AIC:9993.000090066005\n",
      "ARIMA(1, 0, 0) - AIC:10004.023773703677\n",
      "ARIMA(1, 0, 1) - AIC:9994.564290496734\n",
      "ARIMA(1, 0, 2) - AIC:9961.499492485385\n",
      "ARIMA(2, 0, 0) - AIC:9993.938366710625\n",
      "ARIMA(2, 0, 1) - AIC:9995.557870420886\n",
      "ARIMA(2, 0, 2) - AIC:9787.488725139752\n"
     ]
    }
   ],
   "source": [
    "from statsmodels.tsa.arima_model import ARIMA\n",
    "\n",
    "for param in pdq:\n",
    "    ARIMA_model = ARIMA(train['Customers'],order=param).fit()\n",
    "    print('ARIMA{} - AIC:{}'.format(param,ARIMA_model.aic))\n",
    "    ARIMA_AIC = ARIMA_AIC.append({'param':param, 'AIC': ARIMA_model.aic}, ignore_index=True)"
   ]
  },
  {
   "cell_type": "code",
   "execution_count": 27,
   "metadata": {
    "ExecuteTime": {
     "end_time": "2020-05-29T09:41:36.778147Z",
     "start_time": "2020-05-29T09:41:36.754043Z"
    }
   },
   "outputs": [
    {
     "data": {
      "text/html": [
       "<div>\n",
       "<style scoped>\n",
       "    .dataframe tbody tr th:only-of-type {\n",
       "        vertical-align: middle;\n",
       "    }\n",
       "\n",
       "    .dataframe tbody tr th {\n",
       "        vertical-align: top;\n",
       "    }\n",
       "\n",
       "    .dataframe thead th {\n",
       "        text-align: right;\n",
       "    }\n",
       "</style>\n",
       "<table border=\"1\" class=\"dataframe\">\n",
       "  <thead>\n",
       "    <tr style=\"text-align: right;\">\n",
       "      <th></th>\n",
       "      <th>param</th>\n",
       "      <th>AIC</th>\n",
       "    </tr>\n",
       "  </thead>\n",
       "  <tbody>\n",
       "    <tr>\n",
       "      <th>8</th>\n",
       "      <td>(2, 0, 2)</td>\n",
       "      <td>9787.488725</td>\n",
       "    </tr>\n",
       "    <tr>\n",
       "      <th>5</th>\n",
       "      <td>(1, 0, 2)</td>\n",
       "      <td>9961.499492</td>\n",
       "    </tr>\n",
       "    <tr>\n",
       "      <th>2</th>\n",
       "      <td>(0, 0, 2)</td>\n",
       "      <td>9993.000090</td>\n",
       "    </tr>\n",
       "    <tr>\n",
       "      <th>6</th>\n",
       "      <td>(2, 0, 0)</td>\n",
       "      <td>9993.938367</td>\n",
       "    </tr>\n",
       "    <tr>\n",
       "      <th>4</th>\n",
       "      <td>(1, 0, 1)</td>\n",
       "      <td>9994.564290</td>\n",
       "    </tr>\n",
       "    <tr>\n",
       "      <th>7</th>\n",
       "      <td>(2, 0, 1)</td>\n",
       "      <td>9995.557870</td>\n",
       "    </tr>\n",
       "    <tr>\n",
       "      <th>1</th>\n",
       "      <td>(0, 0, 1)</td>\n",
       "      <td>9999.149162</td>\n",
       "    </tr>\n",
       "    <tr>\n",
       "      <th>3</th>\n",
       "      <td>(1, 0, 0)</td>\n",
       "      <td>10004.023774</td>\n",
       "    </tr>\n",
       "    <tr>\n",
       "      <th>0</th>\n",
       "      <td>(0, 0, 0)</td>\n",
       "      <td>10018.497076</td>\n",
       "    </tr>\n",
       "  </tbody>\n",
       "</table>\n",
       "</div>"
      ],
      "text/plain": [
       "       param           AIC\n",
       "8  (2, 0, 2)   9787.488725\n",
       "5  (1, 0, 2)   9961.499492\n",
       "2  (0, 0, 2)   9993.000090\n",
       "6  (2, 0, 0)   9993.938367\n",
       "4  (1, 0, 1)   9994.564290\n",
       "7  (2, 0, 1)   9995.557870\n",
       "1  (0, 0, 1)   9999.149162\n",
       "3  (1, 0, 0)  10004.023774\n",
       "0  (0, 0, 0)  10018.497076"
      ]
     },
     "execution_count": 27,
     "metadata": {},
     "output_type": "execute_result"
    }
   ],
   "source": [
    "ARIMA_AIC.sort_values(by='AIC',ascending=True)"
   ]
  },
  {
   "cell_type": "code",
   "execution_count": 28,
   "metadata": {
    "ExecuteTime": {
     "end_time": "2020-05-29T09:41:39.993764Z",
     "start_time": "2020-05-29T09:41:36.780739Z"
    },
    "scrolled": false
   },
   "outputs": [
    {
     "name": "stdout",
     "output_type": "stream",
     "text": [
      "                              ARMA Model Results                              \n",
      "==============================================================================\n",
      "Dep. Variable:              Customers   No. Observations:                  730\n",
      "Model:                     ARMA(2, 2)   Log Likelihood               -4887.744\n",
      "Method:                       css-mle   S.D. of innovations            194.366\n",
      "Date:                Sat, 01 Jan 2022   AIC                           9787.489\n",
      "Time:                        16:58:43   BIC                           9815.047\n",
      "Sample:                             0   HQIC                          9798.121\n",
      "                                                                              \n",
      "===================================================================================\n",
      "                      coef    std err          z      P>|z|      [0.025      0.975]\n",
      "-----------------------------------------------------------------------------------\n",
      "const             464.3628      7.167     64.791      0.000     450.315     478.410\n",
      "ar.L1.Customers    -0.4446      0.001   -624.140      0.000      -0.446      -0.443\n",
      "ar.L2.Customers    -0.9999      0.000  -6374.398      0.000      -1.000      -1.000\n",
      "ma.L1.Customers     0.4354      0.005     81.507      0.000       0.425       0.446\n",
      "ma.L2.Customers     1.0000      0.007    140.228      0.000       0.986       1.014\n",
      "                                    Roots                                    \n",
      "=============================================================================\n",
      "                  Real          Imaginary           Modulus         Frequency\n",
      "-----------------------------------------------------------------------------\n",
      "AR.1           -0.2223           -0.9750j            1.0001           -0.2857\n",
      "AR.2           -0.2223           +0.9750j            1.0001            0.2857\n",
      "MA.1           -0.2177           -0.9760j            1.0000           -0.2849\n",
      "MA.2           -0.2177           +0.9760j            1.0000            0.2849\n",
      "-----------------------------------------------------------------------------\n"
     ]
    }
   ],
   "source": [
    "## ARIMA(2,0,2) has the lowest AIC\n",
    "mod = ARIMA(train['Customers'], order=(2,0,2))\n",
    "\n",
    "results_Arima = mod.fit()\n",
    "\n",
    "print(results_Arima.summary())"
   ]
  },
  {
   "cell_type": "markdown",
   "metadata": {},
   "source": [
    "In above results, more the absolute value of z, more significant the term."
   ]
  },
  {
   "cell_type": "code",
   "execution_count": 29,
   "metadata": {
    "ExecuteTime": {
     "end_time": "2020-05-29T09:41:40.025550Z",
     "start_time": "2020-05-29T09:41:39.995758Z"
    }
   },
   "outputs": [],
   "source": [
    "test.Customers= test.Customers.astype(float)\n",
    "final_hat_avg =test.copy()\n",
    "pred = results_Arima.forecast(steps=152)"
   ]
  },
  {
   "cell_type": "code",
   "execution_count": 30,
   "metadata": {
    "ExecuteTime": {
     "end_time": "2020-05-29T09:41:40.209849Z",
     "start_time": "2020-05-29T09:41:40.028585Z"
    }
   },
   "outputs": [
    {
     "name": "stdout",
     "output_type": "stream",
     "text": [
      "236.9092565257085\n"
     ]
    }
   ],
   "source": [
    "from sklearn.metrics import  mean_squared_error\n",
    "rmse = mean_squared_error(test.Customers,pred[0],squared=False)\n",
    "print(rmse)"
   ]
  },
  {
   "cell_type": "code",
   "execution_count": 31,
   "metadata": {
    "ExecuteTime": {
     "end_time": "2020-05-29T09:41:40.278212Z",
     "start_time": "2020-05-29T09:41:40.213406Z"
    }
   },
   "outputs": [
    {
     "data": {
      "text/html": [
       "<div>\n",
       "<style scoped>\n",
       "    .dataframe tbody tr th:only-of-type {\n",
       "        vertical-align: middle;\n",
       "    }\n",
       "\n",
       "    .dataframe tbody tr th {\n",
       "        vertical-align: top;\n",
       "    }\n",
       "\n",
       "    .dataframe thead th {\n",
       "        text-align: right;\n",
       "    }\n",
       "</style>\n",
       "<table border=\"1\" class=\"dataframe\">\n",
       "  <thead>\n",
       "    <tr style=\"text-align: right;\">\n",
       "      <th></th>\n",
       "      <th>RMSE</th>\n",
       "    </tr>\n",
       "  </thead>\n",
       "  <tbody>\n",
       "    <tr>\n",
       "      <th>ARIMA(2,0,2)</th>\n",
       "      <td>236.909257</td>\n",
       "    </tr>\n",
       "  </tbody>\n",
       "</table>\n",
       "</div>"
      ],
      "text/plain": [
       "                    RMSE\n",
       "ARIMA(2,0,2)  236.909257"
      ]
     },
     "execution_count": 31,
     "metadata": {},
     "output_type": "execute_result"
    }
   ],
   "source": [
    "resultsDf = pd.DataFrame({'RMSE': [rmse]}\n",
    "                           ,index=['ARIMA(2,0,2)'])\n",
    "\n",
    "resultsDf"
   ]
  },
  {
   "cell_type": "code",
   "execution_count": 32,
   "metadata": {
    "ExecuteTime": {
     "end_time": "2020-05-29T09:41:40.477115Z",
     "start_time": "2020-05-29T09:41:40.280948Z"
    }
   },
   "outputs": [],
   "source": [
    "### As the dataset has seasonality.. Let's build the model with SARIMA"
   ]
  },
  {
   "cell_type": "code",
   "execution_count": 33,
   "metadata": {
    "ExecuteTime": {
     "end_time": "2020-05-29T09:41:40.585378Z",
     "start_time": "2020-05-29T09:41:40.479110Z"
    }
   },
   "outputs": [
    {
     "name": "stdout",
     "output_type": "stream",
     "text": [
      "Empty DataFrame\n",
      "Columns: [param, seasonal, AIC]\n",
      "Index: []\n"
     ]
    }
   ],
   "source": [
    "SARIMA_AIC = pd.DataFrame(columns=['param','seasonal', 'AIC'])\n",
    "print(SARIMA_AIC)"
   ]
  },
  {
   "cell_type": "code",
   "execution_count": 34,
   "metadata": {
    "ExecuteTime": {
     "end_time": "2020-05-29T09:41:40.710240Z",
     "start_time": "2020-05-29T09:41:40.585378Z"
    }
   },
   "outputs": [
    {
     "data": {
      "text/html": [
       "<div>\n",
       "<style scoped>\n",
       "    .dataframe tbody tr th:only-of-type {\n",
       "        vertical-align: middle;\n",
       "    }\n",
       "\n",
       "    .dataframe tbody tr th {\n",
       "        vertical-align: top;\n",
       "    }\n",
       "\n",
       "    .dataframe thead th {\n",
       "        text-align: right;\n",
       "    }\n",
       "</style>\n",
       "<table border=\"1\" class=\"dataframe\">\n",
       "  <thead>\n",
       "    <tr style=\"text-align: right;\">\n",
       "      <th></th>\n",
       "      <th>param</th>\n",
       "      <th>seasonal</th>\n",
       "      <th>AIC</th>\n",
       "    </tr>\n",
       "  </thead>\n",
       "  <tbody>\n",
       "  </tbody>\n",
       "</table>\n",
       "</div>"
      ],
      "text/plain": [
       "Empty DataFrame\n",
       "Columns: [param, seasonal, AIC]\n",
       "Index: []"
      ]
     },
     "execution_count": 34,
     "metadata": {},
     "output_type": "execute_result"
    }
   ],
   "source": [
    "SARIMA_AIC"
   ]
  },
  {
   "cell_type": "code",
   "execution_count": 35,
   "metadata": {
    "ExecuteTime": {
     "end_time": "2020-05-29T09:47:42.551905Z",
     "start_time": "2020-05-29T09:41:40.712238Z"
    },
    "colab": {
     "base_uri": "https://localhost:8080/",
     "height": 1000
    },
    "colab_type": "code",
    "id": "2hZXzyzu1J5-",
    "outputId": "7a1fd77c-45cb-4180-81fb-c5f0654dbe6f",
    "scrolled": true
   },
   "outputs": [
    {
     "name": "stdout",
     "output_type": "stream",
     "text": [
      "SARIMA(0, 0, 0)x(0, 0, 0, 7)7 - AIC:11185.950413292372\n",
      "SARIMA(0, 0, 0)x(0, 0, 1, 7)7 - AIC:10518.569230074725\n",
      "SARIMA(0, 0, 0)x(0, 0, 2, 7)7 - AIC:10040.609277392832\n",
      "SARIMA(0, 0, 0)x(1, 0, 0, 7)7 - AIC:9521.374457632435\n",
      "SARIMA(0, 0, 0)x(1, 0, 1, 7)7 - AIC:9016.226831861897\n",
      "SARIMA(0, 0, 0)x(1, 0, 2, 7)7 - AIC:8914.94917659159\n",
      "SARIMA(0, 0, 0)x(2, 0, 0, 7)7 - AIC:9122.879538850022\n",
      "SARIMA(0, 0, 0)x(2, 0, 1, 7)7 - AIC:8919.558922751236\n",
      "SARIMA(0, 0, 0)x(2, 0, 2, 7)7 - AIC:8885.374415308714\n",
      "SARIMA(0, 0, 1)x(0, 0, 0, 7)7 - AIC:10844.339587952016\n",
      "SARIMA(0, 0, 1)x(0, 0, 1, 7)7 - AIC:10277.4163703857\n",
      "SARIMA(0, 0, 1)x(0, 0, 2, 7)7 - AIC:9913.184015362123\n",
      "SARIMA(0, 0, 1)x(1, 0, 0, 7)7 - AIC:9508.331991534862\n",
      "SARIMA(0, 0, 1)x(1, 0, 1, 7)7 - AIC:8963.90810741658\n",
      "SARIMA(0, 0, 1)x(1, 0, 2, 7)7 - AIC:8897.644811576396\n",
      "SARIMA(0, 0, 1)x(2, 0, 0, 7)7 - AIC:9124.566045237305\n",
      "SARIMA(0, 0, 1)x(2, 0, 1, 7)7 - AIC:8893.99819666943\n",
      "SARIMA(0, 0, 1)x(2, 0, 2, 7)7 - AIC:8865.997236389641\n",
      "SARIMA(0, 0, 2)x(0, 0, 0, 7)7 - AIC:10687.562456383064\n",
      "SARIMA(0, 0, 2)x(0, 0, 1, 7)7 - AIC:10159.160348647642\n",
      "SARIMA(0, 0, 2)x(0, 0, 2, 7)7 - AIC:9816.82892881841\n",
      "SARIMA(0, 0, 2)x(1, 0, 0, 7)7 - AIC:9486.62422723023\n",
      "SARIMA(0, 0, 2)x(1, 0, 1, 7)7 - AIC:8952.954466399708\n",
      "SARIMA(0, 0, 2)x(1, 0, 2, 7)7 - AIC:8956.88485582143\n",
      "SARIMA(0, 0, 2)x(2, 0, 0, 7)7 - AIC:9122.081657725665\n",
      "SARIMA(0, 0, 2)x(2, 0, 1, 7)7 - AIC:8894.88541110983\n",
      "SARIMA(0, 0, 2)x(2, 0, 2, 7)7 - AIC:9035.584625578012\n",
      "SARIMA(1, 0, 0)x(0, 0, 0, 7)7 - AIC:10523.341431346827\n",
      "SARIMA(1, 0, 0)x(0, 0, 1, 7)7 - AIC:10068.947488852355\n",
      "SARIMA(1, 0, 0)x(0, 0, 2, 7)7 - AIC:9797.238079814284\n",
      "SARIMA(1, 0, 0)x(1, 0, 0, 7)7 - AIC:9481.926224339928\n",
      "SARIMA(1, 0, 0)x(1, 0, 1, 7)7 - AIC:8975.18796984862\n",
      "SARIMA(1, 0, 0)x(1, 0, 2, 7)7 - AIC:8885.43303174006\n",
      "SARIMA(1, 0, 0)x(2, 0, 0, 7)7 - AIC:9112.256640045063\n",
      "SARIMA(1, 0, 0)x(2, 0, 1, 7)7 - AIC:8881.347342671488\n",
      "SARIMA(1, 0, 0)x(2, 0, 2, 7)7 - AIC:8971.243003536596\n",
      "SARIMA(1, 0, 1)x(0, 0, 0, 7)7 - AIC:10014.826133119815\n",
      "SARIMA(1, 0, 1)x(0, 0, 1, 7)7 - AIC:9786.622056240874\n",
      "SARIMA(1, 0, 1)x(0, 0, 2, 7)7 - AIC:9615.518789598696\n",
      "SARIMA(1, 0, 1)x(1, 0, 0, 7)7 - AIC:9470.001415754577\n",
      "SARIMA(1, 0, 1)x(1, 0, 1, 7)7 - AIC:8999.15580244895\n",
      "SARIMA(1, 0, 1)x(1, 0, 2, 7)7 - AIC:9236.6244890632\n",
      "SARIMA(1, 0, 1)x(2, 0, 0, 7)7 - AIC:9113.496886807152\n",
      "SARIMA(1, 0, 1)x(2, 0, 1, 7)7 - AIC:9463.56693515566\n",
      "SARIMA(1, 0, 1)x(2, 0, 2, 7)7 - AIC:9448.466814645406\n",
      "SARIMA(1, 0, 2)x(0, 0, 0, 7)7 - AIC:9964.567258089839\n",
      "SARIMA(1, 0, 2)x(0, 0, 1, 7)7 - AIC:9751.962155043188\n",
      "SARIMA(1, 0, 2)x(0, 0, 2, 7)7 - AIC:9575.161871276554\n",
      "SARIMA(1, 0, 2)x(1, 0, 0, 7)7 - AIC:9426.842103775722\n",
      "SARIMA(1, 0, 2)x(1, 0, 1, 7)7 - AIC:9503.714917022135\n",
      "SARIMA(1, 0, 2)x(1, 0, 2, 7)7 - AIC:9412.239087830214\n",
      "SARIMA(1, 0, 2)x(2, 0, 0, 7)7 - AIC:9094.492323428636\n",
      "SARIMA(1, 0, 2)x(2, 0, 1, 7)7 - AIC:9432.302761159524\n",
      "SARIMA(1, 0, 2)x(2, 0, 2, 7)7 - AIC:9407.6736200044\n",
      "SARIMA(2, 0, 0)x(0, 0, 0, 7)7 - AIC:10338.339792999152\n",
      "SARIMA(2, 0, 0)x(0, 0, 1, 7)7 - AIC:9932.896157681449\n",
      "SARIMA(2, 0, 0)x(0, 0, 2, 7)7 - AIC:9659.026836592322\n",
      "SARIMA(2, 0, 0)x(1, 0, 0, 7)7 - AIC:9447.701506828114\n",
      "SARIMA(2, 0, 0)x(1, 0, 1, 7)7 - AIC:8963.884436183635\n",
      "SARIMA(2, 0, 0)x(1, 0, 2, 7)7 - AIC:8898.774194749218\n",
      "SARIMA(2, 0, 0)x(2, 0, 0, 7)7 - AIC:9097.982800844758\n",
      "SARIMA(2, 0, 0)x(2, 0, 1, 7)7 - AIC:9056.329321221496\n",
      "SARIMA(2, 0, 0)x(2, 0, 2, 7)7 - AIC:9422.861948129717\n",
      "SARIMA(2, 0, 1)x(0, 0, 0, 7)7 - AIC:10025.524223326047\n",
      "SARIMA(2, 0, 1)x(0, 0, 1, 7)7 - AIC:9786.735419649627\n",
      "SARIMA(2, 0, 1)x(0, 0, 2, 7)7 - AIC:9615.346689094513\n",
      "SARIMA(2, 0, 1)x(1, 0, 0, 7)7 - AIC:9668.339740676158\n",
      "SARIMA(2, 0, 1)x(1, 0, 1, 7)7 - AIC:9391.372227308922\n",
      "SARIMA(2, 0, 1)x(1, 0, 2, 7)7 - AIC:9397.025212248034\n",
      "SARIMA(2, 0, 1)x(2, 0, 0, 7)7 - AIC:9106.786912386417\n",
      "SARIMA(2, 0, 1)x(2, 0, 1, 7)7 - AIC:9456.34909514611\n",
      "SARIMA(2, 0, 1)x(2, 0, 2, 7)7 - AIC:9455.953084271263\n",
      "SARIMA(2, 0, 2)x(0, 0, 0, 7)7 - AIC:9943.960443685919\n",
      "SARIMA(2, 0, 2)x(0, 0, 1, 7)7 - AIC:9753.688112276195\n",
      "SARIMA(2, 0, 2)x(0, 0, 2, 7)7 - AIC:9576.605856977869\n",
      "SARIMA(2, 0, 2)x(1, 0, 0, 7)7 - AIC:9631.499279877511\n",
      "SARIMA(2, 0, 2)x(1, 0, 1, 7)7 - AIC:9505.10909478026\n",
      "SARIMA(2, 0, 2)x(1, 0, 2, 7)7 - AIC:9412.025111208226\n",
      "SARIMA(2, 0, 2)x(2, 0, 0, 7)7 - AIC:9356.665197528962\n",
      "SARIMA(2, 0, 2)x(2, 0, 1, 7)7 - AIC:9422.79191186568\n",
      "SARIMA(2, 0, 2)x(2, 0, 2, 7)7 - AIC:9410.859792849347\n"
     ]
    }
   ],
   "source": [
    "import statsmodels.api as sm\n",
    "\n",
    "for param in pdq:\n",
    "    for param_seasonal in model_pdq:\n",
    "        SARIMA_model = sm.tsa.statespace.SARIMAX(train['Customers'],\n",
    "                                            order=param,\n",
    "                                            seasonal_order=param_seasonal,\n",
    "                                            enforce_stationarity=False,\n",
    "                                            enforce_invertibility=False)\n",
    "            \n",
    "        results_SARIMA = SARIMA_model.fit()\n",
    "        print('SARIMA{}x{}7 - AIC:{}'.format(param, param_seasonal, results_SARIMA.aic))\n",
    "        SARIMA_AIC = SARIMA_AIC.append({'param':param,'seasonal':param_seasonal ,'AIC': results_SARIMA.aic}, ignore_index=True)\n",
    "        "
   ]
  },
  {
   "cell_type": "code",
   "execution_count": 36,
   "metadata": {
    "ExecuteTime": {
     "end_time": "2020-05-29T09:47:42.602395Z",
     "start_time": "2020-05-29T09:47:42.552900Z"
    }
   },
   "outputs": [
    {
     "data": {
      "text/html": [
       "<div>\n",
       "<style scoped>\n",
       "    .dataframe tbody tr th:only-of-type {\n",
       "        vertical-align: middle;\n",
       "    }\n",
       "\n",
       "    .dataframe tbody tr th {\n",
       "        vertical-align: top;\n",
       "    }\n",
       "\n",
       "    .dataframe thead th {\n",
       "        text-align: right;\n",
       "    }\n",
       "</style>\n",
       "<table border=\"1\" class=\"dataframe\">\n",
       "  <thead>\n",
       "    <tr style=\"text-align: right;\">\n",
       "      <th></th>\n",
       "      <th>param</th>\n",
       "      <th>seasonal</th>\n",
       "      <th>AIC</th>\n",
       "    </tr>\n",
       "  </thead>\n",
       "  <tbody>\n",
       "    <tr>\n",
       "      <th>17</th>\n",
       "      <td>(0, 0, 1)</td>\n",
       "      <td>(2, 0, 2, 7)</td>\n",
       "      <td>8865.997236</td>\n",
       "    </tr>\n",
       "    <tr>\n",
       "      <th>34</th>\n",
       "      <td>(1, 0, 0)</td>\n",
       "      <td>(2, 0, 1, 7)</td>\n",
       "      <td>8881.347343</td>\n",
       "    </tr>\n",
       "    <tr>\n",
       "      <th>8</th>\n",
       "      <td>(0, 0, 0)</td>\n",
       "      <td>(2, 0, 2, 7)</td>\n",
       "      <td>8885.374415</td>\n",
       "    </tr>\n",
       "    <tr>\n",
       "      <th>32</th>\n",
       "      <td>(1, 0, 0)</td>\n",
       "      <td>(1, 0, 2, 7)</td>\n",
       "      <td>8885.433032</td>\n",
       "    </tr>\n",
       "    <tr>\n",
       "      <th>16</th>\n",
       "      <td>(0, 0, 1)</td>\n",
       "      <td>(2, 0, 1, 7)</td>\n",
       "      <td>8893.998197</td>\n",
       "    </tr>\n",
       "  </tbody>\n",
       "</table>\n",
       "</div>"
      ],
      "text/plain": [
       "        param      seasonal          AIC\n",
       "17  (0, 0, 1)  (2, 0, 2, 7)  8865.997236\n",
       "34  (1, 0, 0)  (2, 0, 1, 7)  8881.347343\n",
       "8   (0, 0, 0)  (2, 0, 2, 7)  8885.374415\n",
       "32  (1, 0, 0)  (1, 0, 2, 7)  8885.433032\n",
       "16  (0, 0, 1)  (2, 0, 1, 7)  8893.998197"
      ]
     },
     "execution_count": 36,
     "metadata": {},
     "output_type": "execute_result"
    }
   ],
   "source": [
    "SARIMA_AIC.sort_values(by=['AIC']).head()"
   ]
  },
  {
   "cell_type": "code",
   "execution_count": 37,
   "metadata": {
    "ExecuteTime": {
     "end_time": "2020-05-29T09:47:52.048202Z",
     "start_time": "2020-05-29T09:47:42.606385Z"
    },
    "colab": {
     "base_uri": "https://localhost:8080/",
     "height": 476
    },
    "colab_type": "code",
    "id": "WOR7SZy41J6W",
    "outputId": "554ccb7e-ffde-4876-c7bb-b671e2cb73dd"
   },
   "outputs": [
    {
     "name": "stdout",
     "output_type": "stream",
     "text": [
      "                                       SARIMAX Results                                        \n",
      "==============================================================================================\n",
      "Dep. Variable:                              Customers   No. Observations:                  730\n",
      "Model:             SARIMAX(0, 0, 1)x(2, 0, [1, 2], 7)   Log Likelihood               -4426.999\n",
      "Date:                                Sat, 01 Jan 2022   AIC                           8865.997\n",
      "Time:                                        17:01:06   BIC                           8893.423\n",
      "Sample:                                             0   HQIC                          8876.589\n",
      "                                                - 730                                         \n",
      "Covariance Type:                                  opg                                         \n",
      "==============================================================================\n",
      "                 coef    std err          z      P>|z|      [0.025      0.975]\n",
      "------------------------------------------------------------------------------\n",
      "ma.L1          0.0403      0.023      1.753      0.080      -0.005       0.085\n",
      "ar.S.L7        0.3002      0.123      2.440      0.015       0.059       0.541\n",
      "ar.S.L14       0.7044      0.123      5.708      0.000       0.463       0.946\n",
      "ma.S.L7        0.6968      0.434      1.606      0.108      -0.153       1.547\n",
      "ma.S.L14      -1.6936      0.555     -3.050      0.002      -2.782      -0.605\n",
      "sigma2      4720.9036   2493.900      1.893      0.058    -167.050    9608.857\n",
      "===================================================================================\n",
      "Ljung-Box (L1) (Q):                   0.02   Jarque-Bera (JB):              5110.76\n",
      "Prob(Q):                              0.90   Prob(JB):                         0.00\n",
      "Heteroskedasticity (H):               1.61   Skew:                            -2.59\n",
      "Prob(H) (two-sided):                  0.00   Kurtosis:                        15.04\n",
      "===================================================================================\n",
      "\n",
      "Warnings:\n",
      "[1] Covariance matrix calculated using the outer product of gradients (complex-step).\n"
     ]
    }
   ],
   "source": [
    "import statsmodels.api as sm\n",
    "\n",
    "## SARIMA(0, 0, 1)(2, 0, 2, 7)\n",
    "mod = sm.tsa.statespace.SARIMAX(train['Customers'],\n",
    "                                order=(0,0,1),\n",
    "                                seasonal_order=(2, 0, 2, 7),\n",
    "                                enforce_stationarity=False,\n",
    "                                enforce_invertibility=False)\n",
    "results_SARIMA = mod.fit()\n",
    "print(results_SARIMA.summary())"
   ]
  },
  {
   "cell_type": "code",
   "execution_count": 38,
   "metadata": {
    "ExecuteTime": {
     "end_time": "2020-05-29T09:47:53.793138Z",
     "start_time": "2020-05-29T09:47:52.053322Z"
    },
    "colab": {
     "base_uri": "https://localhost:8080/",
     "height": 513
    },
    "colab_type": "code",
    "id": "IZLtRcwv1J6f",
    "outputId": "4117a9e5-1add-4cec-8841-4da79a25e009"
   },
   "outputs": [
    {
     "data": {
      "image/png": "[encoded data removed]",
      "text/plain": [
       "<Figure size 1152x576 with 4 Axes>"
      ]
     },
     "metadata": {
      "needs_background": "light"
     },
     "output_type": "display_data"
    }
   ],
   "source": [
    "results_SARIMA.plot_diagnostics(figsize=(16, 8))\n",
    "plt.show()"
   ]
  },
  {
   "cell_type": "code",
   "execution_count": 39,
   "metadata": {
    "ExecuteTime": {
     "end_time": "2020-05-29T09:47:53.839713Z",
     "start_time": "2020-05-29T09:47:53.794966Z"
    },
    "colab": {
     "base_uri": "https://localhost:8080/",
     "height": 204
    },
    "colab_type": "code",
    "id": "8i8HAivm1J6q",
    "outputId": "f4820826-1979-4e6b-f059-43185c44d5ee"
   },
   "outputs": [
    {
     "data": {
      "text/html": [
       "<div>\n",
       "<style scoped>\n",
       "    .dataframe tbody tr th:only-of-type {\n",
       "        vertical-align: middle;\n",
       "    }\n",
       "\n",
       "    .dataframe tbody tr th {\n",
       "        vertical-align: top;\n",
       "    }\n",
       "\n",
       "    .dataframe thead th {\n",
       "        text-align: right;\n",
       "    }\n",
       "</style>\n",
       "<table border=\"1\" class=\"dataframe\">\n",
       "  <thead>\n",
       "    <tr style=\"text-align: right;\">\n",
       "      <th></th>\n",
       "      <th>Store</th>\n",
       "      <th>DayOfWeek</th>\n",
       "      <th>Date</th>\n",
       "      <th>Customers</th>\n",
       "      <th>Open</th>\n",
       "      <th>Promotion</th>\n",
       "      <th>StateHoliday</th>\n",
       "      <th>SchoolHoliday</th>\n",
       "      <th>year</th>\n",
       "    </tr>\n",
       "  </thead>\n",
       "  <tbody>\n",
       "    <tr>\n",
       "      <th>7701</th>\n",
       "      <td>1044</td>\n",
       "      <td>4</td>\n",
       "      <td>2016-01-01</td>\n",
       "      <td>0.0</td>\n",
       "      <td>0</td>\n",
       "      <td>0</td>\n",
       "      <td>a</td>\n",
       "      <td>1</td>\n",
       "      <td>2016</td>\n",
       "    </tr>\n",
       "    <tr>\n",
       "      <th>7650</th>\n",
       "      <td>1044</td>\n",
       "      <td>5</td>\n",
       "      <td>2016-02-01</td>\n",
       "      <td>633.0</td>\n",
       "      <td>1</td>\n",
       "      <td>0</td>\n",
       "      <td>0</td>\n",
       "      <td>1</td>\n",
       "      <td>2016</td>\n",
       "    </tr>\n",
       "    <tr>\n",
       "      <th>7599</th>\n",
       "      <td>1044</td>\n",
       "      <td>6</td>\n",
       "      <td>2016-03-01</td>\n",
       "      <td>530.0</td>\n",
       "      <td>1</td>\n",
       "      <td>0</td>\n",
       "      <td>0</td>\n",
       "      <td>0</td>\n",
       "      <td>2016</td>\n",
       "    </tr>\n",
       "    <tr>\n",
       "      <th>7548</th>\n",
       "      <td>1044</td>\n",
       "      <td>7</td>\n",
       "      <td>2016-04-01</td>\n",
       "      <td>0.0</td>\n",
       "      <td>0</td>\n",
       "      <td>0</td>\n",
       "      <td>0</td>\n",
       "      <td>0</td>\n",
       "      <td>2016</td>\n",
       "    </tr>\n",
       "    <tr>\n",
       "      <th>7497</th>\n",
       "      <td>1044</td>\n",
       "      <td>1</td>\n",
       "      <td>2016-05-01</td>\n",
       "      <td>845.0</td>\n",
       "      <td>1</td>\n",
       "      <td>1</td>\n",
       "      <td>0</td>\n",
       "      <td>1</td>\n",
       "      <td>2016</td>\n",
       "    </tr>\n",
       "  </tbody>\n",
       "</table>\n",
       "</div>"
      ],
      "text/plain": [
       "      Store  DayOfWeek       Date  Customers  Open  Promotion StateHoliday  \\\n",
       "7701   1044          4 2016-01-01        0.0     0          0            a   \n",
       "7650   1044          5 2016-02-01      633.0     1          0            0   \n",
       "7599   1044          6 2016-03-01      530.0     1          0            0   \n",
       "7548   1044          7 2016-04-01        0.0     0          0            0   \n",
       "7497   1044          1 2016-05-01      845.0     1          1            0   \n",
       "\n",
       "      SchoolHoliday  year  \n",
       "7701              1  2016  \n",
       "7650              1  2016  \n",
       "7599              0  2016  \n",
       "7548              0  2016  \n",
       "7497              1  2016  "
      ]
     },
     "execution_count": 39,
     "metadata": {},
     "output_type": "execute_result"
    }
   ],
   "source": [
    "test.head()"
   ]
  },
  {
   "cell_type": "code",
   "execution_count": 40,
   "metadata": {
    "ExecuteTime": {
     "end_time": "2020-05-29T09:47:54.025100Z",
     "start_time": "2020-05-29T09:47:53.844895Z"
    },
    "colab": {
     "base_uri": "https://localhost:8080/",
     "height": 221
    },
    "colab_type": "code",
    "id": "Kb9l_9QFr0RA",
    "outputId": "0f9960b5-cbcf-42d2-c48a-0a33c1c09afe"
   },
   "outputs": [
    {
     "data": {
      "text/plain": [
       "730    636.530244\n",
       "731    698.691527\n",
       "732    616.818327\n",
       "733     -0.006576\n",
       "734    730.975724\n",
       "          ...    \n",
       "877    599.028593\n",
       "878    651.584093\n",
       "879    634.428102\n",
       "880     -0.006498\n",
       "881    757.788265\n",
       "Name: predicted_mean, Length: 152, dtype: float64"
      ]
     },
     "execution_count": 40,
     "metadata": {},
     "output_type": "execute_result"
    }
   ],
   "source": [
    "test.Customers= test.Customers.astype(float)\n",
    "final_hat_avg =test.copy()\n",
    "pred = results_SARIMA.get_forecast(steps=152)\n",
    "pred.predicted_mean"
   ]
  },
  {
   "cell_type": "code",
   "execution_count": 41,
   "metadata": {
    "ExecuteTime": {
     "end_time": "2020-05-29T09:47:54.150564Z",
     "start_time": "2020-05-29T09:47:54.028212Z"
    }
   },
   "outputs": [
    {
     "data": {
      "text/html": [
       "<div>\n",
       "<style scoped>\n",
       "    .dataframe tbody tr th:only-of-type {\n",
       "        vertical-align: middle;\n",
       "    }\n",
       "\n",
       "    .dataframe tbody tr th {\n",
       "        vertical-align: top;\n",
       "    }\n",
       "\n",
       "    .dataframe thead th {\n",
       "        text-align: right;\n",
       "    }\n",
       "</style>\n",
       "<table border=\"1\" class=\"dataframe\">\n",
       "  <thead>\n",
       "    <tr style=\"text-align: right;\">\n",
       "      <th>Customers</th>\n",
       "      <th>mean</th>\n",
       "      <th>mean_se</th>\n",
       "      <th>mean_ci_lower</th>\n",
       "      <th>mean_ci_upper</th>\n",
       "    </tr>\n",
       "  </thead>\n",
       "  <tbody>\n",
       "    <tr>\n",
       "      <th>730</th>\n",
       "      <td>636.530244</td>\n",
       "      <td>116.999152</td>\n",
       "      <td>407.216120</td>\n",
       "      <td>865.844368</td>\n",
       "    </tr>\n",
       "    <tr>\n",
       "      <th>731</th>\n",
       "      <td>698.691527</td>\n",
       "      <td>117.094020</td>\n",
       "      <td>469.191464</td>\n",
       "      <td>928.191589</td>\n",
       "    </tr>\n",
       "    <tr>\n",
       "      <th>732</th>\n",
       "      <td>616.818327</td>\n",
       "      <td>117.094020</td>\n",
       "      <td>387.318265</td>\n",
       "      <td>846.318390</td>\n",
       "    </tr>\n",
       "    <tr>\n",
       "      <th>733</th>\n",
       "      <td>-0.006576</td>\n",
       "      <td>117.094020</td>\n",
       "      <td>-229.506639</td>\n",
       "      <td>229.493487</td>\n",
       "    </tr>\n",
       "    <tr>\n",
       "      <th>734</th>\n",
       "      <td>730.975724</td>\n",
       "      <td>117.094020</td>\n",
       "      <td>501.475661</td>\n",
       "      <td>960.475786</td>\n",
       "    </tr>\n",
       "    <tr>\n",
       "      <th>...</th>\n",
       "      <td>...</td>\n",
       "      <td>...</td>\n",
       "      <td>...</td>\n",
       "      <td>...</td>\n",
       "    </tr>\n",
       "    <tr>\n",
       "      <th>877</th>\n",
       "      <td>599.028593</td>\n",
       "      <td>118.512439</td>\n",
       "      <td>366.748481</td>\n",
       "      <td>831.308704</td>\n",
       "    </tr>\n",
       "    <tr>\n",
       "      <th>878</th>\n",
       "      <td>651.584093</td>\n",
       "      <td>118.512452</td>\n",
       "      <td>419.303955</td>\n",
       "      <td>883.864231</td>\n",
       "    </tr>\n",
       "    <tr>\n",
       "      <th>879</th>\n",
       "      <td>634.428102</td>\n",
       "      <td>118.512452</td>\n",
       "      <td>402.147964</td>\n",
       "      <td>866.708240</td>\n",
       "    </tr>\n",
       "    <tr>\n",
       "      <th>880</th>\n",
       "      <td>-0.006498</td>\n",
       "      <td>118.512452</td>\n",
       "      <td>-232.286636</td>\n",
       "      <td>232.273640</td>\n",
       "    </tr>\n",
       "    <tr>\n",
       "      <th>881</th>\n",
       "      <td>757.788265</td>\n",
       "      <td>118.512452</td>\n",
       "      <td>525.508126</td>\n",
       "      <td>990.068403</td>\n",
       "    </tr>\n",
       "  </tbody>\n",
       "</table>\n",
       "<p>152 rows × 4 columns</p>\n",
       "</div>"
      ],
      "text/plain": [
       "Customers        mean     mean_se  mean_ci_lower  mean_ci_upper\n",
       "730        636.530244  116.999152     407.216120     865.844368\n",
       "731        698.691527  117.094020     469.191464     928.191589\n",
       "732        616.818327  117.094020     387.318265     846.318390\n",
       "733         -0.006576  117.094020    -229.506639     229.493487\n",
       "734        730.975724  117.094020     501.475661     960.475786\n",
       "..                ...         ...            ...            ...\n",
       "877        599.028593  118.512439     366.748481     831.308704\n",
       "878        651.584093  118.512452     419.303955     883.864231\n",
       "879        634.428102  118.512452     402.147964     866.708240\n",
       "880         -0.006498  118.512452    -232.286636     232.273640\n",
       "881        757.788265  118.512452     525.508126     990.068403\n",
       "\n",
       "[152 rows x 4 columns]"
      ]
     },
     "execution_count": 41,
     "metadata": {},
     "output_type": "execute_result"
    }
   ],
   "source": [
    "pred.summary_frame()"
   ]
  },
  {
   "cell_type": "code",
   "execution_count": 42,
   "metadata": {
    "ExecuteTime": {
     "end_time": "2020-05-29T09:47:54.318752Z",
     "start_time": "2020-05-29T09:47:54.152862Z"
    },
    "colab": {
     "base_uri": "https://localhost:8080/",
     "height": 34
    },
    "colab_type": "code",
    "id": "QSUJhdUj1J66",
    "outputId": "fb4bef8c-e7fe-4cac-e6c7-4609f4d6522f"
   },
   "outputs": [
    {
     "name": "stdout",
     "output_type": "stream",
     "text": [
      "149.21531509084167\n"
     ]
    }
   ],
   "source": [
    "from math import sqrt\n",
    "from sklearn.metrics import mean_squared_error\n",
    "rmse = sqrt(mean_squared_error(test.Customers ,pred.predicted_mean))\n",
    "print(rmse)"
   ]
  },
  {
   "cell_type": "code",
   "execution_count": 43,
   "metadata": {
    "ExecuteTime": {
     "end_time": "2020-05-29T09:47:54.504034Z",
     "start_time": "2020-05-29T09:47:54.320602Z"
    }
   },
   "outputs": [
    {
     "data": {
      "text/html": [
       "<div>\n",
       "<style scoped>\n",
       "    .dataframe tbody tr th:only-of-type {\n",
       "        vertical-align: middle;\n",
       "    }\n",
       "\n",
       "    .dataframe tbody tr th {\n",
       "        vertical-align: top;\n",
       "    }\n",
       "\n",
       "    .dataframe thead th {\n",
       "        text-align: right;\n",
       "    }\n",
       "</style>\n",
       "<table border=\"1\" class=\"dataframe\">\n",
       "  <thead>\n",
       "    <tr style=\"text-align: right;\">\n",
       "      <th></th>\n",
       "      <th>RMSE</th>\n",
       "    </tr>\n",
       "  </thead>\n",
       "  <tbody>\n",
       "    <tr>\n",
       "      <th>ARIMA(2,0,2)</th>\n",
       "      <td>236.909257</td>\n",
       "    </tr>\n",
       "    <tr>\n",
       "      <th>SARIMA(0,0,1)(2,0,2)7</th>\n",
       "      <td>149.215315</td>\n",
       "    </tr>\n",
       "  </tbody>\n",
       "</table>\n",
       "</div>"
      ],
      "text/plain": [
       "                             RMSE\n",
       "ARIMA(2,0,2)           236.909257\n",
       "SARIMA(0,0,1)(2,0,2)7  149.215315"
      ]
     },
     "execution_count": 43,
     "metadata": {},
     "output_type": "execute_result"
    }
   ],
   "source": [
    "temp_resultsDf = pd.DataFrame({'RMSE': [rmse]}\n",
    "                           ,index=['SARIMA(0,0,1)(2,0,2)7'])\n",
    "\n",
    "resultsDf = pd.concat([resultsDf, temp_resultsDf])\n",
    "resultsDf"
   ]
  },
  {
   "cell_type": "code",
   "execution_count": 44,
   "metadata": {
    "ExecuteTime": {
     "end_time": "2020-05-29T09:48:03.818096Z",
     "start_time": "2020-05-29T09:47:54.504034Z"
    },
    "colab": {
     "base_uri": "https://localhost:8080/",
     "height": 493
    },
    "colab_type": "code",
    "id": "O9vw84z91J7B",
    "outputId": "b9935f2a-2bc3-430a-94a3-14151d20ce0e"
   },
   "outputs": [
    {
     "name": "stdout",
     "output_type": "stream",
     "text": [
      "                                       SARIMAX Results                                        \n",
      "==============================================================================================\n",
      "Dep. Variable:                              Customers   No. Observations:                  882\n",
      "Model:             SARIMAX(0, 0, 1)x(2, 0, [1, 2], 7)   Log Likelihood               -5408.225\n",
      "Date:                                Sat, 01 Jan 2022   AIC                          10828.449\n",
      "Time:                                        17:01:09   BIC                          10857.032\n",
      "Sample:                                             0   HQIC                         10839.388\n",
      "                                                - 882                                         \n",
      "Covariance Type:                                  opg                                         \n",
      "==============================================================================\n",
      "                 coef    std err          z      P>|z|      [0.025      0.975]\n",
      "------------------------------------------------------------------------------\n",
      "ma.L1         -0.0211      0.024     -0.890      0.374      -0.068       0.025\n",
      "ar.S.L7        0.2786      0.098      2.840      0.005       0.086       0.471\n",
      "ar.S.L14       0.7255      0.098      7.377      0.000       0.533       0.918\n",
      "ma.S.L7       -0.3860      0.110     -3.496      0.000      -0.602      -0.170\n",
      "ma.S.L14      -0.6062      0.112     -5.413      0.000      -0.826      -0.387\n",
      "sigma2      1.544e+04    636.630     24.260      0.000    1.42e+04    1.67e+04\n",
      "===================================================================================\n",
      "Ljung-Box (L1) (Q):                   0.35   Jarque-Bera (JB):              7123.80\n",
      "Prob(Q):                              0.55   Prob(JB):                         0.00\n",
      "Heteroskedasticity (H):               1.89   Skew:                            -2.81\n",
      "Prob(H) (two-sided):                  0.00   Kurtosis:                        15.88\n",
      "===================================================================================\n",
      "\n",
      "Warnings:\n",
      "[1] Covariance matrix calculated using the outer product of gradients (complex-step).\n"
     ]
    }
   ],
   "source": [
    "## To get the real forecast for 7 days, we will rerun the model on the complete dataset\n",
    "\n",
    "mod = sm.tsa.statespace.SARIMAX(Store50_1044['Customers'],\n",
    "                                order=(0,0,1),\n",
    "                                seasonal_order=(2, 0, 2, 7),\n",
    "                                enforce_stationarity=False,\n",
    "                                enforce_invertibility=False)\n",
    "results = mod.fit()\n",
    "print(results.summary())"
   ]
  },
  {
   "cell_type": "code",
   "execution_count": 45,
   "metadata": {
    "ExecuteTime": {
     "end_time": "2020-05-29T09:48:03.853962Z",
     "start_time": "2020-05-29T09:48:03.822252Z"
    },
    "colab": {
     "base_uri": "https://localhost:8080/",
     "height": 153
    },
    "colab_type": "code",
    "id": "FZ-LKlOX1J7J",
    "outputId": "882685ae-c88c-473d-dbbd-508cba5097a0"
   },
   "outputs": [
    {
     "data": {
      "text/plain": [
       "882    666.918917\n",
       "883    626.019894\n",
       "884    613.285597\n",
       "885    639.957345\n",
       "886    619.066309\n",
       "887      0.003187\n",
       "888    658.909210\n",
       "Name: predicted_mean, dtype: float64"
      ]
     },
     "execution_count": 45,
     "metadata": {},
     "output_type": "execute_result"
    }
   ],
   "source": [
    "pred = results.get_forecast(steps=7)\n",
    "pred.predicted_mean"
   ]
  },
  {
   "cell_type": "code",
   "execution_count": 46,
   "metadata": {
    "ExecuteTime": {
     "end_time": "2020-05-29T09:48:04.008678Z",
     "start_time": "2020-05-29T09:48:03.858218Z"
    }
   },
   "outputs": [
    {
     "data": {
      "text/html": [
       "<div>\n",
       "<style scoped>\n",
       "    .dataframe tbody tr th:only-of-type {\n",
       "        vertical-align: middle;\n",
       "    }\n",
       "\n",
       "    .dataframe tbody tr th {\n",
       "        vertical-align: top;\n",
       "    }\n",
       "\n",
       "    .dataframe thead th {\n",
       "        text-align: right;\n",
       "    }\n",
       "</style>\n",
       "<table border=\"1\" class=\"dataframe\">\n",
       "  <thead>\n",
       "    <tr style=\"text-align: right;\">\n",
       "      <th>Customers</th>\n",
       "      <th>mean</th>\n",
       "      <th>mean_se</th>\n",
       "      <th>mean_ci_lower</th>\n",
       "      <th>mean_ci_upper</th>\n",
       "    </tr>\n",
       "  </thead>\n",
       "  <tbody>\n",
       "    <tr>\n",
       "      <th>882</th>\n",
       "      <td>666.918917</td>\n",
       "      <td>124.530137</td>\n",
       "      <td>422.844333</td>\n",
       "      <td>910.993501</td>\n",
       "    </tr>\n",
       "    <tr>\n",
       "      <th>883</th>\n",
       "      <td>626.019894</td>\n",
       "      <td>124.557866</td>\n",
       "      <td>381.890962</td>\n",
       "      <td>870.148826</td>\n",
       "    </tr>\n",
       "    <tr>\n",
       "      <th>884</th>\n",
       "      <td>613.285597</td>\n",
       "      <td>124.554385</td>\n",
       "      <td>369.163488</td>\n",
       "      <td>857.407707</td>\n",
       "    </tr>\n",
       "    <tr>\n",
       "      <th>885</th>\n",
       "      <td>639.957345</td>\n",
       "      <td>124.554385</td>\n",
       "      <td>395.835236</td>\n",
       "      <td>884.079455</td>\n",
       "    </tr>\n",
       "    <tr>\n",
       "      <th>886</th>\n",
       "      <td>619.066309</td>\n",
       "      <td>124.554385</td>\n",
       "      <td>374.944200</td>\n",
       "      <td>863.188419</td>\n",
       "    </tr>\n",
       "    <tr>\n",
       "      <th>887</th>\n",
       "      <td>0.003187</td>\n",
       "      <td>124.554385</td>\n",
       "      <td>-244.118923</td>\n",
       "      <td>244.125296</td>\n",
       "    </tr>\n",
       "    <tr>\n",
       "      <th>888</th>\n",
       "      <td>658.909210</td>\n",
       "      <td>124.554385</td>\n",
       "      <td>414.787101</td>\n",
       "      <td>903.031319</td>\n",
       "    </tr>\n",
       "  </tbody>\n",
       "</table>\n",
       "</div>"
      ],
      "text/plain": [
       "Customers        mean     mean_se  mean_ci_lower  mean_ci_upper\n",
       "882        666.918917  124.530137     422.844333     910.993501\n",
       "883        626.019894  124.557866     381.890962     870.148826\n",
       "884        613.285597  124.554385     369.163488     857.407707\n",
       "885        639.957345  124.554385     395.835236     884.079455\n",
       "886        619.066309  124.554385     374.944200     863.188419\n",
       "887          0.003187  124.554385    -244.118923     244.125296\n",
       "888        658.909210  124.554385     414.787101     903.031319"
      ]
     },
     "execution_count": 46,
     "metadata": {},
     "output_type": "execute_result"
    }
   ],
   "source": [
    "pred.summary_frame()"
   ]
  },
  {
   "cell_type": "markdown",
   "metadata": {},
   "source": [
    "# SARIMAX Models"
   ]
  },
  {
   "cell_type": "code",
   "execution_count": 47,
   "metadata": {
    "ExecuteTime": {
     "end_time": "2020-05-29T09:48:04.119982Z",
     "start_time": "2020-05-29T09:48:04.010046Z"
    },
    "colab": {},
    "colab_type": "code",
    "id": "TMpZWz261J73"
   },
   "outputs": [],
   "source": [
    "## This data set has exogeneous variables and hence the same should be considered while creating the model\n",
    "## so to start with let's create a subset which only has exogeneous variables\n"
   ]
  },
  {
   "cell_type": "code",
   "execution_count": 48,
   "metadata": {
    "ExecuteTime": {
     "end_time": "2020-05-29T09:48:04.254288Z",
     "start_time": "2020-05-29T09:48:04.125108Z"
    },
    "colab": {},
    "colab_type": "code",
    "id": "KyboBLJe1J8E"
   },
   "outputs": [],
   "source": [
    "ex_train=train[['Open','Promotion','StateHoliday','SchoolHoliday']]\n",
    "ex_test=test[['Open','Promotion','StateHoliday','SchoolHoliday']]"
   ]
  },
  {
   "cell_type": "code",
   "execution_count": 49,
   "metadata": {
    "ExecuteTime": {
     "end_time": "2020-05-29T09:48:04.410295Z",
     "start_time": "2020-05-29T09:48:04.259198Z"
    },
    "colab": {
     "base_uri": "https://localhost:8080/",
     "height": 204
    },
    "colab_type": "code",
    "id": "PWiBV0Gq1J8M",
    "outputId": "6dde1054-624c-4595-dd68-69b939e7e326"
   },
   "outputs": [
    {
     "data": {
      "text/html": [
       "<div>\n",
       "<style scoped>\n",
       "    .dataframe tbody tr th:only-of-type {\n",
       "        vertical-align: middle;\n",
       "    }\n",
       "\n",
       "    .dataframe tbody tr th {\n",
       "        vertical-align: top;\n",
       "    }\n",
       "\n",
       "    .dataframe thead th {\n",
       "        text-align: right;\n",
       "    }\n",
       "</style>\n",
       "<table border=\"1\" class=\"dataframe\">\n",
       "  <thead>\n",
       "    <tr style=\"text-align: right;\">\n",
       "      <th></th>\n",
       "      <th>Open</th>\n",
       "      <th>Promotion</th>\n",
       "      <th>StateHoliday</th>\n",
       "      <th>SchoolHoliday</th>\n",
       "    </tr>\n",
       "  </thead>\n",
       "  <tbody>\n",
       "    <tr>\n",
       "      <th>43275</th>\n",
       "      <td>0</td>\n",
       "      <td>0</td>\n",
       "      <td>1</td>\n",
       "      <td>1</td>\n",
       "    </tr>\n",
       "    <tr>\n",
       "      <th>43224</th>\n",
       "      <td>1</td>\n",
       "      <td>0</td>\n",
       "      <td>0</td>\n",
       "      <td>1</td>\n",
       "    </tr>\n",
       "    <tr>\n",
       "      <th>43173</th>\n",
       "      <td>1</td>\n",
       "      <td>0</td>\n",
       "      <td>0</td>\n",
       "      <td>1</td>\n",
       "    </tr>\n",
       "    <tr>\n",
       "      <th>43122</th>\n",
       "      <td>1</td>\n",
       "      <td>0</td>\n",
       "      <td>0</td>\n",
       "      <td>1</td>\n",
       "    </tr>\n",
       "    <tr>\n",
       "      <th>43071</th>\n",
       "      <td>1</td>\n",
       "      <td>0</td>\n",
       "      <td>0</td>\n",
       "      <td>0</td>\n",
       "    </tr>\n",
       "  </tbody>\n",
       "</table>\n",
       "</div>"
      ],
      "text/plain": [
       "       Open  Promotion StateHoliday  SchoolHoliday\n",
       "43275     0          0            1              1\n",
       "43224     1          0            0              1\n",
       "43173     1          0            0              1\n",
       "43122     1          0            0              1\n",
       "43071     1          0            0              0"
      ]
     },
     "execution_count": 49,
     "metadata": {},
     "output_type": "execute_result"
    }
   ],
   "source": [
    "## State variable has numeric character which has to be convered\n",
    "ex_train[\"StateHoliday\"].loc[ex_train[\"StateHoliday\"] == \"0\"] = 0\n",
    "ex_train[\"StateHoliday\"].loc[ex_train[\"StateHoliday\"] == \"a\"] = 1\n",
    "ex_train[\"StateHoliday\"].loc[ex_train[\"StateHoliday\"] == \"b\"] = 2\n",
    "ex_train[\"StateHoliday\"].loc[ex_train[\"StateHoliday\"] == \"c\"] = 3\n",
    "ex_train.head()"
   ]
  },
  {
   "cell_type": "code",
   "execution_count": 50,
   "metadata": {
    "ExecuteTime": {
     "end_time": "2020-05-29T09:48:04.513549Z",
     "start_time": "2020-05-29T09:48:04.412737Z"
    }
   },
   "outputs": [
    {
     "name": "stdout",
     "output_type": "stream",
     "text": [
      "<class 'pandas.core.frame.DataFrame'>\n",
      "Int64Index: 730 entries, 43275 to 7752\n",
      "Data columns (total 4 columns):\n",
      " #   Column         Non-Null Count  Dtype \n",
      "---  ------         --------------  ----- \n",
      " 0   Open           730 non-null    int64 \n",
      " 1   Promotion      730 non-null    int64 \n",
      " 2   StateHoliday   730 non-null    object\n",
      " 3   SchoolHoliday  730 non-null    int64 \n",
      "dtypes: int64(3), object(1)\n",
      "memory usage: 28.5+ KB\n"
     ]
    }
   ],
   "source": [
    "ex_train.info()"
   ]
  },
  {
   "cell_type": "code",
   "execution_count": 51,
   "metadata": {
    "ExecuteTime": {
     "end_time": "2020-05-29T09:48:04.642351Z",
     "start_time": "2020-05-29T09:48:04.517206Z"
    }
   },
   "outputs": [
    {
     "name": "stdout",
     "output_type": "stream",
     "text": [
      "<class 'pandas.core.frame.DataFrame'>\n",
      "Int64Index: 730 entries, 43275 to 7752\n",
      "Data columns (total 4 columns):\n",
      " #   Column         Non-Null Count  Dtype\n",
      "---  ------         --------------  -----\n",
      " 0   Open           730 non-null    int64\n",
      " 1   Promotion      730 non-null    int64\n",
      " 2   StateHoliday   730 non-null    int64\n",
      " 3   SchoolHoliday  730 non-null    int64\n",
      "dtypes: int64(4)\n",
      "memory usage: 28.5 KB\n"
     ]
    }
   ],
   "source": [
    "ex_train['StateHoliday'] = ex_train['StateHoliday'].astype('int64')\n",
    "ex_train.info()"
   ]
  },
  {
   "cell_type": "code",
   "execution_count": 52,
   "metadata": {
    "ExecuteTime": {
     "end_time": "2020-05-29T09:48:04.793427Z",
     "start_time": "2020-05-29T09:48:04.644346Z"
    },
    "colab": {
     "base_uri": "https://localhost:8080/",
     "height": 204
    },
    "colab_type": "code",
    "id": "uO-mAAQy1J8T",
    "outputId": "97585e6a-64a5-4a99-a7cd-456855bc86c3"
   },
   "outputs": [
    {
     "data": {
      "text/html": [
       "<div>\n",
       "<style scoped>\n",
       "    .dataframe tbody tr th:only-of-type {\n",
       "        vertical-align: middle;\n",
       "    }\n",
       "\n",
       "    .dataframe tbody tr th {\n",
       "        vertical-align: top;\n",
       "    }\n",
       "\n",
       "    .dataframe thead th {\n",
       "        text-align: right;\n",
       "    }\n",
       "</style>\n",
       "<table border=\"1\" class=\"dataframe\">\n",
       "  <thead>\n",
       "    <tr style=\"text-align: right;\">\n",
       "      <th></th>\n",
       "      <th>Open</th>\n",
       "      <th>Promotion</th>\n",
       "      <th>StateHoliday</th>\n",
       "      <th>SchoolHoliday</th>\n",
       "    </tr>\n",
       "  </thead>\n",
       "  <tbody>\n",
       "    <tr>\n",
       "      <th>7701</th>\n",
       "      <td>0</td>\n",
       "      <td>0</td>\n",
       "      <td>1</td>\n",
       "      <td>1</td>\n",
       "    </tr>\n",
       "    <tr>\n",
       "      <th>7650</th>\n",
       "      <td>1</td>\n",
       "      <td>0</td>\n",
       "      <td>0</td>\n",
       "      <td>1</td>\n",
       "    </tr>\n",
       "    <tr>\n",
       "      <th>7599</th>\n",
       "      <td>1</td>\n",
       "      <td>0</td>\n",
       "      <td>0</td>\n",
       "      <td>0</td>\n",
       "    </tr>\n",
       "    <tr>\n",
       "      <th>7548</th>\n",
       "      <td>0</td>\n",
       "      <td>0</td>\n",
       "      <td>0</td>\n",
       "      <td>0</td>\n",
       "    </tr>\n",
       "    <tr>\n",
       "      <th>7497</th>\n",
       "      <td>1</td>\n",
       "      <td>1</td>\n",
       "      <td>0</td>\n",
       "      <td>1</td>\n",
       "    </tr>\n",
       "  </tbody>\n",
       "</table>\n",
       "</div>"
      ],
      "text/plain": [
       "      Open  Promotion StateHoliday  SchoolHoliday\n",
       "7701     0          0            1              1\n",
       "7650     1          0            0              1\n",
       "7599     1          0            0              0\n",
       "7548     0          0            0              0\n",
       "7497     1          1            0              1"
      ]
     },
     "execution_count": 52,
     "metadata": {},
     "output_type": "execute_result"
    }
   ],
   "source": [
    "## State variable has numeric character which has to be convered\n",
    "ex_test[\"StateHoliday\"].loc[ex_test[\"StateHoliday\"] == \"0\"] = 0\n",
    "ex_test[\"StateHoliday\"].loc[ex_test[\"StateHoliday\"] == \"a\"] = 1\n",
    "ex_test[\"StateHoliday\"].loc[ex_test[\"StateHoliday\"] == \"b\"] = 2\n",
    "ex_test[\"StateHoliday\"].loc[ex_test[\"StateHoliday\"] == \"c\"] = 3\n",
    "ex_test.head()"
   ]
  },
  {
   "cell_type": "code",
   "execution_count": 53,
   "metadata": {
    "ExecuteTime": {
     "end_time": "2020-05-29T09:48:04.926948Z",
     "start_time": "2020-05-29T09:48:04.798326Z"
    }
   },
   "outputs": [
    {
     "name": "stdout",
     "output_type": "stream",
     "text": [
      "<class 'pandas.core.frame.DataFrame'>\n",
      "Int64Index: 152 entries, 7701 to 0\n",
      "Data columns (total 4 columns):\n",
      " #   Column         Non-Null Count  Dtype \n",
      "---  ------         --------------  ----- \n",
      " 0   Open           152 non-null    int64 \n",
      " 1   Promotion      152 non-null    int64 \n",
      " 2   StateHoliday   152 non-null    object\n",
      " 3   SchoolHoliday  152 non-null    int64 \n",
      "dtypes: int64(3), object(1)\n",
      "memory usage: 5.9+ KB\n"
     ]
    }
   ],
   "source": [
    "ex_test.info()"
   ]
  },
  {
   "cell_type": "code",
   "execution_count": 54,
   "metadata": {
    "ExecuteTime": {
     "end_time": "2020-05-29T09:48:05.054393Z",
     "start_time": "2020-05-29T09:48:04.930106Z"
    }
   },
   "outputs": [
    {
     "name": "stdout",
     "output_type": "stream",
     "text": [
      "<class 'pandas.core.frame.DataFrame'>\n",
      "Int64Index: 152 entries, 7701 to 0\n",
      "Data columns (total 4 columns):\n",
      " #   Column         Non-Null Count  Dtype\n",
      "---  ------         --------------  -----\n",
      " 0   Open           152 non-null    int64\n",
      " 1   Promotion      152 non-null    int64\n",
      " 2   StateHoliday   152 non-null    int64\n",
      " 3   SchoolHoliday  152 non-null    int64\n",
      "dtypes: int64(4)\n",
      "memory usage: 5.9 KB\n"
     ]
    }
   ],
   "source": [
    "ex_test['StateHoliday'] = ex_test['StateHoliday'].astype('int64')\n",
    "ex_test.info()"
   ]
  },
  {
   "cell_type": "code",
   "execution_count": 55,
   "metadata": {
    "ExecuteTime": {
     "end_time": "2020-05-29T09:48:05.160180Z",
     "start_time": "2020-05-29T09:48:05.059107Z"
    }
   },
   "outputs": [
    {
     "name": "stdout",
     "output_type": "stream",
     "text": [
      "Empty DataFrame\n",
      "Columns: [param, seasonal, AIC]\n",
      "Index: []\n"
     ]
    }
   ],
   "source": [
    "SARIMAX_AIC = pd.DataFrame(columns=['param','seasonal', 'AIC'])\n",
    "print(SARIMAX_AIC)"
   ]
  },
  {
   "cell_type": "code",
   "execution_count": 56,
   "metadata": {
    "ExecuteTime": {
     "end_time": "2020-05-29T09:58:53.578995Z",
     "start_time": "2020-05-29T09:48:05.165915Z"
    },
    "colab": {
     "base_uri": "https://localhost:8080/",
     "height": 1000
    },
    "colab_type": "code",
    "id": "WFy7b-CQ1J8f",
    "outputId": "2f255b5c-dd53-49e6-9981-18793c8b9c4e",
    "scrolled": true
   },
   "outputs": [
    {
     "name": "stdout",
     "output_type": "stream",
     "text": [
      "SARIMA(0, 0, 0)(0, 0, 0, 7) - AIC:8449.698132724228\n",
      "SARIMA(0, 0, 0)(0, 0, 1, 7) - AIC:8279.98480472933\n",
      "SARIMA(0, 0, 0)(0, 0, 2, 7) - AIC:8108.890193794648\n",
      "SARIMA(0, 0, 0)(1, 0, 0, 7) - AIC:8211.177700969916\n",
      "SARIMA(0, 0, 0)(1, 0, 1, 7) - AIC:7981.851668757995\n",
      "SARIMA(0, 0, 0)(1, 0, 2, 7) - AIC:7910.419010980676\n",
      "SARIMA(0, 0, 0)(2, 0, 0, 7) - AIC:8009.100683324965\n",
      "SARIMA(0, 0, 0)(2, 0, 1, 7) - AIC:7919.601671328055\n",
      "SARIMA(0, 0, 0)(2, 0, 2, 7) - AIC:7892.637113095068\n",
      "SARIMA(0, 0, 1)(0, 0, 0, 7) - AIC:8359.036904289142\n",
      "SARIMA(0, 0, 1)(0, 0, 1, 7) - AIC:8198.54330017995\n",
      "SARIMA(0, 0, 1)(0, 0, 2, 7) - AIC:8043.613101524841\n",
      "SARIMA(0, 0, 1)(1, 0, 0, 7) - AIC:8157.241975382818\n",
      "SARIMA(0, 0, 1)(1, 0, 1, 7) - AIC:7940.376314747527\n",
      "SARIMA(0, 0, 1)(1, 0, 2, 7) - AIC:7865.163188850631\n",
      "SARIMA(0, 0, 1)(2, 0, 0, 7) - AIC:7974.072467930224\n",
      "SARIMA(0, 0, 1)(2, 0, 1, 7) - AIC:7885.556291573992\n",
      "SARIMA(0, 0, 1)(2, 0, 2, 7) - AIC:7859.525106354978\n",
      "SARIMA(0, 0, 2)(0, 0, 0, 7) - AIC:8317.247187540732\n",
      "SARIMA(0, 0, 2)(0, 0, 1, 7) - AIC:8165.550343071612\n",
      "SARIMA(0, 0, 2)(0, 0, 2, 7) - AIC:8012.487128312081\n",
      "SARIMA(0, 0, 2)(1, 0, 0, 7) - AIC:8142.266599079898\n",
      "SARIMA(0, 0, 2)(1, 0, 1, 7) - AIC:7915.364803201399\n",
      "SARIMA(0, 0, 2)(1, 0, 2, 7) - AIC:7834.969097236507\n",
      "SARIMA(0, 0, 2)(2, 0, 0, 7) - AIC:7956.21055687728\n",
      "SARIMA(0, 0, 2)(2, 0, 1, 7) - AIC:7864.694680307237\n",
      "SARIMA(0, 0, 2)(2, 0, 2, 7) - AIC:7827.907768796984\n",
      "SARIMA(1, 0, 0)(0, 0, 0, 7) - AIC:8328.588529846282\n",
      "SARIMA(1, 0, 0)(0, 0, 1, 7) - AIC:8182.816183059761\n",
      "SARIMA(1, 0, 0)(0, 0, 2, 7) - AIC:8029.9872312653515\n",
      "SARIMA(1, 0, 0)(1, 0, 0, 7) - AIC:8124.499806695883\n",
      "SARIMA(1, 0, 0)(1, 0, 1, 7) - AIC:7934.362758948768\n",
      "SARIMA(1, 0, 0)(1, 0, 2, 7) - AIC:7860.841692899816\n",
      "SARIMA(1, 0, 0)(2, 0, 0, 7) - AIC:7937.537460848031\n",
      "SARIMA(1, 0, 0)(2, 0, 1, 7) - AIC:7859.157287900414\n",
      "SARIMA(1, 0, 0)(2, 0, 2, 7) - AIC:7850.662651839699\n",
      "SARIMA(1, 0, 1)(0, 0, 0, 7) - AIC:8242.684773741035\n",
      "SARIMA(1, 0, 1)(0, 0, 1, 7) - AIC:8133.835299202776\n",
      "SARIMA(1, 0, 1)(0, 0, 2, 7) - AIC:7984.9614289911\n",
      "SARIMA(1, 0, 1)(1, 0, 0, 7) - AIC:8100.86514403903\n",
      "SARIMA(1, 0, 1)(1, 0, 1, 7) - AIC:7888.380609962096\n",
      "SARIMA(1, 0, 1)(1, 0, 2, 7) - AIC:7807.882285488849\n",
      "SARIMA(1, 0, 1)(2, 0, 0, 7) - AIC:7908.456207284435\n",
      "SARIMA(1, 0, 1)(2, 0, 1, 7) - AIC:7816.5189541257905\n",
      "SARIMA(1, 0, 1)(2, 0, 2, 7) - AIC:7808.5560100500215\n",
      "SARIMA(1, 0, 2)(0, 0, 0, 7) - AIC:8213.846190125132\n",
      "SARIMA(1, 0, 2)(0, 0, 1, 7) - AIC:8104.882501806966\n",
      "SARIMA(1, 0, 2)(0, 0, 2, 7) - AIC:7975.973297489731\n",
      "SARIMA(1, 0, 2)(1, 0, 0, 7) - AIC:8102.7772460962715\n",
      "SARIMA(1, 0, 2)(1, 0, 1, 7) - AIC:7886.234036046997\n",
      "SARIMA(1, 0, 2)(1, 0, 2, 7) - AIC:7795.740950637166\n",
      "SARIMA(1, 0, 2)(2, 0, 0, 7) - AIC:7907.258209170228\n",
      "SARIMA(1, 0, 2)(2, 0, 1, 7) - AIC:7814.340352162297\n",
      "SARIMA(1, 0, 2)(2, 0, 2, 7) - AIC:7793.802240614036\n",
      "SARIMA(2, 0, 0)(0, 0, 0, 7) - AIC:8291.647217650885\n",
      "SARIMA(2, 0, 0)(0, 0, 1, 7) - AIC:8165.605032439248\n",
      "SARIMA(2, 0, 0)(0, 0, 2, 7) - AIC:8009.9372196202585\n",
      "SARIMA(2, 0, 0)(1, 0, 0, 7) - AIC:8097.496499711625\n",
      "SARIMA(2, 0, 0)(1, 0, 1, 7) - AIC:7899.058904610514\n",
      "SARIMA(2, 0, 0)(1, 0, 2, 7) - AIC:7833.222359399\n",
      "SARIMA(2, 0, 0)(2, 0, 0, 7) - AIC:7905.17259431619\n",
      "SARIMA(2, 0, 0)(2, 0, 1, 7) - AIC:7818.739239895506\n",
      "SARIMA(2, 0, 0)(2, 0, 2, 7) - AIC:7815.493974164143\n",
      "SARIMA(2, 0, 1)(0, 0, 0, 7) - AIC:8226.038427328727\n",
      "SARIMA(2, 0, 1)(0, 0, 1, 7) - AIC:8117.696430649485\n",
      "SARIMA(2, 0, 1)(0, 0, 2, 7) - AIC:7976.112490183685\n",
      "SARIMA(2, 0, 1)(1, 0, 0, 7) - AIC:8091.355581793829\n",
      "SARIMA(2, 0, 1)(1, 0, 1, 7) - AIC:7889.3715718777\n",
      "SARIMA(2, 0, 1)(1, 0, 2, 7) - AIC:7814.248435257558\n",
      "SARIMA(2, 0, 1)(2, 0, 0, 7) - AIC:7896.8971597846075\n",
      "SARIMA(2, 0, 1)(2, 0, 1, 7) - AIC:7810.625930523563\n",
      "SARIMA(2, 0, 1)(2, 0, 2, 7) - AIC:7805.172650386771\n",
      "SARIMA(2, 0, 2)(0, 0, 0, 7) - AIC:8222.882568252571\n",
      "SARIMA(2, 0, 2)(0, 0, 1, 7) - AIC:8116.467973437877\n",
      "SARIMA(2, 0, 2)(0, 0, 2, 7) - AIC:7981.334250917978\n",
      "SARIMA(2, 0, 2)(1, 0, 0, 7) - AIC:8097.499487038247\n",
      "SARIMA(2, 0, 2)(1, 0, 1, 7) - AIC:7912.024221499885\n",
      "SARIMA(2, 0, 2)(1, 0, 2, 7) - AIC:7810.562713676705\n",
      "SARIMA(2, 0, 2)(2, 0, 0, 7) - AIC:7909.705784301115\n",
      "SARIMA(2, 0, 2)(2, 0, 1, 7) - AIC:7859.593471547732\n",
      "SARIMA(2, 0, 2)(2, 0, 2, 7) - AIC:7816.0756377948455\n"
     ]
    }
   ],
   "source": [
    "## Let's first use SARIMAX with exogenous variable \n",
    "\n",
    "for param in pdq:\n",
    "    for param_seasonal in model_pdq:\n",
    "        mod = sm.tsa.statespace.SARIMAX(train['Customers'],exog=ex_train,\n",
    "                                            order=param,\n",
    "                                            seasonal_order=param_seasonal,\n",
    "                                            enforce_stationarity=False,\n",
    "                                            enforce_invertibility=False)\n",
    "            \n",
    "        results_SARIMAX = mod.fit()\n",
    "        print('SARIMA{}{} - AIC:{}'.format(param, param_seasonal, results_SARIMAX.aic))\n",
    "        SARIMAX_AIC = SARIMAX_AIC.append({'param':param,'seasonal':param_seasonal ,'AIC': results_SARIMAX.aic}, ignore_index=True)\n"
   ]
  },
  {
   "cell_type": "code",
   "execution_count": 57,
   "metadata": {
    "ExecuteTime": {
     "end_time": "2020-05-29T09:58:53.620920Z",
     "start_time": "2020-05-29T09:58:53.581426Z"
    }
   },
   "outputs": [
    {
     "data": {
      "text/html": [
       "<div>\n",
       "<style scoped>\n",
       "    .dataframe tbody tr th:only-of-type {\n",
       "        vertical-align: middle;\n",
       "    }\n",
       "\n",
       "    .dataframe tbody tr th {\n",
       "        vertical-align: top;\n",
       "    }\n",
       "\n",
       "    .dataframe thead th {\n",
       "        text-align: right;\n",
       "    }\n",
       "</style>\n",
       "<table border=\"1\" class=\"dataframe\">\n",
       "  <thead>\n",
       "    <tr style=\"text-align: right;\">\n",
       "      <th></th>\n",
       "      <th>param</th>\n",
       "      <th>seasonal</th>\n",
       "      <th>AIC</th>\n",
       "    </tr>\n",
       "  </thead>\n",
       "  <tbody>\n",
       "    <tr>\n",
       "      <th>53</th>\n",
       "      <td>(1, 0, 2)</td>\n",
       "      <td>(2, 0, 2, 7)</td>\n",
       "      <td>7793.802241</td>\n",
       "    </tr>\n",
       "    <tr>\n",
       "      <th>50</th>\n",
       "      <td>(1, 0, 2)</td>\n",
       "      <td>(1, 0, 2, 7)</td>\n",
       "      <td>7795.740951</td>\n",
       "    </tr>\n",
       "    <tr>\n",
       "      <th>71</th>\n",
       "      <td>(2, 0, 1)</td>\n",
       "      <td>(2, 0, 2, 7)</td>\n",
       "      <td>7805.172650</td>\n",
       "    </tr>\n",
       "    <tr>\n",
       "      <th>41</th>\n",
       "      <td>(1, 0, 1)</td>\n",
       "      <td>(1, 0, 2, 7)</td>\n",
       "      <td>7807.882285</td>\n",
       "    </tr>\n",
       "    <tr>\n",
       "      <th>44</th>\n",
       "      <td>(1, 0, 1)</td>\n",
       "      <td>(2, 0, 2, 7)</td>\n",
       "      <td>7808.556010</td>\n",
       "    </tr>\n",
       "  </tbody>\n",
       "</table>\n",
       "</div>"
      ],
      "text/plain": [
       "        param      seasonal          AIC\n",
       "53  (1, 0, 2)  (2, 0, 2, 7)  7793.802241\n",
       "50  (1, 0, 2)  (1, 0, 2, 7)  7795.740951\n",
       "71  (2, 0, 1)  (2, 0, 2, 7)  7805.172650\n",
       "41  (1, 0, 1)  (1, 0, 2, 7)  7807.882285\n",
       "44  (1, 0, 1)  (2, 0, 2, 7)  7808.556010"
      ]
     },
     "execution_count": 57,
     "metadata": {},
     "output_type": "execute_result"
    }
   ],
   "source": [
    "SARIMAX_AIC.sort_values(by=['AIC']).head()"
   ]
  },
  {
   "cell_type": "code",
   "execution_count": 91,
   "metadata": {
    "ExecuteTime": {
     "end_time": "2020-05-29T09:59:08.717185Z",
     "start_time": "2020-05-29T09:58:53.623523Z"
    },
    "colab": {
     "base_uri": "https://localhost:8080/",
     "height": 459
    },
    "colab_type": "code",
    "id": "eyp3pVxj1J8o",
    "outputId": "ae21592e-1052-424a-89f2-4cb01c970219"
   },
   "outputs": [
    {
     "name": "stdout",
     "output_type": "stream",
     "text": [
      "                                     SARIMAX Results                                     \n",
      "=========================================================================================\n",
      "Dep. Variable:                         Customers   No. Observations:                  730\n",
      "Model:             SARIMAX(1, 0, 2)x(2, 0, 2, 7)   Log Likelihood               -3884.901\n",
      "Date:                           Sun, 02 Jan 2022   AIC                           7793.802\n",
      "Time:                                   10:52:05   BIC                           7848.636\n",
      "Sample:                                        0   HQIC                          7814.981\n",
      "                                           - 730                                         \n",
      "Covariance Type:                             opg                                         \n",
      "=================================================================================\n",
      "                    coef    std err          z      P>|z|      [0.025      0.975]\n",
      "---------------------------------------------------------------------------------\n",
      "Open            518.1318     22.455     23.074      0.000     474.121     562.142\n",
      "Promotion        94.1517      6.963     13.522      0.000      80.505     107.799\n",
      "StateHoliday    -18.6205     13.286     -1.401      0.161     -44.661       7.420\n",
      "SchoolHoliday    13.3681      6.369      2.099      0.036       0.885      25.851\n",
      "ar.L1             0.7970      0.052     15.219      0.000       0.694       0.900\n",
      "ma.L1            -0.6554      0.064    -10.293      0.000      -0.780      -0.531\n",
      "ma.L2             0.1155      0.032      3.561      0.000       0.052       0.179\n",
      "ar.S.L7           0.2515      0.100      2.511      0.012       0.055       0.448\n",
      "ar.S.L14          0.7372      0.099      7.418      0.000       0.542       0.932\n",
      "ma.S.L7          -0.2419      0.118     -2.045      0.041      -0.474      -0.010\n",
      "ma.S.L14         -0.5364      0.108     -4.988      0.000      -0.747      -0.326\n",
      "sigma2         3116.7381    109.237     28.532      0.000    2902.637    3330.839\n",
      "===================================================================================\n",
      "Ljung-Box (L1) (Q):                   0.01   Jarque-Bera (JB):               963.17\n",
      "Prob(Q):                              0.91   Prob(JB):                         0.00\n",
      "Heteroskedasticity (H):               2.11   Skew:                             0.92\n",
      "Prob(H) (two-sided):                  0.00   Kurtosis:                         8.39\n",
      "===================================================================================\n",
      "\n",
      "Warnings:\n",
      "[1] Covariance matrix calculated using the outer product of gradients (complex-step).\n"
     ]
    }
   ],
   "source": [
    "## SARIMA(1, 0, 2)(2, 0, 2, 7)\n",
    "mod = sm.tsa.statespace.SARIMAX(train['Customers'],exog=ex_train,\n",
    "                                order=(1,0,2),\n",
    "                                seasonal_order=(2, 0, 2, 7),\n",
    "                                enforce_stationarity=False,\n",
    "                                enforce_invertibility=False)\n",
    "results = mod.fit()\n",
    "print(results.summary())"
   ]
  },
  {
   "cell_type": "markdown",
   "metadata": {},
   "source": [
    "Looking at the absolute values of z, we see 'Open' is most significant, followed by customer count yesterday(ar.L1), 'Promotion'and forecast error yesterday(ma.L1). 'Open', i.e, whether the store is open or not is the most significant predictor of customer count."
   ]
  },
  {
   "cell_type": "code",
   "execution_count": 59,
   "metadata": {
    "ExecuteTime": {
     "end_time": "2020-05-29T09:59:08.766550Z",
     "start_time": "2020-05-29T09:59:08.717185Z"
    }
   },
   "outputs": [
    {
     "data": {
      "text/plain": [
       "730     32.679334\n",
       "731    588.277050\n",
       "732    623.648143\n",
       "733     -8.871379\n",
       "734    811.741477\n",
       "          ...    \n",
       "877    547.418748\n",
       "878    568.248473\n",
       "879    601.678628\n",
       "880     -1.185924\n",
       "881    762.606920\n",
       "Name: predicted_mean, Length: 152, dtype: float64"
      ]
     },
     "execution_count": 59,
     "metadata": {},
     "output_type": "execute_result"
    }
   ],
   "source": [
    "pred = results.get_forecast(steps=152,exog=ex_test)\n",
    "pred.predicted_mean"
   ]
  },
  {
   "cell_type": "code",
   "execution_count": 60,
   "metadata": {
    "ExecuteTime": {
     "end_time": "2020-05-29T09:59:08.814018Z",
     "start_time": "2020-05-29T09:59:08.771937Z"
    }
   },
   "outputs": [
    {
     "name": "stdout",
     "output_type": "stream",
     "text": [
      "60.83615497045352\n"
     ]
    }
   ],
   "source": [
    "rmse_SARIMAX = sqrt(mean_squared_error(test.Customers ,pred.predicted_mean))\n",
    "print(rmse_SARIMAX)"
   ]
  },
  {
   "cell_type": "code",
   "execution_count": 61,
   "metadata": {
    "ExecuteTime": {
     "end_time": "2020-05-29T09:59:08.952441Z",
     "start_time": "2020-05-29T09:59:08.815396Z"
    }
   },
   "outputs": [
    {
     "data": {
      "text/html": [
       "<div>\n",
       "<style scoped>\n",
       "    .dataframe tbody tr th:only-of-type {\n",
       "        vertical-align: middle;\n",
       "    }\n",
       "\n",
       "    .dataframe tbody tr th {\n",
       "        vertical-align: top;\n",
       "    }\n",
       "\n",
       "    .dataframe thead th {\n",
       "        text-align: right;\n",
       "    }\n",
       "</style>\n",
       "<table border=\"1\" class=\"dataframe\">\n",
       "  <thead>\n",
       "    <tr style=\"text-align: right;\">\n",
       "      <th></th>\n",
       "      <th>RMSE</th>\n",
       "    </tr>\n",
       "  </thead>\n",
       "  <tbody>\n",
       "    <tr>\n",
       "      <th>ARIMA(2,0,2)</th>\n",
       "      <td>236.909257</td>\n",
       "    </tr>\n",
       "    <tr>\n",
       "      <th>SARIMA(0,0,1)(2,0,2)7</th>\n",
       "      <td>149.215315</td>\n",
       "    </tr>\n",
       "    <tr>\n",
       "      <th>SARIMAX(1,0,2)(2,0,2)7</th>\n",
       "      <td>60.836155</td>\n",
       "    </tr>\n",
       "  </tbody>\n",
       "</table>\n",
       "</div>"
      ],
      "text/plain": [
       "                              RMSE\n",
       "ARIMA(2,0,2)            236.909257\n",
       "SARIMA(0,0,1)(2,0,2)7   149.215315\n",
       "SARIMAX(1,0,2)(2,0,2)7   60.836155"
      ]
     },
     "execution_count": 61,
     "metadata": {},
     "output_type": "execute_result"
    }
   ],
   "source": [
    "temp_resultsDf = pd.DataFrame({'RMSE': [rmse_SARIMAX]}\n",
    "                           ,index=['SARIMAX(1,0,2)(2,0,2)7'])\n",
    "\n",
    "resultsDf = pd.concat([resultsDf, temp_resultsDf])\n",
    "resultsDf"
   ]
  },
  {
   "cell_type": "code",
   "execution_count": 62,
   "metadata": {
    "ExecuteTime": {
     "end_time": "2020-05-29T09:59:29.387506Z",
     "start_time": "2020-05-29T09:59:08.954475Z"
    }
   },
   "outputs": [
    {
     "name": "stdout",
     "output_type": "stream",
     "text": [
      "                                     SARIMAX Results                                     \n",
      "=========================================================================================\n",
      "Dep. Variable:                         Customers   No. Observations:                  730\n",
      "Model:             SARIMAX(1, 0, 2)x(2, 0, 2, 7)   Log Likelihood               -3870.763\n",
      "Date:                           Sat, 01 Jan 2022   AIC                           7765.527\n",
      "Time:                                   17:04:43   BIC                           7820.293\n",
      "Sample:                                        0   HQIC                          7786.685\n",
      "                                           - 730                                         \n",
      "Covariance Type:                             opg                                         \n",
      "=====================================================================================\n",
      "                        coef    std err          z      P>|z|      [0.025      0.975]\n",
      "-------------------------------------------------------------------------------------\n",
      "ar.L1                 0.6251      0.145      4.297      0.000       0.340       0.910\n",
      "ma.L1                -0.4591      0.145     -3.167      0.002      -0.743      -0.175\n",
      "ma.L2                 0.0856      0.044      1.939      0.053      -0.001       0.172\n",
      "ar.S.L7               1.0833      0.079     13.759      0.000       0.929       1.238\n",
      "ar.S.L14             -0.0781      0.079     -0.987      0.324      -0.233       0.077\n",
      "ma.S.L7              -1.1960      0.097    -12.306      0.000      -1.386      -1.006\n",
      "ma.S.L14              0.1848      0.088      2.089      0.037       0.011       0.358\n",
      "var.Open             23.4032      7.293      3.209      0.001       9.108      37.698\n",
      "var.Promotion         7.8288      7.961      0.983      0.325      -7.774      23.432\n",
      "var.StateHoliday      8.9851     14.996      0.599      0.549     -20.407      38.377\n",
      "var.SchoolHoliday     2.3620      2.209      1.070      0.285      -1.967       6.691\n",
      "sigma2             2559.5325    144.416     17.723      0.000    2276.482    2842.583\n",
      "===================================================================================\n",
      "Ljung-Box (L1) (Q):                   0.64   Jarque-Bera (JB):               681.02\n",
      "Prob(Q):                              0.42   Prob(JB):                         0.00\n",
      "Heteroskedasticity (H):               1.90   Skew:                             0.39\n",
      "Prob(H) (two-sided):                  0.00   Kurtosis:                         7.74\n",
      "===================================================================================\n",
      "\n",
      "Warnings:\n",
      "[1] Covariance matrix calculated using the outer product of gradients (complex-step).\n"
     ]
    }
   ],
   "source": [
    "## Let's use SARIMAX with exogenous variable whose coefficients are allowed to vary over time \n",
    "## Time Varying Linear Model[TVLM] SARIMA(1, 0, 2)(2, 0, 2, 7)\n",
    "mod = sm.tsa.statespace.SARIMAX(train['Customers'],exog=ex_train,time_varying_regression=True,mle_regression=False,\n",
    "                                order=(1,0,2),\n",
    "                                seasonal_order=(2, 0, 2, 7),\n",
    "                                enforce_stationarity=False,\n",
    "                                enforce_invertibility=False)\n",
    "results = mod.fit()\n",
    "print(results.summary())"
   ]
  },
  {
   "cell_type": "code",
   "execution_count": 63,
   "metadata": {
    "ExecuteTime": {
     "end_time": "2020-05-29T09:59:29.419674Z",
     "start_time": "2020-05-29T09:59:29.392136Z"
    },
    "colab": {
     "base_uri": "https://localhost:8080/",
     "height": 221
    },
    "colab_type": "code",
    "id": "ab7_qyEV1J8v",
    "outputId": "2d9fa3f4-bb78-4b5c-a908-4fcabbe9ba81"
   },
   "outputs": [
    {
     "data": {
      "text/plain": [
       "730    -86.817515\n",
       "731    620.882407\n",
       "732    635.345374\n",
       "733     -9.924419\n",
       "734    849.111687\n",
       "          ...    \n",
       "877    565.826743\n",
       "878    605.510473\n",
       "879    637.386290\n",
       "880     -0.238909\n",
       "881    822.104147\n",
       "Name: predicted_mean, Length: 152, dtype: float64"
      ]
     },
     "execution_count": 63,
     "metadata": {},
     "output_type": "execute_result"
    }
   ],
   "source": [
    "pred = results.get_forecast(steps=152,exog=ex_test)\n",
    "pred.predicted_mean"
   ]
  },
  {
   "cell_type": "code",
   "execution_count": 64,
   "metadata": {
    "ExecuteTime": {
     "end_time": "2020-05-29T09:59:29.674794Z",
     "start_time": "2020-05-29T09:59:29.421456Z"
    },
    "colab": {
     "base_uri": "https://localhost:8080/",
     "height": 34
    },
    "colab_type": "code",
    "id": "6Y7Mfdm01J83",
    "outputId": "3d9a9aeb-d6f5-44c7-9426-479e70285354"
   },
   "outputs": [
    {
     "name": "stdout",
     "output_type": "stream",
     "text": [
      "57.75260682641803\n"
     ]
    }
   ],
   "source": [
    "rmse_SARIMAX_timevarying = sqrt(mean_squared_error(test.Customers ,pred.predicted_mean))\n",
    "print(rmse_SARIMAX_timevarying)"
   ]
  },
  {
   "cell_type": "code",
   "execution_count": 65,
   "metadata": {
    "ExecuteTime": {
     "end_time": "2020-05-29T09:59:29.863622Z",
     "start_time": "2020-05-29T09:59:29.682188Z"
    }
   },
   "outputs": [
    {
     "data": {
      "text/html": [
       "<div>\n",
       "<style scoped>\n",
       "    .dataframe tbody tr th:only-of-type {\n",
       "        vertical-align: middle;\n",
       "    }\n",
       "\n",
       "    .dataframe tbody tr th {\n",
       "        vertical-align: top;\n",
       "    }\n",
       "\n",
       "    .dataframe thead th {\n",
       "        text-align: right;\n",
       "    }\n",
       "</style>\n",
       "<table border=\"1\" class=\"dataframe\">\n",
       "  <thead>\n",
       "    <tr style=\"text-align: right;\">\n",
       "      <th></th>\n",
       "      <th>RMSE</th>\n",
       "    </tr>\n",
       "  </thead>\n",
       "  <tbody>\n",
       "    <tr>\n",
       "      <th>ARIMA(2,0,2)</th>\n",
       "      <td>236.909257</td>\n",
       "    </tr>\n",
       "    <tr>\n",
       "      <th>SARIMA(0,0,1)(2,0,2)7</th>\n",
       "      <td>149.215315</td>\n",
       "    </tr>\n",
       "    <tr>\n",
       "      <th>SARIMAX(1,0,2)(2,0,2)7</th>\n",
       "      <td>60.836155</td>\n",
       "    </tr>\n",
       "    <tr>\n",
       "      <th>SARIMAX_tvlm(1,0,2)(2,0,2)7</th>\n",
       "      <td>57.752607</td>\n",
       "    </tr>\n",
       "  </tbody>\n",
       "</table>\n",
       "</div>"
      ],
      "text/plain": [
       "                                   RMSE\n",
       "ARIMA(2,0,2)                 236.909257\n",
       "SARIMA(0,0,1)(2,0,2)7        149.215315\n",
       "SARIMAX(1,0,2)(2,0,2)7        60.836155\n",
       "SARIMAX_tvlm(1,0,2)(2,0,2)7   57.752607"
      ]
     },
     "execution_count": 65,
     "metadata": {},
     "output_type": "execute_result"
    }
   ],
   "source": [
    "temp_resultsDf = pd.DataFrame({'RMSE': [rmse_SARIMAX_timevarying]}\n",
    "                           ,index=['SARIMAX_tvlm(1,0,2)(2,0,2)7'])\n",
    "\n",
    "resultsDf = pd.concat([resultsDf, temp_resultsDf])\n",
    "resultsDf"
   ]
  },
  {
   "cell_type": "code",
   "execution_count": 66,
   "metadata": {
    "ExecuteTime": {
     "end_time": "2020-05-29T09:59:30.033935Z",
     "start_time": "2020-05-29T09:59:29.868339Z"
    },
    "colab": {},
    "colab_type": "code",
    "id": "UaymcMF-1J8-"
   },
   "outputs": [],
   "source": [
    "ex_1044=Store50_1044[['Open','Promotion','StateHoliday','SchoolHoliday']]"
   ]
  },
  {
   "cell_type": "code",
   "execution_count": 67,
   "metadata": {
    "ExecuteTime": {
     "end_time": "2020-05-29T09:59:30.202921Z",
     "start_time": "2020-05-29T09:59:30.034978Z"
    },
    "colab": {
     "base_uri": "https://localhost:8080/",
     "height": 204
    },
    "colab_type": "code",
    "id": "pvxf4Uj11J9D",
    "outputId": "d8ac11a7-f88d-4d94-c83c-68c706746bff"
   },
   "outputs": [
    {
     "data": {
      "text/html": [
       "<div>\n",
       "<style scoped>\n",
       "    .dataframe tbody tr th:only-of-type {\n",
       "        vertical-align: middle;\n",
       "    }\n",
       "\n",
       "    .dataframe tbody tr th {\n",
       "        vertical-align: top;\n",
       "    }\n",
       "\n",
       "    .dataframe thead th {\n",
       "        text-align: right;\n",
       "    }\n",
       "</style>\n",
       "<table border=\"1\" class=\"dataframe\">\n",
       "  <thead>\n",
       "    <tr style=\"text-align: right;\">\n",
       "      <th></th>\n",
       "      <th>Open</th>\n",
       "      <th>Promotion</th>\n",
       "      <th>StateHoliday</th>\n",
       "      <th>SchoolHoliday</th>\n",
       "    </tr>\n",
       "  </thead>\n",
       "  <tbody>\n",
       "    <tr>\n",
       "      <th>43275</th>\n",
       "      <td>0</td>\n",
       "      <td>0</td>\n",
       "      <td>1</td>\n",
       "      <td>1</td>\n",
       "    </tr>\n",
       "    <tr>\n",
       "      <th>43224</th>\n",
       "      <td>1</td>\n",
       "      <td>0</td>\n",
       "      <td>0</td>\n",
       "      <td>1</td>\n",
       "    </tr>\n",
       "    <tr>\n",
       "      <th>43173</th>\n",
       "      <td>1</td>\n",
       "      <td>0</td>\n",
       "      <td>0</td>\n",
       "      <td>1</td>\n",
       "    </tr>\n",
       "    <tr>\n",
       "      <th>43122</th>\n",
       "      <td>1</td>\n",
       "      <td>0</td>\n",
       "      <td>0</td>\n",
       "      <td>1</td>\n",
       "    </tr>\n",
       "    <tr>\n",
       "      <th>43071</th>\n",
       "      <td>1</td>\n",
       "      <td>0</td>\n",
       "      <td>0</td>\n",
       "      <td>0</td>\n",
       "    </tr>\n",
       "  </tbody>\n",
       "</table>\n",
       "</div>"
      ],
      "text/plain": [
       "       Open  Promotion StateHoliday  SchoolHoliday\n",
       "43275     0          0            1              1\n",
       "43224     1          0            0              1\n",
       "43173     1          0            0              1\n",
       "43122     1          0            0              1\n",
       "43071     1          0            0              0"
      ]
     },
     "execution_count": 67,
     "metadata": {},
     "output_type": "execute_result"
    }
   ],
   "source": [
    "## State variable has numeric character which has to be convered\n",
    "ex_1044[\"StateHoliday\"].loc[ex_1044[\"StateHoliday\"] == \"0\"] = 0\n",
    "ex_1044[\"StateHoliday\"].loc[ex_1044[\"StateHoliday\"] == \"a\"] = 1\n",
    "ex_1044[\"StateHoliday\"].loc[ex_1044[\"StateHoliday\"] == \"b\"] = 2\n",
    "ex_1044[\"StateHoliday\"].loc[ex_1044[\"StateHoliday\"] == \"c\"] = 3\n",
    "ex_1044.head()"
   ]
  },
  {
   "cell_type": "code",
   "execution_count": 68,
   "metadata": {
    "ExecuteTime": {
     "end_time": "2020-05-29T09:59:30.338187Z",
     "start_time": "2020-05-29T09:59:30.231619Z"
    }
   },
   "outputs": [
    {
     "name": "stdout",
     "output_type": "stream",
     "text": [
      "<class 'pandas.core.frame.DataFrame'>\n",
      "Int64Index: 882 entries, 43275 to 0\n",
      "Data columns (total 4 columns):\n",
      " #   Column         Non-Null Count  Dtype \n",
      "---  ------         --------------  ----- \n",
      " 0   Open           882 non-null    int64 \n",
      " 1   Promotion      882 non-null    int64 \n",
      " 2   StateHoliday   882 non-null    object\n",
      " 3   SchoolHoliday  882 non-null    int64 \n",
      "dtypes: int64(3), object(1)\n",
      "memory usage: 34.5+ KB\n"
     ]
    }
   ],
   "source": [
    "ex_1044.info()"
   ]
  },
  {
   "cell_type": "code",
   "execution_count": 69,
   "metadata": {
    "ExecuteTime": {
     "end_time": "2020-05-29T09:59:30.451740Z",
     "start_time": "2020-05-29T09:59:30.356285Z"
    }
   },
   "outputs": [
    {
     "name": "stdout",
     "output_type": "stream",
     "text": [
      "<class 'pandas.core.frame.DataFrame'>\n",
      "Int64Index: 882 entries, 43275 to 0\n",
      "Data columns (total 4 columns):\n",
      " #   Column         Non-Null Count  Dtype\n",
      "---  ------         --------------  -----\n",
      " 0   Open           882 non-null    int64\n",
      " 1   Promotion      882 non-null    int64\n",
      " 2   StateHoliday   882 non-null    int64\n",
      " 3   SchoolHoliday  882 non-null    int64\n",
      "dtypes: int64(4)\n",
      "memory usage: 34.5 KB\n"
     ]
    }
   ],
   "source": [
    "ex_1044['StateHoliday'] = ex_1044['StateHoliday'].astype('int64')\n",
    "ex_1044.info()"
   ]
  },
  {
   "cell_type": "code",
   "execution_count": 70,
   "metadata": {
    "ExecuteTime": {
     "end_time": "2020-05-29T09:59:49.383291Z",
     "start_time": "2020-05-29T09:59:30.456831Z"
    },
    "colab": {
     "base_uri": "https://localhost:8080/",
     "height": 170
    },
    "colab_type": "code",
    "id": "33BWkLlo1J9P",
    "outputId": "2da89653-9555-4e0f-9e00-ab303b32d24b"
   },
   "outputs": [
    {
     "name": "stdout",
     "output_type": "stream",
     "text": [
      "                                     SARIMAX Results                                     \n",
      "=========================================================================================\n",
      "Dep. Variable:                         Customers   No. Observations:                  882\n",
      "Model:             SARIMAX(1, 0, 2)x(2, 0, 2, 7)   Log Likelihood               -4712.961\n",
      "Date:                           Sat, 01 Jan 2022   AIC                           9449.922\n",
      "Time:                                   17:04:53   BIC                           9507.075\n",
      "Sample:                                        0   HQIC                          9471.796\n",
      "                                           - 882                                         \n",
      "Covariance Type:                             opg                                         \n",
      "=================================================================================\n",
      "                    coef    std err          z      P>|z|      [0.025      0.975]\n",
      "---------------------------------------------------------------------------------\n",
      "Open            532.4535     19.387     27.465      0.000     494.456     570.450\n",
      "Promotion        96.4106      5.764     16.727      0.000      85.114     107.708\n",
      "StateHoliday    -19.3260     12.002     -1.610      0.107     -42.850       4.198\n",
      "SchoolHoliday     9.6136      5.677      1.694      0.090      -1.512      20.740\n",
      "ar.L1             0.8265      0.043     19.060      0.000       0.742       0.912\n",
      "ma.L1            -0.7157      0.053    -13.474      0.000      -0.820      -0.612\n",
      "ma.L2             0.1186      0.028      4.260      0.000       0.064       0.173\n",
      "ar.S.L7           0.2747      0.093      2.951      0.003       0.092       0.457\n",
      "ar.S.L14          0.7118      0.092      7.702      0.000       0.531       0.893\n",
      "ma.S.L7          -0.2885      0.109     -2.643      0.008      -0.502      -0.075\n",
      "ma.S.L14         -0.5147      0.100     -5.162      0.000      -0.710      -0.319\n",
      "sigma2         3057.1378     99.895     30.604      0.000    2861.348    3252.928\n",
      "===================================================================================\n",
      "Ljung-Box (L1) (Q):                   0.14   Jarque-Bera (JB):               956.57\n",
      "Prob(Q):                              0.71   Prob(JB):                         0.00\n",
      "Heteroskedasticity (H):               1.89   Skew:                             0.90\n",
      "Prob(H) (two-sided):                  0.00   Kurtosis:                         7.82\n",
      "===================================================================================\n",
      "\n",
      "Warnings:\n",
      "[1] Covariance matrix calculated using the outer product of gradients (complex-step).\n"
     ]
    }
   ],
   "source": [
    "## To get the real forecast for 7 days, we will rerun the model on the complete dataset\n",
    "\n",
    "mod = sm.tsa.statespace.SARIMAX(Store50_1044['Customers'],exog=ex_1044,\n",
    "                                order=(1,0,2),\n",
    "                                seasonal_order=(2, 0, 2, 7),\n",
    "                                enforce_stationarity=False,\n",
    "                                enforce_invertibility=False)\n",
    "results = mod.fit()\n",
    "print(results.summary())"
   ]
  },
  {
   "cell_type": "markdown",
   "metadata": {
    "colab_type": "text",
    "id": "t29sYWF11J-W"
   },
   "source": [
    "\n"
   ]
  },
  {
   "cell_type": "markdown",
   "metadata": {
    "colab": {},
    "colab_type": "code",
    "id": "vhQmUQgg1J-Y"
   },
   "source": [
    "Role of Exogenous variables is not to reduce errors but to ensure to consider the additional variables in a practical way."
   ]
  },
  {
   "cell_type": "markdown",
   "metadata": {
    "colab": {},
    "colab_type": "code",
    "id": "iUpCUfdf1J-c"
   },
   "source": [
    "Now let's verify if the order as we got it using ACF and PACF gives you a better model in terms of performance.\n",
    "So we will build two models with order=(0,0,0),seasonal_order=(1, 1,1, 7) and order=(0,0,1),seasonal_order=(1, 1,1, 7) for both \n",
    "SARIMAX with and without exogeneous variables\n",
    "seasonality value for P and Q is assumed to be one because as per ACF and PACF plot seasonality was visible for every 7th period. \n",
    "In our SARIMAX loop in the earlier part of code we have assumed d to be 0. With this we will verify if first order differentiation makes a difference \n",
    "in terms of value of p and q both for the order and seasonal order."
   ]
  },
  {
   "cell_type": "code",
   "execution_count": 71,
   "metadata": {
    "ExecuteTime": {
     "end_time": "2020-05-29T09:59:51.237999Z",
     "start_time": "2020-05-29T09:59:49.385323Z"
    }
   },
   "outputs": [
    {
     "name": "stdout",
     "output_type": "stream",
     "text": [
      "                                 SARIMAX Results                                 \n",
      "=================================================================================\n",
      "Dep. Variable:                 Customers   No. Observations:                  730\n",
      "Model:             SARIMAX(1, 1, [1], 7)   Log Likelihood               -4447.653\n",
      "Date:                   Sat, 01 Jan 2022   AIC                           8901.305\n",
      "Time:                           17:04:54   BIC                           8915.022\n",
      "Sample:                                0   HQIC                          8906.602\n",
      "                                   - 730                                         \n",
      "Covariance Type:                     opg                                         \n",
      "==============================================================================\n",
      "                 coef    std err          z      P>|z|      [0.025      0.975]\n",
      "------------------------------------------------------------------------------\n",
      "ar.S.L7       -0.1793      0.034     -5.256      0.000      -0.246      -0.112\n",
      "ma.S.L7       -0.8971      0.019    -47.406      0.000      -0.934      -0.860\n",
      "sigma2      1.464e+04    344.168     42.533      0.000     1.4e+04    1.53e+04\n",
      "===================================================================================\n",
      "Ljung-Box (L1) (Q):                   1.39   Jarque-Bera (JB):              4296.24\n",
      "Prob(Q):                              0.24   Prob(JB):                         0.00\n",
      "Heteroskedasticity (H):               1.65   Skew:                            -2.40\n",
      "Prob(H) (two-sided):                  0.00   Kurtosis:                        14.01\n",
      "===================================================================================\n",
      "\n",
      "Warnings:\n",
      "[1] Covariance matrix calculated using the outer product of gradients (complex-step).\n"
     ]
    }
   ],
   "source": [
    "## SARIMA(0, 0, 0)(1,1,1, 7) \n",
    "mod = sm.tsa.statespace.SARIMAX(train['Customers'],\n",
    "                                order=(0,0,0),\n",
    "                                seasonal_order=(1, 1, 1, 7),\n",
    "                                enforce_stationarity=False,\n",
    "                                enforce_invertibility=False)\n",
    "results = mod.fit()\n",
    "print(results.summary())"
   ]
  },
  {
   "cell_type": "code",
   "execution_count": 72,
   "metadata": {
    "ExecuteTime": {
     "end_time": "2020-05-29T09:59:51.272630Z",
     "start_time": "2020-05-29T09:59:51.242649Z"
    }
   },
   "outputs": [
    {
     "data": {
      "text/plain": [
       "730    642.531306\n",
       "731    665.945207\n",
       "732    593.709434\n",
       "733      0.000000\n",
       "734    746.046269\n",
       "          ...    \n",
       "877    544.846190\n",
       "878    564.700437\n",
       "879    585.087803\n",
       "880      0.000000\n",
       "881    734.028732\n",
       "Name: predicted_mean, Length: 152, dtype: float64"
      ]
     },
     "execution_count": 72,
     "metadata": {},
     "output_type": "execute_result"
    }
   ],
   "source": [
    "test.Customers= test.Customers.astype(float)\n",
    "final_hat_avg =test.copy()\n",
    "pred = results.get_forecast(steps=152)\n",
    "pred.predicted_mean"
   ]
  },
  {
   "cell_type": "code",
   "execution_count": 73,
   "metadata": {
    "ExecuteTime": {
     "end_time": "2020-05-29T09:59:51.425953Z",
     "start_time": "2020-05-29T09:59:51.273627Z"
    }
   },
   "outputs": [
    {
     "name": "stdout",
     "output_type": "stream",
     "text": [
      "149.42542301546106\n"
     ]
    }
   ],
   "source": [
    "from math import sqrt\n",
    "from sklearn.metrics import mean_squared_error\n",
    "rms = sqrt(mean_squared_error(test.Customers ,pred.predicted_mean))\n",
    "print(rms)"
   ]
  },
  {
   "cell_type": "code",
   "execution_count": 74,
   "metadata": {
    "ExecuteTime": {
     "end_time": "2020-05-29T09:59:51.630367Z",
     "start_time": "2020-05-29T09:59:51.429951Z"
    }
   },
   "outputs": [
    {
     "data": {
      "text/html": [
       "<div>\n",
       "<style scoped>\n",
       "    .dataframe tbody tr th:only-of-type {\n",
       "        vertical-align: middle;\n",
       "    }\n",
       "\n",
       "    .dataframe tbody tr th {\n",
       "        vertical-align: top;\n",
       "    }\n",
       "\n",
       "    .dataframe thead th {\n",
       "        text-align: right;\n",
       "    }\n",
       "</style>\n",
       "<table border=\"1\" class=\"dataframe\">\n",
       "  <thead>\n",
       "    <tr style=\"text-align: right;\">\n",
       "      <th></th>\n",
       "      <th>RMSE</th>\n",
       "    </tr>\n",
       "  </thead>\n",
       "  <tbody>\n",
       "    <tr>\n",
       "      <th>ARIMA(2,0,2)</th>\n",
       "      <td>236.909257</td>\n",
       "    </tr>\n",
       "    <tr>\n",
       "      <th>SARIMA(0,0,1)(2,0,2)7</th>\n",
       "      <td>149.215315</td>\n",
       "    </tr>\n",
       "    <tr>\n",
       "      <th>SARIMAX(1,0,2)(2,0,2)7</th>\n",
       "      <td>60.836155</td>\n",
       "    </tr>\n",
       "    <tr>\n",
       "      <th>SARIMAX_tvlm(1,0,2)(2,0,2)7</th>\n",
       "      <td>57.752607</td>\n",
       "    </tr>\n",
       "    <tr>\n",
       "      <th>SARIMA(0,0,0)(1,1,1)7</th>\n",
       "      <td>149.425423</td>\n",
       "    </tr>\n",
       "  </tbody>\n",
       "</table>\n",
       "</div>"
      ],
      "text/plain": [
       "                                   RMSE\n",
       "ARIMA(2,0,2)                 236.909257\n",
       "SARIMA(0,0,1)(2,0,2)7        149.215315\n",
       "SARIMAX(1,0,2)(2,0,2)7        60.836155\n",
       "SARIMAX_tvlm(1,0,2)(2,0,2)7   57.752607\n",
       "SARIMA(0,0,0)(1,1,1)7        149.425423"
      ]
     },
     "execution_count": 74,
     "metadata": {},
     "output_type": "execute_result"
    }
   ],
   "source": [
    "temp_resultsDf = pd.DataFrame({'RMSE': [rms]}\n",
    "                           ,index=['SARIMA(0,0,0)(1,1,1)7'])\n",
    "\n",
    "resultsDf = pd.concat([resultsDf, temp_resultsDf])\n",
    "resultsDf"
   ]
  },
  {
   "cell_type": "code",
   "execution_count": 75,
   "metadata": {
    "ExecuteTime": {
     "end_time": "2020-05-29T09:59:53.777947Z",
     "start_time": "2020-05-29T09:59:51.633489Z"
    }
   },
   "outputs": [
    {
     "name": "stdout",
     "output_type": "stream",
     "text": [
      "                                     SARIMAX Results                                     \n",
      "=========================================================================================\n",
      "Dep. Variable:                         Customers   No. Observations:                  730\n",
      "Model:             SARIMAX(0, 0, 1)x(1, 1, 1, 7)   Log Likelihood               -4440.512\n",
      "Date:                           Sat, 01 Jan 2022   AIC                           8889.024\n",
      "Time:                                   17:04:54   BIC                           8907.308\n",
      "Sample:                                        0   HQIC                          8896.085\n",
      "                                           - 730                                         \n",
      "Covariance Type:                             opg                                         \n",
      "==============================================================================\n",
      "                 coef    std err          z      P>|z|      [0.025      0.975]\n",
      "------------------------------------------------------------------------------\n",
      "ma.L1          0.0574      0.023      2.504      0.012       0.012       0.102\n",
      "ar.S.L7       -0.1668      0.035     -4.796      0.000      -0.235      -0.099\n",
      "ma.S.L7       -0.9018      0.019    -48.285      0.000      -0.938      -0.865\n",
      "sigma2       1.46e+04    343.245     42.534      0.000    1.39e+04    1.53e+04\n",
      "===================================================================================\n",
      "Ljung-Box (L1) (Q):                   0.12   Jarque-Bera (JB):              4328.05\n",
      "Prob(Q):                              0.73   Prob(JB):                         0.00\n",
      "Heteroskedasticity (H):               1.60   Skew:                            -2.41\n",
      "Prob(H) (two-sided):                  0.00   Kurtosis:                        14.06\n",
      "===================================================================================\n",
      "\n",
      "Warnings:\n",
      "[1] Covariance matrix calculated using the outer product of gradients (complex-step).\n"
     ]
    }
   ],
   "source": [
    "## SARIMA(0, 0, 1)(1,1,1, 7) \n",
    "mod = sm.tsa.statespace.SARIMAX(train['Customers'],\n",
    "                                order=(0,0,1),\n",
    "                                seasonal_order=(1, 1, 1, 7),\n",
    "                                enforce_stationarity=False,\n",
    "                                enforce_invertibility=False)\n",
    "results = mod.fit()\n",
    "print(results.summary())"
   ]
  },
  {
   "cell_type": "code",
   "execution_count": 76,
   "metadata": {
    "ExecuteTime": {
     "end_time": "2020-05-29T09:59:53.813172Z",
     "start_time": "2020-05-29T09:59:53.782214Z"
    }
   },
   "outputs": [
    {
     "data": {
      "text/plain": [
       "730    6.272193e+02\n",
       "731    6.593675e+02\n",
       "732    5.909295e+02\n",
       "733   -1.002132e-06\n",
       "734    7.422851e+02\n",
       "           ...     \n",
       "877    5.438530e+02\n",
       "878    5.651201e+02\n",
       "879    5.832210e+02\n",
       "880   -8.588912e-07\n",
       "881    7.315241e+02\n",
       "Name: predicted_mean, Length: 152, dtype: float64"
      ]
     },
     "execution_count": 76,
     "metadata": {},
     "output_type": "execute_result"
    }
   ],
   "source": [
    "test.Customers= test.Customers.astype(float)\n",
    "final_hat_avg =test.copy()\n",
    "pred = results.get_forecast(steps=152)\n",
    "pred.predicted_mean"
   ]
  },
  {
   "cell_type": "code",
   "execution_count": 77,
   "metadata": {
    "ExecuteTime": {
     "end_time": "2020-05-29T09:59:53.899293Z",
     "start_time": "2020-05-29T09:59:53.817162Z"
    }
   },
   "outputs": [
    {
     "name": "stdout",
     "output_type": "stream",
     "text": [
      "148.93879114879144\n"
     ]
    }
   ],
   "source": [
    "rms = sqrt(mean_squared_error(test.Customers ,pred.predicted_mean))\n",
    "print(rms)"
   ]
  },
  {
   "cell_type": "code",
   "execution_count": 78,
   "metadata": {
    "ExecuteTime": {
     "end_time": "2020-05-29T09:59:54.016388Z",
     "start_time": "2020-05-29T09:59:53.903036Z"
    }
   },
   "outputs": [
    {
     "data": {
      "text/html": [
       "<div>\n",
       "<style scoped>\n",
       "    .dataframe tbody tr th:only-of-type {\n",
       "        vertical-align: middle;\n",
       "    }\n",
       "\n",
       "    .dataframe tbody tr th {\n",
       "        vertical-align: top;\n",
       "    }\n",
       "\n",
       "    .dataframe thead th {\n",
       "        text-align: right;\n",
       "    }\n",
       "</style>\n",
       "<table border=\"1\" class=\"dataframe\">\n",
       "  <thead>\n",
       "    <tr style=\"text-align: right;\">\n",
       "      <th></th>\n",
       "      <th>RMSE</th>\n",
       "    </tr>\n",
       "  </thead>\n",
       "  <tbody>\n",
       "    <tr>\n",
       "      <th>ARIMA(2,0,2)</th>\n",
       "      <td>236.909257</td>\n",
       "    </tr>\n",
       "    <tr>\n",
       "      <th>SARIMA(0,0,1)(2,0,2)7</th>\n",
       "      <td>149.215315</td>\n",
       "    </tr>\n",
       "    <tr>\n",
       "      <th>SARIMAX(1,0,2)(2,0,2)7</th>\n",
       "      <td>60.836155</td>\n",
       "    </tr>\n",
       "    <tr>\n",
       "      <th>SARIMAX_tvlm(1,0,2)(2,0,2)7</th>\n",
       "      <td>57.752607</td>\n",
       "    </tr>\n",
       "    <tr>\n",
       "      <th>SARIMA(0,0,0)(1,1,1)7</th>\n",
       "      <td>149.425423</td>\n",
       "    </tr>\n",
       "    <tr>\n",
       "      <th>SARIMA(0,0,1)(1,1,1)7</th>\n",
       "      <td>148.938791</td>\n",
       "    </tr>\n",
       "  </tbody>\n",
       "</table>\n",
       "</div>"
      ],
      "text/plain": [
       "                                   RMSE\n",
       "ARIMA(2,0,2)                 236.909257\n",
       "SARIMA(0,0,1)(2,0,2)7        149.215315\n",
       "SARIMAX(1,0,2)(2,0,2)7        60.836155\n",
       "SARIMAX_tvlm(1,0,2)(2,0,2)7   57.752607\n",
       "SARIMA(0,0,0)(1,1,1)7        149.425423\n",
       "SARIMA(0,0,1)(1,1,1)7        148.938791"
      ]
     },
     "execution_count": 78,
     "metadata": {},
     "output_type": "execute_result"
    }
   ],
   "source": [
    "temp_resultsDf = pd.DataFrame({'RMSE': [rms]}\n",
    "                           ,index=['SARIMA(0,0,1)(1,1,1)7'])\n",
    "\n",
    "resultsDf = pd.concat([resultsDf, temp_resultsDf])\n",
    "resultsDf"
   ]
  },
  {
   "cell_type": "code",
   "execution_count": 79,
   "metadata": {
    "ExecuteTime": {
     "end_time": "2020-05-29T10:00:01.226313Z",
     "start_time": "2020-05-29T09:59:54.021620Z"
    }
   },
   "outputs": [
    {
     "name": "stdout",
     "output_type": "stream",
     "text": [
      "                                 SARIMAX Results                                 \n",
      "=================================================================================\n",
      "Dep. Variable:                 Customers   No. Observations:                  730\n",
      "Model:             SARIMAX(1, 1, [1], 7)   Log Likelihood               -3947.588\n",
      "Date:                   Sat, 01 Jan 2022   AIC                           7909.177\n",
      "Time:                           17:04:57   BIC                           7941.183\n",
      "Sample:                                0   HQIC                          7921.537\n",
      "                                   - 730                                         \n",
      "Covariance Type:                     opg                                         \n",
      "=================================================================================\n",
      "                    coef    std err          z      P>|z|      [0.025      0.975]\n",
      "---------------------------------------------------------------------------------\n",
      "Open            515.0259     28.154     18.293      0.000     459.844     570.208\n",
      "Promotion        99.0604      5.136     19.289      0.000      88.995     109.126\n",
      "StateHoliday    -15.8639     17.262     -0.919      0.358     -49.698      17.970\n",
      "SchoolHoliday     4.0836      5.394      0.757      0.449      -6.489      14.656\n",
      "ar.S.L7          -0.1058      0.045     -2.361      0.018      -0.194      -0.018\n",
      "ma.S.L7          -0.8046      0.027    -29.703      0.000      -0.858      -0.752\n",
      "sigma2         3592.5706    113.930     31.533      0.000    3369.273    3815.868\n",
      "===================================================================================\n",
      "Ljung-Box (L1) (Q):                  35.66   Jarque-Bera (JB):              2020.04\n",
      "Prob(Q):                              0.00   Prob(JB):                         0.00\n",
      "Heteroskedasticity (H):               1.99   Skew:                             1.49\n",
      "Prob(H) (two-sided):                  0.00   Kurtosis:                        10.68\n",
      "===================================================================================\n",
      "\n",
      "Warnings:\n",
      "[1] Covariance matrix calculated using the outer product of gradients (complex-step).\n"
     ]
    }
   ],
   "source": [
    "## Exogeneous with order = (0,0,0) and seasonal order (1,1,1,7)\n",
    "mod = sm.tsa.statespace.SARIMAX(train['Customers'],exog=ex_train,\n",
    "                                order=(0,0,0),\n",
    "                                seasonal_order=(1, 1, 1, 7),\n",
    "                                enforce_stationarity=False,\n",
    "                                enforce_invertibility=False)\n",
    "results = mod.fit()\n",
    "print(results.summary())"
   ]
  },
  {
   "cell_type": "code",
   "execution_count": 80,
   "metadata": {
    "ExecuteTime": {
     "end_time": "2020-05-29T10:00:01.267461Z",
     "start_time": "2020-05-29T10:00:01.229604Z"
    }
   },
   "outputs": [
    {
     "data": {
      "text/plain": [
       "730     34.698809\n",
       "731    588.237095\n",
       "732    645.020281\n",
       "733      0.000000\n",
       "734    827.240376\n",
       "          ...    \n",
       "877    561.220856\n",
       "878    581.703325\n",
       "879    634.689436\n",
       "880      0.000000\n",
       "881    817.305684\n",
       "Name: predicted_mean, Length: 152, dtype: float64"
      ]
     },
     "execution_count": 80,
     "metadata": {},
     "output_type": "execute_result"
    }
   ],
   "source": [
    "pred = results.get_forecast(steps=152,exog=ex_test)\n",
    "pred.predicted_mean"
   ]
  },
  {
   "cell_type": "code",
   "execution_count": 81,
   "metadata": {
    "ExecuteTime": {
     "end_time": "2020-05-29T10:00:01.378658Z",
     "start_time": "2020-05-29T10:00:01.270712Z"
    }
   },
   "outputs": [
    {
     "name": "stdout",
     "output_type": "stream",
     "text": [
      "67.6976211402273\n"
     ]
    }
   ],
   "source": [
    "rms = sqrt(mean_squared_error(test.Customers ,pred.predicted_mean))\n",
    "print(rms)"
   ]
  },
  {
   "cell_type": "code",
   "execution_count": 82,
   "metadata": {
    "ExecuteTime": {
     "end_time": "2020-05-29T10:00:01.526405Z",
     "start_time": "2020-05-29T10:00:01.379695Z"
    }
   },
   "outputs": [
    {
     "data": {
      "text/html": [
       "<div>\n",
       "<style scoped>\n",
       "    .dataframe tbody tr th:only-of-type {\n",
       "        vertical-align: middle;\n",
       "    }\n",
       "\n",
       "    .dataframe tbody tr th {\n",
       "        vertical-align: top;\n",
       "    }\n",
       "\n",
       "    .dataframe thead th {\n",
       "        text-align: right;\n",
       "    }\n",
       "</style>\n",
       "<table border=\"1\" class=\"dataframe\">\n",
       "  <thead>\n",
       "    <tr style=\"text-align: right;\">\n",
       "      <th></th>\n",
       "      <th>RMSE</th>\n",
       "    </tr>\n",
       "  </thead>\n",
       "  <tbody>\n",
       "    <tr>\n",
       "      <th>ARIMA(2,0,2)</th>\n",
       "      <td>236.909257</td>\n",
       "    </tr>\n",
       "    <tr>\n",
       "      <th>SARIMA(0,0,1)(2,0,2)7</th>\n",
       "      <td>149.215315</td>\n",
       "    </tr>\n",
       "    <tr>\n",
       "      <th>SARIMAX(1,0,2)(2,0,2)7</th>\n",
       "      <td>60.836155</td>\n",
       "    </tr>\n",
       "    <tr>\n",
       "      <th>SARIMAX_tvlm(1,0,2)(2,0,2)7</th>\n",
       "      <td>57.752607</td>\n",
       "    </tr>\n",
       "    <tr>\n",
       "      <th>SARIMA(0,0,0)(1,1,1)7</th>\n",
       "      <td>149.425423</td>\n",
       "    </tr>\n",
       "    <tr>\n",
       "      <th>SARIMA(0,0,1)(1,1,1)7</th>\n",
       "      <td>148.938791</td>\n",
       "    </tr>\n",
       "    <tr>\n",
       "      <th>SARIMAX(0,0,0)(1,1,1)7</th>\n",
       "      <td>67.697621</td>\n",
       "    </tr>\n",
       "  </tbody>\n",
       "</table>\n",
       "</div>"
      ],
      "text/plain": [
       "                                   RMSE\n",
       "ARIMA(2,0,2)                 236.909257\n",
       "SARIMA(0,0,1)(2,0,2)7        149.215315\n",
       "SARIMAX(1,0,2)(2,0,2)7        60.836155\n",
       "SARIMAX_tvlm(1,0,2)(2,0,2)7   57.752607\n",
       "SARIMA(0,0,0)(1,1,1)7        149.425423\n",
       "SARIMA(0,0,1)(1,1,1)7        148.938791\n",
       "SARIMAX(0,0,0)(1,1,1)7        67.697621"
      ]
     },
     "execution_count": 82,
     "metadata": {},
     "output_type": "execute_result"
    }
   ],
   "source": [
    "temp_resultsDf = pd.DataFrame({'RMSE': [rms]}\n",
    "                           ,index=['SARIMAX(0,0,0)(1,1,1)7'])\n",
    "\n",
    "resultsDf = pd.concat([resultsDf, temp_resultsDf])\n",
    "resultsDf"
   ]
  },
  {
   "cell_type": "code",
   "execution_count": 83,
   "metadata": {
    "ExecuteTime": {
     "end_time": "2020-05-29T10:00:08.918379Z",
     "start_time": "2020-05-29T10:00:01.529460Z"
    }
   },
   "outputs": [
    {
     "name": "stdout",
     "output_type": "stream",
     "text": [
      "                                     SARIMAX Results                                     \n",
      "=========================================================================================\n",
      "Dep. Variable:                         Customers   No. Observations:                  730\n",
      "Model:             SARIMAX(0, 0, 1)x(1, 1, 1, 7)   Log Likelihood               -3923.867\n",
      "Date:                           Sat, 01 Jan 2022   AIC                           7863.735\n",
      "Time:                                   17:04:58   BIC                           7900.302\n",
      "Sample:                                        0   HQIC                          7877.857\n",
      "                                           - 730                                         \n",
      "Covariance Type:                             opg                                         \n",
      "=================================================================================\n",
      "                    coef    std err          z      P>|z|      [0.025      0.975]\n",
      "---------------------------------------------------------------------------------\n",
      "Open            547.7981     25.240     21.704      0.000     498.328     597.268\n",
      "Promotion        90.5093      5.940     15.236      0.000      78.866     102.152\n",
      "StateHoliday     -9.0768     14.229     -0.638      0.524     -36.965      18.811\n",
      "SchoolHoliday     5.2134      5.828      0.895      0.371      -6.209      16.636\n",
      "ma.L1             0.2014      0.021      9.734      0.000       0.161       0.242\n",
      "ar.S.L7          -0.1017      0.045     -2.251      0.024      -0.190      -0.013\n",
      "ma.S.L7          -0.8197      0.026    -32.128      0.000      -0.870      -0.770\n",
      "sigma2         3440.2372    109.555     31.402      0.000    3225.513    3654.962\n",
      "===================================================================================\n",
      "Ljung-Box (L1) (Q):                   0.37   Jarque-Bera (JB):              1687.89\n",
      "Prob(Q):                              0.54   Prob(JB):                         0.00\n",
      "Heteroskedasticity (H):               2.00   Skew:                             1.33\n",
      "Prob(H) (two-sided):                  0.00   Kurtosis:                        10.05\n",
      "===================================================================================\n",
      "\n",
      "Warnings:\n",
      "[1] Covariance matrix calculated using the outer product of gradients (complex-step).\n"
     ]
    }
   ],
   "source": [
    "## Exogeneous with order = (0,0,1) and seasonal order (1,1,1,7)\n",
    "mod = sm.tsa.statespace.SARIMAX(train['Customers'],exog=ex_train,\n",
    "                                order=(0,0,1),\n",
    "                                seasonal_order=(1, 1, 1, 7),\n",
    "                                enforce_stationarity=False,\n",
    "                                enforce_invertibility=False)\n",
    "results = mod.fit()\n",
    "print(results.summary())"
   ]
  },
  {
   "cell_type": "code",
   "execution_count": 84,
   "metadata": {
    "ExecuteTime": {
     "end_time": "2020-05-29T10:00:08.967368Z",
     "start_time": "2020-05-29T10:00:08.918379Z"
    }
   },
   "outputs": [
    {
     "data": {
      "text/plain": [
       "730   -6.573348e+00\n",
       "731    5.949634e+02\n",
       "732    6.421345e+02\n",
       "733    7.605317e-10\n",
       "734    8.189086e+02\n",
       "           ...     \n",
       "877    5.622416e+02\n",
       "878    5.879097e+02\n",
       "879    6.324289e+02\n",
       "880    6.903222e-10\n",
       "881    8.080270e+02\n",
       "Name: predicted_mean, Length: 152, dtype: float64"
      ]
     },
     "execution_count": 84,
     "metadata": {},
     "output_type": "execute_result"
    }
   ],
   "source": [
    "pred = results.get_forecast(steps=152,exog=ex_test)\n",
    "pred.predicted_mean"
   ]
  },
  {
   "cell_type": "code",
   "execution_count": 85,
   "metadata": {
    "ExecuteTime": {
     "end_time": "2020-05-29T10:00:09.051138Z",
     "start_time": "2020-05-29T10:00:08.968936Z"
    }
   },
   "outputs": [
    {
     "name": "stdout",
     "output_type": "stream",
     "text": [
      "64.84673555487987\n"
     ]
    }
   ],
   "source": [
    "rms = sqrt(mean_squared_error(test.Customers ,pred.predicted_mean))\n",
    "print(rms)"
   ]
  },
  {
   "cell_type": "code",
   "execution_count": 86,
   "metadata": {
    "ExecuteTime": {
     "end_time": "2020-05-29T10:00:09.158603Z",
     "start_time": "2020-05-29T10:00:09.051138Z"
    }
   },
   "outputs": [
    {
     "data": {
      "text/html": [
       "<div>\n",
       "<style scoped>\n",
       "    .dataframe tbody tr th:only-of-type {\n",
       "        vertical-align: middle;\n",
       "    }\n",
       "\n",
       "    .dataframe tbody tr th {\n",
       "        vertical-align: top;\n",
       "    }\n",
       "\n",
       "    .dataframe thead th {\n",
       "        text-align: right;\n",
       "    }\n",
       "</style>\n",
       "<table border=\"1\" class=\"dataframe\">\n",
       "  <thead>\n",
       "    <tr style=\"text-align: right;\">\n",
       "      <th></th>\n",
       "      <th>RMSE</th>\n",
       "    </tr>\n",
       "  </thead>\n",
       "  <tbody>\n",
       "    <tr>\n",
       "      <th>ARIMA(2,0,2)</th>\n",
       "      <td>236.909257</td>\n",
       "    </tr>\n",
       "    <tr>\n",
       "      <th>SARIMA(0,0,1)(2,0,2)7</th>\n",
       "      <td>149.215315</td>\n",
       "    </tr>\n",
       "    <tr>\n",
       "      <th>SARIMAX(1,0,2)(2,0,2)7</th>\n",
       "      <td>60.836155</td>\n",
       "    </tr>\n",
       "    <tr>\n",
       "      <th>SARIMAX_tvlm(1,0,2)(2,0,2)7</th>\n",
       "      <td>57.752607</td>\n",
       "    </tr>\n",
       "    <tr>\n",
       "      <th>SARIMA(0,0,0)(1,1,1)7</th>\n",
       "      <td>149.425423</td>\n",
       "    </tr>\n",
       "    <tr>\n",
       "      <th>SARIMA(0,0,1)(1,1,1)7</th>\n",
       "      <td>148.938791</td>\n",
       "    </tr>\n",
       "    <tr>\n",
       "      <th>SARIMAX(0,0,0)(1,1,1)7</th>\n",
       "      <td>67.697621</td>\n",
       "    </tr>\n",
       "    <tr>\n",
       "      <th>SARIMAX(0,0,1)(1,1,1)7</th>\n",
       "      <td>64.846736</td>\n",
       "    </tr>\n",
       "  </tbody>\n",
       "</table>\n",
       "</div>"
      ],
      "text/plain": [
       "                                   RMSE\n",
       "ARIMA(2,0,2)                 236.909257\n",
       "SARIMA(0,0,1)(2,0,2)7        149.215315\n",
       "SARIMAX(1,0,2)(2,0,2)7        60.836155\n",
       "SARIMAX_tvlm(1,0,2)(2,0,2)7   57.752607\n",
       "SARIMA(0,0,0)(1,1,1)7        149.425423\n",
       "SARIMA(0,0,1)(1,1,1)7        148.938791\n",
       "SARIMAX(0,0,0)(1,1,1)7        67.697621\n",
       "SARIMAX(0,0,1)(1,1,1)7        64.846736"
      ]
     },
     "execution_count": 86,
     "metadata": {},
     "output_type": "execute_result"
    }
   ],
   "source": [
    "temp_resultsDf = pd.DataFrame({'RMSE': [rms]}\n",
    "                           ,index=['SARIMAX(0,0,1)(1,1,1)7'])\n",
    "\n",
    "resultsDf = pd.concat([resultsDf, temp_resultsDf])\n",
    "resultsDf"
   ]
  },
  {
   "cell_type": "code",
   "execution_count": 87,
   "metadata": {
    "ExecuteTime": {
     "end_time": "2020-05-29T10:00:29.619974Z",
     "start_time": "2020-05-29T10:00:09.163715Z"
    }
   },
   "outputs": [
    {
     "name": "stdout",
     "output_type": "stream",
     "text": [
      "                                     SARIMAX Results                                     \n",
      "=========================================================================================\n",
      "Dep. Variable:                         Customers   No. Observations:                  730\n",
      "Model:             SARIMAX(0, 0, 1)x(1, 1, 1, 7)   Log Likelihood               -2460.091\n",
      "Date:                           Sat, 01 Jan 2022   AIC                           4936.181\n",
      "Time:                                   17:05:07   BIC                           4972.704\n",
      "Sample:                                        0   HQIC                          4950.290\n",
      "                                           - 730                                         \n",
      "Covariance Type:                             opg                                         \n",
      "=====================================================================================\n",
      "                        coef    std err          z      P>|z|      [0.025      0.975]\n",
      "-------------------------------------------------------------------------------------\n",
      "ma.L1                 1.2780   1.58e-19   8.08e+18      0.000       1.278       1.278\n",
      "ar.S.L7              -0.3121   5.25e-20  -5.94e+18      0.000      -0.312      -0.312\n",
      "ma.S.L7              -0.5202   1.25e-19  -4.18e+18      0.000      -0.520      -0.520\n",
      "var.Open           3341.5834   5.57e-32      6e+34      0.000    3341.583    3341.583\n",
      "var.Promotion      2970.5854   7.66e-33   3.88e+35      0.000    2970.585    2970.585\n",
      "var.StateHoliday     12.7456   1.55e-30   8.21e+30      0.000      12.746      12.746\n",
      "var.SchoolHoliday  1160.4225   5.56e-32   2.09e+34      0.000    1160.423    1160.423\n",
      "sigma2             2.279e-11   1.91e-10      0.120      0.905   -3.51e-10    3.97e-10\n",
      "===================================================================================\n",
      "Ljung-Box (L1) (Q):                  25.93   Jarque-Bera (JB):             10823.44\n",
      "Prob(Q):                              0.00   Prob(JB):                         0.00\n",
      "Heteroskedasticity (H):               1.97   Skew:                            -2.08\n",
      "Prob(H) (two-sided):                  0.00   Kurtosis:                        21.67\n",
      "===================================================================================\n",
      "\n",
      "Warnings:\n",
      "[1] Covariance matrix calculated using the outer product of gradients (complex-step).\n",
      "[2] Covariance matrix is singular or near-singular, with condition number 1.71e+63. Standard errors may be unstable.\n"
     ]
    }
   ],
   "source": [
    "## Exogeneous with order = (0,0,1) and seasonal order (1,1,1,7) - TVLM\n",
    "mod = sm.tsa.statespace.SARIMAX(train['Customers'],exog=ex_train,time_varying_regression=True,mle_regression=False,\n",
    "                                order=(0,0,1),\n",
    "                                seasonal_order=(1, 1, 1, 7),\n",
    "                                enforce_stationarity=False,\n",
    "                                enforce_invertibility=False)\n",
    "results = mod.fit()\n",
    "print(results.summary())"
   ]
  },
  {
   "cell_type": "code",
   "execution_count": 88,
   "metadata": {
    "ExecuteTime": {
     "end_time": "2020-05-29T10:00:29.683549Z",
     "start_time": "2020-05-29T10:00:29.624091Z"
    }
   },
   "outputs": [
    {
     "data": {
      "text/plain": [
       "730    2.318612e+01\n",
       "731    5.056889e+02\n",
       "732    4.700010e+02\n",
       "733    3.969326e-12\n",
       "734    4.940926e+02\n",
       "           ...     \n",
       "877    4.609515e+02\n",
       "878    4.784717e+02\n",
       "879    4.700010e+02\n",
       "880    3.423232e-12\n",
       "881    4.668753e+02\n",
       "Name: predicted_mean, Length: 152, dtype: float64"
      ]
     },
     "execution_count": 88,
     "metadata": {},
     "output_type": "execute_result"
    }
   ],
   "source": [
    "pred = results.get_forecast(steps=152,exog=ex_test)\n",
    "pred.predicted_mean"
   ]
  },
  {
   "cell_type": "code",
   "execution_count": 89,
   "metadata": {
    "ExecuteTime": {
     "end_time": "2020-05-29T10:00:29.781840Z",
     "start_time": "2020-05-29T10:00:29.684547Z"
    }
   },
   "outputs": [
    {
     "name": "stdout",
     "output_type": "stream",
     "text": [
      "197.7154063629036\n"
     ]
    }
   ],
   "source": [
    "rms = sqrt(mean_squared_error(test.Customers ,pred.predicted_mean))\n",
    "print(rms)"
   ]
  },
  {
   "cell_type": "code",
   "execution_count": 90,
   "metadata": {
    "ExecuteTime": {
     "end_time": "2020-05-29T10:00:29.980823Z",
     "start_time": "2020-05-29T10:00:29.782986Z"
    }
   },
   "outputs": [
    {
     "data": {
      "text/html": [
       "<div>\n",
       "<style scoped>\n",
       "    .dataframe tbody tr th:only-of-type {\n",
       "        vertical-align: middle;\n",
       "    }\n",
       "\n",
       "    .dataframe tbody tr th {\n",
       "        vertical-align: top;\n",
       "    }\n",
       "\n",
       "    .dataframe thead th {\n",
       "        text-align: right;\n",
       "    }\n",
       "</style>\n",
       "<table border=\"1\" class=\"dataframe\">\n",
       "  <thead>\n",
       "    <tr style=\"text-align: right;\">\n",
       "      <th></th>\n",
       "      <th>RMSE</th>\n",
       "    </tr>\n",
       "  </thead>\n",
       "  <tbody>\n",
       "    <tr>\n",
       "      <th>ARIMA(2,0,2)</th>\n",
       "      <td>236.909257</td>\n",
       "    </tr>\n",
       "    <tr>\n",
       "      <th>SARIMA(0,0,1)(2,0,2)7</th>\n",
       "      <td>149.215315</td>\n",
       "    </tr>\n",
       "    <tr>\n",
       "      <th>SARIMAX(1,0,2)(2,0,2)7</th>\n",
       "      <td>60.836155</td>\n",
       "    </tr>\n",
       "    <tr>\n",
       "      <th>SARIMAX_tvlm(1,0,2)(2,0,2)7</th>\n",
       "      <td>57.752607</td>\n",
       "    </tr>\n",
       "    <tr>\n",
       "      <th>SARIMA(0,0,0)(1,1,1)7</th>\n",
       "      <td>149.425423</td>\n",
       "    </tr>\n",
       "    <tr>\n",
       "      <th>SARIMA(0,0,1)(1,1,1)7</th>\n",
       "      <td>148.938791</td>\n",
       "    </tr>\n",
       "    <tr>\n",
       "      <th>SARIMAX(0,0,0)(1,1,1)7</th>\n",
       "      <td>67.697621</td>\n",
       "    </tr>\n",
       "    <tr>\n",
       "      <th>SARIMAX(0,0,1)(1,1,1)7</th>\n",
       "      <td>64.846736</td>\n",
       "    </tr>\n",
       "    <tr>\n",
       "      <th>SARIMAX_tvlm(0,0,1)(1,1,1)7</th>\n",
       "      <td>197.715406</td>\n",
       "    </tr>\n",
       "  </tbody>\n",
       "</table>\n",
       "</div>"
      ],
      "text/plain": [
       "                                   RMSE\n",
       "ARIMA(2,0,2)                 236.909257\n",
       "SARIMA(0,0,1)(2,0,2)7        149.215315\n",
       "SARIMAX(1,0,2)(2,0,2)7        60.836155\n",
       "SARIMAX_tvlm(1,0,2)(2,0,2)7   57.752607\n",
       "SARIMA(0,0,0)(1,1,1)7        149.425423\n",
       "SARIMA(0,0,1)(1,1,1)7        148.938791\n",
       "SARIMAX(0,0,0)(1,1,1)7        67.697621\n",
       "SARIMAX(0,0,1)(1,1,1)7        64.846736\n",
       "SARIMAX_tvlm(0,0,1)(1,1,1)7  197.715406"
      ]
     },
     "execution_count": 90,
     "metadata": {},
     "output_type": "execute_result"
    }
   ],
   "source": [
    "temp_resultsDf = pd.DataFrame({'RMSE': [rms]}\n",
    "                           ,index=['SARIMAX_tvlm(0,0,1)(1,1,1)7'])\n",
    "\n",
    "resultsDf = pd.concat([resultsDf, temp_resultsDf])\n",
    "resultsDf"
   ]
  },
  {
   "cell_type": "markdown",
   "metadata": {},
   "source": [
    "# END"
   ]
  }
 ],
 "metadata": {
  "colab": {
   "name": "TimeSeries_Arimax_4.0.ipynb",
   "provenance": []
  },
  "kernelspec": {
   "display_name": "Python 3 (ipykernel)",
   "language": "python",
   "name": "python3"
  },
  "language_info": {
   "codemirror_mode": {
    "name": "ipython",
    "version": 3
   },
   "file_extension": ".py",
   "mimetype": "text/x-python",
   "name": "python",
   "nbconvert_exporter": "python",
   "pygments_lexer": "ipython3",
   "version": "3.9.7"
  },
  "toc": {
   "base_numbering": 1,
   "nav_menu": {},
   "number_sections": true,
   "sideBar": true,
   "skip_h1_title": false,
   "title_cell": "Table of Contents",
   "title_sidebar": "Contents",
   "toc_cell": false,
   "toc_position": {},
   "toc_section_display": true,
   "toc_window_display": false
  },
  "varInspector": {
   "cols": {
    "lenName": 16,
    "lenType": 16,
    "lenVar": 40
   },
   "kernels_config": {
    "python": {
     "delete_cmd_postfix": "",
     "delete_cmd_prefix": "del ",
     "library": "var_list.py",
     "varRefreshCmd": "print(var_dic_list())"
    },
    "r": {
     "delete_cmd_postfix": ") ",
     "delete_cmd_prefix": "rm(",
     "library": "var_list.r",
     "varRefreshCmd": "cat(var_dic_list()) "
    }
   },
   "types_to_exclude": [
    "module",
    "function",
    "builtin_function_or_method",
    "instance",
    "_Feature"
   ],
   "window_display": false
  }
 },
 "nbformat": 4,
 "nbformat_minor": 1
}
