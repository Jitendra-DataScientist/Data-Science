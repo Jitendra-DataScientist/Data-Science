{
 "cells": [
  {
   "cell_type": "code",
   "execution_count": 11,
   "id": "031e0496",
   "metadata": {},
   "outputs": [],
   "source": [
    "import seaborn as sns\n",
    "import pandas                          as      pd\n",
    "import numpy                           as      np\n",
    "import matplotlib.pyplot               as      plt\n",
    "import statsmodels.tools.eval_measures as      em\n",
    "from   sklearn.metrics                 import  mean_squared_error\n",
    "from   statsmodels.tsa.api             import ExponentialSmoothing, SimpleExpSmoothing, Holt\n",
    "from   IPython.display                 import display\n",
    "from   pylab                           import rcParams"
   ]
  },
  {
   "cell_type": "code",
   "execution_count": 12,
   "id": "05af2ee0",
   "metadata": {},
   "outputs": [],
   "source": [
    "df = pd.read_csv(\"Emission.csv\",parse_dates=True,index_col='Year-Month')"
   ]
  },
  {
   "cell_type": "code",
   "execution_count": 13,
   "id": "3e1020d7",
   "metadata": {},
   "outputs": [
    {
     "data": {
      "image/png": "[encoded data removed]",
      "text/plain": [
       "<Figure size 432x288 with 1 Axes>"
      ]
     },
     "metadata": {
      "needs_background": "light"
     },
     "output_type": "display_data"
    }
   ],
   "source": [
    "df.plot(grid=True);"
   ]
  },
  {
   "cell_type": "code",
   "execution_count": 14,
   "id": "37cd3c2e",
   "metadata": {},
   "outputs": [],
   "source": [
    "train    =   df[0:int(len(df)*0.8)] \n",
    "test     =   df[int(len(df)*0.8):]"
   ]
  },
  {
   "cell_type": "code",
   "execution_count": 15,
   "id": "3a113564",
   "metadata": {},
   "outputs": [
    {
     "name": "stderr",
     "output_type": "stream",
     "text": [
      "C:\\Users\\Jitu\\anaconda3\\lib\\site-packages\\statsmodels\\tsa\\base\\tsa_model.py:524: ValueWarning: No frequency information was provided, so inferred frequency MS will be used.\n",
      "  warnings.warn('No frequency information was'\n",
      "C:\\Users\\Jitu\\anaconda3\\lib\\site-packages\\statsmodels\\tsa\\base\\tsa_model.py:132: FutureWarning: The 'freq' argument in Timestamp is deprecated and will be removed in a future version.\n",
      "  date_key = Timestamp(key, freq=base_index.freq)\n"
     ]
    }
   ],
   "source": [
    "# create class\n",
    "model_SES = SimpleExpSmoothing(train,initialization_method='estimated')\n",
    "\n",
    "# Fitting the Simple Exponential Smoothing model and asking python to choose the optimal parameters\n",
    "model_SES_autofit = model_SES.fit(optimized=True)\n",
    "\n",
    "SES_predict = model_SES_autofit.forecast(steps=len(test))"
   ]
  },
  {
   "cell_type": "code",
   "execution_count": 16,
   "id": "e80bcc45",
   "metadata": {},
   "outputs": [
    {
     "name": "stdout",
     "output_type": "stream",
     "text": [
      "SES RMSE (calculated using statsmodels): 9.922371001205502\n"
     ]
    }
   ],
   "source": [
    "print('SES RMSE (calculated using statsmodels):',em.rmse(test.values,SES_predict.values)[0])"
   ]
  },
  {
   "cell_type": "code",
   "execution_count": 17,
   "id": "5c943d82",
   "metadata": {},
   "outputs": [
    {
     "name": "stdout",
     "output_type": "stream",
     "text": [
      "DES RMSE: 22.404016786882526\n"
     ]
    },
    {
     "name": "stderr",
     "output_type": "stream",
     "text": [
      "C:\\Users\\Jitu\\anaconda3\\lib\\site-packages\\statsmodels\\tsa\\base\\tsa_model.py:524: ValueWarning: No frequency information was provided, so inferred frequency MS will be used.\n",
      "  warnings.warn('No frequency information was'\n"
     ]
    }
   ],
   "source": [
    "# Initializing the Double Exponential Smoothing Model\n",
    "model_DES = Holt(train,initialization_method='estimated')\n",
    "# Fitting the model\n",
    "model_DES = model_DES.fit()\n",
    "DES_predict =  model_DES.forecast(len(test))\n",
    "print('DES RMSE:',mean_squared_error(test.values,DES_predict.values,squared=False))"
   ]
  },
  {
   "cell_type": "code",
   "execution_count": 18,
   "id": "16a155c9",
   "metadata": {},
   "outputs": [
    {
     "data": {
      "text/html": [
       "<div>\n",
       "<style scoped>\n",
       "    .dataframe tbody tr th:only-of-type {\n",
       "        vertical-align: middle;\n",
       "    }\n",
       "\n",
       "    .dataframe tbody tr th {\n",
       "        vertical-align: top;\n",
       "    }\n",
       "\n",
       "    .dataframe thead th {\n",
       "        text-align: right;\n",
       "    }\n",
       "</style>\n",
       "<table border=\"1\" class=\"dataframe\">\n",
       "  <thead>\n",
       "    <tr style=\"text-align: right;\">\n",
       "      <th></th>\n",
       "      <th>CO2 Emission</th>\n",
       "    </tr>\n",
       "    <tr>\n",
       "      <th>Year-Month</th>\n",
       "      <th></th>\n",
       "    </tr>\n",
       "  </thead>\n",
       "  <tbody>\n",
       "    <tr>\n",
       "      <th>1973-01-01</th>\n",
       "      <td>4.666858</td>\n",
       "    </tr>\n",
       "    <tr>\n",
       "      <th>1973-02-01</th>\n",
       "      <td>4.622617</td>\n",
       "    </tr>\n",
       "    <tr>\n",
       "      <th>1973-03-01</th>\n",
       "      <td>4.705495</td>\n",
       "    </tr>\n",
       "    <tr>\n",
       "      <th>1973-04-01</th>\n",
       "      <td>4.651424</td>\n",
       "    </tr>\n",
       "    <tr>\n",
       "      <th>1973-05-01</th>\n",
       "      <td>4.744036</td>\n",
       "    </tr>\n",
       "    <tr>\n",
       "      <th>...</th>\n",
       "      <td>...</td>\n",
       "    </tr>\n",
       "    <tr>\n",
       "      <th>2013-02-01</th>\n",
       "      <td>4.899652</td>\n",
       "    </tr>\n",
       "    <tr>\n",
       "      <th>2013-03-01</th>\n",
       "      <td>5.030948</td>\n",
       "    </tr>\n",
       "    <tr>\n",
       "      <th>2013-04-01</th>\n",
       "      <td>5.006908</td>\n",
       "    </tr>\n",
       "    <tr>\n",
       "      <th>2013-05-01</th>\n",
       "      <td>5.052135</td>\n",
       "    </tr>\n",
       "    <tr>\n",
       "      <th>2013-06-01</th>\n",
       "      <td>5.029221</td>\n",
       "    </tr>\n",
       "  </tbody>\n",
       "</table>\n",
       "<p>486 rows × 1 columns</p>\n",
       "</div>"
      ],
      "text/plain": [
       "            CO2 Emission\n",
       "Year-Month              \n",
       "1973-01-01      4.666858\n",
       "1973-02-01      4.622617\n",
       "1973-03-01      4.705495\n",
       "1973-04-01      4.651424\n",
       "1973-05-01      4.744036\n",
       "...                  ...\n",
       "2013-02-01      4.899652\n",
       "2013-03-01      5.030948\n",
       "2013-04-01      5.006908\n",
       "2013-05-01      5.052135\n",
       "2013-06-01      5.029221\n",
       "\n",
       "[486 rows x 1 columns]"
      ]
     },
     "execution_count": 18,
     "metadata": {},
     "output_type": "execute_result"
    }
   ],
   "source": [
    "df = pd.read_csv(\"Emission.csv\",parse_dates=True,index_col='Year-Month')\n",
    "df['CO2 Emission'] = np.log(df['CO2 Emission'])\n",
    "df"
   ]
  },
  {
   "cell_type": "code",
   "execution_count": 19,
   "id": "3e238074",
   "metadata": {},
   "outputs": [
    {
     "name": "stdout",
     "output_type": "stream",
     "text": [
      "SES RMSE (calculated using statsmodels): 0.06295357070047974\n"
     ]
    },
    {
     "name": "stderr",
     "output_type": "stream",
     "text": [
      "C:\\Users\\Jitu\\anaconda3\\lib\\site-packages\\statsmodels\\tsa\\base\\tsa_model.py:524: ValueWarning: No frequency information was provided, so inferred frequency MS will be used.\n",
      "  warnings.warn('No frequency information was'\n",
      "C:\\Users\\Jitu\\anaconda3\\lib\\site-packages\\statsmodels\\tsa\\base\\tsa_model.py:132: FutureWarning: The 'freq' argument in Timestamp is deprecated and will be removed in a future version.\n",
      "  date_key = Timestamp(key, freq=base_index.freq)\n"
     ]
    }
   ],
   "source": [
    "train    =   df[0:int(len(df)*0.8)] \n",
    "test     =   df[int(len(df)*0.8):]\n",
    "\n",
    "model_SES = SimpleExpSmoothing(train,initialization_method='estimated')\n",
    "\n",
    "model_SES_autofit = model_SES.fit(optimized=True)\n",
    "SES_predict = model_SES_autofit.forecast(steps=len(test))\n",
    "print('SES RMSE (calculated using statsmodels):',em.rmse(test.values,SES_predict.values)[0])"
   ]
  }
 ],
 "metadata": {
  "kernelspec": {
   "display_name": "Python 3 (ipykernel)",
   "language": "python",
   "name": "python3"
  },
  "language_info": {
   "codemirror_mode": {
    "name": "ipython",
    "version": 3
   },
   "file_extension": ".py",
   "mimetype": "text/x-python",
   "name": "python",
   "nbconvert_exporter": "python",
   "pygments_lexer": "ipython3",
   "version": "3.9.7"
  }
 },
 "nbformat": 4,
 "nbformat_minor": 5
}
