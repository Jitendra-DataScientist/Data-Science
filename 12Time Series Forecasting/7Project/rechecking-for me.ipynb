{
 "cells": [
  {
   "cell_type": "markdown",
   "id": "79516712",
   "metadata": {},
   "source": [
    "# Sparkling Data"
   ]
  },
  {
   "cell_type": "code",
   "execution_count": 1,
   "id": "8f204b30",
   "metadata": {},
   "outputs": [],
   "source": [
    "import seaborn as sns\n",
    "import matplotlib.pyplot as plt\n",
    "import pandas as pd"
   ]
  },
  {
   "cell_type": "code",
   "execution_count": 2,
   "id": "9dc82ad3",
   "metadata": {},
   "outputs": [],
   "source": [
    "import statsmodels.tools.eval_measures as      em\n",
    "from   statsmodels.tsa.api             import ExponentialSmoothing, SimpleExpSmoothing, Holt\n",
    "from   IPython.display                 import display"
   ]
  },
  {
   "cell_type": "code",
   "execution_count": 3,
   "id": "c4164c75",
   "metadata": {},
   "outputs": [],
   "source": [
    "from   sklearn.metrics                 import  mean_squared_error\n",
    "## Mean Absolute Percentage Error (MAPE) - Function Definition\n",
    "\n",
    "def MAPE(y_true, y_pred):\n",
    "    return np.mean((np.abs(y_true-y_pred))/(y_true))*100"
   ]
  },
  {
   "cell_type": "code",
   "execution_count": 4,
   "id": "408ad1ab",
   "metadata": {},
   "outputs": [
    {
     "data": {
      "text/html": [
       "<div>\n",
       "<style scoped>\n",
       "    .dataframe tbody tr th:only-of-type {\n",
       "        vertical-align: middle;\n",
       "    }\n",
       "\n",
       "    .dataframe tbody tr th {\n",
       "        vertical-align: top;\n",
       "    }\n",
       "\n",
       "    .dataframe thead th {\n",
       "        text-align: right;\n",
       "    }\n",
       "</style>\n",
       "<table border=\"1\" class=\"dataframe\">\n",
       "  <thead>\n",
       "    <tr style=\"text-align: right;\">\n",
       "      <th></th>\n",
       "      <th>Sparkling</th>\n",
       "    </tr>\n",
       "    <tr>\n",
       "      <th>YearMonth</th>\n",
       "      <th></th>\n",
       "    </tr>\n",
       "  </thead>\n",
       "  <tbody>\n",
       "    <tr>\n",
       "      <th>1980-01-01</th>\n",
       "      <td>1686</td>\n",
       "    </tr>\n",
       "    <tr>\n",
       "      <th>1980-02-01</th>\n",
       "      <td>1591</td>\n",
       "    </tr>\n",
       "    <tr>\n",
       "      <th>1980-03-01</th>\n",
       "      <td>2304</td>\n",
       "    </tr>\n",
       "    <tr>\n",
       "      <th>1980-04-01</th>\n",
       "      <td>1712</td>\n",
       "    </tr>\n",
       "    <tr>\n",
       "      <th>1980-05-01</th>\n",
       "      <td>1471</td>\n",
       "    </tr>\n",
       "  </tbody>\n",
       "</table>\n",
       "</div>"
      ],
      "text/plain": [
       "            Sparkling\n",
       "YearMonth            \n",
       "1980-01-01       1686\n",
       "1980-02-01       1591\n",
       "1980-03-01       2304\n",
       "1980-04-01       1712\n",
       "1980-05-01       1471"
      ]
     },
     "execution_count": 4,
     "metadata": {},
     "output_type": "execute_result"
    }
   ],
   "source": [
    "df = pd.read_csv('Sparkling.csv', parse_dates = ['YearMonth'], index_col = 'YearMonth')\n",
    "df.head()"
   ]
  },
  {
   "cell_type": "code",
   "execution_count": 5,
   "id": "e694654e",
   "metadata": {},
   "outputs": [],
   "source": [
    "train             = df[df.index<'1991'] \n",
    "test              = df[df.index>='1991']"
   ]
  },
  {
   "cell_type": "code",
   "execution_count": 6,
   "id": "1546d128",
   "metadata": {},
   "outputs": [],
   "source": [
    "TES_train = train.copy()\n",
    "TES_test = test.copy()"
   ]
  },
  {
   "cell_type": "code",
   "execution_count": 7,
   "id": "0e6f3ab5",
   "metadata": {},
   "outputs": [
    {
     "name": "stderr",
     "output_type": "stream",
     "text": [
      "C:\\Users\\cools\\anaconda3\\lib\\site-packages\\statsmodels\\tsa\\base\\tsa_model.py:524: ValueWarning: No frequency information was provided, so inferred frequency MS will be used.\n",
      "  warnings.warn('No frequency information was'\n"
     ]
    }
   ],
   "source": [
    "model_TES = ExponentialSmoothing(train,trend='add',seasonal='add',initialization_method='estimated')"
   ]
  },
  {
   "cell_type": "code",
   "execution_count": 8,
   "id": "5ad1dff2",
   "metadata": {},
   "outputs": [
    {
     "name": "stderr",
     "output_type": "stream",
     "text": [
      "C:\\Users\\cools\\anaconda3\\lib\\site-packages\\statsmodels\\tsa\\base\\tsa_model.py:132: FutureWarning: The 'freq' argument in Timestamp is deprecated and will be removed in a future version.\n",
      "  date_key = Timestamp(key, freq=base_index.freq)\n"
     ]
    }
   ],
   "source": [
    "model_TES_alpha_i_j_k = model_TES.fit(smoothing_level=0.11,smoothing_trend=0.01,smoothing_seasonal=0.46,optimized=False,use_brute=True)\n",
    "a = model_TES_alpha_i_j_k.fittedvalues\n",
    "b = model_TES_alpha_i_j_k.forecast(steps=len(test))"
   ]
  },
  {
   "cell_type": "code",
   "execution_count": 9,
   "id": "d96bfd61",
   "metadata": {},
   "outputs": [
    {
     "data": {
      "text/plain": [
       "375.7503426432432"
      ]
     },
     "execution_count": 9,
     "metadata": {},
     "output_type": "execute_result"
    }
   ],
   "source": [
    "mean_squared_error(TES_train['Sparkling'],a,squared=False)"
   ]
  },
  {
   "cell_type": "code",
   "execution_count": 10,
   "id": "73400c9d",
   "metadata": {},
   "outputs": [
    {
     "data": {
      "text/plain": [
       "434.1219309003206"
      ]
     },
     "execution_count": 10,
     "metadata": {},
     "output_type": "execute_result"
    }
   ],
   "source": [
    "mean_squared_error(TES_test['Sparkling'],b,squared=False)"
   ]
  },
  {
   "cell_type": "code",
   "execution_count": 11,
   "id": "7a21d814",
   "metadata": {},
   "outputs": [
    {
     "name": "stderr",
     "output_type": "stream",
     "text": [
      "C:\\Users\\cools\\anaconda3\\lib\\site-packages\\statsmodels\\tsa\\base\\tsa_model.py:132: FutureWarning: The 'freq' argument in Timestamp is deprecated and will be removed in a future version.\n",
      "  date_key = Timestamp(key, freq=base_index.freq)\n"
     ]
    }
   ],
   "source": [
    "model_TES_alpha_i_j_k = model_TES.fit(smoothing_level=0.4,smoothing_trend=0.1,smoothing_seasonal=0.2,optimized=False,use_brute=True)\n",
    "a = model_TES_alpha_i_j_k.fittedvalues\n",
    "b = model_TES_alpha_i_j_k.forecast(steps=len(test))"
   ]
  },
  {
   "cell_type": "code",
   "execution_count": 12,
   "id": "a785d2c0",
   "metadata": {},
   "outputs": [
    {
     "data": {
      "text/plain": [
       "436.653892027626"
      ]
     },
     "execution_count": 12,
     "metadata": {},
     "output_type": "execute_result"
    }
   ],
   "source": [
    "mean_squared_error(TES_train['Sparkling'],a,squared=False)"
   ]
  },
  {
   "cell_type": "code",
   "execution_count": 13,
   "id": "b24d8d70",
   "metadata": {},
   "outputs": [
    {
     "data": {
      "text/plain": [
       "404.64936145154866"
      ]
     },
     "execution_count": 13,
     "metadata": {},
     "output_type": "execute_result"
    }
   ],
   "source": [
    "mean_squared_error(TES_test['Sparkling'],b,squared=False)"
   ]
  },
  {
   "cell_type": "markdown",
   "id": "7f9a1280",
   "metadata": {},
   "source": [
    "# my model"
   ]
  },
  {
   "cell_type": "code",
   "execution_count": 14,
   "id": "4a1d5f48",
   "metadata": {},
   "outputs": [
    {
     "name": "stderr",
     "output_type": "stream",
     "text": [
      "C:\\Users\\cools\\anaconda3\\lib\\site-packages\\statsmodels\\tsa\\base\\tsa_model.py:524: ValueWarning: No frequency information was provided, so inferred frequency MS will be used.\n",
      "  warnings.warn('No frequency information was'\n",
      "C:\\Users\\cools\\anaconda3\\lib\\site-packages\\statsmodels\\tsa\\holtwinters\\model.py:427: FutureWarning: After 0.13 initialization must be handled at model creation\n",
      "  warnings.warn(\n"
     ]
    }
   ],
   "source": [
    "fullmodel = ExponentialSmoothing(df,\n",
    "                                  trend='additive',\n",
    "                                  seasonal='additive').fit(smoothing_level=0.11,\n",
    "                                                                 smoothing_trend=0.01,\n",
    "                                                                 smoothing_seasonal=0.46)"
   ]
  },
  {
   "cell_type": "code",
   "execution_count": 15,
   "id": "19311498",
   "metadata": {},
   "outputs": [
    {
     "name": "stdout",
     "output_type": "stream",
     "text": [
      "RMSE: 367.8420804319263\n"
     ]
    }
   ],
   "source": [
    "RMSE_fullmodel = mean_squared_error(df['Sparkling'],fullmodel.fittedvalues,squared=False)\n",
    "\n",
    "print('RMSE:',RMSE_fullmodel)"
   ]
  },
  {
   "cell_type": "markdown",
   "id": "2255255d",
   "metadata": {},
   "source": [
    "# Suggested by moderator"
   ]
  },
  {
   "cell_type": "code",
   "execution_count": 16,
   "id": "4914793d",
   "metadata": {},
   "outputs": [
    {
     "name": "stderr",
     "output_type": "stream",
     "text": [
      "C:\\Users\\cools\\anaconda3\\lib\\site-packages\\statsmodels\\tsa\\base\\tsa_model.py:524: ValueWarning: No frequency information was provided, so inferred frequency MS will be used.\n",
      "  warnings.warn('No frequency information was'\n",
      "C:\\Users\\cools\\anaconda3\\lib\\site-packages\\statsmodels\\tsa\\holtwinters\\model.py:427: FutureWarning: After 0.13 initialization must be handled at model creation\n",
      "  warnings.warn(\n"
     ]
    }
   ],
   "source": [
    "fullmodel = ExponentialSmoothing(df,\n",
    "                                  trend='additive',\n",
    "                                  seasonal='additive').fit(smoothing_level=0.4,\n",
    "                                                                 smoothing_trend=0.1,\n",
    "                                                                 smoothing_seasonal=0.2)"
   ]
  },
  {
   "cell_type": "code",
   "execution_count": 17,
   "id": "c5120521",
   "metadata": {},
   "outputs": [
    {
     "name": "stdout",
     "output_type": "stream",
     "text": [
      "RMSE: 414.3234985776378\n"
     ]
    }
   ],
   "source": [
    "RMSE_fullmodel = mean_squared_error(df['Sparkling'],fullmodel.fittedvalues,squared=False)\n",
    "\n",
    "print('RMSE:',RMSE_fullmodel)"
   ]
  },
  {
   "cell_type": "markdown",
   "id": "8245cd2b",
   "metadata": {},
   "source": [
    "# Rose Data"
   ]
  },
  {
   "cell_type": "code",
   "execution_count": 18,
   "id": "8f6bb0bc",
   "metadata": {},
   "outputs": [
    {
     "data": {
      "text/html": [
       "<div>\n",
       "<style scoped>\n",
       "    .dataframe tbody tr th:only-of-type {\n",
       "        vertical-align: middle;\n",
       "    }\n",
       "\n",
       "    .dataframe tbody tr th {\n",
       "        vertical-align: top;\n",
       "    }\n",
       "\n",
       "    .dataframe thead th {\n",
       "        text-align: right;\n",
       "    }\n",
       "</style>\n",
       "<table border=\"1\" class=\"dataframe\">\n",
       "  <thead>\n",
       "    <tr style=\"text-align: right;\">\n",
       "      <th></th>\n",
       "      <th>Rose</th>\n",
       "    </tr>\n",
       "    <tr>\n",
       "      <th>YearMonth</th>\n",
       "      <th></th>\n",
       "    </tr>\n",
       "  </thead>\n",
       "  <tbody>\n",
       "    <tr>\n",
       "      <th>1980-01-01</th>\n",
       "      <td>112.0</td>\n",
       "    </tr>\n",
       "    <tr>\n",
       "      <th>1980-02-01</th>\n",
       "      <td>118.0</td>\n",
       "    </tr>\n",
       "    <tr>\n",
       "      <th>1980-03-01</th>\n",
       "      <td>129.0</td>\n",
       "    </tr>\n",
       "    <tr>\n",
       "      <th>1980-04-01</th>\n",
       "      <td>99.0</td>\n",
       "    </tr>\n",
       "    <tr>\n",
       "      <th>1980-05-01</th>\n",
       "      <td>116.0</td>\n",
       "    </tr>\n",
       "  </tbody>\n",
       "</table>\n",
       "</div>"
      ],
      "text/plain": [
       "             Rose\n",
       "YearMonth        \n",
       "1980-01-01  112.0\n",
       "1980-02-01  118.0\n",
       "1980-03-01  129.0\n",
       "1980-04-01   99.0\n",
       "1980-05-01  116.0"
      ]
     },
     "execution_count": 18,
     "metadata": {},
     "output_type": "execute_result"
    }
   ],
   "source": [
    "df = pd.read_csv('Rose.csv', parse_dates = ['YearMonth'], index_col = 'YearMonth')\n",
    "df.head()"
   ]
  },
  {
   "cell_type": "code",
   "execution_count": 19,
   "id": "7844d3af",
   "metadata": {},
   "outputs": [],
   "source": [
    "df=df.interpolate(method = 'spline', order = 2)"
   ]
  },
  {
   "cell_type": "code",
   "execution_count": 20,
   "id": "530e6874",
   "metadata": {},
   "outputs": [],
   "source": [
    "train             = df[df.index<'1991'] \n",
    "test              = df[df.index>='1991']"
   ]
  },
  {
   "cell_type": "markdown",
   "id": "69e8cf05",
   "metadata": {},
   "source": [
    "# my model"
   ]
  },
  {
   "cell_type": "code",
   "execution_count": 21,
   "id": "c8f3fe6d",
   "metadata": {},
   "outputs": [
    {
     "name": "stderr",
     "output_type": "stream",
     "text": [
      "C:\\Users\\cools\\anaconda3\\lib\\site-packages\\statsmodels\\tsa\\base\\tsa_model.py:524: ValueWarning: No frequency information was provided, so inferred frequency MS will be used.\n",
      "  warnings.warn('No frequency information was'\n",
      "C:\\Users\\cools\\anaconda3\\lib\\site-packages\\statsmodels\\tsa\\holtwinters\\model.py:427: FutureWarning: After 0.13 initialization must be handled at model creation\n",
      "  warnings.warn(\n"
     ]
    }
   ],
   "source": [
    "fullmodel = ExponentialSmoothing(df,\n",
    "                                  trend='additive',\n",
    "                                  seasonal='additive').fit(smoothing_level=0.09,\n",
    "                                                                 smoothing_trend=2.32e-05,\n",
    "                                                                 smoothing_seasonal=0.0004)"
   ]
  },
  {
   "cell_type": "code",
   "execution_count": 22,
   "id": "380a4fce",
   "metadata": {},
   "outputs": [
    {
     "name": "stdout",
     "output_type": "stream",
     "text": [
      "RMSE: 17.66740663675204\n"
     ]
    }
   ],
   "source": [
    "RMSE_fullmodel = mean_squared_error(df['Rose'],fullmodel.fittedvalues,squared=False)\n",
    "\n",
    "print('RMSE:',RMSE_fullmodel)"
   ]
  },
  {
   "cell_type": "markdown",
   "id": "d06f1e81",
   "metadata": {},
   "source": [
    "# suggested by moderator"
   ]
  },
  {
   "cell_type": "code",
   "execution_count": 23,
   "id": "e7abf246",
   "metadata": {},
   "outputs": [
    {
     "name": "stderr",
     "output_type": "stream",
     "text": [
      "C:\\Users\\cools\\anaconda3\\lib\\site-packages\\statsmodels\\tsa\\base\\tsa_model.py:524: ValueWarning: No frequency information was provided, so inferred frequency MS will be used.\n",
      "  warnings.warn('No frequency information was'\n",
      "C:\\Users\\cools\\anaconda3\\lib\\site-packages\\statsmodels\\tsa\\holtwinters\\model.py:427: FutureWarning: After 0.13 initialization must be handled at model creation\n",
      "  warnings.warn(\n"
     ]
    }
   ],
   "source": [
    "fullmodel = ExponentialSmoothing(df,\n",
    "                                  trend='additive',\n",
    "                                  seasonal='additive').fit(smoothing_level=0.1,\n",
    "                                                                 smoothing_trend=0.2,\n",
    "                                                                 smoothing_seasonal=0.2)"
   ]
  },
  {
   "cell_type": "code",
   "execution_count": 24,
   "id": "8af757c1",
   "metadata": {
    "scrolled": true
   },
   "outputs": [
    {
     "name": "stdout",
     "output_type": "stream",
     "text": [
      "RMSE: 18.912669486904157\n"
     ]
    }
   ],
   "source": [
    "RMSE_fullmodel = mean_squared_error(df['Rose'],fullmodel.fittedvalues,squared=False)\n",
    "\n",
    "print('RMSE:',RMSE_fullmodel)"
   ]
  },
  {
   "cell_type": "code",
   "execution_count": 25,
   "id": "806dbf8c",
   "metadata": {},
   "outputs": [],
   "source": [
    "TES_train = train.copy()\n",
    "TES_test = test.copy()"
   ]
  },
  {
   "cell_type": "code",
   "execution_count": 26,
   "id": "1542bc90",
   "metadata": {},
   "outputs": [
    {
     "name": "stderr",
     "output_type": "stream",
     "text": [
      "C:\\Users\\cools\\anaconda3\\lib\\site-packages\\statsmodels\\tsa\\base\\tsa_model.py:524: ValueWarning: No frequency information was provided, so inferred frequency MS will be used.\n",
      "  warnings.warn('No frequency information was'\n"
     ]
    }
   ],
   "source": [
    "model_TES = ExponentialSmoothing(train,trend='add',seasonal='add',initialization_method='estimated')"
   ]
  },
  {
   "cell_type": "code",
   "execution_count": 27,
   "id": "9d0fb2b9",
   "metadata": {},
   "outputs": [
    {
     "name": "stderr",
     "output_type": "stream",
     "text": [
      "C:\\Users\\cools\\anaconda3\\lib\\site-packages\\statsmodels\\tsa\\base\\tsa_model.py:132: FutureWarning: The 'freq' argument in Timestamp is deprecated and will be removed in a future version.\n",
      "  date_key = Timestamp(key, freq=base_index.freq)\n"
     ]
    }
   ],
   "source": [
    "model_TES_alpha_i_j_k = model_TES.fit(smoothing_level=0.09,smoothing_trend=2.32e-05,smoothing_seasonal=0.0004,optimized=False,use_brute=True)\n",
    "a = model_TES_alpha_i_j_k.fittedvalues\n",
    "b = model_TES_alpha_i_j_k.forecast(steps=len(test))"
   ]
  },
  {
   "cell_type": "code",
   "execution_count": 28,
   "id": "5f63e345",
   "metadata": {},
   "outputs": [
    {
     "data": {
      "text/plain": [
       "25.14193327361057"
      ]
     },
     "execution_count": 28,
     "metadata": {},
     "output_type": "execute_result"
    }
   ],
   "source": [
    "mean_squared_error(TES_train['Rose'],a,squared=False)"
   ]
  },
  {
   "cell_type": "code",
   "execution_count": 29,
   "id": "b12632f5",
   "metadata": {},
   "outputs": [
    {
     "data": {
      "text/plain": [
       "58.75809401832928"
      ]
     },
     "execution_count": 29,
     "metadata": {},
     "output_type": "execute_result"
    }
   ],
   "source": [
    "mean_squared_error(TES_test['Rose'],b,squared=False)"
   ]
  },
  {
   "cell_type": "code",
   "execution_count": 30,
   "id": "896c036e",
   "metadata": {},
   "outputs": [
    {
     "name": "stderr",
     "output_type": "stream",
     "text": [
      "C:\\Users\\cools\\anaconda3\\lib\\site-packages\\statsmodels\\tsa\\base\\tsa_model.py:132: FutureWarning: The 'freq' argument in Timestamp is deprecated and will be removed in a future version.\n",
      "  date_key = Timestamp(key, freq=base_index.freq)\n"
     ]
    }
   ],
   "source": [
    "model_TES_alpha_i_j_k = model_TES.fit(smoothing_level=0.1,smoothing_trend=0.2,smoothing_seasonal=0.2,optimized=False,use_brute=True)\n",
    "a = model_TES_alpha_i_j_k.fittedvalues\n",
    "b = model_TES_alpha_i_j_k.forecast(steps=len(test))"
   ]
  },
  {
   "cell_type": "code",
   "execution_count": 31,
   "id": "f013ffc4",
   "metadata": {},
   "outputs": [
    {
     "data": {
      "text/plain": [
       "21.65506978674146"
      ]
     },
     "execution_count": 31,
     "metadata": {},
     "output_type": "execute_result"
    }
   ],
   "source": [
    "mean_squared_error(TES_train['Rose'],a,squared=False)"
   ]
  },
  {
   "cell_type": "code",
   "execution_count": 32,
   "id": "6202e5fb",
   "metadata": {},
   "outputs": [
    {
     "data": {
      "text/plain": [
       "13.380577379299478"
      ]
     },
     "execution_count": 32,
     "metadata": {},
     "output_type": "execute_result"
    }
   ],
   "source": [
    "mean_squared_error(TES_test['Rose'],b,squared=False)"
   ]
  },
  {
   "cell_type": "code",
   "execution_count": 33,
   "id": "1c1ac4d7",
   "metadata": {},
   "outputs": [],
   "source": [
    "DES_train = train.copy()\n",
    "DES_test = test.copy()"
   ]
  },
  {
   "cell_type": "code",
   "execution_count": 34,
   "id": "1c7c96b0",
   "metadata": {},
   "outputs": [
    {
     "name": "stderr",
     "output_type": "stream",
     "text": [
      "C:\\Users\\cools\\anaconda3\\lib\\site-packages\\statsmodels\\tsa\\base\\tsa_model.py:524: ValueWarning: No frequency information was provided, so inferred frequency MS will be used.\n",
      "  warnings.warn('No frequency information was'\n"
     ]
    }
   ],
   "source": [
    "model_DES = Holt(train,initialization_method='estimated')"
   ]
  },
  {
   "cell_type": "code",
   "execution_count": 35,
   "id": "cf6b2735",
   "metadata": {},
   "outputs": [
    {
     "name": "stderr",
     "output_type": "stream",
     "text": [
      "C:\\Users\\cools\\anaconda3\\lib\\site-packages\\statsmodels\\tsa\\base\\tsa_model.py:132: FutureWarning: The 'freq' argument in Timestamp is deprecated and will be removed in a future version.\n",
      "  date_key = Timestamp(key, freq=base_index.freq)\n"
     ]
    }
   ],
   "source": [
    "model_DES_alpha_i_j = model_DES.fit(smoothing_level=0.1,smoothing_trend=0.1,optimized=False,use_brute=True)\n",
    "a = model_DES_alpha_i_j.fittedvalues\n",
    "b = model_DES_alpha_i_j.forecast(steps=len(test))"
   ]
  },
  {
   "cell_type": "code",
   "execution_count": 36,
   "id": "d9dbb7e7",
   "metadata": {},
   "outputs": [
    {
     "data": {
      "text/plain": [
       "35.12054464845668"
      ]
     },
     "execution_count": 36,
     "metadata": {},
     "output_type": "execute_result"
    }
   ],
   "source": [
    "mean_squared_error(DES_train['Rose'],a,squared=False)"
   ]
  },
  {
   "cell_type": "code",
   "execution_count": 37,
   "id": "6f362cac",
   "metadata": {},
   "outputs": [
    {
     "data": {
      "text/plain": [
       "36.9039378127484"
      ]
     },
     "execution_count": 37,
     "metadata": {},
     "output_type": "execute_result"
    }
   ],
   "source": [
    "mean_squared_error(DES_test['Rose'],b,squared=False)"
   ]
  },
  {
   "cell_type": "code",
   "execution_count": 38,
   "id": "97eb6926",
   "metadata": {},
   "outputs": [
    {
     "name": "stderr",
     "output_type": "stream",
     "text": [
      "C:\\Users\\cools\\anaconda3\\lib\\site-packages\\statsmodels\\tsa\\base\\tsa_model.py:132: FutureWarning: The 'freq' argument in Timestamp is deprecated and will be removed in a future version.\n",
      "  date_key = Timestamp(key, freq=base_index.freq)\n"
     ]
    }
   ],
   "source": [
    "model_DES_alpha_i_j = model_DES.fit(smoothing_level=0.04,smoothing_trend=0.47,optimized=False,use_brute=True)\n",
    "a = model_DES_alpha_i_j.fittedvalues\n",
    "b = model_DES_alpha_i_j.forecast(steps=len(test))"
   ]
  },
  {
   "cell_type": "code",
   "execution_count": 39,
   "id": "a9732102",
   "metadata": {},
   "outputs": [
    {
     "data": {
      "text/plain": [
       "39.202417537745795"
      ]
     },
     "execution_count": 39,
     "metadata": {},
     "output_type": "execute_result"
    }
   ],
   "source": [
    "mean_squared_error(DES_train['Rose'],a,squared=False)"
   ]
  },
  {
   "cell_type": "code",
   "execution_count": 40,
   "id": "c9602b2e",
   "metadata": {},
   "outputs": [
    {
     "data": {
      "text/plain": [
       "14.455871016542162"
      ]
     },
     "execution_count": 40,
     "metadata": {},
     "output_type": "execute_result"
    }
   ],
   "source": [
    "mean_squared_error(DES_test['Rose'],b,squared=False)"
   ]
  },
  {
   "cell_type": "code",
   "execution_count": null,
   "id": "9a73b356",
   "metadata": {},
   "outputs": [],
   "source": []
  }
 ],
 "metadata": {
  "kernelspec": {
   "display_name": "Python 3 (ipykernel)",
   "language": "python",
   "name": "python3"
  },
  "language_info": {
   "codemirror_mode": {
    "name": "ipython",
    "version": 3
   },
   "file_extension": ".py",
   "mimetype": "text/x-python",
   "name": "python",
   "nbconvert_exporter": "python",
   "pygments_lexer": "ipython3",
   "version": "3.9.7"
  }
 },
 "nbformat": 4,
 "nbformat_minor": 5
}
