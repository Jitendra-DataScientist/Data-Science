{
 "cells": [
  {
   "cell_type": "code",
   "execution_count": 44,
   "metadata": {
    "scrolled": true
   },
   "outputs": [
    {
     "name": "stdout",
     "output_type": "stream",
     "text": [
      "[[1 2 3 8]\n",
      " [4 5 6 7]]\n",
      "[1 2 3 8 4 5 6 7]\n",
      "[[1 4]\n",
      " [2 5]\n",
      " [3 6]\n",
      " [8 7]]\n",
      "[[1 4]\n",
      " [2 5]\n",
      " [3 6]\n",
      " [8 7]]\n"
     ]
    },
    {
     "data": {
      "text/plain": [
       "numpy.ndarray"
      ]
     },
     "execution_count": 44,
     "metadata": {},
     "output_type": "execute_result"
    }
   ],
   "source": [
    "import numpy as np\n",
    "n1=np.array([1,2,3,8])\n",
    "n2=np.array([4,5,6,7])\n",
    "print(np.vstack((n1,n2)))\n",
    "print(np.hstack((n1,n2)))\n",
    "print(np.column_stack((n1,n2)))\n",
    "n3=np.column_stack((n1,n2))\n",
    "print(n3)\n",
    "type(n3)"
   ]
  },
  {
   "cell_type": "code",
   "execution_count": 56,
   "metadata": {},
   "outputs": [
    {
     "name": "stdout",
     "output_type": "stream",
     "text": [
      "[4 5 6]\n",
      "[1 2 3]\n",
      "[7 8 9]\n",
      "<class 'numpy.ndarray'>\n",
      "<class 'numpy.ndarray'>\n"
     ]
    }
   ],
   "source": [
    "n1=np.array([1,2,3,4,5,6])\n",
    "n2=np.array([4,5,6,7,8,9])\n",
    "print(np.intersect1d(n1,n2))\n",
    "print(np.setdiff1d(n1,n2))\n",
    "print(np.setdiff1d(n2,n1))\n",
    "n3=np.intersect1d(n1,n2)\n",
    "print(type(n3))\n",
    "n4=np.setdiff1d(n2,n1)\n",
    "print(type(n4))"
   ]
  },
  {
   "cell_type": "code",
   "execution_count": 71,
   "metadata": {},
   "outputs": [
    {
     "name": "stdout",
     "output_type": "stream",
     "text": [
      "36\n",
      "[ 6  8 10 12]\n",
      "[10 26]\n",
      "<class 'numpy.int32'>\n"
     ]
    },
    {
     "data": {
      "text/plain": [
       "numpy.ndarray"
      ]
     },
     "execution_count": 71,
     "metadata": {},
     "output_type": "execute_result"
    }
   ],
   "source": [
    "n1=np.array([1,2,3,4])\n",
    "n2=np.array([5,6,7,8])\n",
    "print(np.sum((n1,n2)))\n",
    "print(np.sum((n1,n2),axis=0))\n",
    "print(np.sum((n1,n2),axis=1))\n",
    "n3=np.sum((n1,n2))\n",
    "print(type(n3))\n",
    "type(np.sum((n1,n2),axis=1))"
   ]
  },
  {
   "cell_type": "code",
   "execution_count": 85,
   "metadata": {},
   "outputs": [
    {
     "name": "stdout",
     "output_type": "stream",
     "text": [
      "<class 'numpy.ndarray'>\n"
     ]
    }
   ],
   "source": [
    "n1=np.array([10,20,30])\n",
    "n1-=2\n",
    "print(type(n1))"
   ]
  },
  {
   "cell_type": "code",
   "execution_count": 108,
   "metadata": {},
   "outputs": [
    {
     "name": "stdout",
     "output_type": "stream",
     "text": [
      "1000.0\n",
      "836.6666666666666\n",
      "619.157133170212\n"
     ]
    }
   ],
   "source": [
    "n1=np.array([1000,1500,10])\n",
    "print(np.median(n1))\n",
    "print(np.mean(n1))\n",
    "print(np.std(n1))"
   ]
  },
  {
   "cell_type": "code",
   "execution_count": 110,
   "metadata": {},
   "outputs": [
    {
     "name": "stdout",
     "output_type": "stream",
     "text": [
      "[1000 1500   10]\n",
      "<class 'numpy.ndarray'>\n"
     ]
    }
   ],
   "source": [
    "#saving and loading numpy arrays\n",
    "np.save('new_numpy',n1)\n",
    "n2=np.load('new_numpy.npy')\n",
    "print(n2)\n",
    "print(type(n2))"
   ]
  },
  {
   "cell_type": "code",
   "execution_count": 8,
   "metadata": {},
   "outputs": [
    {
     "name": "stdout",
     "output_type": "stream",
     "text": [
      "<class 'pandas.core.series.Series'>\n"
     ]
    },
    {
     "data": {
      "text/plain": [
       "10     qwe\n",
       "6        1\n",
       "9        3\n",
       "10     but\n",
       "nut      5\n",
       "cut      6\n",
       "dtype: object"
      ]
     },
     "execution_count": 8,
     "metadata": {},
     "output_type": "execute_result"
    }
   ],
   "source": [
    "#changing index in list\n",
    "import pandas as pd\n",
    "a1=[11,2,5,9]\n",
    "s1=pd.Series(['qwe',1,3,'but',5,6],index=[10,6,9,'10','nut','cut'])\n",
    "print(type(s1))\n",
    "s1"
   ]
  },
  {
   "cell_type": "code",
   "execution_count": 15,
   "metadata": {},
   "outputs": [
    {
     "data": {
      "text/plain": [
       "a      2.9\n",
       "1      4.7\n",
       "acd    3.0\n",
       "dtype: float64"
      ]
     },
     "execution_count": 15,
     "metadata": {},
     "output_type": "execute_result"
    }
   ],
   "source": [
    "#changing index in dictionary\n",
    "s2=pd.Series({'a':2.9,1:4.7,'acd':3.0})\n",
    "s2"
   ]
  },
  {
   "cell_type": "code",
   "execution_count": 22,
   "metadata": {},
   "outputs": [
    {
     "data": {
      "text/plain": [
       "acd    3.0\n",
       "1      4.7\n",
       "q      NaN\n",
       "a      2.9\n",
       "dtype: float64"
      ]
     },
     "execution_count": 22,
     "metadata": {},
     "output_type": "execute_result"
    }
   ],
   "source": [
    "#changing index positions\n",
    "s2=pd.Series({'a':2.9,1:4.7,'acd':3.0},index=['acd',1,'q','a'])\n",
    "s2"
   ]
  },
  {
   "cell_type": "code",
   "execution_count": 33,
   "metadata": {},
   "outputs": [
    {
     "name": "stdout",
     "output_type": "stream",
     "text": [
      "4\n",
      "0    1\n",
      "1    2\n",
      "2    3\n",
      "3    4\n",
      "4    5\n",
      "5    6\n",
      "6    7\n",
      "dtype: int64\n",
      "5    6\n",
      "6    7\n",
      "7    8\n",
      "8    9\n",
      "dtype: int64\n"
     ]
    }
   ],
   "source": [
    "#extracting single element and sequeence of elements from front & back\n",
    "import pandas\n",
    "s1=pandas.Series([1,2,3,4,5,6,7,8,9])\n",
    "print(s1[3])\n",
    "print(s1[:7])\n",
    "print(s1[-4:])"
   ]
  },
  {
   "cell_type": "code",
   "execution_count": 41,
   "metadata": {},
   "outputs": [
    {
     "name": "stdout",
     "output_type": "stream",
     "text": [
      "0    6\n",
      "1    7\n",
      "2    8\n",
      "3    9\n",
      "dtype: int64\n",
      "<class 'pandas.core.series.Series'>\n",
      "0    11\n",
      "1    22\n",
      "2    33\n",
      "3    44\n",
      "dtype: int64\n",
      "<class 'pandas.core.series.Series'>\n",
      "0    10.0\n",
      "1    10.0\n",
      "2    10.0\n",
      "3    10.0\n",
      "dtype: float64\n"
     ]
    }
   ],
   "source": [
    "#adding scalar value to series elements and adding 2 series objects\n",
    "#operations other than addition can also be done\n",
    "s1=pd.Series([1,2,3,4])\n",
    "print(s1+5)\n",
    "print(type(s1+5))\n",
    "s2=pd.Series([10,20,30,40])\n",
    "print(s2+s1)\n",
    "print(type(s1+s2))\n",
    "print(s2/s1)"
   ]
  },
  {
   "cell_type": "code",
   "execution_count": 65,
   "metadata": {},
   "outputs": [
    {
     "name": "stdout",
     "output_type": "stream",
     "text": [
      "    Name  Marks\n",
      "0    Jit     99\n",
      "1     G2    100\n",
      "2  Guddu     98\n"
     ]
    }
   ],
   "source": [
    "#creating a dataframe\n",
    "s2=pd.DataFrame({'Name':['Jit','G2','Guddu'],'Marks':[99,100,98]})\n",
    "print(s2)"
   ]
  },
  {
   "cell_type": "code",
   "execution_count": 89,
   "metadata": {},
   "outputs": [
    {
     "name": "stdout",
     "output_type": "stream",
     "text": [
      "C:\\Users\\G2\\Desktop\n"
     ]
    }
   ],
   "source": [
    "#fetch working directory\n",
    "import os\n",
    "print(os.getcwd())"
   ]
  },
  {
   "cell_type": "code",
   "execution_count": 100,
   "metadata": {},
   "outputs": [
    {
     "name": "stdout",
     "output_type": "stream",
     "text": [
      "   Id  SepalLengthCm  SepalWidthCm  PetalLengthCm  PetalWidthCm      Species\n",
      "0   1            5.1           3.5            1.4           0.2  Iris-setosa\n",
      "1   2            4.9           3.0            1.4           0.2  Iris-setosa\n",
      "2   3            4.7           3.2            1.3           0.2  Iris-setosa\n",
      "3   4            4.6           3.1            1.5           0.2  Iris-setosa\n",
      "4   5            5.0           3.6            1.4           0.2  Iris-setosa\n",
      "      Id  SepalLengthCm  SepalWidthCm  PetalLengthCm  PetalWidthCm  \\\n",
      "145  146            6.7           3.0            5.2           2.3   \n",
      "146  147            6.3           2.5            5.0           1.9   \n",
      "147  148            6.5           3.0            5.2           2.0   \n",
      "148  149            6.2           3.4            5.4           2.3   \n",
      "149  150            5.9           3.0            5.1           1.8   \n",
      "\n",
      "            Species  \n",
      "145  Iris-virginica  \n",
      "146  Iris-virginica  \n",
      "147  Iris-virginica  \n",
      "148  Iris-virginica  \n",
      "149  Iris-virginica  \n",
      "(150, 6)\n",
      "               Id  SepalLengthCm  SepalWidthCm  PetalLengthCm  PetalWidthCm\n",
      "count  150.000000     150.000000    150.000000     150.000000    150.000000\n",
      "mean    75.500000       5.843333      3.054000       3.758667      1.198667\n",
      "std     43.445368       0.828066      0.433594       1.764420      0.763161\n",
      "min      1.000000       4.300000      2.000000       1.000000      0.100000\n",
      "25%     38.250000       5.100000      2.800000       1.600000      0.300000\n",
      "50%     75.500000       5.800000      3.000000       4.350000      1.300000\n",
      "75%    112.750000       6.400000      3.300000       5.100000      1.800000\n",
      "max    150.000000       7.900000      4.400000       6.900000      2.500000\n"
     ]
    }
   ],
   "source": [
    "#head(),tail(),shape and describe functions\n",
    "import pandas as pd\n",
    "iris=pd.read_csv('iris.csv') #reading a file from working directory\n",
    "print(iris.head())\n",
    "print(iris.tail())\n",
    "print(iris.shape)\n",
    "print(iris.describe())"
   ]
  },
  {
   "cell_type": "code",
   "execution_count": 96,
   "metadata": {},
   "outputs": [
    {
     "name": "stdout",
     "output_type": "stream",
     "text": [
      "     PetalLengthCm  PetalWidthCm         Species\n",
      "100            6.0           2.5  Iris-virginica\n",
      "101            5.1           1.9  Iris-virginica\n",
      "102            5.9           2.1  Iris-virginica\n",
      "103            5.6           1.8  Iris-virginica\n",
      "104            5.8           2.2  Iris-virginica\n",
      "105            6.6           2.1  Iris-virginica\n",
      "106            4.5           1.7  Iris-virginica\n",
      "107            6.3           1.8  Iris-virginica\n",
      "108            5.8           1.8  Iris-virginica\n",
      "109            6.1           2.5  Iris-virginica\n",
      "110            5.1           2.0  Iris-virginica\n",
      "111            5.3           1.9  Iris-virginica\n",
      "112            5.5           2.1  Iris-virginica\n",
      "113            5.0           2.0  Iris-virginica\n",
      "114            5.1           2.4  Iris-virginica\n"
     ]
    }
   ],
   "source": [
    "#iloc[]\n",
    "print(iris.iloc[100:115,3:6])"
   ]
  },
  {
   "cell_type": "code",
   "execution_count": 106,
   "metadata": {},
   "outputs": [
    {
     "name": "stdout",
     "output_type": "stream",
     "text": [
      "        Species  PetalLengthCm\n",
      "5   Iris-setosa            1.7\n",
      "6   Iris-setosa            1.4\n",
      "7   Iris-setosa            1.5\n",
      "8   Iris-setosa            1.4\n",
      "9   Iris-setosa            1.5\n",
      "10  Iris-setosa            1.5\n",
      "11  Iris-setosa            1.6\n",
      "12  Iris-setosa            1.4\n",
      "13  Iris-setosa            1.1\n",
      "14  Iris-setosa            1.2\n",
      "15  Iris-setosa            1.5\n",
      "16  Iris-setosa            1.3\n"
     ]
    }
   ],
   "source": [
    "#loc[]\n",
    "print(iris.loc[5:16,('Species','PetalLengthCm')])"
   ]
  },
  {
   "cell_type": "code",
   "execution_count": 115,
   "metadata": {},
   "outputs": [
    {
     "name": "stdout",
     "output_type": "stream",
     "text": [
      "      Id  SepalLengthCm  SepalWidthCm  PetalWidthCm         Species\n",
      "0      1            5.1           3.5           0.2     Iris-setosa\n",
      "1      2            4.9           3.0           0.2     Iris-setosa\n",
      "2      3            4.7           3.2           0.2     Iris-setosa\n",
      "3      4            4.6           3.1           0.2     Iris-setosa\n",
      "4      5            5.0           3.6           0.2     Iris-setosa\n",
      "..   ...            ...           ...           ...             ...\n",
      "145  146            6.7           3.0           2.3  Iris-virginica\n",
      "146  147            6.3           2.5           1.9  Iris-virginica\n",
      "147  148            6.5           3.0           2.0  Iris-virginica\n",
      "148  149            6.2           3.4           2.3  Iris-virginica\n",
      "149  150            5.9           3.0           1.8  Iris-virginica\n",
      "\n",
      "[150 rows x 5 columns]\n",
      "                               \n",
      "                               \n",
      "      Id  SepalLengthCm  SepalWidthCm  PetalLengthCm  PetalWidthCm  \\\n",
      "0      1            5.1           3.5            1.4           0.2   \n",
      "4      5            5.0           3.6            1.4           0.2   \n",
      "5      6            5.4           3.9            1.7           0.4   \n",
      "6      7            4.6           3.4            1.4           0.3   \n",
      "7      8            5.0           3.4            1.5           0.2   \n",
      "..   ...            ...           ...            ...           ...   \n",
      "145  146            6.7           3.0            5.2           2.3   \n",
      "146  147            6.3           2.5            5.0           1.9   \n",
      "147  148            6.5           3.0            5.2           2.0   \n",
      "148  149            6.2           3.4            5.4           2.3   \n",
      "149  150            5.9           3.0            5.1           1.8   \n",
      "\n",
      "            Species  \n",
      "0       Iris-setosa  \n",
      "4       Iris-setosa  \n",
      "5       Iris-setosa  \n",
      "6       Iris-setosa  \n",
      "7       Iris-setosa  \n",
      "..              ...  \n",
      "145  Iris-virginica  \n",
      "146  Iris-virginica  \n",
      "147  Iris-virginica  \n",
      "148  Iris-virginica  \n",
      "149  Iris-virginica  \n",
      "\n",
      "[147 rows x 6 columns]\n",
      "                               \n",
      "                               \n",
      "   Id  SepalLengthCm  SepalWidthCm  PetalLengthCm  PetalWidthCm      Species\n",
      "0   1            5.1           3.5            1.4           0.2  Iris-setosa\n",
      "1   2            4.9           3.0            1.4           0.2  Iris-setosa\n",
      "2   3            4.7           3.2            1.3           0.2  Iris-setosa\n",
      "3   4            4.6           3.1            1.5           0.2  Iris-setosa\n",
      "4   5            5.0           3.6            1.4           0.2  Iris-setosa\n"
     ]
    }
   ],
   "source": [
    "#dropping columns and rows\n",
    "print(iris.drop('PetalLengthCm',axis=1))\n",
    "print('                               ')\n",
    "print('                               ')\n",
    "print(iris.drop([1,2,3],axis=0))\n",
    "print('                               ')\n",
    "print('                               ')\n",
    "print(iris.head())"
   ]
  },
  {
   "cell_type": "code",
   "execution_count": 120,
   "metadata": {},
   "outputs": [
    {
     "name": "stdout",
     "output_type": "stream",
     "text": [
      "Id               75.500000\n",
      "SepalLengthCm     5.843333\n",
      "SepalWidthCm      3.054000\n",
      "PetalLengthCm     3.758667\n",
      "PetalWidthCm      1.198667\n",
      "dtype: float64\n",
      "Id               75.50\n",
      "SepalLengthCm     5.80\n",
      "SepalWidthCm      3.00\n",
      "PetalLengthCm     4.35\n",
      "PetalWidthCm      1.30\n",
      "dtype: float64\n",
      "Id                         1\n",
      "SepalLengthCm            4.3\n",
      "SepalWidthCm               2\n",
      "PetalLengthCm              1\n",
      "PetalWidthCm             0.1\n",
      "Species          Iris-setosa\n",
      "dtype: object\n",
      "Id                          150\n",
      "SepalLengthCm               7.9\n",
      "SepalWidthCm                4.4\n",
      "PetalLengthCm               6.9\n",
      "PetalWidthCm                2.5\n",
      "Species          Iris-virginica\n",
      "dtype: object\n"
     ]
    }
   ],
   "source": [
    "#mean(),median(),min(),max()\n",
    "print(iris.mean())\n",
    "print(iris.median())\n",
    "print(iris.min())\n",
    "print(iris.max())"
   ]
  },
  {
   "cell_type": "code",
   "execution_count": 126,
   "metadata": {},
   "outputs": [
    {
     "name": "stdout",
     "output_type": "stream",
     "text": [
      "     SepalWidthCm  PetalWidthCm\n",
      "0             7.0           0.4\n",
      "1             6.0           0.4\n",
      "2             6.4           0.4\n",
      "3             6.2           0.4\n",
      "4             7.2           0.4\n",
      "..            ...           ...\n",
      "145           6.0           4.6\n",
      "146           5.0           3.8\n",
      "147           6.0           4.0\n",
      "148           6.8           4.6\n",
      "149           6.0           3.6\n",
      "\n",
      "[150 rows x 2 columns]\n"
     ]
    }
   ],
   "source": [
    "#doubling particular columns\n",
    "def double_make(s):\n",
    "    return s*2\n",
    "print(iris[['SepalWidthCm','PetalWidthCm']].apply(double_make))"
   ]
  },
  {
   "cell_type": "code",
   "execution_count": 131,
   "metadata": {},
   "outputs": [
    {
     "name": "stdout",
     "output_type": "stream",
     "text": [
      "Iris-versicolor    50\n",
      "Iris-virginica     50\n",
      "Iris-setosa        50\n",
      "Name: Species, dtype: int64\n",
      "      Id  SepalLengthCm  SepalWidthCm  PetalLengthCm  PetalWidthCm  \\\n",
      "60    61            5.0           2.0            3.5           1.0   \n",
      "62    63            6.0           2.2            4.0           1.0   \n",
      "119  120            6.0           2.2            5.0           1.5   \n",
      "68    69            6.2           2.2            4.5           1.5   \n",
      "41    42            4.5           2.3            1.3           0.3   \n",
      "..   ...            ...           ...            ...           ...   \n",
      "16    17            5.4           3.9            1.3           0.4   \n",
      "14    15            5.8           4.0            1.2           0.2   \n",
      "32    33            5.2           4.1            1.5           0.1   \n",
      "33    34            5.5           4.2            1.4           0.2   \n",
      "15    16            5.7           4.4            1.5           0.4   \n",
      "\n",
      "             Species  \n",
      "60   Iris-versicolor  \n",
      "62   Iris-versicolor  \n",
      "119   Iris-virginica  \n",
      "68   Iris-versicolor  \n",
      "41       Iris-setosa  \n",
      "..               ...  \n",
      "16       Iris-setosa  \n",
      "14       Iris-setosa  \n",
      "32       Iris-setosa  \n",
      "33       Iris-setosa  \n",
      "15       Iris-setosa  \n",
      "\n",
      "[150 rows x 6 columns]\n",
      "      Id  SepalLengthCm  SepalWidthCm  PetalLengthCm  PetalWidthCm  \\\n",
      "0      1            5.1           3.5            1.4           0.2   \n",
      "27    28            5.2           3.5            1.5           0.2   \n",
      "28    29            5.2           3.4            1.4           0.2   \n",
      "29    30            4.7           3.2            1.6           0.2   \n",
      "30    31            4.8           3.1            1.6           0.2   \n",
      "..   ...            ...           ...            ...           ...   \n",
      "119  120            6.0           2.2            5.0           1.5   \n",
      "120  121            6.9           3.2            5.7           2.3   \n",
      "121  122            5.6           2.8            4.9           2.0   \n",
      "111  112            6.4           2.7            5.3           1.9   \n",
      "149  150            5.9           3.0            5.1           1.8   \n",
      "\n",
      "            Species  \n",
      "0       Iris-setosa  \n",
      "27      Iris-setosa  \n",
      "28      Iris-setosa  \n",
      "29      Iris-setosa  \n",
      "30      Iris-setosa  \n",
      "..              ...  \n",
      "119  Iris-virginica  \n",
      "120  Iris-virginica  \n",
      "121  Iris-virginica  \n",
      "111  Iris-virginica  \n",
      "149  Iris-virginica  \n",
      "\n",
      "[150 rows x 6 columns]\n"
     ]
    }
   ],
   "source": [
    "#value_counts() and sort_values()\n",
    "print(iris['Species'].value_counts())\n",
    "print(iris.sort_values(by='SepalWidthCm'))\n",
    "print(iris.sort_values(by='Species'))"
   ]
  }
 ],
 "metadata": {
  "kernelspec": {
   "display_name": "Python 3",
   "language": "python",
   "name": "python3"
  },
  "language_info": {
   "codemirror_mode": {
    "name": "ipython",
    "version": 3
   },
   "file_extension": ".py",
   "mimetype": "text/x-python",
   "name": "python",
   "nbconvert_exporter": "python",
   "pygments_lexer": "ipython3",
   "version": "3.8.5"
  }
 },
 "nbformat": 4,
 "nbformat_minor": 4
}
