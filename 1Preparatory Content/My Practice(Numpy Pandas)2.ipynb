{
 "cells": [
  {
   "cell_type": "code",
   "execution_count": 2,
   "metadata": {},
   "outputs": [
    {
     "name": "stdout",
     "output_type": "stream",
     "text": [
      "[1 2 3] <class 'numpy.ndarray'>\n"
     ]
    }
   ],
   "source": [
    "#NumPy 1D Array\n",
    "import numpy\n",
    "n1=numpy.array([1,2,3])\n",
    "print(n1,type(n1))"
   ]
  },
  {
   "cell_type": "code",
   "execution_count": 4,
   "metadata": {},
   "outputs": [
    {
     "name": "stdout",
     "output_type": "stream",
     "text": [
      "[[1 2 3]\n",
      " [4 5 6]] <class 'numpy.ndarray'>\n"
     ]
    }
   ],
   "source": [
    "#NumPy 2D Array\n",
    "import numpy\n",
    "n1=numpy.array([[1,2,3],[4,5,6]])\n",
    "print(n1,type(n1))"
   ]
  },
  {
   "cell_type": "code",
   "execution_count": 6,
   "metadata": {},
   "outputs": [
    {
     "name": "stdout",
     "output_type": "stream",
     "text": [
      "[[0. 0. 0.]\n",
      " [0. 0. 0.]\n",
      " [0. 0. 0.]\n",
      " [0. 0. 0.]]\n"
     ]
    }
   ],
   "source": [
    "#zeros Method\n",
    "import numpy as np\n",
    "n1=np.zeros((4,3))\n",
    "print(n1)"
   ]
  },
  {
   "cell_type": "code",
   "execution_count": 7,
   "metadata": {},
   "outputs": [
    {
     "name": "stdout",
     "output_type": "stream",
     "text": [
      "[[56 56 56]\n",
      " [56 56 56]\n",
      " [56 56 56]\n",
      " [56 56 56]]\n"
     ]
    }
   ],
   "source": [
    "#full Method\n",
    "import numpy as np\n",
    "n1=np.full((4,3),56)\n",
    "print(n1)"
   ]
  },
  {
   "cell_type": "code",
   "execution_count": 9,
   "metadata": {},
   "outputs": [
    {
     "name": "stdout",
     "output_type": "stream",
     "text": [
      "[  0  10  20  30  40  50  60  70  80  90 100]\n"
     ]
    }
   ],
   "source": [
    "#arange Method\n",
    "import numpy as np\n",
    "n1=np.arange(0,101,10)\n",
    "print(n1)"
   ]
  },
  {
   "cell_type": "code",
   "execution_count": 82,
   "metadata": {},
   "outputs": [
    {
     "name": "stdout",
     "output_type": "stream",
     "text": [
      "[71 65 82 31]\n"
     ]
    }
   ],
   "source": [
    "#random method, randint sub-method\n",
    "import numpy as np\n",
    "n1=np.random.randint(0,100,4)\n",
    "print(n1)"
   ]
  },
  {
   "cell_type": "code",
   "execution_count": 87,
   "metadata": {},
   "outputs": [
    {
     "data": {
      "text/plain": [
       "array([[1, 2],\n",
       "       [3, 4],\n",
       "       [5, 6],\n",
       "       [7, 8],\n",
       "       [9, 3],\n",
       "       [6, 5]])"
      ]
     },
     "execution_count": 87,
     "metadata": {},
     "output_type": "execute_result"
    }
   ],
   "source": [
    "#shape method\n",
    "import numpy as np\n",
    "n1=np.array([[1,2,3],[4,5,6],[7,8,9],[3,6,5]])\n",
    "n1.shape=(6,2)\n",
    "n1"
   ]
  },
  {
   "cell_type": "code",
   "execution_count": 112,
   "metadata": {},
   "outputs": [
    {
     "name": "stdout",
     "output_type": "stream",
     "text": [
      "[[1 2 3 4]\n",
      " [5 6 7 8]] <class 'numpy.ndarray'> (2, 4)\n",
      "[1 2 3 4 5 6 7 8] <class 'numpy.ndarray'> (8,)\n",
      "[[1 5]\n",
      " [2 6]\n",
      " [3 7]\n",
      " [4 8]] <class 'numpy.ndarray'> (4, 2)\n"
     ]
    }
   ],
   "source": [
    "#Stacking by vstack(), hstack(), columnstack()\n",
    "import numpy as np\n",
    "n1=np.array([1,2,3,4])\n",
    "n2=np.array([5,6,7,8])\n",
    "print(np.vstack((n1,n2)),type(np.vstack((n1,n2))),np.shape(np.vstack((n1,n2))))#returns stacked array,its type and its dimensions\n",
    "print(np.hstack((n1,n2)),type(np.hstack((n1,n2))),np.shape(np.hstack((n1,n2))))\n",
    "print(np.column_stack((n1,n2)),type(np.column_stack((n1,n2))),np.shape(np.column_stack((n1,n2))))"
   ]
  },
  {
   "cell_type": "code",
   "execution_count": 123,
   "metadata": {},
   "outputs": [
    {
     "name": "stdout",
     "output_type": "stream",
     "text": [
      "[3 4 5 6 7] <class 'numpy.ndarray'> (5,)\n",
      "[1 2] <class 'numpy.ndarray'> (2,)\n",
      "[8 9] <class 'numpy.ndarray'> (2,)\n"
     ]
    }
   ],
   "source": [
    "#NumPy intersection and difference\n",
    "import numpy as np\n",
    "n1=np.array([1,2,3,4,5,6,7])\n",
    "n2=np.array([3,4,5,6,7,8,9])\n",
    "print(np.intersect1d(n1,n2),type(np.intersect1d(n1,n2)),np.shape(np.intersect1d(n1,n2)))\n",
    "print(np.setdiff1d(n1,n2),type(np.setdiff1d(n1,n2)),np.shape(np.setdiff1d(n1,n2)))            \n",
    "print(np.setdiff1d(n2,n1),type(np.setdiff1d(n2,n1)),np.shape(np.setdiff1d(n2,n1)))"
   ]
  },
  {
   "cell_type": "code",
   "execution_count": 136,
   "metadata": {},
   "outputs": [
    {
     "name": "stdout",
     "output_type": "stream",
     "text": [
      "[2 3 4 5 6 7 8]\n",
      "[2 3 4 5 6 7 8]\n",
      "[ 4  6  8 10 12 14 16]\n",
      "[1.  1.5 2.  2.5 3.  3.5 4. ]\n"
     ]
    }
   ],
   "source": [
    "#NumPy Array Mathematics\n",
    "import numpy as np\n",
    "n1=np.array([1,2,3,4,5,6,7])\n",
    "n2=np.array([3,4,5,6,7,8,9])\n",
    "n1+=1\n",
    "print(n1)\n",
    "n2-=1\n",
    "print(n2)\n",
    "n1*=2\n",
    "print(n1)\n",
    "n2=n2/2  #  \"n2/=2\" confuses the kernel and it returns error\n",
    "print(n2)"
   ]
  },
  {
   "cell_type": "code",
   "execution_count": 144,
   "metadata": {},
   "outputs": [
    {
     "name": "stdout",
     "output_type": "stream",
     "text": [
      "5.0\n",
      "5.0\n",
      "2.581988897471611\n",
      "5.0\n",
      "2.581988897471611\n"
     ]
    }
   ],
   "source": [
    "#Math Functions\n",
    "import numpy as np\n",
    "n1=np.array([1,2,3,4,5,6,7,8,9])\n",
    "print(np.mean(n1))\n",
    "print(np.median(n1))\n",
    "print(np.std(n1))\n",
    "print(n1.mean())                    # this syntax only valid for mean and standard deviation, not median\n",
    "print(n1.std())                     # this syntax only valid for mean and standard deviation, not median"
   ]
  },
  {
   "cell_type": "code",
   "execution_count": 152,
   "metadata": {},
   "outputs": [
    {
     "name": "stdout",
     "output_type": "stream",
     "text": [
      "<class 'list'>\n",
      "['Jitendra' 'Male' '27' 'Data Analyst' 'Microsoft' '2500'] <class 'numpy.ndarray'>\n",
      "['Jitendra' 'Male' '27' 'Data Analyst' 'Microsoft' '2500'] <class 'numpy.ndarray'>\n"
     ]
    }
   ],
   "source": [
    "#save and load NumPy array\n",
    "n1=['Jitendra','Male',27,'Data Analyst','Microsoft',2500]\n",
    "print(type(n1))\n",
    "import numpy as np\n",
    "n2=np.array(n1)\n",
    "np.save('new1',n1)\n",
    "np.save('new2',n2)\n",
    "n3=np.load('new1.npy')\n",
    "print(n3,type(n3))\n",
    "n4=np.load('new2.npy')\n",
    "print(n4,type(n4))"
   ]
  },
  {
   "cell_type": "code",
   "execution_count": 155,
   "metadata": {},
   "outputs": [
    {
     "name": "stdout",
     "output_type": "stream",
     "text": [
      "<class 'list'>\n",
      "['Jitendra' 'Male' '27' 'Data Analyst' 'Microsoft' '2500'] <class 'numpy.ndarray'>\n"
     ]
    }
   ],
   "source": [
    "#save and load NumPy array\n",
    "n1=['Jitendra','Male',27,'Data Analyst','Microsoft',2500]\n",
    "print(type(n1))\n",
    "np.save('new1',n1)\n",
    "n3=np.load('new1.npy')\n",
    "print(n3,type(n3))"
   ]
  },
  {
   "cell_type": "code",
   "execution_count": 5,
   "metadata": {},
   "outputs": [
    {
     "name": "stdout",
     "output_type": "stream",
     "text": [
      "0    1\n",
      "1    2\n",
      "2    3\n",
      "3    4\n",
      "4    5\n",
      "dtype: int64\n",
      "1     1\n",
      "2     2\n",
      "3     3\n",
      "4     4\n",
      "hi    5\n",
      "dtype: int64\n"
     ]
    }
   ],
   "source": [
    "#Pandas series object, changing index  [in Lists]\n",
    "n1=[1,2,3,4,5]\n",
    "import pandas as pd\n",
    "n2=pd.Series(n1)\n",
    "print(n2)\n",
    "n3=pd.Series(n1,index=[1,2,3,4,'hi'])\n",
    "print(n3)\n"
   ]
  },
  {
   "cell_type": "code",
   "execution_count": 10,
   "metadata": {},
   "outputs": [
    {
     "name": "stdout",
     "output_type": "stream",
     "text": [
      "a    1\n",
      "b    2\n",
      "c    3\n",
      "dtype: int64\n",
      "c    3.0\n",
      "a    1.0\n",
      "b    2.0\n",
      "d    NaN\n",
      "dtype: float64\n"
     ]
    }
   ],
   "source": [
    "#Pandas series object, changing index positions  [in dictionaries]\n",
    "n1={'a':1,'b':2,'c':3}\n",
    "import pandas as pd\n",
    "n2=pd.Series(n1)\n",
    "print(n2)\n",
    "print(pd.Series(n1,index=['c','a','b','d']))"
   ]
  },
  {
   "cell_type": "code",
   "execution_count": 10,
   "metadata": {},
   "outputs": [
    {
     "name": "stdout",
     "output_type": "stream",
     "text": [
      "6\n",
      "2    3\n",
      "3    4\n",
      "4    5\n",
      "5    6\n",
      "dtype: int64\n"
     ]
    }
   ],
   "source": [
    "#Extracting Individual Elements and Sequence of Elements\n",
    "n1=[1,2,3,4,5,6,7,8,9]\n",
    "import pandas as pd\n",
    "n2=pd.Series(n1)\n",
    "print(n2[5])\n",
    "print(n2[-7:-3])"
   ]
  },
  {
   "cell_type": "code",
   "execution_count": 13,
   "metadata": {},
   "outputs": [
    {
     "name": "stdout",
     "output_type": "stream",
     "text": [
      "0    6\n",
      "1    7\n",
      "2    8\n",
      "3    9\n",
      "dtype: int64\n",
      "0    0\n",
      "1    1\n",
      "2    2\n",
      "3    3\n",
      "dtype: int64\n",
      "0     3\n",
      "1     6\n",
      "2     9\n",
      "3    12\n",
      "dtype: int64\n",
      "0    0.5\n",
      "1    1.0\n",
      "2    1.5\n",
      "3    2.0\n",
      "dtype: float64\n"
     ]
    }
   ],
   "source": [
    "#Basic math operations\n",
    "a1=[1,2,3,4]\n",
    "import pandas as pd\n",
    "s1=pd.Series(a1)\n",
    "print(s1+5)\n",
    "print(s1-1)\n",
    "print(s1*3)\n",
    "print(s1/2)"
   ]
  },
  {
   "cell_type": "code",
   "execution_count": 24,
   "metadata": {},
   "outputs": [
    {
     "name": "stdout",
     "output_type": "stream",
     "text": [
      "{'a': 1, 'b': 2, 'c': 3} <class 'dict'>\n"
     ]
    },
    {
     "ename": "TypeError",
     "evalue": "unhashable type: 'dict'",
     "output_type": "error",
     "traceback": [
      "\u001b[1;31m---------------------------------------------------------------------------\u001b[0m",
      "\u001b[1;31mTypeError\u001b[0m                                 Traceback (most recent call last)",
      "\u001b[1;32m<ipython-input-24-0730f072dc2f>\u001b[0m in \u001b[0;36m<module>\u001b[1;34m\u001b[0m\n\u001b[0;32m      3\u001b[0m \u001b[0mprint\u001b[0m\u001b[1;33m(\u001b[0m\u001b[0md1\u001b[0m\u001b[1;33m,\u001b[0m\u001b[0mtype\u001b[0m\u001b[1;33m(\u001b[0m\u001b[0md1\u001b[0m\u001b[1;33m)\u001b[0m\u001b[1;33m)\u001b[0m\u001b[1;33m\u001b[0m\u001b[1;33m\u001b[0m\u001b[0m\n\u001b[0;32m      4\u001b[0m \u001b[1;32mimport\u001b[0m \u001b[0mpandas\u001b[0m \u001b[1;32mas\u001b[0m \u001b[0mpd\u001b[0m\u001b[1;33m\u001b[0m\u001b[1;33m\u001b[0m\u001b[0m\n\u001b[1;32m----> 5\u001b[1;33m \u001b[0ms1\u001b[0m\u001b[1;33m=\u001b[0m\u001b[0mpd\u001b[0m\u001b[1;33m.\u001b[0m\u001b[0mDataFrame\u001b[0m\u001b[1;33m(\u001b[0m\u001b[1;33m{\u001b[0m\u001b[0md1\u001b[0m\u001b[1;33m}\u001b[0m\u001b[1;33m)\u001b[0m\u001b[1;33m\u001b[0m\u001b[1;33m\u001b[0m\u001b[0m\n\u001b[0m",
      "\u001b[1;31mTypeError\u001b[0m: unhashable type: 'dict'"
     ]
    }
   ],
   "source": [
    "#Creating a DataFrame[ERROR DUE CONVENTIONAL SYNTAX OF DICTIONARY]\n",
    "d1={'a':1,'b':2,'c':3}\n",
    "print(d1,type(d1))\n",
    "import pandas as pd\n",
    "s1=pd.DataFrame({d1})"
   ]
  },
  {
   "cell_type": "code",
   "execution_count": 25,
   "metadata": {},
   "outputs": [
    {
     "name": "stdout",
     "output_type": "stream",
     "text": [
      "{'Name': ['bob', 'mike', 'mac'], 'marks': [20, 30, 40]} <class 'dict'>\n",
      "   Name  marks\n",
      "0   bob     20\n",
      "1  mike     30\n",
      "2   mac     40 <class 'pandas.core.frame.DataFrame'>\n"
     ]
    }
   ],
   "source": [
    "#Creating a DataFrame\n",
    "d1={'Name':['bob','mike','mac'],'marks':[20,30,40]}\n",
    "print(d1,type(d1))\n",
    "import pandas as pd\n",
    "s1=pd.DataFrame(d1)\n",
    "print(s1,type(s1))"
   ]
  },
  {
   "cell_type": "code",
   "execution_count": 39,
   "metadata": {},
   "outputs": [
    {
     "name": "stdout",
     "output_type": "stream",
     "text": [
      "   total_bill   tip     sex smoker  day    time  size\n",
      "0       16.99  1.01  Female     No  Sun  Dinner     2\n",
      "1       10.34  1.66    Male     No  Sun  Dinner     3\n",
      "2       21.01  3.50    Male     No  Sun  Dinner     3\n",
      "3       23.68  3.31    Male     No  Sun  Dinner     2\n",
      "4       24.59  3.61  Female     No  Sun  Dinner     4\n",
      "     total_bill   tip     sex smoker   day    time  size\n",
      "239       29.03  5.92    Male     No   Sat  Dinner     3\n",
      "240       27.18  2.00  Female    Yes   Sat  Dinner     2\n",
      "241       22.67  2.00    Male    Yes   Sat  Dinner     2\n",
      "242       17.82  1.75    Male     No   Sat  Dinner     2\n",
      "243       18.78  3.00  Female     No  Thur  Dinner     2\n",
      "(244, 7)\n"
     ]
    },
    {
     "data": {
      "text/html": [
       "<div>\n",
       "<style scoped>\n",
       "    .dataframe tbody tr th:only-of-type {\n",
       "        vertical-align: middle;\n",
       "    }\n",
       "\n",
       "    .dataframe tbody tr th {\n",
       "        vertical-align: top;\n",
       "    }\n",
       "\n",
       "    .dataframe thead th {\n",
       "        text-align: right;\n",
       "    }\n",
       "</style>\n",
       "<table border=\"1\" class=\"dataframe\">\n",
       "  <thead>\n",
       "    <tr style=\"text-align: right;\">\n",
       "      <th></th>\n",
       "      <th>total_bill</th>\n",
       "      <th>tip</th>\n",
       "      <th>size</th>\n",
       "    </tr>\n",
       "  </thead>\n",
       "  <tbody>\n",
       "    <tr>\n",
       "      <th>count</th>\n",
       "      <td>244.000000</td>\n",
       "      <td>244.000000</td>\n",
       "      <td>244.000000</td>\n",
       "    </tr>\n",
       "    <tr>\n",
       "      <th>mean</th>\n",
       "      <td>19.785943</td>\n",
       "      <td>2.998279</td>\n",
       "      <td>2.569672</td>\n",
       "    </tr>\n",
       "    <tr>\n",
       "      <th>std</th>\n",
       "      <td>8.902412</td>\n",
       "      <td>1.383638</td>\n",
       "      <td>0.951100</td>\n",
       "    </tr>\n",
       "    <tr>\n",
       "      <th>min</th>\n",
       "      <td>3.070000</td>\n",
       "      <td>1.000000</td>\n",
       "      <td>1.000000</td>\n",
       "    </tr>\n",
       "    <tr>\n",
       "      <th>25%</th>\n",
       "      <td>13.347500</td>\n",
       "      <td>2.000000</td>\n",
       "      <td>2.000000</td>\n",
       "    </tr>\n",
       "    <tr>\n",
       "      <th>50%</th>\n",
       "      <td>17.795000</td>\n",
       "      <td>2.900000</td>\n",
       "      <td>2.000000</td>\n",
       "    </tr>\n",
       "    <tr>\n",
       "      <th>75%</th>\n",
       "      <td>24.127500</td>\n",
       "      <td>3.562500</td>\n",
       "      <td>3.000000</td>\n",
       "    </tr>\n",
       "    <tr>\n",
       "      <th>max</th>\n",
       "      <td>50.810000</td>\n",
       "      <td>10.000000</td>\n",
       "      <td>6.000000</td>\n",
       "    </tr>\n",
       "  </tbody>\n",
       "</table>\n",
       "</div>"
      ],
      "text/plain": [
       "       total_bill         tip        size\n",
       "count  244.000000  244.000000  244.000000\n",
       "mean    19.785943    2.998279    2.569672\n",
       "std      8.902412    1.383638    0.951100\n",
       "min      3.070000    1.000000    1.000000\n",
       "25%     13.347500    2.000000    2.000000\n",
       "50%     17.795000    2.900000    2.000000\n",
       "75%     24.127500    3.562500    3.000000\n",
       "max     50.810000   10.000000    6.000000"
      ]
     },
     "execution_count": 39,
     "metadata": {},
     "output_type": "execute_result"
    }
   ],
   "source": [
    "#Analysing a Dataset\n",
    "import pandas as pd\n",
    "print(pd.read_csv('4tips.csv').head())\n",
    "print(pd.read_csv('4tips.csv').tail())\n",
    "print(pd.read_csv('4tips.csv').shape)\n",
    "pd.read_csv('4tips.csv').describe()"
   ]
  },
  {
   "cell_type": "code",
   "execution_count": 50,
   "metadata": {},
   "outputs": [
    {
     "data": {
      "text/html": [
       "<div>\n",
       "<style scoped>\n",
       "    .dataframe tbody tr th:only-of-type {\n",
       "        vertical-align: middle;\n",
       "    }\n",
       "\n",
       "    .dataframe tbody tr th {\n",
       "        vertical-align: top;\n",
       "    }\n",
       "\n",
       "    .dataframe thead th {\n",
       "        text-align: right;\n",
       "    }\n",
       "</style>\n",
       "<table border=\"1\" class=\"dataframe\">\n",
       "  <thead>\n",
       "    <tr style=\"text-align: right;\">\n",
       "      <th></th>\n",
       "      <th>day</th>\n",
       "      <th>time</th>\n",
       "      <th>size</th>\n",
       "    </tr>\n",
       "  </thead>\n",
       "  <tbody>\n",
       "    <tr>\n",
       "      <th>7</th>\n",
       "      <td>Sun</td>\n",
       "      <td>Dinner</td>\n",
       "      <td>4</td>\n",
       "    </tr>\n",
       "    <tr>\n",
       "      <th>8</th>\n",
       "      <td>Sun</td>\n",
       "      <td>Dinner</td>\n",
       "      <td>2</td>\n",
       "    </tr>\n",
       "    <tr>\n",
       "      <th>9</th>\n",
       "      <td>Sun</td>\n",
       "      <td>Dinner</td>\n",
       "      <td>2</td>\n",
       "    </tr>\n",
       "    <tr>\n",
       "      <th>10</th>\n",
       "      <td>Sun</td>\n",
       "      <td>Dinner</td>\n",
       "      <td>2</td>\n",
       "    </tr>\n",
       "    <tr>\n",
       "      <th>11</th>\n",
       "      <td>Sun</td>\n",
       "      <td>Dinner</td>\n",
       "      <td>4</td>\n",
       "    </tr>\n",
       "    <tr>\n",
       "      <th>12</th>\n",
       "      <td>Sun</td>\n",
       "      <td>Dinner</td>\n",
       "      <td>2</td>\n",
       "    </tr>\n",
       "    <tr>\n",
       "      <th>13</th>\n",
       "      <td>Sun</td>\n",
       "      <td>Dinner</td>\n",
       "      <td>4</td>\n",
       "    </tr>\n",
       "    <tr>\n",
       "      <th>14</th>\n",
       "      <td>Sun</td>\n",
       "      <td>Dinner</td>\n",
       "      <td>2</td>\n",
       "    </tr>\n",
       "    <tr>\n",
       "      <th>15</th>\n",
       "      <td>Sun</td>\n",
       "      <td>Dinner</td>\n",
       "      <td>2</td>\n",
       "    </tr>\n",
       "    <tr>\n",
       "      <th>16</th>\n",
       "      <td>Sun</td>\n",
       "      <td>Dinner</td>\n",
       "      <td>3</td>\n",
       "    </tr>\n",
       "    <tr>\n",
       "      <th>17</th>\n",
       "      <td>Sun</td>\n",
       "      <td>Dinner</td>\n",
       "      <td>3</td>\n",
       "    </tr>\n",
       "    <tr>\n",
       "      <th>18</th>\n",
       "      <td>Sun</td>\n",
       "      <td>Dinner</td>\n",
       "      <td>3</td>\n",
       "    </tr>\n",
       "  </tbody>\n",
       "</table>\n",
       "</div>"
      ],
      "text/plain": [
       "    day    time  size\n",
       "7   Sun  Dinner     4\n",
       "8   Sun  Dinner     2\n",
       "9   Sun  Dinner     2\n",
       "10  Sun  Dinner     2\n",
       "11  Sun  Dinner     4\n",
       "12  Sun  Dinner     2\n",
       "13  Sun  Dinner     4\n",
       "14  Sun  Dinner     2\n",
       "15  Sun  Dinner     2\n",
       "16  Sun  Dinner     3\n",
       "17  Sun  Dinner     3\n",
       "18  Sun  Dinner     3"
      ]
     },
     "execution_count": 50,
     "metadata": {},
     "output_type": "execute_result"
    }
   ],
   "source": [
    "#.iloc[]\n",
    "import pandas as pd\n",
    "print(pd.read_csv('4tips.csv').iloc[7:19,4:7])"
   ]
  },
  {
   "cell_type": "code",
   "execution_count": 53,
   "metadata": {},
   "outputs": [
    {
     "name": "stdout",
     "output_type": "stream",
     "text": [
      "    day    time\n",
      "7   Sun  Dinner\n",
      "8   Sun  Dinner\n",
      "9   Sun  Dinner\n",
      "10  Sun  Dinner\n",
      "11  Sun  Dinner\n",
      "12  Sun  Dinner\n",
      "13  Sun  Dinner\n",
      "14  Sun  Dinner\n",
      "15  Sun  Dinner\n",
      "16  Sun  Dinner\n",
      "17  Sun  Dinner\n",
      "18  Sun  Dinner\n",
      "19  Sat  Dinner\n"
     ]
    }
   ],
   "source": [
    "#.loc[]\n",
    "import pandas as pd\n",
    "print(pd.read_csv('4tips.csv').loc[7:19,('day','time')])"
   ]
  },
  {
   "cell_type": "code",
   "execution_count": 62,
   "metadata": {},
   "outputs": [
    {
     "name": "stdout",
     "output_type": "stream",
     "text": [
      "     total_bill   tip     sex smoker    time  size\n",
      "0         16.99  1.01  Female     No  Dinner     2\n",
      "1         10.34  1.66    Male     No  Dinner     3\n",
      "2         21.01  3.50    Male     No  Dinner     3\n",
      "3         23.68  3.31    Male     No  Dinner     2\n",
      "4         24.59  3.61  Female     No  Dinner     4\n",
      "..          ...   ...     ...    ...     ...   ...\n",
      "239       29.03  5.92    Male     No  Dinner     3\n",
      "240       27.18  2.00  Female    Yes  Dinner     2\n",
      "241       22.67  2.00    Male    Yes  Dinner     2\n",
      "242       17.82  1.75    Male     No  Dinner     2\n",
      "243       18.78  3.00  Female     No  Dinner     2\n",
      "\n",
      "[244 rows x 6 columns]\n",
      "     total_bill   tip     sex smoker   day    time  size\n",
      "0         16.99  1.01  Female     No   Sun  Dinner     2\n",
      "1         10.34  1.66    Male     No   Sun  Dinner     3\n",
      "2         21.01  3.50    Male     No   Sun  Dinner     3\n",
      "3         23.68  3.31    Male     No   Sun  Dinner     2\n",
      "4         24.59  3.61  Female     No   Sun  Dinner     4\n",
      "..          ...   ...     ...    ...   ...     ...   ...\n",
      "239       29.03  5.92    Male     No   Sat  Dinner     3\n",
      "240       27.18  2.00  Female    Yes   Sat  Dinner     2\n",
      "241       22.67  2.00    Male    Yes   Sat  Dinner     2\n",
      "242       17.82  1.75    Male     No   Sat  Dinner     2\n",
      "243       18.78  3.00  Female     No  Thur  Dinner     2\n",
      "\n",
      "[244 rows x 7 columns]\n"
     ]
    }
   ],
   "source": [
    "#dropping columns\n",
    "import pandas as pd\n",
    "print(pd.read_csv('4tips.csv').drop('day',axis=1))\n",
    "print(pd.read_csv('4tips.csv'))"
   ]
  },
  {
   "cell_type": "code",
   "execution_count": 66,
   "metadata": {},
   "outputs": [
    {
     "name": "stdout",
     "output_type": "stream",
     "text": [
      "     total_bill   tip     sex smoker   day    time  size\n",
      "0         16.99  1.01  Female     No   Sun  Dinner     2\n",
      "6          8.77  2.00    Male     No   Sun  Dinner     2\n",
      "7         26.88  3.12    Male     No   Sun  Dinner     4\n",
      "8         15.04  1.96    Male     No   Sun  Dinner     2\n",
      "9         14.78  3.23    Male     No   Sun  Dinner     2\n",
      "..          ...   ...     ...    ...   ...     ...   ...\n",
      "239       29.03  5.92    Male     No   Sat  Dinner     3\n",
      "240       27.18  2.00  Female    Yes   Sat  Dinner     2\n",
      "241       22.67  2.00    Male    Yes   Sat  Dinner     2\n",
      "242       17.82  1.75    Male     No   Sat  Dinner     2\n",
      "243       18.78  3.00  Female     No  Thur  Dinner     2\n",
      "\n",
      "[239 rows x 7 columns]\n"
     ]
    }
   ],
   "source": [
    "#dropping rows\n",
    "import pandas as pd\n",
    "print(pd.read_csv('4tips.csv').drop([1,2,3,4,5],axis=0))"
   ]
  },
  {
   "cell_type": "code",
   "execution_count": 70,
   "metadata": {},
   "outputs": [
    {
     "name": "stdout",
     "output_type": "stream",
     "text": [
      "total_bill    19.785943\n",
      "tip            2.998279\n",
      "size           2.569672\n",
      "dtype: float64\n",
      "********SPACING********SPACING********SPACING********SPACING********SPACING********\n",
      "total_bill    17.795\n",
      "tip            2.900\n",
      "size           2.000\n",
      "dtype: float64\n",
      "********SPACING********SPACING********SPACING********SPACING********SPACING********\n",
      "total_bill      3.07\n",
      "tip                1\n",
      "sex           Female\n",
      "smoker            No\n",
      "day              Fri\n",
      "time          Dinner\n",
      "size               1\n",
      "dtype: object\n",
      "********SPACING********SPACING********SPACING********SPACING********SPACING********\n",
      "total_bill    50.81\n",
      "tip              10\n",
      "sex            Male\n",
      "smoker          Yes\n",
      "day            Thur\n",
      "time          Lunch\n",
      "size              6\n",
      "dtype: object\n"
     ]
    }
   ],
   "source": [
    "#Pandas functions\n",
    "import pandas as pd\n",
    "tips=pd.read_csv('4tips.csv')\n",
    "print(tips.mean())\n",
    "print(\"********SPACING********SPACING********SPACING********SPACING********SPACING********\")\n",
    "print(tips.median())\n",
    "print(\"********SPACING********SPACING********SPACING********SPACING********SPACING********\")\n",
    "print(tips.min())\n",
    "print(\"********SPACING********SPACING********SPACING********SPACING********SPACING********\")\n",
    "print(tips.max())"
   ]
  },
  {
   "cell_type": "code",
   "execution_count": 85,
   "metadata": {},
   "outputs": [
    {
     "name": "stdout",
     "output_type": "stream",
     "text": [
      "     total_bill      tip\n",
      "0      288.6601   1.0201\n",
      "1      106.9156   2.7556\n",
      "2      441.4201  12.2500\n",
      "3      560.7424  10.9561\n",
      "4      604.6681  13.0321\n",
      "..          ...      ...\n",
      "239    842.7409  35.0464\n",
      "240    738.7524   4.0000\n",
      "241    513.9289   4.0000\n",
      "242    317.5524   3.0625\n",
      "243    352.6884   9.0000\n",
      "\n",
      "[244 rows x 2 columns]\n"
     ]
    }
   ],
   "source": [
    "#user defined functions\n",
    "def squares(s):\n",
    "    return s**2\n",
    "import pandas as pd\n",
    "tips=pd.read_csv('4tips.csv')\n",
    "print(tips[['total_bill','tip']].apply(squares))"
   ]
  },
  {
   "cell_type": "code",
   "execution_count": 3,
   "metadata": {},
   "outputs": [
    {
     "name": "stdout",
     "output_type": "stream",
     "text": [
      "2    156\n",
      "3     38\n",
      "4     37\n",
      "5      5\n",
      "6      4\n",
      "1      4\n",
      "Name: size, dtype: int64\n",
      "2.00    33\n",
      "3.00    23\n",
      "4.00    12\n",
      "5.00    10\n",
      "2.50    10\n",
      "        ..\n",
      "2.83     1\n",
      "1.58     1\n",
      "3.71     1\n",
      "3.35     1\n",
      "2.18     1\n",
      "Name: tip, Length: 123, dtype: int64\n"
     ]
    }
   ],
   "source": [
    "#value_counts()\n",
    "import pandas as pd\n",
    "tips=pd.read_csv('4tips.csv')\n",
    "print(tips['size'].value_counts())\n",
    "print(tips['tip'].value_counts())"
   ]
  },
  {
   "cell_type": "code",
   "execution_count": 5,
   "metadata": {},
   "outputs": [
    {
     "name": "stdout",
     "output_type": "stream",
     "text": [
      "     total_bill    tip     sex smoker   day    time  size\n",
      "67         3.07   1.00  Female    Yes   Sat  Dinner     1\n",
      "92         5.75   1.00  Female    Yes   Fri  Dinner     2\n",
      "111        7.25   1.00  Female     No   Sat  Dinner     1\n",
      "172        7.25   5.15    Male    Yes   Sun  Dinner     2\n",
      "149        7.51   2.00    Male     No  Thur   Lunch     2\n",
      "..          ...    ...     ...    ...   ...     ...   ...\n",
      "182       45.35   3.50    Male    Yes   Sun  Dinner     3\n",
      "156       48.17   5.00    Male     No   Sun  Dinner     6\n",
      "59        48.27   6.73    Male     No   Sat  Dinner     4\n",
      "212       48.33   9.00    Male     No   Sat  Dinner     4\n",
      "170       50.81  10.00    Male    Yes   Sat  Dinner     3\n",
      "\n",
      "[244 rows x 7 columns]\n"
     ]
    }
   ],
   "source": [
    "#sort_values()\n",
    "import pandas as pd\n",
    "tips=pd.read_csv('4tips.csv')\n",
    "print(tips.sort_values(by='total_bill'))"
   ]
  }
 ],
 "metadata": {
  "kernelspec": {
   "display_name": "Python 3",
   "language": "python",
   "name": "python3"
  },
  "language_info": {
   "codemirror_mode": {
    "name": "ipython",
    "version": 3
   },
   "file_extension": ".py",
   "mimetype": "text/x-python",
   "name": "python",
   "nbconvert_exporter": "python",
   "pygments_lexer": "ipython3",
   "version": "3.8.5"
  }
 },
 "nbformat": 4,
 "nbformat_minor": 4
}
