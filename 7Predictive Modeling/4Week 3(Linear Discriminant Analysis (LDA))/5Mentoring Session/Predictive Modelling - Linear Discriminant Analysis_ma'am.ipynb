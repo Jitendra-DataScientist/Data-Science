{
 "cells": [
  {
   "cell_type": "markdown",
   "metadata": {},
   "source": [
    "# Problem Statement"
   ]
  },
  {
   "cell_type": "markdown",
   "metadata": {},
   "source": [
    "Customer Churn is a burning problem for Telecom companies. Almost every telecom company pays a premium to get a customer on-board. Customer churn is a directly impacts company’s revenue.\n",
    "  \n",
    "In this case-study, we simulate one such case of customer churn where we work on a data of post-paid customers with a contract. The data has information about customer usage behaviour, contract details, and payment details. The data also indicates which were the customers who cancelled their service.  \n",
    "  \n",
    "Based on this past data, Perform an EDA and build a model which can predict whether a customer will cancel their service in the future or not."
   ]
  },
  {
   "cell_type": "markdown",
   "metadata": {},
   "source": [
    "# Data Dictionary"
   ]
  },
  {
   "cell_type": "markdown",
   "metadata": {},
   "source": [
    "* <b>Churn</b> - 1 if customer cancelled service, 0 if not\n",
    "* <b>AccountWeeks</b> - number of weeks customer has had active account\n",
    "* <b>ContractRenewal</b> - 1 if customer recently renewed contract, 0 if not\n",
    "* <b>DataPlan</b> - 1 if customer has data plan, 0 if not\n",
    "* <b>DataUsage</b> - gigabytes of monthly data usage\n",
    "* <b>CustServCalls</b> - number of calls into customer service\n",
    "* <b>DayMins</b> - average daytime minutes per month\n",
    "* <b>DayCalls</b> - average number of daytime calls\n",
    "* <b>MonthlyCharge</b> - average monthly bill\n",
    "* <b>OverageFee</b> - largest overage fee in last 12 months\n",
    "* <b>RoamMins</b> - average number of roaming minutes\n"
   ]
  },
  {
   "cell_type": "code",
   "execution_count": 1,
   "metadata": {
    "ExecuteTime": {
     "end_time": "2020-07-31T11:26:24.442830Z",
     "start_time": "2020-07-31T11:26:23.383651Z"
    },
    "scrolled": true
   },
   "outputs": [],
   "source": [
    "#Import all necessary modules\n",
    "import pandas as pd  \n",
    "import numpy as np \n",
    "import matplotlib.pyplot as plt \n",
    "import seaborn as sns\n",
    "from sklearn.discriminant_analysis import LinearDiscriminantAnalysis\n",
    "from sklearn import metrics,model_selection\n",
    "from sklearn.preprocessing import scale"
   ]
  },
  {
   "cell_type": "code",
   "execution_count": 3,
   "metadata": {
    "ExecuteTime": {
     "end_time": "2020-07-31T11:26:24.872670Z",
     "start_time": "2020-07-31T11:26:24.443780Z"
    },
    "scrolled": true
   },
   "outputs": [],
   "source": [
    "cell_df = pd.read_excel(\"Cellphone.xlsx\")"
   ]
  },
  {
   "cell_type": "markdown",
   "metadata": {},
   "source": [
    "## EDA"
   ]
  },
  {
   "cell_type": "code",
   "execution_count": 4,
   "metadata": {
    "ExecuteTime": {
     "end_time": "2020-07-31T11:26:24.891602Z",
     "start_time": "2020-07-31T11:26:24.874627Z"
    },
    "scrolled": true
   },
   "outputs": [
    {
     "data": {
      "text/html": [
       "<div>\n",
       "<style scoped>\n",
       "    .dataframe tbody tr th:only-of-type {\n",
       "        vertical-align: middle;\n",
       "    }\n",
       "\n",
       "    .dataframe tbody tr th {\n",
       "        vertical-align: top;\n",
       "    }\n",
       "\n",
       "    .dataframe thead th {\n",
       "        text-align: right;\n",
       "    }\n",
       "</style>\n",
       "<table border=\"1\" class=\"dataframe\">\n",
       "  <thead>\n",
       "    <tr style=\"text-align: right;\">\n",
       "      <th></th>\n",
       "      <th>Churn</th>\n",
       "      <th>AccountWeeks</th>\n",
       "      <th>ContractRenewal</th>\n",
       "      <th>DataPlan</th>\n",
       "      <th>DataUsage</th>\n",
       "      <th>CustServCalls</th>\n",
       "      <th>DayMins</th>\n",
       "      <th>DayCalls</th>\n",
       "      <th>MonthlyCharge</th>\n",
       "      <th>OverageFee</th>\n",
       "      <th>RoamMins</th>\n",
       "    </tr>\n",
       "  </thead>\n",
       "  <tbody>\n",
       "    <tr>\n",
       "      <th>0</th>\n",
       "      <td>1</td>\n",
       "      <td>108.0</td>\n",
       "      <td>0.0</td>\n",
       "      <td>0.0</td>\n",
       "      <td>0.38</td>\n",
       "      <td>2.0</td>\n",
       "      <td>115.1</td>\n",
       "      <td>114.0</td>\n",
       "      <td>41.8</td>\n",
       "      <td>10.57</td>\n",
       "      <td>13.8</td>\n",
       "    </tr>\n",
       "    <tr>\n",
       "      <th>1</th>\n",
       "      <td>0</td>\n",
       "      <td>113.0</td>\n",
       "      <td>1.0</td>\n",
       "      <td>1.0</td>\n",
       "      <td>3.59</td>\n",
       "      <td>1.0</td>\n",
       "      <td>44.9</td>\n",
       "      <td>63.0</td>\n",
       "      <td>55.9</td>\n",
       "      <td>6.71</td>\n",
       "      <td>13.3</td>\n",
       "    </tr>\n",
       "    <tr>\n",
       "      <th>2</th>\n",
       "      <td>0</td>\n",
       "      <td>101.0</td>\n",
       "      <td>1.0</td>\n",
       "      <td>0.0</td>\n",
       "      <td>0.00</td>\n",
       "      <td>0.0</td>\n",
       "      <td>257.3</td>\n",
       "      <td>84.0</td>\n",
       "      <td>60.0</td>\n",
       "      <td>9.24</td>\n",
       "      <td>13.5</td>\n",
       "    </tr>\n",
       "    <tr>\n",
       "      <th>3</th>\n",
       "      <td>0</td>\n",
       "      <td>80.0</td>\n",
       "      <td>1.0</td>\n",
       "      <td>1.0</td>\n",
       "      <td>2.89</td>\n",
       "      <td>4.0</td>\n",
       "      <td>166.4</td>\n",
       "      <td>92.0</td>\n",
       "      <td>77.9</td>\n",
       "      <td>11.92</td>\n",
       "      <td>10.7</td>\n",
       "    </tr>\n",
       "    <tr>\n",
       "      <th>4</th>\n",
       "      <td>0</td>\n",
       "      <td>70.0</td>\n",
       "      <td>1.0</td>\n",
       "      <td>0.0</td>\n",
       "      <td>0.00</td>\n",
       "      <td>0.0</td>\n",
       "      <td>175.4</td>\n",
       "      <td>130.0</td>\n",
       "      <td>44.0</td>\n",
       "      <td>7.98</td>\n",
       "      <td>11.6</td>\n",
       "    </tr>\n",
       "  </tbody>\n",
       "</table>\n",
       "</div>"
      ],
      "text/plain": [
       "   Churn  AccountWeeks  ContractRenewal  DataPlan  DataUsage  CustServCalls  \\\n",
       "0      1         108.0              0.0       0.0       0.38            2.0   \n",
       "1      0         113.0              1.0       1.0       3.59            1.0   \n",
       "2      0         101.0              1.0       0.0       0.00            0.0   \n",
       "3      0          80.0              1.0       1.0       2.89            4.0   \n",
       "4      0          70.0              1.0       0.0       0.00            0.0   \n",
       "\n",
       "   DayMins  DayCalls  MonthlyCharge  OverageFee  RoamMins  \n",
       "0    115.1     114.0           41.8       10.57      13.8  \n",
       "1     44.9      63.0           55.9        6.71      13.3  \n",
       "2    257.3      84.0           60.0        9.24      13.5  \n",
       "3    166.4      92.0           77.9       11.92      10.7  \n",
       "4    175.4     130.0           44.0        7.98      11.6  "
      ]
     },
     "execution_count": 4,
     "metadata": {},
     "output_type": "execute_result"
    }
   ],
   "source": [
    "cell_df.head()"
   ]
  },
  {
   "cell_type": "code",
   "execution_count": 5,
   "metadata": {
    "ExecuteTime": {
     "end_time": "2020-07-31T11:26:25.009304Z",
     "start_time": "2020-07-31T11:26:24.893611Z"
    },
    "scrolled": true
   },
   "outputs": [
    {
     "name": "stdout",
     "output_type": "stream",
     "text": [
      "<class 'pandas.core.frame.DataFrame'>\n",
      "RangeIndex: 3333 entries, 0 to 3332\n",
      "Data columns (total 11 columns):\n",
      " #   Column           Non-Null Count  Dtype  \n",
      "---  ------           --------------  -----  \n",
      " 0   Churn            3333 non-null   int64  \n",
      " 1   AccountWeeks     3303 non-null   float64\n",
      " 2   ContractRenewal  3315 non-null   float64\n",
      " 3   DataPlan         3324 non-null   float64\n",
      " 4   DataUsage        3317 non-null   float64\n",
      " 5   CustServCalls    3281 non-null   float64\n",
      " 6   DayMins          3298 non-null   float64\n",
      " 7   DayCalls         3322 non-null   float64\n",
      " 8   MonthlyCharge    3320 non-null   float64\n",
      " 9   OverageFee       3309 non-null   float64\n",
      " 10  RoamMins         3326 non-null   float64\n",
      "dtypes: float64(10), int64(1)\n",
      "memory usage: 286.6 KB\n"
     ]
    }
   ],
   "source": [
    "cell_df.info()"
   ]
  },
  {
   "cell_type": "code",
   "execution_count": 7,
   "metadata": {
    "ExecuteTime": {
     "end_time": "2020-07-31T11:26:25.163888Z",
     "start_time": "2020-07-31T11:26:25.010299Z"
    },
    "scrolled": true
   },
   "outputs": [
    {
     "data": {
      "text/html": [
       "<div>\n",
       "<style scoped>\n",
       "    .dataframe tbody tr th:only-of-type {\n",
       "        vertical-align: middle;\n",
       "    }\n",
       "\n",
       "    .dataframe tbody tr th {\n",
       "        vertical-align: top;\n",
       "    }\n",
       "\n",
       "    .dataframe thead th {\n",
       "        text-align: right;\n",
       "    }\n",
       "</style>\n",
       "<table border=\"1\" class=\"dataframe\">\n",
       "  <thead>\n",
       "    <tr style=\"text-align: right;\">\n",
       "      <th></th>\n",
       "      <th>count</th>\n",
       "      <th>mean</th>\n",
       "      <th>std</th>\n",
       "      <th>min</th>\n",
       "      <th>25%</th>\n",
       "      <th>50%</th>\n",
       "      <th>75%</th>\n",
       "      <th>max</th>\n",
       "    </tr>\n",
       "  </thead>\n",
       "  <tbody>\n",
       "    <tr>\n",
       "      <th>AccountWeeks</th>\n",
       "      <td>3303.0</td>\n",
       "      <td>101.159552</td>\n",
       "      <td>39.879736</td>\n",
       "      <td>1.0</td>\n",
       "      <td>74.00</td>\n",
       "      <td>101.00</td>\n",
       "      <td>127.000</td>\n",
       "      <td>243.00</td>\n",
       "    </tr>\n",
       "    <tr>\n",
       "      <th>DataUsage</th>\n",
       "      <td>3317.0</td>\n",
       "      <td>0.814827</td>\n",
       "      <td>1.270329</td>\n",
       "      <td>0.0</td>\n",
       "      <td>0.00</td>\n",
       "      <td>0.00</td>\n",
       "      <td>1.780</td>\n",
       "      <td>5.40</td>\n",
       "    </tr>\n",
       "    <tr>\n",
       "      <th>CustServCalls</th>\n",
       "      <td>3281.0</td>\n",
       "      <td>1.563852</td>\n",
       "      <td>1.318590</td>\n",
       "      <td>0.0</td>\n",
       "      <td>1.00</td>\n",
       "      <td>1.00</td>\n",
       "      <td>2.000</td>\n",
       "      <td>9.00</td>\n",
       "    </tr>\n",
       "    <tr>\n",
       "      <th>DayMins</th>\n",
       "      <td>3298.0</td>\n",
       "      <td>179.863069</td>\n",
       "      <td>54.581440</td>\n",
       "      <td>0.0</td>\n",
       "      <td>143.70</td>\n",
       "      <td>179.60</td>\n",
       "      <td>216.700</td>\n",
       "      <td>350.80</td>\n",
       "    </tr>\n",
       "    <tr>\n",
       "      <th>DayCalls</th>\n",
       "      <td>3322.0</td>\n",
       "      <td>100.434377</td>\n",
       "      <td>20.079248</td>\n",
       "      <td>0.0</td>\n",
       "      <td>87.00</td>\n",
       "      <td>101.00</td>\n",
       "      <td>114.000</td>\n",
       "      <td>165.00</td>\n",
       "    </tr>\n",
       "    <tr>\n",
       "      <th>MonthlyCharge</th>\n",
       "      <td>3320.0</td>\n",
       "      <td>56.288735</td>\n",
       "      <td>16.438343</td>\n",
       "      <td>14.0</td>\n",
       "      <td>45.00</td>\n",
       "      <td>53.50</td>\n",
       "      <td>66.125</td>\n",
       "      <td>111.30</td>\n",
       "    </tr>\n",
       "    <tr>\n",
       "      <th>OverageFee</th>\n",
       "      <td>3309.0</td>\n",
       "      <td>10.048598</td>\n",
       "      <td>2.539063</td>\n",
       "      <td>0.0</td>\n",
       "      <td>8.33</td>\n",
       "      <td>10.07</td>\n",
       "      <td>11.770</td>\n",
       "      <td>18.19</td>\n",
       "    </tr>\n",
       "    <tr>\n",
       "      <th>RoamMins</th>\n",
       "      <td>3326.0</td>\n",
       "      <td>10.237974</td>\n",
       "      <td>2.793192</td>\n",
       "      <td>0.0</td>\n",
       "      <td>8.50</td>\n",
       "      <td>10.30</td>\n",
       "      <td>12.100</td>\n",
       "      <td>20.00</td>\n",
       "    </tr>\n",
       "  </tbody>\n",
       "</table>\n",
       "</div>"
      ],
      "text/plain": [
       "                count        mean        std   min     25%     50%      75%  \\\n",
       "AccountWeeks   3303.0  101.159552  39.879736   1.0   74.00  101.00  127.000   \n",
       "DataUsage      3317.0    0.814827   1.270329   0.0    0.00    0.00    1.780   \n",
       "CustServCalls  3281.0    1.563852   1.318590   0.0    1.00    1.00    2.000   \n",
       "DayMins        3298.0  179.863069  54.581440   0.0  143.70  179.60  216.700   \n",
       "DayCalls       3322.0  100.434377  20.079248   0.0   87.00  101.00  114.000   \n",
       "MonthlyCharge  3320.0   56.288735  16.438343  14.0   45.00   53.50   66.125   \n",
       "OverageFee     3309.0   10.048598   2.539063   0.0    8.33   10.07   11.770   \n",
       "RoamMins       3326.0   10.237974   2.793192   0.0    8.50   10.30   12.100   \n",
       "\n",
       "                  max  \n",
       "AccountWeeks   243.00  \n",
       "DataUsage        5.40  \n",
       "CustServCalls    9.00  \n",
       "DayMins        350.80  \n",
       "DayCalls       165.00  \n",
       "MonthlyCharge  111.30  \n",
       "OverageFee      18.19  \n",
       "RoamMins        20.00  "
      ]
     },
     "execution_count": 7,
     "metadata": {},
     "output_type": "execute_result"
    }
   ],
   "source": [
    "cell_df[['AccountWeeks','DataUsage','CustServCalls','DayMins','DayCalls','MonthlyCharge','OverageFee','RoamMins']].describe().T"
   ]
  },
  {
   "cell_type": "markdown",
   "metadata": {},
   "source": [
    "### Check for Missing values"
   ]
  },
  {
   "cell_type": "code",
   "execution_count": 8,
   "metadata": {
    "ExecuteTime": {
     "end_time": "2020-07-31T11:26:25.272563Z",
     "start_time": "2020-07-31T11:26:25.165850Z"
    },
    "scrolled": true
   },
   "outputs": [
    {
     "data": {
      "text/plain": [
       "Churn               0\n",
       "AccountWeeks       30\n",
       "ContractRenewal    18\n",
       "DataPlan            9\n",
       "DataUsage          16\n",
       "CustServCalls      52\n",
       "DayMins            35\n",
       "DayCalls           11\n",
       "MonthlyCharge      13\n",
       "OverageFee         24\n",
       "RoamMins            7\n",
       "dtype: int64"
      ]
     },
     "execution_count": 8,
     "metadata": {},
     "output_type": "execute_result"
    }
   ],
   "source": [
    "cell_df.isnull().sum()"
   ]
  },
  {
   "cell_type": "markdown",
   "metadata": {},
   "source": [
    "### Imputing missing values"
   ]
  },
  {
   "cell_type": "code",
   "execution_count": 9,
   "metadata": {
    "scrolled": false
   },
   "outputs": [
    {
     "data": {
      "text/plain": [
       "0.0    2405\n",
       "1.0     919\n",
       "Name: DataPlan, dtype: int64"
      ]
     },
     "execution_count": 9,
     "metadata": {},
     "output_type": "execute_result"
    }
   ],
   "source": [
    "cell_df['DataPlan'].value_counts()"
   ]
  },
  {
   "cell_type": "code",
   "execution_count": 10,
   "metadata": {},
   "outputs": [
    {
     "data": {
      "text/plain": [
       "0    0.0\n",
       "dtype: float64"
      ]
     },
     "execution_count": 10,
     "metadata": {},
     "output_type": "execute_result"
    }
   ],
   "source": [
    "cell_df['DataPlan'].mode()[0]"
   ]
  },
  {
   "cell_type": "code",
   "execution_count": 12,
   "metadata": {
    "ExecuteTime": {
     "end_time": "2020-07-31T11:26:25.365316Z",
     "start_time": "2020-07-31T11:26:25.274558Z"
    },
    "scrolled": true
   },
   "outputs": [
    {
     "name": "stdout",
     "output_type": "stream",
     "text": [
      "ContractRenewal\n",
      "1.0\n",
      "DataPlan\n",
      "0.0\n"
     ]
    }
   ],
   "source": [
    "cols = ['ContractRenewal','DataPlan']\n",
    "for column in cols:\n",
    "    print(column)\n",
    "    mode_1 = cell_df[column].mode()[0]\n",
    "    print(mode_1)\n",
    "    cell_df[column].fillna(value=mode_1,inplace=True)"
   ]
  },
  {
   "cell_type": "code",
   "execution_count": 13,
   "metadata": {},
   "outputs": [
    {
     "data": {
      "text/plain": [
       "Churn               0\n",
       "AccountWeeks       30\n",
       "ContractRenewal     0\n",
       "DataPlan            0\n",
       "DataUsage          16\n",
       "CustServCalls      52\n",
       "DayMins            35\n",
       "DayCalls           11\n",
       "MonthlyCharge      13\n",
       "OverageFee         24\n",
       "RoamMins            7\n",
       "dtype: int64"
      ]
     },
     "execution_count": 13,
     "metadata": {},
     "output_type": "execute_result"
    }
   ],
   "source": [
    "cell_df.isnull().sum()"
   ]
  },
  {
   "cell_type": "code",
   "execution_count": 14,
   "metadata": {
    "ExecuteTime": {
     "end_time": "2020-07-31T11:26:25.479013Z",
     "start_time": "2020-07-31T11:26:25.368308Z"
    },
    "scrolled": true
   },
   "outputs": [],
   "source": [
    "from sklearn.impute import SimpleImputer"
   ]
  },
  {
   "cell_type": "code",
   "execution_count": 16,
   "metadata": {
    "ExecuteTime": {
     "end_time": "2020-07-31T11:26:25.569324Z",
     "start_time": "2020-07-31T11:26:25.481007Z"
    },
    "scrolled": true
   },
   "outputs": [],
   "source": [
    "SI = SimpleImputer(strategy='median')"
   ]
  },
  {
   "cell_type": "code",
   "execution_count": 17,
   "metadata": {},
   "outputs": [
    {
     "data": {
      "text/plain": [
       "array([[  1.  , 108.  ,   0.  , ...,  41.8 ,  10.57,  13.8 ],\n",
       "       [  0.  , 113.  ,   1.  , ...,  55.9 ,   6.71,  13.3 ],\n",
       "       [  0.  , 101.  ,   1.  , ...,  60.  ,   9.24,  13.5 ],\n",
       "       ...,\n",
       "       [  0.  ,  82.  ,   1.  , ...,  31.  ,   7.78,  13.3 ],\n",
       "       [  0.  , 182.  ,   1.  , ...,  48.5 ,   8.75,   9.7 ],\n",
       "       [  0.  , 100.  ,   1.  , ...,  79.6 ,  11.81,   8.  ]])"
      ]
     },
     "execution_count": 17,
     "metadata": {},
     "output_type": "execute_result"
    }
   ],
   "source": [
    "SI.fit_transform(cell_df)"
   ]
  },
  {
   "cell_type": "code",
   "execution_count": 18,
   "metadata": {
    "ExecuteTime": {
     "end_time": "2020-07-31T11:26:25.669560Z",
     "start_time": "2020-07-31T11:26:25.574272Z"
    },
    "scrolled": true
   },
   "outputs": [],
   "source": [
    "cell_df = pd.DataFrame(SI.fit_transform(cell_df),columns=cell_df.columns)"
   ]
  },
  {
   "cell_type": "code",
   "execution_count": 19,
   "metadata": {
    "ExecuteTime": {
     "end_time": "2020-07-31T11:26:25.764771Z",
     "start_time": "2020-07-31T11:26:25.671359Z"
    },
    "scrolled": true
   },
   "outputs": [
    {
     "data": {
      "text/html": [
       "<div>\n",
       "<style scoped>\n",
       "    .dataframe tbody tr th:only-of-type {\n",
       "        vertical-align: middle;\n",
       "    }\n",
       "\n",
       "    .dataframe tbody tr th {\n",
       "        vertical-align: top;\n",
       "    }\n",
       "\n",
       "    .dataframe thead th {\n",
       "        text-align: right;\n",
       "    }\n",
       "</style>\n",
       "<table border=\"1\" class=\"dataframe\">\n",
       "  <thead>\n",
       "    <tr style=\"text-align: right;\">\n",
       "      <th></th>\n",
       "      <th>Churn</th>\n",
       "      <th>AccountWeeks</th>\n",
       "      <th>ContractRenewal</th>\n",
       "      <th>DataPlan</th>\n",
       "      <th>DataUsage</th>\n",
       "      <th>CustServCalls</th>\n",
       "      <th>DayMins</th>\n",
       "      <th>DayCalls</th>\n",
       "      <th>MonthlyCharge</th>\n",
       "      <th>OverageFee</th>\n",
       "      <th>RoamMins</th>\n",
       "    </tr>\n",
       "  </thead>\n",
       "  <tbody>\n",
       "    <tr>\n",
       "      <th>0</th>\n",
       "      <td>1.0</td>\n",
       "      <td>108.0</td>\n",
       "      <td>0.0</td>\n",
       "      <td>0.0</td>\n",
       "      <td>0.38</td>\n",
       "      <td>2.0</td>\n",
       "      <td>115.1</td>\n",
       "      <td>114.0</td>\n",
       "      <td>41.8</td>\n",
       "      <td>10.57</td>\n",
       "      <td>13.8</td>\n",
       "    </tr>\n",
       "    <tr>\n",
       "      <th>1</th>\n",
       "      <td>0.0</td>\n",
       "      <td>113.0</td>\n",
       "      <td>1.0</td>\n",
       "      <td>1.0</td>\n",
       "      <td>3.59</td>\n",
       "      <td>1.0</td>\n",
       "      <td>44.9</td>\n",
       "      <td>63.0</td>\n",
       "      <td>55.9</td>\n",
       "      <td>6.71</td>\n",
       "      <td>13.3</td>\n",
       "    </tr>\n",
       "    <tr>\n",
       "      <th>2</th>\n",
       "      <td>0.0</td>\n",
       "      <td>101.0</td>\n",
       "      <td>1.0</td>\n",
       "      <td>0.0</td>\n",
       "      <td>0.00</td>\n",
       "      <td>0.0</td>\n",
       "      <td>257.3</td>\n",
       "      <td>84.0</td>\n",
       "      <td>60.0</td>\n",
       "      <td>9.24</td>\n",
       "      <td>13.5</td>\n",
       "    </tr>\n",
       "    <tr>\n",
       "      <th>3</th>\n",
       "      <td>0.0</td>\n",
       "      <td>80.0</td>\n",
       "      <td>1.0</td>\n",
       "      <td>1.0</td>\n",
       "      <td>2.89</td>\n",
       "      <td>4.0</td>\n",
       "      <td>166.4</td>\n",
       "      <td>92.0</td>\n",
       "      <td>77.9</td>\n",
       "      <td>11.92</td>\n",
       "      <td>10.7</td>\n",
       "    </tr>\n",
       "    <tr>\n",
       "      <th>4</th>\n",
       "      <td>0.0</td>\n",
       "      <td>70.0</td>\n",
       "      <td>1.0</td>\n",
       "      <td>0.0</td>\n",
       "      <td>0.00</td>\n",
       "      <td>0.0</td>\n",
       "      <td>175.4</td>\n",
       "      <td>130.0</td>\n",
       "      <td>44.0</td>\n",
       "      <td>7.98</td>\n",
       "      <td>11.6</td>\n",
       "    </tr>\n",
       "  </tbody>\n",
       "</table>\n",
       "</div>"
      ],
      "text/plain": [
       "   Churn  AccountWeeks  ContractRenewal  DataPlan  DataUsage  CustServCalls  \\\n",
       "0    1.0         108.0              0.0       0.0       0.38            2.0   \n",
       "1    0.0         113.0              1.0       1.0       3.59            1.0   \n",
       "2    0.0         101.0              1.0       0.0       0.00            0.0   \n",
       "3    0.0          80.0              1.0       1.0       2.89            4.0   \n",
       "4    0.0          70.0              1.0       0.0       0.00            0.0   \n",
       "\n",
       "   DayMins  DayCalls  MonthlyCharge  OverageFee  RoamMins  \n",
       "0    115.1     114.0           41.8       10.57      13.8  \n",
       "1     44.9      63.0           55.9        6.71      13.3  \n",
       "2    257.3      84.0           60.0        9.24      13.5  \n",
       "3    166.4      92.0           77.9       11.92      10.7  \n",
       "4    175.4     130.0           44.0        7.98      11.6  "
      ]
     },
     "execution_count": 19,
     "metadata": {},
     "output_type": "execute_result"
    }
   ],
   "source": [
    "cell_df.head()"
   ]
  },
  {
   "cell_type": "code",
   "execution_count": 20,
   "metadata": {
    "ExecuteTime": {
     "end_time": "2020-07-31T11:26:25.865310Z",
     "start_time": "2020-07-31T11:26:25.766767Z"
    },
    "scrolled": true
   },
   "outputs": [
    {
     "data": {
      "text/plain": [
       "Churn              0\n",
       "AccountWeeks       0\n",
       "ContractRenewal    0\n",
       "DataPlan           0\n",
       "DataUsage          0\n",
       "CustServCalls      0\n",
       "DayMins            0\n",
       "DayCalls           0\n",
       "MonthlyCharge      0\n",
       "OverageFee         0\n",
       "RoamMins           0\n",
       "dtype: int64"
      ]
     },
     "execution_count": 20,
     "metadata": {},
     "output_type": "execute_result"
    }
   ],
   "source": [
    "cell_df.isnull().sum()"
   ]
  },
  {
   "cell_type": "markdown",
   "metadata": {},
   "source": [
    "### Checking for Duplicates"
   ]
  },
  {
   "cell_type": "code",
   "execution_count": 21,
   "metadata": {
    "ExecuteTime": {
     "end_time": "2020-07-31T11:26:25.982741Z",
     "start_time": "2020-07-31T11:26:25.867305Z"
    },
    "scrolled": true
   },
   "outputs": [
    {
     "name": "stdout",
     "output_type": "stream",
     "text": [
      "Number of duplicate rows = 0\n"
     ]
    }
   ],
   "source": [
    "# Are there any duplicates ?\n",
    "dups = cell_df.duplicated()\n",
    "print('Number of duplicate rows = %d' % (dups.sum()))\n",
    "#df[dups]"
   ]
  },
  {
   "cell_type": "markdown",
   "metadata": {},
   "source": [
    "### Proportion in the Target classes"
   ]
  },
  {
   "cell_type": "code",
   "execution_count": 22,
   "metadata": {
    "ExecuteTime": {
     "end_time": "2020-07-31T11:26:26.084255Z",
     "start_time": "2020-07-31T11:26:25.985732Z"
    },
    "scrolled": true
   },
   "outputs": [
    {
     "data": {
      "text/plain": [
       "0.0    0.855086\n",
       "1.0    0.144914\n",
       "Name: Churn, dtype: float64"
      ]
     },
     "execution_count": 22,
     "metadata": {},
     "output_type": "execute_result"
    }
   ],
   "source": [
    "cell_df.Churn.value_counts(normalize=True)"
   ]
  },
  {
   "cell_type": "markdown",
   "metadata": {},
   "source": [
    "### Distribution of the variables Check"
   ]
  },
  {
   "cell_type": "code",
   "execution_count": 23,
   "metadata": {
    "ExecuteTime": {
     "end_time": "2020-07-31T11:26:26.191696Z",
     "start_time": "2020-07-31T11:26:26.085217Z"
    },
    "scrolled": true
   },
   "outputs": [],
   "source": [
    "from pylab import rcParams"
   ]
  },
  {
   "cell_type": "code",
   "execution_count": 25,
   "metadata": {
    "ExecuteTime": {
     "end_time": "2020-07-31T11:26:26.281617Z",
     "start_time": "2020-07-31T11:26:26.194689Z"
    },
    "scrolled": true
   },
   "outputs": [],
   "source": [
    "rcParams['figure.figsize'] = 15,8"
   ]
  },
  {
   "cell_type": "code",
   "execution_count": 26,
   "metadata": {
    "ExecuteTime": {
     "end_time": "2020-07-31T11:26:27.290826Z",
     "start_time": "2020-07-31T11:26:26.284647Z"
    },
    "scrolled": true
   },
   "outputs": [
    {
     "data": {
      "image/png": "[encoded data removed]",
      "text/plain": [
       "<Figure size 1080x576 with 9 Axes>"
      ]
     },
     "metadata": {
      "needs_background": "light"
     },
     "output_type": "display_data"
    }
   ],
   "source": [
    "cell_df[['AccountWeeks','DataUsage','CustServCalls','DayMins','DayCalls','MonthlyCharge','OverageFee','RoamMins']].hist();"
   ]
  },
  {
   "cell_type": "markdown",
   "metadata": {},
   "source": [
    "### Outlier Checks"
   ]
  },
  {
   "cell_type": "code",
   "execution_count": 27,
   "metadata": {
    "ExecuteTime": {
     "end_time": "2020-07-31T11:26:26.281617Z",
     "start_time": "2020-07-31T11:26:26.194689Z"
    },
    "scrolled": true
   },
   "outputs": [],
   "source": [
    "rcParams['figure.figsize'] = 8,4\n",
    "\n",
    "import warnings\n",
    "warnings.filterwarnings('ignore')"
   ]
  },
  {
   "cell_type": "code",
   "execution_count": 28,
   "metadata": {
    "ExecuteTime": {
     "end_time": "2020-07-31T11:26:28.108637Z",
     "start_time": "2020-07-31T11:26:27.292821Z"
    },
    "scrolled": false
   },
   "outputs": [
    {
     "data": {
      "image/png": "[encoded data removed]",
      "text/plain": [
       "<Figure size 576x288 with 1 Axes>"
      ]
     },
     "metadata": {
      "needs_background": "light"
     },
     "output_type": "display_data"
    },
    {
     "data": {
      "image/png": "[encoded data removed]",
      "text/plain": [
       "<Figure size 576x288 with 1 Axes>"
      ]
     },
     "metadata": {
      "needs_background": "light"
     },
     "output_type": "display_data"
    },
    {
     "data": {
      "image/png": "[encoded data removed]",
      "text/plain": [
       "<Figure size 576x288 with 1 Axes>"
      ]
     },
     "metadata": {
      "needs_background": "light"
     },
     "output_type": "display_data"
    },
    {
     "data": {
      "image/png": "[encoded data removed]",
      "text/plain": [
       "<Figure size 576x288 with 1 Axes>"
      ]
     },
     "metadata": {
      "needs_background": "light"
     },
     "output_type": "display_data"
    },
    {
     "data": {
      "image/png": "[encoded data removed]",
      "text/plain": [
       "<Figure size 576x288 with 1 Axes>"
      ]
     },
     "metadata": {
      "needs_background": "light"
     },
     "output_type": "display_data"
    },
    {
     "data": {
      "image/png": "[encoded data removed]",
      "text/plain": [
       "<Figure size 576x288 with 1 Axes>"
      ]
     },
     "metadata": {
      "needs_background": "light"
     },
     "output_type": "display_data"
    },
    {
     "data": {
      "image/png": "[encoded data removed]",
      "text/plain": [
       "<Figure size 576x288 with 1 Axes>"
      ]
     },
     "metadata": {
      "needs_background": "light"
     },
     "output_type": "display_data"
    },
    {
     "data": {
      "image/png": "[encoded data removed]",
      "text/plain": [
       "<Figure size 576x288 with 1 Axes>"
      ]
     },
     "metadata": {
      "needs_background": "light"
     },
     "output_type": "display_data"
    }
   ],
   "source": [
    "cols=['AccountWeeks','DataUsage','CustServCalls','DayMins','DayCalls','MonthlyCharge','OverageFee','RoamMins'];\n",
    "\n",
    "for i in cols:\n",
    "    sns.boxplot(cell_df[i])\n",
    "    plt.show()\n"
   ]
  },
  {
   "cell_type": "markdown",
   "metadata": {},
   "source": [
    "### Bi-Variate Analysis with Target variable"
   ]
  },
  {
   "cell_type": "markdown",
   "metadata": {},
   "source": [
    "<b>Account Weeks and Churn</b>"
   ]
  },
  {
   "cell_type": "code",
   "execution_count": 29,
   "metadata": {
    "ExecuteTime": {
     "end_time": "2020-07-31T11:26:28.229351Z",
     "start_time": "2020-07-31T11:26:28.109636Z"
    },
    "scrolled": true
   },
   "outputs": [
    {
     "data": {
      "image/png": "[encoded data removed]",
      "text/plain": [
       "<Figure size 576x288 with 1 Axes>"
      ]
     },
     "metadata": {
      "needs_background": "light"
     },
     "output_type": "display_data"
    }
   ],
   "source": [
    "sns.boxplot(cell_df['Churn'],cell_df['AccountWeeks']);"
   ]
  },
  {
   "cell_type": "markdown",
   "metadata": {},
   "source": [
    "<b>Data Usage against Churn</b>"
   ]
  },
  {
   "cell_type": "code",
   "execution_count": 30,
   "metadata": {
    "ExecuteTime": {
     "end_time": "2020-07-31T11:26:28.350026Z",
     "start_time": "2020-07-31T11:26:28.230312Z"
    },
    "scrolled": true
   },
   "outputs": [
    {
     "data": {
      "image/png": "[encoded data removed]",
      "text/plain": [
       "<Figure size 576x288 with 1 Axes>"
      ]
     },
     "metadata": {
      "needs_background": "light"
     },
     "output_type": "display_data"
    }
   ],
   "source": [
    "sns.boxplot(cell_df['Churn'],cell_df['DataUsage']);"
   ]
  },
  {
   "cell_type": "markdown",
   "metadata": {},
   "source": [
    "<b>DayMins against Churn</b>"
   ]
  },
  {
   "cell_type": "code",
   "execution_count": 26,
   "metadata": {
    "ExecuteTime": {
     "end_time": "2020-07-31T11:26:28.471666Z",
     "start_time": "2020-07-31T11:26:28.350990Z"
    },
    "scrolled": true
   },
   "outputs": [
    {
     "data": {
      "image/png": "[encoded data removed]",
      "text/plain": [
       "<Figure size 576x288 with 1 Axes>"
      ]
     },
     "metadata": {
      "needs_background": "light"
     },
     "output_type": "display_data"
    }
   ],
   "source": [
    "sns.boxplot(cell_df['Churn'],cell_df['DayMins']);"
   ]
  },
  {
   "cell_type": "markdown",
   "metadata": {},
   "source": [
    "<b>DayCalls against Churn</b>"
   ]
  },
  {
   "cell_type": "code",
   "execution_count": 32,
   "metadata": {
    "ExecuteTime": {
     "end_time": "2020-07-31T11:26:28.590383Z",
     "start_time": "2020-07-31T11:26:28.472666Z"
    },
    "scrolled": true
   },
   "outputs": [
    {
     "data": {
      "image/png": "[encoded data removed]",
      "text/plain": [
       "<Figure size 576x288 with 1 Axes>"
      ]
     },
     "metadata": {
      "needs_background": "light"
     },
     "output_type": "display_data"
    }
   ],
   "source": [
    "sns.boxplot(cell_df['Churn'],cell_df['DayCalls']);"
   ]
  },
  {
   "cell_type": "markdown",
   "metadata": {},
   "source": [
    "<b>MonthlyCharge against Churn</b>"
   ]
  },
  {
   "cell_type": "code",
   "execution_count": 28,
   "metadata": {
    "ExecuteTime": {
     "end_time": "2020-07-31T11:26:28.837608Z",
     "start_time": "2020-07-31T11:26:28.594340Z"
    },
    "scrolled": true
   },
   "outputs": [
    {
     "data": {
      "image/png": "[encoded data removed]",
      "text/plain": [
       "<Figure size 576x288 with 1 Axes>"
      ]
     },
     "metadata": {
      "needs_background": "light"
     },
     "output_type": "display_data"
    }
   ],
   "source": [
    "sns.boxplot(cell_df['Churn'],cell_df['MonthlyCharge']);"
   ]
  },
  {
   "cell_type": "markdown",
   "metadata": {},
   "source": [
    "<b>OverageFee against Churn</b>"
   ]
  },
  {
   "cell_type": "code",
   "execution_count": 29,
   "metadata": {
    "ExecuteTime": {
     "end_time": "2020-07-31T11:26:29.049491Z",
     "start_time": "2020-07-31T11:26:28.839562Z"
    },
    "scrolled": true
   },
   "outputs": [
    {
     "data": {
      "image/png": "[encoded data removed]",
      "text/plain": [
       "<Figure size 576x288 with 1 Axes>"
      ]
     },
     "metadata": {
      "needs_background": "light"
     },
     "output_type": "display_data"
    }
   ],
   "source": [
    "sns.boxplot(cell_df['Churn'],cell_df['OverageFee']);"
   ]
  },
  {
   "cell_type": "markdown",
   "metadata": {},
   "source": [
    "<b>RoamMins against Churn</b>"
   ]
  },
  {
   "cell_type": "code",
   "execution_count": 33,
   "metadata": {
    "ExecuteTime": {
     "end_time": "2020-07-31T11:26:29.237990Z",
     "start_time": "2020-07-31T11:26:29.051486Z"
    },
    "scrolled": true
   },
   "outputs": [
    {
     "data": {
      "image/png": "[encoded data removed]",
      "text/plain": [
       "<Figure size 576x288 with 1 Axes>"
      ]
     },
     "metadata": {
      "needs_background": "light"
     },
     "output_type": "display_data"
    }
   ],
   "source": [
    "sns.boxplot(cell_df['Churn'],cell_df['RoamMins']);"
   ]
  },
  {
   "cell_type": "markdown",
   "metadata": {},
   "source": [
    "<b>CustServCalls against Churn</b>"
   ]
  },
  {
   "cell_type": "code",
   "execution_count": 34,
   "metadata": {
    "ExecuteTime": {
     "end_time": "2020-07-31T11:26:29.448268Z",
     "start_time": "2020-07-31T11:26:29.238983Z"
    },
    "scrolled": true
   },
   "outputs": [
    {
     "data": {
      "image/png": "[encoded data removed]",
      "text/plain": [
       "<Figure size 576x288 with 1 Axes>"
      ]
     },
     "metadata": {
      "needs_background": "light"
     },
     "output_type": "display_data"
    }
   ],
   "source": [
    "sns.boxplot(cell_df['Churn'],cell_df['CustServCalls']);"
   ]
  },
  {
   "cell_type": "markdown",
   "metadata": {},
   "source": [
    "<b>Contract Renewal against Churn</b>"
   ]
  },
  {
   "cell_type": "code",
   "execution_count": 35,
   "metadata": {
    "ExecuteTime": {
     "end_time": "2020-07-31T11:26:29.655610Z",
     "start_time": "2020-07-31T11:26:29.449226Z"
    },
    "scrolled": true
   },
   "outputs": [
    {
     "data": {
      "image/png": "[encoded data removed]",
      "text/plain": [
       "<Figure size 576x288 with 1 Axes>"
      ]
     },
     "metadata": {
      "needs_background": "light"
     },
     "output_type": "display_data"
    }
   ],
   "source": [
    "sns.countplot(cell_df['ContractRenewal'],hue=cell_df['Churn']);"
   ]
  },
  {
   "cell_type": "markdown",
   "metadata": {},
   "source": [
    "<b>Data Plan against Churn</b>"
   ]
  },
  {
   "cell_type": "code",
   "execution_count": 36,
   "metadata": {
    "ExecuteTime": {
     "end_time": "2020-07-31T11:26:29.802217Z",
     "start_time": "2020-07-31T11:26:29.656569Z"
    },
    "scrolled": true
   },
   "outputs": [
    {
     "data": {
      "image/png": "[encoded data removed]",
      "text/plain": [
       "<Figure size 576x288 with 1 Axes>"
      ]
     },
     "metadata": {
      "needs_background": "light"
     },
     "output_type": "display_data"
    }
   ],
   "source": [
    "sns.countplot(cell_df['DataPlan'],hue=cell_df['Churn']);\n",
    "# pd.crosstab(cell_df['DataPlan'],cell_df['Churn']).plot(kind='bar');"
   ]
  },
  {
   "cell_type": "markdown",
   "metadata": {},
   "source": [
    "### Train (70%) - Test (30%) Split"
   ]
  },
  {
   "cell_type": "code",
   "execution_count": 38,
   "metadata": {
    "ExecuteTime": {
     "end_time": "2020-07-31T11:26:29.810192Z",
     "start_time": "2020-07-31T11:26:29.803241Z"
    },
    "scrolled": true
   },
   "outputs": [],
   "source": [
    "# Creating a copy of the original data frame\n",
    "df = cell_df.copy()"
   ]
  },
  {
   "cell_type": "code",
   "execution_count": 39,
   "metadata": {
    "ExecuteTime": {
     "end_time": "2020-07-31T11:26:29.944051Z",
     "start_time": "2020-07-31T11:26:29.811155Z"
    },
    "scrolled": true
   },
   "outputs": [
    {
     "data": {
      "text/html": [
       "<div>\n",
       "<style scoped>\n",
       "    .dataframe tbody tr th:only-of-type {\n",
       "        vertical-align: middle;\n",
       "    }\n",
       "\n",
       "    .dataframe tbody tr th {\n",
       "        vertical-align: top;\n",
       "    }\n",
       "\n",
       "    .dataframe thead th {\n",
       "        text-align: right;\n",
       "    }\n",
       "</style>\n",
       "<table border=\"1\" class=\"dataframe\">\n",
       "  <thead>\n",
       "    <tr style=\"text-align: right;\">\n",
       "      <th></th>\n",
       "      <th>Churn</th>\n",
       "      <th>AccountWeeks</th>\n",
       "      <th>ContractRenewal</th>\n",
       "      <th>DataPlan</th>\n",
       "      <th>DataUsage</th>\n",
       "      <th>CustServCalls</th>\n",
       "      <th>DayMins</th>\n",
       "      <th>DayCalls</th>\n",
       "      <th>MonthlyCharge</th>\n",
       "      <th>OverageFee</th>\n",
       "      <th>RoamMins</th>\n",
       "    </tr>\n",
       "  </thead>\n",
       "  <tbody>\n",
       "    <tr>\n",
       "      <th>0</th>\n",
       "      <td>1.0</td>\n",
       "      <td>108.0</td>\n",
       "      <td>0.0</td>\n",
       "      <td>0.0</td>\n",
       "      <td>0.38</td>\n",
       "      <td>2.0</td>\n",
       "      <td>115.1</td>\n",
       "      <td>114.0</td>\n",
       "      <td>41.8</td>\n",
       "      <td>10.57</td>\n",
       "      <td>13.8</td>\n",
       "    </tr>\n",
       "    <tr>\n",
       "      <th>1</th>\n",
       "      <td>0.0</td>\n",
       "      <td>113.0</td>\n",
       "      <td>1.0</td>\n",
       "      <td>1.0</td>\n",
       "      <td>3.59</td>\n",
       "      <td>1.0</td>\n",
       "      <td>44.9</td>\n",
       "      <td>63.0</td>\n",
       "      <td>55.9</td>\n",
       "      <td>6.71</td>\n",
       "      <td>13.3</td>\n",
       "    </tr>\n",
       "    <tr>\n",
       "      <th>2</th>\n",
       "      <td>0.0</td>\n",
       "      <td>101.0</td>\n",
       "      <td>1.0</td>\n",
       "      <td>0.0</td>\n",
       "      <td>0.00</td>\n",
       "      <td>0.0</td>\n",
       "      <td>257.3</td>\n",
       "      <td>84.0</td>\n",
       "      <td>60.0</td>\n",
       "      <td>9.24</td>\n",
       "      <td>13.5</td>\n",
       "    </tr>\n",
       "    <tr>\n",
       "      <th>3</th>\n",
       "      <td>0.0</td>\n",
       "      <td>80.0</td>\n",
       "      <td>1.0</td>\n",
       "      <td>1.0</td>\n",
       "      <td>2.89</td>\n",
       "      <td>4.0</td>\n",
       "      <td>166.4</td>\n",
       "      <td>92.0</td>\n",
       "      <td>77.9</td>\n",
       "      <td>11.92</td>\n",
       "      <td>10.7</td>\n",
       "    </tr>\n",
       "    <tr>\n",
       "      <th>4</th>\n",
       "      <td>0.0</td>\n",
       "      <td>70.0</td>\n",
       "      <td>1.0</td>\n",
       "      <td>0.0</td>\n",
       "      <td>0.00</td>\n",
       "      <td>0.0</td>\n",
       "      <td>175.4</td>\n",
       "      <td>130.0</td>\n",
       "      <td>44.0</td>\n",
       "      <td>7.98</td>\n",
       "      <td>11.6</td>\n",
       "    </tr>\n",
       "  </tbody>\n",
       "</table>\n",
       "</div>"
      ],
      "text/plain": [
       "   Churn  AccountWeeks  ContractRenewal  DataPlan  DataUsage  CustServCalls  \\\n",
       "0    1.0         108.0              0.0       0.0       0.38            2.0   \n",
       "1    0.0         113.0              1.0       1.0       3.59            1.0   \n",
       "2    0.0         101.0              1.0       0.0       0.00            0.0   \n",
       "3    0.0          80.0              1.0       1.0       2.89            4.0   \n",
       "4    0.0          70.0              1.0       0.0       0.00            0.0   \n",
       "\n",
       "   DayMins  DayCalls  MonthlyCharge  OverageFee  RoamMins  \n",
       "0    115.1     114.0           41.8       10.57      13.8  \n",
       "1     44.9      63.0           55.9        6.71      13.3  \n",
       "2    257.3      84.0           60.0        9.24      13.5  \n",
       "3    166.4      92.0           77.9       11.92      10.7  \n",
       "4    175.4     130.0           44.0        7.98      11.6  "
      ]
     },
     "execution_count": 39,
     "metadata": {},
     "output_type": "execute_result"
    }
   ],
   "source": [
    "df.head()"
   ]
  },
  {
   "cell_type": "code",
   "execution_count": 40,
   "metadata": {
    "ExecuteTime": {
     "end_time": "2020-07-31T11:26:30.031126Z",
     "start_time": "2020-07-31T11:26:29.946046Z"
    },
    "scrolled": true
   },
   "outputs": [],
   "source": [
    "X = df.drop('Churn',axis=1)\n",
    "Y = df.pop('Churn')"
   ]
  },
  {
   "cell_type": "code",
   "execution_count": 41,
   "metadata": {
    "ExecuteTime": {
     "end_time": "2020-07-31T11:26:30.124269Z",
     "start_time": "2020-07-31T11:26:30.033149Z"
    },
    "scrolled": true
   },
   "outputs": [],
   "source": [
    "X_train,X_test,Y_train,Y_test = model_selection.train_test_split(X,Y,test_size=0.30,random_state=1,stratify = Y)"
   ]
  },
  {
   "cell_type": "code",
   "execution_count": 42,
   "metadata": {
    "ExecuteTime": {
     "end_time": "2020-07-31T11:26:30.208542Z",
     "start_time": "2020-07-31T11:26:30.127224Z"
    },
    "scrolled": true
   },
   "outputs": [
    {
     "name": "stdout",
     "output_type": "stream",
     "text": [
      "Number of rows and columns of the training set for the independent variables: (2333, 10)\n",
      "Number of rows and columns of the training set for the dependent variable: (2333,)\n",
      "Number of rows and columns of the test set for the independent variables: (1000, 10)\n",
      "Number of rows and columns of the test set for the dependent variable: (1000,)\n"
     ]
    }
   ],
   "source": [
    "print('Number of rows and columns of the training set for the independent variables:',X_train.shape)\n",
    "print('Number of rows and columns of the training set for the dependent variable:',Y_train.shape)\n",
    "print('Number of rows and columns of the test set for the independent variables:',X_test.shape)\n",
    "print('Number of rows and columns of the test set for the dependent variable:',Y_test.shape)"
   ]
  },
  {
   "cell_type": "markdown",
   "metadata": {},
   "source": [
    "### LDA Model"
   ]
  },
  {
   "cell_type": "code",
   "execution_count": 43,
   "metadata": {
    "ExecuteTime": {
     "end_time": "2020-07-31T11:26:30.322267Z",
     "start_time": "2020-07-31T11:26:30.210511Z"
    },
    "scrolled": true
   },
   "outputs": [],
   "source": [
    "#Build LDA Model\n",
    "clf = LinearDiscriminantAnalysis()\n",
    "model=clf.fit(X_train,Y_train)"
   ]
  },
  {
   "cell_type": "markdown",
   "metadata": {},
   "source": [
    "### Prediction"
   ]
  },
  {
   "cell_type": "code",
   "execution_count": 44,
   "metadata": {
    "ExecuteTime": {
     "end_time": "2020-07-31T11:26:30.434581Z",
     "start_time": "2020-07-31T11:26:30.325209Z"
    },
    "scrolled": true
   },
   "outputs": [],
   "source": [
    "# Training Data Class Prediction with a cut-off value of 0.5\n",
    "pred_class_train = model.predict(X_train)\n",
    "\n",
    "# Test Data Class Prediction with a cut-off value of 0.5\n",
    "pred_class_test = model.predict(X_test)"
   ]
  },
  {
   "cell_type": "code",
   "execution_count": 45,
   "metadata": {},
   "outputs": [
    {
     "data": {
      "text/plain": [
       "array([0., 0., 0., ..., 0., 0., 0.])"
      ]
     },
     "execution_count": 45,
     "metadata": {},
     "output_type": "execute_result"
    }
   ],
   "source": [
    "pred_class_train"
   ]
  },
  {
   "cell_type": "markdown",
   "metadata": {},
   "source": [
    "### Training Data and Test Data Confusion Matrix Comparison"
   ]
  },
  {
   "cell_type": "code",
   "execution_count": 46,
   "metadata": {
    "ExecuteTime": {
     "end_time": "2020-07-31T11:26:30.839159Z",
     "start_time": "2020-07-31T11:26:30.439558Z"
    },
    "scrolled": true
   },
   "outputs": [
    {
     "data": {
      "image/png": "[encoded data removed]",
      "text/plain": [
       "<Figure size 576x288 with 4 Axes>"
      ]
     },
     "metadata": {
      "needs_background": "light"
     },
     "output_type": "display_data"
    }
   ],
   "source": [
    "f,a =  plt.subplots(1,2,sharex=True,sharey=True,squeeze=False)\n",
    "\n",
    "#Plotting confusion matrix for the different models for the Training Data\n",
    "\n",
    "plot_0 = sns.heatmap((metrics.confusion_matrix(Y_train,pred_class_train)),annot=True,fmt='.5g',cmap='Greys',ax=a[0][0]);\n",
    "a[0][0].set_title('Training Data')\n",
    "\n",
    "plot_1 = sns.heatmap((metrics.confusion_matrix(Y_test,pred_class_test)),annot=True,fmt='.5g',cmap='Greys',ax=a[0][1]);\n",
    "a[0][1].set_title('Test Data');\n"
   ]
  },
  {
   "cell_type": "markdown",
   "metadata": {},
   "source": [
    "### Training Data and Test Data Classification Report Comparison"
   ]
  },
  {
   "cell_type": "code",
   "execution_count": 47,
   "metadata": {
    "ExecuteTime": {
     "end_time": "2020-07-31T11:26:30.857097Z",
     "start_time": "2020-07-31T11:26:30.840115Z"
    },
    "scrolled": false
   },
   "outputs": [
    {
     "name": "stdout",
     "output_type": "stream",
     "text": [
      "Classification Report of the training data:\n",
      "\n",
      "               precision    recall  f1-score   support\n",
      "\n",
      "         0.0       0.88      0.95      0.92      1995\n",
      "         1.0       0.47      0.24      0.32       338\n",
      "\n",
      "    accuracy                           0.85      2333\n",
      "   macro avg       0.67      0.60      0.62      2333\n",
      "weighted avg       0.82      0.85      0.83      2333\n",
      " \n",
      "\n",
      "Classification Report of the test data:\n",
      "\n",
      "               precision    recall  f1-score   support\n",
      "\n",
      "         0.0       0.89      0.95      0.92       855\n",
      "         1.0       0.48      0.28      0.35       145\n",
      "\n",
      "    accuracy                           0.85      1000\n",
      "   macro avg       0.68      0.61      0.63      1000\n",
      "weighted avg       0.83      0.85      0.83      1000\n",
      " \n",
      "\n"
     ]
    }
   ],
   "source": [
    "print('Classification Report of the training data:\\n\\n',metrics.classification_report(Y_train,pred_class_train),'\\n')\n",
    "print('Classification Report of the test data:\\n\\n',metrics.classification_report(Y_test,pred_class_test),'\\n')"
   ]
  },
  {
   "cell_type": "markdown",
   "metadata": {},
   "source": [
    "### Probability prediction for the training and test data"
   ]
  },
  {
   "cell_type": "code",
   "execution_count": 48,
   "metadata": {
    "ExecuteTime": {
     "end_time": "2020-07-31T11:26:31.156032Z",
     "start_time": "2020-07-31T11:26:30.858067Z"
    },
    "scrolled": true
   },
   "outputs": [],
   "source": [
    "# Training Data Probability Prediction\n",
    "pred_prob_train = model.predict_proba(X_train)\n",
    "\n",
    "# Test Data Probability Prediction\n",
    "pred_prob_test = model.predict_proba(X_test)"
   ]
  },
  {
   "cell_type": "code",
   "execution_count": 49,
   "metadata": {
    "ExecuteTime": {
     "end_time": "2020-07-31T11:26:31.252957Z",
     "start_time": "2020-07-31T11:26:31.159031Z"
    },
    "scrolled": true
   },
   "outputs": [
    {
     "data": {
      "text/plain": [
       "array([0.02069932, 0.20179416, 0.15422548, ..., 0.10058096, 0.16733976,\n",
       "       0.0528347 ])"
      ]
     },
     "execution_count": 49,
     "metadata": {},
     "output_type": "execute_result"
    }
   ],
   "source": [
    "pred_prob_train[:,1]"
   ]
  },
  {
   "cell_type": "code",
   "execution_count": 50,
   "metadata": {
    "ExecuteTime": {
     "end_time": "2020-07-31T11:26:31.581460Z",
     "start_time": "2020-07-31T11:26:31.254914Z"
    },
    "scrolled": false
   },
   "outputs": [
    {
     "name": "stdout",
     "output_type": "stream",
     "text": [
      "AUC for the Training Data: 0.820\n",
      "AUC for the Test Data: 0.829\n"
     ]
    },
    {
     "data": {
      "image/png": "[encoded data removed]",
      "text/plain": [
       "<Figure size 576x288 with 1 Axes>"
      ]
     },
     "metadata": {
      "needs_background": "light"
     },
     "output_type": "display_data"
    }
   ],
   "source": [
    "# AUC and ROC for the training data\n",
    "\n",
    "# calculate AUC\n",
    "auc = metrics.roc_auc_score(Y_train,pred_prob_train[:,1])\n",
    "print('AUC for the Training Data: %.3f' % auc)\n",
    "\n",
    "#  calculate roc curve\n",
    "fpr, tpr, thresholds = metrics.roc_curve(Y_train,pred_prob_train[:,1])\n",
    "plt.plot([0, 1], [0, 1], linestyle='--')\n",
    "# plot the roc curve for the model\n",
    "plt.plot(fpr, tpr, marker='.',label = 'Training Data')\n",
    "\n",
    "\n",
    "# AUC and ROC for the test data\n",
    "\n",
    "# calculate AUC\n",
    "auc = metrics.roc_auc_score(Y_test,pred_prob_test[:,1])\n",
    "print('AUC for the Test Data: %.3f' % auc)\n",
    "\n",
    "#  calculate roc curve\n",
    "fpr, tpr, thresholds = metrics.roc_curve(Y_test,pred_prob_test[:,1])\n",
    "plt.plot([0, 1], [0, 1], linestyle='--')\n",
    "# plot the roc curve for the model\n",
    "plt.plot(fpr, tpr, marker='.',label='Test Data')\n",
    "# show the plot\n",
    "plt.legend(loc='best')\n",
    "plt.show()"
   ]
  },
  {
   "cell_type": "code",
   "execution_count": 51,
   "metadata": {
    "scrolled": false
   },
   "outputs": [
    {
     "data": {
      "text/plain": [
       "<sklearn.metrics._plot.roc_curve.RocCurveDisplay at 0x2584521eca0>"
      ]
     },
     "execution_count": 51,
     "metadata": {},
     "output_type": "execute_result"
    },
    {
     "data": {
      "image/png": "[encoded data removed]",
      "text/plain": [
       "<Figure size 576x288 with 1 Axes>"
      ]
     },
     "metadata": {
      "needs_background": "light"
     },
     "output_type": "display_data"
    }
   ],
   "source": [
    "metrics.plot_roc_curve(clf,X_train,Y_train)\n"
   ]
  },
  {
   "cell_type": "code",
   "execution_count": 52,
   "metadata": {
    "scrolled": false
   },
   "outputs": [],
   "source": [
    "pred_train_prob = model.predict_proba(X_train)\n",
    "pred_test_prob = model.predict_proba(X_test)"
   ]
  },
  {
   "cell_type": "code",
   "execution_count": 53,
   "metadata": {
    "scrolled": false
   },
   "outputs": [],
   "source": [
    "auc_train = metrics.roc_auc_score(Y_train,pred_train_prob[:,1])\n",
    "auc_test = metrics.roc_auc_score(Y_test,pred_test_prob[:,1])"
   ]
  },
  {
   "cell_type": "code",
   "execution_count": 54,
   "metadata": {
    "scrolled": false
   },
   "outputs": [
    {
     "data": {
      "text/plain": [
       "[<matplotlib.lines.Line2D at 0x258452cbfd0>]"
      ]
     },
     "execution_count": 54,
     "metadata": {},
     "output_type": "execute_result"
    },
    {
     "data": {
      "image/png": "[encoded data removed]",
      "text/plain": [
       "<Figure size 576x288 with 1 Axes>"
      ]
     },
     "metadata": {
      "needs_background": "light"
     },
     "output_type": "display_data"
    }
   ],
   "source": [
    "fig,ax=plt.subplots()\n",
    "metrics.plot_roc_curve(model,X_train,Y_train,ax=ax, label = 'Train Curve: AUC: ' + str(round(auc_train,2)))\n",
    "metrics.plot_roc_curve(model,X_test,Y_test,ax=ax, label = 'Test Curve: AUC: ' + str(round(auc_test,2)))\n",
    "plt.plot([0, 1], [0, 1], linestyle='--')"
   ]
  },
  {
   "cell_type": "markdown",
   "metadata": {},
   "source": [
    "# Conclusion"
   ]
  },
  {
   "cell_type": "markdown",
   "metadata": {},
   "source": [
    "The model accuracy on the training as well as the test set is about 85%, which is roughly the same proportion as the class 0 observations in the dataset. \n",
    "This model is affected by a class imbalance problem.\n",
    "Since we only have 3333 observations, if re-build the same LDA model with more number of data points, an even better model could be built.  \n",
    "\n",
    "Please do go ahead ad try to build other classification algorithms learnt so far in the course and compare the performances of those."
   ]
  },
  {
   "cell_type": "markdown",
   "metadata": {},
   "source": [
    "# How to change the cut-off values for maximum accuracy?"
   ]
  },
  {
   "cell_type": "markdown",
   "metadata": {},
   "source": [
    "We will do this exercise only on the training data."
   ]
  },
  {
   "cell_type": "code",
   "execution_count": 51,
   "metadata": {
    "ExecuteTime": {
     "end_time": "2020-07-31T11:26:32.934715Z",
     "start_time": "2020-07-31T11:26:31.582457Z"
    },
    "scrolled": true
   },
   "outputs": [
    {
     "name": "stdout",
     "output_type": "stream",
     "text": [
      "0.1 \n",
      "\n",
      "Accuracy Score 0.7167\n",
      "F1 Score 0.4551 \n",
      "\n",
      "Confusion Matrix\n"
     ]
    },
    {
     "data": {
      "image/png": "[encoded data removed]",
      "text/plain": [
       "<Figure size 432x288 with 2 Axes>"
      ]
     },
     "metadata": {
      "needs_background": "light"
     },
     "output_type": "display_data"
    },
    {
     "name": "stdout",
     "output_type": "stream",
     "text": [
      "0.2 \n",
      "\n",
      "Accuracy Score 0.8191\n",
      "F1 Score 0.4952 \n",
      "\n",
      "Confusion Matrix\n"
     ]
    },
    {
     "data": {
      "image/png": "[encoded data removed]",
      "text/plain": [
       "<Figure size 432x288 with 2 Axes>"
      ]
     },
     "metadata": {
      "needs_background": "light"
     },
     "output_type": "display_data"
    },
    {
     "name": "stdout",
     "output_type": "stream",
     "text": [
      "0.3 \n",
      "\n",
      "Accuracy Score 0.8431\n",
      "F1 Score 0.4404 \n",
      "\n",
      "Confusion Matrix\n"
     ]
    },
    {
     "data": {
      "image/png": "[encoded data removed]",
      "text/plain": [
       "<Figure size 432x288 with 2 Axes>"
      ]
     },
     "metadata": {
      "needs_background": "light"
     },
     "output_type": "display_data"
    },
    {
     "name": "stdout",
     "output_type": "stream",
     "text": [
      "0.4 \n",
      "\n",
      "Accuracy Score 0.8448\n",
      "F1 Score 0.3649 \n",
      "\n",
      "Confusion Matrix\n"
     ]
    },
    {
     "data": {
      "image/png": "[encoded data removed]",
      "text/plain": [
       "<Figure size 432x288 with 2 Axes>"
      ]
     },
     "metadata": {
      "needs_background": "light"
     },
     "output_type": "display_data"
    },
    {
     "name": "stdout",
     "output_type": "stream",
     "text": [
      "0.5 \n",
      "\n",
      "Accuracy Score 0.8504\n",
      "F1 Score 0.317 \n",
      "\n",
      "Confusion Matrix\n"
     ]
    },
    {
     "data": {
      "image/png": "[encoded data removed]",
      "text/plain": [
       "<Figure size 432x288 with 2 Axes>"
      ]
     },
     "metadata": {
      "needs_background": "light"
     },
     "output_type": "display_data"
    },
    {
     "name": "stdout",
     "output_type": "stream",
     "text": [
      "0.6 \n",
      "\n",
      "Accuracy Score 0.8573\n",
      "F1 Score 0.2808 \n",
      "\n",
      "Confusion Matrix\n"
     ]
    },
    {
     "data": {
      "image/png": "[encoded data removed]",
      "text/plain": [
       "<Figure size 432x288 with 2 Axes>"
      ]
     },
     "metadata": {
      "needs_background": "light"
     },
     "output_type": "display_data"
    },
    {
     "name": "stdout",
     "output_type": "stream",
     "text": [
      "0.7 \n",
      "\n",
      "Accuracy Score 0.8611\n",
      "F1 Score 0.2212 \n",
      "\n",
      "Confusion Matrix\n"
     ]
    },
    {
     "data": {
      "image/png": "[encoded data removed]",
      "text/plain": [
       "<Figure size 432x288 with 2 Axes>"
      ]
     },
     "metadata": {
      "needs_background": "light"
     },
     "output_type": "display_data"
    },
    {
     "name": "stdout",
     "output_type": "stream",
     "text": [
      "0.8 \n",
      "\n",
      "Accuracy Score 0.8603\n",
      "F1 Score 0.1376 \n",
      "\n",
      "Confusion Matrix\n"
     ]
    },
    {
     "data": {
      "image/png": "[encoded data removed]",
      "text/plain": [
       "<Figure size 432x288 with 2 Axes>"
      ]
     },
     "metadata": {
      "needs_background": "light"
     },
     "output_type": "display_data"
    },
    {
     "name": "stdout",
     "output_type": "stream",
     "text": [
      "0.9 \n",
      "\n",
      "Accuracy Score 0.8564\n",
      "F1 Score 0.0346 \n",
      "\n",
      "Confusion Matrix\n"
     ]
    },
    {
     "data": {
      "image/png": "[encoded data removed]",
      "text/plain": [
       "<Figure size 432x288 with 2 Axes>"
      ]
     },
     "metadata": {
      "needs_background": "light"
     },
     "output_type": "display_data"
    }
   ],
   "source": [
    "for j in np.arange(0.1,1,0.1):\n",
    "    custom_prob = j #defining the cut-off value of our choice\n",
    "    custom_cutoff_data=[]#defining an empty list\n",
    "    for i in range(0,len(Y_train)):#defining a loop for the length of the test data\n",
    "        if np.array(pred_prob_train[:,1])[i] > custom_prob:#issuing a condition for our probability values to be \n",
    "            #greater than the custom cutoff value\n",
    "            a=1#if the probability values are greater than the custom cutoff then the value should be 1\n",
    "        else:\n",
    "            a=0#if the probability values are less than the custom cutoff then the value should be 0\n",
    "        custom_cutoff_data.append(a)#adding either 1 or 0 based on the condition to the end of the list defined by us\n",
    "    print(round(j,3),'\\n')\n",
    "    print('Accuracy Score',round(metrics.accuracy_score(Y_train,custom_cutoff_data),4))\n",
    "    print('F1 Score',round(metrics.f1_score(Y_train,custom_cutoff_data),4),'\\n')\n",
    "    plt.figure(figsize=(6,4))\n",
    "    print('Confusion Matrix')\n",
    "    sns.heatmap(metrics.confusion_matrix(Y_train,custom_cutoff_data),annot=True,fmt='.4g'),'\\n\\n'\n",
    "    plt.show();"
   ]
  },
  {
   "cell_type": "code",
   "execution_count": 55,
   "metadata": {
    "scrolled": false
   },
   "outputs": [],
   "source": [
    "pred_train_prob = model.predict_proba(X_train)\n",
    "pred_test_prob = model.predict_proba(X_test)\n",
    "\n",
    "pred_train_prob = pred_train_prob[:,1]"
   ]
  },
  {
   "cell_type": "code",
   "execution_count": 56,
   "metadata": {},
   "outputs": [
    {
     "data": {
      "text/plain": [
       "array([0.02069932, 0.20179416, 0.15422548, ..., 0.10058096, 0.16733976,\n",
       "       0.0528347 ])"
      ]
     },
     "execution_count": 56,
     "metadata": {},
     "output_type": "execute_result"
    }
   ],
   "source": [
    "pred_train_prob"
   ]
  },
  {
   "cell_type": "code",
   "execution_count": 59,
   "metadata": {
    "scrolled": true
   },
   "outputs": [],
   "source": [
    "\n",
    "custom_prob = 0.1\n",
    "custom_cutoff_data=[]\n",
    "\n",
    "for i in range(0,len(pred_train_prob)):  #2333\n",
    "    if pred_train_prob[i] >custom_prob:\n",
    "        a= 1\n",
    "    else:\n",
    "        a=0\n",
    "    custom_cutoff_data.append(a)\n"
   ]
  },
  {
   "cell_type": "code",
   "execution_count": 60,
   "metadata": {},
   "outputs": [
    {
     "data": {
      "text/plain": [
       "[0,\n",
       " 1,\n",
       " 1,\n",
       " 0,\n",
       " 1,\n",
       " 0,\n",
       " 0,\n",
       " 1,\n",
       " 0,\n",
       " 0,\n",
       " 1,\n",
       " 1,\n",
       " 0,\n",
       " 0,\n",
       " 1,\n",
       " 0,\n",
       " 0,\n",
       " 0,\n",
       " 0,\n",
       " 0,\n",
       " 0,\n",
       " 1,\n",
       " 0,\n",
       " 0,\n",
       " 1,\n",
       " 0,\n",
       " 0,\n",
       " 1,\n",
       " 1,\n",
       " 1,\n",
       " 1,\n",
       " 0,\n",
       " 1,\n",
       " 0,\n",
       " 1,\n",
       " 0,\n",
       " 1,\n",
       " 1,\n",
       " 0,\n",
       " 1,\n",
       " 0,\n",
       " 1,\n",
       " 0,\n",
       " 1,\n",
       " 1,\n",
       " 1,\n",
       " 1,\n",
       " 1,\n",
       " 0,\n",
       " 0,\n",
       " 1,\n",
       " 1,\n",
       " 1,\n",
       " 0,\n",
       " 0,\n",
       " 1,\n",
       " 0,\n",
       " 1,\n",
       " 1,\n",
       " 0,\n",
       " 1,\n",
       " 1,\n",
       " 1,\n",
       " 0,\n",
       " 0,\n",
       " 0,\n",
       " 1,\n",
       " 1,\n",
       " 0,\n",
       " 0,\n",
       " 1,\n",
       " 0,\n",
       " 1,\n",
       " 0,\n",
       " 1,\n",
       " 1,\n",
       " 0,\n",
       " 0,\n",
       " 0,\n",
       " 0,\n",
       " 0,\n",
       " 1,\n",
       " 0,\n",
       " 0,\n",
       " 0,\n",
       " 1,\n",
       " 1,\n",
       " 0,\n",
       " 1,\n",
       " 1,\n",
       " 0,\n",
       " 1,\n",
       " 0,\n",
       " 0,\n",
       " 0,\n",
       " 0,\n",
       " 1,\n",
       " 0,\n",
       " 0,\n",
       " 0,\n",
       " 0,\n",
       " 1,\n",
       " 1,\n",
       " 1,\n",
       " 0,\n",
       " 1,\n",
       " 0,\n",
       " 0,\n",
       " 1,\n",
       " 1,\n",
       " 0,\n",
       " 0,\n",
       " 1,\n",
       " 1,\n",
       " 0,\n",
       " 0,\n",
       " 0,\n",
       " 0,\n",
       " 1,\n",
       " 1,\n",
       " 0,\n",
       " 0,\n",
       " 0,\n",
       " 1,\n",
       " 1,\n",
       " 1,\n",
       " 0,\n",
       " 0,\n",
       " 0,\n",
       " 0,\n",
       " 1,\n",
       " 1,\n",
       " 1,\n",
       " 1,\n",
       " 0,\n",
       " 0,\n",
       " 1,\n",
       " 0,\n",
       " 0,\n",
       " 1,\n",
       " 0,\n",
       " 0,\n",
       " 0,\n",
       " 1,\n",
       " 0,\n",
       " 1,\n",
       " 0,\n",
       " 1,\n",
       " 1,\n",
       " 0,\n",
       " 0,\n",
       " 0,\n",
       " 0,\n",
       " 1,\n",
       " 1,\n",
       " 0,\n",
       " 0,\n",
       " 1,\n",
       " 0,\n",
       " 0,\n",
       " 0,\n",
       " 1,\n",
       " 1,\n",
       " 1,\n",
       " 1,\n",
       " 0,\n",
       " 1,\n",
       " 0,\n",
       " 1,\n",
       " 1,\n",
       " 0,\n",
       " 1,\n",
       " 0,\n",
       " 0,\n",
       " 0,\n",
       " 0,\n",
       " 0,\n",
       " 0,\n",
       " 0,\n",
       " 1,\n",
       " 0,\n",
       " 0,\n",
       " 1,\n",
       " 0,\n",
       " 0,\n",
       " 0,\n",
       " 0,\n",
       " 0,\n",
       " 0,\n",
       " 0,\n",
       " 1,\n",
       " 0,\n",
       " 0,\n",
       " 1,\n",
       " 0,\n",
       " 1,\n",
       " 1,\n",
       " 0,\n",
       " 0,\n",
       " 1,\n",
       " 0,\n",
       " 0,\n",
       " 0,\n",
       " 0,\n",
       " 1,\n",
       " 0,\n",
       " 0,\n",
       " 1,\n",
       " 0,\n",
       " 0,\n",
       " 1,\n",
       " 0,\n",
       " 1,\n",
       " 0,\n",
       " 0,\n",
       " 0,\n",
       " 0,\n",
       " 0,\n",
       " 1,\n",
       " 0,\n",
       " 0,\n",
       " 0,\n",
       " 0,\n",
       " 0,\n",
       " 1,\n",
       " 0,\n",
       " 1,\n",
       " 1,\n",
       " 1,\n",
       " 0,\n",
       " 0,\n",
       " 0,\n",
       " 0,\n",
       " 1,\n",
       " 0,\n",
       " 1,\n",
       " 0,\n",
       " 0,\n",
       " 0,\n",
       " 1,\n",
       " 0,\n",
       " 0,\n",
       " 0,\n",
       " 1,\n",
       " 1,\n",
       " 1,\n",
       " 1,\n",
       " 0,\n",
       " 1,\n",
       " 1,\n",
       " 0,\n",
       " 0,\n",
       " 0,\n",
       " 0,\n",
       " 0,\n",
       " 0,\n",
       " 1,\n",
       " 0,\n",
       " 0,\n",
       " 0,\n",
       " 0,\n",
       " 1,\n",
       " 0,\n",
       " 1,\n",
       " 0,\n",
       " 0,\n",
       " 1,\n",
       " 1,\n",
       " 0,\n",
       " 0,\n",
       " 0,\n",
       " 1,\n",
       " 0,\n",
       " 0,\n",
       " 0,\n",
       " 1,\n",
       " 1,\n",
       " 1,\n",
       " 0,\n",
       " 0,\n",
       " 1,\n",
       " 0,\n",
       " 0,\n",
       " 1,\n",
       " 0,\n",
       " 1,\n",
       " 0,\n",
       " 1,\n",
       " 0,\n",
       " 0,\n",
       " 0,\n",
       " 0,\n",
       " 1,\n",
       " 0,\n",
       " 0,\n",
       " 1,\n",
       " 0,\n",
       " 1,\n",
       " 1,\n",
       " 1,\n",
       " 1,\n",
       " 1,\n",
       " 0,\n",
       " 0,\n",
       " 1,\n",
       " 0,\n",
       " 1,\n",
       " 0,\n",
       " 0,\n",
       " 1,\n",
       " 1,\n",
       " 1,\n",
       " 1,\n",
       " 0,\n",
       " 1,\n",
       " 0,\n",
       " 0,\n",
       " 0,\n",
       " 0,\n",
       " 1,\n",
       " 0,\n",
       " 0,\n",
       " 0,\n",
       " 1,\n",
       " 1,\n",
       " 0,\n",
       " 0,\n",
       " 1,\n",
       " 0,\n",
       " 1,\n",
       " 0,\n",
       " 0,\n",
       " 0,\n",
       " 0,\n",
       " 0,\n",
       " 0,\n",
       " 1,\n",
       " 1,\n",
       " 0,\n",
       " 0,\n",
       " 0,\n",
       " 0,\n",
       " 1,\n",
       " 0,\n",
       " 1,\n",
       " 0,\n",
       " 0,\n",
       " 0,\n",
       " 0,\n",
       " 0,\n",
       " 1,\n",
       " 0,\n",
       " 1,\n",
       " 0,\n",
       " 1,\n",
       " 1,\n",
       " 0,\n",
       " 0,\n",
       " 1,\n",
       " 0,\n",
       " 1,\n",
       " 0,\n",
       " 0,\n",
       " 0,\n",
       " 0,\n",
       " 0,\n",
       " 0,\n",
       " 1,\n",
       " 0,\n",
       " 1,\n",
       " 0,\n",
       " 1,\n",
       " 0,\n",
       " 0,\n",
       " 0,\n",
       " 1,\n",
       " 0,\n",
       " 0,\n",
       " 0,\n",
       " 0,\n",
       " 1,\n",
       " 0,\n",
       " 1,\n",
       " 1,\n",
       " 0,\n",
       " 1,\n",
       " 1,\n",
       " 1,\n",
       " 0,\n",
       " 1,\n",
       " 0,\n",
       " 1,\n",
       " 1,\n",
       " 0,\n",
       " 0,\n",
       " 1,\n",
       " 1,\n",
       " 0,\n",
       " 0,\n",
       " 1,\n",
       " 1,\n",
       " 0,\n",
       " 0,\n",
       " 1,\n",
       " 1,\n",
       " 1,\n",
       " 0,\n",
       " 1,\n",
       " 0,\n",
       " 1,\n",
       " 0,\n",
       " 1,\n",
       " 0,\n",
       " 0,\n",
       " 0,\n",
       " 0,\n",
       " 1,\n",
       " 1,\n",
       " 1,\n",
       " 1,\n",
       " 0,\n",
       " 0,\n",
       " 1,\n",
       " 0,\n",
       " 1,\n",
       " 0,\n",
       " 1,\n",
       " 0,\n",
       " 1,\n",
       " 1,\n",
       " 0,\n",
       " 0,\n",
       " 0,\n",
       " 0,\n",
       " 1,\n",
       " 0,\n",
       " 0,\n",
       " 1,\n",
       " 0,\n",
       " 0,\n",
       " 0,\n",
       " 1,\n",
       " 0,\n",
       " 0,\n",
       " 1,\n",
       " 0,\n",
       " 0,\n",
       " 0,\n",
       " 0,\n",
       " 0,\n",
       " 1,\n",
       " 0,\n",
       " 0,\n",
       " 0,\n",
       " 1,\n",
       " 1,\n",
       " 0,\n",
       " 0,\n",
       " 1,\n",
       " 1,\n",
       " 0,\n",
       " 0,\n",
       " 0,\n",
       " 0,\n",
       " 1,\n",
       " 0,\n",
       " 0,\n",
       " 0,\n",
       " 1,\n",
       " 0,\n",
       " 0,\n",
       " 0,\n",
       " 1,\n",
       " 0,\n",
       " 0,\n",
       " 0,\n",
       " 0,\n",
       " 0,\n",
       " 0,\n",
       " 0,\n",
       " 0,\n",
       " 0,\n",
       " 0,\n",
       " 0,\n",
       " 0,\n",
       " 0,\n",
       " 0,\n",
       " 0,\n",
       " 0,\n",
       " 0,\n",
       " 0,\n",
       " 1,\n",
       " 0,\n",
       " 0,\n",
       " 1,\n",
       " 0,\n",
       " 1,\n",
       " 0,\n",
       " 0,\n",
       " 0,\n",
       " 0,\n",
       " 0,\n",
       " 1,\n",
       " 0,\n",
       " 1,\n",
       " 1,\n",
       " 0,\n",
       " 0,\n",
       " 1,\n",
       " 0,\n",
       " 1,\n",
       " 0,\n",
       " 0,\n",
       " 1,\n",
       " 0,\n",
       " 1,\n",
       " 0,\n",
       " 0,\n",
       " 0,\n",
       " 1,\n",
       " 0,\n",
       " 1,\n",
       " 0,\n",
       " 0,\n",
       " 0,\n",
       " 1,\n",
       " 1,\n",
       " 0,\n",
       " 0,\n",
       " 0,\n",
       " 0,\n",
       " 0,\n",
       " 0,\n",
       " 0,\n",
       " 0,\n",
       " 0,\n",
       " 0,\n",
       " 0,\n",
       " 1,\n",
       " 1,\n",
       " 0,\n",
       " 0,\n",
       " 0,\n",
       " 0,\n",
       " 0,\n",
       " 0,\n",
       " 1,\n",
       " 0,\n",
       " 0,\n",
       " 0,\n",
       " 0,\n",
       " 1,\n",
       " 0,\n",
       " 0,\n",
       " 1,\n",
       " 1,\n",
       " 1,\n",
       " 0,\n",
       " 0,\n",
       " 1,\n",
       " 0,\n",
       " 0,\n",
       " 0,\n",
       " 0,\n",
       " 1,\n",
       " 1,\n",
       " 1,\n",
       " 0,\n",
       " 0,\n",
       " 0,\n",
       " 1,\n",
       " 0,\n",
       " 0,\n",
       " 1,\n",
       " 1,\n",
       " 0,\n",
       " 1,\n",
       " 0,\n",
       " 1,\n",
       " 0,\n",
       " 1,\n",
       " 0,\n",
       " 1,\n",
       " 0,\n",
       " 0,\n",
       " 1,\n",
       " 0,\n",
       " 0,\n",
       " 0,\n",
       " 0,\n",
       " 0,\n",
       " 0,\n",
       " 1,\n",
       " 0,\n",
       " 1,\n",
       " 1,\n",
       " 1,\n",
       " 0,\n",
       " 0,\n",
       " 0,\n",
       " 0,\n",
       " 0,\n",
       " 0,\n",
       " 1,\n",
       " 0,\n",
       " 0,\n",
       " 1,\n",
       " 1,\n",
       " 1,\n",
       " 0,\n",
       " 0,\n",
       " 0,\n",
       " 0,\n",
       " 0,\n",
       " 0,\n",
       " 1,\n",
       " 0,\n",
       " 1,\n",
       " 0,\n",
       " 1,\n",
       " 1,\n",
       " 1,\n",
       " 1,\n",
       " 0,\n",
       " 1,\n",
       " 0,\n",
       " 0,\n",
       " 0,\n",
       " 0,\n",
       " 0,\n",
       " 0,\n",
       " 0,\n",
       " 0,\n",
       " 0,\n",
       " 1,\n",
       " 0,\n",
       " 0,\n",
       " 0,\n",
       " 1,\n",
       " 0,\n",
       " 0,\n",
       " 0,\n",
       " 0,\n",
       " 1,\n",
       " 1,\n",
       " 1,\n",
       " 1,\n",
       " 0,\n",
       " 1,\n",
       " 0,\n",
       " 1,\n",
       " 1,\n",
       " 0,\n",
       " 0,\n",
       " 0,\n",
       " 1,\n",
       " 1,\n",
       " 1,\n",
       " 1,\n",
       " 1,\n",
       " 1,\n",
       " 1,\n",
       " 1,\n",
       " 0,\n",
       " 1,\n",
       " 1,\n",
       " 1,\n",
       " 1,\n",
       " 1,\n",
       " 1,\n",
       " 0,\n",
       " 0,\n",
       " 0,\n",
       " 0,\n",
       " 0,\n",
       " 1,\n",
       " 0,\n",
       " 0,\n",
       " 0,\n",
       " 0,\n",
       " 0,\n",
       " 1,\n",
       " 0,\n",
       " 1,\n",
       " 0,\n",
       " 1,\n",
       " 0,\n",
       " 0,\n",
       " 1,\n",
       " 0,\n",
       " 0,\n",
       " 0,\n",
       " 0,\n",
       " 0,\n",
       " 0,\n",
       " 0,\n",
       " 0,\n",
       " 0,\n",
       " 0,\n",
       " 1,\n",
       " 1,\n",
       " 0,\n",
       " 0,\n",
       " 0,\n",
       " 0,\n",
       " 1,\n",
       " 1,\n",
       " 1,\n",
       " 1,\n",
       " 0,\n",
       " 0,\n",
       " 0,\n",
       " 0,\n",
       " 1,\n",
       " 0,\n",
       " 0,\n",
       " 1,\n",
       " 0,\n",
       " 0,\n",
       " 0,\n",
       " 0,\n",
       " 0,\n",
       " 1,\n",
       " 1,\n",
       " 1,\n",
       " 0,\n",
       " 0,\n",
       " 1,\n",
       " 0,\n",
       " 0,\n",
       " 1,\n",
       " 1,\n",
       " 0,\n",
       " 1,\n",
       " 1,\n",
       " 1,\n",
       " 0,\n",
       " 0,\n",
       " 0,\n",
       " 0,\n",
       " 0,\n",
       " 0,\n",
       " 0,\n",
       " 0,\n",
       " 0,\n",
       " 1,\n",
       " 0,\n",
       " 0,\n",
       " 1,\n",
       " 1,\n",
       " 1,\n",
       " 0,\n",
       " 0,\n",
       " 0,\n",
       " 0,\n",
       " 1,\n",
       " 0,\n",
       " 0,\n",
       " 0,\n",
       " 0,\n",
       " 1,\n",
       " 1,\n",
       " 1,\n",
       " 0,\n",
       " 1,\n",
       " 0,\n",
       " 0,\n",
       " 1,\n",
       " 1,\n",
       " 0,\n",
       " 0,\n",
       " 0,\n",
       " 0,\n",
       " 1,\n",
       " 0,\n",
       " 0,\n",
       " 1,\n",
       " 0,\n",
       " 1,\n",
       " 1,\n",
       " 0,\n",
       " 0,\n",
       " 0,\n",
       " 1,\n",
       " 0,\n",
       " 0,\n",
       " 0,\n",
       " 0,\n",
       " 0,\n",
       " 0,\n",
       " 1,\n",
       " 1,\n",
       " 0,\n",
       " 0,\n",
       " 1,\n",
       " 0,\n",
       " 0,\n",
       " 0,\n",
       " 0,\n",
       " 1,\n",
       " 1,\n",
       " 0,\n",
       " 0,\n",
       " 0,\n",
       " 0,\n",
       " 0,\n",
       " 0,\n",
       " 1,\n",
       " 1,\n",
       " 0,\n",
       " 1,\n",
       " 1,\n",
       " 0,\n",
       " 1,\n",
       " 0,\n",
       " 0,\n",
       " 1,\n",
       " 0,\n",
       " 1,\n",
       " 0,\n",
       " 0,\n",
       " 0,\n",
       " 0,\n",
       " 0,\n",
       " 0,\n",
       " 1,\n",
       " 0,\n",
       " 0,\n",
       " 0,\n",
       " 1,\n",
       " 0,\n",
       " 0,\n",
       " 0,\n",
       " 1,\n",
       " 0,\n",
       " 0,\n",
       " 0,\n",
       " 0,\n",
       " 1,\n",
       " 0,\n",
       " 0,\n",
       " 0,\n",
       " 0,\n",
       " 1,\n",
       " 0,\n",
       " 0,\n",
       " 1,\n",
       " 1,\n",
       " 0,\n",
       " 0,\n",
       " 1,\n",
       " 0,\n",
       " 1,\n",
       " 1,\n",
       " 0,\n",
       " 0,\n",
       " 0,\n",
       " 0,\n",
       " 0,\n",
       " 0,\n",
       " 0,\n",
       " 0,\n",
       " 0,\n",
       " 1,\n",
       " 1,\n",
       " 0,\n",
       " 1,\n",
       " 0,\n",
       " 1,\n",
       " 1,\n",
       " 0,\n",
       " 0,\n",
       " 1,\n",
       " 0,\n",
       " 1,\n",
       " 0,\n",
       " 1,\n",
       " 1,\n",
       " 0,\n",
       " 1,\n",
       " 0,\n",
       " 1,\n",
       " 0,\n",
       " 0,\n",
       " 0,\n",
       " 0,\n",
       " 0,\n",
       " 1,\n",
       " 0,\n",
       " 1,\n",
       " 0,\n",
       " 1,\n",
       " 1,\n",
       " 0,\n",
       " 0,\n",
       " 1,\n",
       " 1,\n",
       " 0,\n",
       " 1,\n",
       " 1,\n",
       " 1,\n",
       " 1,\n",
       " 0,\n",
       " 0,\n",
       " 0,\n",
       " 1,\n",
       " 1,\n",
       " 0,\n",
       " 1,\n",
       " 1,\n",
       " 1,\n",
       " 0,\n",
       " 0,\n",
       " 1,\n",
       " 1,\n",
       " 0,\n",
       " 0,\n",
       " 0,\n",
       " 0,\n",
       " 0,\n",
       " 1,\n",
       " 1,\n",
       " 0,\n",
       " 1,\n",
       " 0,\n",
       " 1,\n",
       " 1,\n",
       " 0,\n",
       " 0,\n",
       " 0,\n",
       " 1,\n",
       " 0,\n",
       " 0,\n",
       " 1,\n",
       " 1,\n",
       " 1,\n",
       " 1,\n",
       " 1,\n",
       " 1,\n",
       " 1,\n",
       " 0,\n",
       " 1,\n",
       " 0,\n",
       " 0,\n",
       " 0,\n",
       " 0,\n",
       " 0,\n",
       " 0,\n",
       " 1,\n",
       " 0,\n",
       " 0,\n",
       " 1,\n",
       " 0,\n",
       " 0,\n",
       " 1,\n",
       " 1,\n",
       " 0,\n",
       " 0,\n",
       " 0,\n",
       " 0,\n",
       " 1,\n",
       " 0,\n",
       " 1,\n",
       " 1,\n",
       " 0,\n",
       " 1,\n",
       " 0,\n",
       " 1,\n",
       " 0,\n",
       " 0,\n",
       " 0,\n",
       " 0,\n",
       " 0,\n",
       " 0,\n",
       " 0,\n",
       " 1,\n",
       " 0,\n",
       " 1,\n",
       " 0,\n",
       " 0,\n",
       " 0,\n",
       " 0,\n",
       " 1,\n",
       " 0,\n",
       " 0,\n",
       " 1,\n",
       " 1,\n",
       " 0,\n",
       " 0,\n",
       " 0,\n",
       " 1,\n",
       " 1,\n",
       " 1,\n",
       " 0,\n",
       " 0,\n",
       " 0,\n",
       " 0,\n",
       " 1,\n",
       " 0,\n",
       " 0,\n",
       " ...]"
      ]
     },
     "execution_count": 60,
     "metadata": {},
     "output_type": "execute_result"
    }
   ],
   "source": [
    "custom_cutoff_data"
   ]
  },
  {
   "cell_type": "code",
   "execution_count": 64,
   "metadata": {
    "scrolled": false
   },
   "outputs": [],
   "source": [
    "from sklearn.metrics import accuracy_score,f1_score,recall_score, precision_score"
   ]
  },
  {
   "cell_type": "code",
   "execution_count": 65,
   "metadata": {
    "scrolled": false
   },
   "outputs": [
    {
     "data": {
      "text/plain": [
       "0.7166738105443635"
      ]
     },
     "execution_count": 65,
     "metadata": {},
     "output_type": "execute_result"
    }
   ],
   "source": [
    "accuracy_score(Y_train,custom_cutoff_data)"
   ]
  },
  {
   "cell_type": "code",
   "execution_count": 66,
   "metadata": {
    "scrolled": false
   },
   "outputs": [
    {
     "data": {
      "text/plain": [
       "(0.4550700741962078, 0.8165680473372781, 0.31542857142857145)"
      ]
     },
     "execution_count": 66,
     "metadata": {},
     "output_type": "execute_result"
    }
   ],
   "source": [
    "f1_score(Y_train,custom_cutoff_data), recall_score(Y_train,custom_cutoff_data), precision_score(Y_train,custom_cutoff_data)"
   ]
  },
  {
   "cell_type": "code",
   "execution_count": 62,
   "metadata": {
    "scrolled": false
   },
   "outputs": [],
   "source": [
    "\n",
    "def GetCustomData(custom_prob):\n",
    "    custom_cutoff_data=[]\n",
    "\n",
    "    for i in range(0,len(pred_train_prob)):  #2333\n",
    "        if pred_train_prob[i] >custom_prob:\n",
    "            a= 1\n",
    "        else:\n",
    "            a=0\n",
    "        custom_cutoff_data.append(a)\n",
    "    return custom_cutoff_data"
   ]
  },
  {
   "cell_type": "code",
   "execution_count": 63,
   "metadata": {
    "scrolled": true
   },
   "outputs": [
    {
     "data": {
      "text/plain": [
       "[0,\n",
       " 1,\n",
       " 1,\n",
       " 0,\n",
       " 1,\n",
       " 0,\n",
       " 0,\n",
       " 1,\n",
       " 0,\n",
       " 0,\n",
       " 1,\n",
       " 1,\n",
       " 0,\n",
       " 0,\n",
       " 1,\n",
       " 0,\n",
       " 0,\n",
       " 0,\n",
       " 0,\n",
       " 0,\n",
       " 0,\n",
       " 1,\n",
       " 0,\n",
       " 0,\n",
       " 1,\n",
       " 0,\n",
       " 0,\n",
       " 1,\n",
       " 1,\n",
       " 1,\n",
       " 1,\n",
       " 0,\n",
       " 1,\n",
       " 0,\n",
       " 1,\n",
       " 0,\n",
       " 1,\n",
       " 1,\n",
       " 0,\n",
       " 1,\n",
       " 0,\n",
       " 1,\n",
       " 0,\n",
       " 1,\n",
       " 1,\n",
       " 1,\n",
       " 1,\n",
       " 1,\n",
       " 0,\n",
       " 0,\n",
       " 1,\n",
       " 1,\n",
       " 1,\n",
       " 0,\n",
       " 0,\n",
       " 1,\n",
       " 0,\n",
       " 1,\n",
       " 1,\n",
       " 0,\n",
       " 1,\n",
       " 1,\n",
       " 1,\n",
       " 0,\n",
       " 0,\n",
       " 0,\n",
       " 1,\n",
       " 1,\n",
       " 0,\n",
       " 0,\n",
       " 1,\n",
       " 0,\n",
       " 1,\n",
       " 0,\n",
       " 1,\n",
       " 1,\n",
       " 0,\n",
       " 0,\n",
       " 0,\n",
       " 0,\n",
       " 0,\n",
       " 1,\n",
       " 0,\n",
       " 0,\n",
       " 0,\n",
       " 1,\n",
       " 1,\n",
       " 0,\n",
       " 1,\n",
       " 1,\n",
       " 0,\n",
       " 1,\n",
       " 0,\n",
       " 0,\n",
       " 0,\n",
       " 0,\n",
       " 1,\n",
       " 0,\n",
       " 0,\n",
       " 0,\n",
       " 0,\n",
       " 1,\n",
       " 1,\n",
       " 1,\n",
       " 0,\n",
       " 1,\n",
       " 0,\n",
       " 0,\n",
       " 1,\n",
       " 1,\n",
       " 0,\n",
       " 0,\n",
       " 1,\n",
       " 1,\n",
       " 0,\n",
       " 0,\n",
       " 0,\n",
       " 0,\n",
       " 1,\n",
       " 1,\n",
       " 0,\n",
       " 0,\n",
       " 0,\n",
       " 1,\n",
       " 1,\n",
       " 1,\n",
       " 0,\n",
       " 0,\n",
       " 0,\n",
       " 0,\n",
       " 1,\n",
       " 1,\n",
       " 1,\n",
       " 1,\n",
       " 0,\n",
       " 0,\n",
       " 1,\n",
       " 0,\n",
       " 0,\n",
       " 1,\n",
       " 0,\n",
       " 0,\n",
       " 0,\n",
       " 1,\n",
       " 0,\n",
       " 1,\n",
       " 0,\n",
       " 1,\n",
       " 1,\n",
       " 0,\n",
       " 0,\n",
       " 0,\n",
       " 0,\n",
       " 1,\n",
       " 1,\n",
       " 0,\n",
       " 0,\n",
       " 1,\n",
       " 0,\n",
       " 0,\n",
       " 0,\n",
       " 1,\n",
       " 1,\n",
       " 1,\n",
       " 1,\n",
       " 0,\n",
       " 1,\n",
       " 0,\n",
       " 1,\n",
       " 1,\n",
       " 0,\n",
       " 1,\n",
       " 0,\n",
       " 0,\n",
       " 0,\n",
       " 0,\n",
       " 0,\n",
       " 0,\n",
       " 0,\n",
       " 1,\n",
       " 0,\n",
       " 0,\n",
       " 1,\n",
       " 0,\n",
       " 0,\n",
       " 0,\n",
       " 0,\n",
       " 0,\n",
       " 0,\n",
       " 0,\n",
       " 1,\n",
       " 0,\n",
       " 0,\n",
       " 1,\n",
       " 0,\n",
       " 1,\n",
       " 1,\n",
       " 0,\n",
       " 0,\n",
       " 1,\n",
       " 0,\n",
       " 0,\n",
       " 0,\n",
       " 0,\n",
       " 1,\n",
       " 0,\n",
       " 0,\n",
       " 1,\n",
       " 0,\n",
       " 0,\n",
       " 1,\n",
       " 0,\n",
       " 1,\n",
       " 0,\n",
       " 0,\n",
       " 0,\n",
       " 0,\n",
       " 0,\n",
       " 1,\n",
       " 0,\n",
       " 0,\n",
       " 0,\n",
       " 0,\n",
       " 0,\n",
       " 1,\n",
       " 0,\n",
       " 1,\n",
       " 1,\n",
       " 1,\n",
       " 0,\n",
       " 0,\n",
       " 0,\n",
       " 0,\n",
       " 1,\n",
       " 0,\n",
       " 1,\n",
       " 0,\n",
       " 0,\n",
       " 0,\n",
       " 1,\n",
       " 0,\n",
       " 0,\n",
       " 0,\n",
       " 1,\n",
       " 1,\n",
       " 1,\n",
       " 1,\n",
       " 0,\n",
       " 1,\n",
       " 1,\n",
       " 0,\n",
       " 0,\n",
       " 0,\n",
       " 0,\n",
       " 0,\n",
       " 0,\n",
       " 1,\n",
       " 0,\n",
       " 0,\n",
       " 0,\n",
       " 0,\n",
       " 1,\n",
       " 0,\n",
       " 1,\n",
       " 0,\n",
       " 0,\n",
       " 1,\n",
       " 1,\n",
       " 0,\n",
       " 0,\n",
       " 0,\n",
       " 1,\n",
       " 0,\n",
       " 0,\n",
       " 0,\n",
       " 1,\n",
       " 1,\n",
       " 1,\n",
       " 0,\n",
       " 0,\n",
       " 1,\n",
       " 0,\n",
       " 0,\n",
       " 1,\n",
       " 0,\n",
       " 1,\n",
       " 0,\n",
       " 1,\n",
       " 0,\n",
       " 0,\n",
       " 0,\n",
       " 0,\n",
       " 1,\n",
       " 0,\n",
       " 0,\n",
       " 1,\n",
       " 0,\n",
       " 1,\n",
       " 1,\n",
       " 1,\n",
       " 1,\n",
       " 1,\n",
       " 0,\n",
       " 0,\n",
       " 1,\n",
       " 0,\n",
       " 1,\n",
       " 0,\n",
       " 0,\n",
       " 1,\n",
       " 1,\n",
       " 1,\n",
       " 1,\n",
       " 0,\n",
       " 1,\n",
       " 0,\n",
       " 0,\n",
       " 0,\n",
       " 0,\n",
       " 1,\n",
       " 0,\n",
       " 0,\n",
       " 0,\n",
       " 1,\n",
       " 1,\n",
       " 0,\n",
       " 0,\n",
       " 1,\n",
       " 0,\n",
       " 1,\n",
       " 0,\n",
       " 0,\n",
       " 0,\n",
       " 0,\n",
       " 0,\n",
       " 0,\n",
       " 1,\n",
       " 1,\n",
       " 0,\n",
       " 0,\n",
       " 0,\n",
       " 0,\n",
       " 1,\n",
       " 0,\n",
       " 1,\n",
       " 0,\n",
       " 0,\n",
       " 0,\n",
       " 0,\n",
       " 0,\n",
       " 1,\n",
       " 0,\n",
       " 1,\n",
       " 0,\n",
       " 1,\n",
       " 1,\n",
       " 0,\n",
       " 0,\n",
       " 1,\n",
       " 0,\n",
       " 1,\n",
       " 0,\n",
       " 0,\n",
       " 0,\n",
       " 0,\n",
       " 0,\n",
       " 0,\n",
       " 1,\n",
       " 0,\n",
       " 1,\n",
       " 0,\n",
       " 1,\n",
       " 0,\n",
       " 0,\n",
       " 0,\n",
       " 1,\n",
       " 0,\n",
       " 0,\n",
       " 0,\n",
       " 0,\n",
       " 1,\n",
       " 0,\n",
       " 1,\n",
       " 1,\n",
       " 0,\n",
       " 1,\n",
       " 1,\n",
       " 1,\n",
       " 0,\n",
       " 1,\n",
       " 0,\n",
       " 1,\n",
       " 1,\n",
       " 0,\n",
       " 0,\n",
       " 1,\n",
       " 1,\n",
       " 0,\n",
       " 0,\n",
       " 1,\n",
       " 1,\n",
       " 0,\n",
       " 0,\n",
       " 1,\n",
       " 1,\n",
       " 1,\n",
       " 0,\n",
       " 1,\n",
       " 0,\n",
       " 1,\n",
       " 0,\n",
       " 1,\n",
       " 0,\n",
       " 0,\n",
       " 0,\n",
       " 0,\n",
       " 1,\n",
       " 1,\n",
       " 1,\n",
       " 1,\n",
       " 0,\n",
       " 0,\n",
       " 1,\n",
       " 0,\n",
       " 1,\n",
       " 0,\n",
       " 1,\n",
       " 0,\n",
       " 1,\n",
       " 1,\n",
       " 0,\n",
       " 0,\n",
       " 0,\n",
       " 0,\n",
       " 1,\n",
       " 0,\n",
       " 0,\n",
       " 1,\n",
       " 0,\n",
       " 0,\n",
       " 0,\n",
       " 1,\n",
       " 0,\n",
       " 0,\n",
       " 1,\n",
       " 0,\n",
       " 0,\n",
       " 0,\n",
       " 0,\n",
       " 0,\n",
       " 1,\n",
       " 0,\n",
       " 0,\n",
       " 0,\n",
       " 1,\n",
       " 1,\n",
       " 0,\n",
       " 0,\n",
       " 1,\n",
       " 1,\n",
       " 0,\n",
       " 0,\n",
       " 0,\n",
       " 0,\n",
       " 1,\n",
       " 0,\n",
       " 0,\n",
       " 0,\n",
       " 1,\n",
       " 0,\n",
       " 0,\n",
       " 0,\n",
       " 1,\n",
       " 0,\n",
       " 0,\n",
       " 0,\n",
       " 0,\n",
       " 0,\n",
       " 0,\n",
       " 0,\n",
       " 0,\n",
       " 0,\n",
       " 0,\n",
       " 0,\n",
       " 0,\n",
       " 0,\n",
       " 0,\n",
       " 0,\n",
       " 0,\n",
       " 0,\n",
       " 0,\n",
       " 1,\n",
       " 0,\n",
       " 0,\n",
       " 1,\n",
       " 0,\n",
       " 1,\n",
       " 0,\n",
       " 0,\n",
       " 0,\n",
       " 0,\n",
       " 0,\n",
       " 1,\n",
       " 0,\n",
       " 1,\n",
       " 1,\n",
       " 0,\n",
       " 0,\n",
       " 1,\n",
       " 0,\n",
       " 1,\n",
       " 0,\n",
       " 0,\n",
       " 1,\n",
       " 0,\n",
       " 1,\n",
       " 0,\n",
       " 0,\n",
       " 0,\n",
       " 1,\n",
       " 0,\n",
       " 1,\n",
       " 0,\n",
       " 0,\n",
       " 0,\n",
       " 1,\n",
       " 1,\n",
       " 0,\n",
       " 0,\n",
       " 0,\n",
       " 0,\n",
       " 0,\n",
       " 0,\n",
       " 0,\n",
       " 0,\n",
       " 0,\n",
       " 0,\n",
       " 0,\n",
       " 1,\n",
       " 1,\n",
       " 0,\n",
       " 0,\n",
       " 0,\n",
       " 0,\n",
       " 0,\n",
       " 0,\n",
       " 1,\n",
       " 0,\n",
       " 0,\n",
       " 0,\n",
       " 0,\n",
       " 1,\n",
       " 0,\n",
       " 0,\n",
       " 1,\n",
       " 1,\n",
       " 1,\n",
       " 0,\n",
       " 0,\n",
       " 1,\n",
       " 0,\n",
       " 0,\n",
       " 0,\n",
       " 0,\n",
       " 1,\n",
       " 1,\n",
       " 1,\n",
       " 0,\n",
       " 0,\n",
       " 0,\n",
       " 1,\n",
       " 0,\n",
       " 0,\n",
       " 1,\n",
       " 1,\n",
       " 0,\n",
       " 1,\n",
       " 0,\n",
       " 1,\n",
       " 0,\n",
       " 1,\n",
       " 0,\n",
       " 1,\n",
       " 0,\n",
       " 0,\n",
       " 1,\n",
       " 0,\n",
       " 0,\n",
       " 0,\n",
       " 0,\n",
       " 0,\n",
       " 0,\n",
       " 1,\n",
       " 0,\n",
       " 1,\n",
       " 1,\n",
       " 1,\n",
       " 0,\n",
       " 0,\n",
       " 0,\n",
       " 0,\n",
       " 0,\n",
       " 0,\n",
       " 1,\n",
       " 0,\n",
       " 0,\n",
       " 1,\n",
       " 1,\n",
       " 1,\n",
       " 0,\n",
       " 0,\n",
       " 0,\n",
       " 0,\n",
       " 0,\n",
       " 0,\n",
       " 1,\n",
       " 0,\n",
       " 1,\n",
       " 0,\n",
       " 1,\n",
       " 1,\n",
       " 1,\n",
       " 1,\n",
       " 0,\n",
       " 1,\n",
       " 0,\n",
       " 0,\n",
       " 0,\n",
       " 0,\n",
       " 0,\n",
       " 0,\n",
       " 0,\n",
       " 0,\n",
       " 0,\n",
       " 1,\n",
       " 0,\n",
       " 0,\n",
       " 0,\n",
       " 1,\n",
       " 0,\n",
       " 0,\n",
       " 0,\n",
       " 0,\n",
       " 1,\n",
       " 1,\n",
       " 1,\n",
       " 1,\n",
       " 0,\n",
       " 1,\n",
       " 0,\n",
       " 1,\n",
       " 1,\n",
       " 0,\n",
       " 0,\n",
       " 0,\n",
       " 1,\n",
       " 1,\n",
       " 1,\n",
       " 1,\n",
       " 1,\n",
       " 1,\n",
       " 1,\n",
       " 1,\n",
       " 0,\n",
       " 1,\n",
       " 1,\n",
       " 1,\n",
       " 1,\n",
       " 1,\n",
       " 1,\n",
       " 0,\n",
       " 0,\n",
       " 0,\n",
       " 0,\n",
       " 0,\n",
       " 1,\n",
       " 0,\n",
       " 0,\n",
       " 0,\n",
       " 0,\n",
       " 0,\n",
       " 1,\n",
       " 0,\n",
       " 1,\n",
       " 0,\n",
       " 1,\n",
       " 0,\n",
       " 0,\n",
       " 1,\n",
       " 0,\n",
       " 0,\n",
       " 0,\n",
       " 0,\n",
       " 0,\n",
       " 0,\n",
       " 0,\n",
       " 0,\n",
       " 0,\n",
       " 0,\n",
       " 1,\n",
       " 1,\n",
       " 0,\n",
       " 0,\n",
       " 0,\n",
       " 0,\n",
       " 1,\n",
       " 1,\n",
       " 1,\n",
       " 1,\n",
       " 0,\n",
       " 0,\n",
       " 0,\n",
       " 0,\n",
       " 1,\n",
       " 0,\n",
       " 0,\n",
       " 1,\n",
       " 0,\n",
       " 0,\n",
       " 0,\n",
       " 0,\n",
       " 0,\n",
       " 1,\n",
       " 1,\n",
       " 1,\n",
       " 0,\n",
       " 0,\n",
       " 1,\n",
       " 0,\n",
       " 0,\n",
       " 1,\n",
       " 1,\n",
       " 0,\n",
       " 1,\n",
       " 1,\n",
       " 1,\n",
       " 0,\n",
       " 0,\n",
       " 0,\n",
       " 0,\n",
       " 0,\n",
       " 0,\n",
       " 0,\n",
       " 0,\n",
       " 0,\n",
       " 1,\n",
       " 0,\n",
       " 0,\n",
       " 1,\n",
       " 1,\n",
       " 1,\n",
       " 0,\n",
       " 0,\n",
       " 0,\n",
       " 0,\n",
       " 1,\n",
       " 0,\n",
       " 0,\n",
       " 0,\n",
       " 0,\n",
       " 1,\n",
       " 1,\n",
       " 1,\n",
       " 0,\n",
       " 1,\n",
       " 0,\n",
       " 0,\n",
       " 1,\n",
       " 1,\n",
       " 0,\n",
       " 0,\n",
       " 0,\n",
       " 0,\n",
       " 1,\n",
       " 0,\n",
       " 0,\n",
       " 1,\n",
       " 0,\n",
       " 1,\n",
       " 1,\n",
       " 0,\n",
       " 0,\n",
       " 0,\n",
       " 1,\n",
       " 0,\n",
       " 0,\n",
       " 0,\n",
       " 0,\n",
       " 0,\n",
       " 0,\n",
       " 1,\n",
       " 1,\n",
       " 0,\n",
       " 0,\n",
       " 1,\n",
       " 0,\n",
       " 0,\n",
       " 0,\n",
       " 0,\n",
       " 1,\n",
       " 1,\n",
       " 0,\n",
       " 0,\n",
       " 0,\n",
       " 0,\n",
       " 0,\n",
       " 0,\n",
       " 1,\n",
       " 1,\n",
       " 0,\n",
       " 1,\n",
       " 1,\n",
       " 0,\n",
       " 1,\n",
       " 0,\n",
       " 0,\n",
       " 1,\n",
       " 0,\n",
       " 1,\n",
       " 0,\n",
       " 0,\n",
       " 0,\n",
       " 0,\n",
       " 0,\n",
       " 0,\n",
       " 1,\n",
       " 0,\n",
       " 0,\n",
       " 0,\n",
       " 1,\n",
       " 0,\n",
       " 0,\n",
       " 0,\n",
       " 1,\n",
       " 0,\n",
       " 0,\n",
       " 0,\n",
       " 0,\n",
       " 1,\n",
       " 0,\n",
       " 0,\n",
       " 0,\n",
       " 0,\n",
       " 1,\n",
       " 0,\n",
       " 0,\n",
       " 1,\n",
       " 1,\n",
       " 0,\n",
       " 0,\n",
       " 1,\n",
       " 0,\n",
       " 1,\n",
       " 1,\n",
       " 0,\n",
       " 0,\n",
       " 0,\n",
       " 0,\n",
       " 0,\n",
       " 0,\n",
       " 0,\n",
       " 0,\n",
       " 0,\n",
       " 1,\n",
       " 1,\n",
       " 0,\n",
       " 1,\n",
       " 0,\n",
       " 1,\n",
       " 1,\n",
       " 0,\n",
       " 0,\n",
       " 1,\n",
       " 0,\n",
       " 1,\n",
       " 0,\n",
       " 1,\n",
       " 1,\n",
       " 0,\n",
       " 1,\n",
       " 0,\n",
       " 1,\n",
       " 0,\n",
       " 0,\n",
       " 0,\n",
       " 0,\n",
       " 0,\n",
       " 1,\n",
       " 0,\n",
       " 1,\n",
       " 0,\n",
       " 1,\n",
       " 1,\n",
       " 0,\n",
       " 0,\n",
       " 1,\n",
       " 1,\n",
       " 0,\n",
       " 1,\n",
       " 1,\n",
       " 1,\n",
       " 1,\n",
       " 0,\n",
       " 0,\n",
       " 0,\n",
       " 1,\n",
       " 1,\n",
       " 0,\n",
       " 1,\n",
       " 1,\n",
       " 1,\n",
       " 0,\n",
       " 0,\n",
       " 1,\n",
       " 1,\n",
       " 0,\n",
       " 0,\n",
       " 0,\n",
       " 0,\n",
       " 0,\n",
       " 1,\n",
       " 1,\n",
       " 0,\n",
       " 1,\n",
       " 0,\n",
       " 1,\n",
       " 1,\n",
       " 0,\n",
       " 0,\n",
       " 0,\n",
       " 1,\n",
       " 0,\n",
       " 0,\n",
       " 1,\n",
       " 1,\n",
       " 1,\n",
       " 1,\n",
       " 1,\n",
       " 1,\n",
       " 1,\n",
       " 0,\n",
       " 1,\n",
       " 0,\n",
       " 0,\n",
       " 0,\n",
       " 0,\n",
       " 0,\n",
       " 0,\n",
       " 1,\n",
       " 0,\n",
       " 0,\n",
       " 1,\n",
       " 0,\n",
       " 0,\n",
       " 1,\n",
       " 1,\n",
       " 0,\n",
       " 0,\n",
       " 0,\n",
       " 0,\n",
       " 1,\n",
       " 0,\n",
       " 1,\n",
       " 1,\n",
       " 0,\n",
       " 1,\n",
       " 0,\n",
       " 1,\n",
       " 0,\n",
       " 0,\n",
       " 0,\n",
       " 0,\n",
       " 0,\n",
       " 0,\n",
       " 0,\n",
       " 1,\n",
       " 0,\n",
       " 1,\n",
       " 0,\n",
       " 0,\n",
       " 0,\n",
       " 0,\n",
       " 1,\n",
       " 0,\n",
       " 0,\n",
       " 1,\n",
       " 1,\n",
       " 0,\n",
       " 0,\n",
       " 0,\n",
       " 1,\n",
       " 1,\n",
       " 1,\n",
       " 0,\n",
       " 0,\n",
       " 0,\n",
       " 0,\n",
       " 1,\n",
       " 0,\n",
       " 0,\n",
       " ...]"
      ]
     },
     "execution_count": 63,
     "metadata": {},
     "output_type": "execute_result"
    }
   ],
   "source": [
    "result = GetCustomData(0.1)\n",
    "result"
   ]
  },
  {
   "cell_type": "code",
   "execution_count": 67,
   "metadata": {
    "scrolled": false
   },
   "outputs": [],
   "source": [
    "thresh=[]\n",
    "acc=[]\n",
    "f1=[]\n",
    "rec=[]\n",
    "pre=[]"
   ]
  },
  {
   "cell_type": "code",
   "execution_count": 68,
   "metadata": {},
   "outputs": [
    {
     "data": {
      "text/plain": [
       "array([0.1, 0.2, 0.3, 0.4, 0.5, 0.6, 0.7, 0.8, 0.9])"
      ]
     },
     "execution_count": 68,
     "metadata": {},
     "output_type": "execute_result"
    }
   ],
   "source": [
    "np.arange(0.1,1,0.1)"
   ]
  },
  {
   "cell_type": "code",
   "execution_count": 70,
   "metadata": {
    "scrolled": false
   },
   "outputs": [],
   "source": [
    "for j in np.arange(0.1,1,0.1):\n",
    "    result = GetCustomData(j)\n",
    "    thresh.append(j)\n",
    "    acc.append(accuracy_score(Y_train,result))\n",
    "    f1.append(f1_score(Y_train,result))\n",
    "    rec.append(recall_score(Y_train,result))\n",
    "    pre.append(precision_score(Y_train,result))\n"
   ]
  },
  {
   "cell_type": "code",
   "execution_count": 71,
   "metadata": {
    "scrolled": false
   },
   "outputs": [
    {
     "data": {
      "text/html": [
       "<div>\n",
       "<style scoped>\n",
       "    .dataframe tbody tr th:only-of-type {\n",
       "        vertical-align: middle;\n",
       "    }\n",
       "\n",
       "    .dataframe tbody tr th {\n",
       "        vertical-align: top;\n",
       "    }\n",
       "\n",
       "    .dataframe thead th {\n",
       "        text-align: right;\n",
       "    }\n",
       "</style>\n",
       "<table border=\"1\" class=\"dataframe\">\n",
       "  <thead>\n",
       "    <tr style=\"text-align: right;\">\n",
       "      <th></th>\n",
       "      <th>Threshold</th>\n",
       "      <th>Accuracy</th>\n",
       "      <th>f1</th>\n",
       "      <th>Recall</th>\n",
       "      <th>Precision</th>\n",
       "    </tr>\n",
       "  </thead>\n",
       "  <tbody>\n",
       "    <tr>\n",
       "      <th>0</th>\n",
       "      <td>0.1</td>\n",
       "      <td>0.716674</td>\n",
       "      <td>0.455070</td>\n",
       "      <td>0.816568</td>\n",
       "      <td>0.315429</td>\n",
       "    </tr>\n",
       "    <tr>\n",
       "      <th>1</th>\n",
       "      <td>0.2</td>\n",
       "      <td>0.819117</td>\n",
       "      <td>0.495215</td>\n",
       "      <td>0.612426</td>\n",
       "      <td>0.415663</td>\n",
       "    </tr>\n",
       "    <tr>\n",
       "      <th>2</th>\n",
       "      <td>0.3</td>\n",
       "      <td>0.843120</td>\n",
       "      <td>0.440367</td>\n",
       "      <td>0.426036</td>\n",
       "      <td>0.455696</td>\n",
       "    </tr>\n",
       "    <tr>\n",
       "      <th>3</th>\n",
       "      <td>0.4</td>\n",
       "      <td>0.844835</td>\n",
       "      <td>0.364912</td>\n",
       "      <td>0.307692</td>\n",
       "      <td>0.448276</td>\n",
       "    </tr>\n",
       "    <tr>\n",
       "      <th>4</th>\n",
       "      <td>0.5</td>\n",
       "      <td>0.850407</td>\n",
       "      <td>0.317025</td>\n",
       "      <td>0.239645</td>\n",
       "      <td>0.468208</td>\n",
       "    </tr>\n",
       "    <tr>\n",
       "      <th>5</th>\n",
       "      <td>0.6</td>\n",
       "      <td>0.857265</td>\n",
       "      <td>0.280778</td>\n",
       "      <td>0.192308</td>\n",
       "      <td>0.520000</td>\n",
       "    </tr>\n",
       "    <tr>\n",
       "      <th>6</th>\n",
       "      <td>0.7</td>\n",
       "      <td>0.861123</td>\n",
       "      <td>0.221154</td>\n",
       "      <td>0.136095</td>\n",
       "      <td>0.589744</td>\n",
       "    </tr>\n",
       "    <tr>\n",
       "      <th>7</th>\n",
       "      <td>0.8</td>\n",
       "      <td>0.860266</td>\n",
       "      <td>0.137566</td>\n",
       "      <td>0.076923</td>\n",
       "      <td>0.650000</td>\n",
       "    </tr>\n",
       "    <tr>\n",
       "      <th>8</th>\n",
       "      <td>0.9</td>\n",
       "      <td>0.856408</td>\n",
       "      <td>0.034582</td>\n",
       "      <td>0.017751</td>\n",
       "      <td>0.666667</td>\n",
       "    </tr>\n",
       "  </tbody>\n",
       "</table>\n",
       "</div>"
      ],
      "text/plain": [
       "   Threshold  Accuracy        f1    Recall  Precision\n",
       "0        0.1  0.716674  0.455070  0.816568   0.315429\n",
       "1        0.2  0.819117  0.495215  0.612426   0.415663\n",
       "2        0.3  0.843120  0.440367  0.426036   0.455696\n",
       "3        0.4  0.844835  0.364912  0.307692   0.448276\n",
       "4        0.5  0.850407  0.317025  0.239645   0.468208\n",
       "5        0.6  0.857265  0.280778  0.192308   0.520000\n",
       "6        0.7  0.861123  0.221154  0.136095   0.589744\n",
       "7        0.8  0.860266  0.137566  0.076923   0.650000\n",
       "8        0.9  0.856408  0.034582  0.017751   0.666667"
      ]
     },
     "execution_count": 71,
     "metadata": {},
     "output_type": "execute_result"
    }
   ],
   "source": [
    "pd.DataFrame({'Threshold': thresh,\n",
    "             'Accuracy': acc,\n",
    "             'f1': f1,\n",
    "             'Recall': rec,\n",
    "             'Precision':pre})"
   ]
  },
  {
   "cell_type": "markdown",
   "metadata": {},
   "source": [
    "We see that 0.7 and 0.8 gives better accuracy than the rest of the custom cut-off values. But 0.2 cut-off gives us the best 'f1-score'. Here, we will take the cut-off as 0.2 to get the optimum 'f1' score.\n",
    "\n",
    "Let us evaluate the predictions of the test data using these cut-off values."
   ]
  },
  {
   "cell_type": "code",
   "execution_count": 79,
   "metadata": {},
   "outputs": [
    {
     "data": {
      "text/plain": [
       "array([0.0749088 , 0.08869047, 0.02078955, 0.13884686, 0.11267881,\n",
       "       0.01096042, 0.59652049, 0.13401934, 0.0349624 , 0.06400137,\n",
       "       0.06070347, 0.05904024, 0.10734081, 0.02904649, 0.02580608,\n",
       "       0.0253955 , 0.11393046, 0.05549587, 0.52749731, 0.0752321 ,\n",
       "       0.76026265, 0.03548203, 0.0096606 , 0.62951867, 0.12275817,\n",
       "       0.1060855 , 0.01581791, 0.22027075, 0.04502408, 0.00611066,\n",
       "       0.02885654, 0.02323959, 0.0662713 , 0.28915054, 0.00909494,\n",
       "       0.09883137, 0.06539326, 0.00527694, 0.03821684, 0.11473954,\n",
       "       0.18836423, 0.13842352, 0.16086428, 0.06337512, 0.01458383,\n",
       "       0.10807069, 0.4830092 , 0.01822827, 0.19490821, 0.04789976,\n",
       "       0.01051092, 0.01012607, 0.25096273, 0.0153444 , 0.18943512,\n",
       "       0.01914812, 0.01484272, 0.04924356, 0.02894338, 0.12610573,\n",
       "       0.0158542 , 0.03477162, 0.34000285, 0.01812166, 0.04909387,\n",
       "       0.05814133, 0.02858772, 0.17742544, 0.83480041, 0.04392275,\n",
       "       0.08840972, 0.53161616, 0.15339078, 0.95177207, 0.03406951,\n",
       "       0.03603022, 0.3189309 , 0.27805916, 0.0257083 , 0.04520613,\n",
       "       0.17170974, 0.02620438, 0.05143274, 0.06970036, 0.0953236 ,\n",
       "       0.01829412, 0.07350481, 0.87023864, 0.09219844, 0.01173929,\n",
       "       0.06043733, 0.26332959, 0.52239888, 0.07291672, 0.03869493,\n",
       "       0.39504173, 0.05238865, 0.04453411, 0.0345379 , 0.00642904,\n",
       "       0.21983218, 0.15023307, 0.06632488, 0.12059729, 0.04285584,\n",
       "       0.0168878 , 0.10678185, 0.29311569, 0.03939419, 0.33929607,\n",
       "       0.02046757, 0.0374933 , 0.16386181, 0.36860604, 0.04784202,\n",
       "       0.01819386, 0.2476715 , 0.04612221, 0.07901395, 0.1263778 ,\n",
       "       0.93366167, 0.12034155, 0.24542826, 0.04067637, 0.06692814,\n",
       "       0.18059552, 0.06212614, 0.05543552, 0.02233445, 0.13539289,\n",
       "       0.27804261, 0.05062936, 0.0596574 , 0.05686129, 0.0370566 ,\n",
       "       0.11848846, 0.66994814, 0.21768842, 0.11284008, 0.08670357,\n",
       "       0.03232996, 0.3054161 , 0.08018036, 0.04521453, 0.53466692,\n",
       "       0.02761035, 0.02695431, 0.13689462, 0.0346049 , 0.18025447,\n",
       "       0.01815115, 0.02775947, 0.08676239, 0.03664027, 0.05191707,\n",
       "       0.06829489, 0.2541226 , 0.10599462, 0.03290547, 0.37125368,\n",
       "       0.08262351, 0.06958033, 0.12030467, 0.03629586, 0.09032593,\n",
       "       0.03494023, 0.03133637, 0.07747001, 0.05124118, 0.02493277,\n",
       "       0.01530939, 0.24837275, 0.06805027, 0.01846137, 0.03206615,\n",
       "       0.17699021, 0.0326117 , 0.05227203, 0.06838395, 0.03451387,\n",
       "       0.09923942, 0.00622361, 0.19069204, 0.05381021, 0.0510536 ,\n",
       "       0.01836061, 0.01135317, 0.67203374, 0.22118045, 0.0350498 ,\n",
       "       0.10061888, 0.08070657, 0.1831013 , 0.65978287, 0.04518706,\n",
       "       0.57866069, 0.06066078, 0.03822146, 0.06057998, 0.05249378,\n",
       "       0.09096409, 0.03897702, 0.08707171, 0.02071511, 0.03951685,\n",
       "       0.01982327, 0.07141097, 0.05241195, 0.18012882, 0.35941212,\n",
       "       0.2579404 , 0.16156033, 0.00903156, 0.0188881 , 0.02082633,\n",
       "       0.02283568, 0.02167984, 0.01633747, 0.05320074, 0.04706861,\n",
       "       0.08502753, 0.04641122, 0.06411418, 0.12210006, 0.02723098,\n",
       "       0.01362185, 0.10181059, 0.10244925, 0.05264947, 0.04963634,\n",
       "       0.10366288, 0.31151149, 0.08584358, 0.08140896, 0.003442  ,\n",
       "       0.03071667, 0.06574862, 0.21249053, 0.07925796, 0.90532746,\n",
       "       0.64376643, 0.09773423, 0.65627055, 0.04389841, 0.072341  ,\n",
       "       0.83657067, 0.07033147, 0.24464252, 0.14600962, 0.03128971,\n",
       "       0.04387635, 0.06891569, 0.74350328, 0.04249064, 0.70047972,\n",
       "       0.01543877, 0.04541429, 0.03043221, 0.03625988, 0.1121751 ,\n",
       "       0.00292027, 0.23237227, 0.04261971, 0.05701155, 0.54816313,\n",
       "       0.03433942, 0.06045715, 0.01578355, 0.01981585, 0.50973704,\n",
       "       0.80346425, 0.03013376, 0.43232181, 0.08860226, 0.04648144,\n",
       "       0.3970389 , 0.10483533, 0.09917205, 0.09756331, 0.1092133 ,\n",
       "       0.38247554, 0.07960797, 0.0536573 , 0.00979058, 0.46961061,\n",
       "       0.09742561, 0.02759806, 0.02421276, 0.04855553, 0.03282393,\n",
       "       0.11286805, 0.20828268, 0.3910273 , 0.34836433, 0.53021758,\n",
       "       0.18975051, 0.22935087, 0.02774159, 0.06261584, 0.08457961,\n",
       "       0.05895824, 0.20480521, 0.11102386, 0.03477795, 0.14763145,\n",
       "       0.04442713, 0.10382171, 0.03575907, 0.02391565, 0.01517343,\n",
       "       0.74658188, 0.23062046, 0.02616969, 0.02395417, 0.13171614,\n",
       "       0.50124222, 0.00299167, 0.10710339, 0.23671747, 0.03207074,\n",
       "       0.2329487 , 0.02711565, 0.0363239 , 0.0819136 , 0.05182618,\n",
       "       0.40668593, 0.00956784, 0.20559858, 0.03159722, 0.01384121,\n",
       "       0.08862547, 0.56756941, 0.03888238, 0.6611061 , 0.01082818,\n",
       "       0.18702581, 0.1973093 , 0.02937296, 0.04024583, 0.25209905,\n",
       "       0.01650067, 0.70575501, 0.00459264, 0.30098581, 0.07479848,\n",
       "       0.03787444, 0.61167434, 0.01950746, 0.0122648 , 0.04273135,\n",
       "       0.03470182, 0.66531582, 0.04847937, 0.0577155 , 0.02709257,\n",
       "       0.0629494 , 0.06517454, 0.00770689, 0.74462966, 0.53049749,\n",
       "       0.18594278, 0.0699058 , 0.05602231, 0.02908815, 0.10874125,\n",
       "       0.05968541, 0.01052429, 0.13090351, 0.05872183, 0.04225315,\n",
       "       0.88086176, 0.01124699, 0.03286231, 0.06495729, 0.52884997,\n",
       "       0.01459981, 0.02109165, 0.09314095, 0.05140721, 0.25762511,\n",
       "       0.0125867 , 0.04274125, 0.05857529, 0.10162711, 0.91741711,\n",
       "       0.04534004, 0.08427439, 0.13395475, 0.00970761, 0.04872875,\n",
       "       0.1157436 , 0.05726585, 0.04750485, 0.29052795, 0.00225635,\n",
       "       0.05932615, 0.0901597 , 0.15296137, 0.15893444, 0.00227292,\n",
       "       0.03495577, 0.18128633, 0.12175897, 0.24695465, 0.05587408,\n",
       "       0.5138947 , 0.22986017, 0.31051972, 0.21487906, 0.39682009,\n",
       "       0.90581289, 0.1453674 , 0.04077495, 0.07960179, 0.51455998,\n",
       "       0.02492771, 0.16049477, 0.05519727, 0.84833478, 0.03019359,\n",
       "       0.0533943 , 0.4705217 , 0.03141575, 0.04040656, 0.06634594,\n",
       "       0.02881547, 0.01395719, 0.11714595, 0.05610656, 0.01323419,\n",
       "       0.05941135, 0.06872808, 0.05157431, 0.32174089, 0.13931148,\n",
       "       0.03481886, 0.05583608, 0.54700793, 0.07166753, 0.02707168,\n",
       "       0.02705737, 0.01842544, 0.24984196, 0.02759985, 0.03309389,\n",
       "       0.08285025, 0.07968525, 0.00894447, 0.18904019, 0.05838894,\n",
       "       0.57814428, 0.06131637, 0.12747306, 0.2551787 , 0.02923462,\n",
       "       0.07453353, 0.09381961, 0.03284561, 0.05883933, 0.07466462,\n",
       "       0.04983212, 0.62544644, 0.03141791, 0.01670815, 0.0285106 ,\n",
       "       0.19418155, 0.17192492, 0.29917218, 0.01564759, 0.01752351,\n",
       "       0.13983228, 0.16069108, 0.05657248, 0.22017974, 0.06421157,\n",
       "       0.04101509, 0.04406237, 0.27326388, 0.01104148, 0.03846008,\n",
       "       0.02864193, 0.18359378, 0.00960514, 0.04765316, 0.05216465,\n",
       "       0.78798621, 0.05997971, 0.03994836, 0.44618933, 0.19234138,\n",
       "       0.37907593, 0.16365243, 0.57976862, 0.09732769, 0.06466842,\n",
       "       0.1451048 , 0.07631686, 0.03694702, 0.02485277, 0.05403413,\n",
       "       0.23840674, 0.04890349, 0.15371359, 0.10815592, 0.05835173,\n",
       "       0.06096289, 0.08932988, 0.00497483, 0.33612471, 0.09177103,\n",
       "       0.15327212, 0.08075491, 0.09148071, 0.31819564, 0.02033267,\n",
       "       0.05878235, 0.04667735, 0.07560035, 0.1123268 , 0.00362111,\n",
       "       0.20137868, 0.01017652, 0.09899881, 0.03888621, 0.01272536,\n",
       "       0.24838044, 0.09120234, 0.04009144, 0.0071505 , 0.11238231,\n",
       "       0.13732539, 0.52258771, 0.02432045, 0.64127425, 0.01867503,\n",
       "       0.02081398, 0.03841104, 0.01357054, 0.0319199 , 0.06154953,\n",
       "       0.22159216, 0.02370969, 0.07694836, 0.0385508 , 0.06731482,\n",
       "       0.02126451, 0.58171907, 0.03962355, 0.02308191, 0.3421864 ,\n",
       "       0.85145464, 0.66824536, 0.05509419, 0.04320674, 0.0940189 ,\n",
       "       0.04750735, 0.0710375 , 0.13257598, 0.02285429, 0.07991804,\n",
       "       0.02632635, 0.02789902, 0.03493945, 0.11393012, 0.01793626,\n",
       "       0.78853468, 0.28253811, 0.06438827, 0.02812761, 0.03385548,\n",
       "       0.12828497, 0.10556094, 0.08652718, 0.42277674, 0.02201044,\n",
       "       0.08815585, 0.05053708, 0.07985658, 0.04077925, 0.00922727,\n",
       "       0.05272935, 0.10068506, 0.64632362, 0.0494153 , 0.04665783,\n",
       "       0.11363476, 0.13758328, 0.03931476, 0.08325998, 0.04199237,\n",
       "       0.36211898, 0.02288526, 0.28144251, 0.28702753, 0.10385349,\n",
       "       0.03280102, 0.02064886, 0.14209679, 0.01508199, 0.04095384,\n",
       "       0.08286831, 0.01426427, 0.02158012, 0.20694796, 0.05138724,\n",
       "       0.07483407, 0.05404652, 0.03535658, 0.42798514, 0.00293453,\n",
       "       0.0116317 , 0.04288253, 0.6886757 , 0.89153435, 0.98846497,\n",
       "       0.06218743, 0.03406164, 0.52330281, 0.11035685, 0.02729467,\n",
       "       0.05825693, 0.09370992, 0.1005331 , 0.01608082, 0.80267011,\n",
       "       0.10219875, 0.3088451 , 0.278384  , 0.03545373, 0.03154437,\n",
       "       0.08919911, 0.05073841, 0.55377607, 0.09185958, 0.23676622,\n",
       "       0.07210503, 0.18203275, 0.02911396, 0.01754718, 0.03835885,\n",
       "       0.01533329, 0.08024068, 0.17519808, 0.17646063, 0.63516093,\n",
       "       0.0663248 , 0.01849332, 0.09938501, 0.01272273, 0.01483859,\n",
       "       0.0793573 , 0.04793212, 0.03433476, 0.05490138, 0.2092917 ,\n",
       "       0.08893697, 0.2631554 , 0.03200949, 0.03864367, 0.07035221,\n",
       "       0.03191867, 0.2332293 , 0.18701262, 0.03946942, 0.01605415,\n",
       "       0.06040519, 0.01785959, 0.04581651, 0.08802964, 0.09128696,\n",
       "       0.90120215, 0.09154946, 0.1771537 , 0.13619395, 0.43878769,\n",
       "       0.0909564 , 0.03642215, 0.01970732, 0.02449273, 0.08210778,\n",
       "       0.02315028, 0.21332889, 0.08658803, 0.0519496 , 0.41186801,\n",
       "       0.0888868 , 0.1285183 , 0.08316551, 0.07837628, 0.08490457,\n",
       "       0.02198233, 0.09011468, 0.44545209, 0.16932116, 0.05174777,\n",
       "       0.01789215, 0.0732754 , 0.174183  , 0.09585317, 0.07221256,\n",
       "       0.00621304, 0.0233542 , 0.04182277, 0.17053231, 0.35885378,\n",
       "       0.69336252, 0.38405236, 0.28078191, 0.05521902, 0.12688064,\n",
       "       0.10219792, 0.01431596, 0.12842552, 0.05543762, 0.86096959,\n",
       "       0.18550813, 0.03778493, 0.28985743, 0.19180938, 0.02393541,\n",
       "       0.46574841, 0.0346761 , 0.01488109, 0.4693331 , 0.03257298,\n",
       "       0.07084245, 0.03907148, 0.1757226 , 0.0894844 , 0.22258345,\n",
       "       0.03247627, 0.64993411, 0.11016373, 0.07339664, 0.06560648,\n",
       "       0.69577924, 0.02846256, 0.14372923, 0.01147289, 0.03683713,\n",
       "       0.06229764, 0.06478994, 0.03645979, 0.11016058, 0.32405443,\n",
       "       0.11918706, 0.21918692, 0.14758652, 0.28234409, 0.02521432,\n",
       "       0.04092629, 0.19918187, 0.06366678, 0.06178698, 0.01880761,\n",
       "       0.16222653, 0.15060133, 0.04565727, 0.01405038, 0.84849752,\n",
       "       0.06134282, 0.34005101, 0.08203307, 0.15025417, 0.28943959,\n",
       "       0.10384966, 0.104746  , 0.00903053, 0.37710621, 0.19492845,\n",
       "       0.92300095, 0.0196747 , 0.23751564, 0.05089687, 0.07640036,\n",
       "       0.07144353, 0.13664353, 0.01206256, 0.88687801, 0.88162658,\n",
       "       0.13432578, 0.01540542, 0.09985692, 0.06950493, 0.10587971,\n",
       "       0.0975795 , 0.05149021, 0.06184228, 0.03954221, 0.3189793 ,\n",
       "       0.06271374, 0.01500345, 0.18952521, 0.76177348, 0.0872471 ,\n",
       "       0.07737964, 0.35251482, 0.36906314, 0.22740074, 0.06263355,\n",
       "       0.05039458, 0.53440823, 0.12037504, 0.0904937 , 0.05050337,\n",
       "       0.65526432, 0.04610563, 0.03354742, 0.11044098, 0.17323066,\n",
       "       0.02294238, 0.00904324, 0.02980309, 0.08014726, 0.07371715,\n",
       "       0.72740428, 0.46660289, 0.21754529, 0.02473683, 0.04997198,\n",
       "       0.49891929, 0.04662877, 0.06463243, 0.04681086, 0.01062768,\n",
       "       0.03088796, 0.40618287, 0.01685735, 0.40920183, 0.23249336,\n",
       "       0.15690834, 0.03456627, 0.3238372 , 0.1829934 , 0.02555261,\n",
       "       0.04106651, 0.18663992, 0.08447643, 0.58690567, 0.03029294,\n",
       "       0.03387406, 0.15166884, 0.16235059, 0.02303542, 0.2067143 ,\n",
       "       0.08312538, 0.25794073, 0.35140963, 0.07641403, 0.15950112,\n",
       "       0.29653191, 0.24551109, 0.35106848, 0.11940165, 0.01803782,\n",
       "       0.31945225, 0.06487575, 0.03347898, 0.06897933, 0.18358537,\n",
       "       0.04279098, 0.19853718, 0.0538011 , 0.5443176 , 0.07964762,\n",
       "       0.02518961, 0.23078478, 0.19047746, 0.08292042, 0.04155031,\n",
       "       0.01099991, 0.02279274, 0.03218726, 0.57645204, 0.03995738,\n",
       "       0.10423903, 0.10347267, 0.04836938, 0.09263028, 0.03804328,\n",
       "       0.04829845, 0.02137085, 0.06521008, 0.02697503, 0.02287388,\n",
       "       0.4493866 , 0.07919471, 0.04856256, 0.03770343, 0.03721503,\n",
       "       0.08109229, 0.07326617, 0.30136493, 0.03972695, 0.26291726,\n",
       "       0.19194918, 0.03681072, 0.66873672, 0.04533469, 0.06294189,\n",
       "       0.01976644, 0.08339815, 0.09176377, 0.017798  , 0.02348418,\n",
       "       0.1262526 , 0.0813672 , 0.05455052, 0.14902697, 0.07647697,\n",
       "       0.05167101, 0.02746981, 0.06571143, 0.11346901, 0.05611631,\n",
       "       0.06511276, 0.02521461, 0.19082107, 0.08759785, 0.28239496,\n",
       "       0.04415964, 0.01520064, 0.16041041, 0.04879238, 0.20971571,\n",
       "       0.01173086, 0.0431783 , 0.18471876, 0.02217584, 0.04161713,\n",
       "       0.11198328, 0.15929317, 0.0292976 , 0.05411135, 0.06222292,\n",
       "       0.0185422 , 0.52405622, 0.03187127, 0.07410157, 0.33234307,\n",
       "       0.04515845, 0.21880659, 0.0200363 , 0.05843952, 0.19599133,\n",
       "       0.13417948, 0.22164875, 0.37614332, 0.12699911, 0.00645443,\n",
       "       0.01100041, 0.08981069, 0.05503808, 0.21793841, 0.52294707,\n",
       "       0.177173  , 0.91993162, 0.0800753 , 0.10998899, 0.06553716,\n",
       "       0.052208  , 0.31765237, 0.51650587, 0.16674631, 0.01256755,\n",
       "       0.56204238, 0.56923611, 0.02910976, 0.10094121, 0.08245994,\n",
       "       0.22668141, 0.19885096, 0.02943651, 0.01920578, 0.17964925,\n",
       "       0.1144251 , 0.01955857, 0.0329227 , 0.45316517, 0.40004851,\n",
       "       0.21981626, 0.05158011, 0.19024567, 0.84835064, 0.03540951,\n",
       "       0.04273373, 0.09577147, 0.12150319, 0.07619292, 0.03265143,\n",
       "       0.09910981, 0.02025834, 0.02042677, 0.05385291, 0.02403045,\n",
       "       0.07124998, 0.06943725, 0.05419019, 0.07334896, 0.07936305])"
      ]
     },
     "execution_count": 79,
     "metadata": {},
     "output_type": "execute_result"
    }
   ],
   "source": [
    "pred_prob_test[:,1]"
   ]
  },
  {
   "cell_type": "code",
   "execution_count": 74,
   "metadata": {
    "ExecuteTime": {
     "end_time": "2020-07-31T11:26:32.942693Z",
     "start_time": "2020-07-31T11:26:32.935713Z"
    },
    "scrolled": true
   },
   "outputs": [],
   "source": [
    "#Predicting the classes on the test data\n",
    "\n",
    "data_pred_custom_cutoff=[]\n",
    "for i in range(0,len(pred_prob_test[:,1])):\n",
    "    if np.array(pred_prob_test[:,1])[i]>0.2:\n",
    "        a=1\n",
    "    else:\n",
    "        a=0\n",
    "    data_pred_custom_cutoff.append(a)"
   ]
  },
  {
   "cell_type": "code",
   "execution_count": 75,
   "metadata": {
    "ExecuteTime": {
     "end_time": "2020-07-31T11:26:33.307717Z",
     "start_time": "2020-07-31T11:26:32.943690Z"
    },
    "scrolled": false
   },
   "outputs": [
    {
     "data": {
      "image/png": "[encoded data removed]",
      "text/plain": [
       "<Figure size 576x288 with 2 Axes>"
      ]
     },
     "metadata": {
      "needs_background": "light"
     },
     "output_type": "display_data"
    }
   ],
   "source": [
    "sns.heatmap((metrics.confusion_matrix(Y_test,data_pred_custom_cutoff)),annot=True,fmt='.5g',cmap='Greys');"
   ]
  },
  {
   "cell_type": "code",
   "execution_count": 76,
   "metadata": {
    "ExecuteTime": {
     "end_time": "2020-07-31T11:26:33.353593Z",
     "start_time": "2020-07-31T11:26:33.313701Z"
    },
    "scrolled": false
   },
   "outputs": [
    {
     "name": "stdout",
     "output_type": "stream",
     "text": [
      "Classification Report of the default cut-off test data:\n",
      "\n",
      "               precision    recall  f1-score   support\n",
      "\n",
      "         0.0       0.89      0.95      0.92       855\n",
      "         1.0       0.48      0.28      0.35       145\n",
      "\n",
      "    accuracy                           0.85      1000\n",
      "   macro avg       0.68      0.61      0.63      1000\n",
      "weighted avg       0.83      0.85      0.83      1000\n",
      " \n",
      "\n",
      "\n",
      "\n",
      "Classification Report of the custom cut-off test data:\n",
      "\n",
      "               precision    recall  f1-score   support\n",
      "\n",
      "         0.0       0.93      0.85      0.89       855\n",
      "         1.0       0.40      0.60      0.48       145\n",
      "\n",
      "    accuracy                           0.81      1000\n",
      "   macro avg       0.66      0.72      0.68      1000\n",
      "weighted avg       0.85      0.81      0.83      1000\n",
      " \n",
      "\n"
     ]
    }
   ],
   "source": [
    "print('Classification Report of the default cut-off test data:\\n\\n',metrics.classification_report(Y_test,pred_class_test),'\\n\\n\\n')\n",
    "print('Classification Report of the custom cut-off test data:\\n\\n',metrics.classification_report(Y_test,data_pred_custom_cutoff),'\\n')"
   ]
  },
  {
   "cell_type": "markdown",
   "metadata": {},
   "source": [
    "# END"
   ]
  }
 ],
 "metadata": {
  "kernelspec": {
   "display_name": "Python 3",
   "language": "python",
   "name": "python3"
  },
  "language_info": {
   "codemirror_mode": {
    "name": "ipython",
    "version": 3
   },
   "file_extension": ".py",
   "mimetype": "text/x-python",
   "name": "python",
   "nbconvert_exporter": "python",
   "pygments_lexer": "ipython3",
   "version": "3.8.3"
  },
  "toc": {
   "base_numbering": 1,
   "nav_menu": {},
   "number_sections": true,
   "sideBar": true,
   "skip_h1_title": false,
   "title_cell": "Table of Contents",
   "title_sidebar": "Contents",
   "toc_cell": false,
   "toc_position": {},
   "toc_section_display": true,
   "toc_window_display": false
  },
  "varInspector": {
   "cols": {
    "lenName": 16,
    "lenType": 16,
    "lenVar": 40
   },
   "kernels_config": {
    "python": {
     "delete_cmd_postfix": "",
     "delete_cmd_prefix": "del ",
     "library": "var_list.py",
     "varRefreshCmd": "print(var_dic_list())"
    },
    "r": {
     "delete_cmd_postfix": ") ",
     "delete_cmd_prefix": "rm(",
     "library": "var_list.r",
     "varRefreshCmd": "cat(var_dic_list()) "
    }
   },
   "types_to_exclude": [
    "module",
    "function",
    "builtin_function_or_method",
    "instance",
    "_Feature"
   ],
   "window_display": false
  }
 },
 "nbformat": 4,
 "nbformat_minor": 2
}
