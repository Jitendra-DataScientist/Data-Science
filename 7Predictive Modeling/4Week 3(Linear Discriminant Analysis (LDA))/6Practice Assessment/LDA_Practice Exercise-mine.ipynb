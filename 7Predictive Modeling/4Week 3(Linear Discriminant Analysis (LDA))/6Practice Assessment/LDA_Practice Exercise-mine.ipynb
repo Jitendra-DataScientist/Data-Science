{
 "cells": [
  {
   "cell_type": "markdown",
   "metadata": {},
   "source": [
    "# Import the necessary libraries."
   ]
  },
  {
   "cell_type": "code",
   "execution_count": 1,
   "metadata": {},
   "outputs": [],
   "source": [
    "#Import all necessary modules\n",
    "import pandas as pd  ###Software library written for the Python programming language for data manipulation and analysis.\n",
    "import numpy as np ### fundamental package for scientific computing with Python\n",
    "import os ### using operating system dependent functionality\n",
    "import matplotlib.pyplot as plt \n",
    "plt.rc(\"font\", size=14)\n",
    "import seaborn as sns\n",
    "sns.set(style=\"white\")\n",
    "sns.set(style=\"whitegrid\", color_codes=True)\n",
    "\n",
    "from sklearn.discriminant_analysis import LinearDiscriminantAnalysis\n",
    "from sklearn.metrics import confusion_matrix,classification_report,roc_auc_score,roc_curve\n",
    "from sklearn.preprocessing import scale\n",
    "from sklearn.model_selection import train_test_split"
   ]
  },
  {
   "cell_type": "markdown",
   "metadata": {},
   "source": [
    "# Load the dataset and check the first 10 rows of the dataset."
   ]
  },
  {
   "cell_type": "code",
   "execution_count": 3,
   "metadata": {},
   "outputs": [
    {
     "data": {
      "text/html": [
       "<div>\n",
       "<style scoped>\n",
       "    .dataframe tbody tr th:only-of-type {\n",
       "        vertical-align: middle;\n",
       "    }\n",
       "\n",
       "    .dataframe tbody tr th {\n",
       "        vertical-align: top;\n",
       "    }\n",
       "\n",
       "    .dataframe thead th {\n",
       "        text-align: right;\n",
       "    }\n",
       "</style>\n",
       "<table border=\"1\" class=\"dataframe\">\n",
       "  <thead>\n",
       "    <tr style=\"text-align: right;\">\n",
       "      <th></th>\n",
       "      <th>Cust_ID</th>\n",
       "      <th>Target</th>\n",
       "      <th>Age</th>\n",
       "      <th>Gender</th>\n",
       "      <th>Balance</th>\n",
       "      <th>Occupation</th>\n",
       "      <th>No_OF_CR_TXNS</th>\n",
       "      <th>SCR</th>\n",
       "      <th>Holding_Period</th>\n",
       "    </tr>\n",
       "  </thead>\n",
       "  <tbody>\n",
       "    <tr>\n",
       "      <th>0</th>\n",
       "      <td>C1</td>\n",
       "      <td>0</td>\n",
       "      <td>30</td>\n",
       "      <td>M</td>\n",
       "      <td>160378.60</td>\n",
       "      <td>SAL</td>\n",
       "      <td>2</td>\n",
       "      <td>826</td>\n",
       "      <td>9</td>\n",
       "    </tr>\n",
       "    <tr>\n",
       "      <th>1</th>\n",
       "      <td>C10</td>\n",
       "      <td>1</td>\n",
       "      <td>41</td>\n",
       "      <td>M</td>\n",
       "      <td>84370.59</td>\n",
       "      <td>SELF-EMP</td>\n",
       "      <td>14</td>\n",
       "      <td>843</td>\n",
       "      <td>9</td>\n",
       "    </tr>\n",
       "    <tr>\n",
       "      <th>2</th>\n",
       "      <td>C100</td>\n",
       "      <td>0</td>\n",
       "      <td>49</td>\n",
       "      <td>F</td>\n",
       "      <td>60849.26</td>\n",
       "      <td>PROF</td>\n",
       "      <td>49</td>\n",
       "      <td>328</td>\n",
       "      <td>26</td>\n",
       "    </tr>\n",
       "    <tr>\n",
       "      <th>3</th>\n",
       "      <td>C1000</td>\n",
       "      <td>0</td>\n",
       "      <td>49</td>\n",
       "      <td>M</td>\n",
       "      <td>10558.81</td>\n",
       "      <td>SAL</td>\n",
       "      <td>23</td>\n",
       "      <td>619</td>\n",
       "      <td>19</td>\n",
       "    </tr>\n",
       "    <tr>\n",
       "      <th>4</th>\n",
       "      <td>C10000</td>\n",
       "      <td>0</td>\n",
       "      <td>43</td>\n",
       "      <td>M</td>\n",
       "      <td>97100.48</td>\n",
       "      <td>SENP</td>\n",
       "      <td>3</td>\n",
       "      <td>397</td>\n",
       "      <td>8</td>\n",
       "    </tr>\n",
       "    <tr>\n",
       "      <th>5</th>\n",
       "      <td>C10001</td>\n",
       "      <td>0</td>\n",
       "      <td>30</td>\n",
       "      <td>M</td>\n",
       "      <td>160378.60</td>\n",
       "      <td>SAL</td>\n",
       "      <td>2</td>\n",
       "      <td>781</td>\n",
       "      <td>11</td>\n",
       "    </tr>\n",
       "    <tr>\n",
       "      <th>6</th>\n",
       "      <td>C10002</td>\n",
       "      <td>0</td>\n",
       "      <td>43</td>\n",
       "      <td>M</td>\n",
       "      <td>26275.55</td>\n",
       "      <td>PROF</td>\n",
       "      <td>23</td>\n",
       "      <td>354</td>\n",
       "      <td>12</td>\n",
       "    </tr>\n",
       "    <tr>\n",
       "      <th>7</th>\n",
       "      <td>C10003</td>\n",
       "      <td>0</td>\n",
       "      <td>53</td>\n",
       "      <td>M</td>\n",
       "      <td>33616.47</td>\n",
       "      <td>SAL</td>\n",
       "      <td>45</td>\n",
       "      <td>239</td>\n",
       "      <td>5</td>\n",
       "    </tr>\n",
       "    <tr>\n",
       "      <th>8</th>\n",
       "      <td>C10004</td>\n",
       "      <td>0</td>\n",
       "      <td>45</td>\n",
       "      <td>M</td>\n",
       "      <td>1881.37</td>\n",
       "      <td>PROF</td>\n",
       "      <td>3</td>\n",
       "      <td>339</td>\n",
       "      <td>13</td>\n",
       "    </tr>\n",
       "    <tr>\n",
       "      <th>9</th>\n",
       "      <td>C10005</td>\n",
       "      <td>0</td>\n",
       "      <td>37</td>\n",
       "      <td>M</td>\n",
       "      <td>3274.37</td>\n",
       "      <td>PROF</td>\n",
       "      <td>33</td>\n",
       "      <td>535</td>\n",
       "      <td>9</td>\n",
       "    </tr>\n",
       "  </tbody>\n",
       "</table>\n",
       "</div>"
      ],
      "text/plain": [
       "  Cust_ID  Target  Age Gender    Balance Occupation  No_OF_CR_TXNS  SCR  \\\n",
       "0      C1       0   30      M  160378.60        SAL              2  826   \n",
       "1     C10       1   41      M   84370.59   SELF-EMP             14  843   \n",
       "2    C100       0   49      F   60849.26       PROF             49  328   \n",
       "3   C1000       0   49      M   10558.81        SAL             23  619   \n",
       "4  C10000       0   43      M   97100.48       SENP              3  397   \n",
       "5  C10001       0   30      M  160378.60        SAL              2  781   \n",
       "6  C10002       0   43      M   26275.55       PROF             23  354   \n",
       "7  C10003       0   53      M   33616.47        SAL             45  239   \n",
       "8  C10004       0   45      M    1881.37       PROF              3  339   \n",
       "9  C10005       0   37      M    3274.37       PROF             33  535   \n",
       "\n",
       "   Holding_Period  \n",
       "0               9  \n",
       "1               9  \n",
       "2              26  \n",
       "3              19  \n",
       "4               8  \n",
       "5              11  \n",
       "6              12  \n",
       "7               5  \n",
       "8              13  \n",
       "9               9  "
      ]
     },
     "execution_count": 3,
     "metadata": {},
     "output_type": "execute_result"
    }
   ],
   "source": [
    "df = pd.read_csv('CreditBank.csv')\n",
    "df.head(10)"
   ]
  },
  {
   "cell_type": "code",
   "execution_count": 4,
   "metadata": {},
   "outputs": [
    {
     "name": "stdout",
     "output_type": "stream",
     "text": [
      "<class 'pandas.core.frame.DataFrame'>\n",
      "RangeIndex: 20000 entries, 0 to 19999\n",
      "Data columns (total 9 columns):\n",
      " #   Column          Non-Null Count  Dtype  \n",
      "---  ------          --------------  -----  \n",
      " 0   Cust_ID         20000 non-null  object \n",
      " 1   Target          20000 non-null  int64  \n",
      " 2   Age             20000 non-null  int64  \n",
      " 3   Gender          20000 non-null  object \n",
      " 4   Balance         20000 non-null  float64\n",
      " 5   Occupation      20000 non-null  object \n",
      " 6   No_OF_CR_TXNS   20000 non-null  int64  \n",
      " 7   SCR             20000 non-null  int64  \n",
      " 8   Holding_Period  20000 non-null  int64  \n",
      "dtypes: float64(1), int64(5), object(3)\n",
      "memory usage: 1.4+ MB\n"
     ]
    }
   ],
   "source": [
    "df.info()"
   ]
  },
  {
   "cell_type": "markdown",
   "metadata": {},
   "source": [
    "# Drop the column which is not useful to us in the Linear Discriminant Analysis algorithm."
   ]
  },
  {
   "cell_type": "code",
   "execution_count": 5,
   "metadata": {},
   "outputs": [],
   "source": [
    "data_df = df.drop('Cust_ID',axis=1)"
   ]
  },
  {
   "cell_type": "markdown",
   "metadata": {},
   "source": [
    "# Check the basic measures of Descriptive Statistics of the dataframe."
   ]
  },
  {
   "cell_type": "code",
   "execution_count": 8,
   "metadata": {},
   "outputs": [
    {
     "data": {
      "text/html": [
       "<div>\n",
       "<style scoped>\n",
       "    .dataframe tbody tr th:only-of-type {\n",
       "        vertical-align: middle;\n",
       "    }\n",
       "\n",
       "    .dataframe tbody tr th {\n",
       "        vertical-align: top;\n",
       "    }\n",
       "\n",
       "    .dataframe thead th {\n",
       "        text-align: right;\n",
       "    }\n",
       "</style>\n",
       "<table border=\"1\" class=\"dataframe\">\n",
       "  <thead>\n",
       "    <tr style=\"text-align: right;\">\n",
       "      <th></th>\n",
       "      <th>count</th>\n",
       "      <th>mean</th>\n",
       "      <th>std</th>\n",
       "      <th>min</th>\n",
       "      <th>25%</th>\n",
       "      <th>50%</th>\n",
       "      <th>75%</th>\n",
       "      <th>max</th>\n",
       "    </tr>\n",
       "  </thead>\n",
       "  <tbody>\n",
       "    <tr>\n",
       "      <th>Target</th>\n",
       "      <td>20000.0</td>\n",
       "      <td>0.086650</td>\n",
       "      <td>0.281329</td>\n",
       "      <td>0.0</td>\n",
       "      <td>0.000</td>\n",
       "      <td>0.000</td>\n",
       "      <td>0.0000</td>\n",
       "      <td>1.00</td>\n",
       "    </tr>\n",
       "    <tr>\n",
       "      <th>Age</th>\n",
       "      <td>20000.0</td>\n",
       "      <td>38.396200</td>\n",
       "      <td>9.600179</td>\n",
       "      <td>21.0</td>\n",
       "      <td>30.000</td>\n",
       "      <td>38.000</td>\n",
       "      <td>47.0000</td>\n",
       "      <td>55.00</td>\n",
       "    </tr>\n",
       "    <tr>\n",
       "      <th>Balance</th>\n",
       "      <td>20000.0</td>\n",
       "      <td>146181.305626</td>\n",
       "      <td>169812.527447</td>\n",
       "      <td>0.0</td>\n",
       "      <td>23736.915</td>\n",
       "      <td>79755.745</td>\n",
       "      <td>217310.6325</td>\n",
       "      <td>1246966.77</td>\n",
       "    </tr>\n",
       "    <tr>\n",
       "      <th>No_OF_CR_TXNS</th>\n",
       "      <td>20000.0</td>\n",
       "      <td>16.653050</td>\n",
       "      <td>12.977704</td>\n",
       "      <td>0.0</td>\n",
       "      <td>7.000</td>\n",
       "      <td>13.000</td>\n",
       "      <td>22.0000</td>\n",
       "      <td>50.00</td>\n",
       "    </tr>\n",
       "    <tr>\n",
       "      <th>SCR</th>\n",
       "      <td>20000.0</td>\n",
       "      <td>557.136050</td>\n",
       "      <td>260.521453</td>\n",
       "      <td>100.0</td>\n",
       "      <td>333.000</td>\n",
       "      <td>560.000</td>\n",
       "      <td>784.0000</td>\n",
       "      <td>999.00</td>\n",
       "    </tr>\n",
       "    <tr>\n",
       "      <th>Holding_Period</th>\n",
       "      <td>20000.0</td>\n",
       "      <td>15.344100</td>\n",
       "      <td>8.952128</td>\n",
       "      <td>1.0</td>\n",
       "      <td>8.000</td>\n",
       "      <td>16.000</td>\n",
       "      <td>23.0000</td>\n",
       "      <td>31.00</td>\n",
       "    </tr>\n",
       "  </tbody>\n",
       "</table>\n",
       "</div>"
      ],
      "text/plain": [
       "                  count           mean            std    min        25%  \\\n",
       "Target          20000.0       0.086650       0.281329    0.0      0.000   \n",
       "Age             20000.0      38.396200       9.600179   21.0     30.000   \n",
       "Balance         20000.0  146181.305626  169812.527447    0.0  23736.915   \n",
       "No_OF_CR_TXNS   20000.0      16.653050      12.977704    0.0      7.000   \n",
       "SCR             20000.0     557.136050     260.521453  100.0    333.000   \n",
       "Holding_Period  20000.0      15.344100       8.952128    1.0      8.000   \n",
       "\n",
       "                      50%          75%         max  \n",
       "Target              0.000       0.0000        1.00  \n",
       "Age                38.000      47.0000       55.00  \n",
       "Balance         79755.745  217310.6325  1246966.77  \n",
       "No_OF_CR_TXNS      13.000      22.0000       50.00  \n",
       "SCR               560.000     784.0000      999.00  \n",
       "Holding_Period     16.000      23.0000       31.00  "
      ]
     },
     "execution_count": 8,
     "metadata": {},
     "output_type": "execute_result"
    }
   ],
   "source": [
    "data_df.describe().T"
   ]
  },
  {
   "cell_type": "code",
   "execution_count": 9,
   "metadata": {},
   "outputs": [
    {
     "data": {
      "text/html": [
       "<div>\n",
       "<style scoped>\n",
       "    .dataframe tbody tr th:only-of-type {\n",
       "        vertical-align: middle;\n",
       "    }\n",
       "\n",
       "    .dataframe tbody tr th {\n",
       "        vertical-align: top;\n",
       "    }\n",
       "\n",
       "    .dataframe thead th {\n",
       "        text-align: right;\n",
       "    }\n",
       "</style>\n",
       "<table border=\"1\" class=\"dataframe\">\n",
       "  <thead>\n",
       "    <tr style=\"text-align: right;\">\n",
       "      <th></th>\n",
       "      <th>count</th>\n",
       "      <th>unique</th>\n",
       "      <th>top</th>\n",
       "      <th>freq</th>\n",
       "    </tr>\n",
       "  </thead>\n",
       "  <tbody>\n",
       "    <tr>\n",
       "      <th>Gender</th>\n",
       "      <td>20000</td>\n",
       "      <td>3</td>\n",
       "      <td>M</td>\n",
       "      <td>14279</td>\n",
       "    </tr>\n",
       "    <tr>\n",
       "      <th>Occupation</th>\n",
       "      <td>20000</td>\n",
       "      <td>4</td>\n",
       "      <td>SAL</td>\n",
       "      <td>5839</td>\n",
       "    </tr>\n",
       "  </tbody>\n",
       "</table>\n",
       "</div>"
      ],
      "text/plain": [
       "            count unique  top   freq\n",
       "Gender      20000      3    M  14279\n",
       "Occupation  20000      4  SAL   5839"
      ]
     },
     "execution_count": 9,
     "metadata": {},
     "output_type": "execute_result"
    }
   ],
   "source": [
    "data_df.describe(include='object').T"
   ]
  },
  {
   "cell_type": "markdown",
   "metadata": {},
   "source": [
    "# Check the information about the various data types of the variables in the data frame. Also check for missing values."
   ]
  },
  {
   "cell_type": "code",
   "execution_count": null,
   "metadata": {},
   "outputs": [],
   "source": []
  },
  {
   "cell_type": "markdown",
   "metadata": {},
   "source": [
    "# Convert the values into the dummy variables. "
   ]
  },
  {
   "cell_type": "code",
   "execution_count": 10,
   "metadata": {},
   "outputs": [
    {
     "data": {
      "text/html": [
       "<div>\n",
       "<style scoped>\n",
       "    .dataframe tbody tr th:only-of-type {\n",
       "        vertical-align: middle;\n",
       "    }\n",
       "\n",
       "    .dataframe tbody tr th {\n",
       "        vertical-align: top;\n",
       "    }\n",
       "\n",
       "    .dataframe thead th {\n",
       "        text-align: right;\n",
       "    }\n",
       "</style>\n",
       "<table border=\"1\" class=\"dataframe\">\n",
       "  <thead>\n",
       "    <tr style=\"text-align: right;\">\n",
       "      <th></th>\n",
       "      <th>Target</th>\n",
       "      <th>Age</th>\n",
       "      <th>Balance</th>\n",
       "      <th>No_OF_CR_TXNS</th>\n",
       "      <th>SCR</th>\n",
       "      <th>Holding_Period</th>\n",
       "      <th>Gender_M</th>\n",
       "      <th>Gender_O</th>\n",
       "      <th>Occupation_SAL</th>\n",
       "      <th>Occupation_SELF-EMP</th>\n",
       "      <th>Occupation_SENP</th>\n",
       "    </tr>\n",
       "  </thead>\n",
       "  <tbody>\n",
       "    <tr>\n",
       "      <th>0</th>\n",
       "      <td>0</td>\n",
       "      <td>30</td>\n",
       "      <td>160378.60</td>\n",
       "      <td>2</td>\n",
       "      <td>826</td>\n",
       "      <td>9</td>\n",
       "      <td>1</td>\n",
       "      <td>0</td>\n",
       "      <td>1</td>\n",
       "      <td>0</td>\n",
       "      <td>0</td>\n",
       "    </tr>\n",
       "    <tr>\n",
       "      <th>1</th>\n",
       "      <td>1</td>\n",
       "      <td>41</td>\n",
       "      <td>84370.59</td>\n",
       "      <td>14</td>\n",
       "      <td>843</td>\n",
       "      <td>9</td>\n",
       "      <td>1</td>\n",
       "      <td>0</td>\n",
       "      <td>0</td>\n",
       "      <td>1</td>\n",
       "      <td>0</td>\n",
       "    </tr>\n",
       "    <tr>\n",
       "      <th>2</th>\n",
       "      <td>0</td>\n",
       "      <td>49</td>\n",
       "      <td>60849.26</td>\n",
       "      <td>49</td>\n",
       "      <td>328</td>\n",
       "      <td>26</td>\n",
       "      <td>0</td>\n",
       "      <td>0</td>\n",
       "      <td>0</td>\n",
       "      <td>0</td>\n",
       "      <td>0</td>\n",
       "    </tr>\n",
       "    <tr>\n",
       "      <th>3</th>\n",
       "      <td>0</td>\n",
       "      <td>49</td>\n",
       "      <td>10558.81</td>\n",
       "      <td>23</td>\n",
       "      <td>619</td>\n",
       "      <td>19</td>\n",
       "      <td>1</td>\n",
       "      <td>0</td>\n",
       "      <td>1</td>\n",
       "      <td>0</td>\n",
       "      <td>0</td>\n",
       "    </tr>\n",
       "    <tr>\n",
       "      <th>4</th>\n",
       "      <td>0</td>\n",
       "      <td>43</td>\n",
       "      <td>97100.48</td>\n",
       "      <td>3</td>\n",
       "      <td>397</td>\n",
       "      <td>8</td>\n",
       "      <td>1</td>\n",
       "      <td>0</td>\n",
       "      <td>0</td>\n",
       "      <td>0</td>\n",
       "      <td>1</td>\n",
       "    </tr>\n",
       "  </tbody>\n",
       "</table>\n",
       "</div>"
      ],
      "text/plain": [
       "   Target  Age    Balance  No_OF_CR_TXNS  SCR  Holding_Period  Gender_M  \\\n",
       "0       0   30  160378.60              2  826               9         1   \n",
       "1       1   41   84370.59             14  843               9         1   \n",
       "2       0   49   60849.26             49  328              26         0   \n",
       "3       0   49   10558.81             23  619              19         1   \n",
       "4       0   43   97100.48              3  397               8         1   \n",
       "\n",
       "   Gender_O  Occupation_SAL  Occupation_SELF-EMP  Occupation_SENP  \n",
       "0         0               1                    0                0  \n",
       "1         0               0                    1                0  \n",
       "2         0               0                    0                0  \n",
       "3         0               1                    0                0  \n",
       "4         0               0                    0                1  "
      ]
     },
     "execution_count": 10,
     "metadata": {},
     "output_type": "execute_result"
    }
   ],
   "source": [
    "data_df = pd.get_dummies(data_df,drop_first=True)\n",
    "data_df.head()"
   ]
  },
  {
   "cell_type": "markdown",
   "metadata": {},
   "source": [
    "# Plot the correlation heatmap of the predictor variables."
   ]
  },
  {
   "cell_type": "code",
   "execution_count": 14,
   "metadata": {},
   "outputs": [
    {
     "data": {
      "text/html": [
       "<div>\n",
       "<style scoped>\n",
       "    .dataframe tbody tr th:only-of-type {\n",
       "        vertical-align: middle;\n",
       "    }\n",
       "\n",
       "    .dataframe tbody tr th {\n",
       "        vertical-align: top;\n",
       "    }\n",
       "\n",
       "    .dataframe thead th {\n",
       "        text-align: right;\n",
       "    }\n",
       "</style>\n",
       "<table border=\"1\" class=\"dataframe\">\n",
       "  <thead>\n",
       "    <tr style=\"text-align: right;\">\n",
       "      <th></th>\n",
       "      <th>Age</th>\n",
       "      <th>Balance</th>\n",
       "      <th>No_OF_CR_TXNS</th>\n",
       "      <th>SCR</th>\n",
       "      <th>Holding_Period</th>\n",
       "      <th>Gender_M</th>\n",
       "      <th>Gender_O</th>\n",
       "      <th>Occupation_SAL</th>\n",
       "      <th>Occupation_SELF-EMP</th>\n",
       "      <th>Occupation_SENP</th>\n",
       "    </tr>\n",
       "  </thead>\n",
       "  <tbody>\n",
       "    <tr>\n",
       "      <th>Age</th>\n",
       "      <td>1.000000</td>\n",
       "      <td>-0.146920</td>\n",
       "      <td>0.058350</td>\n",
       "      <td>-0.005501</td>\n",
       "      <td>-0.011765</td>\n",
       "      <td>0.082920</td>\n",
       "      <td>0.014294</td>\n",
       "      <td>0.054031</td>\n",
       "      <td>-0.018301</td>\n",
       "      <td>-0.059572</td>\n",
       "    </tr>\n",
       "    <tr>\n",
       "      <th>Balance</th>\n",
       "      <td>-0.146920</td>\n",
       "      <td>1.000000</td>\n",
       "      <td>-0.135032</td>\n",
       "      <td>-0.015087</td>\n",
       "      <td>0.022917</td>\n",
       "      <td>-0.179496</td>\n",
       "      <td>-0.022501</td>\n",
       "      <td>-0.084633</td>\n",
       "      <td>-0.047212</td>\n",
       "      <td>0.124165</td>\n",
       "    </tr>\n",
       "    <tr>\n",
       "      <th>No_OF_CR_TXNS</th>\n",
       "      <td>0.058350</td>\n",
       "      <td>-0.135032</td>\n",
       "      <td>1.000000</td>\n",
       "      <td>0.003036</td>\n",
       "      <td>-0.026593</td>\n",
       "      <td>0.216527</td>\n",
       "      <td>0.069619</td>\n",
       "      <td>0.230691</td>\n",
       "      <td>0.010132</td>\n",
       "      <td>-0.239398</td>\n",
       "    </tr>\n",
       "    <tr>\n",
       "      <th>SCR</th>\n",
       "      <td>-0.005501</td>\n",
       "      <td>-0.015087</td>\n",
       "      <td>0.003036</td>\n",
       "      <td>1.000000</td>\n",
       "      <td>-0.030739</td>\n",
       "      <td>-0.000934</td>\n",
       "      <td>0.000774</td>\n",
       "      <td>-0.014518</td>\n",
       "      <td>0.014688</td>\n",
       "      <td>0.005216</td>\n",
       "    </tr>\n",
       "    <tr>\n",
       "      <th>Holding_Period</th>\n",
       "      <td>-0.011765</td>\n",
       "      <td>0.022917</td>\n",
       "      <td>-0.026593</td>\n",
       "      <td>-0.030739</td>\n",
       "      <td>1.000000</td>\n",
       "      <td>-0.026714</td>\n",
       "      <td>-0.001329</td>\n",
       "      <td>0.002393</td>\n",
       "      <td>-0.017739</td>\n",
       "      <td>0.016538</td>\n",
       "    </tr>\n",
       "    <tr>\n",
       "      <th>Gender_M</th>\n",
       "      <td>0.082920</td>\n",
       "      <td>-0.179496</td>\n",
       "      <td>0.216527</td>\n",
       "      <td>-0.000934</td>\n",
       "      <td>-0.026714</td>\n",
       "      <td>1.000000</td>\n",
       "      <td>-0.157168</td>\n",
       "      <td>0.224427</td>\n",
       "      <td>0.016810</td>\n",
       "      <td>-0.234147</td>\n",
       "    </tr>\n",
       "    <tr>\n",
       "      <th>Gender_O</th>\n",
       "      <td>0.014294</td>\n",
       "      <td>-0.022501</td>\n",
       "      <td>0.069619</td>\n",
       "      <td>0.000774</td>\n",
       "      <td>-0.001329</td>\n",
       "      <td>-0.157168</td>\n",
       "      <td>1.000000</td>\n",
       "      <td>0.034360</td>\n",
       "      <td>-0.001339</td>\n",
       "      <td>-0.059981</td>\n",
       "    </tr>\n",
       "    <tr>\n",
       "      <th>Occupation_SAL</th>\n",
       "      <td>0.054031</td>\n",
       "      <td>-0.084633</td>\n",
       "      <td>0.230691</td>\n",
       "      <td>-0.014518</td>\n",
       "      <td>0.002393</td>\n",
       "      <td>0.224427</td>\n",
       "      <td>0.034360</td>\n",
       "      <td>1.000000</td>\n",
       "      <td>-0.288856</td>\n",
       "      <td>-0.387152</td>\n",
       "    </tr>\n",
       "    <tr>\n",
       "      <th>Occupation_SELF-EMP</th>\n",
       "      <td>-0.018301</td>\n",
       "      <td>-0.047212</td>\n",
       "      <td>0.010132</td>\n",
       "      <td>0.014688</td>\n",
       "      <td>-0.017739</td>\n",
       "      <td>0.016810</td>\n",
       "      <td>-0.001339</td>\n",
       "      <td>-0.288856</td>\n",
       "      <td>1.000000</td>\n",
       "      <td>-0.271218</td>\n",
       "    </tr>\n",
       "    <tr>\n",
       "      <th>Occupation_SENP</th>\n",
       "      <td>-0.059572</td>\n",
       "      <td>0.124165</td>\n",
       "      <td>-0.239398</td>\n",
       "      <td>0.005216</td>\n",
       "      <td>0.016538</td>\n",
       "      <td>-0.234147</td>\n",
       "      <td>-0.059981</td>\n",
       "      <td>-0.387152</td>\n",
       "      <td>-0.271218</td>\n",
       "      <td>1.000000</td>\n",
       "    </tr>\n",
       "  </tbody>\n",
       "</table>\n",
       "</div>"
      ],
      "text/plain": [
       "                          Age   Balance  No_OF_CR_TXNS       SCR  \\\n",
       "Age                  1.000000 -0.146920       0.058350 -0.005501   \n",
       "Balance             -0.146920  1.000000      -0.135032 -0.015087   \n",
       "No_OF_CR_TXNS        0.058350 -0.135032       1.000000  0.003036   \n",
       "SCR                 -0.005501 -0.015087       0.003036  1.000000   \n",
       "Holding_Period      -0.011765  0.022917      -0.026593 -0.030739   \n",
       "Gender_M             0.082920 -0.179496       0.216527 -0.000934   \n",
       "Gender_O             0.014294 -0.022501       0.069619  0.000774   \n",
       "Occupation_SAL       0.054031 -0.084633       0.230691 -0.014518   \n",
       "Occupation_SELF-EMP -0.018301 -0.047212       0.010132  0.014688   \n",
       "Occupation_SENP     -0.059572  0.124165      -0.239398  0.005216   \n",
       "\n",
       "                     Holding_Period  Gender_M  Gender_O  Occupation_SAL  \\\n",
       "Age                       -0.011765  0.082920  0.014294        0.054031   \n",
       "Balance                    0.022917 -0.179496 -0.022501       -0.084633   \n",
       "No_OF_CR_TXNS             -0.026593  0.216527  0.069619        0.230691   \n",
       "SCR                       -0.030739 -0.000934  0.000774       -0.014518   \n",
       "Holding_Period             1.000000 -0.026714 -0.001329        0.002393   \n",
       "Gender_M                  -0.026714  1.000000 -0.157168        0.224427   \n",
       "Gender_O                  -0.001329 -0.157168  1.000000        0.034360   \n",
       "Occupation_SAL             0.002393  0.224427  0.034360        1.000000   \n",
       "Occupation_SELF-EMP       -0.017739  0.016810 -0.001339       -0.288856   \n",
       "Occupation_SENP            0.016538 -0.234147 -0.059981       -0.387152   \n",
       "\n",
       "                     Occupation_SELF-EMP  Occupation_SENP  \n",
       "Age                            -0.018301        -0.059572  \n",
       "Balance                        -0.047212         0.124165  \n",
       "No_OF_CR_TXNS                   0.010132        -0.239398  \n",
       "SCR                             0.014688         0.005216  \n",
       "Holding_Period                 -0.017739         0.016538  \n",
       "Gender_M                        0.016810        -0.234147  \n",
       "Gender_O                       -0.001339        -0.059981  \n",
       "Occupation_SAL                 -0.288856        -0.387152  \n",
       "Occupation_SELF-EMP             1.000000        -0.271218  \n",
       "Occupation_SENP                -0.271218         1.000000  "
      ]
     },
     "execution_count": 14,
     "metadata": {},
     "output_type": "execute_result"
    }
   ],
   "source": [
    "data_df.iloc[:,1:11].corr()"
   ]
  },
  {
   "cell_type": "code",
   "execution_count": 15,
   "metadata": {},
   "outputs": [
    {
     "data": {
      "text/html": [
       "<div>\n",
       "<style scoped>\n",
       "    .dataframe tbody tr th:only-of-type {\n",
       "        vertical-align: middle;\n",
       "    }\n",
       "\n",
       "    .dataframe tbody tr th {\n",
       "        vertical-align: top;\n",
       "    }\n",
       "\n",
       "    .dataframe thead th {\n",
       "        text-align: right;\n",
       "    }\n",
       "</style>\n",
       "<table border=\"1\" class=\"dataframe\">\n",
       "  <thead>\n",
       "    <tr style=\"text-align: right;\">\n",
       "      <th></th>\n",
       "      <th>Age</th>\n",
       "      <th>Balance</th>\n",
       "      <th>No_OF_CR_TXNS</th>\n",
       "      <th>SCR</th>\n",
       "      <th>Holding_Period</th>\n",
       "      <th>Gender_M</th>\n",
       "      <th>Gender_O</th>\n",
       "      <th>Occupation_SAL</th>\n",
       "      <th>Occupation_SELF-EMP</th>\n",
       "      <th>Occupation_SENP</th>\n",
       "    </tr>\n",
       "  </thead>\n",
       "  <tbody>\n",
       "    <tr>\n",
       "      <th>Age</th>\n",
       "      <td>1.000000</td>\n",
       "      <td>-0.146920</td>\n",
       "      <td>0.058350</td>\n",
       "      <td>-0.005501</td>\n",
       "      <td>-0.011765</td>\n",
       "      <td>0.082920</td>\n",
       "      <td>0.014294</td>\n",
       "      <td>0.054031</td>\n",
       "      <td>-0.018301</td>\n",
       "      <td>-0.059572</td>\n",
       "    </tr>\n",
       "    <tr>\n",
       "      <th>Balance</th>\n",
       "      <td>-0.146920</td>\n",
       "      <td>1.000000</td>\n",
       "      <td>-0.135032</td>\n",
       "      <td>-0.015087</td>\n",
       "      <td>0.022917</td>\n",
       "      <td>-0.179496</td>\n",
       "      <td>-0.022501</td>\n",
       "      <td>-0.084633</td>\n",
       "      <td>-0.047212</td>\n",
       "      <td>0.124165</td>\n",
       "    </tr>\n",
       "    <tr>\n",
       "      <th>No_OF_CR_TXNS</th>\n",
       "      <td>0.058350</td>\n",
       "      <td>-0.135032</td>\n",
       "      <td>1.000000</td>\n",
       "      <td>0.003036</td>\n",
       "      <td>-0.026593</td>\n",
       "      <td>0.216527</td>\n",
       "      <td>0.069619</td>\n",
       "      <td>0.230691</td>\n",
       "      <td>0.010132</td>\n",
       "      <td>-0.239398</td>\n",
       "    </tr>\n",
       "    <tr>\n",
       "      <th>SCR</th>\n",
       "      <td>-0.005501</td>\n",
       "      <td>-0.015087</td>\n",
       "      <td>0.003036</td>\n",
       "      <td>1.000000</td>\n",
       "      <td>-0.030739</td>\n",
       "      <td>-0.000934</td>\n",
       "      <td>0.000774</td>\n",
       "      <td>-0.014518</td>\n",
       "      <td>0.014688</td>\n",
       "      <td>0.005216</td>\n",
       "    </tr>\n",
       "    <tr>\n",
       "      <th>Holding_Period</th>\n",
       "      <td>-0.011765</td>\n",
       "      <td>0.022917</td>\n",
       "      <td>-0.026593</td>\n",
       "      <td>-0.030739</td>\n",
       "      <td>1.000000</td>\n",
       "      <td>-0.026714</td>\n",
       "      <td>-0.001329</td>\n",
       "      <td>0.002393</td>\n",
       "      <td>-0.017739</td>\n",
       "      <td>0.016538</td>\n",
       "    </tr>\n",
       "    <tr>\n",
       "      <th>Gender_M</th>\n",
       "      <td>0.082920</td>\n",
       "      <td>-0.179496</td>\n",
       "      <td>0.216527</td>\n",
       "      <td>-0.000934</td>\n",
       "      <td>-0.026714</td>\n",
       "      <td>1.000000</td>\n",
       "      <td>-0.157168</td>\n",
       "      <td>0.224427</td>\n",
       "      <td>0.016810</td>\n",
       "      <td>-0.234147</td>\n",
       "    </tr>\n",
       "    <tr>\n",
       "      <th>Gender_O</th>\n",
       "      <td>0.014294</td>\n",
       "      <td>-0.022501</td>\n",
       "      <td>0.069619</td>\n",
       "      <td>0.000774</td>\n",
       "      <td>-0.001329</td>\n",
       "      <td>-0.157168</td>\n",
       "      <td>1.000000</td>\n",
       "      <td>0.034360</td>\n",
       "      <td>-0.001339</td>\n",
       "      <td>-0.059981</td>\n",
       "    </tr>\n",
       "    <tr>\n",
       "      <th>Occupation_SAL</th>\n",
       "      <td>0.054031</td>\n",
       "      <td>-0.084633</td>\n",
       "      <td>0.230691</td>\n",
       "      <td>-0.014518</td>\n",
       "      <td>0.002393</td>\n",
       "      <td>0.224427</td>\n",
       "      <td>0.034360</td>\n",
       "      <td>1.000000</td>\n",
       "      <td>-0.288856</td>\n",
       "      <td>-0.387152</td>\n",
       "    </tr>\n",
       "    <tr>\n",
       "      <th>Occupation_SELF-EMP</th>\n",
       "      <td>-0.018301</td>\n",
       "      <td>-0.047212</td>\n",
       "      <td>0.010132</td>\n",
       "      <td>0.014688</td>\n",
       "      <td>-0.017739</td>\n",
       "      <td>0.016810</td>\n",
       "      <td>-0.001339</td>\n",
       "      <td>-0.288856</td>\n",
       "      <td>1.000000</td>\n",
       "      <td>-0.271218</td>\n",
       "    </tr>\n",
       "    <tr>\n",
       "      <th>Occupation_SENP</th>\n",
       "      <td>-0.059572</td>\n",
       "      <td>0.124165</td>\n",
       "      <td>-0.239398</td>\n",
       "      <td>0.005216</td>\n",
       "      <td>0.016538</td>\n",
       "      <td>-0.234147</td>\n",
       "      <td>-0.059981</td>\n",
       "      <td>-0.387152</td>\n",
       "      <td>-0.271218</td>\n",
       "      <td>1.000000</td>\n",
       "    </tr>\n",
       "  </tbody>\n",
       "</table>\n",
       "</div>"
      ],
      "text/plain": [
       "                          Age   Balance  No_OF_CR_TXNS       SCR  \\\n",
       "Age                  1.000000 -0.146920       0.058350 -0.005501   \n",
       "Balance             -0.146920  1.000000      -0.135032 -0.015087   \n",
       "No_OF_CR_TXNS        0.058350 -0.135032       1.000000  0.003036   \n",
       "SCR                 -0.005501 -0.015087       0.003036  1.000000   \n",
       "Holding_Period      -0.011765  0.022917      -0.026593 -0.030739   \n",
       "Gender_M             0.082920 -0.179496       0.216527 -0.000934   \n",
       "Gender_O             0.014294 -0.022501       0.069619  0.000774   \n",
       "Occupation_SAL       0.054031 -0.084633       0.230691 -0.014518   \n",
       "Occupation_SELF-EMP -0.018301 -0.047212       0.010132  0.014688   \n",
       "Occupation_SENP     -0.059572  0.124165      -0.239398  0.005216   \n",
       "\n",
       "                     Holding_Period  Gender_M  Gender_O  Occupation_SAL  \\\n",
       "Age                       -0.011765  0.082920  0.014294        0.054031   \n",
       "Balance                    0.022917 -0.179496 -0.022501       -0.084633   \n",
       "No_OF_CR_TXNS             -0.026593  0.216527  0.069619        0.230691   \n",
       "SCR                       -0.030739 -0.000934  0.000774       -0.014518   \n",
       "Holding_Period             1.000000 -0.026714 -0.001329        0.002393   \n",
       "Gender_M                  -0.026714  1.000000 -0.157168        0.224427   \n",
       "Gender_O                  -0.001329 -0.157168  1.000000        0.034360   \n",
       "Occupation_SAL             0.002393  0.224427  0.034360        1.000000   \n",
       "Occupation_SELF-EMP       -0.017739  0.016810 -0.001339       -0.288856   \n",
       "Occupation_SENP            0.016538 -0.234147 -0.059981       -0.387152   \n",
       "\n",
       "                     Occupation_SELF-EMP  Occupation_SENP  \n",
       "Age                            -0.018301        -0.059572  \n",
       "Balance                        -0.047212         0.124165  \n",
       "No_OF_CR_TXNS                   0.010132        -0.239398  \n",
       "SCR                             0.014688         0.005216  \n",
       "Holding_Period                 -0.017739         0.016538  \n",
       "Gender_M                        0.016810        -0.234147  \n",
       "Gender_O                       -0.001339        -0.059981  \n",
       "Occupation_SAL                 -0.288856        -0.387152  \n",
       "Occupation_SELF-EMP             1.000000        -0.271218  \n",
       "Occupation_SENP                -0.271218         1.000000  "
      ]
     },
     "execution_count": 15,
     "metadata": {},
     "output_type": "execute_result"
    }
   ],
   "source": [
    "# or\n",
    "data_df.drop('Target',axis=1).corr()"
   ]
  },
  {
   "cell_type": "markdown",
   "metadata": {},
   "source": [
    "It is difficult to understand the extent of correlation by painstakingly looking at the numbers of the above matrix. So, let us plot a correlation heatmap."
   ]
  },
  {
   "cell_type": "code",
   "execution_count": 16,
   "metadata": {},
   "outputs": [
    {
     "data": {
      "image/png": "[encoded data removed]",
      "text/plain": [
       "<Figure size 1080x864 with 2 Axes>"
      ]
     },
     "metadata": {},
     "output_type": "display_data"
    }
   ],
   "source": [
    "plt.figure(figsize =(15,12))\n",
    "fig = sns.heatmap(data_df.iloc[:,1:11].corr(),annot=True,cbar=True,mask=np.triu(data_df.iloc[:,1:11].corr(),+1))\n",
    "plt.show()"
   ]
  },
  {
   "cell_type": "markdown",
   "metadata": {},
   "source": [
    "###### Note: If the plot of the heatmap has the two extreme truncated please do run the following code snippet to downagrade the library 'matplotlib' and then try to plot the heatmap once more. You may have to restart Jupyter Notebook to make sure that these changes take place.\n",
    "\n",
    "###### '!pip install --upgrade matplotlib==3.0.3 --user' - run this line in a cell of the Jupyter Notebook."
   ]
  },
  {
   "cell_type": "markdown",
   "metadata": {},
   "source": [
    "# Plot graphs based on bivariate analysis."
   ]
  },
  {
   "cell_type": "code",
   "execution_count": 26,
   "metadata": {
    "scrolled": false
   },
   "outputs": [
    {
     "ename": "KeyError",
     "evalue": "'Target'",
     "output_type": "error",
     "traceback": [
      "\u001b[1;31m---------------------------------------------------------------------------\u001b[0m",
      "\u001b[1;31mKeyError\u001b[0m                                  Traceback (most recent call last)",
      "\u001b[1;32m~\\anaconda3\\lib\\site-packages\\pandas\\core\\indexes\\base.py\u001b[0m in \u001b[0;36mget_loc\u001b[1;34m(self, key, method, tolerance)\u001b[0m\n\u001b[0;32m   3079\u001b[0m             \u001b[1;32mtry\u001b[0m\u001b[1;33m:\u001b[0m\u001b[1;33m\u001b[0m\u001b[1;33m\u001b[0m\u001b[0m\n\u001b[1;32m-> 3080\u001b[1;33m                 \u001b[1;32mreturn\u001b[0m \u001b[0mself\u001b[0m\u001b[1;33m.\u001b[0m\u001b[0m_engine\u001b[0m\u001b[1;33m.\u001b[0m\u001b[0mget_loc\u001b[0m\u001b[1;33m(\u001b[0m\u001b[0mcasted_key\u001b[0m\u001b[1;33m)\u001b[0m\u001b[1;33m\u001b[0m\u001b[1;33m\u001b[0m\u001b[0m\n\u001b[0m\u001b[0;32m   3081\u001b[0m             \u001b[1;32mexcept\u001b[0m \u001b[0mKeyError\u001b[0m \u001b[1;32mas\u001b[0m \u001b[0merr\u001b[0m\u001b[1;33m:\u001b[0m\u001b[1;33m\u001b[0m\u001b[1;33m\u001b[0m\u001b[0m\n",
      "\u001b[1;32mpandas\\_libs\\index.pyx\u001b[0m in \u001b[0;36mpandas._libs.index.IndexEngine.get_loc\u001b[1;34m()\u001b[0m\n",
      "\u001b[1;32mpandas\\_libs\\index.pyx\u001b[0m in \u001b[0;36mpandas._libs.index.IndexEngine.get_loc\u001b[1;34m()\u001b[0m\n",
      "\u001b[1;32mpandas\\_libs\\hashtable_class_helper.pxi\u001b[0m in \u001b[0;36mpandas._libs.hashtable.PyObjectHashTable.get_item\u001b[1;34m()\u001b[0m\n",
      "\u001b[1;32mpandas\\_libs\\hashtable_class_helper.pxi\u001b[0m in \u001b[0;36mpandas._libs.hashtable.PyObjectHashTable.get_item\u001b[1;34m()\u001b[0m\n",
      "\u001b[1;31mKeyError\u001b[0m: 'Target'",
      "\nThe above exception was the direct cause of the following exception:\n",
      "\u001b[1;31mKeyError\u001b[0m                                  Traceback (most recent call last)",
      "\u001b[1;32m<ipython-input-26-21ba852eadfb>\u001b[0m in \u001b[0;36m<module>\u001b[1;34m\u001b[0m\n\u001b[1;32m----> 1\u001b[1;33m \u001b[0msns\u001b[0m\u001b[1;33m.\u001b[0m\u001b[0mpairplot\u001b[0m\u001b[1;33m(\u001b[0m\u001b[0mdata_df\u001b[0m\u001b[1;33m,\u001b[0m\u001b[0mhue\u001b[0m\u001b[1;33m=\u001b[0m\u001b[1;34m'Target'\u001b[0m\u001b[1;33m,\u001b[0m\u001b[0mpalette\u001b[0m\u001b[1;33m=\u001b[0m\u001b[1;34m'viridis'\u001b[0m\u001b[1;33m)\u001b[0m\u001b[1;33m\u001b[0m\u001b[1;33m\u001b[0m\u001b[0m\n\u001b[0m\u001b[0;32m      2\u001b[0m \u001b[0mplt\u001b[0m\u001b[1;33m.\u001b[0m\u001b[0mshow\u001b[0m\u001b[1;33m(\u001b[0m\u001b[1;33m)\u001b[0m\u001b[1;33m\u001b[0m\u001b[1;33m\u001b[0m\u001b[0m\n",
      "\u001b[1;32m~\\anaconda3\\lib\\site-packages\\seaborn\\_decorators.py\u001b[0m in \u001b[0;36minner_f\u001b[1;34m(*args, **kwargs)\u001b[0m\n\u001b[0;32m     44\u001b[0m             )\n\u001b[0;32m     45\u001b[0m         \u001b[0mkwargs\u001b[0m\u001b[1;33m.\u001b[0m\u001b[0mupdate\u001b[0m\u001b[1;33m(\u001b[0m\u001b[1;33m{\u001b[0m\u001b[0mk\u001b[0m\u001b[1;33m:\u001b[0m \u001b[0marg\u001b[0m \u001b[1;32mfor\u001b[0m \u001b[0mk\u001b[0m\u001b[1;33m,\u001b[0m \u001b[0marg\u001b[0m \u001b[1;32min\u001b[0m \u001b[0mzip\u001b[0m\u001b[1;33m(\u001b[0m\u001b[0msig\u001b[0m\u001b[1;33m.\u001b[0m\u001b[0mparameters\u001b[0m\u001b[1;33m,\u001b[0m \u001b[0margs\u001b[0m\u001b[1;33m)\u001b[0m\u001b[1;33m}\u001b[0m\u001b[1;33m)\u001b[0m\u001b[1;33m\u001b[0m\u001b[1;33m\u001b[0m\u001b[0m\n\u001b[1;32m---> 46\u001b[1;33m         \u001b[1;32mreturn\u001b[0m \u001b[0mf\u001b[0m\u001b[1;33m(\u001b[0m\u001b[1;33m**\u001b[0m\u001b[0mkwargs\u001b[0m\u001b[1;33m)\u001b[0m\u001b[1;33m\u001b[0m\u001b[1;33m\u001b[0m\u001b[0m\n\u001b[0m\u001b[0;32m     47\u001b[0m     \u001b[1;32mreturn\u001b[0m \u001b[0minner_f\u001b[0m\u001b[1;33m\u001b[0m\u001b[1;33m\u001b[0m\u001b[0m\n\u001b[0;32m     48\u001b[0m \u001b[1;33m\u001b[0m\u001b[0m\n",
      "\u001b[1;32m~\\anaconda3\\lib\\site-packages\\seaborn\\axisgrid.py\u001b[0m in \u001b[0;36mpairplot\u001b[1;34m(data, hue, hue_order, palette, vars, x_vars, y_vars, kind, diag_kind, markers, height, aspect, corner, dropna, plot_kws, diag_kws, grid_kws, size)\u001b[0m\n\u001b[0;32m   1987\u001b[0m     \u001b[1;31m# Set up the PairGrid\u001b[0m\u001b[1;33m\u001b[0m\u001b[1;33m\u001b[0m\u001b[1;33m\u001b[0m\u001b[0m\n\u001b[0;32m   1988\u001b[0m     \u001b[0mgrid_kws\u001b[0m\u001b[1;33m.\u001b[0m\u001b[0msetdefault\u001b[0m\u001b[1;33m(\u001b[0m\u001b[1;34m\"diag_sharey\"\u001b[0m\u001b[1;33m,\u001b[0m \u001b[0mdiag_kind\u001b[0m \u001b[1;33m==\u001b[0m \u001b[1;34m\"hist\"\u001b[0m\u001b[1;33m)\u001b[0m\u001b[1;33m\u001b[0m\u001b[1;33m\u001b[0m\u001b[0m\n\u001b[1;32m-> 1989\u001b[1;33m     grid = PairGrid(data, vars=vars, x_vars=x_vars, y_vars=y_vars, hue=hue,\n\u001b[0m\u001b[0;32m   1990\u001b[0m                     \u001b[0mhue_order\u001b[0m\u001b[1;33m=\u001b[0m\u001b[0mhue_order\u001b[0m\u001b[1;33m,\u001b[0m \u001b[0mpalette\u001b[0m\u001b[1;33m=\u001b[0m\u001b[0mpalette\u001b[0m\u001b[1;33m,\u001b[0m \u001b[0mcorner\u001b[0m\u001b[1;33m=\u001b[0m\u001b[0mcorner\u001b[0m\u001b[1;33m,\u001b[0m\u001b[1;33m\u001b[0m\u001b[1;33m\u001b[0m\u001b[0m\n\u001b[0;32m   1991\u001b[0m                     height=height, aspect=aspect, dropna=dropna, **grid_kws)\n",
      "\u001b[1;32m~\\anaconda3\\lib\\site-packages\\seaborn\\_decorators.py\u001b[0m in \u001b[0;36minner_f\u001b[1;34m(*args, **kwargs)\u001b[0m\n\u001b[0;32m     44\u001b[0m             )\n\u001b[0;32m     45\u001b[0m         \u001b[0mkwargs\u001b[0m\u001b[1;33m.\u001b[0m\u001b[0mupdate\u001b[0m\u001b[1;33m(\u001b[0m\u001b[1;33m{\u001b[0m\u001b[0mk\u001b[0m\u001b[1;33m:\u001b[0m \u001b[0marg\u001b[0m \u001b[1;32mfor\u001b[0m \u001b[0mk\u001b[0m\u001b[1;33m,\u001b[0m \u001b[0marg\u001b[0m \u001b[1;32min\u001b[0m \u001b[0mzip\u001b[0m\u001b[1;33m(\u001b[0m\u001b[0msig\u001b[0m\u001b[1;33m.\u001b[0m\u001b[0mparameters\u001b[0m\u001b[1;33m,\u001b[0m \u001b[0margs\u001b[0m\u001b[1;33m)\u001b[0m\u001b[1;33m}\u001b[0m\u001b[1;33m)\u001b[0m\u001b[1;33m\u001b[0m\u001b[1;33m\u001b[0m\u001b[0m\n\u001b[1;32m---> 46\u001b[1;33m         \u001b[1;32mreturn\u001b[0m \u001b[0mf\u001b[0m\u001b[1;33m(\u001b[0m\u001b[1;33m**\u001b[0m\u001b[0mkwargs\u001b[0m\u001b[1;33m)\u001b[0m\u001b[1;33m\u001b[0m\u001b[1;33m\u001b[0m\u001b[0m\n\u001b[0m\u001b[0;32m     47\u001b[0m     \u001b[1;32mreturn\u001b[0m \u001b[0minner_f\u001b[0m\u001b[1;33m\u001b[0m\u001b[1;33m\u001b[0m\u001b[0m\n\u001b[0;32m     48\u001b[0m \u001b[1;33m\u001b[0m\u001b[0m\n",
      "\u001b[1;32m~\\anaconda3\\lib\\site-packages\\seaborn\\axisgrid.py\u001b[0m in \u001b[0;36m__init__\u001b[1;34m(self, data, hue, hue_order, palette, hue_kws, vars, x_vars, y_vars, corner, diag_sharey, height, aspect, layout_pad, despine, dropna, size)\u001b[0m\n\u001b[0;32m   1227\u001b[0m             \u001b[1;31m# to the axes-level functions, while always handling legend creation.\u001b[0m\u001b[1;33m\u001b[0m\u001b[1;33m\u001b[0m\u001b[1;33m\u001b[0m\u001b[0m\n\u001b[0;32m   1228\u001b[0m             \u001b[1;31m# See GH2307\u001b[0m\u001b[1;33m\u001b[0m\u001b[1;33m\u001b[0m\u001b[1;33m\u001b[0m\u001b[0m\n\u001b[1;32m-> 1229\u001b[1;33m             \u001b[0mhue_names\u001b[0m \u001b[1;33m=\u001b[0m \u001b[0mhue_order\u001b[0m \u001b[1;33m=\u001b[0m \u001b[0mcategorical_order\u001b[0m\u001b[1;33m(\u001b[0m\u001b[0mdata\u001b[0m\u001b[1;33m[\u001b[0m\u001b[0mhue\u001b[0m\u001b[1;33m]\u001b[0m\u001b[1;33m,\u001b[0m \u001b[0mhue_order\u001b[0m\u001b[1;33m)\u001b[0m\u001b[1;33m\u001b[0m\u001b[1;33m\u001b[0m\u001b[0m\n\u001b[0m\u001b[0;32m   1230\u001b[0m             \u001b[1;32mif\u001b[0m \u001b[0mdropna\u001b[0m\u001b[1;33m:\u001b[0m\u001b[1;33m\u001b[0m\u001b[1;33m\u001b[0m\u001b[0m\n\u001b[0;32m   1231\u001b[0m                 \u001b[1;31m# Filter NA from the list of unique hue names\u001b[0m\u001b[1;33m\u001b[0m\u001b[1;33m\u001b[0m\u001b[1;33m\u001b[0m\u001b[0m\n",
      "\u001b[1;32m~\\anaconda3\\lib\\site-packages\\pandas\\core\\frame.py\u001b[0m in \u001b[0;36m__getitem__\u001b[1;34m(self, key)\u001b[0m\n\u001b[0;32m   3022\u001b[0m             \u001b[1;32mif\u001b[0m \u001b[0mself\u001b[0m\u001b[1;33m.\u001b[0m\u001b[0mcolumns\u001b[0m\u001b[1;33m.\u001b[0m\u001b[0mnlevels\u001b[0m \u001b[1;33m>\u001b[0m \u001b[1;36m1\u001b[0m\u001b[1;33m:\u001b[0m\u001b[1;33m\u001b[0m\u001b[1;33m\u001b[0m\u001b[0m\n\u001b[0;32m   3023\u001b[0m                 \u001b[1;32mreturn\u001b[0m \u001b[0mself\u001b[0m\u001b[1;33m.\u001b[0m\u001b[0m_getitem_multilevel\u001b[0m\u001b[1;33m(\u001b[0m\u001b[0mkey\u001b[0m\u001b[1;33m)\u001b[0m\u001b[1;33m\u001b[0m\u001b[1;33m\u001b[0m\u001b[0m\n\u001b[1;32m-> 3024\u001b[1;33m             \u001b[0mindexer\u001b[0m \u001b[1;33m=\u001b[0m \u001b[0mself\u001b[0m\u001b[1;33m.\u001b[0m\u001b[0mcolumns\u001b[0m\u001b[1;33m.\u001b[0m\u001b[0mget_loc\u001b[0m\u001b[1;33m(\u001b[0m\u001b[0mkey\u001b[0m\u001b[1;33m)\u001b[0m\u001b[1;33m\u001b[0m\u001b[1;33m\u001b[0m\u001b[0m\n\u001b[0m\u001b[0;32m   3025\u001b[0m             \u001b[1;32mif\u001b[0m \u001b[0mis_integer\u001b[0m\u001b[1;33m(\u001b[0m\u001b[0mindexer\u001b[0m\u001b[1;33m)\u001b[0m\u001b[1;33m:\u001b[0m\u001b[1;33m\u001b[0m\u001b[1;33m\u001b[0m\u001b[0m\n\u001b[0;32m   3026\u001b[0m                 \u001b[0mindexer\u001b[0m \u001b[1;33m=\u001b[0m \u001b[1;33m[\u001b[0m\u001b[0mindexer\u001b[0m\u001b[1;33m]\u001b[0m\u001b[1;33m\u001b[0m\u001b[1;33m\u001b[0m\u001b[0m\n",
      "\u001b[1;32m~\\anaconda3\\lib\\site-packages\\pandas\\core\\indexes\\base.py\u001b[0m in \u001b[0;36mget_loc\u001b[1;34m(self, key, method, tolerance)\u001b[0m\n\u001b[0;32m   3080\u001b[0m                 \u001b[1;32mreturn\u001b[0m \u001b[0mself\u001b[0m\u001b[1;33m.\u001b[0m\u001b[0m_engine\u001b[0m\u001b[1;33m.\u001b[0m\u001b[0mget_loc\u001b[0m\u001b[1;33m(\u001b[0m\u001b[0mcasted_key\u001b[0m\u001b[1;33m)\u001b[0m\u001b[1;33m\u001b[0m\u001b[1;33m\u001b[0m\u001b[0m\n\u001b[0;32m   3081\u001b[0m             \u001b[1;32mexcept\u001b[0m \u001b[0mKeyError\u001b[0m \u001b[1;32mas\u001b[0m \u001b[0merr\u001b[0m\u001b[1;33m:\u001b[0m\u001b[1;33m\u001b[0m\u001b[1;33m\u001b[0m\u001b[0m\n\u001b[1;32m-> 3082\u001b[1;33m                 \u001b[1;32mraise\u001b[0m \u001b[0mKeyError\u001b[0m\u001b[1;33m(\u001b[0m\u001b[0mkey\u001b[0m\u001b[1;33m)\u001b[0m \u001b[1;32mfrom\u001b[0m \u001b[0merr\u001b[0m\u001b[1;33m\u001b[0m\u001b[1;33m\u001b[0m\u001b[0m\n\u001b[0m\u001b[0;32m   3083\u001b[0m \u001b[1;33m\u001b[0m\u001b[0m\n\u001b[0;32m   3084\u001b[0m         \u001b[1;32mif\u001b[0m \u001b[0mtolerance\u001b[0m \u001b[1;32mis\u001b[0m \u001b[1;32mnot\u001b[0m \u001b[1;32mNone\u001b[0m\u001b[1;33m:\u001b[0m\u001b[1;33m\u001b[0m\u001b[1;33m\u001b[0m\u001b[0m\n",
      "\u001b[1;31mKeyError\u001b[0m: 'Target'"
     ]
    },
    {
     "data": {
      "image/png": "[encoded data removed]",
      "text/plain": [
       "<Figure size 1800x1800 with 100 Axes>"
      ]
     },
     "metadata": {},
     "output_type": "display_data"
    }
   ],
   "source": [
    "sns.pairplot(data_df,hue='Target',palette='viridis')\n",
    "plt.show()"
   ]
  },
  {
   "cell_type": "markdown",
   "metadata": {},
   "source": [
    "##### Note: Since this is a practice assessment, please do go ahead and practice various types of Exploratory Data Analysis. Please do practice various kinds of univariate analysis as well. Try to develop your own business solutions for this dataset."
   ]
  },
  {
   "cell_type": "markdown",
   "metadata": {},
   "source": [
    "# Check the distribution of values in the 'Target' column and check the percentage of Ones and Zeroes."
   ]
  },
  {
   "cell_type": "code",
   "execution_count": 21,
   "metadata": {},
   "outputs": [
    {
     "data": {
      "text/plain": [
       "0    18267\n",
       "1     1733\n",
       "Name: Target, dtype: int64"
      ]
     },
     "execution_count": 21,
     "metadata": {},
     "output_type": "execute_result"
    }
   ],
   "source": [
    "data_df['Target'].value_counts()"
   ]
  },
  {
   "cell_type": "markdown",
   "metadata": {},
   "source": [
    "Now that we know the distribution of Ones and Zeroes, let us go ahead and check the percentage of Ones and Zeroes."
   ]
  },
  {
   "cell_type": "code",
   "execution_count": 22,
   "metadata": {},
   "outputs": [
    {
     "data": {
      "text/plain": [
       "0    0.91335\n",
       "1    0.08665\n",
       "Name: Target, dtype: float64"
      ]
     },
     "execution_count": 22,
     "metadata": {},
     "output_type": "execute_result"
    }
   ],
   "source": [
    "data_df['Target'].value_counts(1)"
   ]
  },
  {
   "cell_type": "markdown",
   "metadata": {},
   "source": [
    "# Split the data into training and test set to build and evaluate the model respectively."
   ]
  },
  {
   "cell_type": "code",
   "execution_count": 23,
   "metadata": {},
   "outputs": [
    {
     "data": {
      "text/html": [
       "<div>\n",
       "<style scoped>\n",
       "    .dataframe tbody tr th:only-of-type {\n",
       "        vertical-align: middle;\n",
       "    }\n",
       "\n",
       "    .dataframe tbody tr th {\n",
       "        vertical-align: top;\n",
       "    }\n",
       "\n",
       "    .dataframe thead th {\n",
       "        text-align: right;\n",
       "    }\n",
       "</style>\n",
       "<table border=\"1\" class=\"dataframe\">\n",
       "  <thead>\n",
       "    <tr style=\"text-align: right;\">\n",
       "      <th></th>\n",
       "      <th>Age</th>\n",
       "      <th>Balance</th>\n",
       "      <th>No_OF_CR_TXNS</th>\n",
       "      <th>SCR</th>\n",
       "      <th>Holding_Period</th>\n",
       "      <th>Gender_M</th>\n",
       "      <th>Gender_O</th>\n",
       "      <th>Occupation_SAL</th>\n",
       "      <th>Occupation_SELF-EMP</th>\n",
       "      <th>Occupation_SENP</th>\n",
       "    </tr>\n",
       "  </thead>\n",
       "  <tbody>\n",
       "    <tr>\n",
       "      <th>11408</th>\n",
       "      <td>33</td>\n",
       "      <td>196959.81</td>\n",
       "      <td>13</td>\n",
       "      <td>339</td>\n",
       "      <td>17</td>\n",
       "      <td>1</td>\n",
       "      <td>0</td>\n",
       "      <td>1</td>\n",
       "      <td>0</td>\n",
       "      <td>0</td>\n",
       "    </tr>\n",
       "    <tr>\n",
       "      <th>3616</th>\n",
       "      <td>37</td>\n",
       "      <td>520617.92</td>\n",
       "      <td>14</td>\n",
       "      <td>823</td>\n",
       "      <td>16</td>\n",
       "      <td>1</td>\n",
       "      <td>0</td>\n",
       "      <td>0</td>\n",
       "      <td>0</td>\n",
       "      <td>0</td>\n",
       "    </tr>\n",
       "    <tr>\n",
       "      <th>9747</th>\n",
       "      <td>29</td>\n",
       "      <td>39202.24</td>\n",
       "      <td>0</td>\n",
       "      <td>726</td>\n",
       "      <td>1</td>\n",
       "      <td>0</td>\n",
       "      <td>0</td>\n",
       "      <td>0</td>\n",
       "      <td>0</td>\n",
       "      <td>1</td>\n",
       "    </tr>\n",
       "    <tr>\n",
       "      <th>6915</th>\n",
       "      <td>26</td>\n",
       "      <td>59626.92</td>\n",
       "      <td>3</td>\n",
       "      <td>872</td>\n",
       "      <td>1</td>\n",
       "      <td>1</td>\n",
       "      <td>0</td>\n",
       "      <td>1</td>\n",
       "      <td>0</td>\n",
       "      <td>0</td>\n",
       "    </tr>\n",
       "    <tr>\n",
       "      <th>4888</th>\n",
       "      <td>28</td>\n",
       "      <td>127680.47</td>\n",
       "      <td>11</td>\n",
       "      <td>389</td>\n",
       "      <td>4</td>\n",
       "      <td>0</td>\n",
       "      <td>0</td>\n",
       "      <td>0</td>\n",
       "      <td>0</td>\n",
       "      <td>1</td>\n",
       "    </tr>\n",
       "  </tbody>\n",
       "</table>\n",
       "</div>"
      ],
      "text/plain": [
       "       Age    Balance  No_OF_CR_TXNS  SCR  Holding_Period  Gender_M  Gender_O  \\\n",
       "11408   33  196959.81             13  339              17         1         0   \n",
       "3616    37  520617.92             14  823              16         1         0   \n",
       "9747    29   39202.24              0  726               1         0         0   \n",
       "6915    26   59626.92              3  872               1         1         0   \n",
       "4888    28  127680.47             11  389               4         0         0   \n",
       "\n",
       "       Occupation_SAL  Occupation_SELF-EMP  Occupation_SENP  \n",
       "11408               1                    0                0  \n",
       "3616                0                    0                0  \n",
       "9747                0                    0                1  \n",
       "6915                1                    0                0  \n",
       "4888                0                    0                1  "
      ]
     },
     "execution_count": 23,
     "metadata": {},
     "output_type": "execute_result"
    }
   ],
   "source": [
    "# capture the target column (\"default\") into separate vectors for training set and test set\n",
    "\n",
    "X = data_df.drop(\"Target\" , axis=1)\n",
    "\n",
    "y = data_df.pop(\"Target\")\n",
    "X_train, X_test, Y_train, Y_test = train_test_split(X, y, test_size=.30, random_state=1)\n",
    "X_train.head()"
   ]
  },
  {
   "cell_type": "markdown",
   "metadata": {},
   "source": [
    "Now since the data has been split in the 70:30 (train:test) ratio, let us check the distribution of Ones and Zeroes in the Y ('Target') variable."
   ]
  },
  {
   "cell_type": "code",
   "execution_count": 27,
   "metadata": {},
   "outputs": [
    {
     "data": {
      "text/plain": [
       "0    0.913\n",
       "1    0.087\n",
       "Name: Target, dtype: float64"
      ]
     },
     "execution_count": 27,
     "metadata": {},
     "output_type": "execute_result"
    }
   ],
   "source": [
    "Y_train.value_counts(1)"
   ]
  },
  {
   "cell_type": "code",
   "execution_count": 31,
   "metadata": {},
   "outputs": [
    {
     "data": {
      "text/plain": [
       "0    0.914167\n",
       "1    0.085833\n",
       "Name: Target, dtype: float64"
      ]
     },
     "execution_count": 31,
     "metadata": {},
     "output_type": "execute_result"
    }
   ],
   "source": [
    "Y_test.value_counts(1)"
   ]
  },
  {
   "cell_type": "markdown",
   "metadata": {},
   "source": [
    "From the above two code snippets, we can see that the proportion of Ones and Zeroes in the training and test set is the same as the proportion of Ones and Zeroes that were present in the whole dataset."
   ]
  },
  {
   "cell_type": "markdown",
   "metadata": {},
   "source": [
    "# Build the LDA algorithm without scaling the predictor variables and use this model to predict on the test set and compute the confusion matrix. \n",
    "### For further reference in this codebook, we will refer to this model as Model1."
   ]
  },
  {
   "cell_type": "code",
   "execution_count": 32,
   "metadata": {},
   "outputs": [
    {
     "data": {
      "text/plain": [
       "LinearDiscriminantAnalysis()"
      ]
     },
     "execution_count": 32,
     "metadata": {},
     "output_type": "execute_result"
    }
   ],
   "source": [
    "clf = LinearDiscriminantAnalysis()\n",
    "model1=clf.fit(X_train,Y_train)\n",
    "model1"
   ]
  },
  {
   "cell_type": "code",
   "execution_count": 33,
   "metadata": {},
   "outputs": [
    {
     "name": "stdout",
     "output_type": "stream",
     "text": [
      "              precision    recall  f1-score   support\n",
      "\n",
      "           0       0.92      1.00      0.96      5485\n",
      "           1       0.54      0.04      0.07       515\n",
      "\n",
      "    accuracy                           0.91      6000\n",
      "   macro avg       0.73      0.52      0.51      6000\n",
      "weighted avg       0.88      0.91      0.88      6000\n",
      "\n"
     ]
    }
   ],
   "source": [
    "pred_class = model1.predict(X_test)\n",
    "print(classification_report(Y_test, pred_class))"
   ]
  },
  {
   "cell_type": "markdown",
   "metadata": {},
   "source": [
    "# Build the LDA algorithm with scaling the predictor variables and use this model to predict on the test set and compute the confusion matrix. \n",
    "### For further reference in this codebook, we will refer to this model as Model2."
   ]
  },
  {
   "cell_type": "code",
   "execution_count": 34,
   "metadata": {},
   "outputs": [
    {
     "name": "stdout",
     "output_type": "stream",
     "text": [
      "              precision    recall  f1-score   support\n",
      "\n",
      "           0       0.92      1.00      0.96      5485\n",
      "           1       0.54      0.04      0.07       515\n",
      "\n",
      "    accuracy                           0.91      6000\n",
      "   macro avg       0.73      0.52      0.51      6000\n",
      "weighted avg       0.88      0.91      0.88      6000\n",
      "\n"
     ]
    },
    {
     "name": "stderr",
     "output_type": "stream",
     "text": [
      "C:\\Users\\Jitu\\anaconda3\\lib\\site-packages\\sklearn\\base.py:441: UserWarning: X does not have valid feature names, but LinearDiscriminantAnalysis was fitted with feature names\n",
      "  warnings.warn(\n"
     ]
    }
   ],
   "source": [
    "X_scaledtrain=scale(X_train)\n",
    "model2=clf.fit(X_scaledtrain,Y_train)\n",
    "\n",
    "# Predict it\n",
    "pred_class2 = model2.predict(scale(X_test))\n",
    "print(classification_report(Y_test, pred_class2))"
   ]
  },
  {
   "cell_type": "markdown",
   "metadata": {},
   "source": [
    "### Please do try to calculate other model performance measures. Do play around with the data and check whether the accuracy can be increased or not."
   ]
  },
  {
   "cell_type": "code",
   "execution_count": null,
   "metadata": {},
   "outputs": [],
   "source": [
    "\n"
   ]
  }
 ],
 "metadata": {
  "kernelspec": {
   "display_name": "Python 3",
   "language": "python",
   "name": "python3"
  },
  "language_info": {
   "codemirror_mode": {
    "name": "ipython",
    "version": 3
   },
   "file_extension": ".py",
   "mimetype": "text/x-python",
   "name": "python",
   "nbconvert_exporter": "python",
   "pygments_lexer": "ipython3",
   "version": "3.8.8"
  },
  "toc": {
   "base_numbering": 1,
   "nav_menu": {},
   "number_sections": true,
   "sideBar": true,
   "skip_h1_title": false,
   "title_cell": "Table of Contents",
   "title_sidebar": "Contents",
   "toc_cell": false,
   "toc_position": {},
   "toc_section_display": true,
   "toc_window_display": false
  },
  "varInspector": {
   "cols": {
    "lenName": 16,
    "lenType": 16,
    "lenVar": 40
   },
   "kernels_config": {
    "python": {
     "delete_cmd_postfix": "",
     "delete_cmd_prefix": "del ",
     "library": "var_list.py",
     "varRefreshCmd": "print(var_dic_list())"
    },
    "r": {
     "delete_cmd_postfix": ") ",
     "delete_cmd_prefix": "rm(",
     "library": "var_list.r",
     "varRefreshCmd": "cat(var_dic_list()) "
    }
   },
   "types_to_exclude": [
    "module",
    "function",
    "builtin_function_or_method",
    "instance",
    "_Feature"
   ],
   "window_display": false
  }
 },
 "nbformat": 4,
 "nbformat_minor": 2
}
