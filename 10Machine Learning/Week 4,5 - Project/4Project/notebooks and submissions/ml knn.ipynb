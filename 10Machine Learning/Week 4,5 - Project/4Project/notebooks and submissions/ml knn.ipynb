{
 "cells": [
  {
   "cell_type": "code",
   "execution_count": 60,
   "id": "66a06c7d",
   "metadata": {},
   "outputs": [
    {
     "data": {
      "text/html": [
       "<div>\n",
       "<style scoped>\n",
       "    .dataframe tbody tr th:only-of-type {\n",
       "        vertical-align: middle;\n",
       "    }\n",
       "\n",
       "    .dataframe tbody tr th {\n",
       "        vertical-align: top;\n",
       "    }\n",
       "\n",
       "    .dataframe thead th {\n",
       "        text-align: right;\n",
       "    }\n",
       "</style>\n",
       "<table border=\"1\" class=\"dataframe\">\n",
       "  <thead>\n",
       "    <tr style=\"text-align: right;\">\n",
       "      <th></th>\n",
       "      <th>vote</th>\n",
       "      <th>age</th>\n",
       "      <th>economic.cond.national</th>\n",
       "      <th>economic.cond.household</th>\n",
       "      <th>Blair</th>\n",
       "      <th>Hague</th>\n",
       "      <th>Europe</th>\n",
       "      <th>political.knowledge</th>\n",
       "      <th>gender_male</th>\n",
       "    </tr>\n",
       "  </thead>\n",
       "  <tbody>\n",
       "    <tr>\n",
       "      <th>0</th>\n",
       "      <td>Labour</td>\n",
       "      <td>43</td>\n",
       "      <td>3</td>\n",
       "      <td>3</td>\n",
       "      <td>4</td>\n",
       "      <td>1</td>\n",
       "      <td>2</td>\n",
       "      <td>2</td>\n",
       "      <td>0</td>\n",
       "    </tr>\n",
       "    <tr>\n",
       "      <th>1</th>\n",
       "      <td>Labour</td>\n",
       "      <td>36</td>\n",
       "      <td>4</td>\n",
       "      <td>4</td>\n",
       "      <td>4</td>\n",
       "      <td>4</td>\n",
       "      <td>5</td>\n",
       "      <td>2</td>\n",
       "      <td>1</td>\n",
       "    </tr>\n",
       "    <tr>\n",
       "      <th>2</th>\n",
       "      <td>Labour</td>\n",
       "      <td>35</td>\n",
       "      <td>4</td>\n",
       "      <td>4</td>\n",
       "      <td>5</td>\n",
       "      <td>2</td>\n",
       "      <td>3</td>\n",
       "      <td>2</td>\n",
       "      <td>1</td>\n",
       "    </tr>\n",
       "    <tr>\n",
       "      <th>3</th>\n",
       "      <td>Labour</td>\n",
       "      <td>24</td>\n",
       "      <td>4</td>\n",
       "      <td>2</td>\n",
       "      <td>2</td>\n",
       "      <td>1</td>\n",
       "      <td>4</td>\n",
       "      <td>0</td>\n",
       "      <td>0</td>\n",
       "    </tr>\n",
       "    <tr>\n",
       "      <th>4</th>\n",
       "      <td>Labour</td>\n",
       "      <td>41</td>\n",
       "      <td>2</td>\n",
       "      <td>2</td>\n",
       "      <td>1</td>\n",
       "      <td>1</td>\n",
       "      <td>6</td>\n",
       "      <td>2</td>\n",
       "      <td>1</td>\n",
       "    </tr>\n",
       "    <tr>\n",
       "      <th>...</th>\n",
       "      <td>...</td>\n",
       "      <td>...</td>\n",
       "      <td>...</td>\n",
       "      <td>...</td>\n",
       "      <td>...</td>\n",
       "      <td>...</td>\n",
       "      <td>...</td>\n",
       "      <td>...</td>\n",
       "      <td>...</td>\n",
       "    </tr>\n",
       "    <tr>\n",
       "      <th>1512</th>\n",
       "      <td>Conservative</td>\n",
       "      <td>67</td>\n",
       "      <td>5</td>\n",
       "      <td>3</td>\n",
       "      <td>2</td>\n",
       "      <td>4</td>\n",
       "      <td>11</td>\n",
       "      <td>3</td>\n",
       "      <td>1</td>\n",
       "    </tr>\n",
       "    <tr>\n",
       "      <th>1513</th>\n",
       "      <td>Conservative</td>\n",
       "      <td>73</td>\n",
       "      <td>2</td>\n",
       "      <td>2</td>\n",
       "      <td>4</td>\n",
       "      <td>4</td>\n",
       "      <td>8</td>\n",
       "      <td>2</td>\n",
       "      <td>1</td>\n",
       "    </tr>\n",
       "    <tr>\n",
       "      <th>1514</th>\n",
       "      <td>Labour</td>\n",
       "      <td>37</td>\n",
       "      <td>3</td>\n",
       "      <td>3</td>\n",
       "      <td>5</td>\n",
       "      <td>4</td>\n",
       "      <td>2</td>\n",
       "      <td>2</td>\n",
       "      <td>1</td>\n",
       "    </tr>\n",
       "    <tr>\n",
       "      <th>1515</th>\n",
       "      <td>Conservative</td>\n",
       "      <td>61</td>\n",
       "      <td>3</td>\n",
       "      <td>3</td>\n",
       "      <td>1</td>\n",
       "      <td>4</td>\n",
       "      <td>11</td>\n",
       "      <td>2</td>\n",
       "      <td>1</td>\n",
       "    </tr>\n",
       "    <tr>\n",
       "      <th>1516</th>\n",
       "      <td>Conservative</td>\n",
       "      <td>74</td>\n",
       "      <td>2</td>\n",
       "      <td>3</td>\n",
       "      <td>2</td>\n",
       "      <td>4</td>\n",
       "      <td>11</td>\n",
       "      <td>0</td>\n",
       "      <td>0</td>\n",
       "    </tr>\n",
       "  </tbody>\n",
       "</table>\n",
       "<p>1517 rows × 9 columns</p>\n",
       "</div>"
      ],
      "text/plain": [
       "              vote  age  economic.cond.national  economic.cond.household  \\\n",
       "0           Labour   43                       3                        3   \n",
       "1           Labour   36                       4                        4   \n",
       "2           Labour   35                       4                        4   \n",
       "3           Labour   24                       4                        2   \n",
       "4           Labour   41                       2                        2   \n",
       "...            ...  ...                     ...                      ...   \n",
       "1512  Conservative   67                       5                        3   \n",
       "1513  Conservative   73                       2                        2   \n",
       "1514        Labour   37                       3                        3   \n",
       "1515  Conservative   61                       3                        3   \n",
       "1516  Conservative   74                       2                        3   \n",
       "\n",
       "      Blair  Hague  Europe  political.knowledge  gender_male  \n",
       "0         4      1       2                    2            0  \n",
       "1         4      4       5                    2            1  \n",
       "2         5      2       3                    2            1  \n",
       "3         2      1       4                    0            0  \n",
       "4         1      1       6                    2            1  \n",
       "...     ...    ...     ...                  ...          ...  \n",
       "1512      2      4      11                    3            1  \n",
       "1513      4      4       8                    2            1  \n",
       "1514      5      4       2                    2            1  \n",
       "1515      1      4      11                    2            1  \n",
       "1516      2      4      11                    0            0  \n",
       "\n",
       "[1517 rows x 9 columns]"
      ]
     },
     "execution_count": 60,
     "metadata": {},
     "output_type": "execute_result"
    }
   ],
   "source": [
    "from matplotlib import pyplot as plt\n",
    "import numpy as np\n",
    "import seaborn as sns\n",
    "import pandas as pd\n",
    "import scipy.stats as stats\n",
    "%matplotlib inline\n",
    "\n",
    "df=pd.read_excel('Election_Data.xlsx',sheet_name='Election_Dataset_Two Classes')\n",
    "df.drop('Unnamed: 0',axis=1,inplace=True)\n",
    "df.drop_duplicates(inplace=True)\n",
    "df.reset_index(inplace=True,drop=True)\n",
    "df =pd.get_dummies(df, columns=['gender'],drop_first=True)\n",
    "df"
   ]
  },
  {
   "cell_type": "code",
   "execution_count": 61,
   "id": "8c277d4e",
   "metadata": {},
   "outputs": [],
   "source": [
    "from sklearn.preprocessing import StandardScaler"
   ]
  },
  {
   "cell_type": "code",
   "execution_count": 62,
   "id": "b42b1402",
   "metadata": {},
   "outputs": [
    {
     "data": {
      "text/html": [
       "<div>\n",
       "<style scoped>\n",
       "    .dataframe tbody tr th:only-of-type {\n",
       "        vertical-align: middle;\n",
       "    }\n",
       "\n",
       "    .dataframe tbody tr th {\n",
       "        vertical-align: top;\n",
       "    }\n",
       "\n",
       "    .dataframe thead th {\n",
       "        text-align: right;\n",
       "    }\n",
       "</style>\n",
       "<table border=\"1\" class=\"dataframe\">\n",
       "  <thead>\n",
       "    <tr style=\"text-align: right;\">\n",
       "      <th></th>\n",
       "      <th>vote</th>\n",
       "      <th>age</th>\n",
       "      <th>economic.cond.national</th>\n",
       "      <th>economic.cond.household</th>\n",
       "      <th>Blair</th>\n",
       "      <th>Hague</th>\n",
       "      <th>Europe</th>\n",
       "      <th>political.knowledge</th>\n",
       "      <th>gender_male</th>\n",
       "    </tr>\n",
       "  </thead>\n",
       "  <tbody>\n",
       "    <tr>\n",
       "      <th>0</th>\n",
       "      <td>Labour</td>\n",
       "      <td>43</td>\n",
       "      <td>3</td>\n",
       "      <td>3</td>\n",
       "      <td>4</td>\n",
       "      <td>1</td>\n",
       "      <td>2</td>\n",
       "      <td>2</td>\n",
       "      <td>0</td>\n",
       "    </tr>\n",
       "    <tr>\n",
       "      <th>1</th>\n",
       "      <td>Labour</td>\n",
       "      <td>36</td>\n",
       "      <td>4</td>\n",
       "      <td>4</td>\n",
       "      <td>4</td>\n",
       "      <td>4</td>\n",
       "      <td>5</td>\n",
       "      <td>2</td>\n",
       "      <td>1</td>\n",
       "    </tr>\n",
       "    <tr>\n",
       "      <th>2</th>\n",
       "      <td>Labour</td>\n",
       "      <td>35</td>\n",
       "      <td>4</td>\n",
       "      <td>4</td>\n",
       "      <td>5</td>\n",
       "      <td>2</td>\n",
       "      <td>3</td>\n",
       "      <td>2</td>\n",
       "      <td>1</td>\n",
       "    </tr>\n",
       "    <tr>\n",
       "      <th>3</th>\n",
       "      <td>Labour</td>\n",
       "      <td>24</td>\n",
       "      <td>4</td>\n",
       "      <td>2</td>\n",
       "      <td>2</td>\n",
       "      <td>1</td>\n",
       "      <td>4</td>\n",
       "      <td>0</td>\n",
       "      <td>0</td>\n",
       "    </tr>\n",
       "    <tr>\n",
       "      <th>4</th>\n",
       "      <td>Labour</td>\n",
       "      <td>41</td>\n",
       "      <td>2</td>\n",
       "      <td>2</td>\n",
       "      <td>1</td>\n",
       "      <td>1</td>\n",
       "      <td>6</td>\n",
       "      <td>2</td>\n",
       "      <td>1</td>\n",
       "    </tr>\n",
       "    <tr>\n",
       "      <th>...</th>\n",
       "      <td>...</td>\n",
       "      <td>...</td>\n",
       "      <td>...</td>\n",
       "      <td>...</td>\n",
       "      <td>...</td>\n",
       "      <td>...</td>\n",
       "      <td>...</td>\n",
       "      <td>...</td>\n",
       "      <td>...</td>\n",
       "    </tr>\n",
       "    <tr>\n",
       "      <th>1512</th>\n",
       "      <td>Conservative</td>\n",
       "      <td>67</td>\n",
       "      <td>5</td>\n",
       "      <td>3</td>\n",
       "      <td>2</td>\n",
       "      <td>4</td>\n",
       "      <td>11</td>\n",
       "      <td>3</td>\n",
       "      <td>1</td>\n",
       "    </tr>\n",
       "    <tr>\n",
       "      <th>1513</th>\n",
       "      <td>Conservative</td>\n",
       "      <td>73</td>\n",
       "      <td>2</td>\n",
       "      <td>2</td>\n",
       "      <td>4</td>\n",
       "      <td>4</td>\n",
       "      <td>8</td>\n",
       "      <td>2</td>\n",
       "      <td>1</td>\n",
       "    </tr>\n",
       "    <tr>\n",
       "      <th>1514</th>\n",
       "      <td>Labour</td>\n",
       "      <td>37</td>\n",
       "      <td>3</td>\n",
       "      <td>3</td>\n",
       "      <td>5</td>\n",
       "      <td>4</td>\n",
       "      <td>2</td>\n",
       "      <td>2</td>\n",
       "      <td>1</td>\n",
       "    </tr>\n",
       "    <tr>\n",
       "      <th>1515</th>\n",
       "      <td>Conservative</td>\n",
       "      <td>61</td>\n",
       "      <td>3</td>\n",
       "      <td>3</td>\n",
       "      <td>1</td>\n",
       "      <td>4</td>\n",
       "      <td>11</td>\n",
       "      <td>2</td>\n",
       "      <td>1</td>\n",
       "    </tr>\n",
       "    <tr>\n",
       "      <th>1516</th>\n",
       "      <td>Conservative</td>\n",
       "      <td>74</td>\n",
       "      <td>2</td>\n",
       "      <td>3</td>\n",
       "      <td>2</td>\n",
       "      <td>4</td>\n",
       "      <td>11</td>\n",
       "      <td>0</td>\n",
       "      <td>0</td>\n",
       "    </tr>\n",
       "  </tbody>\n",
       "</table>\n",
       "<p>1517 rows × 9 columns</p>\n",
       "</div>"
      ],
      "text/plain": [
       "              vote  age  economic.cond.national  economic.cond.household  \\\n",
       "0           Labour   43                       3                        3   \n",
       "1           Labour   36                       4                        4   \n",
       "2           Labour   35                       4                        4   \n",
       "3           Labour   24                       4                        2   \n",
       "4           Labour   41                       2                        2   \n",
       "...            ...  ...                     ...                      ...   \n",
       "1512  Conservative   67                       5                        3   \n",
       "1513  Conservative   73                       2                        2   \n",
       "1514        Labour   37                       3                        3   \n",
       "1515  Conservative   61                       3                        3   \n",
       "1516  Conservative   74                       2                        3   \n",
       "\n",
       "      Blair  Hague  Europe  political.knowledge  gender_male  \n",
       "0         4      1       2                    2            0  \n",
       "1         4      4       5                    2            1  \n",
       "2         5      2       3                    2            1  \n",
       "3         2      1       4                    0            0  \n",
       "4         1      1       6                    2            1  \n",
       "...     ...    ...     ...                  ...          ...  \n",
       "1512      2      4      11                    3            1  \n",
       "1513      4      4       8                    2            1  \n",
       "1514      5      4       2                    2            1  \n",
       "1515      1      4      11                    2            1  \n",
       "1516      2      4      11                    0            0  \n",
       "\n",
       "[1517 rows x 9 columns]"
      ]
     },
     "execution_count": 62,
     "metadata": {},
     "output_type": "execute_result"
    }
   ],
   "source": [
    "df_unscaled = df.copy()\n",
    "df_unscaled"
   ]
  },
  {
   "cell_type": "code",
   "execution_count": 63,
   "id": "06e12b28",
   "metadata": {},
   "outputs": [],
   "source": [
    "X = df.drop(\"vote\" , axis=1)\n",
    "y = df['vote']"
   ]
  },
  {
   "cell_type": "code",
   "execution_count": 64,
   "id": "3333bb17",
   "metadata": {},
   "outputs": [],
   "source": [
    "from sklearn.model_selection import train_test_split\n",
    "X_train, X_test, y_train, y_test = train_test_split(X, y, test_size=.30, random_state=1, stratify=y)"
   ]
  },
  {
   "cell_type": "code",
   "execution_count": 65,
   "id": "e2a66bf6",
   "metadata": {},
   "outputs": [
    {
     "data": {
      "text/html": [
       "<div>\n",
       "<style scoped>\n",
       "    .dataframe tbody tr th:only-of-type {\n",
       "        vertical-align: middle;\n",
       "    }\n",
       "\n",
       "    .dataframe tbody tr th {\n",
       "        vertical-align: top;\n",
       "    }\n",
       "\n",
       "    .dataframe thead th {\n",
       "        text-align: right;\n",
       "    }\n",
       "</style>\n",
       "<table border=\"1\" class=\"dataframe\">\n",
       "  <thead>\n",
       "    <tr style=\"text-align: right;\">\n",
       "      <th></th>\n",
       "      <th>age</th>\n",
       "      <th>economic.cond.national</th>\n",
       "      <th>economic.cond.household</th>\n",
       "      <th>Blair</th>\n",
       "      <th>Hague</th>\n",
       "      <th>Europe</th>\n",
       "      <th>political.knowledge</th>\n",
       "      <th>gender_male</th>\n",
       "    </tr>\n",
       "  </thead>\n",
       "  <tbody>\n",
       "    <tr>\n",
       "      <th>532</th>\n",
       "      <td>1.078284</td>\n",
       "      <td>-0.274403</td>\n",
       "      <td>-0.137087</td>\n",
       "      <td>0.557983</td>\n",
       "      <td>-0.625062</td>\n",
       "      <td>1.316728</td>\n",
       "      <td>-1.417763</td>\n",
       "      <td>-0.917613</td>\n",
       "    </tr>\n",
       "    <tr>\n",
       "      <th>706</th>\n",
       "      <td>0.181786</td>\n",
       "      <td>0.858443</td>\n",
       "      <td>1.986262</td>\n",
       "      <td>0.557983</td>\n",
       "      <td>-1.441798</td>\n",
       "      <td>-1.148833</td>\n",
       "      <td>0.422294</td>\n",
       "      <td>-0.917613</td>\n",
       "    </tr>\n",
       "    <tr>\n",
       "      <th>1140</th>\n",
       "      <td>-1.931388</td>\n",
       "      <td>-0.274403</td>\n",
       "      <td>0.924587</td>\n",
       "      <td>-1.180695</td>\n",
       "      <td>1.008412</td>\n",
       "      <td>1.316728</td>\n",
       "      <td>-1.417763</td>\n",
       "      <td>1.089784</td>\n",
       "    </tr>\n",
       "    <tr>\n",
       "      <th>1077</th>\n",
       "      <td>-0.714712</td>\n",
       "      <td>0.858443</td>\n",
       "      <td>0.924587</td>\n",
       "      <td>-1.180695</td>\n",
       "      <td>0.191675</td>\n",
       "      <td>-0.532443</td>\n",
       "      <td>-1.417763</td>\n",
       "      <td>1.089784</td>\n",
       "    </tr>\n",
       "    <tr>\n",
       "      <th>954</th>\n",
       "      <td>-1.098925</td>\n",
       "      <td>-0.274403</td>\n",
       "      <td>-1.198761</td>\n",
       "      <td>0.557983</td>\n",
       "      <td>-0.625062</td>\n",
       "      <td>0.083948</td>\n",
       "      <td>0.422294</td>\n",
       "      <td>1.089784</td>\n",
       "    </tr>\n",
       "    <tr>\n",
       "      <th>...</th>\n",
       "      <td>...</td>\n",
       "      <td>...</td>\n",
       "      <td>...</td>\n",
       "      <td>...</td>\n",
       "      <td>...</td>\n",
       "      <td>...</td>\n",
       "      <td>...</td>\n",
       "      <td>...</td>\n",
       "    </tr>\n",
       "    <tr>\n",
       "      <th>512</th>\n",
       "      <td>1.654605</td>\n",
       "      <td>-1.407249</td>\n",
       "      <td>-1.198761</td>\n",
       "      <td>-1.180695</td>\n",
       "      <td>1.008412</td>\n",
       "      <td>0.083948</td>\n",
       "      <td>0.422294</td>\n",
       "      <td>1.089784</td>\n",
       "    </tr>\n",
       "    <tr>\n",
       "      <th>825</th>\n",
       "      <td>-1.739281</td>\n",
       "      <td>-0.274403</td>\n",
       "      <td>-0.137087</td>\n",
       "      <td>-1.180695</td>\n",
       "      <td>1.008412</td>\n",
       "      <td>-0.532443</td>\n",
       "      <td>0.422294</td>\n",
       "      <td>-0.917613</td>\n",
       "    </tr>\n",
       "    <tr>\n",
       "      <th>348</th>\n",
       "      <td>0.117751</td>\n",
       "      <td>0.858443</td>\n",
       "      <td>-1.198761</td>\n",
       "      <td>1.427322</td>\n",
       "      <td>-0.625062</td>\n",
       "      <td>-1.765223</td>\n",
       "      <td>0.422294</td>\n",
       "      <td>-0.917613</td>\n",
       "    </tr>\n",
       "    <tr>\n",
       "      <th>1241</th>\n",
       "      <td>1.334427</td>\n",
       "      <td>0.858443</td>\n",
       "      <td>-0.137087</td>\n",
       "      <td>0.557983</td>\n",
       "      <td>1.825149</td>\n",
       "      <td>0.083948</td>\n",
       "      <td>1.342323</td>\n",
       "      <td>-0.917613</td>\n",
       "    </tr>\n",
       "    <tr>\n",
       "      <th>1137</th>\n",
       "      <td>-0.714712</td>\n",
       "      <td>-1.407249</td>\n",
       "      <td>-0.137087</td>\n",
       "      <td>-1.180695</td>\n",
       "      <td>0.191675</td>\n",
       "      <td>1.316728</td>\n",
       "      <td>0.422294</td>\n",
       "      <td>-0.917613</td>\n",
       "    </tr>\n",
       "  </tbody>\n",
       "</table>\n",
       "<p>1061 rows × 8 columns</p>\n",
       "</div>"
      ],
      "text/plain": [
       "           age  economic.cond.national  economic.cond.household     Blair  \\\n",
       "532   1.078284               -0.274403                -0.137087  0.557983   \n",
       "706   0.181786                0.858443                 1.986262  0.557983   \n",
       "1140 -1.931388               -0.274403                 0.924587 -1.180695   \n",
       "1077 -0.714712                0.858443                 0.924587 -1.180695   \n",
       "954  -1.098925               -0.274403                -1.198761  0.557983   \n",
       "...        ...                     ...                      ...       ...   \n",
       "512   1.654605               -1.407249                -1.198761 -1.180695   \n",
       "825  -1.739281               -0.274403                -0.137087 -1.180695   \n",
       "348   0.117751                0.858443                -1.198761  1.427322   \n",
       "1241  1.334427                0.858443                -0.137087  0.557983   \n",
       "1137 -0.714712               -1.407249                -0.137087 -1.180695   \n",
       "\n",
       "         Hague    Europe  political.knowledge  gender_male  \n",
       "532  -0.625062  1.316728            -1.417763    -0.917613  \n",
       "706  -1.441798 -1.148833             0.422294    -0.917613  \n",
       "1140  1.008412  1.316728            -1.417763     1.089784  \n",
       "1077  0.191675 -0.532443            -1.417763     1.089784  \n",
       "954  -0.625062  0.083948             0.422294     1.089784  \n",
       "...        ...       ...                  ...          ...  \n",
       "512   1.008412  0.083948             0.422294     1.089784  \n",
       "825   1.008412 -0.532443             0.422294    -0.917613  \n",
       "348  -0.625062 -1.765223             0.422294    -0.917613  \n",
       "1241  1.825149  0.083948             1.342323    -0.917613  \n",
       "1137  0.191675  1.316728             0.422294    -0.917613  \n",
       "\n",
       "[1061 rows x 8 columns]"
      ]
     },
     "execution_count": 65,
     "metadata": {},
     "output_type": "execute_result"
    }
   ],
   "source": [
    "X_train_scaled = X_train.copy()\n",
    "col_names = [x for x in X_train.columns]\n",
    "features = X_train_scaled[col_names]\n",
    "scaler = StandardScaler().fit(features.values)\n",
    "features = scaler.transform(features.values)\n",
    "X_train_scaled[col_names] = features\n",
    "X_train_scaled"
   ]
  },
  {
   "cell_type": "code",
   "execution_count": 66,
   "id": "d784a60e",
   "metadata": {},
   "outputs": [
    {
     "data": {
      "text/html": [
       "<div>\n",
       "<style scoped>\n",
       "    .dataframe tbody tr th:only-of-type {\n",
       "        vertical-align: middle;\n",
       "    }\n",
       "\n",
       "    .dataframe tbody tr th {\n",
       "        vertical-align: top;\n",
       "    }\n",
       "\n",
       "    .dataframe thead th {\n",
       "        text-align: right;\n",
       "    }\n",
       "</style>\n",
       "<table border=\"1\" class=\"dataframe\">\n",
       "  <thead>\n",
       "    <tr style=\"text-align: right;\">\n",
       "      <th></th>\n",
       "      <th>age</th>\n",
       "      <th>economic.cond.national</th>\n",
       "      <th>economic.cond.household</th>\n",
       "      <th>Blair</th>\n",
       "      <th>Hague</th>\n",
       "      <th>Europe</th>\n",
       "      <th>political.knowledge</th>\n",
       "      <th>gender_male</th>\n",
       "    </tr>\n",
       "  </thead>\n",
       "  <tbody>\n",
       "    <tr>\n",
       "      <th>273</th>\n",
       "      <td>1.078284</td>\n",
       "      <td>-1.407249</td>\n",
       "      <td>-0.137087</td>\n",
       "      <td>0.557983</td>\n",
       "      <td>-0.625062</td>\n",
       "      <td>1.316728</td>\n",
       "      <td>-1.417763</td>\n",
       "      <td>-0.917613</td>\n",
       "    </tr>\n",
       "    <tr>\n",
       "      <th>765</th>\n",
       "      <td>-1.483139</td>\n",
       "      <td>-1.407249</td>\n",
       "      <td>-1.198761</td>\n",
       "      <td>-1.180695</td>\n",
       "      <td>1.008412</td>\n",
       "      <td>-0.532443</td>\n",
       "      <td>0.422294</td>\n",
       "      <td>1.089784</td>\n",
       "    </tr>\n",
       "    <tr>\n",
       "      <th>415</th>\n",
       "      <td>-1.226997</td>\n",
       "      <td>0.858443</td>\n",
       "      <td>-0.137087</td>\n",
       "      <td>-1.180695</td>\n",
       "      <td>-1.441798</td>\n",
       "      <td>0.083948</td>\n",
       "      <td>0.422294</td>\n",
       "      <td>1.089784</td>\n",
       "    </tr>\n",
       "    <tr>\n",
       "      <th>1029</th>\n",
       "      <td>-1.291032</td>\n",
       "      <td>0.858443</td>\n",
       "      <td>0.924587</td>\n",
       "      <td>0.557983</td>\n",
       "      <td>-0.625062</td>\n",
       "      <td>0.083948</td>\n",
       "      <td>-1.417763</td>\n",
       "      <td>-0.917613</td>\n",
       "    </tr>\n",
       "    <tr>\n",
       "      <th>506</th>\n",
       "      <td>-0.906819</td>\n",
       "      <td>-0.274403</td>\n",
       "      <td>0.924587</td>\n",
       "      <td>0.557983</td>\n",
       "      <td>-0.625062</td>\n",
       "      <td>0.083948</td>\n",
       "      <td>1.342323</td>\n",
       "      <td>1.089784</td>\n",
       "    </tr>\n",
       "    <tr>\n",
       "      <th>...</th>\n",
       "      <td>...</td>\n",
       "      <td>...</td>\n",
       "      <td>...</td>\n",
       "      <td>...</td>\n",
       "      <td>...</td>\n",
       "      <td>...</td>\n",
       "      <td>...</td>\n",
       "      <td>...</td>\n",
       "    </tr>\n",
       "    <tr>\n",
       "      <th>653</th>\n",
       "      <td>0.181786</td>\n",
       "      <td>0.858443</td>\n",
       "      <td>0.924587</td>\n",
       "      <td>0.557983</td>\n",
       "      <td>-0.625062</td>\n",
       "      <td>1.316728</td>\n",
       "      <td>-1.417763</td>\n",
       "      <td>-0.917613</td>\n",
       "    </tr>\n",
       "    <tr>\n",
       "      <th>504</th>\n",
       "      <td>0.950213</td>\n",
       "      <td>-0.274403</td>\n",
       "      <td>0.924587</td>\n",
       "      <td>-1.180695</td>\n",
       "      <td>1.008412</td>\n",
       "      <td>0.700338</td>\n",
       "      <td>0.422294</td>\n",
       "      <td>1.089784</td>\n",
       "    </tr>\n",
       "    <tr>\n",
       "      <th>1423</th>\n",
       "      <td>1.526533</td>\n",
       "      <td>-0.274403</td>\n",
       "      <td>-0.137087</td>\n",
       "      <td>1.427322</td>\n",
       "      <td>-0.625062</td>\n",
       "      <td>-1.148833</td>\n",
       "      <td>-1.417763</td>\n",
       "      <td>-0.917613</td>\n",
       "    </tr>\n",
       "    <tr>\n",
       "      <th>886</th>\n",
       "      <td>-1.226997</td>\n",
       "      <td>-0.274403</td>\n",
       "      <td>0.924587</td>\n",
       "      <td>-1.180695</td>\n",
       "      <td>1.008412</td>\n",
       "      <td>1.316728</td>\n",
       "      <td>-1.417763</td>\n",
       "      <td>1.089784</td>\n",
       "    </tr>\n",
       "    <tr>\n",
       "      <th>350</th>\n",
       "      <td>1.846711</td>\n",
       "      <td>-1.407249</td>\n",
       "      <td>0.924587</td>\n",
       "      <td>-1.180695</td>\n",
       "      <td>1.008412</td>\n",
       "      <td>1.008533</td>\n",
       "      <td>0.422294</td>\n",
       "      <td>-0.917613</td>\n",
       "    </tr>\n",
       "  </tbody>\n",
       "</table>\n",
       "<p>456 rows × 8 columns</p>\n",
       "</div>"
      ],
      "text/plain": [
       "           age  economic.cond.national  economic.cond.household     Blair  \\\n",
       "273   1.078284               -1.407249                -0.137087  0.557983   \n",
       "765  -1.483139               -1.407249                -1.198761 -1.180695   \n",
       "415  -1.226997                0.858443                -0.137087 -1.180695   \n",
       "1029 -1.291032                0.858443                 0.924587  0.557983   \n",
       "506  -0.906819               -0.274403                 0.924587  0.557983   \n",
       "...        ...                     ...                      ...       ...   \n",
       "653   0.181786                0.858443                 0.924587  0.557983   \n",
       "504   0.950213               -0.274403                 0.924587 -1.180695   \n",
       "1423  1.526533               -0.274403                -0.137087  1.427322   \n",
       "886  -1.226997               -0.274403                 0.924587 -1.180695   \n",
       "350   1.846711               -1.407249                 0.924587 -1.180695   \n",
       "\n",
       "         Hague    Europe  political.knowledge  gender_male  \n",
       "273  -0.625062  1.316728            -1.417763    -0.917613  \n",
       "765   1.008412 -0.532443             0.422294     1.089784  \n",
       "415  -1.441798  0.083948             0.422294     1.089784  \n",
       "1029 -0.625062  0.083948            -1.417763    -0.917613  \n",
       "506  -0.625062  0.083948             1.342323     1.089784  \n",
       "...        ...       ...                  ...          ...  \n",
       "653  -0.625062  1.316728            -1.417763    -0.917613  \n",
       "504   1.008412  0.700338             0.422294     1.089784  \n",
       "1423 -0.625062 -1.148833            -1.417763    -0.917613  \n",
       "886   1.008412  1.316728            -1.417763     1.089784  \n",
       "350   1.008412  1.008533             0.422294    -0.917613  \n",
       "\n",
       "[456 rows x 8 columns]"
      ]
     },
     "execution_count": 66,
     "metadata": {},
     "output_type": "execute_result"
    }
   ],
   "source": [
    "X_test_scaled = X_test.copy()\n",
    "col_names = [x for x in X_test.columns]\n",
    "features = X_test_scaled[col_names]\n",
    "#scaler = StandardScaler().fit(features.values)\n",
    "features = scaler.transform(features.values)\n",
    "X_test_scaled[col_names] = features\n",
    "X_test_scaled"
   ]
  },
  {
   "cell_type": "code",
   "execution_count": 67,
   "id": "e123538d",
   "metadata": {},
   "outputs": [
    {
     "data": {
      "text/html": [
       "<div>\n",
       "<style scoped>\n",
       "    .dataframe tbody tr th:only-of-type {\n",
       "        vertical-align: middle;\n",
       "    }\n",
       "\n",
       "    .dataframe tbody tr th {\n",
       "        vertical-align: top;\n",
       "    }\n",
       "\n",
       "    .dataframe thead th {\n",
       "        text-align: right;\n",
       "    }\n",
       "</style>\n",
       "<table border=\"1\" class=\"dataframe\">\n",
       "  <thead>\n",
       "    <tr style=\"text-align: right;\">\n",
       "      <th></th>\n",
       "      <th>age</th>\n",
       "      <th>economic.cond.national</th>\n",
       "      <th>economic.cond.household</th>\n",
       "      <th>Blair</th>\n",
       "      <th>Hague</th>\n",
       "      <th>Europe</th>\n",
       "      <th>political.knowledge</th>\n",
       "      <th>gender_male</th>\n",
       "    </tr>\n",
       "  </thead>\n",
       "  <tbody>\n",
       "    <tr>\n",
       "      <th>532</th>\n",
       "      <td>1.078284</td>\n",
       "      <td>3</td>\n",
       "      <td>3</td>\n",
       "      <td>4</td>\n",
       "      <td>2</td>\n",
       "      <td>11</td>\n",
       "      <td>0</td>\n",
       "      <td>0</td>\n",
       "    </tr>\n",
       "    <tr>\n",
       "      <th>706</th>\n",
       "      <td>0.181786</td>\n",
       "      <td>4</td>\n",
       "      <td>5</td>\n",
       "      <td>4</td>\n",
       "      <td>1</td>\n",
       "      <td>3</td>\n",
       "      <td>2</td>\n",
       "      <td>0</td>\n",
       "    </tr>\n",
       "    <tr>\n",
       "      <th>1140</th>\n",
       "      <td>-1.931388</td>\n",
       "      <td>3</td>\n",
       "      <td>4</td>\n",
       "      <td>2</td>\n",
       "      <td>4</td>\n",
       "      <td>11</td>\n",
       "      <td>0</td>\n",
       "      <td>1</td>\n",
       "    </tr>\n",
       "    <tr>\n",
       "      <th>1077</th>\n",
       "      <td>-0.714712</td>\n",
       "      <td>4</td>\n",
       "      <td>4</td>\n",
       "      <td>2</td>\n",
       "      <td>3</td>\n",
       "      <td>5</td>\n",
       "      <td>0</td>\n",
       "      <td>1</td>\n",
       "    </tr>\n",
       "    <tr>\n",
       "      <th>954</th>\n",
       "      <td>-1.098925</td>\n",
       "      <td>3</td>\n",
       "      <td>2</td>\n",
       "      <td>4</td>\n",
       "      <td>2</td>\n",
       "      <td>7</td>\n",
       "      <td>2</td>\n",
       "      <td>1</td>\n",
       "    </tr>\n",
       "    <tr>\n",
       "      <th>...</th>\n",
       "      <td>...</td>\n",
       "      <td>...</td>\n",
       "      <td>...</td>\n",
       "      <td>...</td>\n",
       "      <td>...</td>\n",
       "      <td>...</td>\n",
       "      <td>...</td>\n",
       "      <td>...</td>\n",
       "    </tr>\n",
       "    <tr>\n",
       "      <th>512</th>\n",
       "      <td>1.654605</td>\n",
       "      <td>2</td>\n",
       "      <td>2</td>\n",
       "      <td>2</td>\n",
       "      <td>4</td>\n",
       "      <td>7</td>\n",
       "      <td>2</td>\n",
       "      <td>1</td>\n",
       "    </tr>\n",
       "    <tr>\n",
       "      <th>825</th>\n",
       "      <td>-1.739281</td>\n",
       "      <td>3</td>\n",
       "      <td>3</td>\n",
       "      <td>2</td>\n",
       "      <td>4</td>\n",
       "      <td>5</td>\n",
       "      <td>2</td>\n",
       "      <td>0</td>\n",
       "    </tr>\n",
       "    <tr>\n",
       "      <th>348</th>\n",
       "      <td>0.117751</td>\n",
       "      <td>4</td>\n",
       "      <td>2</td>\n",
       "      <td>5</td>\n",
       "      <td>2</td>\n",
       "      <td>1</td>\n",
       "      <td>2</td>\n",
       "      <td>0</td>\n",
       "    </tr>\n",
       "    <tr>\n",
       "      <th>1241</th>\n",
       "      <td>1.334427</td>\n",
       "      <td>4</td>\n",
       "      <td>3</td>\n",
       "      <td>4</td>\n",
       "      <td>5</td>\n",
       "      <td>7</td>\n",
       "      <td>3</td>\n",
       "      <td>0</td>\n",
       "    </tr>\n",
       "    <tr>\n",
       "      <th>1137</th>\n",
       "      <td>-0.714712</td>\n",
       "      <td>2</td>\n",
       "      <td>3</td>\n",
       "      <td>2</td>\n",
       "      <td>3</td>\n",
       "      <td>11</td>\n",
       "      <td>2</td>\n",
       "      <td>0</td>\n",
       "    </tr>\n",
       "  </tbody>\n",
       "</table>\n",
       "<p>1061 rows × 8 columns</p>\n",
       "</div>"
      ],
      "text/plain": [
       "           age  economic.cond.national  economic.cond.household  Blair  Hague  \\\n",
       "532   1.078284                       3                        3      4      2   \n",
       "706   0.181786                       4                        5      4      1   \n",
       "1140 -1.931388                       3                        4      2      4   \n",
       "1077 -0.714712                       4                        4      2      3   \n",
       "954  -1.098925                       3                        2      4      2   \n",
       "...        ...                     ...                      ...    ...    ...   \n",
       "512   1.654605                       2                        2      2      4   \n",
       "825  -1.739281                       3                        3      2      4   \n",
       "348   0.117751                       4                        2      5      2   \n",
       "1241  1.334427                       4                        3      4      5   \n",
       "1137 -0.714712                       2                        3      2      3   \n",
       "\n",
       "      Europe  political.knowledge  gender_male  \n",
       "532       11                    0            0  \n",
       "706        3                    2            0  \n",
       "1140      11                    0            1  \n",
       "1077       5                    0            1  \n",
       "954        7                    2            1  \n",
       "...      ...                  ...          ...  \n",
       "512        7                    2            1  \n",
       "825        5                    2            0  \n",
       "348        1                    2            0  \n",
       "1241       7                    3            0  \n",
       "1137      11                    2            0  \n",
       "\n",
       "[1061 rows x 8 columns]"
      ]
     },
     "execution_count": 67,
     "metadata": {},
     "output_type": "execute_result"
    }
   ],
   "source": [
    "X_train_age_scaled=X_train.copy()\n",
    "X_train_age_scaled['age'] = X_train_scaled['age']\n",
    "X_train_age_scaled"
   ]
  },
  {
   "cell_type": "code",
   "execution_count": 68,
   "id": "f68aa9d1",
   "metadata": {},
   "outputs": [
    {
     "data": {
      "text/html": [
       "<div>\n",
       "<style scoped>\n",
       "    .dataframe tbody tr th:only-of-type {\n",
       "        vertical-align: middle;\n",
       "    }\n",
       "\n",
       "    .dataframe tbody tr th {\n",
       "        vertical-align: top;\n",
       "    }\n",
       "\n",
       "    .dataframe thead th {\n",
       "        text-align: right;\n",
       "    }\n",
       "</style>\n",
       "<table border=\"1\" class=\"dataframe\">\n",
       "  <thead>\n",
       "    <tr style=\"text-align: right;\">\n",
       "      <th></th>\n",
       "      <th>age</th>\n",
       "      <th>economic.cond.national</th>\n",
       "      <th>economic.cond.household</th>\n",
       "      <th>Blair</th>\n",
       "      <th>Hague</th>\n",
       "      <th>Europe</th>\n",
       "      <th>political.knowledge</th>\n",
       "      <th>gender_male</th>\n",
       "    </tr>\n",
       "  </thead>\n",
       "  <tbody>\n",
       "    <tr>\n",
       "      <th>273</th>\n",
       "      <td>1.078284</td>\n",
       "      <td>2</td>\n",
       "      <td>3</td>\n",
       "      <td>4</td>\n",
       "      <td>2</td>\n",
       "      <td>11</td>\n",
       "      <td>0</td>\n",
       "      <td>0</td>\n",
       "    </tr>\n",
       "    <tr>\n",
       "      <th>765</th>\n",
       "      <td>-1.483139</td>\n",
       "      <td>2</td>\n",
       "      <td>2</td>\n",
       "      <td>2</td>\n",
       "      <td>4</td>\n",
       "      <td>5</td>\n",
       "      <td>2</td>\n",
       "      <td>1</td>\n",
       "    </tr>\n",
       "    <tr>\n",
       "      <th>415</th>\n",
       "      <td>-1.226997</td>\n",
       "      <td>4</td>\n",
       "      <td>3</td>\n",
       "      <td>2</td>\n",
       "      <td>1</td>\n",
       "      <td>7</td>\n",
       "      <td>2</td>\n",
       "      <td>1</td>\n",
       "    </tr>\n",
       "    <tr>\n",
       "      <th>1029</th>\n",
       "      <td>-1.291032</td>\n",
       "      <td>4</td>\n",
       "      <td>4</td>\n",
       "      <td>4</td>\n",
       "      <td>2</td>\n",
       "      <td>7</td>\n",
       "      <td>0</td>\n",
       "      <td>0</td>\n",
       "    </tr>\n",
       "    <tr>\n",
       "      <th>506</th>\n",
       "      <td>-0.906819</td>\n",
       "      <td>3</td>\n",
       "      <td>4</td>\n",
       "      <td>4</td>\n",
       "      <td>2</td>\n",
       "      <td>7</td>\n",
       "      <td>3</td>\n",
       "      <td>1</td>\n",
       "    </tr>\n",
       "    <tr>\n",
       "      <th>...</th>\n",
       "      <td>...</td>\n",
       "      <td>...</td>\n",
       "      <td>...</td>\n",
       "      <td>...</td>\n",
       "      <td>...</td>\n",
       "      <td>...</td>\n",
       "      <td>...</td>\n",
       "      <td>...</td>\n",
       "    </tr>\n",
       "    <tr>\n",
       "      <th>653</th>\n",
       "      <td>0.181786</td>\n",
       "      <td>4</td>\n",
       "      <td>4</td>\n",
       "      <td>4</td>\n",
       "      <td>2</td>\n",
       "      <td>11</td>\n",
       "      <td>0</td>\n",
       "      <td>0</td>\n",
       "    </tr>\n",
       "    <tr>\n",
       "      <th>504</th>\n",
       "      <td>0.950213</td>\n",
       "      <td>3</td>\n",
       "      <td>4</td>\n",
       "      <td>2</td>\n",
       "      <td>4</td>\n",
       "      <td>9</td>\n",
       "      <td>2</td>\n",
       "      <td>1</td>\n",
       "    </tr>\n",
       "    <tr>\n",
       "      <th>1423</th>\n",
       "      <td>1.526533</td>\n",
       "      <td>3</td>\n",
       "      <td>3</td>\n",
       "      <td>5</td>\n",
       "      <td>2</td>\n",
       "      <td>3</td>\n",
       "      <td>0</td>\n",
       "      <td>0</td>\n",
       "    </tr>\n",
       "    <tr>\n",
       "      <th>886</th>\n",
       "      <td>-1.226997</td>\n",
       "      <td>3</td>\n",
       "      <td>4</td>\n",
       "      <td>2</td>\n",
       "      <td>4</td>\n",
       "      <td>11</td>\n",
       "      <td>0</td>\n",
       "      <td>1</td>\n",
       "    </tr>\n",
       "    <tr>\n",
       "      <th>350</th>\n",
       "      <td>1.846711</td>\n",
       "      <td>2</td>\n",
       "      <td>4</td>\n",
       "      <td>2</td>\n",
       "      <td>4</td>\n",
       "      <td>10</td>\n",
       "      <td>2</td>\n",
       "      <td>0</td>\n",
       "    </tr>\n",
       "  </tbody>\n",
       "</table>\n",
       "<p>456 rows × 8 columns</p>\n",
       "</div>"
      ],
      "text/plain": [
       "           age  economic.cond.national  economic.cond.household  Blair  Hague  \\\n",
       "273   1.078284                       2                        3      4      2   \n",
       "765  -1.483139                       2                        2      2      4   \n",
       "415  -1.226997                       4                        3      2      1   \n",
       "1029 -1.291032                       4                        4      4      2   \n",
       "506  -0.906819                       3                        4      4      2   \n",
       "...        ...                     ...                      ...    ...    ...   \n",
       "653   0.181786                       4                        4      4      2   \n",
       "504   0.950213                       3                        4      2      4   \n",
       "1423  1.526533                       3                        3      5      2   \n",
       "886  -1.226997                       3                        4      2      4   \n",
       "350   1.846711                       2                        4      2      4   \n",
       "\n",
       "      Europe  political.knowledge  gender_male  \n",
       "273       11                    0            0  \n",
       "765        5                    2            1  \n",
       "415        7                    2            1  \n",
       "1029       7                    0            0  \n",
       "506        7                    3            1  \n",
       "...      ...                  ...          ...  \n",
       "653       11                    0            0  \n",
       "504        9                    2            1  \n",
       "1423       3                    0            0  \n",
       "886       11                    0            1  \n",
       "350       10                    2            0  \n",
       "\n",
       "[456 rows x 8 columns]"
      ]
     },
     "execution_count": 68,
     "metadata": {},
     "output_type": "execute_result"
    }
   ],
   "source": [
    "X_test_age_scaled=X_test.copy()\n",
    "X_test_age_scaled['age'] = X_test_scaled['age']\n",
    "X_test_age_scaled"
   ]
  },
  {
   "cell_type": "code",
   "execution_count": 69,
   "id": "699fc128",
   "metadata": {},
   "outputs": [],
   "source": [
    "from sklearn.neighbors import KNeighborsClassifier\n",
    "#Build knn Model\n",
    "clf = KNeighborsClassifier(n_neighbors=5,weights='uniform',algorithm='auto')\n",
    "model=clf.fit(X_train,y_train)"
   ]
  },
  {
   "cell_type": "code",
   "execution_count": 70,
   "id": "ffd5ea90",
   "metadata": {},
   "outputs": [
    {
     "name": "stderr",
     "output_type": "stream",
     "text": [
      "C:\\Users\\Jitu\\anaconda3\\lib\\site-packages\\sklearn\\base.py:441: UserWarning: X does not have valid feature names, but KNeighborsClassifier was fitted with feature names\n",
      "  warnings.warn(\n"
     ]
    },
    {
     "data": {
      "text/plain": [
       "0.8491988689915174"
      ]
     },
     "execution_count": 70,
     "metadata": {},
     "output_type": "execute_result"
    }
   ],
   "source": [
    "model.score(X_train, y_train)"
   ]
  },
  {
   "cell_type": "code",
   "execution_count": 71,
   "id": "9eb49906",
   "metadata": {},
   "outputs": [
    {
     "name": "stderr",
     "output_type": "stream",
     "text": [
      "C:\\Users\\Jitu\\anaconda3\\lib\\site-packages\\sklearn\\base.py:441: UserWarning: X does not have valid feature names, but KNeighborsClassifier was fitted with feature names\n",
      "  warnings.warn(\n"
     ]
    },
    {
     "data": {
      "text/plain": [
       "0.8070175438596491"
      ]
     },
     "execution_count": 71,
     "metadata": {},
     "output_type": "execute_result"
    }
   ],
   "source": [
    "model.score(X_test, y_test)"
   ]
  },
  {
   "cell_type": "code",
   "execution_count": 72,
   "id": "d5b511dc",
   "metadata": {},
   "outputs": [
    {
     "name": "stderr",
     "output_type": "stream",
     "text": [
      "C:\\Users\\Jitu\\anaconda3\\lib\\site-packages\\sklearn\\base.py:441: UserWarning: X does not have valid feature names, but KNeighborsClassifier was fitted with feature names\n",
      "  warnings.warn(\n"
     ]
    },
    {
     "data": {
      "text/plain": [
       "0.8614514608859567"
      ]
     },
     "execution_count": 72,
     "metadata": {},
     "output_type": "execute_result"
    }
   ],
   "source": [
    "model=clf.fit(X_train_scaled,y_train)\n",
    "model.score(X_train_scaled, y_train)"
   ]
  },
  {
   "cell_type": "code",
   "execution_count": 73,
   "id": "9161853e",
   "metadata": {},
   "outputs": [
    {
     "name": "stderr",
     "output_type": "stream",
     "text": [
      "C:\\Users\\Jitu\\anaconda3\\lib\\site-packages\\sklearn\\base.py:441: UserWarning: X does not have valid feature names, but KNeighborsClassifier was fitted with feature names\n",
      "  warnings.warn(\n"
     ]
    },
    {
     "data": {
      "text/plain": [
       "0.8377192982456141"
      ]
     },
     "execution_count": 73,
     "metadata": {},
     "output_type": "execute_result"
    }
   ],
   "source": [
    "model.score(X_test_scaled, y_test)"
   ]
  },
  {
   "cell_type": "code",
   "execution_count": 74,
   "id": "74bc5784",
   "metadata": {},
   "outputs": [
    {
     "name": "stderr",
     "output_type": "stream",
     "text": [
      "C:\\Users\\Jitu\\anaconda3\\lib\\site-packages\\sklearn\\base.py:441: UserWarning: X does not have valid feature names, but KNeighborsClassifier was fitted with feature names\n",
      "  warnings.warn(\n"
     ]
    },
    {
     "data": {
      "text/plain": [
       "0.8614514608859567"
      ]
     },
     "execution_count": 74,
     "metadata": {},
     "output_type": "execute_result"
    }
   ],
   "source": [
    "model=clf.fit(X_train_age_scaled,y_train)\n",
    "model.score(X_train_age_scaled, y_train)"
   ]
  },
  {
   "cell_type": "code",
   "execution_count": 75,
   "id": "62cccfd5",
   "metadata": {},
   "outputs": [
    {
     "name": "stderr",
     "output_type": "stream",
     "text": [
      "C:\\Users\\Jitu\\anaconda3\\lib\\site-packages\\sklearn\\base.py:441: UserWarning: X does not have valid feature names, but KNeighborsClassifier was fitted with feature names\n",
      "  warnings.warn(\n"
     ]
    },
    {
     "data": {
      "text/plain": [
       "0.8508771929824561"
      ]
     },
     "execution_count": 75,
     "metadata": {},
     "output_type": "execute_result"
    }
   ],
   "source": [
    "model.score(X_test_age_scaled, y_test)"
   ]
  },
  {
   "cell_type": "code",
   "execution_count": 76,
   "id": "c0a7b564",
   "metadata": {},
   "outputs": [
    {
     "data": {
      "text/html": [
       "<div>\n",
       "<style scoped>\n",
       "    .dataframe tbody tr th:only-of-type {\n",
       "        vertical-align: middle;\n",
       "    }\n",
       "\n",
       "    .dataframe tbody tr th {\n",
       "        vertical-align: top;\n",
       "    }\n",
       "\n",
       "    .dataframe thead th {\n",
       "        text-align: right;\n",
       "    }\n",
       "</style>\n",
       "<table border=\"1\" class=\"dataframe\">\n",
       "  <thead>\n",
       "    <tr style=\"text-align: right;\">\n",
       "      <th></th>\n",
       "      <th>age</th>\n",
       "      <th>economic.cond.national</th>\n",
       "      <th>economic.cond.household</th>\n",
       "      <th>Blair</th>\n",
       "      <th>Hague</th>\n",
       "      <th>Europe</th>\n",
       "      <th>political.knowledge</th>\n",
       "      <th>gender_male</th>\n",
       "    </tr>\n",
       "  </thead>\n",
       "  <tbody>\n",
       "    <tr>\n",
       "      <th>0</th>\n",
       "      <td>0.681159</td>\n",
       "      <td>0.50</td>\n",
       "      <td>0.50</td>\n",
       "      <td>0.75</td>\n",
       "      <td>0.25</td>\n",
       "      <td>1.0</td>\n",
       "      <td>0.000000</td>\n",
       "      <td>0.0</td>\n",
       "    </tr>\n",
       "    <tr>\n",
       "      <th>1</th>\n",
       "      <td>0.478261</td>\n",
       "      <td>0.75</td>\n",
       "      <td>1.00</td>\n",
       "      <td>0.75</td>\n",
       "      <td>0.00</td>\n",
       "      <td>0.2</td>\n",
       "      <td>0.666667</td>\n",
       "      <td>0.0</td>\n",
       "    </tr>\n",
       "    <tr>\n",
       "      <th>2</th>\n",
       "      <td>0.000000</td>\n",
       "      <td>0.50</td>\n",
       "      <td>0.75</td>\n",
       "      <td>0.25</td>\n",
       "      <td>0.75</td>\n",
       "      <td>1.0</td>\n",
       "      <td>0.000000</td>\n",
       "      <td>1.0</td>\n",
       "    </tr>\n",
       "    <tr>\n",
       "      <th>3</th>\n",
       "      <td>0.275362</td>\n",
       "      <td>0.75</td>\n",
       "      <td>0.75</td>\n",
       "      <td>0.25</td>\n",
       "      <td>0.50</td>\n",
       "      <td>0.4</td>\n",
       "      <td>0.000000</td>\n",
       "      <td>1.0</td>\n",
       "    </tr>\n",
       "    <tr>\n",
       "      <th>4</th>\n",
       "      <td>0.188406</td>\n",
       "      <td>0.50</td>\n",
       "      <td>0.25</td>\n",
       "      <td>0.75</td>\n",
       "      <td>0.25</td>\n",
       "      <td>0.6</td>\n",
       "      <td>0.666667</td>\n",
       "      <td>1.0</td>\n",
       "    </tr>\n",
       "    <tr>\n",
       "      <th>...</th>\n",
       "      <td>...</td>\n",
       "      <td>...</td>\n",
       "      <td>...</td>\n",
       "      <td>...</td>\n",
       "      <td>...</td>\n",
       "      <td>...</td>\n",
       "      <td>...</td>\n",
       "      <td>...</td>\n",
       "    </tr>\n",
       "    <tr>\n",
       "      <th>1056</th>\n",
       "      <td>0.811594</td>\n",
       "      <td>0.25</td>\n",
       "      <td>0.25</td>\n",
       "      <td>0.25</td>\n",
       "      <td>0.75</td>\n",
       "      <td>0.6</td>\n",
       "      <td>0.666667</td>\n",
       "      <td>1.0</td>\n",
       "    </tr>\n",
       "    <tr>\n",
       "      <th>1057</th>\n",
       "      <td>0.043478</td>\n",
       "      <td>0.50</td>\n",
       "      <td>0.50</td>\n",
       "      <td>0.25</td>\n",
       "      <td>0.75</td>\n",
       "      <td>0.4</td>\n",
       "      <td>0.666667</td>\n",
       "      <td>0.0</td>\n",
       "    </tr>\n",
       "    <tr>\n",
       "      <th>1058</th>\n",
       "      <td>0.463768</td>\n",
       "      <td>0.75</td>\n",
       "      <td>0.25</td>\n",
       "      <td>1.00</td>\n",
       "      <td>0.25</td>\n",
       "      <td>0.0</td>\n",
       "      <td>0.666667</td>\n",
       "      <td>0.0</td>\n",
       "    </tr>\n",
       "    <tr>\n",
       "      <th>1059</th>\n",
       "      <td>0.739130</td>\n",
       "      <td>0.75</td>\n",
       "      <td>0.50</td>\n",
       "      <td>0.75</td>\n",
       "      <td>1.00</td>\n",
       "      <td>0.6</td>\n",
       "      <td>1.000000</td>\n",
       "      <td>0.0</td>\n",
       "    </tr>\n",
       "    <tr>\n",
       "      <th>1060</th>\n",
       "      <td>0.275362</td>\n",
       "      <td>0.25</td>\n",
       "      <td>0.50</td>\n",
       "      <td>0.25</td>\n",
       "      <td>0.50</td>\n",
       "      <td>1.0</td>\n",
       "      <td>0.666667</td>\n",
       "      <td>0.0</td>\n",
       "    </tr>\n",
       "  </tbody>\n",
       "</table>\n",
       "<p>1061 rows × 8 columns</p>\n",
       "</div>"
      ],
      "text/plain": [
       "           age  economic.cond.national  economic.cond.household  Blair  Hague  \\\n",
       "0     0.681159                    0.50                     0.50   0.75   0.25   \n",
       "1     0.478261                    0.75                     1.00   0.75   0.00   \n",
       "2     0.000000                    0.50                     0.75   0.25   0.75   \n",
       "3     0.275362                    0.75                     0.75   0.25   0.50   \n",
       "4     0.188406                    0.50                     0.25   0.75   0.25   \n",
       "...        ...                     ...                      ...    ...    ...   \n",
       "1056  0.811594                    0.25                     0.25   0.25   0.75   \n",
       "1057  0.043478                    0.50                     0.50   0.25   0.75   \n",
       "1058  0.463768                    0.75                     0.25   1.00   0.25   \n",
       "1059  0.739130                    0.75                     0.50   0.75   1.00   \n",
       "1060  0.275362                    0.25                     0.50   0.25   0.50   \n",
       "\n",
       "      Europe  political.knowledge  gender_male  \n",
       "0        1.0             0.000000          0.0  \n",
       "1        0.2             0.666667          0.0  \n",
       "2        1.0             0.000000          1.0  \n",
       "3        0.4             0.000000          1.0  \n",
       "4        0.6             0.666667          1.0  \n",
       "...      ...                  ...          ...  \n",
       "1056     0.6             0.666667          1.0  \n",
       "1057     0.4             0.666667          0.0  \n",
       "1058     0.0             0.666667          0.0  \n",
       "1059     0.6             1.000000          0.0  \n",
       "1060     1.0             0.666667          0.0  \n",
       "\n",
       "[1061 rows x 8 columns]"
      ]
     },
     "execution_count": 76,
     "metadata": {},
     "output_type": "execute_result"
    }
   ],
   "source": [
    "from sklearn import preprocessing\n",
    "x = X_train.values    # returns a numpy array\n",
    "min_max_scaler = preprocessing.MinMaxScaler()\n",
    "x_scaled = min_max_scaler.fit_transform(x)\n",
    "X_train_norm = pd.DataFrame(x_scaled,columns=X_train.columns)\n",
    "X_train_norm"
   ]
  },
  {
   "cell_type": "code",
   "execution_count": 77,
   "id": "5c989541",
   "metadata": {},
   "outputs": [
    {
     "data": {
      "text/html": [
       "<div>\n",
       "<style scoped>\n",
       "    .dataframe tbody tr th:only-of-type {\n",
       "        vertical-align: middle;\n",
       "    }\n",
       "\n",
       "    .dataframe tbody tr th {\n",
       "        vertical-align: top;\n",
       "    }\n",
       "\n",
       "    .dataframe thead th {\n",
       "        text-align: right;\n",
       "    }\n",
       "</style>\n",
       "<table border=\"1\" class=\"dataframe\">\n",
       "  <thead>\n",
       "    <tr style=\"text-align: right;\">\n",
       "      <th></th>\n",
       "      <th>age</th>\n",
       "      <th>economic.cond.national</th>\n",
       "      <th>economic.cond.household</th>\n",
       "      <th>Blair</th>\n",
       "      <th>Hague</th>\n",
       "      <th>Europe</th>\n",
       "      <th>political.knowledge</th>\n",
       "      <th>gender_male</th>\n",
       "    </tr>\n",
       "  </thead>\n",
       "  <tbody>\n",
       "    <tr>\n",
       "      <th>0</th>\n",
       "      <td>0.681159</td>\n",
       "      <td>0.25</td>\n",
       "      <td>0.50</td>\n",
       "      <td>0.75</td>\n",
       "      <td>0.25</td>\n",
       "      <td>1.0</td>\n",
       "      <td>0.000000</td>\n",
       "      <td>0.0</td>\n",
       "    </tr>\n",
       "    <tr>\n",
       "      <th>1</th>\n",
       "      <td>0.101449</td>\n",
       "      <td>0.25</td>\n",
       "      <td>0.25</td>\n",
       "      <td>0.25</td>\n",
       "      <td>0.75</td>\n",
       "      <td>0.4</td>\n",
       "      <td>0.666667</td>\n",
       "      <td>1.0</td>\n",
       "    </tr>\n",
       "    <tr>\n",
       "      <th>2</th>\n",
       "      <td>0.159420</td>\n",
       "      <td>0.75</td>\n",
       "      <td>0.50</td>\n",
       "      <td>0.25</td>\n",
       "      <td>0.00</td>\n",
       "      <td>0.6</td>\n",
       "      <td>0.666667</td>\n",
       "      <td>1.0</td>\n",
       "    </tr>\n",
       "    <tr>\n",
       "      <th>3</th>\n",
       "      <td>0.144928</td>\n",
       "      <td>0.75</td>\n",
       "      <td>0.75</td>\n",
       "      <td>0.75</td>\n",
       "      <td>0.25</td>\n",
       "      <td>0.6</td>\n",
       "      <td>0.000000</td>\n",
       "      <td>0.0</td>\n",
       "    </tr>\n",
       "    <tr>\n",
       "      <th>4</th>\n",
       "      <td>0.231884</td>\n",
       "      <td>0.50</td>\n",
       "      <td>0.75</td>\n",
       "      <td>0.75</td>\n",
       "      <td>0.25</td>\n",
       "      <td>0.6</td>\n",
       "      <td>1.000000</td>\n",
       "      <td>1.0</td>\n",
       "    </tr>\n",
       "    <tr>\n",
       "      <th>...</th>\n",
       "      <td>...</td>\n",
       "      <td>...</td>\n",
       "      <td>...</td>\n",
       "      <td>...</td>\n",
       "      <td>...</td>\n",
       "      <td>...</td>\n",
       "      <td>...</td>\n",
       "      <td>...</td>\n",
       "    </tr>\n",
       "    <tr>\n",
       "      <th>451</th>\n",
       "      <td>0.478261</td>\n",
       "      <td>0.75</td>\n",
       "      <td>0.75</td>\n",
       "      <td>0.75</td>\n",
       "      <td>0.25</td>\n",
       "      <td>1.0</td>\n",
       "      <td>0.000000</td>\n",
       "      <td>0.0</td>\n",
       "    </tr>\n",
       "    <tr>\n",
       "      <th>452</th>\n",
       "      <td>0.652174</td>\n",
       "      <td>0.50</td>\n",
       "      <td>0.75</td>\n",
       "      <td>0.25</td>\n",
       "      <td>0.75</td>\n",
       "      <td>0.8</td>\n",
       "      <td>0.666667</td>\n",
       "      <td>1.0</td>\n",
       "    </tr>\n",
       "    <tr>\n",
       "      <th>453</th>\n",
       "      <td>0.782609</td>\n",
       "      <td>0.50</td>\n",
       "      <td>0.50</td>\n",
       "      <td>1.00</td>\n",
       "      <td>0.25</td>\n",
       "      <td>0.2</td>\n",
       "      <td>0.000000</td>\n",
       "      <td>0.0</td>\n",
       "    </tr>\n",
       "    <tr>\n",
       "      <th>454</th>\n",
       "      <td>0.159420</td>\n",
       "      <td>0.50</td>\n",
       "      <td>0.75</td>\n",
       "      <td>0.25</td>\n",
       "      <td>0.75</td>\n",
       "      <td>1.0</td>\n",
       "      <td>0.000000</td>\n",
       "      <td>1.0</td>\n",
       "    </tr>\n",
       "    <tr>\n",
       "      <th>455</th>\n",
       "      <td>0.855072</td>\n",
       "      <td>0.25</td>\n",
       "      <td>0.75</td>\n",
       "      <td>0.25</td>\n",
       "      <td>0.75</td>\n",
       "      <td>0.9</td>\n",
       "      <td>0.666667</td>\n",
       "      <td>0.0</td>\n",
       "    </tr>\n",
       "  </tbody>\n",
       "</table>\n",
       "<p>456 rows × 8 columns</p>\n",
       "</div>"
      ],
      "text/plain": [
       "          age  economic.cond.national  economic.cond.household  Blair  Hague  \\\n",
       "0    0.681159                    0.25                     0.50   0.75   0.25   \n",
       "1    0.101449                    0.25                     0.25   0.25   0.75   \n",
       "2    0.159420                    0.75                     0.50   0.25   0.00   \n",
       "3    0.144928                    0.75                     0.75   0.75   0.25   \n",
       "4    0.231884                    0.50                     0.75   0.75   0.25   \n",
       "..        ...                     ...                      ...    ...    ...   \n",
       "451  0.478261                    0.75                     0.75   0.75   0.25   \n",
       "452  0.652174                    0.50                     0.75   0.25   0.75   \n",
       "453  0.782609                    0.50                     0.50   1.00   0.25   \n",
       "454  0.159420                    0.50                     0.75   0.25   0.75   \n",
       "455  0.855072                    0.25                     0.75   0.25   0.75   \n",
       "\n",
       "     Europe  political.knowledge  gender_male  \n",
       "0       1.0             0.000000          0.0  \n",
       "1       0.4             0.666667          1.0  \n",
       "2       0.6             0.666667          1.0  \n",
       "3       0.6             0.000000          0.0  \n",
       "4       0.6             1.000000          1.0  \n",
       "..      ...                  ...          ...  \n",
       "451     1.0             0.000000          0.0  \n",
       "452     0.8             0.666667          1.0  \n",
       "453     0.2             0.000000          0.0  \n",
       "454     1.0             0.000000          1.0  \n",
       "455     0.9             0.666667          0.0  \n",
       "\n",
       "[456 rows x 8 columns]"
      ]
     },
     "execution_count": 77,
     "metadata": {},
     "output_type": "execute_result"
    }
   ],
   "source": [
    "x = X_test.values\n",
    "x_scaled = min_max_scaler.transform(x)\n",
    "X_test_norm = pd.DataFrame(x_scaled,columns=X_test.columns)\n",
    "X_test_norm"
   ]
  },
  {
   "cell_type": "code",
   "execution_count": 78,
   "id": "6a23b334",
   "metadata": {},
   "outputs": [
    {
     "data": {
      "text/html": [
       "<div>\n",
       "<style scoped>\n",
       "    .dataframe tbody tr th:only-of-type {\n",
       "        vertical-align: middle;\n",
       "    }\n",
       "\n",
       "    .dataframe tbody tr th {\n",
       "        vertical-align: top;\n",
       "    }\n",
       "\n",
       "    .dataframe thead th {\n",
       "        text-align: right;\n",
       "    }\n",
       "</style>\n",
       "<table border=\"1\" class=\"dataframe\">\n",
       "  <thead>\n",
       "    <tr style=\"text-align: right;\">\n",
       "      <th></th>\n",
       "      <th>age</th>\n",
       "      <th>economic.cond.national</th>\n",
       "      <th>economic.cond.household</th>\n",
       "      <th>Blair</th>\n",
       "      <th>Hague</th>\n",
       "      <th>Europe</th>\n",
       "      <th>political.knowledge</th>\n",
       "      <th>gender_male</th>\n",
       "    </tr>\n",
       "  </thead>\n",
       "  <tbody>\n",
       "    <tr>\n",
       "      <th>532</th>\n",
       "      <td>0.681159</td>\n",
       "      <td>3</td>\n",
       "      <td>3</td>\n",
       "      <td>4</td>\n",
       "      <td>2</td>\n",
       "      <td>11</td>\n",
       "      <td>0</td>\n",
       "      <td>0</td>\n",
       "    </tr>\n",
       "    <tr>\n",
       "      <th>706</th>\n",
       "      <td>0.478261</td>\n",
       "      <td>4</td>\n",
       "      <td>5</td>\n",
       "      <td>4</td>\n",
       "      <td>1</td>\n",
       "      <td>3</td>\n",
       "      <td>2</td>\n",
       "      <td>0</td>\n",
       "    </tr>\n",
       "    <tr>\n",
       "      <th>1140</th>\n",
       "      <td>0.000000</td>\n",
       "      <td>3</td>\n",
       "      <td>4</td>\n",
       "      <td>2</td>\n",
       "      <td>4</td>\n",
       "      <td>11</td>\n",
       "      <td>0</td>\n",
       "      <td>1</td>\n",
       "    </tr>\n",
       "    <tr>\n",
       "      <th>1077</th>\n",
       "      <td>0.275362</td>\n",
       "      <td>4</td>\n",
       "      <td>4</td>\n",
       "      <td>2</td>\n",
       "      <td>3</td>\n",
       "      <td>5</td>\n",
       "      <td>0</td>\n",
       "      <td>1</td>\n",
       "    </tr>\n",
       "    <tr>\n",
       "      <th>954</th>\n",
       "      <td>0.188406</td>\n",
       "      <td>3</td>\n",
       "      <td>2</td>\n",
       "      <td>4</td>\n",
       "      <td>2</td>\n",
       "      <td>7</td>\n",
       "      <td>2</td>\n",
       "      <td>1</td>\n",
       "    </tr>\n",
       "    <tr>\n",
       "      <th>...</th>\n",
       "      <td>...</td>\n",
       "      <td>...</td>\n",
       "      <td>...</td>\n",
       "      <td>...</td>\n",
       "      <td>...</td>\n",
       "      <td>...</td>\n",
       "      <td>...</td>\n",
       "      <td>...</td>\n",
       "    </tr>\n",
       "    <tr>\n",
       "      <th>512</th>\n",
       "      <td>0.811594</td>\n",
       "      <td>2</td>\n",
       "      <td>2</td>\n",
       "      <td>2</td>\n",
       "      <td>4</td>\n",
       "      <td>7</td>\n",
       "      <td>2</td>\n",
       "      <td>1</td>\n",
       "    </tr>\n",
       "    <tr>\n",
       "      <th>825</th>\n",
       "      <td>0.043478</td>\n",
       "      <td>3</td>\n",
       "      <td>3</td>\n",
       "      <td>2</td>\n",
       "      <td>4</td>\n",
       "      <td>5</td>\n",
       "      <td>2</td>\n",
       "      <td>0</td>\n",
       "    </tr>\n",
       "    <tr>\n",
       "      <th>348</th>\n",
       "      <td>0.463768</td>\n",
       "      <td>4</td>\n",
       "      <td>2</td>\n",
       "      <td>5</td>\n",
       "      <td>2</td>\n",
       "      <td>1</td>\n",
       "      <td>2</td>\n",
       "      <td>0</td>\n",
       "    </tr>\n",
       "    <tr>\n",
       "      <th>1241</th>\n",
       "      <td>0.739130</td>\n",
       "      <td>4</td>\n",
       "      <td>3</td>\n",
       "      <td>4</td>\n",
       "      <td>5</td>\n",
       "      <td>7</td>\n",
       "      <td>3</td>\n",
       "      <td>0</td>\n",
       "    </tr>\n",
       "    <tr>\n",
       "      <th>1137</th>\n",
       "      <td>0.275362</td>\n",
       "      <td>2</td>\n",
       "      <td>3</td>\n",
       "      <td>2</td>\n",
       "      <td>3</td>\n",
       "      <td>11</td>\n",
       "      <td>2</td>\n",
       "      <td>0</td>\n",
       "    </tr>\n",
       "  </tbody>\n",
       "</table>\n",
       "<p>1061 rows × 8 columns</p>\n",
       "</div>"
      ],
      "text/plain": [
       "           age  economic.cond.national  economic.cond.household  Blair  Hague  \\\n",
       "532   0.681159                       3                        3      4      2   \n",
       "706   0.478261                       4                        5      4      1   \n",
       "1140  0.000000                       3                        4      2      4   \n",
       "1077  0.275362                       4                        4      2      3   \n",
       "954   0.188406                       3                        2      4      2   \n",
       "...        ...                     ...                      ...    ...    ...   \n",
       "512   0.811594                       2                        2      2      4   \n",
       "825   0.043478                       3                        3      2      4   \n",
       "348   0.463768                       4                        2      5      2   \n",
       "1241  0.739130                       4                        3      4      5   \n",
       "1137  0.275362                       2                        3      2      3   \n",
       "\n",
       "      Europe  political.knowledge  gender_male  \n",
       "532       11                    0            0  \n",
       "706        3                    2            0  \n",
       "1140      11                    0            1  \n",
       "1077       5                    0            1  \n",
       "954        7                    2            1  \n",
       "...      ...                  ...          ...  \n",
       "512        7                    2            1  \n",
       "825        5                    2            0  \n",
       "348        1                    2            0  \n",
       "1241       7                    3            0  \n",
       "1137      11                    2            0  \n",
       "\n",
       "[1061 rows x 8 columns]"
      ]
     },
     "execution_count": 78,
     "metadata": {},
     "output_type": "execute_result"
    }
   ],
   "source": [
    "X_train_age_norm = X_train.copy()\n",
    "X_train_age_norm['age'] = (X_train['age']-X_train['age'].min())/(X_train['age'].max()-X_train['age'].min())\n",
    "X_train_age_norm"
   ]
  },
  {
   "cell_type": "code",
   "execution_count": 79,
   "id": "b0e207a0",
   "metadata": {},
   "outputs": [
    {
     "data": {
      "text/html": [
       "<div>\n",
       "<style scoped>\n",
       "    .dataframe tbody tr th:only-of-type {\n",
       "        vertical-align: middle;\n",
       "    }\n",
       "\n",
       "    .dataframe tbody tr th {\n",
       "        vertical-align: top;\n",
       "    }\n",
       "\n",
       "    .dataframe thead th {\n",
       "        text-align: right;\n",
       "    }\n",
       "</style>\n",
       "<table border=\"1\" class=\"dataframe\">\n",
       "  <thead>\n",
       "    <tr style=\"text-align: right;\">\n",
       "      <th></th>\n",
       "      <th>age</th>\n",
       "      <th>economic.cond.national</th>\n",
       "      <th>economic.cond.household</th>\n",
       "      <th>Blair</th>\n",
       "      <th>Hague</th>\n",
       "      <th>Europe</th>\n",
       "      <th>political.knowledge</th>\n",
       "      <th>gender_male</th>\n",
       "    </tr>\n",
       "  </thead>\n",
       "  <tbody>\n",
       "    <tr>\n",
       "      <th>273</th>\n",
       "      <td>0.681159</td>\n",
       "      <td>2</td>\n",
       "      <td>3</td>\n",
       "      <td>4</td>\n",
       "      <td>2</td>\n",
       "      <td>11</td>\n",
       "      <td>0</td>\n",
       "      <td>0</td>\n",
       "    </tr>\n",
       "    <tr>\n",
       "      <th>765</th>\n",
       "      <td>0.101449</td>\n",
       "      <td>2</td>\n",
       "      <td>2</td>\n",
       "      <td>2</td>\n",
       "      <td>4</td>\n",
       "      <td>5</td>\n",
       "      <td>2</td>\n",
       "      <td>1</td>\n",
       "    </tr>\n",
       "    <tr>\n",
       "      <th>415</th>\n",
       "      <td>0.159420</td>\n",
       "      <td>4</td>\n",
       "      <td>3</td>\n",
       "      <td>2</td>\n",
       "      <td>1</td>\n",
       "      <td>7</td>\n",
       "      <td>2</td>\n",
       "      <td>1</td>\n",
       "    </tr>\n",
       "    <tr>\n",
       "      <th>1029</th>\n",
       "      <td>0.144928</td>\n",
       "      <td>4</td>\n",
       "      <td>4</td>\n",
       "      <td>4</td>\n",
       "      <td>2</td>\n",
       "      <td>7</td>\n",
       "      <td>0</td>\n",
       "      <td>0</td>\n",
       "    </tr>\n",
       "    <tr>\n",
       "      <th>506</th>\n",
       "      <td>0.231884</td>\n",
       "      <td>3</td>\n",
       "      <td>4</td>\n",
       "      <td>4</td>\n",
       "      <td>2</td>\n",
       "      <td>7</td>\n",
       "      <td>3</td>\n",
       "      <td>1</td>\n",
       "    </tr>\n",
       "    <tr>\n",
       "      <th>...</th>\n",
       "      <td>...</td>\n",
       "      <td>...</td>\n",
       "      <td>...</td>\n",
       "      <td>...</td>\n",
       "      <td>...</td>\n",
       "      <td>...</td>\n",
       "      <td>...</td>\n",
       "      <td>...</td>\n",
       "    </tr>\n",
       "    <tr>\n",
       "      <th>653</th>\n",
       "      <td>0.478261</td>\n",
       "      <td>4</td>\n",
       "      <td>4</td>\n",
       "      <td>4</td>\n",
       "      <td>2</td>\n",
       "      <td>11</td>\n",
       "      <td>0</td>\n",
       "      <td>0</td>\n",
       "    </tr>\n",
       "    <tr>\n",
       "      <th>504</th>\n",
       "      <td>0.652174</td>\n",
       "      <td>3</td>\n",
       "      <td>4</td>\n",
       "      <td>2</td>\n",
       "      <td>4</td>\n",
       "      <td>9</td>\n",
       "      <td>2</td>\n",
       "      <td>1</td>\n",
       "    </tr>\n",
       "    <tr>\n",
       "      <th>1423</th>\n",
       "      <td>0.782609</td>\n",
       "      <td>3</td>\n",
       "      <td>3</td>\n",
       "      <td>5</td>\n",
       "      <td>2</td>\n",
       "      <td>3</td>\n",
       "      <td>0</td>\n",
       "      <td>0</td>\n",
       "    </tr>\n",
       "    <tr>\n",
       "      <th>886</th>\n",
       "      <td>0.159420</td>\n",
       "      <td>3</td>\n",
       "      <td>4</td>\n",
       "      <td>2</td>\n",
       "      <td>4</td>\n",
       "      <td>11</td>\n",
       "      <td>0</td>\n",
       "      <td>1</td>\n",
       "    </tr>\n",
       "    <tr>\n",
       "      <th>350</th>\n",
       "      <td>0.855072</td>\n",
       "      <td>2</td>\n",
       "      <td>4</td>\n",
       "      <td>2</td>\n",
       "      <td>4</td>\n",
       "      <td>10</td>\n",
       "      <td>2</td>\n",
       "      <td>0</td>\n",
       "    </tr>\n",
       "  </tbody>\n",
       "</table>\n",
       "<p>456 rows × 8 columns</p>\n",
       "</div>"
      ],
      "text/plain": [
       "           age  economic.cond.national  economic.cond.household  Blair  Hague  \\\n",
       "273   0.681159                       2                        3      4      2   \n",
       "765   0.101449                       2                        2      2      4   \n",
       "415   0.159420                       4                        3      2      1   \n",
       "1029  0.144928                       4                        4      4      2   \n",
       "506   0.231884                       3                        4      4      2   \n",
       "...        ...                     ...                      ...    ...    ...   \n",
       "653   0.478261                       4                        4      4      2   \n",
       "504   0.652174                       3                        4      2      4   \n",
       "1423  0.782609                       3                        3      5      2   \n",
       "886   0.159420                       3                        4      2      4   \n",
       "350   0.855072                       2                        4      2      4   \n",
       "\n",
       "      Europe  political.knowledge  gender_male  \n",
       "273       11                    0            0  \n",
       "765        5                    2            1  \n",
       "415        7                    2            1  \n",
       "1029       7                    0            0  \n",
       "506        7                    3            1  \n",
       "...      ...                  ...          ...  \n",
       "653       11                    0            0  \n",
       "504        9                    2            1  \n",
       "1423       3                    0            0  \n",
       "886       11                    0            1  \n",
       "350       10                    2            0  \n",
       "\n",
       "[456 rows x 8 columns]"
      ]
     },
     "execution_count": 79,
     "metadata": {},
     "output_type": "execute_result"
    }
   ],
   "source": [
    "X_test_age_norm = X_test.copy()\n",
    "X_test_age_norm['age'] = (X_test['age']-X_train['age'].min())/(X_train['age'].max()-X_train['age'].min())\n",
    "X_test_age_norm"
   ]
  },
  {
   "cell_type": "code",
   "execution_count": 80,
   "id": "950b811b",
   "metadata": {},
   "outputs": [
    {
     "data": {
      "text/plain": [
       "KNeighborsClassifier()"
      ]
     },
     "execution_count": 80,
     "metadata": {},
     "output_type": "execute_result"
    }
   ],
   "source": [
    "model.fit(X_train_norm, y_train)"
   ]
  },
  {
   "cell_type": "code",
   "execution_count": 81,
   "id": "196a7a95",
   "metadata": {},
   "outputs": [
    {
     "name": "stderr",
     "output_type": "stream",
     "text": [
      "C:\\Users\\Jitu\\anaconda3\\lib\\site-packages\\sklearn\\base.py:441: UserWarning: X does not have valid feature names, but KNeighborsClassifier was fitted with feature names\n",
      "  warnings.warn(\n"
     ]
    },
    {
     "data": {
      "text/plain": [
       "0.8680490103675778"
      ]
     },
     "execution_count": 81,
     "metadata": {},
     "output_type": "execute_result"
    }
   ],
   "source": [
    "model.score(X_train_norm, y_train)"
   ]
  },
  {
   "cell_type": "code",
   "execution_count": 82,
   "id": "1111302e",
   "metadata": {},
   "outputs": [
    {
     "name": "stderr",
     "output_type": "stream",
     "text": [
      "C:\\Users\\Jitu\\anaconda3\\lib\\site-packages\\sklearn\\base.py:441: UserWarning: X does not have valid feature names, but KNeighborsClassifier was fitted with feature names\n",
      "  warnings.warn(\n"
     ]
    },
    {
     "data": {
      "text/plain": [
       "0.8442982456140351"
      ]
     },
     "execution_count": 82,
     "metadata": {},
     "output_type": "execute_result"
    }
   ],
   "source": [
    "model.score(X_test_norm, y_test)"
   ]
  },
  {
   "cell_type": "code",
   "execution_count": 83,
   "id": "f9c5aa81",
   "metadata": {},
   "outputs": [
    {
     "data": {
      "text/plain": [
       "KNeighborsClassifier()"
      ]
     },
     "execution_count": 83,
     "metadata": {},
     "output_type": "execute_result"
    }
   ],
   "source": [
    "model.fit(X_train_age_norm, y_train)"
   ]
  },
  {
   "cell_type": "code",
   "execution_count": 84,
   "id": "0ab9fced",
   "metadata": {},
   "outputs": [
    {
     "name": "stderr",
     "output_type": "stream",
     "text": [
      "C:\\Users\\Jitu\\anaconda3\\lib\\site-packages\\sklearn\\base.py:441: UserWarning: X does not have valid feature names, but KNeighborsClassifier was fitted with feature names\n",
      "  warnings.warn(\n"
     ]
    },
    {
     "data": {
      "text/plain": [
       "0.8633364750235627"
      ]
     },
     "execution_count": 84,
     "metadata": {},
     "output_type": "execute_result"
    }
   ],
   "source": [
    "model.score(X_train_age_norm, y_train)"
   ]
  },
  {
   "cell_type": "code",
   "execution_count": 85,
   "id": "373e751e",
   "metadata": {},
   "outputs": [
    {
     "name": "stderr",
     "output_type": "stream",
     "text": [
      "C:\\Users\\Jitu\\anaconda3\\lib\\site-packages\\sklearn\\base.py:441: UserWarning: X does not have valid feature names, but KNeighborsClassifier was fitted with feature names\n",
      "  warnings.warn(\n"
     ]
    },
    {
     "data": {
      "text/plain": [
       "0.8464912280701754"
      ]
     },
     "execution_count": 85,
     "metadata": {},
     "output_type": "execute_result"
    }
   ],
   "source": [
    "model.score(X_test_age_norm, y_test)"
   ]
  },
  {
   "cell_type": "code",
   "execution_count": null,
   "id": "748542e7",
   "metadata": {},
   "outputs": [],
   "source": []
  },
  {
   "cell_type": "code",
   "execution_count": 86,
   "id": "1ff52388",
   "metadata": {
    "scrolled": false
   },
   "outputs": [
    {
     "name": "stderr",
     "output_type": "stream",
     "text": [
      "C:\\Users\\Jitu\\anaconda3\\lib\\site-packages\\sklearn\\base.py:441: UserWarning: X does not have valid feature names, but KNeighborsClassifier was fitted with feature names\n",
      "  warnings.warn(\n",
      "C:\\Users\\Jitu\\anaconda3\\lib\\site-packages\\sklearn\\base.py:441: UserWarning: X does not have valid feature names, but KNeighborsClassifier was fitted with feature names\n",
      "  warnings.warn(\n",
      "C:\\Users\\Jitu\\anaconda3\\lib\\site-packages\\sklearn\\base.py:441: UserWarning: X does not have valid feature names, but KNeighborsClassifier was fitted with feature names\n",
      "  warnings.warn(\n",
      "C:\\Users\\Jitu\\anaconda3\\lib\\site-packages\\sklearn\\base.py:441: UserWarning: X does not have valid feature names, but KNeighborsClassifier was fitted with feature names\n",
      "  warnings.warn(\n",
      "C:\\Users\\Jitu\\anaconda3\\lib\\site-packages\\sklearn\\base.py:441: UserWarning: X does not have valid feature names, but KNeighborsClassifier was fitted with feature names\n",
      "  warnings.warn(\n",
      "C:\\Users\\Jitu\\anaconda3\\lib\\site-packages\\sklearn\\base.py:441: UserWarning: X does not have valid feature names, but KNeighborsClassifier was fitted with feature names\n",
      "  warnings.warn(\n",
      "C:\\Users\\Jitu\\anaconda3\\lib\\site-packages\\sklearn\\base.py:441: UserWarning: X does not have valid feature names, but KNeighborsClassifier was fitted with feature names\n",
      "  warnings.warn(\n",
      "C:\\Users\\Jitu\\anaconda3\\lib\\site-packages\\sklearn\\base.py:441: UserWarning: X does not have valid feature names, but KNeighborsClassifier was fitted with feature names\n",
      "  warnings.warn(\n",
      "C:\\Users\\Jitu\\anaconda3\\lib\\site-packages\\sklearn\\base.py:441: UserWarning: X does not have valid feature names, but KNeighborsClassifier was fitted with feature names\n",
      "  warnings.warn(\n",
      "C:\\Users\\Jitu\\anaconda3\\lib\\site-packages\\sklearn\\base.py:441: UserWarning: X does not have valid feature names, but KNeighborsClassifier was fitted with feature names\n",
      "  warnings.warn(\n",
      "C:\\Users\\Jitu\\anaconda3\\lib\\site-packages\\sklearn\\base.py:441: UserWarning: X does not have valid feature names, but KNeighborsClassifier was fitted with feature names\n",
      "  warnings.warn(\n",
      "C:\\Users\\Jitu\\anaconda3\\lib\\site-packages\\sklearn\\base.py:441: UserWarning: X does not have valid feature names, but KNeighborsClassifier was fitted with feature names\n",
      "  warnings.warn(\n",
      "C:\\Users\\Jitu\\anaconda3\\lib\\site-packages\\sklearn\\base.py:441: UserWarning: X does not have valid feature names, but KNeighborsClassifier was fitted with feature names\n",
      "  warnings.warn(\n",
      "C:\\Users\\Jitu\\anaconda3\\lib\\site-packages\\sklearn\\base.py:441: UserWarning: X does not have valid feature names, but KNeighborsClassifier was fitted with feature names\n",
      "  warnings.warn(\n",
      "C:\\Users\\Jitu\\anaconda3\\lib\\site-packages\\sklearn\\base.py:441: UserWarning: X does not have valid feature names, but KNeighborsClassifier was fitted with feature names\n",
      "  warnings.warn(\n",
      "C:\\Users\\Jitu\\anaconda3\\lib\\site-packages\\sklearn\\base.py:441: UserWarning: X does not have valid feature names, but KNeighborsClassifier was fitted with feature names\n",
      "  warnings.warn(\n",
      "C:\\Users\\Jitu\\anaconda3\\lib\\site-packages\\sklearn\\base.py:441: UserWarning: X does not have valid feature names, but KNeighborsClassifier was fitted with feature names\n",
      "  warnings.warn(\n",
      "C:\\Users\\Jitu\\anaconda3\\lib\\site-packages\\sklearn\\base.py:441: UserWarning: X does not have valid feature names, but KNeighborsClassifier was fitted with feature names\n",
      "  warnings.warn(\n",
      "C:\\Users\\Jitu\\anaconda3\\lib\\site-packages\\sklearn\\base.py:441: UserWarning: X does not have valid feature names, but KNeighborsClassifier was fitted with feature names\n",
      "  warnings.warn(\n",
      "C:\\Users\\Jitu\\anaconda3\\lib\\site-packages\\sklearn\\base.py:441: UserWarning: X does not have valid feature names, but KNeighborsClassifier was fitted with feature names\n",
      "  warnings.warn(\n",
      "C:\\Users\\Jitu\\anaconda3\\lib\\site-packages\\sklearn\\base.py:441: UserWarning: X does not have valid feature names, but KNeighborsClassifier was fitted with feature names\n",
      "  warnings.warn(\n",
      "C:\\Users\\Jitu\\anaconda3\\lib\\site-packages\\sklearn\\base.py:441: UserWarning: X does not have valid feature names, but KNeighborsClassifier was fitted with feature names\n",
      "  warnings.warn(\n",
      "C:\\Users\\Jitu\\anaconda3\\lib\\site-packages\\sklearn\\base.py:441: UserWarning: X does not have valid feature names, but KNeighborsClassifier was fitted with feature names\n",
      "  warnings.warn(\n",
      "C:\\Users\\Jitu\\anaconda3\\lib\\site-packages\\sklearn\\base.py:441: UserWarning: X does not have valid feature names, but KNeighborsClassifier was fitted with feature names\n",
      "  warnings.warn(\n",
      "C:\\Users\\Jitu\\anaconda3\\lib\\site-packages\\sklearn\\base.py:441: UserWarning: X does not have valid feature names, but KNeighborsClassifier was fitted with feature names\n",
      "  warnings.warn(\n",
      "C:\\Users\\Jitu\\anaconda3\\lib\\site-packages\\sklearn\\base.py:441: UserWarning: X does not have valid feature names, but KNeighborsClassifier was fitted with feature names\n",
      "  warnings.warn(\n",
      "C:\\Users\\Jitu\\anaconda3\\lib\\site-packages\\sklearn\\base.py:441: UserWarning: X does not have valid feature names, but KNeighborsClassifier was fitted with feature names\n",
      "  warnings.warn(\n",
      "C:\\Users\\Jitu\\anaconda3\\lib\\site-packages\\sklearn\\base.py:441: UserWarning: X does not have valid feature names, but KNeighborsClassifier was fitted with feature names\n",
      "  warnings.warn(\n",
      "C:\\Users\\Jitu\\anaconda3\\lib\\site-packages\\sklearn\\base.py:441: UserWarning: X does not have valid feature names, but KNeighborsClassifier was fitted with feature names\n",
      "  warnings.warn(\n",
      "C:\\Users\\Jitu\\anaconda3\\lib\\site-packages\\sklearn\\base.py:441: UserWarning: X does not have valid feature names, but KNeighborsClassifier was fitted with feature names\n",
      "  warnings.warn(\n"
     ]
    },
    {
     "data": {
      "text/plain": [
       "[0.7741228070175439,\n",
       " 0.7543859649122807,\n",
       " 0.8070175438596491,\n",
       " 0.8114035087719298,\n",
       " 0.8070175438596491,\n",
       " 0.8048245614035088,\n",
       " 0.8289473684210527,\n",
       " 0.8289473684210527,\n",
       " 0.831140350877193,\n",
       " 0.8289473684210527,\n",
       " 0.831140350877193,\n",
       " 0.8289473684210527,\n",
       " 0.8377192982456141,\n",
       " 0.8333333333333334,\n",
       " 0.8442982456140351,\n",
       " 0.8399122807017544,\n",
       " 0.8421052631578947,\n",
       " 0.8421052631578947,\n",
       " 0.8377192982456141,\n",
       " 0.831140350877193,\n",
       " 0.8245614035087719,\n",
       " 0.8355263157894737,\n",
       " 0.8333333333333334,\n",
       " 0.8399122807017544,\n",
       " 0.8377192982456141,\n",
       " 0.8442982456140351,\n",
       " 0.8486842105263158,\n",
       " 0.8464912280701754,\n",
       " 0.8442982456140351,\n",
       " 0.8442982456140351]"
      ]
     },
     "execution_count": 86,
     "metadata": {},
     "output_type": "execute_result"
    }
   ],
   "source": [
    "# empty list that will hold accuracy scores\n",
    "ac_scores = []\n",
    "\n",
    "# perform accuracy metrics for values from 1,3,5....19\n",
    "for k in range(1,31,1):\n",
    "    knn = KNeighborsClassifier(n_neighbors=k)\n",
    "    knn.fit(X_train, y_train)\n",
    "    # evaluate test accuracy\n",
    "    scores = knn.score(X_test, y_test)\n",
    "    ac_scores.append(scores)\n",
    "\n",
    "ac_scores"
   ]
  },
  {
   "cell_type": "code",
   "execution_count": 87,
   "id": "8d53116d",
   "metadata": {},
   "outputs": [
    {
     "data": {
      "text/plain": [
       "[0.22587719298245612,\n",
       " 0.24561403508771928,\n",
       " 0.19298245614035092,\n",
       " 0.1885964912280702,\n",
       " 0.19298245614035092,\n",
       " 0.19517543859649122,\n",
       " 0.17105263157894735,\n",
       " 0.17105263157894735,\n",
       " 0.16885964912280704,\n",
       " 0.17105263157894735,\n",
       " 0.16885964912280704,\n",
       " 0.17105263157894735,\n",
       " 0.16228070175438591,\n",
       " 0.16666666666666663,\n",
       " 0.1557017543859649,\n",
       " 0.1600877192982456,\n",
       " 0.1578947368421053,\n",
       " 0.1578947368421053,\n",
       " 0.16228070175438591,\n",
       " 0.16885964912280704,\n",
       " 0.17543859649122806,\n",
       " 0.16447368421052633,\n",
       " 0.16666666666666663,\n",
       " 0.1600877192982456,\n",
       " 0.16228070175438591,\n",
       " 0.1557017543859649,\n",
       " 0.15131578947368418,\n",
       " 0.1535087719298246,\n",
       " 0.1557017543859649,\n",
       " 0.1557017543859649]"
      ]
     },
     "execution_count": 87,
     "metadata": {},
     "output_type": "execute_result"
    }
   ],
   "source": [
    "# changing to misclassification error\n",
    "MCE = [1 - x for x in ac_scores]\n",
    "MCE"
   ]
  },
  {
   "cell_type": "code",
   "execution_count": 88,
   "id": "d27f82b0",
   "metadata": {},
   "outputs": [
    {
     "data": {
      "image/png": "[encoded data removed]",
      "text/plain": [
       "<Figure size 1080x432 with 1 Axes>"
      ]
     },
     "metadata": {},
     "output_type": "display_data"
    }
   ],
   "source": [
    "import matplotlib.pyplot as plt\n",
    "# plot misclassification error vs k\n",
    "sns.set(font_scale=1.3)\n",
    "plt.figure(figsize=(15,6))\n",
    "plt.plot(range(1,31,1), MCE)\n",
    "plt.xlabel('Number of Neighbors K',weight='bold')\n",
    "plt.ylabel('Misclassification Error',weight='bold')\n",
    "plt.xticks(range(1,31))\n",
    "plt.yticks(np.arange(0.145,0.255,0.01))\n",
    "plt.show()\n",
    "sns.set(font_scale=1.0)"
   ]
  },
  {
   "cell_type": "code",
   "execution_count": 89,
   "id": "871be87f",
   "metadata": {},
   "outputs": [],
   "source": [
    "from sklearn.neighbors import KNeighborsClassifier\n",
    "#Build knn Model\n",
    "clf = KNeighborsClassifier(n_neighbors=27,leaf_size=10)\n",
    "model=clf.fit(X_train,y_train)"
   ]
  },
  {
   "cell_type": "code",
   "execution_count": 90,
   "id": "f9efe510",
   "metadata": {},
   "outputs": [
    {
     "name": "stderr",
     "output_type": "stream",
     "text": [
      "C:\\Users\\Jitu\\anaconda3\\lib\\site-packages\\sklearn\\base.py:441: UserWarning: X does not have valid feature names, but KNeighborsClassifier was fitted with feature names\n",
      "  warnings.warn(\n"
     ]
    },
    {
     "data": {
      "text/plain": [
       "0.8058435438265787"
      ]
     },
     "execution_count": 90,
     "metadata": {},
     "output_type": "execute_result"
    }
   ],
   "source": [
    "model.score(X_train, y_train)"
   ]
  },
  {
   "cell_type": "code",
   "execution_count": 91,
   "id": "01fcf9e6",
   "metadata": {},
   "outputs": [
    {
     "name": "stderr",
     "output_type": "stream",
     "text": [
      "C:\\Users\\Jitu\\anaconda3\\lib\\site-packages\\sklearn\\base.py:441: UserWarning: X does not have valid feature names, but KNeighborsClassifier was fitted with feature names\n",
      "  warnings.warn(\n"
     ]
    },
    {
     "data": {
      "text/plain": [
       "0.8464912280701754"
      ]
     },
     "execution_count": 91,
     "metadata": {},
     "output_type": "execute_result"
    }
   ],
   "source": [
    "model.score(X_test, y_test)"
   ]
  },
  {
   "cell_type": "code",
   "execution_count": 92,
   "id": "a2de65c2",
   "metadata": {},
   "outputs": [
    {
     "name": "stderr",
     "output_type": "stream",
     "text": [
      "C:\\Users\\Jitu\\anaconda3\\lib\\site-packages\\sklearn\\base.py:441: UserWarning: X does not have valid feature names, but KNeighborsClassifier was fitted with feature names\n",
      "  warnings.warn(\n"
     ]
    },
    {
     "data": {
      "text/plain": [
       "0.8322337417530632"
      ]
     },
     "execution_count": 92,
     "metadata": {},
     "output_type": "execute_result"
    }
   ],
   "source": [
    "model=clf.fit(X_train_scaled,y_train)\n",
    "model.score(X_train_scaled, y_train)"
   ]
  },
  {
   "cell_type": "code",
   "execution_count": 93,
   "id": "d44080b6",
   "metadata": {},
   "outputs": [
    {
     "name": "stderr",
     "output_type": "stream",
     "text": [
      "C:\\Users\\Jitu\\anaconda3\\lib\\site-packages\\sklearn\\base.py:441: UserWarning: X does not have valid feature names, but KNeighborsClassifier was fitted with feature names\n",
      "  warnings.warn(\n"
     ]
    },
    {
     "data": {
      "text/plain": [
       "0.8442982456140351"
      ]
     },
     "execution_count": 93,
     "metadata": {},
     "output_type": "execute_result"
    }
   ],
   "source": [
    "model.score(X_test_scaled, y_test)"
   ]
  },
  {
   "cell_type": "code",
   "execution_count": 94,
   "id": "6aa88932",
   "metadata": {},
   "outputs": [
    {
     "name": "stderr",
     "output_type": "stream",
     "text": [
      "C:\\Users\\Jitu\\anaconda3\\lib\\site-packages\\sklearn\\base.py:441: UserWarning: X does not have valid feature names, but KNeighborsClassifier was fitted with feature names\n",
      "  warnings.warn(\n"
     ]
    },
    {
     "data": {
      "text/plain": [
       "0.8350612629594723"
      ]
     },
     "execution_count": 94,
     "metadata": {},
     "output_type": "execute_result"
    }
   ],
   "source": [
    "model=clf.fit(X_train_age_scaled,y_train)\n",
    "model.score(X_train_age_scaled, y_train)"
   ]
  },
  {
   "cell_type": "code",
   "execution_count": 95,
   "id": "b3201876",
   "metadata": {},
   "outputs": [
    {
     "name": "stderr",
     "output_type": "stream",
     "text": [
      "C:\\Users\\Jitu\\anaconda3\\lib\\site-packages\\sklearn\\base.py:441: UserWarning: X does not have valid feature names, but KNeighborsClassifier was fitted with feature names\n",
      "  warnings.warn(\n"
     ]
    },
    {
     "data": {
      "text/plain": [
       "0.8508771929824561"
      ]
     },
     "execution_count": 95,
     "metadata": {},
     "output_type": "execute_result"
    }
   ],
   "source": [
    "model.score(X_test_age_scaled, y_test)"
   ]
  },
  {
   "cell_type": "code",
   "execution_count": 96,
   "id": "9c33e163",
   "metadata": {},
   "outputs": [],
   "source": [
    "from sklearn.model_selection import GridSearchCV\n",
    "grid={'weights':['uniform','distance'], 'leaf_size':[10,15,20,30,50,100,200,400,500]}\n",
    "model = KNeighborsClassifier(n_neighbors=27)"
   ]
  },
  {
   "cell_type": "code",
   "execution_count": 97,
   "id": "b2793068",
   "metadata": {},
   "outputs": [],
   "source": [
    "grid_search = GridSearchCV(estimator = model, param_grid = grid, cv = 3,n_jobs=-1,scoring='f1')"
   ]
  },
  {
   "cell_type": "code",
   "execution_count": 98,
   "id": "30d6b6a0",
   "metadata": {},
   "outputs": [
    {
     "name": "stderr",
     "output_type": "stream",
     "text": [
      "C:\\Users\\Jitu\\anaconda3\\lib\\site-packages\\sklearn\\model_selection\\_search.py:969: UserWarning: One or more of the test scores are non-finite: [nan nan nan nan nan nan nan nan nan nan nan nan nan nan nan nan nan nan]\n",
      "  warnings.warn(\n"
     ]
    },
    {
     "data": {
      "text/plain": [
       "GridSearchCV(cv=3, estimator=KNeighborsClassifier(n_neighbors=27), n_jobs=-1,\n",
       "             param_grid={'leaf_size': [10, 15, 20, 30, 50, 100, 200, 400, 500],\n",
       "                         'weights': ['uniform', 'distance']},\n",
       "             scoring='f1')"
      ]
     },
     "execution_count": 98,
     "metadata": {},
     "output_type": "execute_result"
    }
   ],
   "source": [
    "grid_search.fit(X_train, y_train)"
   ]
  },
  {
   "cell_type": "code",
   "execution_count": 99,
   "id": "8b0d23ff",
   "metadata": {},
   "outputs": [
    {
     "name": "stdout",
     "output_type": "stream",
     "text": [
      "{'leaf_size': 10, 'weights': 'uniform'} \n",
      "\n",
      "KNeighborsClassifier(leaf_size=10, n_neighbors=27)\n"
     ]
    }
   ],
   "source": [
    "print(grid_search.best_params_,'\\n')\n",
    "print(grid_search.best_estimator_)"
   ]
  },
  {
   "cell_type": "code",
   "execution_count": 100,
   "id": "e18c4e99",
   "metadata": {},
   "outputs": [],
   "source": [
    "model = KNeighborsClassifier(n_neighbors=5,weights='uniform',algorithm='auto')"
   ]
  },
  {
   "cell_type": "code",
   "execution_count": 101,
   "id": "1cf67ee7",
   "metadata": {},
   "outputs": [
    {
     "name": "stderr",
     "output_type": "stream",
     "text": [
      "C:\\Users\\Jitu\\anaconda3\\lib\\site-packages\\sklearn\\base.py:441: UserWarning: X does not have valid feature names, but KNeighborsClassifier was fitted with feature names\n",
      "  warnings.warn(\n"
     ]
    },
    {
     "data": {
      "text/plain": [
       "0.8614514608859567"
      ]
     },
     "execution_count": 101,
     "metadata": {},
     "output_type": "execute_result"
    }
   ],
   "source": [
    "model.fit(X_train_age_scaled,y_train)\n",
    "model.score(X_train_age_scaled, y_train)"
   ]
  },
  {
   "cell_type": "code",
   "execution_count": 102,
   "id": "3c2f13c3",
   "metadata": {},
   "outputs": [
    {
     "name": "stderr",
     "output_type": "stream",
     "text": [
      "C:\\Users\\Jitu\\anaconda3\\lib\\site-packages\\sklearn\\base.py:441: UserWarning: X does not have valid feature names, but KNeighborsClassifier was fitted with feature names\n",
      "  warnings.warn(\n"
     ]
    },
    {
     "data": {
      "text/plain": [
       "0.8508771929824561"
      ]
     },
     "execution_count": 102,
     "metadata": {},
     "output_type": "execute_result"
    }
   ],
   "source": [
    "model.score(X_test_age_scaled, y_test)"
   ]
  },
  {
   "cell_type": "code",
   "execution_count": 103,
   "id": "d06ebe9c",
   "metadata": {},
   "outputs": [
    {
     "name": "stdout",
     "output_type": "stream",
     "text": [
      "(1061, 8)\n",
      "(456, 8)\n"
     ]
    }
   ],
   "source": [
    "from imblearn.over_sampling import SMOTE\n",
    "print(X_train_age_scaled.shape)\n",
    "print(X_test_age_scaled.shape)"
   ]
  },
  {
   "cell_type": "code",
   "execution_count": 104,
   "id": "f944982a",
   "metadata": {},
   "outputs": [
    {
     "data": {
      "text/plain": [
       "(1478, 8)"
      ]
     },
     "execution_count": 104,
     "metadata": {},
     "output_type": "execute_result"
    }
   ],
   "source": [
    "sm = SMOTE(random_state=2)\n",
    "X_train_res, y_train_res = sm.fit_resample(X_train_age_scaled, y_train.ravel())\n",
    "X_train_res.shape"
   ]
  },
  {
   "cell_type": "code",
   "execution_count": 105,
   "id": "17f496b3",
   "metadata": {},
   "outputs": [
    {
     "name": "stderr",
     "output_type": "stream",
     "text": [
      "C:\\Users\\Jitu\\anaconda3\\lib\\site-packages\\sklearn\\base.py:441: UserWarning: X does not have valid feature names, but KNeighborsClassifier was fitted with feature names\n",
      "  warnings.warn(\n"
     ]
    },
    {
     "data": {
      "text/plain": [
       "0.8897158322056834"
      ]
     },
     "execution_count": 105,
     "metadata": {},
     "output_type": "execute_result"
    }
   ],
   "source": [
    "model.fit(X_train_res, y_train_res)\n",
    "model.score(X_train_res, y_train_res)"
   ]
  },
  {
   "cell_type": "code",
   "execution_count": 106,
   "id": "5463bf2a",
   "metadata": {},
   "outputs": [
    {
     "name": "stderr",
     "output_type": "stream",
     "text": [
      "C:\\Users\\Jitu\\anaconda3\\lib\\site-packages\\sklearn\\base.py:441: UserWarning: X does not have valid feature names, but KNeighborsClassifier was fitted with feature names\n",
      "  warnings.warn(\n"
     ]
    },
    {
     "data": {
      "text/plain": [
       "0.8333333333333334"
      ]
     },
     "execution_count": 106,
     "metadata": {},
     "output_type": "execute_result"
    }
   ],
   "source": [
    "model.score(X_test_age_scaled, y_test)"
   ]
  },
  {
   "cell_type": "code",
   "execution_count": 107,
   "id": "65631e8a",
   "metadata": {},
   "outputs": [
    {
     "data": {
      "text/plain": [
       "(1061, 93)"
      ]
     },
     "execution_count": 107,
     "metadata": {},
     "output_type": "execute_result"
    }
   ],
   "source": [
    "from sklearn.preprocessing import PolynomialFeatures\n",
    "\n",
    "poly = PolynomialFeatures(degree = 3, interaction_only=True)\n",
    "\n",
    "#poly = PolynomialFeatures()\n",
    "\n",
    "X_poly = poly.fit_transform(X)\n",
    "X_train, X_test, y_train, y_test = train_test_split(X_poly, y, test_size=0.30, random_state=1)\n",
    "X_train.shape"
   ]
  },
  {
   "cell_type": "code",
   "execution_count": 108,
   "id": "3d8a5c93",
   "metadata": {},
   "outputs": [
    {
     "name": "stderr",
     "output_type": "stream",
     "text": [
      "C:\\Users\\Jitu\\anaconda3\\lib\\site-packages\\sklearn\\base.py:441: UserWarning: X does not have valid feature names, but KNeighborsClassifier was fitted with feature names\n",
      "  warnings.warn(\n",
      "C:\\Users\\Jitu\\anaconda3\\lib\\site-packages\\sklearn\\base.py:441: UserWarning: X does not have valid feature names, but KNeighborsClassifier was fitted with feature names\n",
      "  warnings.warn(\n"
     ]
    },
    {
     "data": {
      "text/plain": [
       "0.8623939679547596"
      ]
     },
     "execution_count": 108,
     "metadata": {},
     "output_type": "execute_result"
    }
   ],
   "source": [
    "model.fit(X_train,y_train)\n",
    "model.score(X_train, y_train)"
   ]
  },
  {
   "cell_type": "code",
   "execution_count": 109,
   "id": "756b57fe",
   "metadata": {},
   "outputs": [
    {
     "name": "stderr",
     "output_type": "stream",
     "text": [
      "C:\\Users\\Jitu\\anaconda3\\lib\\site-packages\\sklearn\\base.py:441: UserWarning: X does not have valid feature names, but KNeighborsClassifier was fitted with feature names\n",
      "  warnings.warn(\n",
      "C:\\Users\\Jitu\\anaconda3\\lib\\site-packages\\sklearn\\base.py:441: UserWarning: X does not have valid feature names, but KNeighborsClassifier was fitted with feature names\n",
      "  warnings.warn(\n"
     ]
    },
    {
     "data": {
      "text/plain": [
       "0.8245614035087719"
      ]
     },
     "execution_count": 109,
     "metadata": {},
     "output_type": "execute_result"
    }
   ],
   "source": [
    "model.score(X_test, y_test)"
   ]
  },
  {
   "cell_type": "code",
   "execution_count": 118,
   "id": "f64a272b",
   "metadata": {},
   "outputs": [],
   "source": [
    "X_train, X_test, y_train, y_test = train_test_split(X, y, test_size=.30, random_state=1, stratify=y)"
   ]
  },
  {
   "cell_type": "code",
   "execution_count": 119,
   "id": "2eb8c9b0",
   "metadata": {},
   "outputs": [],
   "source": [
    "#Build knn Model\n",
    "clf = KNeighborsClassifier(n_neighbors=5,weights='uniform',algorithm='auto')\n",
    "model=clf.fit(X_train_age_scaled,y_train)"
   ]
  },
  {
   "cell_type": "code",
   "execution_count": 120,
   "id": "d433cd98",
   "metadata": {},
   "outputs": [
    {
     "name": "stderr",
     "output_type": "stream",
     "text": [
      "C:\\Users\\Jitu\\anaconda3\\lib\\site-packages\\sklearn\\base.py:441: UserWarning: X does not have valid feature names, but KNeighborsClassifier was fitted with feature names\n",
      "  warnings.warn(\n",
      "C:\\Users\\Jitu\\anaconda3\\lib\\site-packages\\sklearn\\base.py:441: UserWarning: X does not have valid feature names, but KNeighborsClassifier was fitted with feature names\n",
      "  warnings.warn(\n"
     ]
    }
   ],
   "source": [
    "from sklearn import metrics\n",
    "from sklearn.metrics import roc_auc_score,roc_curve,classification_report,confusion_matrix,plot_confusion_matrix\n",
    "\n",
    "ytrain_predict = model.predict(X_train_age_scaled)\n",
    "ytest_predict = model.predict(X_test_age_scaled)"
   ]
  },
  {
   "cell_type": "code",
   "execution_count": 121,
   "id": "eb4c8555",
   "metadata": {},
   "outputs": [
    {
     "data": {
      "image/png": "[encoded data removed]",
      "text/plain": [
       "<Figure size 432x360 with 1 Axes>"
      ]
     },
     "metadata": {},
     "output_type": "display_data"
    }
   ],
   "source": [
    "sns.set(font_scale=1.6)\n",
    "plt.figure(figsize=(6,5))\n",
    "confusion_matrix(y_train,ytrain_predict,labels=['Conservative','Labour'])\n",
    "sns.heatmap(confusion_matrix(y_train,ytrain_predict),annot=True, fmt='d',cbar=False, cmap='Reds',xticklabels=['Conservative','Labour'],yticklabels=['Conservative','Labour'])\n",
    "plt.xlabel('Predicted Label',weight='bold')\n",
    "plt.ylabel('Actual Label',weight='bold')\n",
    "plt.title('Confusion Matrix (Train Data)',weight='bold')\n",
    "plt.show()\n",
    "sns.set(font_scale=1)"
   ]
  },
  {
   "cell_type": "code",
   "execution_count": 122,
   "id": "d1597a87",
   "metadata": {},
   "outputs": [
    {
     "data": {
      "image/png": "[encoded data removed]",
      "text/plain": [
       "<Figure size 432x360 with 1 Axes>"
      ]
     },
     "metadata": {},
     "output_type": "display_data"
    }
   ],
   "source": [
    "## Confusion matrix on the test data\n",
    "sns.set(font_scale=1.6)\n",
    "plt.figure(figsize=(6,5))\n",
    "confusion_matrix(y_test,ytest_predict)\n",
    "sns.heatmap(confusion_matrix(y_test,ytest_predict),annot=True, fmt='d',cbar=False, cmap='Reds',xticklabels=['Conservative','Labour'],yticklabels=['Conservative','Labour'])\n",
    "plt.xlabel('Predicted Label',weight='bold')\n",
    "plt.ylabel('Actual Label',weight='bold')\n",
    "plt.title('Confusion Matrix (Test Data)',weight='bold')\n",
    "plt.show()\n",
    "sns.set(font_scale=1)"
   ]
  },
  {
   "cell_type": "code",
   "execution_count": 123,
   "id": "2e9a1ee3",
   "metadata": {},
   "outputs": [
    {
     "name": "stdout",
     "output_type": "stream",
     "text": [
      "              precision    recall  f1-score   support\n",
      "\n",
      "Conservative       0.79      0.73      0.76       322\n",
      "      Labour       0.89      0.92      0.90       739\n",
      "\n",
      "    accuracy                           0.86      1061\n",
      "   macro avg       0.84      0.83      0.83      1061\n",
      "weighted avg       0.86      0.86      0.86      1061\n",
      " \n",
      "\n"
     ]
    }
   ],
   "source": [
    "print(classification_report(y_train, ytrain_predict),'\\n');"
   ]
  },
  {
   "cell_type": "code",
   "execution_count": 124,
   "id": "b1da1429",
   "metadata": {},
   "outputs": [
    {
     "name": "stdout",
     "output_type": "stream",
     "text": [
      "              precision    recall  f1-score   support\n",
      "\n",
      "Conservative       0.77      0.72      0.75       138\n",
      "      Labour       0.88      0.91      0.89       318\n",
      "\n",
      "    accuracy                           0.85       456\n",
      "   macro avg       0.83      0.82      0.82       456\n",
      "weighted avg       0.85      0.85      0.85       456\n",
      " \n",
      "\n"
     ]
    }
   ],
   "source": [
    "print(classification_report(y_test, ytest_predict),'\\n');"
   ]
  },
  {
   "cell_type": "code",
   "execution_count": 127,
   "id": "b9781312",
   "metadata": {},
   "outputs": [
    {
     "name": "stderr",
     "output_type": "stream",
     "text": [
      "C:\\Users\\Jitu\\anaconda3\\lib\\site-packages\\sklearn\\base.py:441: UserWarning: X does not have valid feature names, but KNeighborsClassifier was fitted with feature names\n",
      "  warnings.warn(\n"
     ]
    },
    {
     "name": "stdout",
     "output_type": "stream",
     "text": [
      "AUC: 0.931\n"
     ]
    },
    {
     "data": {
      "image/png": "[encoded data removed]",
      "text/plain": [
       "<Figure size 432x288 with 1 Axes>"
      ]
     },
     "metadata": {},
     "output_type": "display_data"
    }
   ],
   "source": [
    "sns.set(font_scale=1.3)\n",
    "probs = model.predict_proba(X_train_age_scaled)\n",
    "# keep probabilities for the positive outcome only\n",
    "probs = probs[:, 1]\n",
    "# calculate AUC\n",
    "cart_train_auc = roc_auc_score(y_train, probs)\n",
    "print('AUC: %.3f' % cart_train_auc)\n",
    "# calculate roc curve\n",
    "cart_train_fpr, cart_train_tpr, cart_train_thresholds = roc_curve(y_train, probs,pos_label='Labour')\n",
    "plt.plot([0, 1], [0, 1], linestyle='--')\n",
    "# plot the roc curve for the model\n",
    "plt.plot(cart_train_fpr, cart_train_tpr)\n",
    "plt.xlabel('False Positive Rate',weight='bold')\n",
    "plt.ylabel('True Positive Rate',weight='bold')\n",
    "plt.title('ROC (Train Data)',weight='bold')\n",
    "sns.set(font_scale=1)"
   ]
  },
  {
   "cell_type": "code",
   "execution_count": 128,
   "id": "8bd9f10c",
   "metadata": {},
   "outputs": [
    {
     "name": "stderr",
     "output_type": "stream",
     "text": [
      "C:\\Users\\Jitu\\anaconda3\\lib\\site-packages\\sklearn\\base.py:441: UserWarning: X does not have valid feature names, but KNeighborsClassifier was fitted with feature names\n",
      "  warnings.warn(\n"
     ]
    },
    {
     "name": "stdout",
     "output_type": "stream",
     "text": [
      "AUC: 0.878\n"
     ]
    },
    {
     "data": {
      "image/png": "[encoded data removed]",
      "text/plain": [
       "<Figure size 432x288 with 1 Axes>"
      ]
     },
     "metadata": {},
     "output_type": "display_data"
    }
   ],
   "source": [
    "sns.set(font_scale=1.3)\n",
    "probs = model.predict_proba(X_test_age_scaled)\n",
    "# keep probabilities for the positive outcome only\n",
    "probs = probs[:, 1]\n",
    "# calculate AUC\n",
    "cart_test_auc = roc_auc_score(y_test, probs)\n",
    "print('AUC: %.3f' % cart_test_auc)\n",
    "# calculate roc curve\n",
    "cart_test_fpr, cart_test_tpr, cart_testthresholds = roc_curve(y_test, probs,pos_label='Labour')\n",
    "plt.plot([0, 1], [0, 1], linestyle='--')\n",
    "# plot the roc curve for the model\n",
    "plt.plot(cart_test_fpr, cart_test_tpr)\n",
    "plt.xlabel('False Positive Rate',weight='bold')\n",
    "plt.ylabel('True Positive Rate',weight='bold')\n",
    "plt.title('ROC (Test Data)',weight='bold')\n",
    "sns.set(font_scale=1)"
   ]
  },
  {
   "cell_type": "code",
   "execution_count": 129,
   "id": "fc16a9e6",
   "metadata": {},
   "outputs": [
    {
     "data": {
      "text/html": [
       "<div>\n",
       "<style scoped>\n",
       "    .dataframe tbody tr th:only-of-type {\n",
       "        vertical-align: middle;\n",
       "    }\n",
       "\n",
       "    .dataframe tbody tr th {\n",
       "        vertical-align: top;\n",
       "    }\n",
       "\n",
       "    .dataframe thead th {\n",
       "        text-align: right;\n",
       "    }\n",
       "</style>\n",
       "<table border=\"1\" class=\"dataframe\">\n",
       "  <thead>\n",
       "    <tr style=\"text-align: right;\">\n",
       "      <th></th>\n",
       "      <th>vote</th>\n",
       "      <th>age</th>\n",
       "      <th>economic.cond.national</th>\n",
       "      <th>economic.cond.household</th>\n",
       "      <th>Blair</th>\n",
       "      <th>Hague</th>\n",
       "      <th>Europe</th>\n",
       "      <th>political.knowledge</th>\n",
       "      <th>gender_male</th>\n",
       "    </tr>\n",
       "  </thead>\n",
       "  <tbody>\n",
       "    <tr>\n",
       "      <th>0</th>\n",
       "      <td>Labour</td>\n",
       "      <td>6.557439</td>\n",
       "      <td>3</td>\n",
       "      <td>3</td>\n",
       "      <td>4</td>\n",
       "      <td>1</td>\n",
       "      <td>2</td>\n",
       "      <td>2</td>\n",
       "      <td>0</td>\n",
       "    </tr>\n",
       "    <tr>\n",
       "      <th>1</th>\n",
       "      <td>Labour</td>\n",
       "      <td>6.000000</td>\n",
       "      <td>4</td>\n",
       "      <td>4</td>\n",
       "      <td>4</td>\n",
       "      <td>4</td>\n",
       "      <td>5</td>\n",
       "      <td>2</td>\n",
       "      <td>1</td>\n",
       "    </tr>\n",
       "    <tr>\n",
       "      <th>2</th>\n",
       "      <td>Labour</td>\n",
       "      <td>5.916080</td>\n",
       "      <td>4</td>\n",
       "      <td>4</td>\n",
       "      <td>5</td>\n",
       "      <td>2</td>\n",
       "      <td>3</td>\n",
       "      <td>2</td>\n",
       "      <td>1</td>\n",
       "    </tr>\n",
       "    <tr>\n",
       "      <th>3</th>\n",
       "      <td>Labour</td>\n",
       "      <td>4.898979</td>\n",
       "      <td>4</td>\n",
       "      <td>2</td>\n",
       "      <td>2</td>\n",
       "      <td>1</td>\n",
       "      <td>4</td>\n",
       "      <td>0</td>\n",
       "      <td>0</td>\n",
       "    </tr>\n",
       "    <tr>\n",
       "      <th>4</th>\n",
       "      <td>Labour</td>\n",
       "      <td>6.403124</td>\n",
       "      <td>2</td>\n",
       "      <td>2</td>\n",
       "      <td>1</td>\n",
       "      <td>1</td>\n",
       "      <td>6</td>\n",
       "      <td>2</td>\n",
       "      <td>1</td>\n",
       "    </tr>\n",
       "    <tr>\n",
       "      <th>...</th>\n",
       "      <td>...</td>\n",
       "      <td>...</td>\n",
       "      <td>...</td>\n",
       "      <td>...</td>\n",
       "      <td>...</td>\n",
       "      <td>...</td>\n",
       "      <td>...</td>\n",
       "      <td>...</td>\n",
       "      <td>...</td>\n",
       "    </tr>\n",
       "    <tr>\n",
       "      <th>1512</th>\n",
       "      <td>Conservative</td>\n",
       "      <td>8.185353</td>\n",
       "      <td>5</td>\n",
       "      <td>3</td>\n",
       "      <td>2</td>\n",
       "      <td>4</td>\n",
       "      <td>11</td>\n",
       "      <td>3</td>\n",
       "      <td>1</td>\n",
       "    </tr>\n",
       "    <tr>\n",
       "      <th>1513</th>\n",
       "      <td>Conservative</td>\n",
       "      <td>8.544004</td>\n",
       "      <td>2</td>\n",
       "      <td>2</td>\n",
       "      <td>4</td>\n",
       "      <td>4</td>\n",
       "      <td>8</td>\n",
       "      <td>2</td>\n",
       "      <td>1</td>\n",
       "    </tr>\n",
       "    <tr>\n",
       "      <th>1514</th>\n",
       "      <td>Labour</td>\n",
       "      <td>6.082763</td>\n",
       "      <td>3</td>\n",
       "      <td>3</td>\n",
       "      <td>5</td>\n",
       "      <td>4</td>\n",
       "      <td>2</td>\n",
       "      <td>2</td>\n",
       "      <td>1</td>\n",
       "    </tr>\n",
       "    <tr>\n",
       "      <th>1515</th>\n",
       "      <td>Conservative</td>\n",
       "      <td>7.810250</td>\n",
       "      <td>3</td>\n",
       "      <td>3</td>\n",
       "      <td>1</td>\n",
       "      <td>4</td>\n",
       "      <td>11</td>\n",
       "      <td>2</td>\n",
       "      <td>1</td>\n",
       "    </tr>\n",
       "    <tr>\n",
       "      <th>1516</th>\n",
       "      <td>Conservative</td>\n",
       "      <td>8.602325</td>\n",
       "      <td>2</td>\n",
       "      <td>3</td>\n",
       "      <td>2</td>\n",
       "      <td>4</td>\n",
       "      <td>11</td>\n",
       "      <td>0</td>\n",
       "      <td>0</td>\n",
       "    </tr>\n",
       "  </tbody>\n",
       "</table>\n",
       "<p>1517 rows × 9 columns</p>\n",
       "</div>"
      ],
      "text/plain": [
       "              vote       age  economic.cond.national  economic.cond.household  \\\n",
       "0           Labour  6.557439                       3                        3   \n",
       "1           Labour  6.000000                       4                        4   \n",
       "2           Labour  5.916080                       4                        4   \n",
       "3           Labour  4.898979                       4                        2   \n",
       "4           Labour  6.403124                       2                        2   \n",
       "...            ...       ...                     ...                      ...   \n",
       "1512  Conservative  8.185353                       5                        3   \n",
       "1513  Conservative  8.544004                       2                        2   \n",
       "1514        Labour  6.082763                       3                        3   \n",
       "1515  Conservative  7.810250                       3                        3   \n",
       "1516  Conservative  8.602325                       2                        3   \n",
       "\n",
       "      Blair  Hague  Europe  political.knowledge  gender_male  \n",
       "0         4      1       2                    2            0  \n",
       "1         4      4       5                    2            1  \n",
       "2         5      2       3                    2            1  \n",
       "3         2      1       4                    0            0  \n",
       "4         1      1       6                    2            1  \n",
       "...     ...    ...     ...                  ...          ...  \n",
       "1512      2      4      11                    3            1  \n",
       "1513      4      4       8                    2            1  \n",
       "1514      5      4       2                    2            1  \n",
       "1515      1      4      11                    2            1  \n",
       "1516      2      4      11                    0            0  \n",
       "\n",
       "[1517 rows x 9 columns]"
      ]
     },
     "execution_count": 129,
     "metadata": {},
     "output_type": "execute_result"
    }
   ],
   "source": [
    "df=pd.read_excel('Election_Data.xlsx',sheet_name='Election_Dataset_Two Classes')\n",
    "df.drop('Unnamed: 0',axis=1,inplace=True)\n",
    "df.drop_duplicates(inplace=True)\n",
    "df.reset_index(inplace=True,drop=True)\n",
    "df =pd.get_dummies(df, columns=['gender'],drop_first=True)\n",
    "df['age']=np.sqrt(df['age'])\n",
    "df"
   ]
  },
  {
   "cell_type": "code",
   "execution_count": 130,
   "id": "603408aa",
   "metadata": {},
   "outputs": [
    {
     "name": "stderr",
     "output_type": "stream",
     "text": [
      "C:\\Users\\Jitu\\anaconda3\\lib\\site-packages\\sklearn\\base.py:441: UserWarning: X does not have valid feature names, but KNeighborsClassifier was fitted with feature names\n",
      "  warnings.warn(\n"
     ]
    },
    {
     "data": {
      "text/plain": [
       "0.8557964184731386"
      ]
     },
     "execution_count": 130,
     "metadata": {},
     "output_type": "execute_result"
    }
   ],
   "source": [
    "X = df.drop(\"vote\" , axis=1)\n",
    "y = df['vote']\n",
    "\n",
    "from sklearn.model_selection import train_test_split\n",
    "X_train, X_test, y_train, y_test = train_test_split(X, y, test_size=.30, random_state=1, stratify=y)\n",
    "\n",
    "X_train_scaled = X_train.copy()\n",
    "col_names = [x for x in X_train.columns]\n",
    "features = X_train_scaled[col_names]\n",
    "scaler = StandardScaler().fit(features.values)\n",
    "features = scaler.transform(features.values)\n",
    "X_train_scaled[col_names] = features\n",
    "\n",
    "X_test_scaled = X_test.copy()\n",
    "col_names = [x for x in X_test.columns]\n",
    "features = X_test_scaled[col_names]\n",
    "#scaler = StandardScaler().fit(features.values)\n",
    "features = scaler.transform(features.values)\n",
    "X_test_scaled[col_names] = features\n",
    "\n",
    "X_train_age_scaled=X_train.copy()\n",
    "X_train_age_scaled['age'] = X_train_scaled['age']\n",
    "\n",
    "X_test_age_scaled=X_test.copy()\n",
    "X_test_age_scaled['age'] = X_test_scaled['age']\n",
    "\n",
    "\n",
    "from sklearn.neighbors import KNeighborsClassifier\n",
    "#Build knn Model\n",
    "clf = KNeighborsClassifier(n_neighbors=5,weights='uniform',algorithm='auto')\n",
    "model=clf.fit(X_train_age_scaled,y_train)\n",
    "model.score(X_train_age_scaled, y_train)"
   ]
  },
  {
   "cell_type": "code",
   "execution_count": 131,
   "id": "39525ce1",
   "metadata": {},
   "outputs": [
    {
     "name": "stderr",
     "output_type": "stream",
     "text": [
      "C:\\Users\\Jitu\\anaconda3\\lib\\site-packages\\sklearn\\base.py:441: UserWarning: X does not have valid feature names, but KNeighborsClassifier was fitted with feature names\n",
      "  warnings.warn(\n"
     ]
    },
    {
     "data": {
      "text/plain": [
       "0.8486842105263158"
      ]
     },
     "execution_count": 131,
     "metadata": {},
     "output_type": "execute_result"
    }
   ],
   "source": [
    "model.score(X_test_age_scaled, y_test)"
   ]
  }
 ],
 "metadata": {
  "kernelspec": {
   "display_name": "Python 3",
   "language": "python",
   "name": "python3"
  },
  "language_info": {
   "codemirror_mode": {
    "name": "ipython",
    "version": 3
   },
   "file_extension": ".py",
   "mimetype": "text/x-python",
   "name": "python",
   "nbconvert_exporter": "python",
   "pygments_lexer": "ipython3",
   "version": "3.8.8"
  }
 },
 "nbformat": 4,
 "nbformat_minor": 5
}
