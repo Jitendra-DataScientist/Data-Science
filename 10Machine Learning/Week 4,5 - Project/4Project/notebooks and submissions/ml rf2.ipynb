{
 "cells": [
  {
   "cell_type": "code",
   "execution_count": 1,
   "id": "e02406a5",
   "metadata": {},
   "outputs": [
    {
     "data": {
      "text/html": [
       "<div>\n",
       "<style scoped>\n",
       "    .dataframe tbody tr th:only-of-type {\n",
       "        vertical-align: middle;\n",
       "    }\n",
       "\n",
       "    .dataframe tbody tr th {\n",
       "        vertical-align: top;\n",
       "    }\n",
       "\n",
       "    .dataframe thead th {\n",
       "        text-align: right;\n",
       "    }\n",
       "</style>\n",
       "<table border=\"1\" class=\"dataframe\">\n",
       "  <thead>\n",
       "    <tr style=\"text-align: right;\">\n",
       "      <th></th>\n",
       "      <th>age</th>\n",
       "      <th>economic.cond.national</th>\n",
       "      <th>economic.cond.household</th>\n",
       "      <th>Blair</th>\n",
       "      <th>Hague</th>\n",
       "      <th>Europe</th>\n",
       "      <th>political.knowledge</th>\n",
       "      <th>gender_male</th>\n",
       "      <th>vote_Labour</th>\n",
       "    </tr>\n",
       "  </thead>\n",
       "  <tbody>\n",
       "    <tr>\n",
       "      <th>0</th>\n",
       "      <td>43</td>\n",
       "      <td>3</td>\n",
       "      <td>3</td>\n",
       "      <td>4</td>\n",
       "      <td>1</td>\n",
       "      <td>2</td>\n",
       "      <td>2</td>\n",
       "      <td>0</td>\n",
       "      <td>1</td>\n",
       "    </tr>\n",
       "    <tr>\n",
       "      <th>1</th>\n",
       "      <td>36</td>\n",
       "      <td>4</td>\n",
       "      <td>4</td>\n",
       "      <td>4</td>\n",
       "      <td>4</td>\n",
       "      <td>5</td>\n",
       "      <td>2</td>\n",
       "      <td>1</td>\n",
       "      <td>1</td>\n",
       "    </tr>\n",
       "    <tr>\n",
       "      <th>2</th>\n",
       "      <td>35</td>\n",
       "      <td>4</td>\n",
       "      <td>4</td>\n",
       "      <td>5</td>\n",
       "      <td>2</td>\n",
       "      <td>3</td>\n",
       "      <td>2</td>\n",
       "      <td>1</td>\n",
       "      <td>1</td>\n",
       "    </tr>\n",
       "    <tr>\n",
       "      <th>3</th>\n",
       "      <td>24</td>\n",
       "      <td>4</td>\n",
       "      <td>2</td>\n",
       "      <td>2</td>\n",
       "      <td>1</td>\n",
       "      <td>4</td>\n",
       "      <td>0</td>\n",
       "      <td>0</td>\n",
       "      <td>1</td>\n",
       "    </tr>\n",
       "    <tr>\n",
       "      <th>4</th>\n",
       "      <td>41</td>\n",
       "      <td>2</td>\n",
       "      <td>2</td>\n",
       "      <td>1</td>\n",
       "      <td>1</td>\n",
       "      <td>6</td>\n",
       "      <td>2</td>\n",
       "      <td>1</td>\n",
       "      <td>1</td>\n",
       "    </tr>\n",
       "    <tr>\n",
       "      <th>...</th>\n",
       "      <td>...</td>\n",
       "      <td>...</td>\n",
       "      <td>...</td>\n",
       "      <td>...</td>\n",
       "      <td>...</td>\n",
       "      <td>...</td>\n",
       "      <td>...</td>\n",
       "      <td>...</td>\n",
       "      <td>...</td>\n",
       "    </tr>\n",
       "    <tr>\n",
       "      <th>1512</th>\n",
       "      <td>67</td>\n",
       "      <td>5</td>\n",
       "      <td>3</td>\n",
       "      <td>2</td>\n",
       "      <td>4</td>\n",
       "      <td>11</td>\n",
       "      <td>3</td>\n",
       "      <td>1</td>\n",
       "      <td>0</td>\n",
       "    </tr>\n",
       "    <tr>\n",
       "      <th>1513</th>\n",
       "      <td>73</td>\n",
       "      <td>2</td>\n",
       "      <td>2</td>\n",
       "      <td>4</td>\n",
       "      <td>4</td>\n",
       "      <td>8</td>\n",
       "      <td>2</td>\n",
       "      <td>1</td>\n",
       "      <td>0</td>\n",
       "    </tr>\n",
       "    <tr>\n",
       "      <th>1514</th>\n",
       "      <td>37</td>\n",
       "      <td>3</td>\n",
       "      <td>3</td>\n",
       "      <td>5</td>\n",
       "      <td>4</td>\n",
       "      <td>2</td>\n",
       "      <td>2</td>\n",
       "      <td>1</td>\n",
       "      <td>1</td>\n",
       "    </tr>\n",
       "    <tr>\n",
       "      <th>1515</th>\n",
       "      <td>61</td>\n",
       "      <td>3</td>\n",
       "      <td>3</td>\n",
       "      <td>1</td>\n",
       "      <td>4</td>\n",
       "      <td>11</td>\n",
       "      <td>2</td>\n",
       "      <td>1</td>\n",
       "      <td>0</td>\n",
       "    </tr>\n",
       "    <tr>\n",
       "      <th>1516</th>\n",
       "      <td>74</td>\n",
       "      <td>2</td>\n",
       "      <td>3</td>\n",
       "      <td>2</td>\n",
       "      <td>4</td>\n",
       "      <td>11</td>\n",
       "      <td>0</td>\n",
       "      <td>0</td>\n",
       "      <td>0</td>\n",
       "    </tr>\n",
       "  </tbody>\n",
       "</table>\n",
       "<p>1517 rows × 9 columns</p>\n",
       "</div>"
      ],
      "text/plain": [
       "      age  economic.cond.national  economic.cond.household  Blair  Hague  \\\n",
       "0      43                       3                        3      4      1   \n",
       "1      36                       4                        4      4      4   \n",
       "2      35                       4                        4      5      2   \n",
       "3      24                       4                        2      2      1   \n",
       "4      41                       2                        2      1      1   \n",
       "...   ...                     ...                      ...    ...    ...   \n",
       "1512   67                       5                        3      2      4   \n",
       "1513   73                       2                        2      4      4   \n",
       "1514   37                       3                        3      5      4   \n",
       "1515   61                       3                        3      1      4   \n",
       "1516   74                       2                        3      2      4   \n",
       "\n",
       "      Europe  political.knowledge  gender_male  vote_Labour  \n",
       "0          2                    2            0            1  \n",
       "1          5                    2            1            1  \n",
       "2          3                    2            1            1  \n",
       "3          4                    0            0            1  \n",
       "4          6                    2            1            1  \n",
       "...      ...                  ...          ...          ...  \n",
       "1512      11                    3            1            0  \n",
       "1513       8                    2            1            0  \n",
       "1514       2                    2            1            1  \n",
       "1515      11                    2            1            0  \n",
       "1516      11                    0            0            0  \n",
       "\n",
       "[1517 rows x 9 columns]"
      ]
     },
     "execution_count": 1,
     "metadata": {},
     "output_type": "execute_result"
    }
   ],
   "source": [
    "from matplotlib import pyplot as plt\n",
    "import numpy as np\n",
    "import seaborn as sns\n",
    "import pandas as pd\n",
    "import scipy.stats as stats\n",
    "%matplotlib inline\n",
    "\n",
    "df=pd.read_excel('Election_Data.xlsx',sheet_name='Election_Dataset_Two Classes')\n",
    "df.drop('Unnamed: 0',axis=1,inplace=True)\n",
    "df.drop_duplicates(inplace=True)\n",
    "df.reset_index(inplace=True,drop=True)\n",
    "df =pd.get_dummies(df, columns=['gender','vote'],drop_first=True)\n",
    "df"
   ]
  },
  {
   "cell_type": "code",
   "execution_count": 2,
   "id": "e8696389",
   "metadata": {},
   "outputs": [],
   "source": [
    "X = df.drop(\"vote_Labour\" , axis=1)\n",
    "y = df['vote_Labour']"
   ]
  },
  {
   "cell_type": "code",
   "execution_count": 3,
   "id": "d4908d76",
   "metadata": {},
   "outputs": [],
   "source": [
    "from sklearn.model_selection import train_test_split\n",
    "X_train, X_test, y_train, y_test = train_test_split(X, y, test_size=.30, random_state=1, stratify=y)"
   ]
  },
  {
   "cell_type": "code",
   "execution_count": 16,
   "id": "9c33e163",
   "metadata": {},
   "outputs": [],
   "source": [
    "from sklearn.model_selection import GridSearchCV\n",
    "grid={'n_estimators':[100],   # 50,150,200,300,500\n",
    "    'criterion':['gini'],   # 'entropy'\n",
    "    'max_depth':[5],   # 6,7,8,9\n",
    "    'min_samples_split':[2],  #5,10,20\n",
    "    'min_samples_leaf':[1],   #3,5,7,10\n",
    "    'max_features':[2],   # 3,4,5,6\n",
    "    'bootstrap':[True],  # False\n",
    "    'oob_score':[False],  # True\n",
    "    'warm_start':[False],  # True\n",
    "    'ccp_alpha':[0.0,]   # 0.2,0.4\n",
    "}\n",
    "model = RandomForestClassifier(random_state=1)"
   ]
  },
  {
   "cell_type": "code",
   "execution_count": 17,
   "id": "b2793068",
   "metadata": {},
   "outputs": [],
   "source": [
    "grid_search = GridSearchCV(estimator = model, param_grid = grid, cv = 3,n_jobs=-1,scoring='f1')"
   ]
  },
  {
   "cell_type": "code",
   "execution_count": 18,
   "id": "30d6b6a0",
   "metadata": {},
   "outputs": [
    {
     "data": {
      "text/plain": [
       "GridSearchCV(cv=3, estimator=RandomForestClassifier(random_state=1), n_jobs=-1,\n",
       "             param_grid={'bootstrap': [True], 'ccp_alpha': [0.0],\n",
       "                         'criterion': ['gini'], 'max_depth': [5],\n",
       "                         'max_features': [2], 'min_samples_leaf': [1],\n",
       "                         'min_samples_split': [2], 'n_estimators': [100],\n",
       "                         'oob_score': [False], 'warm_start': [False]},\n",
       "             scoring='f1')"
      ]
     },
     "execution_count": 18,
     "metadata": {},
     "output_type": "execute_result"
    }
   ],
   "source": [
    "grid_search.fit(X_train, y_train)"
   ]
  },
  {
   "cell_type": "code",
   "execution_count": 19,
   "id": "8b0d23ff",
   "metadata": {},
   "outputs": [
    {
     "name": "stdout",
     "output_type": "stream",
     "text": [
      "{'bootstrap': True, 'ccp_alpha': 0.0, 'criterion': 'gini', 'max_depth': 5, 'max_features': 2, 'min_samples_leaf': 1, 'min_samples_split': 2, 'n_estimators': 100, 'oob_score': False, 'warm_start': False} \n",
      "\n",
      "RandomForestClassifier(max_depth=5, max_features=2, random_state=1)\n"
     ]
    }
   ],
   "source": [
    "print(grid_search.best_params_,'\\n')\n",
    "print(grid_search.best_estimator_)"
   ]
  },
  {
   "cell_type": "code",
   "execution_count": 20,
   "id": "2c4b96ee",
   "metadata": {},
   "outputs": [],
   "source": [
    "clf = grid_search.best_estimator_\n",
    "model=clf.fit(X_train,y_train)"
   ]
  },
  {
   "cell_type": "code",
   "execution_count": 21,
   "id": "ffd5ea90",
   "metadata": {},
   "outputs": [
    {
     "data": {
      "text/plain": [
       "0.8623939679547596"
      ]
     },
     "execution_count": 21,
     "metadata": {},
     "output_type": "execute_result"
    }
   ],
   "source": [
    "model.score(X_train, y_train)"
   ]
  },
  {
   "cell_type": "code",
   "execution_count": 22,
   "id": "9eb49906",
   "metadata": {},
   "outputs": [
    {
     "data": {
      "text/plain": [
       "0.8662280701754386"
      ]
     },
     "execution_count": 22,
     "metadata": {},
     "output_type": "execute_result"
    }
   ],
   "source": [
    "model.score(X_test, y_test)"
   ]
  },
  {
   "cell_type": "code",
   "execution_count": 23,
   "id": "aeacc669",
   "metadata": {},
   "outputs": [
    {
     "data": {
      "text/plain": [
       "array([[0.16655429, 0.83344571],\n",
       "       [0.03563459, 0.96436541],\n",
       "       [0.54404966, 0.45595034],\n",
       "       ...,\n",
       "       [0.05923191, 0.94076809],\n",
       "       [0.67162181, 0.32837819],\n",
       "       [0.59936067, 0.40063933]])"
      ]
     },
     "execution_count": 23,
     "metadata": {},
     "output_type": "execute_result"
    }
   ],
   "source": [
    "pred_train_prob = model.predict_proba(X_train)\n",
    "pred_test_prob = model.predict_proba(X_test)\n",
    "pred_train_prob"
   ]
  },
  {
   "cell_type": "code",
   "execution_count": 24,
   "id": "0c2773e1",
   "metadata": {},
   "outputs": [],
   "source": [
    "pred_train_prob = pred_train_prob[:,1]"
   ]
  },
  {
   "cell_type": "code",
   "execution_count": 25,
   "id": "56851713",
   "metadata": {},
   "outputs": [],
   "source": [
    "from sklearn.metrics import accuracy_score,f1_score,recall_score, precision_score\n",
    "\n",
    "\n",
    "def GetCustomData(custom_prob):\n",
    "    custom_cutoff_data=[]\n",
    "\n",
    "    for i in range(0,len(pred_train_prob)):  #2333\n",
    "        if pred_train_prob[i] >custom_prob:\n",
    "            a= 1\n",
    "        else:\n",
    "            a=0\n",
    "        custom_cutoff_data.append(a)\n",
    "    return custom_cutoff_data"
   ]
  },
  {
   "cell_type": "code",
   "execution_count": 26,
   "id": "726c062f",
   "metadata": {},
   "outputs": [],
   "source": [
    "thresh=[]\n",
    "acc=[]\n",
    "f1=[]\n",
    "rec=[]\n",
    "pre=[]"
   ]
  },
  {
   "cell_type": "code",
   "execution_count": 27,
   "id": "78a828e9",
   "metadata": {},
   "outputs": [],
   "source": [
    "for j in np.arange(0.1,1,0.1):\n",
    "    result = GetCustomData(j)\n",
    "    thresh.append(j)\n",
    "    acc.append(accuracy_score(y_train,result))\n",
    "    f1.append(f1_score(y_train,result))\n",
    "    rec.append(recall_score(y_train,result))\n",
    "    pre.append(precision_score(y_train,result))\n"
   ]
  },
  {
   "cell_type": "code",
   "execution_count": 28,
   "id": "1c84445c",
   "metadata": {},
   "outputs": [
    {
     "data": {
      "text/html": [
       "<div>\n",
       "<style scoped>\n",
       "    .dataframe tbody tr th:only-of-type {\n",
       "        vertical-align: middle;\n",
       "    }\n",
       "\n",
       "    .dataframe tbody tr th {\n",
       "        vertical-align: top;\n",
       "    }\n",
       "\n",
       "    .dataframe thead th {\n",
       "        text-align: right;\n",
       "    }\n",
       "</style>\n",
       "<table border=\"1\" class=\"dataframe\">\n",
       "  <thead>\n",
       "    <tr style=\"text-align: right;\">\n",
       "      <th></th>\n",
       "      <th>Threshold</th>\n",
       "      <th>Accuracy</th>\n",
       "      <th>f1</th>\n",
       "      <th>Recall</th>\n",
       "      <th>Precision</th>\n",
       "    </tr>\n",
       "  </thead>\n",
       "  <tbody>\n",
       "    <tr>\n",
       "      <th>0</th>\n",
       "      <td>0.1</td>\n",
       "      <td>0.696513</td>\n",
       "      <td>0.821111</td>\n",
       "      <td>1.000000</td>\n",
       "      <td>0.696513</td>\n",
       "    </tr>\n",
       "    <tr>\n",
       "      <th>1</th>\n",
       "      <td>0.2</td>\n",
       "      <td>0.722903</td>\n",
       "      <td>0.834086</td>\n",
       "      <td>1.000000</td>\n",
       "      <td>0.715392</td>\n",
       "    </tr>\n",
       "    <tr>\n",
       "      <th>2</th>\n",
       "      <td>0.3</td>\n",
       "      <td>0.784166</td>\n",
       "      <td>0.864256</td>\n",
       "      <td>0.986468</td>\n",
       "      <td>0.768987</td>\n",
       "    </tr>\n",
       "    <tr>\n",
       "      <th>3</th>\n",
       "      <td>0.4</td>\n",
       "      <td>0.819039</td>\n",
       "      <td>0.882784</td>\n",
       "      <td>0.978349</td>\n",
       "      <td>0.804227</td>\n",
       "    </tr>\n",
       "    <tr>\n",
       "      <th>4</th>\n",
       "      <td>0.5</td>\n",
       "      <td>0.862394</td>\n",
       "      <td>0.904575</td>\n",
       "      <td>0.936401</td>\n",
       "      <td>0.874842</td>\n",
       "    </tr>\n",
       "    <tr>\n",
       "      <th>5</th>\n",
       "      <td>0.6</td>\n",
       "      <td>0.864279</td>\n",
       "      <td>0.900552</td>\n",
       "      <td>0.882273</td>\n",
       "      <td>0.919605</td>\n",
       "    </tr>\n",
       "    <tr>\n",
       "      <th>6</th>\n",
       "      <td>0.7</td>\n",
       "      <td>0.835061</td>\n",
       "      <td>0.872912</td>\n",
       "      <td>0.813261</td>\n",
       "      <td>0.942006</td>\n",
       "    </tr>\n",
       "    <tr>\n",
       "      <th>7</th>\n",
       "      <td>0.8</td>\n",
       "      <td>0.743638</td>\n",
       "      <td>0.778862</td>\n",
       "      <td>0.648173</td>\n",
       "      <td>0.975560</td>\n",
       "    </tr>\n",
       "    <tr>\n",
       "      <th>8</th>\n",
       "      <td>0.9</td>\n",
       "      <td>0.592837</td>\n",
       "      <td>0.591682</td>\n",
       "      <td>0.423545</td>\n",
       "      <td>0.981191</td>\n",
       "    </tr>\n",
       "  </tbody>\n",
       "</table>\n",
       "</div>"
      ],
      "text/plain": [
       "   Threshold  Accuracy        f1    Recall  Precision\n",
       "0        0.1  0.696513  0.821111  1.000000   0.696513\n",
       "1        0.2  0.722903  0.834086  1.000000   0.715392\n",
       "2        0.3  0.784166  0.864256  0.986468   0.768987\n",
       "3        0.4  0.819039  0.882784  0.978349   0.804227\n",
       "4        0.5  0.862394  0.904575  0.936401   0.874842\n",
       "5        0.6  0.864279  0.900552  0.882273   0.919605\n",
       "6        0.7  0.835061  0.872912  0.813261   0.942006\n",
       "7        0.8  0.743638  0.778862  0.648173   0.975560\n",
       "8        0.9  0.592837  0.591682  0.423545   0.981191"
      ]
     },
     "execution_count": 28,
     "metadata": {},
     "output_type": "execute_result"
    }
   ],
   "source": [
    "dat = pd.DataFrame({'Threshold': thresh,\n",
    "             'Accuracy': acc,\n",
    "             'f1': f1,\n",
    "             'Recall': rec,\n",
    "             'Precision':pre})\n",
    "dat"
   ]
  },
  {
   "cell_type": "code",
   "execution_count": 29,
   "id": "530240e2",
   "metadata": {},
   "outputs": [
    {
     "data": {
      "text/html": [
       "<div>\n",
       "<style scoped>\n",
       "    .dataframe tbody tr th:only-of-type {\n",
       "        vertical-align: middle;\n",
       "    }\n",
       "\n",
       "    .dataframe tbody tr th {\n",
       "        vertical-align: top;\n",
       "    }\n",
       "\n",
       "    .dataframe thead th {\n",
       "        text-align: right;\n",
       "    }\n",
       "</style>\n",
       "<table border=\"1\" class=\"dataframe\">\n",
       "  <thead>\n",
       "    <tr style=\"text-align: right;\">\n",
       "      <th></th>\n",
       "      <th>Threshold</th>\n",
       "      <th>Accuracy</th>\n",
       "      <th>f1</th>\n",
       "      <th>Recall</th>\n",
       "      <th>Precision</th>\n",
       "    </tr>\n",
       "  </thead>\n",
       "  <tbody>\n",
       "    <tr>\n",
       "      <th>4</th>\n",
       "      <td>0.5</td>\n",
       "      <td>0.862394</td>\n",
       "      <td>0.904575</td>\n",
       "      <td>0.936401</td>\n",
       "      <td>0.874842</td>\n",
       "    </tr>\n",
       "  </tbody>\n",
       "</table>\n",
       "</div>"
      ],
      "text/plain": [
       "   Threshold  Accuracy        f1    Recall  Precision\n",
       "4        0.5  0.862394  0.904575  0.936401   0.874842"
      ]
     },
     "execution_count": 29,
     "metadata": {},
     "output_type": "execute_result"
    }
   ],
   "source": [
    "dat[dat['f1']==dat['f1'].max()]"
   ]
  },
  {
   "cell_type": "code",
   "execution_count": 30,
   "id": "ff696d8d",
   "metadata": {},
   "outputs": [
    {
     "data": {
      "text/html": [
       "<div>\n",
       "<style scoped>\n",
       "    .dataframe tbody tr th:only-of-type {\n",
       "        vertical-align: middle;\n",
       "    }\n",
       "\n",
       "    .dataframe tbody tr th {\n",
       "        vertical-align: top;\n",
       "    }\n",
       "\n",
       "    .dataframe thead th {\n",
       "        text-align: right;\n",
       "    }\n",
       "</style>\n",
       "<table border=\"1\" class=\"dataframe\">\n",
       "  <thead>\n",
       "    <tr style=\"text-align: right;\">\n",
       "      <th></th>\n",
       "      <th>Threshold</th>\n",
       "      <th>Accuracy</th>\n",
       "      <th>f1</th>\n",
       "      <th>Recall</th>\n",
       "      <th>Precision</th>\n",
       "    </tr>\n",
       "  </thead>\n",
       "  <tbody>\n",
       "    <tr>\n",
       "      <th>5</th>\n",
       "      <td>0.6</td>\n",
       "      <td>0.864279</td>\n",
       "      <td>0.900552</td>\n",
       "      <td>0.882273</td>\n",
       "      <td>0.919605</td>\n",
       "    </tr>\n",
       "  </tbody>\n",
       "</table>\n",
       "</div>"
      ],
      "text/plain": [
       "   Threshold  Accuracy        f1    Recall  Precision\n",
       "5        0.6  0.864279  0.900552  0.882273   0.919605"
      ]
     },
     "execution_count": 30,
     "metadata": {},
     "output_type": "execute_result"
    }
   ],
   "source": [
    "dat[dat['Accuracy']==dat['Accuracy'].max()]"
   ]
  }
 ],
 "metadata": {
  "kernelspec": {
   "display_name": "Python 3",
   "language": "python",
   "name": "python3"
  },
  "language_info": {
   "codemirror_mode": {
    "name": "ipython",
    "version": 3
   },
   "file_extension": ".py",
   "mimetype": "text/x-python",
   "name": "python",
   "nbconvert_exporter": "python",
   "pygments_lexer": "ipython3",
   "version": "3.8.8"
  }
 },
 "nbformat": 4,
 "nbformat_minor": 5
}
