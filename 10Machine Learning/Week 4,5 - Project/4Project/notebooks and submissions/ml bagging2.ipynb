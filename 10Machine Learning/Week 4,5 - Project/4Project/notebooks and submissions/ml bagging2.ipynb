{
 "cells": [
  {
   "cell_type": "code",
   "execution_count": 1,
   "id": "e02406a5",
   "metadata": {},
   "outputs": [
    {
     "data": {
      "text/html": [
       "<div>\n",
       "<style scoped>\n",
       "    .dataframe tbody tr th:only-of-type {\n",
       "        vertical-align: middle;\n",
       "    }\n",
       "\n",
       "    .dataframe tbody tr th {\n",
       "        vertical-align: top;\n",
       "    }\n",
       "\n",
       "    .dataframe thead th {\n",
       "        text-align: right;\n",
       "    }\n",
       "</style>\n",
       "<table border=\"1\" class=\"dataframe\">\n",
       "  <thead>\n",
       "    <tr style=\"text-align: right;\">\n",
       "      <th></th>\n",
       "      <th>age</th>\n",
       "      <th>economic.cond.national</th>\n",
       "      <th>economic.cond.household</th>\n",
       "      <th>Blair</th>\n",
       "      <th>Hague</th>\n",
       "      <th>Europe</th>\n",
       "      <th>political.knowledge</th>\n",
       "      <th>gender_male</th>\n",
       "      <th>vote_Labour</th>\n",
       "    </tr>\n",
       "  </thead>\n",
       "  <tbody>\n",
       "    <tr>\n",
       "      <th>0</th>\n",
       "      <td>43</td>\n",
       "      <td>3</td>\n",
       "      <td>3</td>\n",
       "      <td>4</td>\n",
       "      <td>1</td>\n",
       "      <td>2</td>\n",
       "      <td>2</td>\n",
       "      <td>0</td>\n",
       "      <td>1</td>\n",
       "    </tr>\n",
       "    <tr>\n",
       "      <th>1</th>\n",
       "      <td>36</td>\n",
       "      <td>4</td>\n",
       "      <td>4</td>\n",
       "      <td>4</td>\n",
       "      <td>4</td>\n",
       "      <td>5</td>\n",
       "      <td>2</td>\n",
       "      <td>1</td>\n",
       "      <td>1</td>\n",
       "    </tr>\n",
       "    <tr>\n",
       "      <th>2</th>\n",
       "      <td>35</td>\n",
       "      <td>4</td>\n",
       "      <td>4</td>\n",
       "      <td>5</td>\n",
       "      <td>2</td>\n",
       "      <td>3</td>\n",
       "      <td>2</td>\n",
       "      <td>1</td>\n",
       "      <td>1</td>\n",
       "    </tr>\n",
       "    <tr>\n",
       "      <th>3</th>\n",
       "      <td>24</td>\n",
       "      <td>4</td>\n",
       "      <td>2</td>\n",
       "      <td>2</td>\n",
       "      <td>1</td>\n",
       "      <td>4</td>\n",
       "      <td>0</td>\n",
       "      <td>0</td>\n",
       "      <td>1</td>\n",
       "    </tr>\n",
       "    <tr>\n",
       "      <th>4</th>\n",
       "      <td>41</td>\n",
       "      <td>2</td>\n",
       "      <td>2</td>\n",
       "      <td>1</td>\n",
       "      <td>1</td>\n",
       "      <td>6</td>\n",
       "      <td>2</td>\n",
       "      <td>1</td>\n",
       "      <td>1</td>\n",
       "    </tr>\n",
       "    <tr>\n",
       "      <th>...</th>\n",
       "      <td>...</td>\n",
       "      <td>...</td>\n",
       "      <td>...</td>\n",
       "      <td>...</td>\n",
       "      <td>...</td>\n",
       "      <td>...</td>\n",
       "      <td>...</td>\n",
       "      <td>...</td>\n",
       "      <td>...</td>\n",
       "    </tr>\n",
       "    <tr>\n",
       "      <th>1512</th>\n",
       "      <td>67</td>\n",
       "      <td>5</td>\n",
       "      <td>3</td>\n",
       "      <td>2</td>\n",
       "      <td>4</td>\n",
       "      <td>11</td>\n",
       "      <td>3</td>\n",
       "      <td>1</td>\n",
       "      <td>0</td>\n",
       "    </tr>\n",
       "    <tr>\n",
       "      <th>1513</th>\n",
       "      <td>73</td>\n",
       "      <td>2</td>\n",
       "      <td>2</td>\n",
       "      <td>4</td>\n",
       "      <td>4</td>\n",
       "      <td>8</td>\n",
       "      <td>2</td>\n",
       "      <td>1</td>\n",
       "      <td>0</td>\n",
       "    </tr>\n",
       "    <tr>\n",
       "      <th>1514</th>\n",
       "      <td>37</td>\n",
       "      <td>3</td>\n",
       "      <td>3</td>\n",
       "      <td>5</td>\n",
       "      <td>4</td>\n",
       "      <td>2</td>\n",
       "      <td>2</td>\n",
       "      <td>1</td>\n",
       "      <td>1</td>\n",
       "    </tr>\n",
       "    <tr>\n",
       "      <th>1515</th>\n",
       "      <td>61</td>\n",
       "      <td>3</td>\n",
       "      <td>3</td>\n",
       "      <td>1</td>\n",
       "      <td>4</td>\n",
       "      <td>11</td>\n",
       "      <td>2</td>\n",
       "      <td>1</td>\n",
       "      <td>0</td>\n",
       "    </tr>\n",
       "    <tr>\n",
       "      <th>1516</th>\n",
       "      <td>74</td>\n",
       "      <td>2</td>\n",
       "      <td>3</td>\n",
       "      <td>2</td>\n",
       "      <td>4</td>\n",
       "      <td>11</td>\n",
       "      <td>0</td>\n",
       "      <td>0</td>\n",
       "      <td>0</td>\n",
       "    </tr>\n",
       "  </tbody>\n",
       "</table>\n",
       "<p>1517 rows × 9 columns</p>\n",
       "</div>"
      ],
      "text/plain": [
       "      age  economic.cond.national  economic.cond.household  Blair  Hague  \\\n",
       "0      43                       3                        3      4      1   \n",
       "1      36                       4                        4      4      4   \n",
       "2      35                       4                        4      5      2   \n",
       "3      24                       4                        2      2      1   \n",
       "4      41                       2                        2      1      1   \n",
       "...   ...                     ...                      ...    ...    ...   \n",
       "1512   67                       5                        3      2      4   \n",
       "1513   73                       2                        2      4      4   \n",
       "1514   37                       3                        3      5      4   \n",
       "1515   61                       3                        3      1      4   \n",
       "1516   74                       2                        3      2      4   \n",
       "\n",
       "      Europe  political.knowledge  gender_male  vote_Labour  \n",
       "0          2                    2            0            1  \n",
       "1          5                    2            1            1  \n",
       "2          3                    2            1            1  \n",
       "3          4                    0            0            1  \n",
       "4          6                    2            1            1  \n",
       "...      ...                  ...          ...          ...  \n",
       "1512      11                    3            1            0  \n",
       "1513       8                    2            1            0  \n",
       "1514       2                    2            1            1  \n",
       "1515      11                    2            1            0  \n",
       "1516      11                    0            0            0  \n",
       "\n",
       "[1517 rows x 9 columns]"
      ]
     },
     "execution_count": 1,
     "metadata": {},
     "output_type": "execute_result"
    }
   ],
   "source": [
    "from matplotlib import pyplot as plt\n",
    "import numpy as np\n",
    "import seaborn as sns\n",
    "import pandas as pd\n",
    "import scipy.stats as stats\n",
    "%matplotlib inline\n",
    "\n",
    "df=pd.read_excel('Election_Data.xlsx',sheet_name='Election_Dataset_Two Classes')\n",
    "df.drop('Unnamed: 0',axis=1,inplace=True)\n",
    "df.drop_duplicates(inplace=True)\n",
    "df.reset_index(inplace=True,drop=True)\n",
    "df =pd.get_dummies(df, columns=['gender','vote'],drop_first=True)\n",
    "df"
   ]
  },
  {
   "cell_type": "code",
   "execution_count": 2,
   "id": "e8696389",
   "metadata": {},
   "outputs": [],
   "source": [
    "X = df.drop(\"vote_Labour\" , axis=1)\n",
    "y = df['vote_Labour']"
   ]
  },
  {
   "cell_type": "code",
   "execution_count": 3,
   "id": "d4908d76",
   "metadata": {},
   "outputs": [],
   "source": [
    "from sklearn.model_selection import train_test_split\n",
    "X_train, X_test, y_train, y_test = train_test_split(X, y, test_size=.30, random_state=1, stratify=y)"
   ]
  },
  {
   "cell_type": "code",
   "execution_count": 4,
   "id": "cb42b838",
   "metadata": {},
   "outputs": [],
   "source": [
    "from sklearn.ensemble import BaggingClassifier\n",
    "from sklearn.tree import DecisionTreeClassifier\n",
    "from sklearn.model_selection import GridSearchCV\n",
    "grid={ 'criterion':['gini'],  # 'entropy'\n",
    "    'splitter':['random'],   # 'best'\n",
    "    'max_depth':[7],   # 4,5,6,8,9,10\n",
    "    'min_samples_split':[2],   # 3,4,5,10\n",
    "    'min_samples_leaf':[7],   # 4,5,6,8,9,10,11,12,13\n",
    "    'max_features':[6]  # 5,7,8\n",
    "    }   \n",
    "model = DecisionTreeClassifier(random_state=1)\n",
    "grid_search = GridSearchCV(estimator = model, param_grid = grid, cv = 3,n_jobs=-1,scoring='f1')\n",
    "\n",
    "grid_search.fit(X_train, y_train)\n",
    "\n",
    "clf = grid_search.best_estimator_\n",
    "model=clf.fit(X_train,y_train)\n",
    "\n",
    "cart2 = grid_search.best_estimator_\n",
    "grid={ 'n_estimators':[200],   # 10,20,50,5,6,7,8,9,30,100,400,500,250,300,350,100,150\n",
    "    'max_samples':[0.8],    # 1.0,0.7,0.5\n",
    "    'max_features':[1.0],   # 0.5,0.7,0.3\n",
    "    'bootstrap':[True],   # False\n",
    "    'bootstrap_features':[False],   # True\n",
    "    'oob_score':[False],   # True\n",
    "    'warm_start':[False],   # True\n",
    "    'n_jobs':[-1],\n",
    "    'verbose':[0]}   # 1\n",
    "model = BaggingClassifier(base_estimator=cart2,random_state=1)\n",
    "grid_search = GridSearchCV(estimator = model, param_grid = grid, cv = 3,n_jobs=-1,scoring='accuracy')\n",
    "\n",
    "grid_search.fit(X_train, y_train)\n",
    "\n",
    "clf = grid_search.best_estimator_\n",
    "model=clf.fit(X_train,y_train)"
   ]
  },
  {
   "cell_type": "code",
   "execution_count": 5,
   "id": "ffd5ea90",
   "metadata": {},
   "outputs": [
    {
     "data": {
      "text/plain": [
       "0.8548539114043355"
      ]
     },
     "execution_count": 5,
     "metadata": {},
     "output_type": "execute_result"
    }
   ],
   "source": [
    "model.score(X_train, y_train)"
   ]
  },
  {
   "cell_type": "code",
   "execution_count": 6,
   "id": "9eb49906",
   "metadata": {},
   "outputs": [
    {
     "data": {
      "text/plain": [
       "0.8574561403508771"
      ]
     },
     "execution_count": 6,
     "metadata": {},
     "output_type": "execute_result"
    }
   ],
   "source": [
    "model.score(X_test, y_test)"
   ]
  },
  {
   "cell_type": "code",
   "execution_count": 7,
   "id": "aeacc669",
   "metadata": {},
   "outputs": [
    {
     "data": {
      "text/plain": [
       "array([[0.08067069, 0.91932931],\n",
       "       [0.00717657, 0.99282343],\n",
       "       [0.53832583, 0.46167417],\n",
       "       ...,\n",
       "       [0.02673066, 0.97326934],\n",
       "       [0.67927228, 0.32072772],\n",
       "       [0.69281251, 0.30718749]])"
      ]
     },
     "execution_count": 7,
     "metadata": {},
     "output_type": "execute_result"
    }
   ],
   "source": [
    "pred_train_prob = model.predict_proba(X_train)\n",
    "pred_test_prob = model.predict_proba(X_test)\n",
    "pred_train_prob"
   ]
  },
  {
   "cell_type": "code",
   "execution_count": 8,
   "id": "0c2773e1",
   "metadata": {},
   "outputs": [],
   "source": [
    "pred_train_prob = pred_train_prob[:,1]"
   ]
  },
  {
   "cell_type": "code",
   "execution_count": 9,
   "id": "56851713",
   "metadata": {},
   "outputs": [],
   "source": [
    "from sklearn.metrics import accuracy_score,f1_score,recall_score, precision_score\n",
    "\n",
    "\n",
    "def GetCustomData(custom_prob):\n",
    "    custom_cutoff_data=[]\n",
    "\n",
    "    for i in range(0,len(pred_train_prob)):  #2333\n",
    "        if pred_train_prob[i] >custom_prob:\n",
    "            a= 1\n",
    "        else:\n",
    "            a=0\n",
    "        custom_cutoff_data.append(a)\n",
    "    return custom_cutoff_data"
   ]
  },
  {
   "cell_type": "code",
   "execution_count": 10,
   "id": "726c062f",
   "metadata": {},
   "outputs": [],
   "source": [
    "thresh=[]\n",
    "acc=[]\n",
    "f1=[]\n",
    "rec=[]\n",
    "pre=[]"
   ]
  },
  {
   "cell_type": "code",
   "execution_count": 11,
   "id": "78a828e9",
   "metadata": {},
   "outputs": [],
   "source": [
    "for j in np.arange(0.1,1,0.1):\n",
    "    result = GetCustomData(j)\n",
    "    thresh.append(j)\n",
    "    acc.append(accuracy_score(y_train,result))\n",
    "    f1.append(f1_score(y_train,result))\n",
    "    rec.append(recall_score(y_train,result))\n",
    "    pre.append(precision_score(y_train,result))\n"
   ]
  },
  {
   "cell_type": "code",
   "execution_count": 12,
   "id": "1c84445c",
   "metadata": {},
   "outputs": [
    {
     "data": {
      "text/html": [
       "<div>\n",
       "<style scoped>\n",
       "    .dataframe tbody tr th:only-of-type {\n",
       "        vertical-align: middle;\n",
       "    }\n",
       "\n",
       "    .dataframe tbody tr th {\n",
       "        vertical-align: top;\n",
       "    }\n",
       "\n",
       "    .dataframe thead th {\n",
       "        text-align: right;\n",
       "    }\n",
       "</style>\n",
       "<table border=\"1\" class=\"dataframe\">\n",
       "  <thead>\n",
       "    <tr style=\"text-align: right;\">\n",
       "      <th></th>\n",
       "      <th>Threshold</th>\n",
       "      <th>Accuracy</th>\n",
       "      <th>f1</th>\n",
       "      <th>Recall</th>\n",
       "      <th>Precision</th>\n",
       "    </tr>\n",
       "  </thead>\n",
       "  <tbody>\n",
       "    <tr>\n",
       "      <th>0</th>\n",
       "      <td>0.1</td>\n",
       "      <td>0.700283</td>\n",
       "      <td>0.822940</td>\n",
       "      <td>1.000000</td>\n",
       "      <td>0.699149</td>\n",
       "    </tr>\n",
       "    <tr>\n",
       "      <th>1</th>\n",
       "      <td>0.2</td>\n",
       "      <td>0.770971</td>\n",
       "      <td>0.857645</td>\n",
       "      <td>0.990528</td>\n",
       "      <td>0.756198</td>\n",
       "    </tr>\n",
       "    <tr>\n",
       "      <th>2</th>\n",
       "      <td>0.3</td>\n",
       "      <td>0.793591</td>\n",
       "      <td>0.869097</td>\n",
       "      <td>0.983762</td>\n",
       "      <td>0.778373</td>\n",
       "    </tr>\n",
       "    <tr>\n",
       "      <th>3</th>\n",
       "      <td>0.4</td>\n",
       "      <td>0.836946</td>\n",
       "      <td>0.892077</td>\n",
       "      <td>0.967524</td>\n",
       "      <td>0.827546</td>\n",
       "    </tr>\n",
       "    <tr>\n",
       "      <th>4</th>\n",
       "      <td>0.5</td>\n",
       "      <td>0.854854</td>\n",
       "      <td>0.897742</td>\n",
       "      <td>0.914750</td>\n",
       "      <td>0.881356</td>\n",
       "    </tr>\n",
       "    <tr>\n",
       "      <th>5</th>\n",
       "      <td>0.6</td>\n",
       "      <td>0.852969</td>\n",
       "      <td>0.891817</td>\n",
       "      <td>0.870095</td>\n",
       "      <td>0.914651</td>\n",
       "    </tr>\n",
       "    <tr>\n",
       "      <th>6</th>\n",
       "      <td>0.7</td>\n",
       "      <td>0.822809</td>\n",
       "      <td>0.862573</td>\n",
       "      <td>0.798376</td>\n",
       "      <td>0.937997</td>\n",
       "    </tr>\n",
       "    <tr>\n",
       "      <th>7</th>\n",
       "      <td>0.8</td>\n",
       "      <td>0.750236</td>\n",
       "      <td>0.788169</td>\n",
       "      <td>0.667118</td>\n",
       "      <td>0.962891</td>\n",
       "    </tr>\n",
       "    <tr>\n",
       "      <th>8</th>\n",
       "      <td>0.9</td>\n",
       "      <td>0.659755</td>\n",
       "      <td>0.680248</td>\n",
       "      <td>0.519621</td>\n",
       "      <td>0.984615</td>\n",
       "    </tr>\n",
       "  </tbody>\n",
       "</table>\n",
       "</div>"
      ],
      "text/plain": [
       "   Threshold  Accuracy        f1    Recall  Precision\n",
       "0        0.1  0.700283  0.822940  1.000000   0.699149\n",
       "1        0.2  0.770971  0.857645  0.990528   0.756198\n",
       "2        0.3  0.793591  0.869097  0.983762   0.778373\n",
       "3        0.4  0.836946  0.892077  0.967524   0.827546\n",
       "4        0.5  0.854854  0.897742  0.914750   0.881356\n",
       "5        0.6  0.852969  0.891817  0.870095   0.914651\n",
       "6        0.7  0.822809  0.862573  0.798376   0.937997\n",
       "7        0.8  0.750236  0.788169  0.667118   0.962891\n",
       "8        0.9  0.659755  0.680248  0.519621   0.984615"
      ]
     },
     "execution_count": 12,
     "metadata": {},
     "output_type": "execute_result"
    }
   ],
   "source": [
    "dat = pd.DataFrame({'Threshold': thresh,\n",
    "             'Accuracy': acc,\n",
    "             'f1': f1,\n",
    "             'Recall': rec,\n",
    "             'Precision':pre})\n",
    "dat"
   ]
  },
  {
   "cell_type": "code",
   "execution_count": 13,
   "id": "530240e2",
   "metadata": {},
   "outputs": [
    {
     "data": {
      "text/html": [
       "<div>\n",
       "<style scoped>\n",
       "    .dataframe tbody tr th:only-of-type {\n",
       "        vertical-align: middle;\n",
       "    }\n",
       "\n",
       "    .dataframe tbody tr th {\n",
       "        vertical-align: top;\n",
       "    }\n",
       "\n",
       "    .dataframe thead th {\n",
       "        text-align: right;\n",
       "    }\n",
       "</style>\n",
       "<table border=\"1\" class=\"dataframe\">\n",
       "  <thead>\n",
       "    <tr style=\"text-align: right;\">\n",
       "      <th></th>\n",
       "      <th>Threshold</th>\n",
       "      <th>Accuracy</th>\n",
       "      <th>f1</th>\n",
       "      <th>Recall</th>\n",
       "      <th>Precision</th>\n",
       "    </tr>\n",
       "  </thead>\n",
       "  <tbody>\n",
       "    <tr>\n",
       "      <th>4</th>\n",
       "      <td>0.5</td>\n",
       "      <td>0.854854</td>\n",
       "      <td>0.897742</td>\n",
       "      <td>0.91475</td>\n",
       "      <td>0.881356</td>\n",
       "    </tr>\n",
       "  </tbody>\n",
       "</table>\n",
       "</div>"
      ],
      "text/plain": [
       "   Threshold  Accuracy        f1   Recall  Precision\n",
       "4        0.5  0.854854  0.897742  0.91475   0.881356"
      ]
     },
     "execution_count": 13,
     "metadata": {},
     "output_type": "execute_result"
    }
   ],
   "source": [
    "dat[dat['f1']==dat['f1'].max()]"
   ]
  },
  {
   "cell_type": "code",
   "execution_count": 14,
   "id": "ff696d8d",
   "metadata": {},
   "outputs": [
    {
     "data": {
      "text/html": [
       "<div>\n",
       "<style scoped>\n",
       "    .dataframe tbody tr th:only-of-type {\n",
       "        vertical-align: middle;\n",
       "    }\n",
       "\n",
       "    .dataframe tbody tr th {\n",
       "        vertical-align: top;\n",
       "    }\n",
       "\n",
       "    .dataframe thead th {\n",
       "        text-align: right;\n",
       "    }\n",
       "</style>\n",
       "<table border=\"1\" class=\"dataframe\">\n",
       "  <thead>\n",
       "    <tr style=\"text-align: right;\">\n",
       "      <th></th>\n",
       "      <th>Threshold</th>\n",
       "      <th>Accuracy</th>\n",
       "      <th>f1</th>\n",
       "      <th>Recall</th>\n",
       "      <th>Precision</th>\n",
       "    </tr>\n",
       "  </thead>\n",
       "  <tbody>\n",
       "    <tr>\n",
       "      <th>4</th>\n",
       "      <td>0.5</td>\n",
       "      <td>0.854854</td>\n",
       "      <td>0.897742</td>\n",
       "      <td>0.91475</td>\n",
       "      <td>0.881356</td>\n",
       "    </tr>\n",
       "  </tbody>\n",
       "</table>\n",
       "</div>"
      ],
      "text/plain": [
       "   Threshold  Accuracy        f1   Recall  Precision\n",
       "4        0.5  0.854854  0.897742  0.91475   0.881356"
      ]
     },
     "execution_count": 14,
     "metadata": {},
     "output_type": "execute_result"
    }
   ],
   "source": [
    "dat[dat['Accuracy']==dat['Accuracy'].max()]"
   ]
  },
  {
   "cell_type": "code",
   "execution_count": 50,
   "id": "939d2ef6",
   "metadata": {},
   "outputs": [],
   "source": [
    "from sklearn.ensemble import RandomForestClassifier\n",
    "grid={'n_estimators':[100],   # 50,150,200,300,500\n",
    "    'criterion':['gini'],   # 'entropy'\n",
    "    'max_depth':[5],   # 6,7,8,9\n",
    "    'min_samples_split':[2],  #5,10,20\n",
    "    'min_samples_leaf':[1],   #3,5,7,10\n",
    "    'max_features':[2],   # 3,4,5,6\n",
    "    'bootstrap':[True],  # False\n",
    "    'oob_score':[False],  # True\n",
    "    'warm_start':[False],  # True\n",
    "    'ccp_alpha':[0.0,]   # 0.2,0.4\n",
    "}\n",
    "model = RandomForestClassifier(random_state=1)\n",
    "grid_search = GridSearchCV(estimator = model, param_grid = grid, cv = 3,n_jobs=-1,scoring='f1')\n",
    "\n",
    "grid_search.fit(X_train, y_train)\n",
    "\n",
    "clf = grid_search.best_estimator_\n",
    "rf=clf.fit(X_train,y_train)\n",
    "\n",
    "grid={ 'n_estimators':[200],   # 10,20,50,5,6,7,8,9,30,100,400,500,250,300,350,100,150\n",
    "    'max_samples':[0.4],    # 1.0,0.7,0.5\n",
    "    'max_features':[1.0],   # 0.5,0.7,0.3\n",
    "    'bootstrap':[True],   # False\n",
    "    'bootstrap_features':[False],   # True\n",
    "    'oob_score':[False],   # True\n",
    "    'warm_start':[False],   # True\n",
    "    'n_jobs':[-1],\n",
    "    'verbose':[0]}   # 1\n",
    "model = BaggingClassifier(base_estimator=rf,random_state=1)\n",
    "\n",
    "grid_search = GridSearchCV(estimator = model, param_grid = grid, cv = 3,n_jobs=-1,scoring='accuracy')"
   ]
  },
  {
   "cell_type": "code",
   "execution_count": 51,
   "id": "a64cbf4a",
   "metadata": {},
   "outputs": [],
   "source": [
    "grid_search.fit(X_train, y_train)\n",
    "\n",
    "clf = grid_search.best_estimator_\n",
    "model=clf.fit(X_train,y_train)"
   ]
  },
  {
   "cell_type": "code",
   "execution_count": 52,
   "id": "fa854705",
   "metadata": {},
   "outputs": [
    {
     "data": {
      "text/plain": [
       "0.8520263901979265"
      ]
     },
     "execution_count": 52,
     "metadata": {},
     "output_type": "execute_result"
    }
   ],
   "source": [
    "model.score(X_train, y_train)"
   ]
  },
  {
   "cell_type": "code",
   "execution_count": 53,
   "id": "f1f496ef",
   "metadata": {},
   "outputs": [
    {
     "data": {
      "text/plain": [
       "0.8530701754385965"
      ]
     },
     "execution_count": 53,
     "metadata": {},
     "output_type": "execute_result"
    }
   ],
   "source": [
    "model.score(X_test, y_test)"
   ]
  },
  {
   "cell_type": "code",
   "execution_count": 54,
   "id": "74ec686f",
   "metadata": {},
   "outputs": [
    {
     "data": {
      "text/plain": [
       "array([[0.16551608, 0.83448392],\n",
       "       [0.03946336, 0.96053664],\n",
       "       [0.53142311, 0.46857689],\n",
       "       ...,\n",
       "       [0.06114707, 0.93885293],\n",
       "       [0.58383813, 0.41616187],\n",
       "       [0.591566  , 0.408434  ]])"
      ]
     },
     "execution_count": 54,
     "metadata": {},
     "output_type": "execute_result"
    }
   ],
   "source": [
    "pred_train_prob = model.predict_proba(X_train)\n",
    "pred_test_prob = model.predict_proba(X_test)\n",
    "pred_train_prob"
   ]
  },
  {
   "cell_type": "code",
   "execution_count": 55,
   "id": "0c2773e1",
   "metadata": {},
   "outputs": [],
   "source": [
    "pred_train_prob = pred_train_prob[:,1]"
   ]
  },
  {
   "cell_type": "code",
   "execution_count": 56,
   "id": "56851713",
   "metadata": {},
   "outputs": [],
   "source": [
    "from sklearn.metrics import accuracy_score,f1_score,recall_score, precision_score\n",
    "\n",
    "\n",
    "def GetCustomData(custom_prob):\n",
    "    custom_cutoff_data=[]\n",
    "\n",
    "    for i in range(0,len(pred_train_prob)):  #2333\n",
    "        if pred_train_prob[i] >custom_prob:\n",
    "            a= 1\n",
    "        else:\n",
    "            a=0\n",
    "        custom_cutoff_data.append(a)\n",
    "    return custom_cutoff_data"
   ]
  },
  {
   "cell_type": "code",
   "execution_count": 57,
   "id": "726c062f",
   "metadata": {},
   "outputs": [],
   "source": [
    "thresh=[]\n",
    "acc=[]\n",
    "f1=[]\n",
    "rec=[]\n",
    "pre=[]"
   ]
  },
  {
   "cell_type": "code",
   "execution_count": 58,
   "id": "78a828e9",
   "metadata": {},
   "outputs": [],
   "source": [
    "for j in np.arange(0.1,1,0.1):\n",
    "    result = GetCustomData(j)\n",
    "    thresh.append(j)\n",
    "    acc.append(accuracy_score(y_train,result))\n",
    "    f1.append(f1_score(y_train,result))\n",
    "    rec.append(recall_score(y_train,result))\n",
    "    pre.append(precision_score(y_train,result))\n"
   ]
  },
  {
   "cell_type": "code",
   "execution_count": 59,
   "id": "1c84445c",
   "metadata": {},
   "outputs": [
    {
     "data": {
      "text/html": [
       "<div>\n",
       "<style scoped>\n",
       "    .dataframe tbody tr th:only-of-type {\n",
       "        vertical-align: middle;\n",
       "    }\n",
       "\n",
       "    .dataframe tbody tr th {\n",
       "        vertical-align: top;\n",
       "    }\n",
       "\n",
       "    .dataframe thead th {\n",
       "        text-align: right;\n",
       "    }\n",
       "</style>\n",
       "<table border=\"1\" class=\"dataframe\">\n",
       "  <thead>\n",
       "    <tr style=\"text-align: right;\">\n",
       "      <th></th>\n",
       "      <th>Threshold</th>\n",
       "      <th>Accuracy</th>\n",
       "      <th>f1</th>\n",
       "      <th>Recall</th>\n",
       "      <th>Precision</th>\n",
       "    </tr>\n",
       "  </thead>\n",
       "  <tbody>\n",
       "    <tr>\n",
       "      <th>0</th>\n",
       "      <td>0.1</td>\n",
       "      <td>0.696513</td>\n",
       "      <td>0.821111</td>\n",
       "      <td>1.000000</td>\n",
       "      <td>0.696513</td>\n",
       "    </tr>\n",
       "    <tr>\n",
       "      <th>1</th>\n",
       "      <td>0.2</td>\n",
       "      <td>0.711593</td>\n",
       "      <td>0.828475</td>\n",
       "      <td>1.000000</td>\n",
       "      <td>0.707177</td>\n",
       "    </tr>\n",
       "    <tr>\n",
       "      <th>2</th>\n",
       "      <td>0.3</td>\n",
       "      <td>0.770971</td>\n",
       "      <td>0.857478</td>\n",
       "      <td>0.989175</td>\n",
       "      <td>0.756729</td>\n",
       "    </tr>\n",
       "    <tr>\n",
       "      <th>3</th>\n",
       "      <td>0.4</td>\n",
       "      <td>0.816211</td>\n",
       "      <td>0.881315</td>\n",
       "      <td>0.979702</td>\n",
       "      <td>0.800885</td>\n",
       "    </tr>\n",
       "    <tr>\n",
       "      <th>4</th>\n",
       "      <td>0.5</td>\n",
       "      <td>0.852026</td>\n",
       "      <td>0.898644</td>\n",
       "      <td>0.941813</td>\n",
       "      <td>0.859259</td>\n",
       "    </tr>\n",
       "    <tr>\n",
       "      <th>5</th>\n",
       "      <td>0.6</td>\n",
       "      <td>0.855796</td>\n",
       "      <td>0.894264</td>\n",
       "      <td>0.875507</td>\n",
       "      <td>0.913842</td>\n",
       "    </tr>\n",
       "    <tr>\n",
       "      <th>6</th>\n",
       "      <td>0.7</td>\n",
       "      <td>0.824694</td>\n",
       "      <td>0.863836</td>\n",
       "      <td>0.798376</td>\n",
       "      <td>0.940989</td>\n",
       "    </tr>\n",
       "    <tr>\n",
       "      <th>7</th>\n",
       "      <td>0.8</td>\n",
       "      <td>0.719133</td>\n",
       "      <td>0.754530</td>\n",
       "      <td>0.619756</td>\n",
       "      <td>0.964211</td>\n",
       "    </tr>\n",
       "    <tr>\n",
       "      <th>8</th>\n",
       "      <td>0.9</td>\n",
       "      <td>0.561734</td>\n",
       "      <td>0.545455</td>\n",
       "      <td>0.377537</td>\n",
       "      <td>0.982394</td>\n",
       "    </tr>\n",
       "  </tbody>\n",
       "</table>\n",
       "</div>"
      ],
      "text/plain": [
       "   Threshold  Accuracy        f1    Recall  Precision\n",
       "0        0.1  0.696513  0.821111  1.000000   0.696513\n",
       "1        0.2  0.711593  0.828475  1.000000   0.707177\n",
       "2        0.3  0.770971  0.857478  0.989175   0.756729\n",
       "3        0.4  0.816211  0.881315  0.979702   0.800885\n",
       "4        0.5  0.852026  0.898644  0.941813   0.859259\n",
       "5        0.6  0.855796  0.894264  0.875507   0.913842\n",
       "6        0.7  0.824694  0.863836  0.798376   0.940989\n",
       "7        0.8  0.719133  0.754530  0.619756   0.964211\n",
       "8        0.9  0.561734  0.545455  0.377537   0.982394"
      ]
     },
     "execution_count": 59,
     "metadata": {},
     "output_type": "execute_result"
    }
   ],
   "source": [
    "dat = pd.DataFrame({'Threshold': thresh,\n",
    "             'Accuracy': acc,\n",
    "             'f1': f1,\n",
    "             'Recall': rec,\n",
    "             'Precision':pre})\n",
    "dat"
   ]
  },
  {
   "cell_type": "code",
   "execution_count": 60,
   "id": "530240e2",
   "metadata": {},
   "outputs": [
    {
     "data": {
      "text/html": [
       "<div>\n",
       "<style scoped>\n",
       "    .dataframe tbody tr th:only-of-type {\n",
       "        vertical-align: middle;\n",
       "    }\n",
       "\n",
       "    .dataframe tbody tr th {\n",
       "        vertical-align: top;\n",
       "    }\n",
       "\n",
       "    .dataframe thead th {\n",
       "        text-align: right;\n",
       "    }\n",
       "</style>\n",
       "<table border=\"1\" class=\"dataframe\">\n",
       "  <thead>\n",
       "    <tr style=\"text-align: right;\">\n",
       "      <th></th>\n",
       "      <th>Threshold</th>\n",
       "      <th>Accuracy</th>\n",
       "      <th>f1</th>\n",
       "      <th>Recall</th>\n",
       "      <th>Precision</th>\n",
       "    </tr>\n",
       "  </thead>\n",
       "  <tbody>\n",
       "    <tr>\n",
       "      <th>4</th>\n",
       "      <td>0.5</td>\n",
       "      <td>0.852026</td>\n",
       "      <td>0.898644</td>\n",
       "      <td>0.941813</td>\n",
       "      <td>0.859259</td>\n",
       "    </tr>\n",
       "  </tbody>\n",
       "</table>\n",
       "</div>"
      ],
      "text/plain": [
       "   Threshold  Accuracy        f1    Recall  Precision\n",
       "4        0.5  0.852026  0.898644  0.941813   0.859259"
      ]
     },
     "execution_count": 60,
     "metadata": {},
     "output_type": "execute_result"
    }
   ],
   "source": [
    "dat[dat['f1']==dat['f1'].max()]"
   ]
  },
  {
   "cell_type": "code",
   "execution_count": 61,
   "id": "ff696d8d",
   "metadata": {},
   "outputs": [
    {
     "data": {
      "text/html": [
       "<div>\n",
       "<style scoped>\n",
       "    .dataframe tbody tr th:only-of-type {\n",
       "        vertical-align: middle;\n",
       "    }\n",
       "\n",
       "    .dataframe tbody tr th {\n",
       "        vertical-align: top;\n",
       "    }\n",
       "\n",
       "    .dataframe thead th {\n",
       "        text-align: right;\n",
       "    }\n",
       "</style>\n",
       "<table border=\"1\" class=\"dataframe\">\n",
       "  <thead>\n",
       "    <tr style=\"text-align: right;\">\n",
       "      <th></th>\n",
       "      <th>Threshold</th>\n",
       "      <th>Accuracy</th>\n",
       "      <th>f1</th>\n",
       "      <th>Recall</th>\n",
       "      <th>Precision</th>\n",
       "    </tr>\n",
       "  </thead>\n",
       "  <tbody>\n",
       "    <tr>\n",
       "      <th>5</th>\n",
       "      <td>0.6</td>\n",
       "      <td>0.855796</td>\n",
       "      <td>0.894264</td>\n",
       "      <td>0.875507</td>\n",
       "      <td>0.913842</td>\n",
       "    </tr>\n",
       "  </tbody>\n",
       "</table>\n",
       "</div>"
      ],
      "text/plain": [
       "   Threshold  Accuracy        f1    Recall  Precision\n",
       "5        0.6  0.855796  0.894264  0.875507   0.913842"
      ]
     },
     "execution_count": 61,
     "metadata": {},
     "output_type": "execute_result"
    }
   ],
   "source": [
    "dat[dat['Accuracy']==dat['Accuracy'].max()]"
   ]
  },
  {
   "cell_type": "code",
   "execution_count": null,
   "id": "ec03e90d",
   "metadata": {},
   "outputs": [],
   "source": []
  }
 ],
 "metadata": {
  "kernelspec": {
   "display_name": "Python 3",
   "language": "python",
   "name": "python3"
  },
  "language_info": {
   "codemirror_mode": {
    "name": "ipython",
    "version": 3
   },
   "file_extension": ".py",
   "mimetype": "text/x-python",
   "name": "python",
   "nbconvert_exporter": "python",
   "pygments_lexer": "ipython3",
   "version": "3.8.8"
  }
 },
 "nbformat": 4,
 "nbformat_minor": 5
}
