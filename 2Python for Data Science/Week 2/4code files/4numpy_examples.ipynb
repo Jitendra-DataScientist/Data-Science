{
  "nbformat": 4,
  "nbformat_minor": 0,
  "metadata": {
    "kernelspec": {
      "display_name": "Python 3",
      "language": "python",
      "name": "python3"
    },
    "language_info": {
      "codemirror_mode": {
        "name": "ipython",
        "version": 3
      },
      "file_extension": ".py",
      "mimetype": "text/x-python",
      "name": "python",
      "nbconvert_exporter": "python",
      "pygments_lexer": "ipython3",
      "version": "3.6.8"
    },
    "colab": {
      "name": "numpy_examples.ipynb",
      "provenance": []
    }
  },
  "cells": [
    {
      "cell_type": "markdown",
      "metadata": {
        "id": "kQ8tsKcCbUX0"
      },
      "source": [
        "# NumPy\n",
        "\n",
        "numpy is python's package for doing math that is more advanced than +-*/\n",
        "\n",
        "This includes special functions like cosine, exponential, sqrt, ...\n",
        "\n",
        "On top of this we can use numpy to generate samples from many types of random variables\n",
        "\n",
        "numpy also has a powerful data type to define vectors, matrices, and tensors\n",
        "\n",
        "With these data types numpy also allows us to do linear algebra - matrix multiplication and matrix-vector solutions"
      ]
    },
    {
      "cell_type": "code",
      "metadata": {
        "id": "Pz_77VQ8bUX_"
      },
      "source": [
        "# the first step of using numpy is to tell python to use it\n",
        "import numpy as np"
      ],
      "execution_count": null,
      "outputs": []
    },
    {
      "cell_type": "code",
      "metadata": {
        "id": "HCdx_SAwbUYA"
      },
      "source": [
        "print(np.cos(np.pi))\n",
        "print(np.sqrt(1.21))\n",
        "print(np.log(np.exp(5.2)))"
      ],
      "execution_count": null,
      "outputs": []
    },
    {
      "cell_type": "code",
      "metadata": {
        "id": "l1lYgUosbUYB"
      },
      "source": [
        "# we can create numpy arrays by converting lists\n",
        "# this is a vector\n",
        "vec = np.array([1,2,3])\n",
        "print(vec)\n",
        "# we can create matrices by converting lists of lists\n",
        "mat = np.array([[1,2,1],[4,5,9],[1,8,9]])\n",
        "print('')\n",
        "print(mat)\n",
        "print('')\n",
        "print(mat.T)"
      ],
      "execution_count": null,
      "outputs": []
    },
    {
      "cell_type": "code",
      "metadata": {
        "id": "mWNUTMT3bUYB"
      },
      "source": [
        "# there are lots of other ways to create numpy arrays\n",
        "vec2 = np.arange(0,15)\n",
        "print(vec2)\n",
        "print('')\n",
        "vec3 = np.arange(3,21,6)\n",
        "print(vec3)\n"
      ],
      "execution_count": null,
      "outputs": []
    },
    {
      "cell_type": "code",
      "metadata": {
        "id": "XEevL-o-bUYC"
      },
      "source": [
        "\n",
        "vec4 = np.linspace(0,5,10)\n",
        "print(vec4)\n",
        "print('')\n",
        "print(vec4.reshape(5,2))\n",
        "vec4_reshaped = vec4.reshape(5,2)\n",
        "print(vec4_reshaped)\n",
        "print(vec4)"
      ],
      "execution_count": null,
      "outputs": []
    },
    {
      "cell_type": "code",
      "metadata": {
        "id": "LpTb89PNbUYC"
      },
      "source": [
        "mat2 = np.zeros([5,3])\n",
        "print(mat2)\n",
        "mat3 = np.ones((3,5))\n",
        "print('')\n",
        "print(mat3)\n",
        "mat4 = np.eye(5)\n",
        "print('')\n",
        "print(mat4)"
      ],
      "execution_count": null,
      "outputs": []
    },
    {
      "cell_type": "code",
      "metadata": {
        "id": "GGjNdTyWbUYD"
      },
      "source": [
        "# we can +-*/ arrays together if they're the right size\n",
        "vec5 = np.arange(1,6)\n",
        "vec6 = np.arange(3,8)\n",
        "print(vec5)\n",
        "print(vec6)\n",
        "print(vec5+vec6)\n",
        "print(vec5*vec6)\n",
        "print(1/vec5)\n",
        "print(np.sqrt(vec6))"
      ],
      "execution_count": null,
      "outputs": []
    },
    {
      "cell_type": "code",
      "metadata": {
        "id": "59YsUjm0bUYD"
      },
      "source": [
        "# we can do matrix multiplication\n",
        "print(mat)\n",
        "print('')\n",
        "print(vec)\n",
        "print()\n",
        "product = np.matmul(mat,vec)\n",
        "print(product)"
      ],
      "execution_count": null,
      "outputs": []
    },
    {
      "cell_type": "code",
      "metadata": {
        "id": "dVZ6M0iWbUYE"
      },
      "source": [
        "print(np.linalg.solve(mat,product))\n",
        "print('')\n",
        "print(np.linalg.inv(mat))"
      ],
      "execution_count": null,
      "outputs": []
    },
    {
      "cell_type": "code",
      "metadata": {
        "id": "fTDtEHvIbUYE"
      },
      "source": [
        "# we can find the unique values in an array\n",
        "vec7 = np.array(['blue','red','orange','purple','purple','orange','Red',6])\n",
        "print(vec7)\n",
        "print(np.unique(vec7))"
      ],
      "execution_count": null,
      "outputs": []
    },
    {
      "cell_type": "code",
      "metadata": {
        "id": "wxC6t4owbUYE"
      },
      "source": [
        "# we can also use numpy to generate samples of a random variable\n",
        "rand_mat = np.random.rand(5,5) # uniform random variable\n",
        "print(rand_mat)\n",
        "rand_mat2 = np.random.randn(10,5) # standard normal random variable\n",
        "print('')\n",
        "print(rand_mat2)"
      ],
      "execution_count": null,
      "outputs": []
    },
    {
      "cell_type": "code",
      "metadata": {
        "id": "TRyZeXEqbUYF"
      },
      "source": [
        "# we can also use numpy for statistical tools on arrays\n",
        "print(np.mean(rand_mat))\n",
        "print(np.std(rand_mat2))"
      ],
      "execution_count": null,
      "outputs": []
    },
    {
      "cell_type": "code",
      "metadata": {
        "id": "Ow-3XranbUYF"
      },
      "source": [
        "print(np.min(rand_mat))\n",
        "print(np.max(rand_mat2))"
      ],
      "execution_count": null,
      "outputs": []
    },
    {
      "cell_type": "code",
      "metadata": {
        "id": "13mRt2HnbUYG"
      },
      "source": [
        "# break here for next video!"
      ],
      "execution_count": null,
      "outputs": []
    },
    {
      "cell_type": "code",
      "metadata": {
        "id": "X94cebDBbUYG"
      },
      "source": [
        "# how do we access entries in a numpy vector\n",
        "rand_vec = np.random.randn(19)\n",
        "print(rand_vec)\n",
        "print(rand_vec[6])"
      ],
      "execution_count": null,
      "outputs": []
    },
    {
      "cell_type": "code",
      "metadata": {
        "id": "CEc83GPNbUYG"
      },
      "source": [
        "# we can access multiple entries at once using :\n",
        "print(rand_vec[4:9])"
      ],
      "execution_count": null,
      "outputs": []
    },
    {
      "cell_type": "code",
      "metadata": {
        "id": "heJCLDtsbUYG"
      },
      "source": [
        "# we can also access multiple non-consecutive entries using np.arange\n",
        "print(np.arange(0,15,3))\n",
        "print(rand_vec[np.arange(0,15,3)])"
      ],
      "execution_count": null,
      "outputs": []
    },
    {
      "cell_type": "code",
      "metadata": {
        "id": "YE0sDCPGbUYH"
      },
      "source": [
        "# what about matrices\n",
        "print(rand_mat)\n",
        "print(rand_mat[1][2])\n",
        "print(rand_mat[1,2])\n"
      ],
      "execution_count": null,
      "outputs": []
    },
    {
      "cell_type": "code",
      "metadata": {
        "id": "Z1Af-lSSbUYH"
      },
      "source": [
        "print(rand_mat[0:2,1:3])"
      ],
      "execution_count": null,
      "outputs": []
    },
    {
      "cell_type": "code",
      "metadata": {
        "id": "DDHw99WcbUYH"
      },
      "source": [
        "# let's change some values in an array!\n",
        "print(rand_vec)\n",
        "rand_vec[3:5] = 4\n",
        "print('')\n",
        "print(rand_vec)\n",
        "rand_vec[3:5] = [1,2]\n",
        "print('')\n",
        "print(rand_vec)"
      ],
      "execution_count": null,
      "outputs": []
    },
    {
      "cell_type": "code",
      "metadata": {
        "id": "Y6ypTFgrbUYI"
      },
      "source": [
        "print(rand_mat)\n",
        "rand_mat[1:3,3:5] = 0\n",
        "print('')\n",
        "print(rand_mat)"
      ],
      "execution_count": null,
      "outputs": []
    },
    {
      "cell_type": "code",
      "metadata": {
        "id": "FWDVRLi1bUYI"
      },
      "source": [
        "sub_mat = rand_mat[0:2,0:3]\n",
        "print(sub_mat)\n",
        "sub_mat[:] = 3\n",
        "print(sub_mat)\n"
      ],
      "execution_count": null,
      "outputs": []
    },
    {
      "cell_type": "code",
      "metadata": {
        "id": "7AgajIVubUYJ"
      },
      "source": [
        "print(rand_mat)"
      ],
      "execution_count": null,
      "outputs": []
    },
    {
      "cell_type": "code",
      "metadata": {
        "id": "IgSiNdUSbUYJ"
      },
      "source": [
        "sub_mat2 = rand_mat[0:2,0:3].copy()\n",
        "sub_mat2[:] = 99\n",
        "print(sub_mat2)\n",
        "print(rand_mat)\n"
      ],
      "execution_count": null,
      "outputs": []
    },
    {
      "cell_type": "code",
      "metadata": {
        "id": "xJCRrorkbUYJ"
      },
      "source": [
        "# break here for next video"
      ],
      "execution_count": null,
      "outputs": []
    },
    {
      "cell_type": "code",
      "metadata": {
        "id": "45YgVvrRbUYN"
      },
      "source": [
        ""
      ],
      "execution_count": null,
      "outputs": []
    }
  ]
}