{
 "cells": [
  {
   "cell_type": "code",
   "execution_count": 9,
   "metadata": {},
   "outputs": [
    {
     "name": "stdout",
     "output_type": "stream",
     "text": [
      "6.123233995736766e-17\n",
      "3.0\n",
      "40.0\n"
     ]
    }
   ],
   "source": [
    "#few functions\n",
    "import numpy as np\n",
    "print(np.cos((np.pi)/2)) #my observation: value in output is tending towards zero\n",
    "print(np.sqrt(9))\n",
    "print(np.log(np.exp(40)))"
   ]
  },
  {
   "cell_type": "code",
   "execution_count": 23,
   "metadata": {},
   "outputs": [
    {
     "name": "stdout",
     "output_type": "stream",
     "text": [
      "[[1 4 7]\n",
      " [2 5 8]\n",
      " [3 6 9]]\n"
     ]
    }
   ],
   "source": [
    "#transpose of a matrix\n",
    "import numpy as np\n",
    "l1=[[1,2,3],[4,5,6],[7,8,9]]\n",
    "a1=np.array(l1)\n",
    "print(a1.T)"
   ]
  },
  {
   "cell_type": "code",
   "execution_count": 14,
   "metadata": {},
   "outputs": [
    {
     "name": "stdout",
     "output_type": "stream",
     "text": [
      "[0 1 2 3 4 5]\n",
      "[ 3  9 15]\n"
     ]
    }
   ],
   "source": [
    "#arange() method of NumPy\n",
    "import numpy as np\n",
    "a1=np.arange(0,6)\n",
    "print(a1)\n",
    "a2=np.arange(3,21,6)\n",
    "print(a2)"
   ]
  },
  {
   "cell_type": "code",
   "execution_count": 1,
   "metadata": {},
   "outputs": [
    {
     "name": "stdout",
     "output_type": "stream",
     "text": [
      "[[0.  ]\n",
      " [1.25]\n",
      " [2.5 ]\n",
      " [3.75]\n",
      " [5.  ]]\n",
      "[0.   1.25 2.5  3.75 5.  ]\n",
      "[[0.  ]\n",
      " [1.25]\n",
      " [2.5 ]\n",
      " [3.75]\n",
      " [5.  ]]\n"
     ]
    }
   ],
   "source": [
    "#linspace() and reshape()\n",
    "import numpy as np\n",
    "a1=np.linspace(0,5,5)\n",
    "print(a1.reshape(5,1))\n",
    "print(a1)\n",
    "a2=a1.reshape(5,1)\n",
    "print(a2)"
   ]
  },
  {
   "cell_type": "code",
   "execution_count": 2,
   "metadata": {},
   "outputs": [
    {
     "name": "stdout",
     "output_type": "stream",
     "text": [
      "<class 'int'>\n",
      "<class 'numpy.float64'>\n"
     ]
    }
   ],
   "source": [
    "#checking datatypes\n",
    "import numpy as np\n",
    "l1=[1,2,3.0]\n",
    "print(type(l1[0]))\n",
    "a1=np.array(l1)\n",
    "print(type(a1[0]))"
   ]
  },
  {
   "cell_type": "code",
   "execution_count": 43,
   "metadata": {},
   "outputs": [
    {
     "name": "stdout",
     "output_type": "stream",
     "text": [
      "[0. 0. 0. 0. 0.]\n",
      "[[0. 0. 0.]\n",
      " [0. 0. 0.]\n",
      " [0. 0. 0.]\n",
      " [0. 0. 0.]\n",
      " [0. 0. 0.]]\n"
     ]
    }
   ],
   "source": [
    "#zeros()\n",
    "import numpy as np\n",
    "a1=np.zeros(5)\n",
    "print(a1)\n",
    "a2=np.zeros([5,3])\n",
    "print(a2)"
   ]
  },
  {
   "cell_type": "code",
   "execution_count": 46,
   "metadata": {},
   "outputs": [
    {
     "name": "stdout",
     "output_type": "stream",
     "text": [
      "[1. 1. 1. 1. 1.]\n",
      "[[1. 1. 1.]\n",
      " [1. 1. 1.]\n",
      " [1. 1. 1.]\n",
      " [1. 1. 1.]\n",
      " [1. 1. 1.]]\n",
      "[[1. 0. 0. 0. 0. 0. 0.]\n",
      " [0. 1. 0. 0. 0. 0. 0.]\n",
      " [0. 0. 1. 0. 0. 0. 0.]\n",
      " [0. 0. 0. 1. 0. 0. 0.]\n",
      " [0. 0. 0. 0. 1. 0. 0.]\n",
      " [0. 0. 0. 0. 0. 1. 0.]\n",
      " [0. 0. 0. 0. 0. 0. 1.]]\n"
     ]
    }
   ],
   "source": [
    "#ones(), eye()\n",
    "import numpy as np\n",
    "a1=np.ones(5)\n",
    "print(a1)\n",
    "a2=np.ones([5,3])\n",
    "print(a2)\n",
    "a3=np.eye(7) #identity matrix\n",
    "print(a3)"
   ]
  },
  {
   "cell_type": "code",
   "execution_count": 7,
   "metadata": {},
   "outputs": [
    {
     "name": "stdout",
     "output_type": "stream",
     "text": [
      "[1 2 3 4 5]\n",
      "[3 4 5 6 7]\n",
      "[ 4  6  8 10 12]\n",
      "[0.33333333 0.5        0.6        0.66666667 0.71428571]\n",
      "[1.         0.5        0.33333333 0.25       0.2       ]\n",
      "[1.73205081 2.         2.23606798 2.44948974 2.64575131]\n"
     ]
    }
   ],
   "source": [
    "#element by element addition, multiplication, subtraction, division, inverse and squareroot\n",
    "import numpy as np\n",
    "a1=np.arange(1,6)\n",
    "a2=np.arange(3,8)\n",
    "print(a1)\n",
    "print(a2)\n",
    "print(a1+a2)\n",
    "print(a1/a2)\n",
    "print(1/a1)\n",
    "print(np.sqrt(a2))"
   ]
  },
  {
   "cell_type": "code",
   "execution_count": 12,
   "metadata": {},
   "outputs": [
    {
     "name": "stdout",
     "output_type": "stream",
     "text": [
      "[ 7 32 35]\n",
      "[1. 2. 2.]\n",
      "[ 0.38888889  0.38888889 -0.16666667]\n"
     ]
    }
   ],
   "source": [
    "#matrix multiplication\n",
    "import numpy as np\n",
    "a1=np.array([[1,2,1],[4,5,9],[1,8,9]])\n",
    "a2=np.array([1,2,2])\n",
    "product=np.matmul(a1,a2)\n",
    "print(product)\n",
    "print(np.linalg.solve(a1,product))\n",
    "print(np.linalg.solve(a1,a2))   #wont give 'product' as result  #it is not division"
   ]
  },
  {
   "cell_type": "code",
   "execution_count": 22,
   "metadata": {},
   "outputs": [
    {
     "name": "stdout",
     "output_type": "stream",
     "text": [
      "[[-2.  3.]\n",
      " [ 3. -4.]]\n",
      "[[1. 0.]\n",
      " [0. 1.]]\n",
      "[[ 1.  -2. ]\n",
      " [-0.5  1.5]]\n",
      "[[1.00000000e+00 0.00000000e+00]\n",
      " [1.11022302e-16 1.00000000e+00]]\n"
     ]
    }
   ],
   "source": [
    "#inverse\n",
    "import numpy as np\n",
    "a1=np.array([[4,3],[3,2]])\n",
    "a2=np.linalg.inv(a1)\n",
    "print(a2)\n",
    "print(np.matmul(a1,a2))\n",
    "a3=np.array([[3,4],[1,2]])\n",
    "a4=np.linalg.inv(a3)\n",
    "print(a4)\n",
    "print(np.matmul(a3,a4))\n",
    "#MY INFERENCE:\n",
    "#matmul defers from dot operation of matrices\n",
    "#if both are 2d matrices, they are multiplied the conventional way\n",
    "#https://numpy.org/doc/stable/reference/generated/numpy.matmul.html\n",
    "#refer above link for more"
   ]
  },
  {
   "cell_type": "code",
   "execution_count": 24,
   "metadata": {},
   "outputs": [
    {
     "name": "stdout",
     "output_type": "stream",
     "text": [
      "['6' 'Red' 'green' 'purple' 'red']\n",
      "<class 'numpy.ndarray'>\n"
     ]
    }
   ],
   "source": [
    "#unique values in an array\n",
    "a1=np.array([6,'Red','red','purple','green','red','purple'])\n",
    "print(np.unique(a1))\n",
    "print(type(np.unique(a1)))"
   ]
  },
  {
   "cell_type": "code",
   "execution_count": 22,
   "metadata": {},
   "outputs": [
    {
     "name": "stdout",
     "output_type": "stream",
     "text": [
      "[[0.19575706 0.33754746 0.60896183 0.02331012 0.04988548]\n",
      " [0.84658438 0.83862886 0.74926246 0.0416831  0.76135821]\n",
      " [0.74313661 0.49598925 0.70646211 0.48116889 0.30720481]\n",
      " [0.76178269 0.21827554 0.1937777  0.18970282 0.93965127]\n",
      " [0.10124201 0.52294624 0.98333868 0.8835475  0.18287453]]\n"
     ]
    }
   ],
   "source": [
    "#random values in matrix\n",
    "import numpy as np\n",
    "a1=np.random.rand(5,5) #values range from 0 to 1\n",
    "print(a1)"
   ]
  },
  {
   "cell_type": "code",
   "execution_count": 16,
   "metadata": {},
   "outputs": [
    {
     "name": "stdout",
     "output_type": "stream",
     "text": [
      "[[-0.17297007  0.27699557 -0.26956112  1.01593288  0.55500232]\n",
      " [ 0.39091864  1.87355255 -0.89970368 -0.05380736 -0.7744677 ]\n",
      " [-0.24660371 -0.89705086 -0.38690871 -1.41199474  0.72561793]\n",
      " [ 0.09182822  1.04979442 -1.01425514 -1.75340436  0.49801342]\n",
      " [ 2.44363031 -0.61583308  0.31151614 -0.10489613 -0.59129014]]\n"
     ]
    }
   ],
   "source": [
    "#random values in matrix\n",
    "import numpy as np\n",
    "a1=np.random.randn(5,5) #values are standard normal variables\n",
    "print(a1)"
   ]
  },
  {
   "cell_type": "code",
   "execution_count": 25,
   "metadata": {},
   "outputs": [
    {
     "name": "stdout",
     "output_type": "stream",
     "text": [
      "[[ 0.89504695  0.01836041 -0.31111975  1.571622   -0.64436768]\n",
      " [-0.75245057  0.2749153   0.34239873 -0.29772586  0.30900128]\n",
      " [-0.56696219  0.55832149 -1.30451496 -0.59951454 -0.89776678]\n",
      " [-0.61867111 -0.81751848  1.37572338 -0.15943592 -0.43504591]\n",
      " [ 0.91648944  0.03004758  0.75995777  0.92880296  0.53322218]]\n",
      "0.044352628552452415\n",
      "0.7456943437769167\n",
      "1.5716220025255023\n",
      "-1.3045149553087998\n"
     ]
    }
   ],
   "source": [
    "#mean(), std(), max(), min()\n",
    "import numpy as np\n",
    "a1=np.random.randn(5,5)\n",
    "print(a1)\n",
    "print(np.mean(a1))\n",
    "print(np.std(a1))\n",
    "print(np.max(a1))\n",
    "print(np.min(a1))"
   ]
  },
  {
   "cell_type": "code",
   "execution_count": 33,
   "metadata": {
    "scrolled": true
   },
   "outputs": [
    {
     "name": "stdout",
     "output_type": "stream",
     "text": [
      "[-0.29429226  0.54504863  2.44917551  0.96203651 -1.07004372 -1.19199625\n",
      "  0.46684973  0.09509717  0.81663101  0.67976715 -1.26744761  0.57568553\n",
      "  1.07242385  1.0046394  -0.7973031 ] \n",
      "\n",
      "0.9620365112356447 \n",
      "\n",
      "[0.54504863 2.44917551 0.96203651] \n",
      "\n",
      "[ 0  3  6  9 12] \n",
      "\n",
      "[-0.29429226  0.96203651  0.46684973  0.67976715  1.07242385]\n"
     ]
    }
   ],
   "source": [
    "#accessing entries in Vectors\n",
    "import numpy as np\n",
    "a1=np.random.randn(15)\n",
    "print(a1,'\\n')\n",
    "print(a1[3],'\\n')\n",
    "print(a1[1:4],'\\n')\n",
    "\n",
    "#using arange()\n",
    "a2=np.arange(0,15,3)\n",
    "print(a2,'\\n')\n",
    "print(a1[a2])"
   ]
  },
  {
   "cell_type": "code",
   "execution_count": 44,
   "metadata": {},
   "outputs": [
    {
     "name": "stdout",
     "output_type": "stream",
     "text": [
      "[[ 0.7214259  -0.51481025 -0.16254156  0.0101744   0.83742236]\n",
      " [ 0.88678999 -0.57516775  0.37371524 -0.23545103 -1.27342271]\n",
      " [ 1.49320316 -1.24619352  0.80658799  0.64400562  0.86740252]\n",
      " [-0.48649597  0.01270934 -0.25105387 -2.57735471 -1.75389425]\n",
      " [-0.1175542   0.63504708 -0.50735696  1.07351807  1.10072362]] \n",
      "\n",
      "0.37371524418827684 \n",
      "\n",
      "0.37371524418827684 \n",
      "\n",
      "[[ 0.37371524 -0.23545103]\n",
      " [ 0.80658799  0.64400562]]\n"
     ]
    }
   ],
   "source": [
    "#accessing entries in Matrices\n",
    "import numpy as np\n",
    "a1=np.random.randn(5,5)\n",
    "print(a1,'\\n')\n",
    "print(a1[1,2],'\\n')\n",
    "print(a1[1][2],'\\n')\n",
    "print(a1[1:3,2:4])"
   ]
  },
  {
   "cell_type": "code",
   "execution_count": 47,
   "metadata": {},
   "outputs": [
    {
     "name": "stdout",
     "output_type": "stream",
     "text": [
      "[0.615597   0.47399923 0.3018716  0.70793606 0.17808797 0.55320148\n",
      " 0.5333445  0.57862381 0.56614802 0.52282176 0.7593011  0.3828625\n",
      " 0.83047613 0.30673985 0.2926469 ] \n",
      "\n",
      "[0.615597   0.47399923 0.3018716  1.         1.         1.\n",
      " 1.         0.57862381 0.56614802 0.52282176 0.7593011  0.3828625\n",
      " 0.83047613 0.30673985 0.2926469 ] \n",
      "\n",
      "[0.615597   0.47399923 0.3018716  6.         4.         7.\n",
      " 3.         0.57862381 0.56614802 0.52282176 0.7593011  0.3828625\n",
      " 0.83047613 0.30673985 0.2926469 ] \n",
      "\n"
     ]
    }
   ],
   "source": [
    "#changing entries in array\n",
    "import numpy as np\n",
    "a1=np.random.rand(15)\n",
    "print(a1,'\\n')\n",
    "a1[3:7]=1\n",
    "print(a1,'\\n')\n",
    "a1[3:7]=[6,4,7,3]\n",
    "print(a1,'\\n')"
   ]
  },
  {
   "cell_type": "code",
   "execution_count": 51,
   "metadata": {},
   "outputs": [
    {
     "name": "stdout",
     "output_type": "stream",
     "text": [
      "[[-2.09931825  0.07628597 -0.62507972  1.10936387  1.24653093]\n",
      " [-0.85322239  2.53815132 -1.00953734  1.31737579  0.11480654]\n",
      " [ 2.71215839  1.19016259 -0.34223626 -0.74204048  0.71827954]\n",
      " [ 0.98428622 -0.07068303  1.36330067 -0.44009914 -1.57183567]\n",
      " [-1.86825987  1.28822148 -1.60722212  1.50499736  0.28365446]] \n",
      "\n",
      "[[-2.09931825  0.07628597 -0.62507972  1.10936387  1.24653093]\n",
      " [-0.85322239  2.53815132 -1.00953734  0.          0.        ]\n",
      " [ 2.71215839  1.19016259 -0.34223626  0.          0.        ]\n",
      " [ 0.98428622 -0.07068303  1.36330067 -0.44009914 -1.57183567]\n",
      " [-1.86825987  1.28822148 -1.60722212  1.50499736  0.28365446]] \n",
      "\n",
      "[[-2.09931825  0.07628597 -0.62507972  1.10936387  1.24653093]\n",
      " [-0.85322239  2.53815132 -1.00953734  1.          2.        ]\n",
      " [ 2.71215839  1.19016259 -0.34223626  1.          2.        ]\n",
      " [ 0.98428622 -0.07068303  1.36330067 -0.44009914 -1.57183567]\n",
      " [-1.86825987  1.28822148 -1.60722212  1.50499736  0.28365446]] \n",
      "\n",
      "[[-2.09931825  0.07628597 -0.62507972  1.10936387  1.24653093]\n",
      " [-0.85322239  2.53815132 -1.00953734  1.          2.        ]\n",
      " [ 2.71215839  1.19016259 -0.34223626  3.          4.        ]\n",
      " [ 0.98428622 -0.07068303  1.36330067 -0.44009914 -1.57183567]\n",
      " [-1.86825987  1.28822148 -1.60722212  1.50499736  0.28365446]] \n",
      "\n"
     ]
    }
   ],
   "source": [
    "#changing entries in Matrices\n",
    "import numpy as np\n",
    "a1=np.random.randn(5,5)\n",
    "print(a1,'\\n')\n",
    "a1[1:3,3:5]=0\n",
    "print(a1,'\\n')\n",
    "a1[1:3,3:5]=[1,2]\n",
    "print(a1,'\\n')\n",
    "a1[1:3,3:5]=[[1,2],[3,4]]\n",
    "print(a1,'\\n')"
   ]
  },
  {
   "cell_type": "code",
   "execution_count": 54,
   "metadata": {},
   "outputs": [
    {
     "name": "stdout",
     "output_type": "stream",
     "text": [
      "[1, 2, 7, 4, 5] \n",
      "\n",
      "[1, 2, 7, 4, 5] \n",
      "\n",
      "[2, 3, 4] \n",
      "\n",
      "[2, 3, 7] \n",
      "\n",
      "[1, 2, 3, 4, 5] \n",
      "\n"
     ]
    }
   ],
   "source": [
    "#lists\n",
    "a1=[1,2,3,4,5]\n",
    "a2=a1\n",
    "a2[2]=7\n",
    "print(a2,'\\n')\n",
    "print(a1,'\\n')      #value gets updated in a1 as well\n",
    "\n",
    "l1=[1,2,3,4,5]\n",
    "l2=l1[1:4]\n",
    "print(l2,'\\n')\n",
    "l2[2]=7\n",
    "print(l2,'\\n')\n",
    "print(l1,'\\n')      #value doesnt get updated in l1"
   ]
  },
  {
   "cell_type": "code",
   "execution_count": 62,
   "metadata": {},
   "outputs": [
    {
     "name": "stdout",
     "output_type": "stream",
     "text": [
      "[[ 0.56707783  0.46076799  1.24901425 -0.7315659  -0.14547452]\n",
      " [-0.84730058 -0.56513702 -0.79729569  0.11116672 -1.22344863]\n",
      " [-0.74310964  1.73005895  0.16155449  1.55526726  0.06671693]\n",
      " [-1.45272661 -0.56711269  0.12714724 -0.46650484 -0.35225822]\n",
      " [-0.94948965 -0.40679039  1.27012069  1.16521717  0.88203756]] \n",
      "\n",
      "[[ 0.11116672 -1.22344863]\n",
      " [ 1.55526726  0.06671693]] \n",
      "\n",
      "[[6. 6.]\n",
      " [6. 6.]] \n",
      "\n",
      "[[ 0.56707783  0.46076799  1.24901425 -0.7315659  -0.14547452]\n",
      " [-0.84730058 -0.56513702 -0.79729569  6.          6.        ]\n",
      " [-0.74310964  1.73005895  0.16155449  6.          6.        ]\n",
      " [-1.45272661 -0.56711269  0.12714724 -0.46650484 -0.35225822]\n",
      " [-0.94948965 -0.40679039  1.27012069  1.16521717  0.88203756]] \n",
      "\n",
      "[[ 0.          0.16155449]\n",
      " [-0.56711269  0.12714724]] \n",
      "\n",
      "[[ 0.56707783  0.46076799  1.24901425 -0.7315659  -0.14547452]\n",
      " [-0.84730058 -0.56513702 -0.79729569  6.          6.        ]\n",
      " [-0.74310964  1.73005895  0.16155449  6.          6.        ]\n",
      " [-1.45272661 -0.56711269  0.12714724 -0.46650484 -0.35225822]\n",
      " [-0.94948965 -0.40679039  1.27012069  1.16521717  0.88203756]] \n",
      "\n"
     ]
    }
   ],
   "source": [
    "#sub matrices\n",
    "import numpy as np\n",
    "mat=np.random.randn(5,5)\n",
    "print(mat,'\\n')\n",
    "sub_mat=mat[1:3,3:5]\n",
    "print(sub_mat,'\\n')\n",
    "sub_mat[:]=6\n",
    "print(sub_mat,'\\n')\n",
    "print(mat,'\\n')       #values get updated in main matrix mat as well\n",
    "sub_mat2=mat[2:4,1:3].copy()\n",
    "sub_mat2[0][0]=0\n",
    "print(sub_mat2,'\\n')\n",
    "print(mat,'\\n')       #value doesnt get updated in main matrix mat"
   ]
  },
  {
   "cell_type": "code",
   "execution_count": 69,
   "metadata": {},
   "outputs": [
    {
     "name": "stdout",
     "output_type": "stream",
     "text": [
      "0    1\n",
      "1    2\n",
      "2    3\n",
      "3    4\n",
      "4    5\n",
      "dtype: int64 \n",
      "\n",
      "0    1\n",
      "1    2\n",
      "2    3\n",
      "3    4\n",
      "4    5\n",
      "dtype: int32 \n",
      "\n",
      "0    5\n",
      "1    6\n",
      "2    7\n",
      "3    8\n",
      "4    9\n",
      "dtype: int64 \n",
      "\n",
      "0    5\n",
      "1    6\n",
      "2    7\n",
      "3    8\n",
      "4    9\n",
      "dtype: int32 \n",
      "\n"
     ]
    }
   ],
   "source": [
    "#Pandas: Series\n",
    "import pandas as pd\n",
    "l1=[1,2,3,4,5]\n",
    "n1=np.array(l1)\n",
    "p1=pd.Series(l1)\n",
    "print(p1,'\\n')\n",
    "p2=pd.Series(n1)\n",
    "print(p2,'\\n')\n",
    "\n",
    "l2=[5,6,7,8,9]\n",
    "n2=np.array(l2)\n",
    "p3=pd.Series(data=l2)\n",
    "print(p3,'\\n')\n",
    "p4=pd.Series(data=n2)\n",
    "print(p4,'\\n')"
   ]
  },
  {
   "cell_type": "code",
   "execution_count": 81,
   "metadata": {},
   "outputs": [
    {
     "name": "stdout",
     "output_type": "stream",
     "text": [
      "1st    1\n",
      "2nd    2\n",
      "3rd    3\n",
      "4th    4\n",
      "5th    5\n",
      "dtype: int32 \n",
      "\n",
      "1st    1\n",
      "2nd    2\n",
      "3rd    3\n",
      "4th    4\n",
      "5th    5\n",
      "dtype: int32 \n",
      "\n",
      "3\n",
      "3\n"
     ]
    }
   ],
   "source": [
    "#accessing series and adding labels\n",
    "l1=[1,2,3,4,5]\n",
    "n1=np.array(l1)\n",
    "mylabels=['1st','2nd','3rd','4th','5th']\n",
    "p1=pd.Series(data=n1,index=mylabels)\n",
    "print(p1,'\\n')\n",
    "p2=pd.Series(n1,mylabels)\n",
    "print(p2,'\\n')\n",
    "print(p1[2])\n",
    "print(p2['3rd'])"
   ]
  },
  {
   "cell_type": "code",
   "execution_count": 44,
   "metadata": {},
   "outputs": [
    {
     "name": "stdout",
     "output_type": "stream",
     "text": [
      "1st    1\n",
      "2nd    2\n",
      "3rd    3\n",
      "4th    4\n",
      "5th    5\n",
      "dtype: int32 \n",
      "\n",
      "2nd    1\n",
      "3rd    2\n",
      "4th    3\n",
      "5th    4\n",
      "6th    5\n",
      "dtype: int64 \n",
      "\n",
      "1st    NaN\n",
      "2nd    3.0\n",
      "3rd    5.0\n",
      "4th    7.0\n",
      "5th    9.0\n",
      "6th    NaN\n",
      "dtype: float64 \n",
      "\n",
      "       0    1\n",
      "1st  1.0  NaN\n",
      "2nd  2.0  1.0\n",
      "3rd  3.0  2.0\n",
      "4th  4.0  3.0\n",
      "5th  5.0  4.0\n",
      "6th  NaN  5.0 \n",
      "\n",
      "<class 'pandas.core.frame.DataFrame'>\n"
     ]
    }
   ],
   "source": [
    "#maths operations and concat()\n",
    "l1=[1,2,3,4,5]\n",
    "n1=np.array(l1)\n",
    "mylabels=['1st','2nd','3rd','4th','5th']\n",
    "p1=pd.Series(n1,mylabels)\n",
    "p2=pd.Series([1,2,3,4,5],['2nd','3rd','4th','5th','6th'])\n",
    "print(p1,'\\n')\n",
    "print(p2,'\\n')\n",
    "print(p1+p2,'\\n')\n",
    "p3=pd.concat([p1,p2],axis=1)\n",
    "print(p3,'\\n')\n",
    "print(type(p3))"
   ]
  },
  {
   "cell_type": "code",
   "execution_count": 42,
   "metadata": {},
   "outputs": [
    {
     "name": "stdout",
     "output_type": "stream",
     "text": [
      "fifth     9.0\n",
      "first     NaN\n",
      "fourth    7.0\n",
      "second    3.0\n",
      "sixth     NaN\n",
      "third     5.0\n",
      "dtype: float64 \n",
      "\n",
      "          0    1\n",
      "first   1.0  NaN\n",
      "second  2.0  1.0\n",
      "third   3.0  2.0\n",
      "fourth  4.0  3.0\n",
      "fifth   5.0  4.0\n",
      "sixth   NaN  5.0 \n",
      "\n",
      "<class 'pandas.core.frame.DataFrame'> \n",
      "\n",
      "          0    1\n",
      "first   1.0  NaN\n",
      "second  2.0  1.0\n",
      "third   3.0  2.0\n",
      "fourth  4.0  3.0\n",
      "fifth   5.0  4.0\n",
      "sixth   NaN  5.0 \n",
      "\n",
      "          0    1\n",
      "fifth   5.0  4.0\n",
      "first   1.0  NaN\n",
      "fourth  4.0  3.0\n",
      "second  2.0  1.0\n",
      "sixth   NaN  5.0\n",
      "third   3.0  2.0 \n",
      "\n",
      "first     1\n",
      "second    2\n",
      "third     3\n",
      "fourth    4\n",
      "fifth     5\n",
      "second    1\n",
      "third     2\n",
      "fourth    3\n",
      "fifth     4\n",
      "sixth     5\n",
      "dtype: int64 \n",
      "\n",
      "first     1\n",
      "second    2\n",
      "third     3\n",
      "fourth    4\n",
      "fifth     5\n",
      "second    1\n",
      "third     2\n",
      "fourth    3\n",
      "fifth     4\n",
      "sixth     5\n",
      "dtype: int64 \n",
      "\n",
      "first     1\n",
      "second    2\n",
      "third     3\n",
      "fourth    4\n",
      "fifth     5\n",
      "second    1\n",
      "third     2\n",
      "fourth    3\n",
      "fifth     4\n",
      "sixth     5\n",
      "dtype: int64 \n",
      "\n"
     ]
    }
   ],
   "source": [
    "#maths operations, concat() and sort\n",
    "import numpy as np\n",
    "import pandas as pd\n",
    "l1=[1,2,3,4,5]\n",
    "n1=np.array(l1)\n",
    "mylabels=['first','second','third','fourth','fifth']\n",
    "p1=pd.Series(n1,mylabels)\n",
    "p2=pd.Series([1,2,3,4,5],['second','third','fourth','fifth','sixth'])\n",
    "print(p2+p1,'\\n')\n",
    "print(pd.concat([p1,p2],axis=1),'\\n')\n",
    "print(type(pd.concat([p1,p2],axis=1)),'\\n')\n",
    "print(pd.concat([p1,p2],axis=1,sort=False),'\\n')\n",
    "print(pd.concat([p1,p2],axis=1,sort=True),'\\n')\n",
    "print(pd.concat([p1,p2],axis=0),'\\n')\n",
    "print(pd.concat([p1,p2],axis=0,sort=False),'\\n')\n",
    "print(pd.concat([p1,p2],axis=0,sort=True),'\\n')"
   ]
  },
  {
   "cell_type": "code",
   "execution_count": 50,
   "metadata": {},
   "outputs": [
    {
     "name": "stdout",
     "output_type": "stream",
     "text": [
      "   0  1\n",
      "0  1  3\n",
      "1  3  4 \n",
      "\n",
      "   0  1\n",
      "0  1  2\n",
      "1  3  4 \n",
      "\n",
      "          0\n",
      "0 -0.666525\n",
      "1 -0.616231\n",
      "2  1.927533\n",
      "3 -0.110329\n",
      "4 -1.809259 \n",
      "\n",
      "          0         1         2         3         4\n",
      "0 -0.662015  1.272222 -0.422423 -1.169802 -0.745285\n",
      "1  0.801612 -0.542028  1.517311 -1.646831  0.008213\n",
      "2  1.311799  2.045649  0.185268 -0.074186 -1.040743\n",
      "3 -0.307192  1.698452 -0.637861  0.706584 -1.804137\n",
      "4 -0.763920  0.021133 -1.526027  0.457467 -0.656270 \n",
      "\n",
      "            1         2         3\n",
      "1st -0.441179  0.391388  1.647655\n",
      "2nd  0.236839 -0.650910 -0.339476\n",
      "3rd -0.057256 -0.297572  0.358152 \n",
      "\n",
      "0    1.272222\n",
      "1   -0.542028\n",
      "2    2.045649\n",
      "3    1.698452\n",
      "4    0.021133\n",
      "Name: 1, dtype: float64 \n",
      "\n",
      "2.0456493047943614 \n",
      "\n",
      "1st   -0.441179\n",
      "2nd    0.236839\n",
      "3rd   -0.057256\n",
      "Name: 1, dtype: float64 \n",
      "\n",
      "-0.4411789032421379 \n",
      "\n",
      "0    1.311799\n",
      "1    2.045649\n",
      "2    0.185268\n",
      "3   -0.074186\n",
      "4   -1.040743\n",
      "Name: 2, dtype: float64 \n",
      "\n",
      "1    0.236839\n",
      "2   -0.650910\n",
      "3   -0.339476\n",
      "Name: 2nd, dtype: float64 \n",
      "\n",
      "          1         3\n",
      "2  2.045649 -0.074186\n",
      "4  0.021133  0.457467 \n",
      "\n"
     ]
    },
    {
     "data": {
      "text/plain": [
       "1.2722220949091423"
      ]
     },
     "execution_count": 50,
     "metadata": {},
     "output_type": "execute_result"
    }
   ],
   "source": [
    "#creating new DataFrames, labelling, accessing, .loc()\n",
    "import numpy as np\n",
    "import pandas as pd\n",
    "df1=pd.DataFrame([[1,3],[3,4]])\n",
    "print(df1,'\\n')\n",
    "df2=pd.DataFrame(np.array([[1,2],[3,4]]))\n",
    "print(df2,'\\n')\n",
    "df3=pd.DataFrame(np.random.randn(5))\n",
    "print(df3,'\\n')\n",
    "df3=pd.DataFrame(np.random.randn(5,5))\n",
    "print(df3,'\\n')\n",
    "df4=pd.DataFrame(np.random.randn(3,3),index=['1st','2nd','3rd'],columns=['1','2','3'])\n",
    "print(df4,'\\n')\n",
    "print(df3[1],'\\n')\n",
    "print(df3[1][2],'\\n')\n",
    "print(df4['1'],'\\n')\n",
    "print(df4['1']['1st'],'\\n')\n",
    "print(df3.loc[2],'\\n')\n",
    "print(df4.loc['2nd'],'\\n')\n",
    "print(df3.loc[[2,4],[1,3]],'\\n')\n",
    "df3.iloc[0,1]"
   ]
  },
  {
   "cell_type": "code",
   "execution_count": 2,
   "metadata": {},
   "outputs": [
    {
     "name": "stdout",
     "output_type": "stream",
     "text": [
      "            a         b         c         d         e\n",
      "1st -0.993223  0.603620  1.520183  0.782723  1.962294\n",
      "2nd  0.499278 -2.233492  0.631872 -0.390354 -0.139765\n",
      "3rd -0.061218  0.915084 -0.282794 -1.767424 -0.288485\n",
      "4th -0.591390  1.146086 -0.580032  0.094599  0.198006\n",
      "5th  0.799207 -0.006021 -0.508863  0.196085  0.487984 \n",
      "\n",
      "         a      b      c      d      e\n",
      "1st  False   True   True   True   True\n",
      "2nd   True  False   True  False  False\n",
      "3rd  False   True  False  False  False\n",
      "4th  False   True  False   True   True\n",
      "5th   True  False  False   True   True \n",
      "\n",
      "1st    False\n",
      "2nd     True\n",
      "3rd    False\n",
      "4th    False\n",
      "5th     True\n",
      "Name: a, dtype: bool \n",
      "\n",
      "<class 'pandas.core.frame.DataFrame'> \n",
      "\n",
      "            a         b         c         d         e\n",
      "1st       NaN  0.603620  1.520183  0.782723  1.962294\n",
      "2nd  0.499278       NaN  0.631872       NaN       NaN\n",
      "3rd       NaN  0.915084       NaN       NaN       NaN\n",
      "4th       NaN  1.146086       NaN  0.094599  0.198006\n",
      "5th  0.799207       NaN       NaN  0.196085  0.487984 \n",
      "\n",
      "<class 'pandas.core.frame.DataFrame'> \n",
      "\n"
     ]
    }
   ],
   "source": [
    "#logical indexing\n",
    "import numpy as np\n",
    "import pandas as pd\n",
    "df1=pd.DataFrame(np.random.randn(5,5),index=['1st','2nd','3rd','4th','5th'],columns=['a','b','c','d','e'])\n",
    "print(df1,'\\n')\n",
    "print(df1>0,'\\n')\n",
    "print(df1['a']>0,'\\n')\n",
    "print(type(df1>0),'\\n')\n",
    "print(df1[df1>0],'\\n')\n",
    "print(type(df1[df1>0]),'\\n')"
   ]
  },
  {
   "cell_type": "code",
   "execution_count": 10,
   "metadata": {},
   "outputs": [
    {
     "name": "stdout",
     "output_type": "stream",
     "text": [
      "            a         b         c         d         e\n",
      "1st -0.594506 -1.433531 -0.149242 -0.465234  1.633911\n",
      "2nd  0.682253  0.587044 -0.432749 -0.269756  1.409683\n",
      "3rd  1.151067 -0.145451  0.110687 -0.440426 -0.069114\n",
      "4th -0.255920  0.773753  0.717399  1.953538  1.404616\n",
      "5th -0.148643 -1.873185  1.424320  1.192554 -0.679387 \n",
      "\n",
      "            a         b         c         d         e         f\n",
      "1st -0.594506 -1.433531 -0.149242 -0.465234  1.633911  0.669186\n",
      "2nd  0.682253  0.587044 -0.432749 -0.269756  1.409683  1.195138\n",
      "3rd  1.151067 -0.145451  0.110687 -0.440426 -0.069114 -1.353607\n",
      "4th -0.255920  0.773753  0.717399  1.953538  1.404616  0.915555\n",
      "5th -0.148643 -1.873185  1.424320  1.192554 -0.679387 -0.109482 \n",
      "\n"
     ]
    }
   ],
   "source": [
    "#adding columns to dataframe\n",
    "import numpy as np\n",
    "import pandas as pd\n",
    "df1=pd.DataFrame(np.random.randn(5,5),index=['1st','2nd','3rd','4th','5th'],columns=['a','b','c','d','e'])\n",
    "print(df1,'\\n')\n",
    "df1['f']=np.random.randn(5,1)\n",
    "print(df1,'\\n')"
   ]
  },
  {
   "cell_type": "code",
   "execution_count": 17,
   "metadata": {},
   "outputs": [
    {
     "name": "stdout",
     "output_type": "stream",
     "text": [
      "            b         c         d         e\n",
      "1st -0.169907  1.172156 -0.380432  1.168368\n",
      "2nd -0.385273 -1.014040 -0.018451 -0.336611\n",
      "3rd -2.644238 -0.769057  2.926259 -0.019425\n",
      "4th  0.259045 -0.051017  0.248426  0.857486\n",
      "5th -0.758239  0.060998 -0.671356 -0.283324 \n",
      "\n",
      "            a         b         c         d         e\n",
      "1st -0.263773 -0.169907  1.172156 -0.380432  1.168368\n",
      "2nd  2.516563 -0.385273 -1.014040 -0.018451 -0.336611\n",
      "3rd  0.137276 -2.644238 -0.769057  2.926259 -0.019425\n",
      "4th -2.160906  0.259045 -0.051017  0.248426  0.857486\n",
      "5th  0.126090 -0.758239  0.060998 -0.671356 -0.283324 \n",
      "\n",
      "            b         c         d         e\n",
      "1st -0.169907  1.172156 -0.380432  1.168368\n",
      "2nd -0.385273 -1.014040 -0.018451 -0.336611\n",
      "3rd -2.644238 -0.769057  2.926259 -0.019425\n",
      "4th  0.259045 -0.051017  0.248426  0.857486\n",
      "5th -0.758239  0.060998 -0.671356 -0.283324 \n",
      "\n",
      "            b         c         d         e\n",
      "2nd -0.385273 -1.014040 -0.018451 -0.336611\n",
      "3rd -2.644238 -0.769057  2.926259 -0.019425\n",
      "4th  0.259045 -0.051017  0.248426  0.857486\n",
      "5th -0.758239  0.060998 -0.671356 -0.283324\n",
      "            b         c         d         e\n",
      "1st -0.169907  1.172156 -0.380432  1.168368\n",
      "2nd -0.385273 -1.014040 -0.018451 -0.336611\n",
      "3rd -2.644238 -0.769057  2.926259 -0.019425\n",
      "4th  0.259045 -0.051017  0.248426  0.857486\n",
      "5th -0.758239  0.060998 -0.671356 -0.283324 \n",
      "\n",
      "            b         c         d         e\n",
      "2nd -0.385273 -1.014040 -0.018451 -0.336611\n",
      "3rd -2.644238 -0.769057  2.926259 -0.019425\n",
      "4th  0.259045 -0.051017  0.248426  0.857486\n",
      "5th -0.758239  0.060998 -0.671356 -0.283324 \n",
      "\n"
     ]
    }
   ],
   "source": [
    "#dropping columns\n",
    "import numpy as np\n",
    "import pandas as pd\n",
    "df1=pd.DataFrame(np.random.randn(5,5),index=['1st','2nd','3rd','4th','5th'],columns=['a','b','c','d','e'])\n",
    "print(df1.drop('a',axis=1),'\\n')\n",
    "print(df1,'\\n')\n",
    "df1=df1.drop('a',axis=1)\n",
    "print(df1,'\\n')\n",
    "print(df1.drop('1st',axis=0))\n",
    "print(df1,'\\n')\n",
    "df1=df1.drop('1st',axis=0)\n",
    "print(df1,'\\n')"
   ]
  },
  {
   "cell_type": "code",
   "execution_count": 26,
   "metadata": {},
   "outputs": [
    {
     "name": "stdout",
     "output_type": "stream",
     "text": [
      "  index         a         b         c         d         e\n",
      "0   1st -2.265936 -1.657913 -1.548239 -1.010342 -0.670365\n",
      "1   2nd  0.245164  1.347530 -0.861760  0.065240  0.005120\n",
      "2   3rd -0.202618  0.065341 -0.768141  1.011570 -0.963761\n",
      "3   4th  0.074309  1.732945 -0.793758 -0.636165 -0.883917\n",
      "4   5th  0.378552 -0.541739  0.673559  1.352167  1.087960 \n",
      "\n",
      "            a         b         c         d         e\n",
      "1st -2.265936 -1.657913 -1.548239 -1.010342 -0.670365\n",
      "2nd  0.245164  1.347530 -0.861760  0.065240  0.005120\n",
      "3rd -0.202618  0.065341 -0.768141  1.011570 -0.963761\n",
      "4th  0.074309  1.732945 -0.793758 -0.636165 -0.883917\n",
      "5th  0.378552 -0.541739  0.673559  1.352167  1.087960 \n",
      "\n",
      "  index         a         b         c         d         e\n",
      "0   1st -2.265936 -1.657913 -1.548239 -1.010342 -0.670365\n",
      "1   2nd  0.245164  1.347530 -0.861760  0.065240  0.005120\n",
      "2   3rd -0.202618  0.065341 -0.768141  1.011570 -0.963761\n",
      "3   4th  0.074309  1.732945 -0.793758 -0.636165 -0.883917\n",
      "4   5th  0.378552 -0.541739  0.673559  1.352167  1.087960 \n",
      "\n"
     ]
    }
   ],
   "source": [
    "#rest_index()\n",
    "import numpy as np\n",
    "import pandas as pd\n",
    "df1=pd.DataFrame(np.random.randn(5,5),index=['1st','2nd','3rd','4th','5th'],columns=['a','b','c','d','e'])\n",
    "print(df1.reset_index(),'\\n')\n",
    "print(df1,'\\n')\n",
    "df1=df1.reset_index()\n",
    "print(df1,'\\n')"
   ]
  },
  {
   "cell_type": "code",
   "execution_count": 34,
   "metadata": {},
   "outputs": [
    {
     "name": "stdout",
     "output_type": "stream",
     "text": [
      "  index         a         b         c         d         e\n",
      "0   1st -0.087477 -0.630029 -0.744434 -0.159646 -1.096970\n",
      "1   2nd  0.973789  1.291243  0.018437 -0.366334 -1.084760\n",
      "2   3rd -0.178933 -0.324224  1.002707  2.173113  1.037584\n",
      "3   4th -0.840685 -0.979378 -0.904631 -0.837036  1.095020\n",
      "4   5th -0.822134 -0.992611 -1.205441  0.290795  0.676913\n"
     ]
    }
   ],
   "source": [
    "#reset_index(inplace=)\n",
    "import numpy as np\n",
    "import pandas as pd\n",
    "df1=pd.DataFrame(np.random.randn(5,5),index=['1st','2nd','3rd','4th','5th'],columns=['a','b','c','d','e'])\n",
    "df1.reset_index(inplace=True)\n",
    "print(df1)"
   ]
  },
  {
   "cell_type": "code",
   "execution_count": 42,
   "metadata": {},
   "outputs": [
    {
     "name": "stdout",
     "output_type": "stream",
     "text": [
      "            b         c         d         e\n",
      "1st  0.348843  1.320456 -0.808753 -0.477658\n",
      "2nd -1.418483  0.038763 -0.778430 -0.197913\n",
      "3rd  0.008653 -0.426342 -0.297626 -1.062914\n",
      "4th  0.845329  0.372320  0.927811  0.095937\n",
      "5th -1.601596  0.212879  0.575639  2.289974 \n",
      "\n",
      "            b         c         d         e\n",
      "2nd -1.418483  0.038763 -0.778430 -0.197913\n",
      "3rd  0.008653 -0.426342 -0.297626 -1.062914\n",
      "4th  0.845329  0.372320  0.927811  0.095937\n",
      "5th -1.601596  0.212879  0.575639  2.289974\n"
     ]
    }
   ],
   "source": [
    "#drop() with inplace\n",
    "import numpy as np\n",
    "import pandas as pd\n",
    "df1=pd.DataFrame(np.random.randn(5,5),index=['1st','2nd','3rd','4th','5th'],columns=['a','b','c','d','e'])\n",
    "df1.drop('a',axis=1,inplace=True)\n",
    "print(df1,'\\n')\n",
    "df1.drop('1st',axis=0,inplace=True)\n",
    "print(df1)"
   ]
  },
  {
   "cell_type": "code",
   "execution_count": 49,
   "metadata": {},
   "outputs": [
    {
     "name": "stdout",
     "output_type": "stream",
     "text": [
      "                  a         b         c         d         e\n",
      "new index                                                  \n",
      "1          1.288535 -0.351995 -0.953901  0.036447 -0.970422\n",
      "2         -2.105781 -0.606712 -0.171509 -0.394214 -0.886809\n",
      "3          0.215698 -0.134027  0.924576 -0.205672  0.124401\n",
      "4          0.470597 -0.153957  0.970852 -1.351109  0.000757\n",
      "5         -1.974571 -1.436229  0.172202 -0.794337 -1.131699 \n",
      "\n",
      "            a         b         c         d         e  new index\n",
      "1st  1.288535 -0.351995 -0.953901  0.036447 -0.970422          1\n",
      "2nd -2.105781 -0.606712 -0.171509 -0.394214 -0.886809          2\n",
      "3rd  0.215698 -0.134027  0.924576 -0.205672  0.124401          3\n",
      "4th  0.470597 -0.153957  0.970852 -1.351109  0.000757          4\n",
      "5th -1.974571 -1.436229  0.172202 -0.794337 -1.131699          5 \n",
      "\n",
      "None \n",
      "\n",
      "                  a         b         c         d         e\n",
      "new index                                                  \n",
      "1          1.288535 -0.351995 -0.953901  0.036447 -0.970422\n",
      "2         -2.105781 -0.606712 -0.171509 -0.394214 -0.886809\n",
      "3          0.215698 -0.134027  0.924576 -0.205672  0.124401\n",
      "4          0.470597 -0.153957  0.970852 -1.351109  0.000757\n",
      "5         -1.974571 -1.436229  0.172202 -0.794337 -1.131699 \n",
      "\n"
     ]
    }
   ],
   "source": [
    "#assigning new names to indexex\n",
    "import numpy as np\n",
    "import pandas as pd\n",
    "df1=pd.DataFrame(np.random.randn(5,5),index=['1st','2nd','3rd','4th','5th'],columns=['a','b','c','d','e'])\n",
    "df1['new index']=[1,2,3,4,5]\n",
    "print(df1.set_index('new index'),'\\n')\n",
    "print(df1,'\\n')\n",
    "print(df1.set_index('new index',inplace=True),'\\n') #returns NONE as output #MY INFERENCE: Functions dont return values with inplace\n",
    "print(df1,'\\n')"
   ]
  },
  {
   "cell_type": "code",
   "execution_count": 4,
   "metadata": {},
   "outputs": [
    {
     "name": "stdout",
     "output_type": "stream",
     "text": [
      "  Customer  Sales  ID Important  Discount Paid\n",
      "0      qwe    1.0  qw       yes       NaN  NaN\n",
      "1      wer    2.0  er        no       NaN  NaN\n",
      "2      ert    3.0  ty       yes       NaN  NaN\n",
      "3      rty    4.0  yu        no       NaN  NaN\n",
      "0      qwe    NaN  qw       NaN      10.0   no\n",
      "1      wer    NaN  er       NaN      20.0   no\n",
      "2      ert    NaN   t       NaN      30.0  yes\n",
      "3      rty    NaN  yu       NaN      40.0  yes \n",
      "\n",
      "  Customer  Discount  ID Important Paid  Sales\n",
      "0      qwe       NaN  qw       yes  NaN    1.0\n",
      "1      wer       NaN  er        no  NaN    2.0\n",
      "2      ert       NaN  ty       yes  NaN    3.0\n",
      "3      rty       NaN  yu        no  NaN    4.0\n",
      "0      qwe      10.0  qw       NaN   no    NaN\n",
      "1      wer      20.0  er       NaN   no    NaN\n",
      "2      ert      30.0   t       NaN  yes    NaN\n",
      "3      rty      40.0  yu       NaN  yes    NaN \n",
      "\n",
      "  Customer  Sales  ID Important Customer  Discount  ID Paid\n",
      "0      qwe      1  qw       yes      qwe        10  qw   no\n",
      "1      wer      2  er        no      wer        20  er   no\n",
      "2      ert      3  ty       yes      ert        30   t  yes\n",
      "3      rty      4  yu        no      rty        40  yu  yes \n",
      "\n"
     ]
    }
   ],
   "source": [
    "#combining DataFrames by concat()\n",
    "import pandas as pd\n",
    "import numpy as np\n",
    "df1=pd.DataFrame({'Customer':['qwe','wer','ert','rty'],\n",
    "                  'Sales':[1,2,3,4],\n",
    "                  'ID':['qw','er','ty','yu'],      ##note 't' and 'ty'\n",
    "                  'Important':['yes','no','yes','no']})\n",
    "df2=pd.DataFrame({'Customer':['qwe','wer','ert','rty'],\n",
    "                  'Discount':[10,20,30,40],\n",
    "                  'ID':['qw','er','t','yu'],    #note 't' and 'ty'\n",
    "                  'Paid':['no','no','yes','yes']})\n",
    "print(pd.concat([df1,df2]),'\\n')   #MY INFERENCE: by default axis=0 and sort=False\n",
    "print(pd.concat([df1,df2],sort=True),'\\n')\n",
    "print(pd.concat([df1,df2],sort=True,axis=1),'\\n')"
   ]
  },
  {
   "cell_type": "code",
   "execution_count": 6,
   "metadata": {},
   "outputs": [
    {
     "name": "stdout",
     "output_type": "stream",
     "text": [
      "  Customer  Sales  ID Important  Discount Paid\n",
      "1      qwe    1.0  qw       yes       NaN  NaN\n",
      "2      wer    2.0  er        no       NaN  NaN\n",
      "3      ert    3.0  ty       yes       NaN  NaN\n",
      "4      rty    4.0  yu        no       NaN  NaN\n",
      "5      qwe    NaN  qw       NaN      10.0   no\n",
      "6      wer    NaN  er       NaN      20.0   no\n",
      "7      ert    NaN   t       NaN      30.0  yes\n",
      "8      rty    NaN  yu       NaN      40.0  yes \n",
      "\n",
      "  Customer  Discount  ID Important Paid  Sales\n",
      "1      qwe       NaN  qw       yes  NaN    1.0\n",
      "2      wer       NaN  er        no  NaN    2.0\n",
      "3      ert       NaN  ty       yes  NaN    3.0\n",
      "4      rty       NaN  yu        no  NaN    4.0\n",
      "5      qwe      10.0  qw       NaN   no    NaN\n",
      "6      wer      20.0  er       NaN   no    NaN\n",
      "7      ert      30.0   t       NaN  yes    NaN\n",
      "8      rty      40.0  yu       NaN  yes    NaN \n",
      "\n",
      "  Customer  Sales   ID Important Customer  Discount   ID Paid\n",
      "1      qwe    1.0   qw       yes      NaN       NaN  NaN  NaN\n",
      "2      wer    2.0   er        no      NaN       NaN  NaN  NaN\n",
      "3      ert    3.0   ty       yes      NaN       NaN  NaN  NaN\n",
      "4      rty    4.0   yu        no      NaN       NaN  NaN  NaN\n",
      "5      NaN    NaN  NaN       NaN      qwe      10.0   qw   no\n",
      "6      NaN    NaN  NaN       NaN      wer      20.0   er   no\n",
      "7      NaN    NaN  NaN       NaN      ert      30.0    t  yes\n",
      "8      NaN    NaN  NaN       NaN      rty      40.0   yu  yes \n",
      "\n"
     ]
    }
   ],
   "source": [
    "#combining DataFrames by concat()\n",
    "import pandas as pd\n",
    "import numpy as np\n",
    "df1=pd.DataFrame({'Customer':['qwe','wer','ert','rty'],\n",
    "                  'Sales':[1,2,3,4],\n",
    "                  'ID':['qw','er','ty','yu'],      ##note 't' and 'ty'\n",
    "                  'Important':['yes','no','yes','no']},index=[1,2,3,4])\n",
    "df2=pd.DataFrame({'Customer':['qwe','wer','ert','rty'],\n",
    "                  'Discount':[10,20,30,40],\n",
    "                  'ID':['qw','er','t','yu'],    #note 't' and 'ty'\n",
    "                  'Paid':['no','no','yes','yes']},index=[5,6,7,8])\n",
    "print(pd.concat([df1,df2]),'\\n')   #MY INFERENCE: by default axis=0 and sort=False\n",
    "print(pd.concat([df1,df2],sort=True),'\\n')\n",
    "print(pd.concat([df1,df2],sort=True,axis=1),'\\n')"
   ]
  },
  {
   "cell_type": "code",
   "execution_count": 11,
   "metadata": {},
   "outputs": [
    {
     "name": "stdout",
     "output_type": "stream",
     "text": [
      "  Customer  Sales ID_x Important  Discount ID_y Paid\n",
      "0      qwe    1.0   qw       yes      10.0   qw   no\n",
      "1      wer    2.0   er        no       NaN  NaN  NaN\n",
      "2      ert    3.0   ty       yes      30.0    t  yes\n",
      "3      rts    4.0   yu        no      40.0   yu  yes\n",
      "4      wee    NaN  NaN       NaN      20.0   er   no \n",
      "\n",
      "  Customer  Sales ID_x Important  Discount ID_y Paid\n",
      "0      qwe      1   qw       yes        10   qw   no\n",
      "1      ert      3   ty       yes        30    t  yes\n",
      "2      rts      4   yu        no        40   yu  yes \n",
      "\n",
      "  Customer  Sales ID_x Important  Discount ID_y Paid\n",
      "0      qwe      1   qw       yes      10.0   qw   no\n",
      "1      wer      2   er        no       NaN  NaN  NaN\n",
      "2      ert      3   ty       yes      30.0    t  yes\n",
      "3      rts      4   yu        no      40.0   yu  yes \n",
      "\n",
      "  Customer  Sales ID_x Important  Discount ID_y Paid\n",
      "0      qwe    1.0   qw       yes        10   qw   no\n",
      "1      wee    NaN  NaN       NaN        20   er   no\n",
      "2      ert    3.0   ty       yes        30    t  yes\n",
      "3      rts    4.0   yu        no        40   yu  yes \n",
      "\n"
     ]
    }
   ],
   "source": [
    "#merge\n",
    "import pandas as pd\n",
    "import numpy as np\n",
    "df1=pd.DataFrame({'Customer':['qwe','wer','ert','rts'],\n",
    "                  'Sales':[1,2,3,4],\n",
    "                  'ID':['qw','er','ty','yu'],      ##note 't' and 'ty'\n",
    "                  'Important':['yes','no','yes','no']},index=[1,2,3,4])\n",
    "df2=pd.DataFrame({'Customer':['qwe','wee','ert','rts'],\n",
    "                  'Discount':[10,20,30,40],\n",
    "                  'ID':['qw','er','t','yu'],    #note 't' and 'ty'\n",
    "                  'Paid':['no','no','yes','yes']},index=[5,6,7,8])\n",
    "print(pd.merge(df1,df2,how='outer',on='Customer'),'\\n')\n",
    "print(pd.merge(df1,df2,how='inner',on='Customer'),'\\n')\n",
    "print(pd.merge(df1,df2,how='left',on='Customer'),'\\n')\n",
    "print(pd.merge(df1,df2,how='right',on='Customer'),'\\n')"
   ]
  },
  {
   "cell_type": "code",
   "execution_count": 20,
   "metadata": {},
   "outputs": [
    {
     "name": "stdout",
     "output_type": "stream",
     "text": [
      "      Q1    Q2    Q3    Q4\n",
      "i1  11.0  21.0  31.0  41.0\n",
      "i2  12.0  22.0  32.0  42.0\n",
      "i3  13.0  23.0   NaN   NaN\n",
      "i4   NaN   NaN  33.0  43.0\n",
      "    Q1  Q2  Q3  Q4\n",
      "i1  11  21  31  41\n",
      "i2  12  22  32  42\n",
      "      Q1    Q2  Q3  Q4\n",
      "i1  11.0  21.0  31  41\n",
      "i2  12.0  22.0  32  42\n",
      "i4   NaN   NaN  33  43\n",
      "    Q1  Q2    Q3    Q4\n",
      "i1  11  21  31.0  41.0\n",
      "i2  12  22  32.0  42.0\n",
      "i3  13  23   NaN   NaN\n"
     ]
    }
   ],
   "source": [
    "#join\n",
    "import numpy as np\n",
    "import pandas as pd\n",
    "df1=pd.DataFrame({'Q1':[11,12,13],'Q2':[21,22,23]},index=['i1','i2','i3'])\n",
    "df2=pd.DataFrame({'Q3':[31,32,33],'Q4':[41,42,43]},index=['i1','i2','i4'])\n",
    "print(df1.join(df2,how='outer'))\n",
    "print(df1.join(df2,how='inner'))\n",
    "print(df1.join(df2,how='right'))\n",
    "print(df1.join(df2,how='left'))"
   ]
  },
  {
   "cell_type": "code",
   "execution_count": 36,
   "metadata": {},
   "outputs": [
    {
     "name": "stdout",
     "output_type": "stream",
     "text": [
      "['yellow' 'green' 'blue'] \n",
      "\n",
      "green     2\n",
      "blue      1\n",
      "yellow    1\n",
      "Name: color, dtype: int64 \n",
      "\n",
      "21.5 \n",
      "\n",
      "Index(['customer', 'color', 'distance', 'sales'], dtype='object')\n"
     ]
    }
   ],
   "source": [
    "#unique()\n",
    "import numpy as np\n",
    "import pandas as pd\n",
    "df7 = pd.DataFrame({\"customer\":['101','102','103','104'], \n",
    "                    'category': ['cat2','cat2','cat1','cat3'],\n",
    "                    'important': ['yes','no','yes','yes'],\n",
    "                    'sales': [123,52,214,663]},index=[0,1,2,3])\n",
    "\n",
    "df8 = pd.DataFrame({\"customer\":['101','103','104','105'], \n",
    "                    'color': ['yellow','green','green','blue'],\n",
    "                    'distance': [12,9,44,21],\n",
    "                    'sales': [123,214,663,331]},index=[4,5,6,7])\n",
    "print(df8['color'].unique(),'\\n')\n",
    "print(df8['color'].value_counts(),'\\n')\n",
    "print(df8['distance'].mean(),'\\n')\n",
    "print(df8.columns)"
   ]
  },
  {
   "cell_type": "code",
   "execution_count": 1,
   "metadata": {},
   "outputs": [
    {
     "name": "stdout",
     "output_type": "stream",
     "text": [
      "  customer  color  distance  sales\n",
      "6      104  green        44    663\n",
      "7      105   blue        21    331 \n",
      "\n",
      "497.0 \n",
      "\n",
      "331 \n",
      "\n",
      "663 \n",
      "\n",
      "234.75945135393377 \n",
      "\n"
     ]
    }
   ],
   "source": [
    "import numpy as np\n",
    "import pandas as pd\n",
    "df7 = pd.DataFrame({\"customer\":['101','102','103','104'], \n",
    "                    'category': ['cat2','cat2','cat1','cat3'],\n",
    "                    'important': ['yes','no','yes','yes'],\n",
    "                    'sales': [123,52,214,663]},index=[0,1,2,3])\n",
    "\n",
    "df8 = pd.DataFrame({\"customer\":['101','103','104','105'], \n",
    "                    'color': ['yellow','green','green','blue'],\n",
    "                    'distance': [12,9,44,21],\n",
    "                    'sales': [123,214,663,331]},index=[4,5,6,7])\n",
    "df=df8[(df8['customer']!='101') & (df8['customer']!='103')]\n",
    "print(df,'\\n')\n",
    "print(df['sales'].mean(),'\\n')\n",
    "print(df['sales'].min(),'\\n')\n",
    "print(df['sales'].max(),'\\n')\n",
    "print(df['sales'].std(),'\\n')"
   ]
  },
  {
   "cell_type": "code",
   "execution_count": 7,
   "metadata": {},
   "outputs": [
    {
     "name": "stdout",
     "output_type": "stream",
     "text": [
      "4     61.5\n",
      "5    107.0\n",
      "6    331.5\n",
      "7    165.5\n",
      "Name: sales, dtype: float64 \n",
      "\n",
      "4    6\n",
      "5    5\n",
      "6    5\n",
      "7    4\n",
      "Name: color, dtype: int64 \n",
      "\n"
     ]
    }
   ],
   "source": [
    "#defining new functions\n",
    "import numpy as np\n",
    "import pandas as pd\n",
    "df7 = pd.DataFrame({\"customer\":['101','102','103','104'], \n",
    "                    'category': ['cat2','cat2','cat1','cat3'],\n",
    "                    'important': ['yes','no','yes','yes'],\n",
    "                    'sales': [123,52,214,663]},index=[0,1,2,3])\n",
    "\n",
    "df8 = pd.DataFrame({\"customer\":['101','103','104','105'], \n",
    "                    'color': ['yellow','green','green','blue'],\n",
    "                    'distance': [12,9,44,21],\n",
    "                    'sales': [123,214,663,331]},index=[4,5,6,7])\n",
    "def profit(s):\n",
    "    return s*0.5\n",
    "print(df8['sales'].apply(profit),'\\n')\n",
    "print(df8['color'].apply(len),'\\n')"
   ]
  },
  {
   "cell_type": "code",
   "execution_count": 4,
   "metadata": {},
   "outputs": [
    {
     "name": "stdout",
     "output_type": "stream",
     "text": [
      "   distance  sales\n",
      "4        12    123\n",
      "5         9    214\n",
      "6        44    663\n",
      "7        21    331 \n",
      "\n",
      "   distance  sales\n",
      "4       6.0   61.5\n",
      "5       4.5  107.0\n",
      "6      22.0  331.5\n",
      "7      10.5  165.5\n"
     ]
    }
   ],
   "source": [
    "#applymap()\n",
    "import numpy as np\n",
    "import pandas as pd\n",
    "df8 = pd.DataFrame({\"customer\":['101','103','104','105'], \n",
    "                    'color': ['yellow','green','green','blue'],\n",
    "                    'distance': [12,9,44,21],\n",
    "                    'sales': [123,214,663,331]},index=[4,5,6,7])\n",
    "def profit(s):\n",
    "    return s*0.5\n",
    "df=df8[['distance','sales']]\n",
    "print(df,'\\n')\n",
    "print(df.apply(profit))"
   ]
  },
  {
   "cell_type": "code",
   "execution_count": 14,
   "metadata": {},
   "outputs": [
    {
     "name": "stdout",
     "output_type": "stream",
     "text": [
      "   distance  sales\n",
      "4        12    123\n",
      "5         9    214\n",
      "6        44    663\n",
      "7        21    331 \n",
      "\n",
      "distance      86\n",
      "sales       1331\n",
      "dtype: int64 \n",
      "\n",
      "distance      86\n",
      "sales       1331\n",
      "dtype: int64\n"
     ]
    },
    {
     "ename": "TypeError",
     "evalue": "'int' object is not iterable",
     "output_type": "error",
     "traceback": [
      "\u001b[1;31m---------------------------------------------------------------------------\u001b[0m",
      "\u001b[1;31mTypeError\u001b[0m                                 Traceback (most recent call last)",
      "\u001b[1;32m<ipython-input-14-e58bb9850d51>\u001b[0m in \u001b[0;36m<module>\u001b[1;34m\u001b[0m\n\u001b[0;32m     12\u001b[0m \u001b[0mprint\u001b[0m\u001b[1;33m(\u001b[0m\u001b[0mdf\u001b[0m\u001b[1;33m.\u001b[0m\u001b[0msum\u001b[0m\u001b[1;33m(\u001b[0m\u001b[1;33m)\u001b[0m\u001b[1;33m,\u001b[0m\u001b[1;34m'\\n'\u001b[0m\u001b[1;33m)\u001b[0m\u001b[1;33m\u001b[0m\u001b[1;33m\u001b[0m\u001b[0m\n\u001b[0;32m     13\u001b[0m \u001b[0mprint\u001b[0m\u001b[1;33m(\u001b[0m\u001b[0mdf\u001b[0m\u001b[1;33m.\u001b[0m\u001b[0mapply\u001b[0m\u001b[1;33m(\u001b[0m\u001b[0msum1\u001b[0m\u001b[1;33m)\u001b[0m\u001b[1;33m)\u001b[0m\u001b[1;33m\u001b[0m\u001b[1;33m\u001b[0m\u001b[0m\n\u001b[1;32m---> 14\u001b[1;33m \u001b[0mprint\u001b[0m\u001b[1;33m(\u001b[0m\u001b[0mdf\u001b[0m\u001b[1;33m.\u001b[0m\u001b[0mapplymap\u001b[0m\u001b[1;33m(\u001b[0m\u001b[0msum1\u001b[0m\u001b[1;33m)\u001b[0m\u001b[1;33m)\u001b[0m   \u001b[1;31m#returns error as applymap() works entry by entry\u001b[0m\u001b[1;33m\u001b[0m\u001b[1;33m\u001b[0m\u001b[0m\n\u001b[0m",
      "\u001b[1;32m~\\anaconda3\\lib\\site-packages\\pandas\\core\\frame.py\u001b[0m in \u001b[0;36mapplymap\u001b[1;34m(self, func)\u001b[0m\n\u001b[0;32m   7603\u001b[0m             \u001b[1;32mreturn\u001b[0m \u001b[0mlib\u001b[0m\u001b[1;33m.\u001b[0m\u001b[0mmap_infer\u001b[0m\u001b[1;33m(\u001b[0m\u001b[0mx\u001b[0m\u001b[1;33m.\u001b[0m\u001b[0mastype\u001b[0m\u001b[1;33m(\u001b[0m\u001b[0mobject\u001b[0m\u001b[1;33m)\u001b[0m\u001b[1;33m.\u001b[0m\u001b[0m_values\u001b[0m\u001b[1;33m,\u001b[0m \u001b[0mfunc\u001b[0m\u001b[1;33m)\u001b[0m\u001b[1;33m\u001b[0m\u001b[1;33m\u001b[0m\u001b[0m\n\u001b[0;32m   7604\u001b[0m \u001b[1;33m\u001b[0m\u001b[0m\n\u001b[1;32m-> 7605\u001b[1;33m         \u001b[1;32mreturn\u001b[0m \u001b[0mself\u001b[0m\u001b[1;33m.\u001b[0m\u001b[0mapply\u001b[0m\u001b[1;33m(\u001b[0m\u001b[0minfer\u001b[0m\u001b[1;33m)\u001b[0m\u001b[1;33m\u001b[0m\u001b[1;33m\u001b[0m\u001b[0m\n\u001b[0m\u001b[0;32m   7606\u001b[0m \u001b[1;33m\u001b[0m\u001b[0m\n\u001b[0;32m   7607\u001b[0m     \u001b[1;31m# ----------------------------------------------------------------------\u001b[0m\u001b[1;33m\u001b[0m\u001b[1;33m\u001b[0m\u001b[1;33m\u001b[0m\u001b[0m\n",
      "\u001b[1;32m~\\anaconda3\\lib\\site-packages\\pandas\\core\\frame.py\u001b[0m in \u001b[0;36mapply\u001b[1;34m(self, func, axis, raw, result_type, args, **kwds)\u001b[0m\n\u001b[0;32m   7546\u001b[0m             \u001b[0mkwds\u001b[0m\u001b[1;33m=\u001b[0m\u001b[0mkwds\u001b[0m\u001b[1;33m,\u001b[0m\u001b[1;33m\u001b[0m\u001b[1;33m\u001b[0m\u001b[0m\n\u001b[0;32m   7547\u001b[0m         )\n\u001b[1;32m-> 7548\u001b[1;33m         \u001b[1;32mreturn\u001b[0m \u001b[0mop\u001b[0m\u001b[1;33m.\u001b[0m\u001b[0mget_result\u001b[0m\u001b[1;33m(\u001b[0m\u001b[1;33m)\u001b[0m\u001b[1;33m\u001b[0m\u001b[1;33m\u001b[0m\u001b[0m\n\u001b[0m\u001b[0;32m   7549\u001b[0m \u001b[1;33m\u001b[0m\u001b[0m\n\u001b[0;32m   7550\u001b[0m     \u001b[1;32mdef\u001b[0m \u001b[0mapplymap\u001b[0m\u001b[1;33m(\u001b[0m\u001b[0mself\u001b[0m\u001b[1;33m,\u001b[0m \u001b[0mfunc\u001b[0m\u001b[1;33m)\u001b[0m \u001b[1;33m->\u001b[0m \u001b[1;34m\"DataFrame\"\u001b[0m\u001b[1;33m:\u001b[0m\u001b[1;33m\u001b[0m\u001b[1;33m\u001b[0m\u001b[0m\n",
      "\u001b[1;32m~\\anaconda3\\lib\\site-packages\\pandas\\core\\apply.py\u001b[0m in \u001b[0;36mget_result\u001b[1;34m(self)\u001b[0m\n\u001b[0;32m    178\u001b[0m             \u001b[1;32mreturn\u001b[0m \u001b[0mself\u001b[0m\u001b[1;33m.\u001b[0m\u001b[0mapply_raw\u001b[0m\u001b[1;33m(\u001b[0m\u001b[1;33m)\u001b[0m\u001b[1;33m\u001b[0m\u001b[1;33m\u001b[0m\u001b[0m\n\u001b[0;32m    179\u001b[0m \u001b[1;33m\u001b[0m\u001b[0m\n\u001b[1;32m--> 180\u001b[1;33m         \u001b[1;32mreturn\u001b[0m \u001b[0mself\u001b[0m\u001b[1;33m.\u001b[0m\u001b[0mapply_standard\u001b[0m\u001b[1;33m(\u001b[0m\u001b[1;33m)\u001b[0m\u001b[1;33m\u001b[0m\u001b[1;33m\u001b[0m\u001b[0m\n\u001b[0m\u001b[0;32m    181\u001b[0m \u001b[1;33m\u001b[0m\u001b[0m\n\u001b[0;32m    182\u001b[0m     \u001b[1;32mdef\u001b[0m \u001b[0mapply_empty_result\u001b[0m\u001b[1;33m(\u001b[0m\u001b[0mself\u001b[0m\u001b[1;33m)\u001b[0m\u001b[1;33m:\u001b[0m\u001b[1;33m\u001b[0m\u001b[1;33m\u001b[0m\u001b[0m\n",
      "\u001b[1;32m~\\anaconda3\\lib\\site-packages\\pandas\\core\\apply.py\u001b[0m in \u001b[0;36mapply_standard\u001b[1;34m(self)\u001b[0m\n\u001b[0;32m    269\u001b[0m \u001b[1;33m\u001b[0m\u001b[0m\n\u001b[0;32m    270\u001b[0m     \u001b[1;32mdef\u001b[0m \u001b[0mapply_standard\u001b[0m\u001b[1;33m(\u001b[0m\u001b[0mself\u001b[0m\u001b[1;33m)\u001b[0m\u001b[1;33m:\u001b[0m\u001b[1;33m\u001b[0m\u001b[1;33m\u001b[0m\u001b[0m\n\u001b[1;32m--> 271\u001b[1;33m         \u001b[0mresults\u001b[0m\u001b[1;33m,\u001b[0m \u001b[0mres_index\u001b[0m \u001b[1;33m=\u001b[0m \u001b[0mself\u001b[0m\u001b[1;33m.\u001b[0m\u001b[0mapply_series_generator\u001b[0m\u001b[1;33m(\u001b[0m\u001b[1;33m)\u001b[0m\u001b[1;33m\u001b[0m\u001b[1;33m\u001b[0m\u001b[0m\n\u001b[0m\u001b[0;32m    272\u001b[0m \u001b[1;33m\u001b[0m\u001b[0m\n\u001b[0;32m    273\u001b[0m         \u001b[1;31m# wrap results\u001b[0m\u001b[1;33m\u001b[0m\u001b[1;33m\u001b[0m\u001b[1;33m\u001b[0m\u001b[0m\n",
      "\u001b[1;32m~\\anaconda3\\lib\\site-packages\\pandas\\core\\apply.py\u001b[0m in \u001b[0;36mapply_series_generator\u001b[1;34m(self)\u001b[0m\n\u001b[0;32m    298\u001b[0m                 \u001b[1;32mfor\u001b[0m \u001b[0mi\u001b[0m\u001b[1;33m,\u001b[0m \u001b[0mv\u001b[0m \u001b[1;32min\u001b[0m \u001b[0menumerate\u001b[0m\u001b[1;33m(\u001b[0m\u001b[0mseries_gen\u001b[0m\u001b[1;33m)\u001b[0m\u001b[1;33m:\u001b[0m\u001b[1;33m\u001b[0m\u001b[1;33m\u001b[0m\u001b[0m\n\u001b[0;32m    299\u001b[0m                     \u001b[1;31m# ignore SettingWithCopy here in case the user mutates\u001b[0m\u001b[1;33m\u001b[0m\u001b[1;33m\u001b[0m\u001b[1;33m\u001b[0m\u001b[0m\n\u001b[1;32m--> 300\u001b[1;33m                     \u001b[0mresults\u001b[0m\u001b[1;33m[\u001b[0m\u001b[0mi\u001b[0m\u001b[1;33m]\u001b[0m \u001b[1;33m=\u001b[0m \u001b[0mself\u001b[0m\u001b[1;33m.\u001b[0m\u001b[0mf\u001b[0m\u001b[1;33m(\u001b[0m\u001b[0mv\u001b[0m\u001b[1;33m)\u001b[0m\u001b[1;33m\u001b[0m\u001b[1;33m\u001b[0m\u001b[0m\n\u001b[0m\u001b[0;32m    301\u001b[0m                     \u001b[1;32mif\u001b[0m \u001b[0misinstance\u001b[0m\u001b[1;33m(\u001b[0m\u001b[0mresults\u001b[0m\u001b[1;33m[\u001b[0m\u001b[0mi\u001b[0m\u001b[1;33m]\u001b[0m\u001b[1;33m,\u001b[0m \u001b[0mABCSeries\u001b[0m\u001b[1;33m)\u001b[0m\u001b[1;33m:\u001b[0m\u001b[1;33m\u001b[0m\u001b[1;33m\u001b[0m\u001b[0m\n\u001b[0;32m    302\u001b[0m                         \u001b[1;31m# If we have a view on v, we need to make a copy because\u001b[0m\u001b[1;33m\u001b[0m\u001b[1;33m\u001b[0m\u001b[1;33m\u001b[0m\u001b[0m\n",
      "\u001b[1;32m~\\anaconda3\\lib\\site-packages\\pandas\\core\\frame.py\u001b[0m in \u001b[0;36minfer\u001b[1;34m(x)\u001b[0m\n\u001b[0;32m   7601\u001b[0m             \u001b[1;32mif\u001b[0m \u001b[0mx\u001b[0m\u001b[1;33m.\u001b[0m\u001b[0mempty\u001b[0m\u001b[1;33m:\u001b[0m\u001b[1;33m\u001b[0m\u001b[1;33m\u001b[0m\u001b[0m\n\u001b[0;32m   7602\u001b[0m                 \u001b[1;32mreturn\u001b[0m \u001b[0mlib\u001b[0m\u001b[1;33m.\u001b[0m\u001b[0mmap_infer\u001b[0m\u001b[1;33m(\u001b[0m\u001b[0mx\u001b[0m\u001b[1;33m,\u001b[0m \u001b[0mfunc\u001b[0m\u001b[1;33m)\u001b[0m\u001b[1;33m\u001b[0m\u001b[1;33m\u001b[0m\u001b[0m\n\u001b[1;32m-> 7603\u001b[1;33m             \u001b[1;32mreturn\u001b[0m \u001b[0mlib\u001b[0m\u001b[1;33m.\u001b[0m\u001b[0mmap_infer\u001b[0m\u001b[1;33m(\u001b[0m\u001b[0mx\u001b[0m\u001b[1;33m.\u001b[0m\u001b[0mastype\u001b[0m\u001b[1;33m(\u001b[0m\u001b[0mobject\u001b[0m\u001b[1;33m)\u001b[0m\u001b[1;33m.\u001b[0m\u001b[0m_values\u001b[0m\u001b[1;33m,\u001b[0m \u001b[0mfunc\u001b[0m\u001b[1;33m)\u001b[0m\u001b[1;33m\u001b[0m\u001b[1;33m\u001b[0m\u001b[0m\n\u001b[0m\u001b[0;32m   7604\u001b[0m \u001b[1;33m\u001b[0m\u001b[0m\n\u001b[0;32m   7605\u001b[0m         \u001b[1;32mreturn\u001b[0m \u001b[0mself\u001b[0m\u001b[1;33m.\u001b[0m\u001b[0mapply\u001b[0m\u001b[1;33m(\u001b[0m\u001b[0minfer\u001b[0m\u001b[1;33m)\u001b[0m\u001b[1;33m\u001b[0m\u001b[1;33m\u001b[0m\u001b[0m\n",
      "\u001b[1;32mpandas\\_libs\\lib.pyx\u001b[0m in \u001b[0;36mpandas._libs.lib.map_infer\u001b[1;34m()\u001b[0m\n",
      "\u001b[1;32m<ipython-input-14-e58bb9850d51>\u001b[0m in \u001b[0;36msum1\u001b[1;34m(s)\u001b[0m\n\u001b[0;32m      7\u001b[0m                     'sales': [123,214,663,331]},index=[4,5,6,7])\n\u001b[0;32m      8\u001b[0m \u001b[1;32mdef\u001b[0m \u001b[0msum1\u001b[0m\u001b[1;33m(\u001b[0m\u001b[0ms\u001b[0m\u001b[1;33m)\u001b[0m\u001b[1;33m:\u001b[0m\u001b[1;33m\u001b[0m\u001b[1;33m\u001b[0m\u001b[0m\n\u001b[1;32m----> 9\u001b[1;33m     \u001b[1;32mreturn\u001b[0m \u001b[0msum\u001b[0m\u001b[1;33m(\u001b[0m\u001b[0ms\u001b[0m\u001b[1;33m)\u001b[0m\u001b[1;33m\u001b[0m\u001b[1;33m\u001b[0m\u001b[0m\n\u001b[0m\u001b[0;32m     10\u001b[0m \u001b[0mdf\u001b[0m\u001b[1;33m=\u001b[0m\u001b[0mdf8\u001b[0m\u001b[1;33m[\u001b[0m\u001b[1;33m[\u001b[0m\u001b[1;34m'distance'\u001b[0m\u001b[1;33m,\u001b[0m\u001b[1;34m'sales'\u001b[0m\u001b[1;33m]\u001b[0m\u001b[1;33m]\u001b[0m\u001b[1;33m\u001b[0m\u001b[1;33m\u001b[0m\u001b[0m\n\u001b[0;32m     11\u001b[0m \u001b[0mprint\u001b[0m\u001b[1;33m(\u001b[0m\u001b[0mdf\u001b[0m\u001b[1;33m,\u001b[0m\u001b[1;34m'\\n'\u001b[0m\u001b[1;33m)\u001b[0m\u001b[1;33m\u001b[0m\u001b[1;33m\u001b[0m\u001b[0m\n",
      "\u001b[1;31mTypeError\u001b[0m: 'int' object is not iterable"
     ]
    }
   ],
   "source": [
    "#defining own functions\n",
    "import numpy as np\n",
    "import pandas as pd\n",
    "df8 = pd.DataFrame({\"customer\":['101','103','104','105'], \n",
    "                    'color': ['yellow','green','green','blue'],\n",
    "                    'distance': [12,9,44,21],\n",
    "                    'sales': [123,214,663,331]},index=[4,5,6,7])\n",
    "def sum1(s):\n",
    "    return sum(s)\n",
    "df=df8[['distance','sales']]\n",
    "print(df,'\\n')\n",
    "print(df.sum(),'\\n')\n",
    "print(df.apply(sum1))\n",
    "print(df.applymap(sum1))   #returns error as applymap() works entry by entry"
   ]
  },
  {
   "cell_type": "code",
   "execution_count": 23,
   "metadata": {},
   "outputs": [
    {
     "name": "stdout",
     "output_type": "stream",
     "text": [
      "Int64Index([4, 5, 6, 7], dtype='int64') \n",
      "\n",
      "  customer  distance  sales\n",
      "5      103         9    214\n",
      "4      101        12    123\n",
      "7      105        21    331\n",
      "6      104        44    663 \n",
      "\n",
      "None\n"
     ]
    }
   ],
   "source": [
    "#del command and other functions\n",
    "import numpy as np\n",
    "import pandas as pd\n",
    "df8 = pd.DataFrame({\"customer\":['101','103','104','105'], \n",
    "                    'color': ['yellow','green','green','blue'],\n",
    "                    'distance': [12,9,44,21],\n",
    "                    'sales': [123,214,663,331]},index=[4,5,6,7])\n",
    "del df8['color']\n",
    "print(df8.index,'\\n')\n",
    "print(df8.sort_values(by='distance'),'\\n')\n",
    "print(df8.sort_values(by='distance',inplace=True))"
   ]
  },
  {
   "cell_type": "code",
   "execution_count": 35,
   "metadata": {},
   "outputs": [
    {
     "data": {
      "text/html": [
       "<div>\n",
       "<style scoped>\n",
       "    .dataframe tbody tr th:only-of-type {\n",
       "        vertical-align: middle;\n",
       "    }\n",
       "\n",
       "    .dataframe tbody tr th {\n",
       "        vertical-align: top;\n",
       "    }\n",
       "\n",
       "    .dataframe thead tr th {\n",
       "        text-align: left;\n",
       "    }\n",
       "\n",
       "    .dataframe thead tr:last-of-type th {\n",
       "        text-align: right;\n",
       "    }\n",
       "</style>\n",
       "<table border=\"1\" class=\"dataframe\">\n",
       "  <thead>\n",
       "    <tr>\n",
       "      <th></th>\n",
       "      <th colspan=\"8\" halign=\"left\">product1</th>\n",
       "      <th colspan=\"8\" halign=\"left\">product2</th>\n",
       "    </tr>\n",
       "    <tr>\n",
       "      <th></th>\n",
       "      <th>count</th>\n",
       "      <th>mean</th>\n",
       "      <th>std</th>\n",
       "      <th>min</th>\n",
       "      <th>25%</th>\n",
       "      <th>50%</th>\n",
       "      <th>75%</th>\n",
       "      <th>max</th>\n",
       "      <th>count</th>\n",
       "      <th>mean</th>\n",
       "      <th>std</th>\n",
       "      <th>min</th>\n",
       "      <th>25%</th>\n",
       "      <th>50%</th>\n",
       "      <th>75%</th>\n",
       "      <th>max</th>\n",
       "    </tr>\n",
       "    <tr>\n",
       "      <th>customer</th>\n",
       "      <th></th>\n",
       "      <th></th>\n",
       "      <th></th>\n",
       "      <th></th>\n",
       "      <th></th>\n",
       "      <th></th>\n",
       "      <th></th>\n",
       "      <th></th>\n",
       "      <th></th>\n",
       "      <th></th>\n",
       "      <th></th>\n",
       "      <th></th>\n",
       "      <th></th>\n",
       "      <th></th>\n",
       "      <th></th>\n",
       "      <th></th>\n",
       "    </tr>\n",
       "  </thead>\n",
       "  <tbody>\n",
       "    <tr>\n",
       "      <th>Customer 1</th>\n",
       "      <td>2.0</td>\n",
       "      <td>1.6</td>\n",
       "      <td>0.707107</td>\n",
       "      <td>1.1</td>\n",
       "      <td>1.35</td>\n",
       "      <td>1.6</td>\n",
       "      <td>1.85</td>\n",
       "      <td>2.1</td>\n",
       "      <td>2.0</td>\n",
       "      <td>8.65</td>\n",
       "      <td>0.636396</td>\n",
       "      <td>8.20</td>\n",
       "      <td>8.425</td>\n",
       "      <td>8.65</td>\n",
       "      <td>8.875</td>\n",
       "      <td>9.1</td>\n",
       "    </tr>\n",
       "    <tr>\n",
       "      <th>Customer2</th>\n",
       "      <td>2.0</td>\n",
       "      <td>4.0</td>\n",
       "      <td>0.282843</td>\n",
       "      <td>3.8</td>\n",
       "      <td>3.90</td>\n",
       "      <td>4.0</td>\n",
       "      <td>4.10</td>\n",
       "      <td>4.2</td>\n",
       "      <td>2.0</td>\n",
       "      <td>8.15</td>\n",
       "      <td>4.171930</td>\n",
       "      <td>5.20</td>\n",
       "      <td>6.675</td>\n",
       "      <td>8.15</td>\n",
       "      <td>9.625</td>\n",
       "      <td>11.1</td>\n",
       "    </tr>\n",
       "    <tr>\n",
       "      <th>Customer3</th>\n",
       "      <td>2.0</td>\n",
       "      <td>6.2</td>\n",
       "      <td>0.989949</td>\n",
       "      <td>5.5</td>\n",
       "      <td>5.85</td>\n",
       "      <td>6.2</td>\n",
       "      <td>6.55</td>\n",
       "      <td>6.9</td>\n",
       "      <td>2.0</td>\n",
       "      <td>513.83</td>\n",
       "      <td>663.506577</td>\n",
       "      <td>44.66</td>\n",
       "      <td>279.245</td>\n",
       "      <td>513.83</td>\n",
       "      <td>748.415</td>\n",
       "      <td>983.0</td>\n",
       "    </tr>\n",
       "  </tbody>\n",
       "</table>\n",
       "</div>"
      ],
      "text/plain": [
       "           product1                                           product2  \\\n",
       "              count mean       std  min   25%  50%   75%  max    count   \n",
       "customer                                                                 \n",
       "Customer 1      2.0  1.6  0.707107  1.1  1.35  1.6  1.85  2.1      2.0   \n",
       "Customer2       2.0  4.0  0.282843  3.8  3.90  4.0  4.10  4.2      2.0   \n",
       "Customer3       2.0  6.2  0.989949  5.5  5.85  6.2  6.55  6.9      2.0   \n",
       "\n",
       "                                                                        \n",
       "              mean         std    min      25%     50%      75%    max  \n",
       "customer                                                                \n",
       "Customer 1    8.65    0.636396   8.20    8.425    8.65    8.875    9.1  \n",
       "Customer2     8.15    4.171930   5.20    6.675    8.15    9.625   11.1  \n",
       "Customer3   513.83  663.506577  44.66  279.245  513.83  748.415  983.0  "
      ]
     },
     "execution_count": 35,
     "metadata": {},
     "output_type": "execute_result"
    }
   ],
   "source": [
    "#grouping data\n",
    "mydict = {'customer': ['Customer 1','Customer 1','Customer2','Customer2','Customer3','Customer3'], \n",
    "          'product1': [1.1,2.1,3.8,4.2,5.5,6.9],\n",
    "          'product2': [8.2,9.1,11.1,5.2,44.66,983]}\n",
    "df6 = pd.DataFrame(mydict,index=['Purchase 1','Purchase 2','Purchase 3','Purchase 4','Purchase 5','Purchase 6'])\n",
    "\n",
    "grouped_data = df6.groupby('customer')\n",
    "grouped_data.describe()"
   ]
  },
  {
   "cell_type": "code",
   "execution_count": 38,
   "metadata": {},
   "outputs": [
    {
     "name": "stdout",
     "output_type": "stream",
     "text": [
      "           product1                                           product2  \\\n",
      "              count mean       std  min   25%  50%   75%  max    count   \n",
      "customer                                                                 \n",
      "Customer 1      2.0  1.6  0.707107  1.1  1.35  1.6  1.85  2.1      2.0   \n",
      "Customer2       2.0  4.0  0.282843  3.8  3.90  4.0  4.10  4.2      2.0   \n",
      "Customer3       2.0  6.2  0.989949  5.5  5.85  6.2  6.55  6.9      2.0   \n",
      "\n",
      "                                                                        \n",
      "              mean         std    min      25%     50%      75%    max  \n",
      "customer                                                                \n",
      "Customer 1    8.65    0.636396   8.20    8.425    8.65    8.875    9.1  \n",
      "Customer2     8.15    4.171930   5.20    6.675    8.15    9.625   11.1  \n",
      "Customer3   513.83  663.506577  44.66  279.245  513.83  748.415  983.0   \n",
      "\n",
      "            product1  product2\n",
      "customer                      \n",
      "Customer 1       2.1       9.1\n",
      "Customer2        4.2      11.1\n",
      "Customer3        6.9     983.0 \n",
      "\n",
      "            product1    product2\n",
      "customer                        \n",
      "Customer 1  0.707107    0.636396\n",
      "Customer2   0.282843    4.171930\n",
      "Customer3   0.989949  663.506577 \n",
      "\n"
     ]
    }
   ],
   "source": [
    "mydict = {'customer': ['Customer 1','Customer 1','Customer2','Customer2','Customer3','Customer3'], \n",
    "          'product1': [1.1,2.1,3.8,4.2,5.5,6.9],\n",
    "          'product2': [8.2,9.1,11.1,5.2,44.66,983]}\n",
    "df6 = pd.DataFrame(mydict,index=['Purchase 1','Purchase 2','Purchase 3','Purchase 4','Purchase 5','Purchase 6'])\n",
    "\n",
    "grouped_data = df6.groupby('customer')\n",
    "print(grouped_data.describe(),'\\n')\n",
    "print(grouped_data.max(),'\\n')\n",
    "print(grouped_data.std(),'\\n')"
   ]
  },
  {
   "cell_type": "code",
   "execution_count": 43,
   "metadata": {},
   "outputs": [
    {
     "name": "stdout",
     "output_type": "stream",
     "text": [
      "   customer  distance  sales\n",
      "5       103         9    214\n",
      "4       101        12    123\n",
      "7       105        21    331\n",
      "6       104        44    663 \n",
      "\n",
      "          Unnamed: 0  distance  sales\n",
      "customer                             \n",
      "103                5         9    214\n",
      "101                4        12    123\n",
      "105                7        21    331\n",
      "104                6        44    663 \n",
      "\n",
      "   Unnamed: 0  customer  distance  sales\n",
      "0           5       103         9    214\n",
      "1           4       101        12    123\n",
      "2           7       105        21    331\n",
      "3           6       104        44    663 \n",
      "\n"
     ]
    }
   ],
   "source": [
    "#saving and loading dataframes to csv files\n",
    "df8.to_csv('df8.csv',index=True)\n",
    "newdf8=pd.read_csv('df8.csv',index_col=0)\n",
    "print(newdf8,'\\n')\n",
    "newdf8=pd.read_csv('df8.csv',index_col=1)\n",
    "print(newdf8,'\\n')\n",
    "newdf8=pd.read_csv('df8.csv')\n",
    "print(newdf8,'\\n')"
   ]
  },
  {
   "cell_type": "code",
   "execution_count": 47,
   "metadata": {},
   "outputs": [
    {
     "name": "stdout",
     "output_type": "stream",
     "text": [
      "   customer  distance  sales\n",
      "0       103         9    214\n",
      "1       101        12    123\n",
      "2       105        21    331\n",
      "3       104        44    663 \n",
      "\n",
      "          distance  sales\n",
      "customer                 \n",
      "103              9    214\n",
      "101             12    123\n",
      "105             21    331\n",
      "104             44    663 \n",
      "\n",
      "   Unnamed: 0  customer  distance  sales\n",
      "0           5       103         9    214\n",
      "1           4       101        12    123\n",
      "2           7       105        21    331\n",
      "3           6       104        44    663 \n",
      "\n",
      "   customer  distance  sales\n",
      "5       103         9    214\n",
      "4       101        12    123\n",
      "7       105        21    331\n",
      "6       104        44    663 \n",
      "\n",
      "          Unnamed: 0  distance  sales\n",
      "customer                             \n",
      "103                5         9    214\n",
      "101                4        12    123\n",
      "105                7        21    331\n",
      "104                6        44    663 \n",
      "\n"
     ]
    }
   ],
   "source": [
    "##saving and loading dataframes to excel files\n",
    "df8.to_excel('df8.xlsx',index=False)\n",
    "newdf8=pd.read_excel('df8.xlsx')\n",
    "print(newdf8,'\\n')\n",
    "newdf8=pd.read_excel('df8.xlsx',index_col=0)\n",
    "print(newdf8,'\\n')\n",
    "df8.to_excel('df8.xlsx',index=True)\n",
    "newdf8=pd.read_excel('df8.xlsx')\n",
    "print(newdf8,'\\n')\n",
    "newdf8=pd.read_excel('df8.xlsx',index_col=0)\n",
    "print(newdf8,'\\n')\n",
    "newdf8=pd.read_excel('df8.xlsx',index_col=1)\n",
    "print(newdf8,'\\n')"
   ]
  },
  {
   "cell_type": "code",
   "execution_count": 57,
   "metadata": {},
   "outputs": [
    {
     "name": "stdout",
     "output_type": "stream",
     "text": [
      "[-0.9389958   0.42892925  0.29673096 -0.31851128 -0.14212119 -0.02038357\n",
      "  1.27338963 -1.0967013   1.40159369  1.13466771 -2.32408336  0.30793096\n",
      " -1.2282552   0.02528246 -0.78390301] \n",
      "\n",
      "[False  True  True False False False  True False  True  True False  True\n",
      " False  True False] \n",
      "\n",
      "<class 'numpy.ndarray'> \n",
      "\n",
      "[0.42892925 0.29673096 1.27338963 1.40159369 1.13466771 0.30793096\n",
      " 0.02528246] \n",
      "\n",
      "<class 'numpy.ndarray'> \n",
      "\n"
     ]
    }
   ],
   "source": [
    "#accessing NumPy arrays with logicals\n",
    "import numpy as np\n",
    "a1=np.random.randn(15)\n",
    "print(a1,'\\n')\n",
    "print(a1>0,'\\n')\n",
    "print(type(a1>0),'\\n')\n",
    "print(a1[a1>0],'\\n')\n",
    "print(type(a1[a1>0]),'\\n')"
   ]
  },
  {
   "cell_type": "code",
   "execution_count": 59,
   "metadata": {},
   "outputs": [
    {
     "name": "stdout",
     "output_type": "stream",
     "text": [
      "[ 0.76125097  0.33480664 -1.75148067  0.02600096  0.52885886 -2.44167233\n",
      "  1.28368787  0.51684982  0.31383327  1.41712245 -0.82257496  0.19242036\n",
      " -0.3042825   0.95242325 -0.02033472] \n",
      "\n",
      "[-5.          0.33480664 -1.75148067  0.02600096 -5.         -2.44167233\n",
      " -5.         -5.          0.31383327 -5.         -0.82257496  0.19242036\n",
      " -0.3042825  -5.         -0.02033472] \n",
      "\n"
     ]
    }
   ],
   "source": [
    "#changing values by logicals\n",
    "r1=np.random.randn(15)\n",
    "print(r1,'\\n')\n",
    "r1[r1>0.5]=-5\n",
    "print(r1,'\\n')"
   ]
  },
  {
   "cell_type": "code",
   "execution_count": 68,
   "metadata": {},
   "outputs": [
    {
     "name": "stdout",
     "output_type": "stream",
     "text": [
      "[-0.30851087 -0.04005046 -0.94280825 -0.81085768  0.49610995 -1.68700881\n",
      " -0.75629143  1.22687978  1.0473703   1.05386365  0.21269222  1.39165876\n",
      "  0.32192738 -0.86832786  1.42342225] \n",
      "\n",
      "<numpy.lib.npyio.NpzFile object at 0x00000099E430F250> \n",
      "\n",
      "[-0.30851087 -0.04005046 -0.94280825 -0.81085768  0.49610995 -1.68700881\n",
      " -0.75629143  1.22687978  1.0473703   1.05386365  0.21269222  1.39165876\n",
      "  0.32192738 -0.86832786  1.42342225] \n",
      "\n",
      "[ 0.55586372  0.9757939   0.17802237 -0.70083611 -1.32388057 -0.55210869\n",
      " -1.13668574  0.40847391 -1.76860305  0.20273121 -0.05460155 -0.12377503\n",
      " -0.79412372  0.92903318 -1.21416954] \n",
      "\n",
      "[ 0.55586372  0.9757939   0.17802237 -0.70083611 -1.32388057 -0.55210869\n",
      " -1.13668574  0.40847391 -1.76860305  0.20273121 -0.05460155 -0.12377503\n",
      " -0.79412372  0.92903318 -1.21416954]\n"
     ]
    }
   ],
   "source": [
    "#saving and loading as .npy and .npz\n",
    "r1=np.random.randn(15)\n",
    "r2=np.random.randn(15)\n",
    "np.save('savedfile',r1,r2)\n",
    "np.savez('savedzfile',a1=r1,a2=r2)\n",
    "print(np.load('savedfile.npy'),'\\n')\n",
    "print(np.load('savedzfile.npz'),'\\n')\n",
    "l1=np.load('savedzfile.npz')\n",
    "print(l1['a1'],'\\n')\n",
    "print(l1['a2'],'\\n')\n",
    "n1=l1['a2']\n",
    "print(n1)"
   ]
  },
  {
   "cell_type": "code",
   "execution_count": 80,
   "metadata": {},
   "outputs": [
    {
     "data": {
      "text/plain": [
       "array([-0.30851087, -0.04005046, -0.94280825, -0.81085768,  0.49610995,\n",
       "       -1.68700881, -0.75629143,  1.22687978,  1.0473703 ,  1.05386365,\n",
       "        0.21269222,  1.39165876,  0.32192738, -0.86832786,  1.42342225])"
      ]
     },
     "execution_count": 80,
     "metadata": {},
     "output_type": "execute_result"
    }
   ],
   "source": [
    "#save/load as txt files\n",
    "np.savetxt('fname',r1)\n",
    "l1=np.loadtxt('fname')\n",
    "l1"
   ]
  }
 ],
 "metadata": {
  "kernelspec": {
   "display_name": "Python 3",
   "language": "python",
   "name": "python3"
  },
  "language_info": {
   "codemirror_mode": {
    "name": "ipython",
    "version": 3
   },
   "file_extension": ".py",
   "mimetype": "text/x-python",
   "name": "python",
   "nbconvert_exporter": "python",
   "pygments_lexer": "ipython3",
   "version": "3.8.5"
  }
 },
 "nbformat": 4,
 "nbformat_minor": 4
}
