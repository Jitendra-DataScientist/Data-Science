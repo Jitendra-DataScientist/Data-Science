{
 "cells": [
  {
   "cell_type": "markdown",
   "metadata": {},
   "source": [
    "# Python for Data Science Quiz"
   ]
  },
  {
   "cell_type": "markdown",
   "metadata": {},
   "source": [
    "## This quiz is to test your understanding on the concepts learnt in class during the \n",
    "## Python for Data Science Course. \n",
    "## Background of the data - The dataset to be used for the quiz pertains to the \n",
    "## number of hospitalisations under the scheme Ayushman Bharat - Pradhan \n",
    "## Mantri Jan Arogya Yojana (AB-PMJAY), this data is as on 19 June, 2019.\n",
    "## The data contains number of cases of hospitalisation in public and private hospitalisations \n",
    "## state/ UT wise and on an all India level.\n",
    "## PMJAY is a scheme which provides health cover of Rs. 5 Lakhs per family per year, for \n",
    "## secondary and tertiary care hospitalization across public and private empaneled hospitals\n",
    "## in India. State/UT contains the list of states and union territories, Public column contains\n",
    "## hospitalisations in public hospitals and Private column contains list of hospitalisations in \n",
    "## private hospitals. "
   ]
  },
  {
   "cell_type": "code",
   "execution_count": 11,
   "metadata": {},
   "outputs": [],
   "source": [
    "import numpy as np\n",
    "import pandas as pd\n",
    "import matplotlib.pyplot as plt\n",
    "import seaborn as sns\n",
    "%matplotlib inline"
   ]
  },
  {
   "cell_type": "markdown",
   "metadata": {},
   "source": [
    "## Question 1: Import the dataset."
   ]
  },
  {
   "cell_type": "code",
   "execution_count": 12,
   "metadata": {},
   "outputs": [
    {
     "data": {
      "text/html": [
       "<div>\n",
       "<style scoped>\n",
       "    .dataframe tbody tr th:only-of-type {\n",
       "        vertical-align: middle;\n",
       "    }\n",
       "\n",
       "    .dataframe tbody tr th {\n",
       "        vertical-align: top;\n",
       "    }\n",
       "\n",
       "    .dataframe thead th {\n",
       "        text-align: right;\n",
       "    }\n",
       "</style>\n",
       "<table border=\"1\" class=\"dataframe\">\n",
       "  <thead>\n",
       "    <tr style=\"text-align: right;\">\n",
       "      <th></th>\n",
       "      <th>State/UT</th>\n",
       "      <th>Private</th>\n",
       "      <th>Public</th>\n",
       "    </tr>\n",
       "  </thead>\n",
       "  <tbody>\n",
       "    <tr>\n",
       "      <th>0</th>\n",
       "      <td>Andaman and Nicobar Islands</td>\n",
       "      <td>1.0</td>\n",
       "      <td>21.0</td>\n",
       "    </tr>\n",
       "    <tr>\n",
       "      <th>1</th>\n",
       "      <td>Andhra Pradesh</td>\n",
       "      <td>97863.0</td>\n",
       "      <td>34385.0</td>\n",
       "    </tr>\n",
       "    <tr>\n",
       "      <th>2</th>\n",
       "      <td>Arunachal Pradesh</td>\n",
       "      <td>5.0</td>\n",
       "      <td>630.0</td>\n",
       "    </tr>\n",
       "    <tr>\n",
       "      <th>3</th>\n",
       "      <td>Assam</td>\n",
       "      <td>14350.0</td>\n",
       "      <td>33553.0</td>\n",
       "    </tr>\n",
       "    <tr>\n",
       "      <th>4</th>\n",
       "      <td>Bihar</td>\n",
       "      <td>11747.0</td>\n",
       "      <td>34814.0</td>\n",
       "    </tr>\n",
       "  </tbody>\n",
       "</table>\n",
       "</div>"
      ],
      "text/plain": [
       "                      State/UT  Private   Public\n",
       "0  Andaman and Nicobar Islands      1.0     21.0\n",
       "1               Andhra Pradesh  97863.0  34385.0\n",
       "2            Arunachal Pradesh      5.0    630.0\n",
       "3                        Assam  14350.0  33553.0\n",
       "4                        Bihar  11747.0  34814.0"
      ]
     },
     "execution_count": 12,
     "metadata": {},
     "output_type": "execute_result"
    }
   ],
   "source": [
    "hosp=pd.read_csv('hospitalisations.csv')\n",
    "hosp.head()"
   ]
  },
  {
   "cell_type": "markdown",
   "metadata": {},
   "source": [
    "## Question 2: How many rows and columns does the data set have?"
   ]
  },
  {
   "cell_type": "code",
   "execution_count": 3,
   "metadata": {},
   "outputs": [
    {
     "name": "stdout",
     "output_type": "stream",
     "text": [
      "<class 'pandas.core.frame.DataFrame'>\n",
      "RangeIndex: 32 entries, 0 to 31\n",
      "Data columns (total 3 columns):\n",
      " #   Column    Non-Null Count  Dtype  \n",
      "---  ------    --------------  -----  \n",
      " 0   State/UT  32 non-null     object \n",
      " 1   Private   30 non-null     float64\n",
      " 2   Public    30 non-null     float64\n",
      "dtypes: float64(2), object(1)\n",
      "memory usage: 896.0+ bytes\n"
     ]
    }
   ],
   "source": [
    "#i did\n",
    "hosp.info()"
   ]
  },
  {
   "cell_type": "code",
   "execution_count": 4,
   "metadata": {},
   "outputs": [
    {
     "data": {
      "text/plain": [
       "(32, 3)"
      ]
     },
     "execution_count": 4,
     "metadata": {},
     "output_type": "execute_result"
    }
   ],
   "source": [
    "hosp.shape"
   ]
  },
  {
   "cell_type": "markdown",
   "metadata": {},
   "source": [
    "## Question 3: Does the data set have missing values? If yes, how many?"
   ]
  },
  {
   "cell_type": "code",
   "execution_count": 5,
   "metadata": {},
   "outputs": [
    {
     "data": {
      "text/plain": [
       "State/UT    0\n",
       "Private     2\n",
       "Public      2\n",
       "dtype: int64"
      ]
     },
     "execution_count": 5,
     "metadata": {},
     "output_type": "execute_result"
    }
   ],
   "source": [
    "hosp.isnull().sum()"
   ]
  },
  {
   "cell_type": "code",
   "execution_count": 6,
   "metadata": {},
   "outputs": [
    {
     "data": {
      "text/html": [
       "<div>\n",
       "<style scoped>\n",
       "    .dataframe tbody tr th:only-of-type {\n",
       "        vertical-align: middle;\n",
       "    }\n",
       "\n",
       "    .dataframe tbody tr th {\n",
       "        vertical-align: top;\n",
       "    }\n",
       "\n",
       "    .dataframe thead th {\n",
       "        text-align: right;\n",
       "    }\n",
       "</style>\n",
       "<table border=\"1\" class=\"dataframe\">\n",
       "  <thead>\n",
       "    <tr style=\"text-align: right;\">\n",
       "      <th></th>\n",
       "      <th>State/UT</th>\n",
       "      <th>Private</th>\n",
       "      <th>Public</th>\n",
       "    </tr>\n",
       "  </thead>\n",
       "  <tbody>\n",
       "    <tr>\n",
       "      <th>0</th>\n",
       "      <td>Andaman and Nicobar Islands</td>\n",
       "      <td>1.0</td>\n",
       "      <td>21.0</td>\n",
       "    </tr>\n",
       "    <tr>\n",
       "      <th>1</th>\n",
       "      <td>Andhra Pradesh</td>\n",
       "      <td>97863.0</td>\n",
       "      <td>34385.0</td>\n",
       "    </tr>\n",
       "    <tr>\n",
       "      <th>2</th>\n",
       "      <td>Arunachal Pradesh</td>\n",
       "      <td>5.0</td>\n",
       "      <td>630.0</td>\n",
       "    </tr>\n",
       "    <tr>\n",
       "      <th>3</th>\n",
       "      <td>Assam</td>\n",
       "      <td>14350.0</td>\n",
       "      <td>33553.0</td>\n",
       "    </tr>\n",
       "    <tr>\n",
       "      <th>4</th>\n",
       "      <td>Bihar</td>\n",
       "      <td>11747.0</td>\n",
       "      <td>34814.0</td>\n",
       "    </tr>\n",
       "    <tr>\n",
       "      <th>5</th>\n",
       "      <td>Chandigarh</td>\n",
       "      <td>302.0</td>\n",
       "      <td>509.0</td>\n",
       "    </tr>\n",
       "    <tr>\n",
       "      <th>6</th>\n",
       "      <td>Chhattisgarh</td>\n",
       "      <td>411814.0</td>\n",
       "      <td>142123.0</td>\n",
       "    </tr>\n",
       "    <tr>\n",
       "      <th>7</th>\n",
       "      <td>Dadra and Nagar Haveli</td>\n",
       "      <td>782.0</td>\n",
       "      <td>10940.0</td>\n",
       "    </tr>\n",
       "    <tr>\n",
       "      <th>8</th>\n",
       "      <td>Daman and Diu</td>\n",
       "      <td>984.0</td>\n",
       "      <td>3343.0</td>\n",
       "    </tr>\n",
       "    <tr>\n",
       "      <th>9</th>\n",
       "      <td>Goa</td>\n",
       "      <td>1033.0</td>\n",
       "      <td>382.0</td>\n",
       "    </tr>\n",
       "    <tr>\n",
       "      <th>10</th>\n",
       "      <td>Gujarat</td>\n",
       "      <td>379379.0</td>\n",
       "      <td>94845.0</td>\n",
       "    </tr>\n",
       "    <tr>\n",
       "      <th>11</th>\n",
       "      <td>Haryana</td>\n",
       "      <td>16341.0</td>\n",
       "      <td>10223.0</td>\n",
       "    </tr>\n",
       "    <tr>\n",
       "      <th>12</th>\n",
       "      <td>Himachal Pradesh</td>\n",
       "      <td>2160.0</td>\n",
       "      <td>16461.0</td>\n",
       "    </tr>\n",
       "    <tr>\n",
       "      <th>13</th>\n",
       "      <td>Jammu and Kashmir</td>\n",
       "      <td>9707.0</td>\n",
       "      <td>8720.0</td>\n",
       "    </tr>\n",
       "    <tr>\n",
       "      <th>14</th>\n",
       "      <td>Jharkhand</td>\n",
       "      <td>156760.0</td>\n",
       "      <td>24114.0</td>\n",
       "    </tr>\n",
       "    <tr>\n",
       "      <th>15</th>\n",
       "      <td>Karnataka</td>\n",
       "      <td>65502.0</td>\n",
       "      <td>128640.0</td>\n",
       "    </tr>\n",
       "    <tr>\n",
       "      <th>16</th>\n",
       "      <td>Kerala</td>\n",
       "      <td>131557.0</td>\n",
       "      <td>391079.0</td>\n",
       "    </tr>\n",
       "    <tr>\n",
       "      <th>17</th>\n",
       "      <td>Lakshadweep</td>\n",
       "      <td>NaN</td>\n",
       "      <td>NaN</td>\n",
       "    </tr>\n",
       "    <tr>\n",
       "      <th>18</th>\n",
       "      <td>Madhya Pradesh</td>\n",
       "      <td>29314.0</td>\n",
       "      <td>63818.0</td>\n",
       "    </tr>\n",
       "    <tr>\n",
       "      <th>19</th>\n",
       "      <td>Maharashtra</td>\n",
       "      <td>107977.0</td>\n",
       "      <td>31179.0</td>\n",
       "    </tr>\n",
       "    <tr>\n",
       "      <th>20</th>\n",
       "      <td>Manipur</td>\n",
       "      <td>725.0</td>\n",
       "      <td>2412.0</td>\n",
       "    </tr>\n",
       "    <tr>\n",
       "      <th>21</th>\n",
       "      <td>Meghalaya</td>\n",
       "      <td>4836.0</td>\n",
       "      <td>9016.0</td>\n",
       "    </tr>\n",
       "    <tr>\n",
       "      <th>22</th>\n",
       "      <td>Mizoram</td>\n",
       "      <td>441.0</td>\n",
       "      <td>12588.0</td>\n",
       "    </tr>\n",
       "    <tr>\n",
       "      <th>23</th>\n",
       "      <td>Nagaland</td>\n",
       "      <td>325.0</td>\n",
       "      <td>532.0</td>\n",
       "    </tr>\n",
       "    <tr>\n",
       "      <th>24</th>\n",
       "      <td>Puducherry</td>\n",
       "      <td>NaN</td>\n",
       "      <td>NaN</td>\n",
       "    </tr>\n",
       "    <tr>\n",
       "      <th>25</th>\n",
       "      <td>Sikkim</td>\n",
       "      <td>21.0</td>\n",
       "      <td>91.0</td>\n",
       "    </tr>\n",
       "    <tr>\n",
       "      <th>26</th>\n",
       "      <td>Tamil Nadu</td>\n",
       "      <td>120473.0</td>\n",
       "      <td>116701.0</td>\n",
       "    </tr>\n",
       "    <tr>\n",
       "      <th>27</th>\n",
       "      <td>Tripura</td>\n",
       "      <td>90.0</td>\n",
       "      <td>16702.0</td>\n",
       "    </tr>\n",
       "    <tr>\n",
       "      <th>28</th>\n",
       "      <td>Uttar Pradesh</td>\n",
       "      <td>89987.0</td>\n",
       "      <td>26800.0</td>\n",
       "    </tr>\n",
       "    <tr>\n",
       "      <th>29</th>\n",
       "      <td>Uttarakhand</td>\n",
       "      <td>30472.0</td>\n",
       "      <td>18108.0</td>\n",
       "    </tr>\n",
       "    <tr>\n",
       "      <th>30</th>\n",
       "      <td>West Bengal</td>\n",
       "      <td>12169.0</td>\n",
       "      <td>5467.0</td>\n",
       "    </tr>\n",
       "    <tr>\n",
       "      <th>31</th>\n",
       "      <td>Grand Total</td>\n",
       "      <td>1697117.0</td>\n",
       "      <td>1238196.0</td>\n",
       "    </tr>\n",
       "  </tbody>\n",
       "</table>\n",
       "</div>"
      ],
      "text/plain": [
       "                       State/UT    Private     Public\n",
       "0   Andaman and Nicobar Islands        1.0       21.0\n",
       "1                Andhra Pradesh    97863.0    34385.0\n",
       "2             Arunachal Pradesh        5.0      630.0\n",
       "3                         Assam    14350.0    33553.0\n",
       "4                         Bihar    11747.0    34814.0\n",
       "5                    Chandigarh      302.0      509.0\n",
       "6                  Chhattisgarh   411814.0   142123.0\n",
       "7        Dadra and Nagar Haveli      782.0    10940.0\n",
       "8                 Daman and Diu      984.0     3343.0\n",
       "9                           Goa     1033.0      382.0\n",
       "10                      Gujarat   379379.0    94845.0\n",
       "11                      Haryana    16341.0    10223.0\n",
       "12             Himachal Pradesh     2160.0    16461.0\n",
       "13            Jammu and Kashmir     9707.0     8720.0\n",
       "14                    Jharkhand   156760.0    24114.0\n",
       "15                    Karnataka    65502.0   128640.0\n",
       "16                       Kerala   131557.0   391079.0\n",
       "17                  Lakshadweep        NaN        NaN\n",
       "18               Madhya Pradesh    29314.0    63818.0\n",
       "19                  Maharashtra   107977.0    31179.0\n",
       "20                      Manipur      725.0     2412.0\n",
       "21                    Meghalaya     4836.0     9016.0\n",
       "22                      Mizoram      441.0    12588.0\n",
       "23                     Nagaland      325.0      532.0\n",
       "24                   Puducherry        NaN        NaN\n",
       "25                       Sikkim       21.0       91.0\n",
       "26                   Tamil Nadu   120473.0   116701.0\n",
       "27                      Tripura       90.0    16702.0\n",
       "28                Uttar Pradesh    89987.0    26800.0\n",
       "29                  Uttarakhand    30472.0    18108.0\n",
       "30                  West Bengal    12169.0     5467.0\n",
       "31                  Grand Total  1697117.0  1238196.0"
      ]
     },
     "execution_count": 6,
     "metadata": {},
     "output_type": "execute_result"
    }
   ],
   "source": [
    "hosp"
   ]
  },
  {
   "cell_type": "markdown",
   "metadata": {},
   "source": [
    "## Question 4: Drop the NA values."
   ]
  },
  {
   "cell_type": "code",
   "execution_count": 26,
   "metadata": {},
   "outputs": [],
   "source": [
    "hosp.dropna(axis=0,inplace=True)"
   ]
  },
  {
   "cell_type": "code",
   "execution_count": 27,
   "metadata": {},
   "outputs": [
    {
     "data": {
      "text/plain": [
       "State/UT    0\n",
       "Private     0\n",
       "Public      0\n",
       "Total       0\n",
       "dtype: int64"
      ]
     },
     "execution_count": 27,
     "metadata": {},
     "output_type": "execute_result"
    }
   ],
   "source": [
    "hosp.isnull().sum()"
   ]
  },
  {
   "cell_type": "markdown",
   "metadata": {},
   "source": [
    "## Question 5: Create a new column Total which contains a sum of private and public\n",
    "## hospitalisations. So the column Total should be a summation of the two columns\n",
    "## Public and Private."
   ]
  },
  {
   "cell_type": "code",
   "execution_count": 24,
   "metadata": {},
   "outputs": [
    {
     "data": {
      "text/html": [
       "<div>\n",
       "<style scoped>\n",
       "    .dataframe tbody tr th:only-of-type {\n",
       "        vertical-align: middle;\n",
       "    }\n",
       "\n",
       "    .dataframe tbody tr th {\n",
       "        vertical-align: top;\n",
       "    }\n",
       "\n",
       "    .dataframe thead th {\n",
       "        text-align: right;\n",
       "    }\n",
       "</style>\n",
       "<table border=\"1\" class=\"dataframe\">\n",
       "  <thead>\n",
       "    <tr style=\"text-align: right;\">\n",
       "      <th></th>\n",
       "      <th>State/UT</th>\n",
       "      <th>Private</th>\n",
       "      <th>Public</th>\n",
       "      <th>Total</th>\n",
       "    </tr>\n",
       "  </thead>\n",
       "  <tbody>\n",
       "    <tr>\n",
       "      <th>0</th>\n",
       "      <td>Andaman and Nicobar Islands</td>\n",
       "      <td>1.0</td>\n",
       "      <td>21.0</td>\n",
       "      <td>22.0</td>\n",
       "    </tr>\n",
       "    <tr>\n",
       "      <th>1</th>\n",
       "      <td>Andhra Pradesh</td>\n",
       "      <td>97863.0</td>\n",
       "      <td>34385.0</td>\n",
       "      <td>132248.0</td>\n",
       "    </tr>\n",
       "    <tr>\n",
       "      <th>2</th>\n",
       "      <td>Arunachal Pradesh</td>\n",
       "      <td>5.0</td>\n",
       "      <td>630.0</td>\n",
       "      <td>635.0</td>\n",
       "    </tr>\n",
       "    <tr>\n",
       "      <th>3</th>\n",
       "      <td>Assam</td>\n",
       "      <td>14350.0</td>\n",
       "      <td>33553.0</td>\n",
       "      <td>47903.0</td>\n",
       "    </tr>\n",
       "    <tr>\n",
       "      <th>4</th>\n",
       "      <td>Bihar</td>\n",
       "      <td>11747.0</td>\n",
       "      <td>34814.0</td>\n",
       "      <td>46561.0</td>\n",
       "    </tr>\n",
       "    <tr>\n",
       "      <th>5</th>\n",
       "      <td>Chandigarh</td>\n",
       "      <td>302.0</td>\n",
       "      <td>509.0</td>\n",
       "      <td>811.0</td>\n",
       "    </tr>\n",
       "    <tr>\n",
       "      <th>6</th>\n",
       "      <td>Chhattisgarh</td>\n",
       "      <td>411814.0</td>\n",
       "      <td>142123.0</td>\n",
       "      <td>553937.0</td>\n",
       "    </tr>\n",
       "    <tr>\n",
       "      <th>7</th>\n",
       "      <td>Dadra and Nagar Haveli</td>\n",
       "      <td>782.0</td>\n",
       "      <td>10940.0</td>\n",
       "      <td>11722.0</td>\n",
       "    </tr>\n",
       "    <tr>\n",
       "      <th>8</th>\n",
       "      <td>Daman and Diu</td>\n",
       "      <td>984.0</td>\n",
       "      <td>3343.0</td>\n",
       "      <td>4327.0</td>\n",
       "    </tr>\n",
       "    <tr>\n",
       "      <th>9</th>\n",
       "      <td>Goa</td>\n",
       "      <td>1033.0</td>\n",
       "      <td>382.0</td>\n",
       "      <td>1415.0</td>\n",
       "    </tr>\n",
       "    <tr>\n",
       "      <th>10</th>\n",
       "      <td>Gujarat</td>\n",
       "      <td>379379.0</td>\n",
       "      <td>94845.0</td>\n",
       "      <td>474224.0</td>\n",
       "    </tr>\n",
       "    <tr>\n",
       "      <th>11</th>\n",
       "      <td>Haryana</td>\n",
       "      <td>16341.0</td>\n",
       "      <td>10223.0</td>\n",
       "      <td>26564.0</td>\n",
       "    </tr>\n",
       "    <tr>\n",
       "      <th>12</th>\n",
       "      <td>Himachal Pradesh</td>\n",
       "      <td>2160.0</td>\n",
       "      <td>16461.0</td>\n",
       "      <td>18621.0</td>\n",
       "    </tr>\n",
       "    <tr>\n",
       "      <th>13</th>\n",
       "      <td>Jammu and Kashmir</td>\n",
       "      <td>9707.0</td>\n",
       "      <td>8720.0</td>\n",
       "      <td>18427.0</td>\n",
       "    </tr>\n",
       "    <tr>\n",
       "      <th>14</th>\n",
       "      <td>Jharkhand</td>\n",
       "      <td>156760.0</td>\n",
       "      <td>24114.0</td>\n",
       "      <td>180874.0</td>\n",
       "    </tr>\n",
       "    <tr>\n",
       "      <th>15</th>\n",
       "      <td>Karnataka</td>\n",
       "      <td>65502.0</td>\n",
       "      <td>128640.0</td>\n",
       "      <td>194142.0</td>\n",
       "    </tr>\n",
       "    <tr>\n",
       "      <th>16</th>\n",
       "      <td>Kerala</td>\n",
       "      <td>131557.0</td>\n",
       "      <td>391079.0</td>\n",
       "      <td>522636.0</td>\n",
       "    </tr>\n",
       "    <tr>\n",
       "      <th>17</th>\n",
       "      <td>Lakshadweep</td>\n",
       "      <td>NaN</td>\n",
       "      <td>NaN</td>\n",
       "      <td>NaN</td>\n",
       "    </tr>\n",
       "    <tr>\n",
       "      <th>18</th>\n",
       "      <td>Madhya Pradesh</td>\n",
       "      <td>29314.0</td>\n",
       "      <td>63818.0</td>\n",
       "      <td>93132.0</td>\n",
       "    </tr>\n",
       "    <tr>\n",
       "      <th>19</th>\n",
       "      <td>Maharashtra</td>\n",
       "      <td>107977.0</td>\n",
       "      <td>31179.0</td>\n",
       "      <td>139156.0</td>\n",
       "    </tr>\n",
       "    <tr>\n",
       "      <th>20</th>\n",
       "      <td>Manipur</td>\n",
       "      <td>725.0</td>\n",
       "      <td>2412.0</td>\n",
       "      <td>3137.0</td>\n",
       "    </tr>\n",
       "    <tr>\n",
       "      <th>21</th>\n",
       "      <td>Meghalaya</td>\n",
       "      <td>4836.0</td>\n",
       "      <td>9016.0</td>\n",
       "      <td>13852.0</td>\n",
       "    </tr>\n",
       "    <tr>\n",
       "      <th>22</th>\n",
       "      <td>Mizoram</td>\n",
       "      <td>441.0</td>\n",
       "      <td>12588.0</td>\n",
       "      <td>13029.0</td>\n",
       "    </tr>\n",
       "    <tr>\n",
       "      <th>23</th>\n",
       "      <td>Nagaland</td>\n",
       "      <td>325.0</td>\n",
       "      <td>532.0</td>\n",
       "      <td>857.0</td>\n",
       "    </tr>\n",
       "    <tr>\n",
       "      <th>24</th>\n",
       "      <td>Puducherry</td>\n",
       "      <td>NaN</td>\n",
       "      <td>NaN</td>\n",
       "      <td>NaN</td>\n",
       "    </tr>\n",
       "    <tr>\n",
       "      <th>25</th>\n",
       "      <td>Sikkim</td>\n",
       "      <td>21.0</td>\n",
       "      <td>91.0</td>\n",
       "      <td>112.0</td>\n",
       "    </tr>\n",
       "    <tr>\n",
       "      <th>26</th>\n",
       "      <td>Tamil Nadu</td>\n",
       "      <td>120473.0</td>\n",
       "      <td>116701.0</td>\n",
       "      <td>237174.0</td>\n",
       "    </tr>\n",
       "    <tr>\n",
       "      <th>27</th>\n",
       "      <td>Tripura</td>\n",
       "      <td>90.0</td>\n",
       "      <td>16702.0</td>\n",
       "      <td>16792.0</td>\n",
       "    </tr>\n",
       "    <tr>\n",
       "      <th>28</th>\n",
       "      <td>Uttar Pradesh</td>\n",
       "      <td>89987.0</td>\n",
       "      <td>26800.0</td>\n",
       "      <td>116787.0</td>\n",
       "    </tr>\n",
       "    <tr>\n",
       "      <th>29</th>\n",
       "      <td>Uttarakhand</td>\n",
       "      <td>30472.0</td>\n",
       "      <td>18108.0</td>\n",
       "      <td>48580.0</td>\n",
       "    </tr>\n",
       "    <tr>\n",
       "      <th>30</th>\n",
       "      <td>West Bengal</td>\n",
       "      <td>12169.0</td>\n",
       "      <td>5467.0</td>\n",
       "      <td>17636.0</td>\n",
       "    </tr>\n",
       "    <tr>\n",
       "      <th>31</th>\n",
       "      <td>Grand Total</td>\n",
       "      <td>1697117.0</td>\n",
       "      <td>1238196.0</td>\n",
       "      <td>2935313.0</td>\n",
       "    </tr>\n",
       "  </tbody>\n",
       "</table>\n",
       "</div>"
      ],
      "text/plain": [
       "                       State/UT    Private     Public      Total\n",
       "0   Andaman and Nicobar Islands        1.0       21.0       22.0\n",
       "1                Andhra Pradesh    97863.0    34385.0   132248.0\n",
       "2             Arunachal Pradesh        5.0      630.0      635.0\n",
       "3                         Assam    14350.0    33553.0    47903.0\n",
       "4                         Bihar    11747.0    34814.0    46561.0\n",
       "5                    Chandigarh      302.0      509.0      811.0\n",
       "6                  Chhattisgarh   411814.0   142123.0   553937.0\n",
       "7        Dadra and Nagar Haveli      782.0    10940.0    11722.0\n",
       "8                 Daman and Diu      984.0     3343.0     4327.0\n",
       "9                           Goa     1033.0      382.0     1415.0\n",
       "10                      Gujarat   379379.0    94845.0   474224.0\n",
       "11                      Haryana    16341.0    10223.0    26564.0\n",
       "12             Himachal Pradesh     2160.0    16461.0    18621.0\n",
       "13            Jammu and Kashmir     9707.0     8720.0    18427.0\n",
       "14                    Jharkhand   156760.0    24114.0   180874.0\n",
       "15                    Karnataka    65502.0   128640.0   194142.0\n",
       "16                       Kerala   131557.0   391079.0   522636.0\n",
       "17                  Lakshadweep        NaN        NaN        NaN\n",
       "18               Madhya Pradesh    29314.0    63818.0    93132.0\n",
       "19                  Maharashtra   107977.0    31179.0   139156.0\n",
       "20                      Manipur      725.0     2412.0     3137.0\n",
       "21                    Meghalaya     4836.0     9016.0    13852.0\n",
       "22                      Mizoram      441.0    12588.0    13029.0\n",
       "23                     Nagaland      325.0      532.0      857.0\n",
       "24                   Puducherry        NaN        NaN        NaN\n",
       "25                       Sikkim       21.0       91.0      112.0\n",
       "26                   Tamil Nadu   120473.0   116701.0   237174.0\n",
       "27                      Tripura       90.0    16702.0    16792.0\n",
       "28                Uttar Pradesh    89987.0    26800.0   116787.0\n",
       "29                  Uttarakhand    30472.0    18108.0    48580.0\n",
       "30                  West Bengal    12169.0     5467.0    17636.0\n",
       "31                  Grand Total  1697117.0  1238196.0  2935313.0"
      ]
     },
     "execution_count": 24,
     "metadata": {},
     "output_type": "execute_result"
    }
   ],
   "source": [
    "hosp['Total']=hosp['Private']+hosp['Public']\n",
    "hosp"
   ]
  },
  {
   "cell_type": "markdown",
   "metadata": {},
   "source": [
    "## Question 6: Which State or UT is the unhealthiest? (i.e. maximum number of hospitalisations) \n",
    "## HINT : Do not include Grand Total"
   ]
  },
  {
   "cell_type": "code",
   "execution_count": 25,
   "metadata": {},
   "outputs": [
    {
     "data": {
      "text/plain": [
       "'Chhattisgarh'"
      ]
     },
     "execution_count": 25,
     "metadata": {},
     "output_type": "execute_result"
    }
   ],
   "source": [
    "hosp.sort_values(by='Total',ascending=False).head().reset_index()['State/UT'][1]"
   ]
  },
  {
   "cell_type": "markdown",
   "metadata": {},
   "source": [
    "## Question 7: Chhattisgarh accounts for roughly 18% share in the total hospitalisations in India (assuming these are the only states/UTs in India). True for False?"
   ]
  },
  {
   "cell_type": "code",
   "execution_count": 29,
   "metadata": {},
   "outputs": [
    {
     "data": {
      "text/html": [
       "<div>\n",
       "<style scoped>\n",
       "    .dataframe tbody tr th:only-of-type {\n",
       "        vertical-align: middle;\n",
       "    }\n",
       "\n",
       "    .dataframe tbody tr th {\n",
       "        vertical-align: top;\n",
       "    }\n",
       "\n",
       "    .dataframe thead th {\n",
       "        text-align: right;\n",
       "    }\n",
       "</style>\n",
       "<table border=\"1\" class=\"dataframe\">\n",
       "  <thead>\n",
       "    <tr style=\"text-align: right;\">\n",
       "      <th></th>\n",
       "      <th>State/UT</th>\n",
       "      <th>Private</th>\n",
       "      <th>Public</th>\n",
       "      <th>Total</th>\n",
       "    </tr>\n",
       "  </thead>\n",
       "  <tbody>\n",
       "    <tr>\n",
       "      <th>6</th>\n",
       "      <td>Chhattisgarh</td>\n",
       "      <td>411814.0</td>\n",
       "      <td>142123.0</td>\n",
       "      <td>553937.0</td>\n",
       "    </tr>\n",
       "  </tbody>\n",
       "</table>\n",
       "</div>"
      ],
      "text/plain": [
       "       State/UT   Private    Public     Total\n",
       "6  Chhattisgarh  411814.0  142123.0  553937.0"
      ]
     },
     "execution_count": 29,
     "metadata": {},
     "output_type": "execute_result"
    }
   ],
   "source": [
    "hosp[hosp['State/UT']=='Chhattisgarh']"
   ]
  },
  {
   "cell_type": "code",
   "execution_count": 30,
   "metadata": {},
   "outputs": [
    {
     "data": {
      "text/html": [
       "<div>\n",
       "<style scoped>\n",
       "    .dataframe tbody tr th:only-of-type {\n",
       "        vertical-align: middle;\n",
       "    }\n",
       "\n",
       "    .dataframe tbody tr th {\n",
       "        vertical-align: top;\n",
       "    }\n",
       "\n",
       "    .dataframe thead th {\n",
       "        text-align: right;\n",
       "    }\n",
       "</style>\n",
       "<table border=\"1\" class=\"dataframe\">\n",
       "  <thead>\n",
       "    <tr style=\"text-align: right;\">\n",
       "      <th></th>\n",
       "      <th>State/UT</th>\n",
       "      <th>Private</th>\n",
       "      <th>Public</th>\n",
       "      <th>Total</th>\n",
       "    </tr>\n",
       "  </thead>\n",
       "  <tbody>\n",
       "    <tr>\n",
       "      <th>27</th>\n",
       "      <td>Tripura</td>\n",
       "      <td>90.0</td>\n",
       "      <td>16702.0</td>\n",
       "      <td>16792.0</td>\n",
       "    </tr>\n",
       "    <tr>\n",
       "      <th>28</th>\n",
       "      <td>Uttar Pradesh</td>\n",
       "      <td>89987.0</td>\n",
       "      <td>26800.0</td>\n",
       "      <td>116787.0</td>\n",
       "    </tr>\n",
       "    <tr>\n",
       "      <th>29</th>\n",
       "      <td>Uttarakhand</td>\n",
       "      <td>30472.0</td>\n",
       "      <td>18108.0</td>\n",
       "      <td>48580.0</td>\n",
       "    </tr>\n",
       "    <tr>\n",
       "      <th>30</th>\n",
       "      <td>West Bengal</td>\n",
       "      <td>12169.0</td>\n",
       "      <td>5467.0</td>\n",
       "      <td>17636.0</td>\n",
       "    </tr>\n",
       "    <tr>\n",
       "      <th>31</th>\n",
       "      <td>Grand Total</td>\n",
       "      <td>1697117.0</td>\n",
       "      <td>1238196.0</td>\n",
       "      <td>2935313.0</td>\n",
       "    </tr>\n",
       "  </tbody>\n",
       "</table>\n",
       "</div>"
      ],
      "text/plain": [
       "         State/UT    Private     Public      Total\n",
       "27        Tripura       90.0    16702.0    16792.0\n",
       "28  Uttar Pradesh    89987.0    26800.0   116787.0\n",
       "29    Uttarakhand    30472.0    18108.0    48580.0\n",
       "30    West Bengal    12169.0     5467.0    17636.0\n",
       "31    Grand Total  1697117.0  1238196.0  2935313.0"
      ]
     },
     "execution_count": 30,
     "metadata": {},
     "output_type": "execute_result"
    }
   ],
   "source": [
    "hosp.tail()"
   ]
  },
  {
   "cell_type": "code",
   "execution_count": 33,
   "metadata": {},
   "outputs": [
    {
     "data": {
      "text/plain": [
       "18.87147980470907"
      ]
     },
     "execution_count": 33,
     "metadata": {},
     "output_type": "execute_result"
    }
   ],
   "source": [
    "(553937*100)/2935313"
   ]
  },
  {
   "cell_type": "code",
   "execution_count": null,
   "metadata": {},
   "outputs": [],
   "source": [
    "#answer: true"
   ]
  },
  {
   "cell_type": "markdown",
   "metadata": {},
   "source": [
    "## Question 8: In Dadra and Nagar Haveli, which type of hospitals do people prefer?"
   ]
  },
  {
   "cell_type": "code",
   "execution_count": 35,
   "metadata": {},
   "outputs": [
    {
     "data": {
      "text/html": [
       "<div>\n",
       "<style scoped>\n",
       "    .dataframe tbody tr th:only-of-type {\n",
       "        vertical-align: middle;\n",
       "    }\n",
       "\n",
       "    .dataframe tbody tr th {\n",
       "        vertical-align: top;\n",
       "    }\n",
       "\n",
       "    .dataframe thead th {\n",
       "        text-align: right;\n",
       "    }\n",
       "</style>\n",
       "<table border=\"1\" class=\"dataframe\">\n",
       "  <thead>\n",
       "    <tr style=\"text-align: right;\">\n",
       "      <th></th>\n",
       "      <th>State/UT</th>\n",
       "      <th>Private</th>\n",
       "      <th>Public</th>\n",
       "      <th>Total</th>\n",
       "    </tr>\n",
       "  </thead>\n",
       "  <tbody>\n",
       "    <tr>\n",
       "      <th>7</th>\n",
       "      <td>Dadra and Nagar Haveli</td>\n",
       "      <td>782.0</td>\n",
       "      <td>10940.0</td>\n",
       "      <td>11722.0</td>\n",
       "    </tr>\n",
       "  </tbody>\n",
       "</table>\n",
       "</div>"
      ],
      "text/plain": [
       "                 State/UT  Private   Public    Total\n",
       "7  Dadra and Nagar Haveli    782.0  10940.0  11722.0"
      ]
     },
     "execution_count": 35,
     "metadata": {},
     "output_type": "execute_result"
    }
   ],
   "source": [
    "hosp[hosp['State/UT']=='Dadra and Nagar Haveli']"
   ]
  },
  {
   "cell_type": "code",
   "execution_count": null,
   "metadata": {},
   "outputs": [],
   "source": [
    "#answer: public"
   ]
  },
  {
   "cell_type": "markdown",
   "metadata": {},
   "source": [
    "## Question 9: Plot the total hospitalisations in a plot of your choice and comment on the \n",
    "## healthiest State/UT. (Assuming that the only parameter for Healthiest is the number of \n",
    "## hospitalisations only)"
   ]
  },
  {
   "cell_type": "code",
   "execution_count": 40,
   "metadata": {},
   "outputs": [
    {
     "data": {
      "image/png": "[encoded data removed]",
      "text/plain": [
       "<Figure size 432x288 with 1 Axes>"
      ]
     },
     "metadata": {
      "needs_background": "light"
     },
     "output_type": "display_data"
    }
   ],
   "source": [
    "sns.pointplot(y=hosp['Total'],x=hosp['State/UT'])\n",
    "plt.xticks(rotation=90)\n",
    "plt.show()"
   ]
  },
  {
   "cell_type": "code",
   "execution_count": 50,
   "metadata": {},
   "outputs": [
    {
     "data": {
      "text/html": [
       "<div>\n",
       "<style scoped>\n",
       "    .dataframe tbody tr th:only-of-type {\n",
       "        vertical-align: middle;\n",
       "    }\n",
       "\n",
       "    .dataframe tbody tr th {\n",
       "        vertical-align: top;\n",
       "    }\n",
       "\n",
       "    .dataframe thead th {\n",
       "        text-align: right;\n",
       "    }\n",
       "</style>\n",
       "<table border=\"1\" class=\"dataframe\">\n",
       "  <thead>\n",
       "    <tr style=\"text-align: right;\">\n",
       "      <th></th>\n",
       "      <th>State/UT</th>\n",
       "      <th>Private</th>\n",
       "      <th>Public</th>\n",
       "      <th>Total</th>\n",
       "    </tr>\n",
       "  </thead>\n",
       "  <tbody>\n",
       "    <tr>\n",
       "      <th>31</th>\n",
       "      <td>Grand Total</td>\n",
       "      <td>1697117.0</td>\n",
       "      <td>1238196.0</td>\n",
       "      <td>2935313.0</td>\n",
       "    </tr>\n",
       "  </tbody>\n",
       "</table>\n",
       "</div>"
      ],
      "text/plain": [
       "       State/UT    Private     Public      Total\n",
       "31  Grand Total  1697117.0  1238196.0  2935313.0"
      ]
     },
     "execution_count": 50,
     "metadata": {},
     "output_type": "execute_result"
    }
   ],
   "source": [
    "hosp[hosp['State/UT']=='Grand Total']"
   ]
  },
  {
   "cell_type": "code",
   "execution_count": 57,
   "metadata": {},
   "outputs": [
    {
     "data": {
      "image/png": "[encoded data removed]",
      "text/plain": [
       "<Figure size 432x288 with 1 Axes>"
      ]
     },
     "metadata": {
      "needs_background": "light"
     },
     "output_type": "display_data"
    }
   ],
   "source": [
    "hosp1=hosp.drop(index=31)\n",
    "hosp1.sort_values(by='Total',inplace=True)\n",
    "sns.pointplot(y=hosp1['Total'],x=hosp1['State/UT'])\n",
    "plt.xticks(rotation=90)\n",
    "plt.show()"
   ]
  },
  {
   "cell_type": "code",
   "execution_count": 56,
   "metadata": {},
   "outputs": [
    {
     "data": {
      "text/plain": [
       "'Andaman and Nicobar Islands'"
      ]
     },
     "execution_count": 56,
     "metadata": {},
     "output_type": "execute_result"
    }
   ],
   "source": [
    "hosp.sort_values(by='Total').head()['State/UT'][0]"
   ]
  },
  {
   "cell_type": "markdown",
   "metadata": {},
   "source": [
    "## Question 10: Public Hospitalisations are more on an all India level as compared to state/UT level. True or False? \n",
    "## HINT: Calculate the percentage of public hospitalisation (public/total), then find out the average percentage of all states using the mean() function. Compare this average percentage (state) with the grand total (all India) percentage and comment."
   ]
  },
  {
   "cell_type": "code",
   "execution_count": 58,
   "metadata": {},
   "outputs": [
    {
     "data": {
      "text/html": [
       "<div>\n",
       "<style scoped>\n",
       "    .dataframe tbody tr th:only-of-type {\n",
       "        vertical-align: middle;\n",
       "    }\n",
       "\n",
       "    .dataframe tbody tr th {\n",
       "        vertical-align: top;\n",
       "    }\n",
       "\n",
       "    .dataframe thead th {\n",
       "        text-align: right;\n",
       "    }\n",
       "</style>\n",
       "<table border=\"1\" class=\"dataframe\">\n",
       "  <thead>\n",
       "    <tr style=\"text-align: right;\">\n",
       "      <th></th>\n",
       "      <th>State/UT</th>\n",
       "      <th>Private</th>\n",
       "      <th>Public</th>\n",
       "      <th>Total</th>\n",
       "    </tr>\n",
       "  </thead>\n",
       "  <tbody>\n",
       "    <tr>\n",
       "      <th>0</th>\n",
       "      <td>Andaman and Nicobar Islands</td>\n",
       "      <td>1.0</td>\n",
       "      <td>21.0</td>\n",
       "      <td>22.0</td>\n",
       "    </tr>\n",
       "    <tr>\n",
       "      <th>1</th>\n",
       "      <td>Andhra Pradesh</td>\n",
       "      <td>97863.0</td>\n",
       "      <td>34385.0</td>\n",
       "      <td>132248.0</td>\n",
       "    </tr>\n",
       "    <tr>\n",
       "      <th>2</th>\n",
       "      <td>Arunachal Pradesh</td>\n",
       "      <td>5.0</td>\n",
       "      <td>630.0</td>\n",
       "      <td>635.0</td>\n",
       "    </tr>\n",
       "    <tr>\n",
       "      <th>3</th>\n",
       "      <td>Assam</td>\n",
       "      <td>14350.0</td>\n",
       "      <td>33553.0</td>\n",
       "      <td>47903.0</td>\n",
       "    </tr>\n",
       "    <tr>\n",
       "      <th>4</th>\n",
       "      <td>Bihar</td>\n",
       "      <td>11747.0</td>\n",
       "      <td>34814.0</td>\n",
       "      <td>46561.0</td>\n",
       "    </tr>\n",
       "  </tbody>\n",
       "</table>\n",
       "</div>"
      ],
      "text/plain": [
       "                      State/UT  Private   Public     Total\n",
       "0  Andaman and Nicobar Islands      1.0     21.0      22.0\n",
       "1               Andhra Pradesh  97863.0  34385.0  132248.0\n",
       "2            Arunachal Pradesh      5.0    630.0     635.0\n",
       "3                        Assam  14350.0  33553.0   47903.0\n",
       "4                        Bihar  11747.0  34814.0   46561.0"
      ]
     },
     "execution_count": 58,
     "metadata": {},
     "output_type": "execute_result"
    }
   ],
   "source": [
    "hosp.head()"
   ]
  },
  {
   "cell_type": "code",
   "execution_count": 61,
   "metadata": {},
   "outputs": [
    {
     "data": {
      "text/html": [
       "<div>\n",
       "<style scoped>\n",
       "    .dataframe tbody tr th:only-of-type {\n",
       "        vertical-align: middle;\n",
       "    }\n",
       "\n",
       "    .dataframe tbody tr th {\n",
       "        vertical-align: top;\n",
       "    }\n",
       "\n",
       "    .dataframe thead th {\n",
       "        text-align: right;\n",
       "    }\n",
       "</style>\n",
       "<table border=\"1\" class=\"dataframe\">\n",
       "  <thead>\n",
       "    <tr style=\"text-align: right;\">\n",
       "      <th></th>\n",
       "      <th>State/UT</th>\n",
       "      <th>Private</th>\n",
       "      <th>Public</th>\n",
       "      <th>Total</th>\n",
       "      <th>Total%</th>\n",
       "    </tr>\n",
       "  </thead>\n",
       "  <tbody>\n",
       "    <tr>\n",
       "      <th>27</th>\n",
       "      <td>Tripura</td>\n",
       "      <td>90.0</td>\n",
       "      <td>16702.0</td>\n",
       "      <td>16792.0</td>\n",
       "      <td>99.464030</td>\n",
       "    </tr>\n",
       "    <tr>\n",
       "      <th>28</th>\n",
       "      <td>Uttar Pradesh</td>\n",
       "      <td>89987.0</td>\n",
       "      <td>26800.0</td>\n",
       "      <td>116787.0</td>\n",
       "      <td>22.947760</td>\n",
       "    </tr>\n",
       "    <tr>\n",
       "      <th>29</th>\n",
       "      <td>Uttarakhand</td>\n",
       "      <td>30472.0</td>\n",
       "      <td>18108.0</td>\n",
       "      <td>48580.0</td>\n",
       "      <td>37.274599</td>\n",
       "    </tr>\n",
       "    <tr>\n",
       "      <th>30</th>\n",
       "      <td>West Bengal</td>\n",
       "      <td>12169.0</td>\n",
       "      <td>5467.0</td>\n",
       "      <td>17636.0</td>\n",
       "      <td>30.999093</td>\n",
       "    </tr>\n",
       "    <tr>\n",
       "      <th>31</th>\n",
       "      <td>Grand Total</td>\n",
       "      <td>1697117.0</td>\n",
       "      <td>1238196.0</td>\n",
       "      <td>2935313.0</td>\n",
       "      <td>42.182759</td>\n",
       "    </tr>\n",
       "  </tbody>\n",
       "</table>\n",
       "</div>"
      ],
      "text/plain": [
       "         State/UT    Private     Public      Total     Total%\n",
       "27        Tripura       90.0    16702.0    16792.0  99.464030\n",
       "28  Uttar Pradesh    89987.0    26800.0   116787.0  22.947760\n",
       "29    Uttarakhand    30472.0    18108.0    48580.0  37.274599\n",
       "30    West Bengal    12169.0     5467.0    17636.0  30.999093\n",
       "31    Grand Total  1697117.0  1238196.0  2935313.0  42.182759"
      ]
     },
     "execution_count": 61,
     "metadata": {},
     "output_type": "execute_result"
    }
   ],
   "source": [
    "hosp['Total%']=(hosp['Public']*100)/hosp['Total']\n",
    "hosp.tail()"
   ]
  },
  {
   "cell_type": "code",
   "execution_count": 62,
   "metadata": {},
   "outputs": [],
   "source": [
    "#from row index 31, it is evident that national level prefernce of public hospitals is 42.18%"
   ]
  },
  {
   "cell_type": "code",
   "execution_count": 64,
   "metadata": {},
   "outputs": [
    {
     "data": {
      "text/html": [
       "<div>\n",
       "<style scoped>\n",
       "    .dataframe tbody tr th:only-of-type {\n",
       "        vertical-align: middle;\n",
       "    }\n",
       "\n",
       "    .dataframe tbody tr th {\n",
       "        vertical-align: top;\n",
       "    }\n",
       "\n",
       "    .dataframe thead th {\n",
       "        text-align: right;\n",
       "    }\n",
       "</style>\n",
       "<table border=\"1\" class=\"dataframe\">\n",
       "  <thead>\n",
       "    <tr style=\"text-align: right;\">\n",
       "      <th></th>\n",
       "      <th>State/UT</th>\n",
       "      <th>Private</th>\n",
       "      <th>Public</th>\n",
       "      <th>Total</th>\n",
       "      <th>Total%</th>\n",
       "    </tr>\n",
       "  </thead>\n",
       "  <tbody>\n",
       "    <tr>\n",
       "      <th>26</th>\n",
       "      <td>Tamil Nadu</td>\n",
       "      <td>120473.0</td>\n",
       "      <td>116701.0</td>\n",
       "      <td>237174.0</td>\n",
       "      <td>49.204803</td>\n",
       "    </tr>\n",
       "    <tr>\n",
       "      <th>27</th>\n",
       "      <td>Tripura</td>\n",
       "      <td>90.0</td>\n",
       "      <td>16702.0</td>\n",
       "      <td>16792.0</td>\n",
       "      <td>99.464030</td>\n",
       "    </tr>\n",
       "    <tr>\n",
       "      <th>28</th>\n",
       "      <td>Uttar Pradesh</td>\n",
       "      <td>89987.0</td>\n",
       "      <td>26800.0</td>\n",
       "      <td>116787.0</td>\n",
       "      <td>22.947760</td>\n",
       "    </tr>\n",
       "    <tr>\n",
       "      <th>29</th>\n",
       "      <td>Uttarakhand</td>\n",
       "      <td>30472.0</td>\n",
       "      <td>18108.0</td>\n",
       "      <td>48580.0</td>\n",
       "      <td>37.274599</td>\n",
       "    </tr>\n",
       "    <tr>\n",
       "      <th>30</th>\n",
       "      <td>West Bengal</td>\n",
       "      <td>12169.0</td>\n",
       "      <td>5467.0</td>\n",
       "      <td>17636.0</td>\n",
       "      <td>30.999093</td>\n",
       "    </tr>\n",
       "  </tbody>\n",
       "</table>\n",
       "</div>"
      ],
      "text/plain": [
       "         State/UT   Private    Public     Total     Total%\n",
       "26     Tamil Nadu  120473.0  116701.0  237174.0  49.204803\n",
       "27        Tripura      90.0   16702.0   16792.0  99.464030\n",
       "28  Uttar Pradesh   89987.0   26800.0  116787.0  22.947760\n",
       "29    Uttarakhand   30472.0   18108.0   48580.0  37.274599\n",
       "30    West Bengal   12169.0    5467.0   17636.0  30.999093"
      ]
     },
     "execution_count": 64,
     "metadata": {},
     "output_type": "execute_result"
    }
   ],
   "source": [
    "hosp1=hosp.drop(index=31)\n",
    "hosp1.tail()"
   ]
  },
  {
   "cell_type": "code",
   "execution_count": 66,
   "metadata": {},
   "outputs": [
    {
     "data": {
      "text/plain": [
       "59.06385966573871"
      ]
     },
     "execution_count": 66,
     "metadata": {},
     "output_type": "execute_result"
    }
   ],
   "source": [
    "hosp1['Total%'].mean()"
   ]
  },
  {
   "cell_type": "code",
   "execution_count": 67,
   "metadata": {},
   "outputs": [],
   "source": [
    "#from above result, it is evidents that mean of state level preferences of public hospitals is 59.06%\n",
    "#Therefore public hospitals are ore preferrable at state levels than at natinal level."
   ]
  },
  {
   "cell_type": "markdown",
   "metadata": {},
   "source": [
    "## Question 11: Which States/UTs have more than 50000 hospitalisations?"
   ]
  },
  {
   "cell_type": "code",
   "execution_count": 84,
   "metadata": {},
   "outputs": [
    {
     "data": {
      "text/html": [
       "<div>\n",
       "<style scoped>\n",
       "    .dataframe tbody tr th:only-of-type {\n",
       "        vertical-align: middle;\n",
       "    }\n",
       "\n",
       "    .dataframe tbody tr th {\n",
       "        vertical-align: top;\n",
       "    }\n",
       "\n",
       "    .dataframe thead th {\n",
       "        text-align: right;\n",
       "    }\n",
       "</style>\n",
       "<table border=\"1\" class=\"dataframe\">\n",
       "  <thead>\n",
       "    <tr style=\"text-align: right;\">\n",
       "      <th></th>\n",
       "      <th>State/UT</th>\n",
       "      <th>Private</th>\n",
       "      <th>Public</th>\n",
       "      <th>Total</th>\n",
       "      <th>Total%</th>\n",
       "    </tr>\n",
       "  </thead>\n",
       "  <tbody>\n",
       "    <tr>\n",
       "      <th>0</th>\n",
       "      <td>Madhya Pradesh</td>\n",
       "      <td>29314.0</td>\n",
       "      <td>63818.0</td>\n",
       "      <td>93132.0</td>\n",
       "      <td>68.524245</td>\n",
       "    </tr>\n",
       "    <tr>\n",
       "      <th>1</th>\n",
       "      <td>Uttar Pradesh</td>\n",
       "      <td>89987.0</td>\n",
       "      <td>26800.0</td>\n",
       "      <td>116787.0</td>\n",
       "      <td>22.947760</td>\n",
       "    </tr>\n",
       "    <tr>\n",
       "      <th>2</th>\n",
       "      <td>Andhra Pradesh</td>\n",
       "      <td>97863.0</td>\n",
       "      <td>34385.0</td>\n",
       "      <td>132248.0</td>\n",
       "      <td>26.000393</td>\n",
       "    </tr>\n",
       "    <tr>\n",
       "      <th>3</th>\n",
       "      <td>Maharashtra</td>\n",
       "      <td>107977.0</td>\n",
       "      <td>31179.0</td>\n",
       "      <td>139156.0</td>\n",
       "      <td>22.405789</td>\n",
       "    </tr>\n",
       "    <tr>\n",
       "      <th>4</th>\n",
       "      <td>Jharkhand</td>\n",
       "      <td>156760.0</td>\n",
       "      <td>24114.0</td>\n",
       "      <td>180874.0</td>\n",
       "      <td>13.331933</td>\n",
       "    </tr>\n",
       "    <tr>\n",
       "      <th>5</th>\n",
       "      <td>Karnataka</td>\n",
       "      <td>65502.0</td>\n",
       "      <td>128640.0</td>\n",
       "      <td>194142.0</td>\n",
       "      <td>66.260778</td>\n",
       "    </tr>\n",
       "    <tr>\n",
       "      <th>6</th>\n",
       "      <td>Tamil Nadu</td>\n",
       "      <td>120473.0</td>\n",
       "      <td>116701.0</td>\n",
       "      <td>237174.0</td>\n",
       "      <td>49.204803</td>\n",
       "    </tr>\n",
       "    <tr>\n",
       "      <th>7</th>\n",
       "      <td>Gujarat</td>\n",
       "      <td>379379.0</td>\n",
       "      <td>94845.0</td>\n",
       "      <td>474224.0</td>\n",
       "      <td>20.000042</td>\n",
       "    </tr>\n",
       "    <tr>\n",
       "      <th>8</th>\n",
       "      <td>Kerala</td>\n",
       "      <td>131557.0</td>\n",
       "      <td>391079.0</td>\n",
       "      <td>522636.0</td>\n",
       "      <td>74.828179</td>\n",
       "    </tr>\n",
       "    <tr>\n",
       "      <th>9</th>\n",
       "      <td>Chhattisgarh</td>\n",
       "      <td>411814.0</td>\n",
       "      <td>142123.0</td>\n",
       "      <td>553937.0</td>\n",
       "      <td>25.656889</td>\n",
       "    </tr>\n",
       "  </tbody>\n",
       "</table>\n",
       "</div>"
      ],
      "text/plain": [
       "         State/UT   Private    Public     Total     Total%\n",
       "0  Madhya Pradesh   29314.0   63818.0   93132.0  68.524245\n",
       "1   Uttar Pradesh   89987.0   26800.0  116787.0  22.947760\n",
       "2  Andhra Pradesh   97863.0   34385.0  132248.0  26.000393\n",
       "3     Maharashtra  107977.0   31179.0  139156.0  22.405789\n",
       "4       Jharkhand  156760.0   24114.0  180874.0  13.331933\n",
       "5       Karnataka   65502.0  128640.0  194142.0  66.260778\n",
       "6      Tamil Nadu  120473.0  116701.0  237174.0  49.204803\n",
       "7         Gujarat  379379.0   94845.0  474224.0  20.000042\n",
       "8          Kerala  131557.0  391079.0  522636.0  74.828179\n",
       "9    Chhattisgarh  411814.0  142123.0  553937.0  25.656889"
      ]
     },
     "execution_count": 84,
     "metadata": {},
     "output_type": "execute_result"
    }
   ],
   "source": [
    "hosp[hosp.Total>50000].sort_values(by='Total').reset_index().drop('index',axis=1).drop(index=10,axis=0)"
   ]
  },
  {
   "cell_type": "markdown",
   "metadata": {},
   "source": [
    "## Question 12: Which state reported exactly 1 case of private hospitalisation?"
   ]
  },
  {
   "cell_type": "code",
   "execution_count": 87,
   "metadata": {},
   "outputs": [
    {
     "data": {
      "text/plain": [
       "0    Andaman and Nicobar Islands\n",
       "Name: State/UT, dtype: object"
      ]
     },
     "execution_count": 87,
     "metadata": {},
     "output_type": "execute_result"
    }
   ],
   "source": [
    "hosp[hosp.Private==1]['State/UT']"
   ]
  },
  {
   "cell_type": "markdown",
   "metadata": {},
   "source": [
    "## Question 13: Which State/UT has maximum number of people admitted to public hospitals?"
   ]
  },
  {
   "cell_type": "code",
   "execution_count": 91,
   "metadata": {},
   "outputs": [
    {
     "data": {
      "text/plain": [
       "'Kerala'"
      ]
     },
     "execution_count": 91,
     "metadata": {},
     "output_type": "execute_result"
    }
   ],
   "source": [
    "hosp.sort_values(by='Public',ascending=False)['State/UT'][16]"
   ]
  },
  {
   "cell_type": "markdown",
   "metadata": {},
   "source": [
    "## Question 14: Which state among Tripura and Gujarat witnessed more hospitalisations? \n",
    "## (in absolute numbers)"
   ]
  },
  {
   "cell_type": "code",
   "execution_count": 103,
   "metadata": {},
   "outputs": [
    {
     "data": {
      "text/html": [
       "<div>\n",
       "<style scoped>\n",
       "    .dataframe tbody tr th:only-of-type {\n",
       "        vertical-align: middle;\n",
       "    }\n",
       "\n",
       "    .dataframe tbody tr th {\n",
       "        vertical-align: top;\n",
       "    }\n",
       "\n",
       "    .dataframe thead th {\n",
       "        text-align: right;\n",
       "    }\n",
       "</style>\n",
       "<table border=\"1\" class=\"dataframe\">\n",
       "  <thead>\n",
       "    <tr style=\"text-align: right;\">\n",
       "      <th></th>\n",
       "      <th>State/UT</th>\n",
       "      <th>Private</th>\n",
       "      <th>Public</th>\n",
       "      <th>Total</th>\n",
       "    </tr>\n",
       "  </thead>\n",
       "  <tbody>\n",
       "    <tr>\n",
       "      <th>27</th>\n",
       "      <td>Tripura</td>\n",
       "      <td>90.0</td>\n",
       "      <td>16702.0</td>\n",
       "      <td>16792.0</td>\n",
       "    </tr>\n",
       "  </tbody>\n",
       "</table>\n",
       "</div>"
      ],
      "text/plain": [
       "   State/UT  Private   Public    Total\n",
       "27  Tripura     90.0  16702.0  16792.0"
      ]
     },
     "execution_count": 103,
     "metadata": {},
     "output_type": "execute_result"
    }
   ],
   "source": [
    "hosp[hosp['State/UT']=='Tripura'].drop('Total%',axis=1)"
   ]
  },
  {
   "cell_type": "code",
   "execution_count": 104,
   "metadata": {},
   "outputs": [
    {
     "data": {
      "text/html": [
       "<div>\n",
       "<style scoped>\n",
       "    .dataframe tbody tr th:only-of-type {\n",
       "        vertical-align: middle;\n",
       "    }\n",
       "\n",
       "    .dataframe tbody tr th {\n",
       "        vertical-align: top;\n",
       "    }\n",
       "\n",
       "    .dataframe thead th {\n",
       "        text-align: right;\n",
       "    }\n",
       "</style>\n",
       "<table border=\"1\" class=\"dataframe\">\n",
       "  <thead>\n",
       "    <tr style=\"text-align: right;\">\n",
       "      <th></th>\n",
       "      <th>State/UT</th>\n",
       "      <th>Private</th>\n",
       "      <th>Public</th>\n",
       "      <th>Total</th>\n",
       "    </tr>\n",
       "  </thead>\n",
       "  <tbody>\n",
       "    <tr>\n",
       "      <th>10</th>\n",
       "      <td>Gujarat</td>\n",
       "      <td>379379.0</td>\n",
       "      <td>94845.0</td>\n",
       "      <td>474224.0</td>\n",
       "    </tr>\n",
       "  </tbody>\n",
       "</table>\n",
       "</div>"
      ],
      "text/plain": [
       "   State/UT   Private   Public     Total\n",
       "10  Gujarat  379379.0  94845.0  474224.0"
      ]
     },
     "execution_count": 104,
     "metadata": {},
     "output_type": "execute_result"
    }
   ],
   "source": [
    "hosp[hosp['State/UT']=='Gujarat'].drop('Total%',axis=1)"
   ]
  },
  {
   "cell_type": "code",
   "execution_count": 105,
   "metadata": {},
   "outputs": [],
   "source": [
    "# As we can see total hospitalisations in Gujarat have been more than Tripura but considering the fact that Gujarat is \n",
    "# a bigger and a more populous state, it is not the best way to compare the hospitalisations in absolute numbers. \n",
    "# A good approach would be to compare the percentage of hospitalisations in the two states. "
   ]
  },
  {
   "cell_type": "markdown",
   "metadata": {},
   "source": [
    "## Question 15: Are there any extreme values/ outliers present in this data set? Do these\n",
    "## values impact the analysis?"
   ]
  },
  {
   "cell_type": "code",
   "execution_count": 112,
   "metadata": {
    "scrolled": true
   },
   "outputs": [
    {
     "data": {
      "image/png": "[encoded data removed]",
      "text/plain": [
       "<Figure size 432x288 with 3 Axes>"
      ]
     },
     "metadata": {
      "needs_background": "light"
     },
     "output_type": "display_data"
    }
   ],
   "source": [
    "plt.subplot(2,2,1)\n",
    "sns.boxplot(y=hosp['Private'])\n",
    "plt.subplot(2,2,2)\n",
    "sns.boxplot(y=hosp['Public'])\n",
    "plt.subplot(2,2,3)\n",
    "sns.boxplot(y=hosp['Total'])\n",
    "plt.show()"
   ]
  },
  {
   "cell_type": "code",
   "execution_count": null,
   "metadata": {},
   "outputs": [],
   "source": [
    "#henceforth copied from solutions .ipynb file"
   ]
  },
  {
   "cell_type": "code",
   "execution_count": 118,
   "metadata": {},
   "outputs": [],
   "source": [
    "# Though there are potential outliers in the Public, Private and Total columns, but these are not impossible values.\n",
    "# One state can have more population than the other, or people of one state may fall sick more often than some other state.\n",
    "# So, these extreme values make business sense, and it would be unwise to omit them. So these should be retained.\n",
    "# Also, if we look at the Percentage plot (Public Percentage), it does not show any outliers whereas the boxplot of\n",
    "# Public does. This means that it takes into account the population factor of the state too thus strengthening our logic."
   ]
  },
  {
   "cell_type": "code",
   "execution_count": null,
   "metadata": {},
   "outputs": [],
   "source": [
    "#alternate way"
   ]
  },
  {
   "cell_type": "code",
   "execution_count": 119,
   "metadata": {},
   "outputs": [
    {
     "data": {
      "text/html": [
       "<div>\n",
       "<style scoped>\n",
       "    .dataframe tbody tr th:only-of-type {\n",
       "        vertical-align: middle;\n",
       "    }\n",
       "\n",
       "    .dataframe tbody tr th {\n",
       "        vertical-align: top;\n",
       "    }\n",
       "\n",
       "    .dataframe thead th {\n",
       "        text-align: right;\n",
       "    }\n",
       "</style>\n",
       "<table border=\"1\" class=\"dataframe\">\n",
       "  <thead>\n",
       "    <tr style=\"text-align: right;\">\n",
       "      <th></th>\n",
       "      <th>Private</th>\n",
       "      <th>Public</th>\n",
       "      <th>Total</th>\n",
       "      <th>Total%</th>\n",
       "    </tr>\n",
       "  </thead>\n",
       "  <tbody>\n",
       "    <tr>\n",
       "      <th>count</th>\n",
       "      <td>29.000000</td>\n",
       "      <td>29.000000</td>\n",
       "      <td>29.000000</td>\n",
       "      <td>29.000000</td>\n",
       "    </tr>\n",
       "    <tr>\n",
       "      <th>mean</th>\n",
       "      <td>58521.275862</td>\n",
       "      <td>42696.413793</td>\n",
       "      <td>101217.689655</td>\n",
       "      <td>59.063860</td>\n",
       "    </tr>\n",
       "    <tr>\n",
       "      <th>std</th>\n",
       "      <td>104692.326879</td>\n",
       "      <td>78095.331456</td>\n",
       "      <td>158445.699356</td>\n",
       "      <td>27.642119</td>\n",
       "    </tr>\n",
       "    <tr>\n",
       "      <th>min</th>\n",
       "      <td>1.000000</td>\n",
       "      <td>21.000000</td>\n",
       "      <td>22.000000</td>\n",
       "      <td>13.331933</td>\n",
       "    </tr>\n",
       "    <tr>\n",
       "      <th>25%</th>\n",
       "      <td>725.000000</td>\n",
       "      <td>3343.000000</td>\n",
       "      <td>4327.000000</td>\n",
       "      <td>30.999093</td>\n",
       "    </tr>\n",
       "    <tr>\n",
       "      <th>50%</th>\n",
       "      <td>11747.000000</td>\n",
       "      <td>16461.000000</td>\n",
       "      <td>18621.000000</td>\n",
       "      <td>65.088074</td>\n",
       "    </tr>\n",
       "    <tr>\n",
       "      <th>75%</th>\n",
       "      <td>89987.000000</td>\n",
       "      <td>34385.000000</td>\n",
       "      <td>132248.000000</td>\n",
       "      <td>77.259071</td>\n",
       "    </tr>\n",
       "    <tr>\n",
       "      <th>max</th>\n",
       "      <td>411814.000000</td>\n",
       "      <td>391079.000000</td>\n",
       "      <td>553937.000000</td>\n",
       "      <td>99.464030</td>\n",
       "    </tr>\n",
       "  </tbody>\n",
       "</table>\n",
       "</div>"
      ],
      "text/plain": [
       "             Private         Public          Total     Total%\n",
       "count      29.000000      29.000000      29.000000  29.000000\n",
       "mean    58521.275862   42696.413793  101217.689655  59.063860\n",
       "std    104692.326879   78095.331456  158445.699356  27.642119\n",
       "min         1.000000      21.000000      22.000000  13.331933\n",
       "25%       725.000000    3343.000000    4327.000000  30.999093\n",
       "50%     11747.000000   16461.000000   18621.000000  65.088074\n",
       "75%     89987.000000   34385.000000  132248.000000  77.259071\n",
       "max    411814.000000  391079.000000  553937.000000  99.464030"
      ]
     },
     "execution_count": 119,
     "metadata": {},
     "output_type": "execute_result"
    }
   ],
   "source": [
    "hosp1=hosp.drop(index=31)\n",
    "hosp1.describe()"
   ]
  },
  {
   "cell_type": "code",
   "execution_count": null,
   "metadata": {},
   "outputs": [],
   "source": [
    "# Here we see compare the max values with the 75th percentile. We see that there is a vast difference in Q3 (75th percentile)\n",
    "# and max values of Public and Private and Total columns. This is an indication that your data has outliers. At this point,\n",
    "# you should delve deeper and see of these are really outliers or extreme values which make business sense. So accordingly,\n",
    "# you should decide whether to keep them or remove them. In this particular case, we will retain them."
   ]
  },
  {
   "cell_type": "markdown",
   "metadata": {},
   "source": [
    "THE END!"
   ]
  }
 ],
 "metadata": {
  "kernelspec": {
   "display_name": "Python 3",
   "language": "python",
   "name": "python3"
  },
  "language_info": {
   "codemirror_mode": {
    "name": "ipython",
    "version": 3
   },
   "file_extension": ".py",
   "mimetype": "text/x-python",
   "name": "python",
   "nbconvert_exporter": "python",
   "pygments_lexer": "ipython3",
   "version": "3.8.5"
  }
 },
 "nbformat": 4,
 "nbformat_minor": 2
}
