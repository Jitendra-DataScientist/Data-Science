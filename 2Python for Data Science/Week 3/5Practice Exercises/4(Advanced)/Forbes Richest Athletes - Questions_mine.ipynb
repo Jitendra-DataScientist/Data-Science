{
 "cells": [
  {
   "cell_type": "markdown",
   "metadata": {},
   "source": [
    "# Forbes Richest Athletes "
   ]
  },
  {
   "cell_type": "markdown",
   "metadata": {},
   "source": [
    "<img src=\"https://i.ytimg.com/vi/NPOdcCfyUnw/maxresdefault.jpg\" width=\"700\" height=\"500\" />\n",
    "\n",
    "**Data Dictionary**\n",
    "1. Name: Name of the athlete.\n",
    "2. Nationality: Name of the country the athlete belongs to.\n",
    "3. Current Rank: Rank in the corresponding Year.\n",
    "4. Previous Year Rank: Rank in in the preceding year.\n",
    "5. Sport: Name of the sports that athlete played that year.\n",
    "6. Year: Current year of ranking.\n",
    "7. earnings ( million) : Earnings of the athlete in millions in the corresponding year. "
   ]
  },
  {
   "cell_type": "code",
   "execution_count": 1,
   "metadata": {
    "ExecuteTime": {
     "end_time": "2020-11-26T12:21:57.197971Z",
     "start_time": "2020-11-26T12:21:57.191987Z"
    }
   },
   "outputs": [],
   "source": [
    "import pandas as pd\n",
    "import seaborn as sns\n",
    "import numpy as np\n",
    "import matplotlib.pyplot as plt\n",
    "import seaborn as sns\n",
    "sns.set_palette(\"deep\")\n",
    "from warnings import filterwarnings\n",
    "filterwarnings(\"ignore\")"
   ]
  },
  {
   "cell_type": "code",
   "execution_count": 2,
   "metadata": {
    "ExecuteTime": {
     "end_time": "2020-11-26T12:21:59.072247Z",
     "start_time": "2020-11-26T12:21:59.062281Z"
    }
   },
   "outputs": [],
   "source": [
    "df = pd.read_csv(\"Forbes+Richest+Athletes+1990-2019.csv\")"
   ]
  },
  {
   "cell_type": "code",
   "execution_count": 3,
   "metadata": {
    "ExecuteTime": {
     "end_time": "2020-11-26T12:21:59.434200Z",
     "start_time": "2020-11-26T12:21:59.420239Z"
    },
    "scrolled": false
   },
   "outputs": [
    {
     "data": {
      "text/html": [
       "<div>\n",
       "<style scoped>\n",
       "    .dataframe tbody tr th:only-of-type {\n",
       "        vertical-align: middle;\n",
       "    }\n",
       "\n",
       "    .dataframe tbody tr th {\n",
       "        vertical-align: top;\n",
       "    }\n",
       "\n",
       "    .dataframe thead th {\n",
       "        text-align: right;\n",
       "    }\n",
       "</style>\n",
       "<table border=\"1\" class=\"dataframe\">\n",
       "  <thead>\n",
       "    <tr style=\"text-align: right;\">\n",
       "      <th></th>\n",
       "      <th>Name</th>\n",
       "      <th>Nationality</th>\n",
       "      <th>Current Rank</th>\n",
       "      <th>Previous Year Rank</th>\n",
       "      <th>Sport</th>\n",
       "      <th>Year</th>\n",
       "      <th>earnings ($ million)</th>\n",
       "    </tr>\n",
       "  </thead>\n",
       "  <tbody>\n",
       "    <tr>\n",
       "      <th>0</th>\n",
       "      <td>Mike Tyson</td>\n",
       "      <td>USA</td>\n",
       "      <td>1</td>\n",
       "      <td>Not Listed</td>\n",
       "      <td>Boxing</td>\n",
       "      <td>1990</td>\n",
       "      <td>28.6</td>\n",
       "    </tr>\n",
       "    <tr>\n",
       "      <th>1</th>\n",
       "      <td>Buster Douglas</td>\n",
       "      <td>USA</td>\n",
       "      <td>2</td>\n",
       "      <td>Not Listed</td>\n",
       "      <td>Boxing</td>\n",
       "      <td>1990</td>\n",
       "      <td>26.0</td>\n",
       "    </tr>\n",
       "    <tr>\n",
       "      <th>2</th>\n",
       "      <td>Sugar Ray Leonard</td>\n",
       "      <td>USA</td>\n",
       "      <td>3</td>\n",
       "      <td>Not Listed</td>\n",
       "      <td>Boxing</td>\n",
       "      <td>1990</td>\n",
       "      <td>13.0</td>\n",
       "    </tr>\n",
       "    <tr>\n",
       "      <th>3</th>\n",
       "      <td>Ayrton Senna</td>\n",
       "      <td>Brazil</td>\n",
       "      <td>4</td>\n",
       "      <td>Not Listed</td>\n",
       "      <td>Auto Racing</td>\n",
       "      <td>1990</td>\n",
       "      <td>10.0</td>\n",
       "    </tr>\n",
       "    <tr>\n",
       "      <th>4</th>\n",
       "      <td>Alain Prost</td>\n",
       "      <td>France</td>\n",
       "      <td>5</td>\n",
       "      <td>Not Listed</td>\n",
       "      <td>Auto Racing</td>\n",
       "      <td>1990</td>\n",
       "      <td>9.0</td>\n",
       "    </tr>\n",
       "  </tbody>\n",
       "</table>\n",
       "</div>"
      ],
      "text/plain": [
       "                Name Nationality  Current Rank Previous Year Rank  \\\n",
       "0         Mike Tyson         USA             1         Not Listed   \n",
       "1     Buster Douglas         USA             2         Not Listed   \n",
       "2  Sugar Ray Leonard         USA             3         Not Listed   \n",
       "3       Ayrton Senna      Brazil             4         Not Listed   \n",
       "4        Alain Prost      France             5         Not Listed   \n",
       "\n",
       "         Sport  Year  earnings ($ million)  \n",
       "0       Boxing  1990                  28.6  \n",
       "1       Boxing  1990                  26.0  \n",
       "2       Boxing  1990                  13.0  \n",
       "3  Auto Racing  1990                  10.0  \n",
       "4  Auto Racing  1990                   9.0  "
      ]
     },
     "execution_count": 3,
     "metadata": {},
     "output_type": "execute_result"
    }
   ],
   "source": [
    "df.head()"
   ]
  },
  {
   "cell_type": "code",
   "execution_count": 6,
   "metadata": {
    "ExecuteTime": {
     "end_time": "2020-11-26T12:21:59.906131Z",
     "start_time": "2020-11-26T12:21:59.900113Z"
    }
   },
   "outputs": [
    {
     "data": {
      "text/plain": [
       "Name                    0\n",
       "Nationality             0\n",
       "Current Rank            0\n",
       "Previous Year Rank      0\n",
       "Sport                   0\n",
       "Year                    0\n",
       "earnings ($ million)    0\n",
       "dtype: int64"
      ]
     },
     "execution_count": 6,
     "metadata": {},
     "output_type": "execute_result"
    }
   ],
   "source": [
    "df.isnull().sum()"
   ]
  },
  {
   "cell_type": "code",
   "execution_count": 7,
   "metadata": {
    "ExecuteTime": {
     "end_time": "2020-11-26T12:22:00.586088Z",
     "start_time": "2020-11-26T12:22:00.579113Z"
    }
   },
   "outputs": [
    {
     "data": {
      "text/plain": [
       "(291, 7)"
      ]
     },
     "execution_count": 7,
     "metadata": {},
     "output_type": "execute_result"
    }
   ],
   "source": [
    "df.shape"
   ]
  },
  {
   "cell_type": "markdown",
   "metadata": {},
   "source": [
    "### Q1. Atheletes from which country have been listed most number of times in the Forbes Richest Athletes from 1990 to 2019?\n",
    "[Hint: use countplot]"
   ]
  },
  {
   "cell_type": "code",
   "execution_count": 43,
   "metadata": {},
   "outputs": [
    {
     "data": {
      "text/html": [
       "<div>\n",
       "<style scoped>\n",
       "    .dataframe tbody tr th:only-of-type {\n",
       "        vertical-align: middle;\n",
       "    }\n",
       "\n",
       "    .dataframe tbody tr th {\n",
       "        vertical-align: top;\n",
       "    }\n",
       "\n",
       "    .dataframe thead th {\n",
       "        text-align: right;\n",
       "    }\n",
       "</style>\n",
       "<table border=\"1\" class=\"dataframe\">\n",
       "  <thead>\n",
       "    <tr style=\"text-align: right;\">\n",
       "      <th></th>\n",
       "      <th>Nationality</th>\n",
       "      <th>count</th>\n",
       "    </tr>\n",
       "  </thead>\n",
       "  <tbody>\n",
       "    <tr>\n",
       "      <th>0</th>\n",
       "      <td>USA</td>\n",
       "      <td>200</td>\n",
       "    </tr>\n",
       "    <tr>\n",
       "      <th>1</th>\n",
       "      <td>Germany</td>\n",
       "      <td>13</td>\n",
       "    </tr>\n",
       "    <tr>\n",
       "      <th>2</th>\n",
       "      <td>UK</td>\n",
       "      <td>13</td>\n",
       "    </tr>\n",
       "    <tr>\n",
       "      <th>3</th>\n",
       "      <td>Switzerland</td>\n",
       "      <td>11</td>\n",
       "    </tr>\n",
       "    <tr>\n",
       "      <th>4</th>\n",
       "      <td>Portugal</td>\n",
       "      <td>9</td>\n",
       "    </tr>\n",
       "    <tr>\n",
       "      <th>5</th>\n",
       "      <td>Argentina</td>\n",
       "      <td>8</td>\n",
       "    </tr>\n",
       "    <tr>\n",
       "      <th>6</th>\n",
       "      <td>Brazil</td>\n",
       "      <td>8</td>\n",
       "    </tr>\n",
       "    <tr>\n",
       "      <th>7</th>\n",
       "      <td>Canada</td>\n",
       "      <td>6</td>\n",
       "    </tr>\n",
       "    <tr>\n",
       "      <th>8</th>\n",
       "      <td>Italy</td>\n",
       "      <td>4</td>\n",
       "    </tr>\n",
       "    <tr>\n",
       "      <th>9</th>\n",
       "      <td>Finland</td>\n",
       "      <td>3</td>\n",
       "    </tr>\n",
       "    <tr>\n",
       "      <th>10</th>\n",
       "      <td>France</td>\n",
       "      <td>3</td>\n",
       "    </tr>\n",
       "    <tr>\n",
       "      <th>11</th>\n",
       "      <td>Philippines</td>\n",
       "      <td>3</td>\n",
       "    </tr>\n",
       "    <tr>\n",
       "      <th>12</th>\n",
       "      <td>Filipino</td>\n",
       "      <td>1</td>\n",
       "    </tr>\n",
       "    <tr>\n",
       "      <th>13</th>\n",
       "      <td>Dominican</td>\n",
       "      <td>1</td>\n",
       "    </tr>\n",
       "    <tr>\n",
       "      <th>14</th>\n",
       "      <td>Ireland</td>\n",
       "      <td>1</td>\n",
       "    </tr>\n",
       "    <tr>\n",
       "      <th>15</th>\n",
       "      <td>Australia</td>\n",
       "      <td>1</td>\n",
       "    </tr>\n",
       "    <tr>\n",
       "      <th>16</th>\n",
       "      <td>Mexico</td>\n",
       "      <td>1</td>\n",
       "    </tr>\n",
       "    <tr>\n",
       "      <th>17</th>\n",
       "      <td>Northern Ireland</td>\n",
       "      <td>1</td>\n",
       "    </tr>\n",
       "    <tr>\n",
       "      <th>18</th>\n",
       "      <td>Russia</td>\n",
       "      <td>1</td>\n",
       "    </tr>\n",
       "    <tr>\n",
       "      <th>19</th>\n",
       "      <td>Serbia</td>\n",
       "      <td>1</td>\n",
       "    </tr>\n",
       "    <tr>\n",
       "      <th>20</th>\n",
       "      <td>Spain</td>\n",
       "      <td>1</td>\n",
       "    </tr>\n",
       "    <tr>\n",
       "      <th>21</th>\n",
       "      <td>Austria</td>\n",
       "      <td>1</td>\n",
       "    </tr>\n",
       "  </tbody>\n",
       "</table>\n",
       "</div>"
      ],
      "text/plain": [
       "         Nationality count\n",
       "0                USA   200\n",
       "1            Germany    13\n",
       "2                 UK    13\n",
       "3        Switzerland    11\n",
       "4           Portugal     9\n",
       "5          Argentina     8\n",
       "6             Brazil     8\n",
       "7             Canada     6\n",
       "8              Italy     4\n",
       "9            Finland     3\n",
       "10            France     3\n",
       "11       Philippines     3\n",
       "12          Filipino     1\n",
       "13         Dominican     1\n",
       "14           Ireland     1\n",
       "15         Australia     1\n",
       "16            Mexico     1\n",
       "17  Northern Ireland     1\n",
       "18            Russia     1\n",
       "19            Serbia     1\n",
       "20             Spain     1\n",
       "21           Austria     1"
      ]
     },
     "execution_count": 43,
     "metadata": {},
     "output_type": "execute_result"
    }
   ],
   "source": [
    "#by using logics:\n",
    "df.groupby('Nationality')['Name'].describe(include='all').sort_values(by='count',ascending=False).reset_index()[['Nationality','count']]"
   ]
  },
  {
   "cell_type": "code",
   "execution_count": 41,
   "metadata": {},
   "outputs": [],
   "source": [
    "#from count column and 1st row, it is evident that USA has maximum representations"
   ]
  },
  {
   "cell_type": "code",
   "execution_count": 24,
   "metadata": {},
   "outputs": [
    {
     "data": {
      "image/png": "[encoded data removed]",
      "text/plain": [
       "<Figure size 432x288 with 1 Axes>"
      ]
     },
     "metadata": {
      "needs_background": "light"
     },
     "output_type": "display_data"
    }
   ],
   "source": [
    "# or by countplot\n",
    "sns.countplot(df['Nationality'])\n",
    "plt.xticks(rotation=90)\n",
    "plt.show()"
   ]
  },
  {
   "cell_type": "markdown",
   "metadata": {},
   "source": [
    "### Q2. Make a plot visualizing year wise top earning (rank-1) athletes. In which year the rank 1 athlete earned the most? Which was the athlete who earned the most and what sport did he play? How much did the athlete earn?\n",
    "[hint : use barplot]"
   ]
  },
  {
   "cell_type": "code",
   "execution_count": 32,
   "metadata": {},
   "outputs": [
    {
     "data": {
      "text/html": [
       "<div>\n",
       "<style scoped>\n",
       "    .dataframe tbody tr th:only-of-type {\n",
       "        vertical-align: middle;\n",
       "    }\n",
       "\n",
       "    .dataframe tbody tr th {\n",
       "        vertical-align: top;\n",
       "    }\n",
       "\n",
       "    .dataframe thead th {\n",
       "        text-align: right;\n",
       "    }\n",
       "</style>\n",
       "<table border=\"1\" class=\"dataframe\">\n",
       "  <thead>\n",
       "    <tr style=\"text-align: right;\">\n",
       "      <th></th>\n",
       "      <th>Name</th>\n",
       "      <th>Nationality</th>\n",
       "      <th>Current Rank</th>\n",
       "      <th>Previous Year Rank</th>\n",
       "      <th>Sport</th>\n",
       "      <th>Year</th>\n",
       "      <th>earnings ($ million)</th>\n",
       "    </tr>\n",
       "  </thead>\n",
       "  <tbody>\n",
       "    <tr>\n",
       "      <th>0</th>\n",
       "      <td>Mike Tyson</td>\n",
       "      <td>USA</td>\n",
       "      <td>1</td>\n",
       "      <td>Not Listed</td>\n",
       "      <td>Boxing</td>\n",
       "      <td>1990</td>\n",
       "      <td>28.6</td>\n",
       "    </tr>\n",
       "    <tr>\n",
       "      <th>10</th>\n",
       "      <td>Evander Holyfield</td>\n",
       "      <td>USA</td>\n",
       "      <td>1</td>\n",
       "      <td>8</td>\n",
       "      <td>Boxing</td>\n",
       "      <td>1991</td>\n",
       "      <td>60.5</td>\n",
       "    </tr>\n",
       "    <tr>\n",
       "      <th>20</th>\n",
       "      <td>Michael Jordan</td>\n",
       "      <td>USA</td>\n",
       "      <td>1</td>\n",
       "      <td>3</td>\n",
       "      <td>Basketball</td>\n",
       "      <td>1992</td>\n",
       "      <td>35.9</td>\n",
       "    </tr>\n",
       "    <tr>\n",
       "      <th>30</th>\n",
       "      <td>Michael Jordan</td>\n",
       "      <td>USA</td>\n",
       "      <td>1</td>\n",
       "      <td>1</td>\n",
       "      <td>Basketball</td>\n",
       "      <td>1993</td>\n",
       "      <td>36.0</td>\n",
       "    </tr>\n",
       "    <tr>\n",
       "      <th>40</th>\n",
       "      <td>Michael Jordan</td>\n",
       "      <td>USA</td>\n",
       "      <td>1</td>\n",
       "      <td>1</td>\n",
       "      <td>Basketball</td>\n",
       "      <td>1994</td>\n",
       "      <td>30.0</td>\n",
       "    </tr>\n",
       "    <tr>\n",
       "      <th>50</th>\n",
       "      <td>Michael Jordan</td>\n",
       "      <td>USA</td>\n",
       "      <td>1</td>\n",
       "      <td>1</td>\n",
       "      <td>Basketball</td>\n",
       "      <td>1995</td>\n",
       "      <td>43.9</td>\n",
       "    </tr>\n",
       "    <tr>\n",
       "      <th>60</th>\n",
       "      <td>Mike Tyson</td>\n",
       "      <td>USA</td>\n",
       "      <td>1</td>\n",
       "      <td>2</td>\n",
       "      <td>Boxing</td>\n",
       "      <td>1996</td>\n",
       "      <td>75.0</td>\n",
       "    </tr>\n",
       "    <tr>\n",
       "      <th>70</th>\n",
       "      <td>Michael Jordan</td>\n",
       "      <td>USA</td>\n",
       "      <td>1</td>\n",
       "      <td>2</td>\n",
       "      <td>Basketball</td>\n",
       "      <td>1997</td>\n",
       "      <td>78.3</td>\n",
       "    </tr>\n",
       "    <tr>\n",
       "      <th>80</th>\n",
       "      <td>Michael Jordan</td>\n",
       "      <td>USA</td>\n",
       "      <td>1</td>\n",
       "      <td>Not Listed</td>\n",
       "      <td>Basketball</td>\n",
       "      <td>1998</td>\n",
       "      <td>69.0</td>\n",
       "    </tr>\n",
       "    <tr>\n",
       "      <th>90</th>\n",
       "      <td>Michael Schumacher</td>\n",
       "      <td>Germany</td>\n",
       "      <td>1</td>\n",
       "      <td>2</td>\n",
       "      <td>Auto Racing</td>\n",
       "      <td>1999</td>\n",
       "      <td>49.0</td>\n",
       "    </tr>\n",
       "    <tr>\n",
       "      <th>100</th>\n",
       "      <td>Michael Schumacher</td>\n",
       "      <td>Germany</td>\n",
       "      <td>1</td>\n",
       "      <td>1</td>\n",
       "      <td>Auto Racing</td>\n",
       "      <td>2000</td>\n",
       "      <td>59.0</td>\n",
       "    </tr>\n",
       "    <tr>\n",
       "      <th>110</th>\n",
       "      <td>Tiger Woods</td>\n",
       "      <td>USA</td>\n",
       "      <td>1</td>\n",
       "      <td>2</td>\n",
       "      <td>Golf</td>\n",
       "      <td>2002</td>\n",
       "      <td>69.0</td>\n",
       "    </tr>\n",
       "    <tr>\n",
       "      <th>121</th>\n",
       "      <td>Tiger Woods</td>\n",
       "      <td>USA</td>\n",
       "      <td>1</td>\n",
       "      <td>1</td>\n",
       "      <td>Golf</td>\n",
       "      <td>2003</td>\n",
       "      <td>78.0</td>\n",
       "    </tr>\n",
       "    <tr>\n",
       "      <th>131</th>\n",
       "      <td>Tiger Woods</td>\n",
       "      <td>USA</td>\n",
       "      <td>1</td>\n",
       "      <td>1</td>\n",
       "      <td>Golf</td>\n",
       "      <td>2004</td>\n",
       "      <td>80.3</td>\n",
       "    </tr>\n",
       "    <tr>\n",
       "      <th>141</th>\n",
       "      <td>Tiger Woods</td>\n",
       "      <td>USA</td>\n",
       "      <td>1</td>\n",
       "      <td>1</td>\n",
       "      <td>Golf</td>\n",
       "      <td>2005</td>\n",
       "      <td>87.0</td>\n",
       "    </tr>\n",
       "    <tr>\n",
       "      <th>151</th>\n",
       "      <td>Tiger Woods</td>\n",
       "      <td>USA</td>\n",
       "      <td>1</td>\n",
       "      <td>1</td>\n",
       "      <td>Golf</td>\n",
       "      <td>2006</td>\n",
       "      <td>90.0</td>\n",
       "    </tr>\n",
       "    <tr>\n",
       "      <th>161</th>\n",
       "      <td>Tiger Woods</td>\n",
       "      <td>USA</td>\n",
       "      <td>1</td>\n",
       "      <td>1</td>\n",
       "      <td>Golf</td>\n",
       "      <td>2007</td>\n",
       "      <td>100.0</td>\n",
       "    </tr>\n",
       "    <tr>\n",
       "      <th>171</th>\n",
       "      <td>Tiger Woods</td>\n",
       "      <td>USA</td>\n",
       "      <td>1</td>\n",
       "      <td>1</td>\n",
       "      <td>Golf</td>\n",
       "      <td>2008</td>\n",
       "      <td>115.0</td>\n",
       "    </tr>\n",
       "    <tr>\n",
       "      <th>181</th>\n",
       "      <td>Tiger Woods</td>\n",
       "      <td>USA</td>\n",
       "      <td>1</td>\n",
       "      <td>1</td>\n",
       "      <td>Golf</td>\n",
       "      <td>2009</td>\n",
       "      <td>110.0</td>\n",
       "    </tr>\n",
       "    <tr>\n",
       "      <th>191</th>\n",
       "      <td>Tiger Woods</td>\n",
       "      <td>USA</td>\n",
       "      <td>1</td>\n",
       "      <td>1</td>\n",
       "      <td>Golf</td>\n",
       "      <td>2010</td>\n",
       "      <td>105.0</td>\n",
       "    </tr>\n",
       "    <tr>\n",
       "      <th>201</th>\n",
       "      <td>Tiger Woods</td>\n",
       "      <td>USA</td>\n",
       "      <td>1</td>\n",
       "      <td>1</td>\n",
       "      <td>Golf</td>\n",
       "      <td>2011</td>\n",
       "      <td>75.0</td>\n",
       "    </tr>\n",
       "    <tr>\n",
       "      <th>211</th>\n",
       "      <td>Floyd Mayweather</td>\n",
       "      <td>USA</td>\n",
       "      <td>1</td>\n",
       "      <td>Not Listed</td>\n",
       "      <td>Boxing</td>\n",
       "      <td>2012</td>\n",
       "      <td>85.0</td>\n",
       "    </tr>\n",
       "    <tr>\n",
       "      <th>221</th>\n",
       "      <td>Tiger Woods</td>\n",
       "      <td>USA</td>\n",
       "      <td>1</td>\n",
       "      <td>3</td>\n",
       "      <td>Golf</td>\n",
       "      <td>2013</td>\n",
       "      <td>78.1</td>\n",
       "    </tr>\n",
       "    <tr>\n",
       "      <th>231</th>\n",
       "      <td>Floyd Mayweather</td>\n",
       "      <td>USA</td>\n",
       "      <td>1</td>\n",
       "      <td>&gt;10</td>\n",
       "      <td>Boxing</td>\n",
       "      <td>2014</td>\n",
       "      <td>105.0</td>\n",
       "    </tr>\n",
       "    <tr>\n",
       "      <th>241</th>\n",
       "      <td>Floyd Mayweather</td>\n",
       "      <td>USA</td>\n",
       "      <td>1</td>\n",
       "      <td>1</td>\n",
       "      <td>Boxing</td>\n",
       "      <td>2015</td>\n",
       "      <td>300.0</td>\n",
       "    </tr>\n",
       "    <tr>\n",
       "      <th>251</th>\n",
       "      <td>Cristiano Ronaldo</td>\n",
       "      <td>Portugal</td>\n",
       "      <td>1</td>\n",
       "      <td>3</td>\n",
       "      <td>Soccer</td>\n",
       "      <td>2016</td>\n",
       "      <td>88.0</td>\n",
       "    </tr>\n",
       "    <tr>\n",
       "      <th>261</th>\n",
       "      <td>Cristiano Ronaldo</td>\n",
       "      <td>Portugal</td>\n",
       "      <td>1</td>\n",
       "      <td>1</td>\n",
       "      <td>Soccer</td>\n",
       "      <td>2017</td>\n",
       "      <td>93.0</td>\n",
       "    </tr>\n",
       "    <tr>\n",
       "      <th>271</th>\n",
       "      <td>Floyd Mayweather</td>\n",
       "      <td>USA</td>\n",
       "      <td>1</td>\n",
       "      <td>&gt;10</td>\n",
       "      <td>Boxing</td>\n",
       "      <td>2018</td>\n",
       "      <td>285.0</td>\n",
       "    </tr>\n",
       "    <tr>\n",
       "      <th>281</th>\n",
       "      <td>Lionel Messi</td>\n",
       "      <td>Argentina</td>\n",
       "      <td>1</td>\n",
       "      <td>2</td>\n",
       "      <td>Soccer</td>\n",
       "      <td>2019</td>\n",
       "      <td>127.0</td>\n",
       "    </tr>\n",
       "  </tbody>\n",
       "</table>\n",
       "</div>"
      ],
      "text/plain": [
       "                   Name Nationality  Current Rank Previous Year Rank  \\\n",
       "0            Mike Tyson         USA             1         Not Listed   \n",
       "10    Evander Holyfield         USA             1                  8   \n",
       "20       Michael Jordan         USA             1                  3   \n",
       "30       Michael Jordan         USA             1                  1   \n",
       "40       Michael Jordan         USA             1                  1   \n",
       "50       Michael Jordan         USA             1                  1   \n",
       "60           Mike Tyson         USA             1                  2   \n",
       "70       Michael Jordan         USA             1                  2   \n",
       "80       Michael Jordan         USA             1         Not Listed   \n",
       "90   Michael Schumacher     Germany             1                  2   \n",
       "100  Michael Schumacher     Germany             1                  1   \n",
       "110         Tiger Woods         USA             1                  2   \n",
       "121         Tiger Woods         USA             1                  1   \n",
       "131         Tiger Woods         USA             1                  1   \n",
       "141         Tiger Woods         USA             1                  1   \n",
       "151         Tiger Woods         USA             1                  1   \n",
       "161         Tiger Woods         USA             1                  1   \n",
       "171         Tiger Woods         USA             1                  1   \n",
       "181         Tiger Woods         USA             1                  1   \n",
       "191         Tiger Woods         USA             1                  1   \n",
       "201         Tiger Woods         USA             1                  1   \n",
       "211    Floyd Mayweather         USA             1         Not Listed   \n",
       "221         Tiger Woods         USA             1                  3   \n",
       "231    Floyd Mayweather         USA             1                >10   \n",
       "241    Floyd Mayweather         USA             1                  1   \n",
       "251   Cristiano Ronaldo    Portugal             1                  3   \n",
       "261   Cristiano Ronaldo    Portugal             1                  1   \n",
       "271    Floyd Mayweather         USA             1                >10   \n",
       "281        Lionel Messi   Argentina             1                  2   \n",
       "\n",
       "           Sport  Year  earnings ($ million)  \n",
       "0         Boxing  1990                  28.6  \n",
       "10        Boxing  1991                  60.5  \n",
       "20    Basketball  1992                  35.9  \n",
       "30    Basketball  1993                  36.0  \n",
       "40    Basketball  1994                  30.0  \n",
       "50    Basketball  1995                  43.9  \n",
       "60        Boxing  1996                  75.0  \n",
       "70    Basketball  1997                  78.3  \n",
       "80    Basketball  1998                  69.0  \n",
       "90   Auto Racing  1999                  49.0  \n",
       "100  Auto Racing  2000                  59.0  \n",
       "110         Golf  2002                  69.0  \n",
       "121         Golf  2003                  78.0  \n",
       "131         Golf  2004                  80.3  \n",
       "141         Golf  2005                  87.0  \n",
       "151         Golf  2006                  90.0  \n",
       "161         Golf  2007                 100.0  \n",
       "171         Golf  2008                 115.0  \n",
       "181         Golf  2009                 110.0  \n",
       "191         Golf  2010                 105.0  \n",
       "201         Golf  2011                  75.0  \n",
       "211       Boxing  2012                  85.0  \n",
       "221         Golf  2013                  78.1  \n",
       "231       Boxing  2014                 105.0  \n",
       "241       Boxing  2015                 300.0  \n",
       "251       Soccer  2016                  88.0  \n",
       "261       Soccer  2017                  93.0  \n",
       "271       Boxing  2018                 285.0  \n",
       "281       Soccer  2019                 127.0  "
      ]
     },
     "execution_count": 32,
     "metadata": {},
     "output_type": "execute_result"
    }
   ],
   "source": [
    "df1=df[df['Current Rank']==1].sort_values(by='Year')\n",
    "df1['Year']"
   ]
  },
  {
   "cell_type": "code",
   "execution_count": 41,
   "metadata": {},
   "outputs": [
    {
     "data": {
      "image/png": "[encoded data removed]",
      "text/plain": [
       "<Figure size 432x288 with 1 Axes>"
      ]
     },
     "metadata": {
      "needs_background": "light"
     },
     "output_type": "display_data"
    }
   ],
   "source": [
    "sns.barplot(y=df1['earnings ($ million)'],x=df1['Year'])\n",
    "plt.xticks(rotation=90)\n",
    "plt.show()"
   ]
  },
  {
   "cell_type": "code",
   "execution_count": 44,
   "metadata": {},
   "outputs": [
    {
     "data": {
      "text/html": [
       "<div>\n",
       "<style scoped>\n",
       "    .dataframe tbody tr th:only-of-type {\n",
       "        vertical-align: middle;\n",
       "    }\n",
       "\n",
       "    .dataframe tbody tr th {\n",
       "        vertical-align: top;\n",
       "    }\n",
       "\n",
       "    .dataframe thead th {\n",
       "        text-align: right;\n",
       "    }\n",
       "</style>\n",
       "<table border=\"1\" class=\"dataframe\">\n",
       "  <thead>\n",
       "    <tr style=\"text-align: right;\">\n",
       "      <th></th>\n",
       "      <th>Name</th>\n",
       "      <th>Nationality</th>\n",
       "      <th>Current Rank</th>\n",
       "      <th>Previous Year Rank</th>\n",
       "      <th>Sport</th>\n",
       "      <th>Year</th>\n",
       "      <th>earnings ($ million)</th>\n",
       "    </tr>\n",
       "  </thead>\n",
       "  <tbody>\n",
       "    <tr>\n",
       "      <th>241</th>\n",
       "      <td>Floyd Mayweather</td>\n",
       "      <td>USA</td>\n",
       "      <td>1</td>\n",
       "      <td>1</td>\n",
       "      <td>Boxing</td>\n",
       "      <td>2015</td>\n",
       "      <td>300.0</td>\n",
       "    </tr>\n",
       "  </tbody>\n",
       "</table>\n",
       "</div>"
      ],
      "text/plain": [
       "                 Name Nationality  Current Rank Previous Year Rank   Sport  \\\n",
       "241  Floyd Mayweather         USA             1                  1  Boxing   \n",
       "\n",
       "     Year  earnings ($ million)  \n",
       "241  2015                 300.0  "
      ]
     },
     "execution_count": 44,
     "metadata": {},
     "output_type": "execute_result"
    }
   ],
   "source": [
    "df1[df1.Year==2015]"
   ]
  },
  {
   "cell_type": "code",
   "execution_count": 46,
   "metadata": {},
   "outputs": [
    {
     "data": {
      "text/html": [
       "<div>\n",
       "<style scoped>\n",
       "    .dataframe tbody tr th:only-of-type {\n",
       "        vertical-align: middle;\n",
       "    }\n",
       "\n",
       "    .dataframe tbody tr th {\n",
       "        vertical-align: top;\n",
       "    }\n",
       "\n",
       "    .dataframe thead th {\n",
       "        text-align: right;\n",
       "    }\n",
       "</style>\n",
       "<table border=\"1\" class=\"dataframe\">\n",
       "  <thead>\n",
       "    <tr style=\"text-align: right;\">\n",
       "      <th></th>\n",
       "      <th>Name</th>\n",
       "      <th>Nationality</th>\n",
       "      <th>Current Rank</th>\n",
       "      <th>Previous Year Rank</th>\n",
       "      <th>Sport</th>\n",
       "      <th>Year</th>\n",
       "      <th>earnings ($ million)</th>\n",
       "    </tr>\n",
       "  </thead>\n",
       "  <tbody>\n",
       "    <tr>\n",
       "      <th>241</th>\n",
       "      <td>Floyd Mayweather</td>\n",
       "      <td>USA</td>\n",
       "      <td>1</td>\n",
       "      <td>1</td>\n",
       "      <td>Boxing</td>\n",
       "      <td>2015</td>\n",
       "      <td>300.0</td>\n",
       "    </tr>\n",
       "  </tbody>\n",
       "</table>\n",
       "</div>"
      ],
      "text/plain": [
       "                 Name Nationality  Current Rank Previous Year Rank   Sport  \\\n",
       "241  Floyd Mayweather         USA             1                  1  Boxing   \n",
       "\n",
       "     Year  earnings ($ million)  \n",
       "241  2015                 300.0  "
      ]
     },
     "execution_count": 46,
     "metadata": {},
     "output_type": "execute_result"
    }
   ],
   "source": [
    "#or by logic\n",
    "df[df['Current Rank']==1].sort_values(by='earnings ($ million)',ascending=False).head(1)"
   ]
  },
  {
   "cell_type": "markdown",
   "metadata": {},
   "source": [
    "### Q3. Which athlete has been most frequently ranked number 1 from 1990 to 2019? \n",
    "[Hint : use piechart]"
   ]
  },
  {
   "cell_type": "code",
   "execution_count": 62,
   "metadata": {},
   "outputs": [
    {
     "data": {
      "text/html": [
       "<div>\n",
       "<style scoped>\n",
       "    .dataframe tbody tr th:only-of-type {\n",
       "        vertical-align: middle;\n",
       "    }\n",
       "\n",
       "    .dataframe tbody tr th {\n",
       "        vertical-align: top;\n",
       "    }\n",
       "\n",
       "    .dataframe thead th {\n",
       "        text-align: right;\n",
       "    }\n",
       "</style>\n",
       "<table border=\"1\" class=\"dataframe\">\n",
       "  <thead>\n",
       "    <tr style=\"text-align: right;\">\n",
       "      <th></th>\n",
       "      <th>index</th>\n",
       "      <th>Name</th>\n",
       "    </tr>\n",
       "  </thead>\n",
       "  <tbody>\n",
       "    <tr>\n",
       "      <th>0</th>\n",
       "      <td>Tiger Woods</td>\n",
       "      <td>11</td>\n",
       "    </tr>\n",
       "    <tr>\n",
       "      <th>1</th>\n",
       "      <td>Michael Jordan</td>\n",
       "      <td>6</td>\n",
       "    </tr>\n",
       "    <tr>\n",
       "      <th>2</th>\n",
       "      <td>Floyd Mayweather</td>\n",
       "      <td>4</td>\n",
       "    </tr>\n",
       "    <tr>\n",
       "      <th>3</th>\n",
       "      <td>Mike Tyson</td>\n",
       "      <td>2</td>\n",
       "    </tr>\n",
       "    <tr>\n",
       "      <th>4</th>\n",
       "      <td>Cristiano Ronaldo</td>\n",
       "      <td>2</td>\n",
       "    </tr>\n",
       "    <tr>\n",
       "      <th>5</th>\n",
       "      <td>Michael Schumacher</td>\n",
       "      <td>2</td>\n",
       "    </tr>\n",
       "    <tr>\n",
       "      <th>6</th>\n",
       "      <td>Lionel Messi</td>\n",
       "      <td>1</td>\n",
       "    </tr>\n",
       "    <tr>\n",
       "      <th>7</th>\n",
       "      <td>Evander Holyfield</td>\n",
       "      <td>1</td>\n",
       "    </tr>\n",
       "  </tbody>\n",
       "</table>\n",
       "</div>"
      ],
      "text/plain": [
       "                index  Name\n",
       "0         Tiger Woods    11\n",
       "1      Michael Jordan     6\n",
       "2    Floyd Mayweather     4\n",
       "3          Mike Tyson     2\n",
       "4   Cristiano Ronaldo     2\n",
       "5  Michael Schumacher     2\n",
       "6        Lionel Messi     1\n",
       "7   Evander Holyfield     1"
      ]
     },
     "execution_count": 62,
     "metadata": {},
     "output_type": "execute_result"
    }
   ],
   "source": [
    "#by logic\n",
    "df1=pd.DataFrame(df[(df['Current Rank']==1)&(df.Year>1989)&(df.Year<2020)]['Name'].value_counts().reset_index())\n",
    "df1"
   ]
  },
  {
   "cell_type": "code",
   "execution_count": 3,
   "metadata": {},
   "outputs": [
    {
     "data": {
      "text/html": [
       "<div>\n",
       "<style scoped>\n",
       "    .dataframe tbody tr th:only-of-type {\n",
       "        vertical-align: middle;\n",
       "    }\n",
       "\n",
       "    .dataframe tbody tr th {\n",
       "        vertical-align: top;\n",
       "    }\n",
       "\n",
       "    .dataframe thead th {\n",
       "        text-align: right;\n",
       "    }\n",
       "</style>\n",
       "<table border=\"1\" class=\"dataframe\">\n",
       "  <thead>\n",
       "    <tr style=\"text-align: right;\">\n",
       "      <th></th>\n",
       "      <th>Nationality</th>\n",
       "      <th>Current Rank</th>\n",
       "      <th>Previous Year Rank</th>\n",
       "      <th>Sport</th>\n",
       "      <th>Year</th>\n",
       "      <th>earnings ($ million)</th>\n",
       "    </tr>\n",
       "    <tr>\n",
       "      <th>Name</th>\n",
       "      <th></th>\n",
       "      <th></th>\n",
       "      <th></th>\n",
       "      <th></th>\n",
       "      <th></th>\n",
       "      <th></th>\n",
       "    </tr>\n",
       "  </thead>\n",
       "  <tbody>\n",
       "    <tr>\n",
       "      <th>Evander Holyfield</th>\n",
       "      <td>1</td>\n",
       "      <td>1</td>\n",
       "      <td>1</td>\n",
       "      <td>1</td>\n",
       "      <td>1</td>\n",
       "      <td>1</td>\n",
       "    </tr>\n",
       "    <tr>\n",
       "      <th>Lionel Messi</th>\n",
       "      <td>1</td>\n",
       "      <td>1</td>\n",
       "      <td>1</td>\n",
       "      <td>1</td>\n",
       "      <td>1</td>\n",
       "      <td>1</td>\n",
       "    </tr>\n",
       "    <tr>\n",
       "      <th>Cristiano Ronaldo</th>\n",
       "      <td>1</td>\n",
       "      <td>1</td>\n",
       "      <td>2</td>\n",
       "      <td>1</td>\n",
       "      <td>2</td>\n",
       "      <td>2</td>\n",
       "    </tr>\n",
       "    <tr>\n",
       "      <th>Michael Schumacher</th>\n",
       "      <td>1</td>\n",
       "      <td>1</td>\n",
       "      <td>2</td>\n",
       "      <td>1</td>\n",
       "      <td>2</td>\n",
       "      <td>2</td>\n",
       "    </tr>\n",
       "    <tr>\n",
       "      <th>Mike Tyson</th>\n",
       "      <td>1</td>\n",
       "      <td>1</td>\n",
       "      <td>2</td>\n",
       "      <td>1</td>\n",
       "      <td>2</td>\n",
       "      <td>2</td>\n",
       "    </tr>\n",
       "    <tr>\n",
       "      <th>Floyd Mayweather</th>\n",
       "      <td>1</td>\n",
       "      <td>1</td>\n",
       "      <td>3</td>\n",
       "      <td>1</td>\n",
       "      <td>4</td>\n",
       "      <td>4</td>\n",
       "    </tr>\n",
       "    <tr>\n",
       "      <th>Michael Jordan</th>\n",
       "      <td>1</td>\n",
       "      <td>1</td>\n",
       "      <td>4</td>\n",
       "      <td>1</td>\n",
       "      <td>6</td>\n",
       "      <td>6</td>\n",
       "    </tr>\n",
       "    <tr>\n",
       "      <th>Tiger Woods</th>\n",
       "      <td>1</td>\n",
       "      <td>1</td>\n",
       "      <td>3</td>\n",
       "      <td>1</td>\n",
       "      <td>11</td>\n",
       "      <td>11</td>\n",
       "    </tr>\n",
       "  </tbody>\n",
       "</table>\n",
       "</div>"
      ],
      "text/plain": [
       "                    Nationality  Current Rank  Previous Year Rank  Sport  \\\n",
       "Name                                                                       \n",
       "Evander Holyfield             1             1                   1      1   \n",
       "Lionel Messi                  1             1                   1      1   \n",
       "Cristiano Ronaldo             1             1                   2      1   \n",
       "Michael Schumacher            1             1                   2      1   \n",
       "Mike Tyson                    1             1                   2      1   \n",
       "Floyd Mayweather              1             1                   3      1   \n",
       "Michael Jordan                1             1                   4      1   \n",
       "Tiger Woods                   1             1                   3      1   \n",
       "\n",
       "                    Year  earnings ($ million)  \n",
       "Name                                            \n",
       "Evander Holyfield      1                     1  \n",
       "Lionel Messi           1                     1  \n",
       "Cristiano Ronaldo      2                     2  \n",
       "Michael Schumacher     2                     2  \n",
       "Mike Tyson             2                     2  \n",
       "Floyd Mayweather       4                     4  \n",
       "Michael Jordan         6                     6  \n",
       "Tiger Woods           11                    11  "
      ]
     },
     "execution_count": 3,
     "metadata": {},
     "output_type": "execute_result"
    }
   ],
   "source": [
    "#another logic\n",
    "df2=pd.DataFrame(df[(df.Year>1989)&(df.Year<2020)&(df['Current Rank']==1)].groupby('Name').nunique().sort_values(by='Year'))\n",
    "df2"
   ]
  },
  {
   "cell_type": "code",
   "execution_count": 59,
   "metadata": {},
   "outputs": [],
   "source": [
    "#answer Tiger Woods"
   ]
  },
  {
   "cell_type": "code",
   "execution_count": 72,
   "metadata": {},
   "outputs": [
    {
     "data": {
      "image/png": "[encoded data removed]",
      "text/plain": [
       "<Figure size 432x288 with 1 Axes>"
      ]
     },
     "metadata": {},
     "output_type": "display_data"
    }
   ],
   "source": [
    "#pie chart\n",
    "plt.pie(df1['Name'],labels=df1['index'],autopct='%0.1f%%',explode=[0.05,0.0,0.0,0.0,0.0,0.0,0.0,0.3])\n",
    "plt.show()"
   ]
  },
  {
   "cell_type": "code",
   "execution_count": 73,
   "metadata": {},
   "outputs": [
    {
     "data": {
      "image/png": "[encoded data removed]",
      "text/plain": [
       "<Figure size 432x288 with 1 Axes>"
      ]
     },
     "metadata": {},
     "output_type": "display_data"
    }
   ],
   "source": [
    "#or\n",
    "df1=df[df['Current Rank']==1]\n",
    "df2=pd.DataFrame(df1['Name'].value_counts().reset_index())\n",
    "plt.pie(list(df2['Name']),labels=list(df2['index']),explode=[0.05,0.0,0.0,0.0,0.0,0.0,0.0,0.0],autopct='%0.1f%%')\n",
    "plt.show()"
   ]
  },
  {
   "cell_type": "markdown",
   "metadata": {},
   "source": [
    "### Q4. Players from which 2 sports have been listed least number of times in the Forbes RIchest Athletes List?\n",
    "[Hint : Use swarmplot]"
   ]
  },
  {
   "cell_type": "code",
   "execution_count": 96,
   "metadata": {},
   "outputs": [
    {
     "data": {
      "text/html": [
       "<div>\n",
       "<style scoped>\n",
       "    .dataframe tbody tr th:only-of-type {\n",
       "        vertical-align: middle;\n",
       "    }\n",
       "\n",
       "    .dataframe tbody tr th {\n",
       "        vertical-align: top;\n",
       "    }\n",
       "\n",
       "    .dataframe thead th {\n",
       "        text-align: right;\n",
       "    }\n",
       "</style>\n",
       "<table border=\"1\" class=\"dataframe\">\n",
       "  <thead>\n",
       "    <tr style=\"text-align: right;\">\n",
       "      <th></th>\n",
       "      <th>Sport</th>\n",
       "      <th>Name</th>\n",
       "      <th>earnings ($ million)</th>\n",
       "    </tr>\n",
       "  </thead>\n",
       "  <tbody>\n",
       "    <tr>\n",
       "      <th>0</th>\n",
       "      <td>American Football / Baseball</td>\n",
       "      <td>1</td>\n",
       "      <td>1</td>\n",
       "    </tr>\n",
       "    <tr>\n",
       "      <th>1</th>\n",
       "      <td>MMA</td>\n",
       "      <td>1</td>\n",
       "      <td>1</td>\n",
       "    </tr>\n",
       "    <tr>\n",
       "      <th>2</th>\n",
       "      <td>cycling</td>\n",
       "      <td>1</td>\n",
       "      <td>1</td>\n",
       "    </tr>\n",
       "    <tr>\n",
       "      <th>3</th>\n",
       "      <td>motorcycle gp</td>\n",
       "      <td>1</td>\n",
       "      <td>3</td>\n",
       "    </tr>\n",
       "    <tr>\n",
       "      <th>4</th>\n",
       "      <td>F1 racing</td>\n",
       "      <td>2</td>\n",
       "      <td>13</td>\n",
       "    </tr>\n",
       "    <tr>\n",
       "      <th>5</th>\n",
       "      <td>Baseball</td>\n",
       "      <td>3</td>\n",
       "      <td>6</td>\n",
       "    </tr>\n",
       "    <tr>\n",
       "      <th>6</th>\n",
       "      <td>Ice Hockey</td>\n",
       "      <td>3</td>\n",
       "      <td>4</td>\n",
       "    </tr>\n",
       "    <tr>\n",
       "      <th>7</th>\n",
       "      <td>Soccer</td>\n",
       "      <td>5</td>\n",
       "      <td>29</td>\n",
       "    </tr>\n",
       "    <tr>\n",
       "      <th>8</th>\n",
       "      <td>Tennis</td>\n",
       "      <td>6</td>\n",
       "      <td>22</td>\n",
       "    </tr>\n",
       "    <tr>\n",
       "      <th>9</th>\n",
       "      <td>Golf</td>\n",
       "      <td>8</td>\n",
       "      <td>40</td>\n",
       "    </tr>\n",
       "    <tr>\n",
       "      <th>10</th>\n",
       "      <td>Auto Racing</td>\n",
       "      <td>10</td>\n",
       "      <td>21</td>\n",
       "    </tr>\n",
       "    <tr>\n",
       "      <th>11</th>\n",
       "      <td>Basketball</td>\n",
       "      <td>12</td>\n",
       "      <td>63</td>\n",
       "    </tr>\n",
       "    <tr>\n",
       "      <th>12</th>\n",
       "      <td>Boxing</td>\n",
       "      <td>14</td>\n",
       "      <td>41</td>\n",
       "    </tr>\n",
       "    <tr>\n",
       "      <th>13</th>\n",
       "      <td>American Football</td>\n",
       "      <td>15</td>\n",
       "      <td>18</td>\n",
       "    </tr>\n",
       "  </tbody>\n",
       "</table>\n",
       "</div>"
      ],
      "text/plain": [
       "                           Sport  Name  earnings ($ million)\n",
       "0   American Football / Baseball     1                     1\n",
       "1                            MMA     1                     1\n",
       "2                        cycling     1                     1\n",
       "3                  motorcycle gp     1                     3\n",
       "4                      F1 racing     2                    13\n",
       "5                       Baseball     3                     6\n",
       "6                     Ice Hockey     3                     4\n",
       "7                         Soccer     5                    29\n",
       "8                         Tennis     6                    22\n",
       "9                           Golf     8                    40\n",
       "10                   Auto Racing    10                    21\n",
       "11                    Basketball    12                    63\n",
       "12                        Boxing    14                    41\n",
       "13             American Football    15                    18"
      ]
     },
     "execution_count": 96,
     "metadata": {},
     "output_type": "execute_result"
    }
   ],
   "source": [
    "#by logic\n",
    "df1=pd.DataFrame(df.groupby('Sport').nunique().sort_values(by='Name',ascending=True).reset_index()[['Sport','Name','earnings ($ million)']])\n",
    "df1"
   ]
  },
  {
   "cell_type": "code",
   "execution_count": 90,
   "metadata": {},
   "outputs": [],
   "source": [
    "#As we can see, cycling and MMA are the sports that had the lowest density in terms of number of times players being listed\n",
    "#in Forbes Richest athletes list. American Football/Baseball is not considered in the lowest density as it is not a unique game.\n",
    "#Both these games were played by an athlete in year 1995.As seen in the graph both games uniquely doest not have low density."
   ]
  },
  {
   "cell_type": "code",
   "execution_count": 92,
   "metadata": {},
   "outputs": [
    {
     "data": {
      "text/html": [
       "<div>\n",
       "<style scoped>\n",
       "    .dataframe tbody tr th:only-of-type {\n",
       "        vertical-align: middle;\n",
       "    }\n",
       "\n",
       "    .dataframe tbody tr th {\n",
       "        vertical-align: top;\n",
       "    }\n",
       "\n",
       "    .dataframe thead th {\n",
       "        text-align: right;\n",
       "    }\n",
       "</style>\n",
       "<table border=\"1\" class=\"dataframe\">\n",
       "  <thead>\n",
       "    <tr style=\"text-align: right;\">\n",
       "      <th></th>\n",
       "      <th>Name</th>\n",
       "      <th>Nationality</th>\n",
       "      <th>Current Rank</th>\n",
       "      <th>Previous Year Rank</th>\n",
       "      <th>Sport</th>\n",
       "      <th>Year</th>\n",
       "      <th>earnings ($ million)</th>\n",
       "    </tr>\n",
       "  </thead>\n",
       "  <tbody>\n",
       "    <tr>\n",
       "      <th>52</th>\n",
       "      <td>Deion Sanders</td>\n",
       "      <td>USA</td>\n",
       "      <td>3</td>\n",
       "      <td>&gt;10</td>\n",
       "      <td>American Football / Baseball</td>\n",
       "      <td>1995</td>\n",
       "      <td>22.5</td>\n",
       "    </tr>\n",
       "  </tbody>\n",
       "</table>\n",
       "</div>"
      ],
      "text/plain": [
       "             Name Nationality  Current Rank Previous Year Rank  \\\n",
       "52  Deion Sanders         USA             3                >10   \n",
       "\n",
       "                           Sport  Year  earnings ($ million)  \n",
       "52  American Football / Baseball  1995                  22.5  "
      ]
     },
     "execution_count": 92,
     "metadata": {},
     "output_type": "execute_result"
    }
   ],
   "source": [
    "df[df.Sport=='American Football / Baseball']"
   ]
  },
  {
   "cell_type": "code",
   "execution_count": 94,
   "metadata": {},
   "outputs": [
    {
     "data": {
      "text/html": [
       "<div>\n",
       "<style scoped>\n",
       "    .dataframe tbody tr th:only-of-type {\n",
       "        vertical-align: middle;\n",
       "    }\n",
       "\n",
       "    .dataframe tbody tr th {\n",
       "        vertical-align: top;\n",
       "    }\n",
       "\n",
       "    .dataframe thead th {\n",
       "        text-align: right;\n",
       "    }\n",
       "</style>\n",
       "<table border=\"1\" class=\"dataframe\">\n",
       "  <thead>\n",
       "    <tr style=\"text-align: right;\">\n",
       "      <th></th>\n",
       "      <th>Name</th>\n",
       "      <th>Nationality</th>\n",
       "      <th>Current Rank</th>\n",
       "      <th>Previous Year Rank</th>\n",
       "      <th>Sport</th>\n",
       "      <th>Year</th>\n",
       "      <th>earnings ($ million)</th>\n",
       "    </tr>\n",
       "  </thead>\n",
       "  <tbody>\n",
       "    <tr>\n",
       "      <th>26</th>\n",
       "      <td>Joe Montana</td>\n",
       "      <td>USA</td>\n",
       "      <td>7</td>\n",
       "      <td>&gt;10</td>\n",
       "      <td>American Football</td>\n",
       "      <td>1992</td>\n",
       "      <td>9.5</td>\n",
       "    </tr>\n",
       "    <tr>\n",
       "      <th>39</th>\n",
       "      <td>Joe Montana</td>\n",
       "      <td>USA</td>\n",
       "      <td>10</td>\n",
       "      <td>7</td>\n",
       "      <td>American Football</td>\n",
       "      <td>1993</td>\n",
       "      <td>11.5</td>\n",
       "    </tr>\n",
       "    <tr>\n",
       "      <th>64</th>\n",
       "      <td>Emmit Smith</td>\n",
       "      <td>USA</td>\n",
       "      <td>5</td>\n",
       "      <td>Not Listed</td>\n",
       "      <td>American Football</td>\n",
       "      <td>1996</td>\n",
       "      <td>16.5</td>\n",
       "    </tr>\n",
       "    <tr>\n",
       "      <th>133</th>\n",
       "      <td>Peyton Manning</td>\n",
       "      <td>USA</td>\n",
       "      <td>3</td>\n",
       "      <td>&gt;10</td>\n",
       "      <td>American Football</td>\n",
       "      <td>2004</td>\n",
       "      <td>42.0</td>\n",
       "    </tr>\n",
       "    <tr>\n",
       "      <th>144</th>\n",
       "      <td>Michael Vick</td>\n",
       "      <td>USA</td>\n",
       "      <td>4</td>\n",
       "      <td>&gt;10</td>\n",
       "      <td>American Football</td>\n",
       "      <td>2005</td>\n",
       "      <td>37.5</td>\n",
       "    </tr>\n",
       "    <tr>\n",
       "      <th>160</th>\n",
       "      <td>Tom Brady</td>\n",
       "      <td>USA</td>\n",
       "      <td>9</td>\n",
       "      <td>&gt;10</td>\n",
       "      <td>American Football</td>\n",
       "      <td>2006</td>\n",
       "      <td>29.0</td>\n",
       "    </tr>\n",
       "    <tr>\n",
       "      <th>199</th>\n",
       "      <td>Eli Manning</td>\n",
       "      <td>USA</td>\n",
       "      <td>9</td>\n",
       "      <td>&gt;10</td>\n",
       "      <td>American Football</td>\n",
       "      <td>2010</td>\n",
       "      <td>39.9</td>\n",
       "    </tr>\n",
       "    <tr>\n",
       "      <th>200</th>\n",
       "      <td>Terrell Suggs</td>\n",
       "      <td>USA</td>\n",
       "      <td>10</td>\n",
       "      <td>&gt;10</td>\n",
       "      <td>American Football</td>\n",
       "      <td>2010</td>\n",
       "      <td>38.3</td>\n",
       "    </tr>\n",
       "    <tr>\n",
       "      <th>220</th>\n",
       "      <td>Peyton Manning</td>\n",
       "      <td>USA</td>\n",
       "      <td>10</td>\n",
       "      <td>7</td>\n",
       "      <td>American Football</td>\n",
       "      <td>2012</td>\n",
       "      <td>42.4</td>\n",
       "    </tr>\n",
       "    <tr>\n",
       "      <th>225</th>\n",
       "      <td>Drew Brees</td>\n",
       "      <td>USA</td>\n",
       "      <td>5</td>\n",
       "      <td>Not Listed</td>\n",
       "      <td>American Football</td>\n",
       "      <td>2013</td>\n",
       "      <td>51.0</td>\n",
       "    </tr>\n",
       "    <tr>\n",
       "      <th>226</th>\n",
       "      <td>Aaron Rodgers</td>\n",
       "      <td>USA</td>\n",
       "      <td>6</td>\n",
       "      <td>Not Listed</td>\n",
       "      <td>American Football</td>\n",
       "      <td>2013</td>\n",
       "      <td>49.0</td>\n",
       "    </tr>\n",
       "    <tr>\n",
       "      <th>240</th>\n",
       "      <td>Matt Ryan</td>\n",
       "      <td>USA</td>\n",
       "      <td>10</td>\n",
       "      <td>&gt;10</td>\n",
       "      <td>American Football</td>\n",
       "      <td>2014</td>\n",
       "      <td>43.8</td>\n",
       "    </tr>\n",
       "    <tr>\n",
       "      <th>257</th>\n",
       "      <td>Cam Newton</td>\n",
       "      <td>USA</td>\n",
       "      <td>7</td>\n",
       "      <td>&gt;10</td>\n",
       "      <td>American Football</td>\n",
       "      <td>2016</td>\n",
       "      <td>53.1</td>\n",
       "    </tr>\n",
       "    <tr>\n",
       "      <th>266</th>\n",
       "      <td>Andrew Luck</td>\n",
       "      <td>USA</td>\n",
       "      <td>6</td>\n",
       "      <td>Not Listed</td>\n",
       "      <td>American Football</td>\n",
       "      <td>2017</td>\n",
       "      <td>50.0</td>\n",
       "    </tr>\n",
       "    <tr>\n",
       "      <th>279</th>\n",
       "      <td>Matt Ryan</td>\n",
       "      <td>USA</td>\n",
       "      <td>9</td>\n",
       "      <td>&gt;10</td>\n",
       "      <td>American Football</td>\n",
       "      <td>2018</td>\n",
       "      <td>67.3</td>\n",
       "    </tr>\n",
       "    <tr>\n",
       "      <th>280</th>\n",
       "      <td>Matthew Stafford</td>\n",
       "      <td>USA</td>\n",
       "      <td>10</td>\n",
       "      <td>&gt;10</td>\n",
       "      <td>American Football</td>\n",
       "      <td>2018</td>\n",
       "      <td>59.5</td>\n",
       "    </tr>\n",
       "    <tr>\n",
       "      <th>286</th>\n",
       "      <td>Russell Wilson</td>\n",
       "      <td>USA</td>\n",
       "      <td>6</td>\n",
       "      <td>Not Listed</td>\n",
       "      <td>American Football</td>\n",
       "      <td>2019</td>\n",
       "      <td>89.5</td>\n",
       "    </tr>\n",
       "    <tr>\n",
       "      <th>287</th>\n",
       "      <td>Aaron Rogers</td>\n",
       "      <td>USA</td>\n",
       "      <td>7</td>\n",
       "      <td>Not Listed</td>\n",
       "      <td>American Football</td>\n",
       "      <td>2019</td>\n",
       "      <td>89.3</td>\n",
       "    </tr>\n",
       "  </tbody>\n",
       "</table>\n",
       "</div>"
      ],
      "text/plain": [
       "                 Name Nationality  Current Rank Previous Year Rank  \\\n",
       "26        Joe Montana         USA             7                >10   \n",
       "39        Joe Montana         USA            10                  7   \n",
       "64        Emmit Smith         USA             5         Not Listed   \n",
       "133    Peyton Manning         USA             3                >10   \n",
       "144      Michael Vick         USA             4                >10   \n",
       "160         Tom Brady         USA             9                >10   \n",
       "199       Eli Manning         USA             9                >10   \n",
       "200     Terrell Suggs         USA            10                >10   \n",
       "220    Peyton Manning         USA            10                  7   \n",
       "225        Drew Brees         USA             5         Not Listed   \n",
       "226     Aaron Rodgers         USA             6         Not Listed   \n",
       "240         Matt Ryan         USA            10                >10   \n",
       "257        Cam Newton         USA             7                >10   \n",
       "266       Andrew Luck         USA             6         Not Listed   \n",
       "279         Matt Ryan         USA             9                >10   \n",
       "280  Matthew Stafford         USA            10                >10   \n",
       "286    Russell Wilson         USA             6         Not Listed   \n",
       "287      Aaron Rogers         USA             7         Not Listed   \n",
       "\n",
       "                 Sport  Year  earnings ($ million)  \n",
       "26   American Football  1992                   9.5  \n",
       "39   American Football  1993                  11.5  \n",
       "64   American Football  1996                  16.5  \n",
       "133  American Football  2004                  42.0  \n",
       "144  American Football  2005                  37.5  \n",
       "160  American Football  2006                  29.0  \n",
       "199  American Football  2010                  39.9  \n",
       "200  American Football  2010                  38.3  \n",
       "220  American Football  2012                  42.4  \n",
       "225  American Football  2013                  51.0  \n",
       "226  American Football  2013                  49.0  \n",
       "240  American Football  2014                  43.8  \n",
       "257  American Football  2016                  53.1  \n",
       "266  American Football  2017                  50.0  \n",
       "279  American Football  2018                  67.3  \n",
       "280  American Football  2018                  59.5  \n",
       "286  American Football  2019                  89.5  \n",
       "287  American Football  2019                  89.3  "
      ]
     },
     "execution_count": 94,
     "metadata": {},
     "output_type": "execute_result"
    }
   ],
   "source": [
    "df[df.Sport=='American Football']"
   ]
  },
  {
   "cell_type": "code",
   "execution_count": 97,
   "metadata": {},
   "outputs": [
    {
     "data": {
      "text/html": [
       "<div>\n",
       "<style scoped>\n",
       "    .dataframe tbody tr th:only-of-type {\n",
       "        vertical-align: middle;\n",
       "    }\n",
       "\n",
       "    .dataframe tbody tr th {\n",
       "        vertical-align: top;\n",
       "    }\n",
       "\n",
       "    .dataframe thead th {\n",
       "        text-align: right;\n",
       "    }\n",
       "</style>\n",
       "<table border=\"1\" class=\"dataframe\">\n",
       "  <thead>\n",
       "    <tr style=\"text-align: right;\">\n",
       "      <th></th>\n",
       "      <th>Name</th>\n",
       "      <th>Nationality</th>\n",
       "      <th>Current Rank</th>\n",
       "      <th>Previous Year Rank</th>\n",
       "      <th>Sport</th>\n",
       "      <th>Year</th>\n",
       "      <th>earnings ($ million)</th>\n",
       "    </tr>\n",
       "  </thead>\n",
       "  <tbody>\n",
       "    <tr>\n",
       "      <th>37</th>\n",
       "      <td>Cecil Fielder</td>\n",
       "      <td>USA</td>\n",
       "      <td>8</td>\n",
       "      <td>&gt;10</td>\n",
       "      <td>Baseball</td>\n",
       "      <td>1993</td>\n",
       "      <td>12.7</td>\n",
       "    </tr>\n",
       "    <tr>\n",
       "      <th>89</th>\n",
       "      <td>Gary Sheffield</td>\n",
       "      <td>USA</td>\n",
       "      <td>10</td>\n",
       "      <td>Not Listed</td>\n",
       "      <td>Baseball</td>\n",
       "      <td>1998</td>\n",
       "      <td>17.2</td>\n",
       "    </tr>\n",
       "    <tr>\n",
       "      <th>127</th>\n",
       "      <td>Alex Rodriguez</td>\n",
       "      <td>USA</td>\n",
       "      <td>7</td>\n",
       "      <td>&gt;10</td>\n",
       "      <td>Baseball</td>\n",
       "      <td>2003</td>\n",
       "      <td>26.0</td>\n",
       "    </tr>\n",
       "    <tr>\n",
       "      <th>139</th>\n",
       "      <td>Alex Rodriguez</td>\n",
       "      <td>USA</td>\n",
       "      <td>9</td>\n",
       "      <td>7</td>\n",
       "      <td>Baseball</td>\n",
       "      <td>2004</td>\n",
       "      <td>26.2</td>\n",
       "    </tr>\n",
       "    <tr>\n",
       "      <th>159</th>\n",
       "      <td>Alex Rodriguez</td>\n",
       "      <td>USA</td>\n",
       "      <td>9</td>\n",
       "      <td>&gt;10</td>\n",
       "      <td>Baseball</td>\n",
       "      <td>2006</td>\n",
       "      <td>29.0</td>\n",
       "    </tr>\n",
       "    <tr>\n",
       "      <th>208</th>\n",
       "      <td>Alex Rodriguez</td>\n",
       "      <td>Dominican</td>\n",
       "      <td>8</td>\n",
       "      <td>&gt;10</td>\n",
       "      <td>Baseball</td>\n",
       "      <td>2011</td>\n",
       "      <td>35.0</td>\n",
       "    </tr>\n",
       "  </tbody>\n",
       "</table>\n",
       "</div>"
      ],
      "text/plain": [
       "               Name Nationality  Current Rank Previous Year Rank     Sport  \\\n",
       "37    Cecil Fielder         USA             8                >10  Baseball   \n",
       "89   Gary Sheffield         USA            10         Not Listed  Baseball   \n",
       "127  Alex Rodriguez         USA             7                >10  Baseball   \n",
       "139  Alex Rodriguez         USA             9                  7  Baseball   \n",
       "159  Alex Rodriguez         USA             9                >10  Baseball   \n",
       "208  Alex Rodriguez   Dominican             8                >10  Baseball   \n",
       "\n",
       "     Year  earnings ($ million)  \n",
       "37   1993                  12.7  \n",
       "89   1998                  17.2  \n",
       "127  2003                  26.0  \n",
       "139  2004                  26.2  \n",
       "159  2006                  29.0  \n",
       "208  2011                  35.0  "
      ]
     },
     "execution_count": 97,
     "metadata": {},
     "output_type": "execute_result"
    }
   ],
   "source": [
    "df[df.Sport=='Baseball']"
   ]
  },
  {
   "cell_type": "code",
   "execution_count": 104,
   "metadata": {},
   "outputs": [
    {
     "data": {
      "image/png": "[encoded data removed]",
      "text/plain": [
       "<Figure size 1080x432 with 1 Axes>"
      ]
     },
     "metadata": {
      "needs_background": "light"
     },
     "output_type": "display_data"
    }
   ],
   "source": [
    "#by swarmplot\n",
    "plt.figure(figsize = (15,6))\n",
    "sns.swarmplot(df['Sport'],df['earnings ($ million)'])\n",
    "plt.xticks(rotation=90)\n",
    "plt.show()"
   ]
  },
  {
   "cell_type": "code",
   "execution_count": 105,
   "metadata": {},
   "outputs": [],
   "source": [
    "#As we can see from the the plot, cycling and MMA are the sports that had the lowest density in terms of number of times players\n",
    "#being listed in Forbes Richest athletes list."
   ]
  },
  {
   "cell_type": "code",
   "execution_count": null,
   "metadata": {},
   "outputs": [],
   "source": [
    "#refer above for 'American Football / Baseball'"
   ]
  },
  {
   "cell_type": "markdown",
   "metadata": {},
   "source": [
    "### Q5. Discuss the relationship between Current rank and earnings with the help of a suitable plot.\n",
    "[hint : use regplot]"
   ]
  },
  {
   "cell_type": "code",
   "execution_count": 109,
   "metadata": {},
   "outputs": [
    {
     "data": {
      "text/plain": [
       "<AxesSubplot:xlabel='Current Rank', ylabel='earnings ($ million)'>"
      ]
     },
     "execution_count": 109,
     "metadata": {},
     "output_type": "execute_result"
    },
    {
     "data": {
      "image/png": "[encoded data removed]",
      "text/plain": [
       "<Figure size 1080x432 with 1 Axes>"
      ]
     },
     "metadata": {
      "needs_background": "light"
     },
     "output_type": "display_data"
    }
   ],
   "source": [
    "plt.figure(figsize=(15,6))\n",
    "sns.regplot(df['Current Rank'],df['earnings ($ million)'])"
   ]
  },
  {
   "cell_type": "code",
   "execution_count": null,
   "metadata": {},
   "outputs": [],
   "source": [
    "#As we can see from the plot, as the rank keeps going down, the earnings also keep decreasing."
   ]
  },
  {
   "cell_type": "markdown",
   "metadata": {},
   "source": [
    "### Q6. Which three sports have the highest spread in terms of earnings (highest IQR)?\n",
    "[Hint : use boxplot]"
   ]
  },
  {
   "cell_type": "code",
   "execution_count": 117,
   "metadata": {},
   "outputs": [
    {
     "data": {
      "image/png": "[encoded data removed]",
      "text/plain": [
       "<Figure size 1080x1008 with 1 Axes>"
      ]
     },
     "metadata": {
      "needs_background": "light"
     },
     "output_type": "display_data"
    }
   ],
   "source": [
    "plt.figure(figsize=(15,14))\n",
    "sns.boxplot(df['Sport'],df['earnings ($ million)'])\n",
    "plt.xticks(rotation=60)\n",
    "plt.show()"
   ]
  },
  {
   "cell_type": "code",
   "execution_count": null,
   "metadata": {},
   "outputs": [],
   "source": [
    "#Golf, Tennis and Soccer are the three sports with highest IQR"
   ]
  },
  {
   "cell_type": "markdown",
   "metadata": {},
   "source": [
    "### Q7. Show a trend in the positions at which Tiger Woods has appeared in the Forbes Richest Athletes list overs the years.\n",
    "[Hint : Use lineplot]"
   ]
  },
  {
   "cell_type": "code",
   "execution_count": 136,
   "metadata": {},
   "outputs": [
    {
     "data": {
      "image/png": "[encoded data removed]",
      "text/plain": [
       "<Figure size 1080x432 with 1 Axes>"
      ]
     },
     "metadata": {
      "needs_background": "light"
     },
     "output_type": "display_data"
    }
   ],
   "source": [
    "df1=df[df.Name=='Tiger Woods']\n",
    "plt.figure(figsize=(15,6))\n",
    "sns.lineplot(y=df1['Current Rank'],x=df1.Year,color='Magenta',marker='o')\n",
    "plt.gca().invert_yaxis\n",
    "plt.xticks(np.arange(1996,2016))\n",
    "plt.grid(True)\n",
    "plt.show()"
   ]
  },
  {
   "cell_type": "code",
   "execution_count": null,
   "metadata": {},
   "outputs": [],
   "source": [
    "#As we can see from the plot, Tiger woods has consistently retained rank 1 from 2002 to 2011. He dropped to rank 3 in 2012 but\n",
    "#regained his top position in 2013."
   ]
  },
  {
   "cell_type": "markdown",
   "metadata": {},
   "source": [
    "### Q8. Comment on the trend of the earnings of Tiger Woods overs the years.\n",
    "[Hint : use lineplot]"
   ]
  },
  {
   "cell_type": "code",
   "execution_count": 146,
   "metadata": {},
   "outputs": [
    {
     "data": {
      "image/png": "[encoded data removed]",
      "text/plain": [
       "<Figure size 1080x432 with 1 Axes>"
      ]
     },
     "metadata": {
      "needs_background": "light"
     },
     "output_type": "display_data"
    }
   ],
   "source": [
    "df1=df[df.Name=='Tiger Woods']\n",
    "plt.figure(figsize=(15,6))\n",
    "sns.lineplot(x=df1.Year,y=df1['earnings ($ million)'],marker='o')\n",
    "plt.xticks(np.arange(1996,2016))\n",
    "plt.grid(True)\n",
    "plt.show()"
   ]
  },
  {
   "cell_type": "code",
   "execution_count": null,
   "metadata": {},
   "outputs": [],
   "source": [
    "#As we can see from the plot, the earnings of Tiger Woods had been consistently increasing over the years till 2008. After 2008,\n",
    "#we can clearly see a downfall in his earnings over the years. As seen in the news around 2010 he got divorced and there was a\n",
    "#visible downfall in his earnings and performance."
   ]
  },
  {
   "cell_type": "markdown",
   "metadata": {},
   "source": [
    "### Q9. Display the distribution of the earnings of Tiger Woods. Comment on how the distribution looks like and interpret some insights from the plot.\n",
    "[Hint : Use distplot]"
   ]
  },
  {
   "cell_type": "code",
   "execution_count": 152,
   "metadata": {},
   "outputs": [
    {
     "data": {
      "image/png": "[encoded data removed]",
      "text/plain": [
       "<Figure size 1080x432 with 1 Axes>"
      ]
     },
     "metadata": {
      "needs_background": "light"
     },
     "output_type": "display_data"
    }
   ],
   "source": [
    "df1=df[df.Name=='Tiger Woods']\n",
    "plt.figure(figsize=(15,6))\n",
    "sns.distplot(df1['earnings ($ million)'])\n",
    "plt.show()"
   ]
  },
  {
   "cell_type": "code",
   "execution_count": 153,
   "metadata": {},
   "outputs": [
    {
     "data": {
      "text/plain": [
       "72.86111111111111"
      ]
     },
     "execution_count": 153,
     "metadata": {},
     "output_type": "execute_result"
    }
   ],
   "source": [
    "df1['earnings ($ million)'].mean()"
   ]
  },
  {
   "cell_type": "code",
   "execution_count": 154,
   "metadata": {},
   "outputs": [
    {
     "data": {
      "text/plain": [
       "76.5"
      ]
     },
     "execution_count": 154,
     "metadata": {},
     "output_type": "execute_result"
    }
   ],
   "source": [
    "df1['earnings ($ million)'].median()"
   ]
  },
  {
   "cell_type": "code",
   "execution_count": null,
   "metadata": {},
   "outputs": [],
   "source": [
    "#The distribution looks quite symmetric. As we can see the mean and the median are quite close to each other. The average\n",
    "#earning of Tiger Woods is apx $73 million."
   ]
  },
  {
   "cell_type": "markdown",
   "metadata": {},
   "source": [
    "### Q10. Has the earnings of the richest athletes increased over the period of 30 years? Discuss the correlation between year and earnings.\n",
    "[Hint : Use heatmap/scatterplot]"
   ]
  },
  {
   "cell_type": "code",
   "execution_count": 155,
   "metadata": {},
   "outputs": [
    {
     "data": {
      "text/html": [
       "<div>\n",
       "<style scoped>\n",
       "    .dataframe tbody tr th:only-of-type {\n",
       "        vertical-align: middle;\n",
       "    }\n",
       "\n",
       "    .dataframe tbody tr th {\n",
       "        vertical-align: top;\n",
       "    }\n",
       "\n",
       "    .dataframe thead th {\n",
       "        text-align: right;\n",
       "    }\n",
       "</style>\n",
       "<table border=\"1\" class=\"dataframe\">\n",
       "  <thead>\n",
       "    <tr style=\"text-align: right;\">\n",
       "      <th></th>\n",
       "      <th>Year</th>\n",
       "      <th>earnings ($ million)</th>\n",
       "    </tr>\n",
       "  </thead>\n",
       "  <tbody>\n",
       "    <tr>\n",
       "      <th>Year</th>\n",
       "      <td>1.000000</td>\n",
       "      <td>0.638597</td>\n",
       "    </tr>\n",
       "    <tr>\n",
       "      <th>earnings ($ million)</th>\n",
       "      <td>0.638597</td>\n",
       "      <td>1.000000</td>\n",
       "    </tr>\n",
       "  </tbody>\n",
       "</table>\n",
       "</div>"
      ],
      "text/plain": [
       "                          Year  earnings ($ million)\n",
       "Year                  1.000000              0.638597\n",
       "earnings ($ million)  0.638597              1.000000"
      ]
     },
     "execution_count": 155,
     "metadata": {},
     "output_type": "execute_result"
    }
   ],
   "source": [
    "corr=df[['Year','earnings ($ million)']].corr()\n",
    "corr"
   ]
  },
  {
   "cell_type": "code",
   "execution_count": 161,
   "metadata": {},
   "outputs": [
    {
     "data": {
      "image/png": "[encoded data removed]",
      "text/plain": [
       "<Figure size 432x288 with 2 Axes>"
      ]
     },
     "metadata": {
      "needs_background": "light"
     },
     "output_type": "display_data"
    }
   ],
   "source": [
    "sns.heatmap(corr,annot=True)\n",
    "plt.show()"
   ]
  },
  {
   "cell_type": "code",
   "execution_count": 162,
   "metadata": {},
   "outputs": [],
   "source": [
    "#From the heatmap we can see that there is a positive correlation between earnings and year. This can also be verified from the\n",
    "#scatterplot shown below."
   ]
  },
  {
   "cell_type": "code",
   "execution_count": 167,
   "metadata": {},
   "outputs": [
    {
     "data": {
      "image/png": "[encoded data removed]",
      "text/plain": [
       "<Figure size 720x576 with 1 Axes>"
      ]
     },
     "metadata": {
      "needs_background": "light"
     },
     "output_type": "display_data"
    }
   ],
   "source": [
    "plt.figure(figsize=(10,8))\n",
    "sns.scatterplot(df.Year,df['earnings ($ million)'])\n",
    "plt.show()"
   ]
  },
  {
   "cell_type": "markdown",
   "metadata": {},
   "source": [
    "### Q-11 Display the earnings trend over the years.\n",
    "[Hint: use lineplot(), estimator = np.mean]"
   ]
  },
  {
   "cell_type": "code",
   "execution_count": 177,
   "metadata": {},
   "outputs": [
    {
     "data": {
      "image/png": "[encoded data removed]",
      "text/plain": [
       "<Figure size 1224x504 with 1 Axes>"
      ]
     },
     "metadata": {
      "needs_background": "light"
     },
     "output_type": "display_data"
    }
   ],
   "source": [
    "plt.figure(figsize=(17,7))\n",
    "sns.lineplot(df['Year'],df['earnings ($ million)'],estimator=np.mean)\n",
    "#estimator :name of pandas method or callable or None:\n",
    "#Method for aggregating across multiple observations of the y variable at the same x level. If None, all observations will be\n",
    "#drawn.\n",
    "plt.show()"
   ]
  },
  {
   "cell_type": "code",
   "execution_count": null,
   "metadata": {},
   "outputs": [],
   "source": [
    "#As we can see, over the years the average earnings of the billionares has been increasing."
   ]
  },
  {
   "cell_type": "markdown",
   "metadata": {},
   "source": [
    "                                            **Happy Learning**"
   ]
  }
 ],
 "metadata": {
  "kernelspec": {
   "display_name": "Python 3",
   "language": "python",
   "name": "python3"
  },
  "language_info": {
   "codemirror_mode": {
    "name": "ipython",
    "version": 3
   },
   "file_extension": ".py",
   "mimetype": "text/x-python",
   "name": "python",
   "nbconvert_exporter": "python",
   "pygments_lexer": "ipython3",
   "version": "3.8.5"
  },
  "toc": {
   "base_numbering": 1,
   "nav_menu": {},
   "number_sections": true,
   "sideBar": true,
   "skip_h1_title": false,
   "title_cell": "Table of Contents",
   "title_sidebar": "Contents",
   "toc_cell": false,
   "toc_position": {},
   "toc_section_display": true,
   "toc_window_display": false
  },
  "varInspector": {
   "cols": {
    "lenName": 16,
    "lenType": 16,
    "lenVar": 40
   },
   "kernels_config": {
    "python": {
     "delete_cmd_postfix": "",
     "delete_cmd_prefix": "del ",
     "library": "var_list.py",
     "varRefreshCmd": "print(var_dic_list())"
    },
    "r": {
     "delete_cmd_postfix": ") ",
     "delete_cmd_prefix": "rm(",
     "library": "var_list.r",
     "varRefreshCmd": "cat(var_dic_list()) "
    }
   },
   "types_to_exclude": [
    "module",
    "function",
    "builtin_function_or_method",
    "instance",
    "_Feature"
   ],
   "window_display": false
  }
 },
 "nbformat": 4,
 "nbformat_minor": 4
}
