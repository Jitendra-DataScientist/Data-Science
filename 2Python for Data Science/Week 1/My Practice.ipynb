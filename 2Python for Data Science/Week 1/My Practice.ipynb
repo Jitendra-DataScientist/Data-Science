{
 "cells": [
  {
   "cell_type": "code",
   "execution_count": 3,
   "metadata": {},
   "outputs": [
    {
     "name": "stdout",
     "output_type": "stream",
     "text": [
      "[1, 2, 3, 4, 5, 6]\n",
      "[1, 2, 3, 4, 5, 6, 7]\n",
      "[1, 2, 3, 5, 6, 7]\n",
      "[1, 2, 3, 4, 5, 6, 7]\n"
     ]
    }
   ],
   "source": [
    "#Lists:append(),pop(),insert()\n",
    "l1=[1,2,3,4,5,6]\n",
    "print(l1)\n",
    "l1.append(7)\n",
    "print(l1)\n",
    "l1.pop(3)\n",
    "print(l1)\n",
    "l1.insert(3,4)\n",
    "print(l1)"
   ]
  },
  {
   "cell_type": "code",
   "execution_count": 10,
   "metadata": {},
   "outputs": [
    {
     "name": "stdout",
     "output_type": "stream",
     "text": [
      "[4, 5, 4, 5, 4, 5, 4, 5, 4, 5, 4, 5, 4, 5]\n",
      "[[1, 2, 3, 4, 5, 6], [4, 5, 4, 5, 4, 5, 4, 5, 4, 5, 4, 5, 4, 5]]\n",
      "[4, 5, 4, 5, 4, 5, 4, 5, 4, 5, 4, 5, 4, 5]\n",
      "5\n",
      "[[1, 2, 3, 4, 5, 6], [4, 10, 4, 5, 4, 5, 4, 5, 4, 5, 4, 5, 4, 5]]\n"
     ]
    }
   ],
   "source": [
    "#Lists\n",
    "l1=[1,2,3,4,5,6]\n",
    "l2=[4,5]*7\n",
    "print(l2)\n",
    "l3=[l1,l2]\n",
    "print(l3)\n",
    "print(l3[1])\n",
    "print(l3[1][1])\n",
    "l3[1][1]=10\n",
    "print(l3)"
   ]
  },
  {
   "cell_type": "code",
   "execution_count": 12,
   "metadata": {},
   "outputs": [
    {
     "name": "stdout",
     "output_type": "stream",
     "text": [
      "(1, 2, 3)\n"
     ]
    },
    {
     "ename": "TypeError",
     "evalue": "'tuple' object does not support item assignment",
     "output_type": "error",
     "traceback": [
      "\u001b[1;31m---------------------------------------------------------------------------\u001b[0m",
      "\u001b[1;31mTypeError\u001b[0m                                 Traceback (most recent call last)",
      "\u001b[1;32m<ipython-input-12-5669f0e28298>\u001b[0m in \u001b[0;36m<module>\u001b[1;34m\u001b[0m\n\u001b[0;32m      2\u001b[0m \u001b[0mt1\u001b[0m\u001b[1;33m=\u001b[0m\u001b[1;33m(\u001b[0m\u001b[1;36m1\u001b[0m\u001b[1;33m,\u001b[0m\u001b[1;36m2\u001b[0m\u001b[1;33m,\u001b[0m\u001b[1;36m3\u001b[0m\u001b[1;33m)\u001b[0m\u001b[1;33m\u001b[0m\u001b[1;33m\u001b[0m\u001b[0m\n\u001b[0;32m      3\u001b[0m \u001b[0mprint\u001b[0m\u001b[1;33m(\u001b[0m\u001b[0mt1\u001b[0m\u001b[1;33m)\u001b[0m\u001b[1;33m\u001b[0m\u001b[1;33m\u001b[0m\u001b[0m\n\u001b[1;32m----> 4\u001b[1;33m \u001b[0mt1\u001b[0m\u001b[1;33m[\u001b[0m\u001b[1;36m1\u001b[0m\u001b[1;33m]\u001b[0m\u001b[1;33m=\u001b[0m\u001b[1;36m10\u001b[0m\u001b[1;33m\u001b[0m\u001b[1;33m\u001b[0m\u001b[0m\n\u001b[0m",
      "\u001b[1;31mTypeError\u001b[0m: 'tuple' object does not support item assignment"
     ]
    }
   ],
   "source": [
    "#Tuples\n",
    "t1=(1,2,3)\n",
    "print(t1)\n",
    "t1[1]=10"
   ]
  },
  {
   "cell_type": "code",
   "execution_count": 13,
   "metadata": {},
   "outputs": [
    {
     "name": "stdout",
     "output_type": "stream",
     "text": [
      "(1, 10, 3)\n"
     ]
    }
   ],
   "source": [
    "#changing values in tuples\n",
    "t1=(1,2,3)\n",
    "l1=list(t1)\n",
    "l1[1]=10\n",
    "t1=tuple(l1)\n",
    "print(t1)"
   ]
  },
  {
   "cell_type": "code",
   "execution_count": 16,
   "metadata": {},
   "outputs": [
    {
     "name": "stdout",
     "output_type": "stream",
     "text": [
      "{1, 2, 3}\n",
      "True\n",
      "False\n",
      "{56, 1, 3}\n"
     ]
    }
   ],
   "source": [
    "#Sets\n",
    "s1={1,2,3,1}\n",
    "print(s1)\n",
    "print(1 in s1)\n",
    "print(4 in s1)\n",
    "s1.add(56)\n",
    "s1.remove(2)\n",
    "print(s1)"
   ]
  },
  {
   "cell_type": "code",
   "execution_count": 23,
   "metadata": {},
   "outputs": [
    {
     "name": "stdout",
     "output_type": "stream",
     "text": [
      "{'acd': 1, 5: 'qwe', 10: 45, 'try': '475'} <class 'dict'>\n",
      "1\n",
      "{'acd': 'sd', 5: 'qwe', 10: 45, 'try': '475', 'vb': 45}\n"
     ]
    }
   ],
   "source": [
    "#Dictonaries\n",
    "d1={'acd':1,5:'qwe',10:45,'try':'475'}\n",
    "print(d1,type(d1))\n",
    "print(d1['acd'])\n",
    "d1['acd']='sd'\n",
    "d1['vb']=45\n",
    "print(d1)"
   ]
  },
  {
   "cell_type": "code",
   "execution_count": 25,
   "metadata": {},
   "outputs": [
    {
     "name": "stdout",
     "output_type": "stream",
     "text": [
      "{'entry1': ['acd', 5, 10, 'try'], 'entry2': [1, 'qwe', 45, '475']} <class 'dict'>\n"
     ]
    }
   ],
   "source": [
    "d1={'entry1':['acd',5,10,'try'],'entry2':[1,'qwe',45,'475']}\n",
    "print(d1,type(d1))"
   ]
  },
  {
   "cell_type": "code",
   "execution_count": 27,
   "metadata": {},
   "outputs": [
    {
     "name": "stdout",
     "output_type": "stream",
     "text": [
      "1\n",
      "2\n",
      "3\n",
      "4\n",
      "5\n",
      "6\n",
      "7\n",
      "8\n",
      "9\n"
     ]
    }
   ],
   "source": [
    "#for loop\n",
    "l1=[1,2,3,4,5,6,7,8,9]\n",
    "for i in l1:\n",
    "    print(i)"
   ]
  },
  {
   "cell_type": "code",
   "execution_count": 29,
   "metadata": {},
   "outputs": [
    {
     "name": "stdout",
     "output_type": "stream",
     "text": [
      "0.6666666666666666\n",
      "0.5714285714285714\n",
      "0.5\n",
      "0.4444444444444444\n",
      "0.8333333333333334\n",
      "0.7142857142857143\n",
      "0.625\n",
      "0.5555555555555556\n",
      "1.0\n",
      "0.8571428571428571\n",
      "0.75\n",
      "0.6666666666666666\n"
     ]
    }
   ],
   "source": [
    "#nested loops (or) loop within a loop\n",
    "l1=[1,2,3,4,5,6,7,8,9]\n",
    "for i in l1[3:6]:\n",
    "    for j in l1[5:11]:\n",
    "        print(i/j)"
   ]
  },
  {
   "cell_type": "code",
   "execution_count": 37,
   "metadata": {},
   "outputs": [
    {
     "name": "stdout",
     "output_type": "stream",
     "text": [
      "range(0, 10)\n",
      "range(4, 10)\n",
      "range(4, 10, 2)\n",
      "<class 'range'>\n",
      "0\n",
      "1\n",
      "2\n",
      "3\n",
      "4\n",
      "5\n",
      "*******SPACING*******SPACING*******SPACING*******SPACING*******SPACING*******\n",
      "4\n",
      "5\n",
      "6\n",
      "7\n",
      "8\n",
      "9\n",
      "*******SPACING*******SPACING*******SPACING*******SPACING*******SPACING*******\n",
      "4\n",
      "6\n",
      "8\n",
      "10\n",
      "12\n",
      "14\n"
     ]
    }
   ],
   "source": [
    "#Ranges and loops in ranges\n",
    "print(range(10))\n",
    "print(range(4,10))\n",
    "print(range(4,10,2))\n",
    "print(type(range(4,10,2)))\n",
    "for i in range(6):\n",
    "    print(i)\n",
    "print('*******SPACING*******SPACING*******SPACING*******SPACING*******SPACING*******')\n",
    "for i in range(4,10):\n",
    "    print(i)\n",
    "print('*******SPACING*******SPACING*******SPACING*******SPACING*******SPACING*******')\n",
    "for i in range(4,15,2):\n",
    "    print(i)\n",
    "\n"
   ]
  },
  {
   "cell_type": "code",
   "execution_count": 38,
   "metadata": {},
   "outputs": [
    {
     "name": "stdout",
     "output_type": "stream",
     "text": [
      "[10, 12, 14, 16, 18]\n"
     ]
    }
   ],
   "source": [
    "#Converting ranges to lists\n",
    "l1=list(range(10,20,2))\n",
    "print(l1)"
   ]
  },
  {
   "cell_type": "code",
   "execution_count": 40,
   "metadata": {},
   "outputs": [
    {
     "name": "stdout",
     "output_type": "stream",
     "text": [
      "Square of 1 is 1\n",
      "Square of 2 is 4\n",
      "Square of 3 is 9\n",
      "Square of 4 is 16\n",
      "Square of 5 is 25\n",
      "Square of 6 is 36\n",
      "Square of 7 is 49\n",
      "Square of 8 is 64\n",
      "Square of 9 is 81\n",
      "Square of 10 is 100\n"
     ]
    }
   ],
   "source": [
    "#while loops\n",
    "i=1\n",
    "while i<11:\n",
    "    print('Square of',i,'is',i**2)\n",
    "    i+=1\n",
    "    "
   ]
  },
  {
   "cell_type": "code",
   "execution_count": 49,
   "metadata": {},
   "outputs": [
    {
     "name": "stdout",
     "output_type": "stream",
     "text": [
      "Enter 1st no. 45\n",
      "Enter 2nd no. 97\n",
      "Enter 3rd no. 15\n",
      "97 is largest\n"
     ]
    }
   ],
   "source": [
    "#Conditionals\n",
    "#largest of 3 nos.\n",
    "x=input('Enter 1st no. ')\n",
    "y=input('Enter 2nd no. ')\n",
    "z=input('Enter 3rd no. ')\n",
    "if int(x)>int(y):\n",
    "    if int(x)>int(z):\n",
    "        print(x,'is largest')\n",
    "    else:\n",
    "        print(z,'is largest')\n",
    "elif int(y)>int(z):\n",
    "    print(y,'is largest')\n",
    "else:\n",
    "    print(z,'is largest')   "
   ]
  }
 ],
 "metadata": {
  "kernelspec": {
   "display_name": "Python 3",
   "language": "python",
   "name": "python3"
  },
  "language_info": {
   "codemirror_mode": {
    "name": "ipython",
    "version": 3
   },
   "file_extension": ".py",
   "mimetype": "text/x-python",
   "name": "python",
   "nbconvert_exporter": "python",
   "pygments_lexer": "ipython3",
   "version": "3.8.5"
  }
 },
 "nbformat": 4,
 "nbformat_minor": 4
}
