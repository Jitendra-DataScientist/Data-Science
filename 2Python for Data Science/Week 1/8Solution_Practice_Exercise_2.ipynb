{
  "nbformat": 4,
  "nbformat_minor": 0,
  "metadata": {
    "colab": {
      "name": "Practice Exercise-2",
      "provenance": [],
      "collapsed_sections": []
    },
    "kernelspec": {
      "name": "python3",
      "display_name": "Python 3"
    }
  },
  "cells": [
    {
      "cell_type": "markdown",
      "metadata": {
        "id": "42-KAc9Y8HeQ",
        "colab_type": "text"
      },
      "source": [
        "Q1.Check the data types of the below variables:\n",
        "a=50, b=10.4, c=\"Hello\""
      ]
    },
    {
      "cell_type": "code",
      "metadata": {
        "id": "BlsI6Ndn8VNV",
        "colab_type": "code",
        "colab": {
          "base_uri": "https://localhost:8080/",
          "height": 68
        },
        "outputId": "3f3280a9-8007-49aa-a383-2b0adc32a887"
      },
      "source": [
        "a=50\n",
        "b=10.4\n",
        "c=\"Hello\"\n",
        "\n",
        "print(\"the datatype of a is\", type(a))\n",
        "print(\"the datatype of a is\", type(b))\n",
        "print(\"the datatype of a is\", type(c))"
      ],
      "execution_count": 18,
      "outputs": [
        {
          "output_type": "stream",
          "text": [
            "the datatype of a is <class 'int'>\n",
            "the datatype of a is <class 'float'>\n",
            "the datatype of a is <class 'str'>\n"
          ],
          "name": "stdout"
        }
      ]
    },
    {
      "cell_type": "markdown",
      "metadata": {
        "id": "rqsPIAw5-lVO",
        "colab_type": "text"
      },
      "source": [
        "Q2.Check whether the given string is in Upper case?\n",
        "\n",
        "String - \" My Name is Adam\""
      ]
    },
    {
      "cell_type": "code",
      "metadata": {
        "id": "YXkpHrMR-s1b",
        "colab_type": "code",
        "colab": {
          "base_uri": "https://localhost:8080/",
          "height": 34
        },
        "outputId": "1ea689a2-1d34-40ba-a2b6-3a1c5109c2a5"
      },
      "source": [
        "String=\"My Name is Adam\"\n",
        "String.isupper()\n"
      ],
      "execution_count": 19,
      "outputs": [
        {
          "output_type": "execute_result",
          "data": {
            "text/plain": [
              "False"
            ]
          },
          "metadata": {
            "tags": []
          },
          "execution_count": 19
        }
      ]
    },
    {
      "cell_type": "markdown",
      "metadata": {
        "id": "xzUsyo3m_BHS",
        "colab_type": "text"
      },
      "source": [
        "Q3.What is the length of the given string?\n",
        "\n",
        "String- \"My Name is Adam\""
      ]
    },
    {
      "cell_type": "code",
      "metadata": {
        "id": "KU1QQPs9_Jim",
        "colab_type": "code",
        "colab": {
          "base_uri": "https://localhost:8080/",
          "height": 34
        },
        "outputId": "c900e814-a507-42d9-89e8-5e54e94e3720"
      },
      "source": [
        "len(String)"
      ],
      "execution_count": 20,
      "outputs": [
        {
          "output_type": "execute_result",
          "data": {
            "text/plain": [
              "15"
            ]
          },
          "metadata": {
            "tags": []
          },
          "execution_count": 20
        }
      ]
    },
    {
      "cell_type": "markdown",
      "metadata": {
        "id": "HFSUOTfE6JIg",
        "colab_type": "text"
      },
      "source": [
        "Q4.Write a code (using \"for\" loop) to print the sum of all elements in the list = [6, 5, 3, 8, 4, 2, 5, 4, 11, 43]?"
      ]
    },
    {
      "cell_type": "code",
      "metadata": {
        "id": "3XB7hVCG6U56",
        "colab_type": "code",
        "colab": {}
      },
      "source": [
        "a= [6, 5, 3, 8, 4, 2, 5, 4, 11, 43]\n",
        "Total = 0  # defining an object sum \n"
      ],
      "execution_count": 6,
      "outputs": []
    },
    {
      "cell_type": "code",
      "metadata": {
        "id": "ZB9xkZjG6a5l",
        "colab_type": "code",
        "colab": {
          "base_uri": "https://localhost:8080/",
          "height": 34
        },
        "outputId": "4540fa47-3ce7-452c-ee7b-07a58c47661f"
      },
      "source": [
        "for i in a:\n",
        "  Total=Total+i\n",
        "print(\"The sum of all the elements in the list is\",Total )"
      ],
      "execution_count": 7,
      "outputs": [
        {
          "output_type": "stream",
          "text": [
            "The sum of all the elements in the list is 91\n"
          ],
          "name": "stdout"
        }
      ]
    },
    {
      "cell_type": "markdown",
      "metadata": {
        "id": "pLga0cw17K3Y",
        "colab_type": "text"
      },
      "source": [
        "Q5. Write a python code( using only while loop) which will only print the even numbers from 2 to 12. "
      ]
    },
    {
      "cell_type": "code",
      "metadata": {
        "id": "AAlqvWY-_y_1",
        "colab_type": "code",
        "colab": {
          "base_uri": "https://localhost:8080/",
          "height": 119
        },
        "outputId": "434290ac-0ed4-4205-fd5d-4a903d93ac25"
      },
      "source": [
        "i=2\n",
        "while i<=12:\n",
        "  print(i)\n",
        "  i=i+2"
      ],
      "execution_count": 24,
      "outputs": [
        {
          "output_type": "stream",
          "text": [
            "2\n",
            "4\n",
            "6\n",
            "8\n",
            "10\n",
            "12\n"
          ],
          "name": "stdout"
        }
      ]
    },
    {
      "cell_type": "markdown",
      "metadata": {
        "id": "Lhk0pYd6JdEy",
        "colab_type": "text"
      },
      "source": [
        "Q6.Write a python code( using the combination of if statement and while loop) which will only print the even numbers from 2 to 12."
      ]
    },
    {
      "cell_type": "code",
      "metadata": {
        "id": "_0HGsd6f60Nx",
        "colab_type": "code",
        "colab": {
          "base_uri": "https://localhost:8080/",
          "height": 119
        },
        "outputId": "200c1999-5e30-4941-bb11-dbf1839bee55"
      },
      "source": [
        "i=2\n",
        "while i<=12:\n",
        "  if i%2==0:\n",
        "    print(i)\n",
        "  i=i+1"
      ],
      "execution_count": 26,
      "outputs": [
        {
          "output_type": "stream",
          "text": [
            "2\n",
            "4\n",
            "6\n",
            "8\n",
            "10\n",
            "12\n"
          ],
          "name": "stdout"
        }
      ]
    },
    {
      "cell_type": "markdown",
      "metadata": {
        "id": "RvD0Q2FfKEQl",
        "colab_type": "text"
      },
      "source": [
        "Q7.Write a code( using if-else statement), which will print the minimum of the below given numbers.\n",
        "x=50,y=30,z=40"
      ]
    },
    {
      "cell_type": "code",
      "metadata": {
        "id": "40F7o_GdQXRH",
        "colab_type": "code",
        "colab": {}
      },
      "source": [
        "x=50\n",
        "y=30\n",
        "z=40\n"
      ],
      "execution_count": 37,
      "outputs": []
    },
    {
      "cell_type": "code",
      "metadata": {
        "id": "ZCSnsteSQbZi",
        "colab_type": "code",
        "colab": {
          "base_uri": "https://localhost:8080/",
          "height": 34
        },
        "outputId": "84ac7ec3-a6f3-4f5e-d62a-53c871dbb35d"
      },
      "source": [
        "if (x<y) and (x<z):\n",
        "  print(\"x is the smallest number\")\n",
        "elif (y<z):\n",
        "  print(\"y is the smallest number\")\n",
        "else: \n",
        "  print(\"z is the smallest number\")"
      ],
      "execution_count": 38,
      "outputs": [
        {
          "output_type": "stream",
          "text": [
            "y is the smallest number\n"
          ],
          "name": "stdout"
        }
      ]
    },
    {
      "cell_type": "code",
      "metadata": {
        "id": "0jAK2hSARHy_",
        "colab_type": "code",
        "colab": {}
      },
      "source": [
        ""
      ],
      "execution_count": null,
      "outputs": []
    }
  ]
}