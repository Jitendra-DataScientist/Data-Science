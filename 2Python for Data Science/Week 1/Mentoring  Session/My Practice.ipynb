{
 "cells": [
  {
   "cell_type": "code",
   "execution_count": 5,
   "metadata": {},
   "outputs": [
    {
     "name": "stdout",
     "output_type": "stream",
     "text": [
      "Enter 1st no.1\n",
      "Enter 2nd no.2\n",
      "Enter 3rd no.3\n",
      "The sum is 6\n",
      "this function has been defined \n",
      "    by me. it adds 3 nos. and returns\n",
      "    the resultant sum\n"
     ]
    }
   ],
   "source": [
    "#defined functions\n",
    "def newf(x,y,z):\n",
    "    '''this function has been defined \n",
    "    by me. it adds 3 nos. and returns\n",
    "    the resultant sum'''\n",
    "    return int(x)+int(y)+int(z)\n",
    "a=input('Enter 1st no.')\n",
    "b=input('Enter 2nd no.')\n",
    "c=input('Enter 3rd no.')\n",
    "print('The sum is',newf(a,b,c))\n",
    "print(newf.__doc__)"
   ]
  },
  {
   "cell_type": "code",
   "execution_count": 19,
   "metadata": {},
   "outputs": [
    {
     "ename": "NameError",
     "evalue": "name 'y' is not defined",
     "output_type": "error",
     "traceback": [
      "\u001b[1;31m---------------------------------------------------------------------------\u001b[0m",
      "\u001b[1;31mNameError\u001b[0m                                 Traceback (most recent call last)",
      "\u001b[1;32m<ipython-input-19-99c6a9f12895>\u001b[0m in \u001b[0;36m<module>\u001b[1;34m\u001b[0m\n\u001b[0;32m      4\u001b[0m     \u001b[0my\u001b[0m \u001b[1;33m=\u001b[0m \u001b[1;36m5\u001b[0m\u001b[1;33m\u001b[0m\u001b[1;33m\u001b[0m\u001b[0m\n\u001b[0;32m      5\u001b[0m     \u001b[1;32mreturn\u001b[0m \u001b[0mint\u001b[0m\u001b[1;33m(\u001b[0m\u001b[0my\u001b[0m\u001b[1;33m)\u001b[0m\u001b[1;33m\u001b[0m\u001b[1;33m\u001b[0m\u001b[0m\n\u001b[1;32m----> 6\u001b[1;33m \u001b[0mprint\u001b[0m\u001b[1;33m(\u001b[0m\u001b[0my\u001b[0m\u001b[1;33m)\u001b[0m\u001b[1;33m\u001b[0m\u001b[1;33m\u001b[0m\u001b[0m\n\u001b[0m\u001b[0;32m      7\u001b[0m \u001b[1;31m#shows error as newf has never been called, hence y was never created though it id glabal\u001b[0m\u001b[1;33m\u001b[0m\u001b[1;33m\u001b[0m\u001b[1;33m\u001b[0m\u001b[0m\n",
      "\u001b[1;31mNameError\u001b[0m: name 'y' is not defined"
     ]
    }
   ],
   "source": [
    "#global variables\n",
    "def newf():\n",
    "    global y\n",
    "    y = 5\n",
    "    return int(y)\n",
    "print(y)\n",
    "#shows error as newf has never been called, hence y was never created though it is glabal"
   ]
  },
  {
   "cell_type": "code",
   "execution_count": 21,
   "metadata": {},
   "outputs": [
    {
     "name": "stdout",
     "output_type": "stream",
     "text": [
      "5\n",
      "5\n"
     ]
    }
   ],
   "source": [
    "#global variables\n",
    "def newf():\n",
    "    global y\n",
    "    y = 5\n",
    "    return int(y)\n",
    "print(newf())\n",
    "print(y)"
   ]
  },
  {
   "cell_type": "code",
   "execution_count": 25,
   "metadata": {},
   "outputs": [
    {
     "name": "stdout",
     "output_type": "stream",
     "text": [
      "5\n",
      "2\n",
      "10\n",
      "35\n"
     ]
    }
   ],
   "source": [
    "#lambda functions\n",
    "newf= lambda x,y,z: x**y+z\n",
    "a=int(input())\n",
    "b=int(input())\n",
    "c=int(input())\n",
    "print(newf(a,b,c))"
   ]
  },
  {
   "cell_type": "code",
   "execution_count": 29,
   "metadata": {},
   "outputs": [
    {
     "name": "stdout",
     "output_type": "stream",
     "text": [
      "Hello\n"
     ]
    }
   ],
   "source": [
    "#sample program to illustate range(0)\n",
    "for i in range(0):\n",
    "    print('Hi')\n",
    "for j in range(1):\n",
    "    print('Hello')"
   ]
  },
  {
   "cell_type": "code",
   "execution_count": 40,
   "metadata": {},
   "outputs": [
    {
     "name": "stdout",
     "output_type": "stream",
     "text": [
      "Enter No. of rows 5\n",
      "\n",
      "\n",
      "1 \n",
      "\n",
      "2 2 \n",
      "\n",
      "3 3 3 \n",
      "\n",
      "4 4 4 4 \n",
      "\n",
      "5 5 5 5 5 \n",
      "\n"
     ]
    }
   ],
   "source": [
    "#sample program to illustate range(0) and end\n",
    "x=int(input('Enter No. of rows '))\n",
    "for i in range(x+1):\n",
    "    for j in range(i):\n",
    "        print(i,end=' ')\n",
    "    print('\\n')"
   ]
  },
  {
   "cell_type": "code",
   "execution_count": 44,
   "metadata": {},
   "outputs": [
    {
     "name": "stdout",
     "output_type": "stream",
     "text": [
      "nt\n",
      "C:\\Users\\G2\\Desktop\n"
     ]
    },
    {
     "data": {
      "text/plain": [
       "'C:\\\\Users\\\\G2\\\\Desktop'"
      ]
     },
     "execution_count": 44,
     "metadata": {},
     "output_type": "execute_result"
    }
   ],
   "source": [
    "#operating system calls\n",
    "import os\n",
    "print(os.name)\n",
    "print(os.getcwd())\n",
    "os.getcwd()"
   ]
  },
  {
   "cell_type": "code",
   "execution_count": 48,
   "metadata": {},
   "outputs": [
    {
     "name": "stdout",
     "output_type": "stream",
     "text": [
      "['.ipynb_checkpoints', 'BlueJ.lnk', 'desktop.ini', 'DroidCamApp.lnk', 'My Practice.ipynb', 'Others', 'python_dictionary.py', 'python_list&types.py', 'python_pyramid.py', 'python_sum.py', 'Thumbs.db', 'Untitled.ipynb'] \n",
      "\n",
      "['.ipynb_checkpoints', 'BlueJ.lnk', 'desktop.ini', 'DroidCamApp.lnk', 'My Practice.ipynb', 'Others', 'python_dictionary.py', 'python_list&types.py', 'python_pyramid.py', 'python_sum.py', 'Thumbs.db', 'Untitled.ipynb']\n"
     ]
    }
   ],
   "source": [
    "#operating system calls\n",
    "import os\n",
    "print(os.listdir(),'\\n')\n",
    "print(os.listdir('.'))"
   ]
  }
 ],
 "metadata": {
  "kernelspec": {
   "display_name": "Python 3",
   "language": "python",
   "name": "python3"
  },
  "language_info": {
   "codemirror_mode": {
    "name": "ipython",
    "version": 3
   },
   "file_extension": ".py",
   "mimetype": "text/x-python",
   "name": "python",
   "nbconvert_exporter": "python",
   "pygments_lexer": "ipython3",
   "version": "3.8.5"
  }
 },
 "nbformat": 4,
 "nbformat_minor": 4
}
