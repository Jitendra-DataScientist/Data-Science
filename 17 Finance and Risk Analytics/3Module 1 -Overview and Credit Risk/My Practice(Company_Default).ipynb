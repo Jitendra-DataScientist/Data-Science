{
 "cells": [
  {
   "cell_type": "markdown",
   "metadata": {},
   "source": [
    "# Company Default Data\n",
    "\n",
    "### Description:\n",
    "The dataset contains information on default payments & company details of Companies in India as on March 2019.\n",
    "\n",
    "### Usage\n",
    "Default\n",
    "\n",
    "### Format\n",
    "A data frame with 1384 observations on the following 11 variables\n",
    "\n",
    "***Num***: ID of each company\n",
    "\n",
    "***Default***: Default payment in next month (1=yes, 0=no)\n",
    "\n",
    "***Total_assets***: Total amount of assets owned by the company\n",
    "\n",
    "***Total_income***: Total income a business receives before any taxes, expenses, adjustments, exemptions, or deductions are taken out\n",
    "\n",
    "***PAT_as_%_of_total_income***: Profit per sales dollar after all expenses are deducted from sales\n",
    "\n",
    "***PBDITA_as_%_of_total_income***: Profit before depreciation, income tax and amortization divided by Total income\n",
    "\n",
    "***PBT_as_%_of_total_income***: Profit per sales dollar before all expenses are deducted from sales\n",
    "\n",
    "***Cash_profit_as_%_of_total_income***: Profit recorded by a business that uses the cash basis of accounting (Cash Profit:Total Cash profit)\n",
    "\n",
    "***Current_ratio***: Liquidity ratio that measures a company's ability to pay short-term obligations or those due within one year (Current assets divided by current liabilities)\n",
    "\n",
    "***Debt_to_equity_ratio***: Leverage ratio that calculates the weight of total debt and financial liabilities against total shareholders’ equity\n",
    "\n",
    "\n",
    "### Source:\n",
    "Simulated data"
   ]
  },
  {
   "cell_type": "markdown",
   "metadata": {},
   "source": [
    "#### Importing the libraries"
   ]
  },
  {
   "cell_type": "code",
   "execution_count": 1,
   "metadata": {},
   "outputs": [],
   "source": [
    "import numpy as np\n",
    "import matplotlib.pyplot as plt\n",
    "import pandas as pd\n",
    "import seaborn as sns # for making plots with seaborn\n",
    "color = sns.color_palette()\n",
    "import sklearn.metrics as metrics\n",
    "\n",
    "#import warnings\n",
    "#warnings.filterwarnings(\"ignore\")"
   ]
  },
  {
   "cell_type": "markdown",
   "metadata": {},
   "source": [
    "#### Importing the dataset"
   ]
  },
  {
   "cell_type": "code",
   "execution_count": 2,
   "metadata": {},
   "outputs": [
    {
     "data": {
      "text/html": [
       "<div>\n",
       "<style scoped>\n",
       "    .dataframe tbody tr th:only-of-type {\n",
       "        vertical-align: middle;\n",
       "    }\n",
       "\n",
       "    .dataframe tbody tr th {\n",
       "        vertical-align: top;\n",
       "    }\n",
       "\n",
       "    .dataframe thead th {\n",
       "        text-align: right;\n",
       "    }\n",
       "</style>\n",
       "<table border=\"1\" class=\"dataframe\">\n",
       "  <thead>\n",
       "    <tr style=\"text-align: right;\">\n",
       "      <th></th>\n",
       "      <th>Num</th>\n",
       "      <th>default</th>\n",
       "      <th>Total_assets</th>\n",
       "      <th>Total_income</th>\n",
       "      <th>PAT_as_%_of_total_income</th>\n",
       "      <th>PBDITA_as_%_of_total_income</th>\n",
       "      <th>PBT_as_%_of_total_income</th>\n",
       "      <th>Cash_profit_as_%_of_total_income</th>\n",
       "      <th>Current_ratio</th>\n",
       "      <th>Debt_to_equity_ratio</th>\n",
       "    </tr>\n",
       "  </thead>\n",
       "  <tbody>\n",
       "    <tr>\n",
       "      <th>0</th>\n",
       "      <td>1</td>\n",
       "      <td>1</td>\n",
       "      <td>210.5</td>\n",
       "      <td>125.3</td>\n",
       "      <td>-25.059856</td>\n",
       "      <td>-10.454908</td>\n",
       "      <td>-25.059856</td>\n",
       "      <td>-19.792498</td>\n",
       "      <td>0.86</td>\n",
       "      <td>2.99</td>\n",
       "    </tr>\n",
       "    <tr>\n",
       "      <th>1</th>\n",
       "      <td>2</td>\n",
       "      <td>1</td>\n",
       "      <td>674.4</td>\n",
       "      <td>939.6</td>\n",
       "      <td>-5.487016</td>\n",
       "      <td>-0.723712</td>\n",
       "      <td>-5.487016</td>\n",
       "      <td>-4.252448</td>\n",
       "      <td>0.87</td>\n",
       "      <td>48.74</td>\n",
       "    </tr>\n",
       "    <tr>\n",
       "      <th>2</th>\n",
       "      <td>3</td>\n",
       "      <td>1</td>\n",
       "      <td>288.3</td>\n",
       "      <td>1.2</td>\n",
       "      <td>-2233.333333</td>\n",
       "      <td>-1785.083333</td>\n",
       "      <td>-2175.000000</td>\n",
       "      <td>-2100.000000</td>\n",
       "      <td>1.40</td>\n",
       "      <td>0.28</td>\n",
       "    </tr>\n",
       "    <tr>\n",
       "      <th>3</th>\n",
       "      <td>4</td>\n",
       "      <td>1</td>\n",
       "      <td>32.2</td>\n",
       "      <td>30.3</td>\n",
       "      <td>-15.511551</td>\n",
       "      <td>-6.930693</td>\n",
       "      <td>-15.181518</td>\n",
       "      <td>-12.541254</td>\n",
       "      <td>0.44</td>\n",
       "      <td>24.50</td>\n",
       "    </tr>\n",
       "    <tr>\n",
       "      <th>4</th>\n",
       "      <td>5</td>\n",
       "      <td>1</td>\n",
       "      <td>380.9</td>\n",
       "      <td>24.6</td>\n",
       "      <td>-208.943089</td>\n",
       "      <td>-1.626016</td>\n",
       "      <td>-208.536585</td>\n",
       "      <td>-142.276423</td>\n",
       "      <td>1.17</td>\n",
       "      <td>10.37</td>\n",
       "    </tr>\n",
       "  </tbody>\n",
       "</table>\n",
       "</div>"
      ],
      "text/plain": [
       "   Num  default  Total_assets  Total_income  PAT_as_%_of_total_income  \\\n",
       "0    1        1         210.5         125.3                -25.059856   \n",
       "1    2        1         674.4         939.6                 -5.487016   \n",
       "2    3        1         288.3           1.2              -2233.333333   \n",
       "3    4        1          32.2          30.3                -15.511551   \n",
       "4    5        1         380.9          24.6               -208.943089   \n",
       "\n",
       "   PBDITA_as_%_of_total_income  PBT_as_%_of_total_income  \\\n",
       "0                   -10.454908                -25.059856   \n",
       "1                    -0.723712                 -5.487016   \n",
       "2                 -1785.083333              -2175.000000   \n",
       "3                    -6.930693                -15.181518   \n",
       "4                    -1.626016               -208.536585   \n",
       "\n",
       "   Cash_profit_as_%_of_total_income  Current_ratio  Debt_to_equity_ratio  \n",
       "0                        -19.792498           0.86                  2.99  \n",
       "1                         -4.252448           0.87                 48.74  \n",
       "2                      -2100.000000           1.40                  0.28  \n",
       "3                        -12.541254           0.44                 24.50  \n",
       "4                       -142.276423           1.17                 10.37  "
      ]
     },
     "execution_count": 2,
     "metadata": {},
     "output_type": "execute_result"
    }
   ],
   "source": [
    "Default = pd.read_csv('CompanyDefault.csv')\n",
    "\n",
    "#Glimpse of Data\n",
    "Default.head()"
   ]
  },
  {
   "cell_type": "markdown",
   "metadata": {},
   "source": [
    "#### Fixing messy column names (containing spaces) for ease of use"
   ]
  },
  {
   "cell_type": "code",
   "execution_count": 3,
   "metadata": {},
   "outputs": [],
   "source": [
    "Default.columns = Default.columns.str.replace('as_%_of', 'to')"
   ]
  },
  {
   "cell_type": "code",
   "execution_count": 4,
   "metadata": {},
   "outputs": [
    {
     "data": {
      "text/html": [
       "<div>\n",
       "<style scoped>\n",
       "    .dataframe tbody tr th:only-of-type {\n",
       "        vertical-align: middle;\n",
       "    }\n",
       "\n",
       "    .dataframe tbody tr th {\n",
       "        vertical-align: top;\n",
       "    }\n",
       "\n",
       "    .dataframe thead th {\n",
       "        text-align: right;\n",
       "    }\n",
       "</style>\n",
       "<table border=\"1\" class=\"dataframe\">\n",
       "  <thead>\n",
       "    <tr style=\"text-align: right;\">\n",
       "      <th></th>\n",
       "      <th>Num</th>\n",
       "      <th>default</th>\n",
       "      <th>Total_assets</th>\n",
       "      <th>Total_income</th>\n",
       "      <th>PAT_to_total_income</th>\n",
       "      <th>PBDITA_to_total_income</th>\n",
       "      <th>PBT_to_total_income</th>\n",
       "      <th>Cash_profit_to_total_income</th>\n",
       "      <th>Current_ratio</th>\n",
       "      <th>Debt_to_equity_ratio</th>\n",
       "    </tr>\n",
       "  </thead>\n",
       "  <tbody>\n",
       "    <tr>\n",
       "      <th>0</th>\n",
       "      <td>1</td>\n",
       "      <td>1</td>\n",
       "      <td>210.5</td>\n",
       "      <td>125.3</td>\n",
       "      <td>-25.059856</td>\n",
       "      <td>-10.454908</td>\n",
       "      <td>-25.059856</td>\n",
       "      <td>-19.792498</td>\n",
       "      <td>0.86</td>\n",
       "      <td>2.99</td>\n",
       "    </tr>\n",
       "    <tr>\n",
       "      <th>1</th>\n",
       "      <td>2</td>\n",
       "      <td>1</td>\n",
       "      <td>674.4</td>\n",
       "      <td>939.6</td>\n",
       "      <td>-5.487016</td>\n",
       "      <td>-0.723712</td>\n",
       "      <td>-5.487016</td>\n",
       "      <td>-4.252448</td>\n",
       "      <td>0.87</td>\n",
       "      <td>48.74</td>\n",
       "    </tr>\n",
       "    <tr>\n",
       "      <th>2</th>\n",
       "      <td>3</td>\n",
       "      <td>1</td>\n",
       "      <td>288.3</td>\n",
       "      <td>1.2</td>\n",
       "      <td>-2233.333333</td>\n",
       "      <td>-1785.083333</td>\n",
       "      <td>-2175.000000</td>\n",
       "      <td>-2100.000000</td>\n",
       "      <td>1.40</td>\n",
       "      <td>0.28</td>\n",
       "    </tr>\n",
       "    <tr>\n",
       "      <th>3</th>\n",
       "      <td>4</td>\n",
       "      <td>1</td>\n",
       "      <td>32.2</td>\n",
       "      <td>30.3</td>\n",
       "      <td>-15.511551</td>\n",
       "      <td>-6.930693</td>\n",
       "      <td>-15.181518</td>\n",
       "      <td>-12.541254</td>\n",
       "      <td>0.44</td>\n",
       "      <td>24.50</td>\n",
       "    </tr>\n",
       "    <tr>\n",
       "      <th>4</th>\n",
       "      <td>5</td>\n",
       "      <td>1</td>\n",
       "      <td>380.9</td>\n",
       "      <td>24.6</td>\n",
       "      <td>-208.943089</td>\n",
       "      <td>-1.626016</td>\n",
       "      <td>-208.536585</td>\n",
       "      <td>-142.276423</td>\n",
       "      <td>1.17</td>\n",
       "      <td>10.37</td>\n",
       "    </tr>\n",
       "  </tbody>\n",
       "</table>\n",
       "</div>"
      ],
      "text/plain": [
       "   Num  default  Total_assets  Total_income  PAT_to_total_income  \\\n",
       "0    1        1         210.5         125.3           -25.059856   \n",
       "1    2        1         674.4         939.6            -5.487016   \n",
       "2    3        1         288.3           1.2         -2233.333333   \n",
       "3    4        1          32.2          30.3           -15.511551   \n",
       "4    5        1         380.9          24.6          -208.943089   \n",
       "\n",
       "   PBDITA_to_total_income  PBT_to_total_income  Cash_profit_to_total_income  \\\n",
       "0              -10.454908           -25.059856                   -19.792498   \n",
       "1               -0.723712            -5.487016                    -4.252448   \n",
       "2            -1785.083333         -2175.000000                 -2100.000000   \n",
       "3               -6.930693           -15.181518                   -12.541254   \n",
       "4               -1.626016          -208.536585                  -142.276423   \n",
       "\n",
       "   Current_ratio  Debt_to_equity_ratio  \n",
       "0           0.86                  2.99  \n",
       "1           0.87                 48.74  \n",
       "2           1.40                  0.28  \n",
       "3           0.44                 24.50  \n",
       "4           1.17                 10.37  "
      ]
     },
     "execution_count": 4,
     "metadata": {},
     "output_type": "execute_result"
    }
   ],
   "source": [
    "Default.head()"
   ]
  },
  {
   "cell_type": "markdown",
   "metadata": {},
   "source": [
    "#### First, let us check the number of rows (observations) and the number of columns (variables)."
   ]
  },
  {
   "cell_type": "code",
   "execution_count": 5,
   "metadata": {},
   "outputs": [
    {
     "name": "stdout",
     "output_type": "stream",
     "text": [
      "The number of rows (observations) is 1384 \n",
      "The number of columns (variables) is 10\n"
     ]
    }
   ],
   "source": [
    "print('The number of rows (observations) is',Default.shape[0],'\\n''The number of columns (variables) is',Default.shape[1])"
   ]
  },
  {
   "cell_type": "markdown",
   "metadata": {},
   "source": [
    "#### Data types of all variables"
   ]
  },
  {
   "cell_type": "code",
   "execution_count": 6,
   "metadata": {
    "scrolled": true
   },
   "outputs": [
    {
     "name": "stdout",
     "output_type": "stream",
     "text": [
      "<class 'pandas.core.frame.DataFrame'>\n",
      "RangeIndex: 1384 entries, 0 to 1383\n",
      "Data columns (total 10 columns):\n",
      " #   Column                       Non-Null Count  Dtype  \n",
      "---  ------                       --------------  -----  \n",
      " 0   Num                          1384 non-null   int64  \n",
      " 1   default                      1384 non-null   int64  \n",
      " 2   Total_assets                 1384 non-null   float64\n",
      " 3   Total_income                 1384 non-null   float64\n",
      " 4   PAT_to_total_income          1384 non-null   float64\n",
      " 5   PBDITA_to_total_income       1384 non-null   float64\n",
      " 6   PBT_to_total_income          1384 non-null   float64\n",
      " 7   Cash_profit_to_total_income  1384 non-null   float64\n",
      " 8   Current_ratio                1384 non-null   float64\n",
      " 9   Debt_to_equity_ratio         1384 non-null   float64\n",
      "dtypes: float64(8), int64(2)\n",
      "memory usage: 108.2 KB\n"
     ]
    }
   ],
   "source": [
    "Default.info()"
   ]
  },
  {
   "cell_type": "code",
   "execution_count": 7,
   "metadata": {},
   "outputs": [
    {
     "data": {
      "text/plain": [
       "0"
      ]
     },
     "execution_count": 7,
     "metadata": {},
     "output_type": "execute_result"
    }
   ],
   "source": [
    "Default.duplicated().sum()"
   ]
  },
  {
   "cell_type": "code",
   "execution_count": 8,
   "metadata": {},
   "outputs": [],
   "source": [
    "Default.drop('Num', axis = 1, inplace = True)"
   ]
  },
  {
   "cell_type": "markdown",
   "metadata": {},
   "source": [
    "#### Now, let us check the basic measures of descriptive statistics for the continuous variables."
   ]
  },
  {
   "cell_type": "code",
   "execution_count": 9,
   "metadata": {},
   "outputs": [
    {
     "data": {
      "text/html": [
       "<div>\n",
       "<style scoped>\n",
       "    .dataframe tbody tr th:only-of-type {\n",
       "        vertical-align: middle;\n",
       "    }\n",
       "\n",
       "    .dataframe tbody tr th {\n",
       "        vertical-align: top;\n",
       "    }\n",
       "\n",
       "    .dataframe thead th {\n",
       "        text-align: right;\n",
       "    }\n",
       "</style>\n",
       "<table border=\"1\" class=\"dataframe\">\n",
       "  <thead>\n",
       "    <tr style=\"text-align: right;\">\n",
       "      <th></th>\n",
       "      <th>default</th>\n",
       "      <th>Total_assets</th>\n",
       "      <th>Total_income</th>\n",
       "      <th>PAT_to_total_income</th>\n",
       "      <th>PBDITA_to_total_income</th>\n",
       "      <th>PBT_to_total_income</th>\n",
       "      <th>Cash_profit_to_total_income</th>\n",
       "      <th>Current_ratio</th>\n",
       "      <th>Debt_to_equity_ratio</th>\n",
       "    </tr>\n",
       "  </thead>\n",
       "  <tbody>\n",
       "    <tr>\n",
       "      <th>count</th>\n",
       "      <td>1384.000000</td>\n",
       "      <td>1384.000000</td>\n",
       "      <td>1384.000000</td>\n",
       "      <td>1384.000000</td>\n",
       "      <td>1384.000000</td>\n",
       "      <td>1384.000000</td>\n",
       "      <td>1384.000000</td>\n",
       "      <td>1384.000000</td>\n",
       "      <td>1384.000000</td>\n",
       "    </tr>\n",
       "    <tr>\n",
       "      <th>mean</th>\n",
       "      <td>0.234104</td>\n",
       "      <td>256.762568</td>\n",
       "      <td>381.657131</td>\n",
       "      <td>-29.922088</td>\n",
       "      <td>-4.380180</td>\n",
       "      <td>-27.554086</td>\n",
       "      <td>-16.239313</td>\n",
       "      <td>1.771303</td>\n",
       "      <td>3.394933</td>\n",
       "    </tr>\n",
       "    <tr>\n",
       "      <th>std</th>\n",
       "      <td>0.423591</td>\n",
       "      <td>404.127921</td>\n",
       "      <td>583.461117</td>\n",
       "      <td>346.245121</td>\n",
       "      <td>218.854784</td>\n",
       "      <td>332.137949</td>\n",
       "      <td>245.587280</td>\n",
       "      <td>2.323773</td>\n",
       "      <td>11.364884</td>\n",
       "    </tr>\n",
       "    <tr>\n",
       "      <th>min</th>\n",
       "      <td>0.000000</td>\n",
       "      <td>0.500000</td>\n",
       "      <td>0.100000</td>\n",
       "      <td>-9700.000000</td>\n",
       "      <td>-6400.000000</td>\n",
       "      <td>-9700.000000</td>\n",
       "      <td>-6400.000000</td>\n",
       "      <td>0.000000</td>\n",
       "      <td>0.000000</td>\n",
       "    </tr>\n",
       "    <tr>\n",
       "      <th>25%</th>\n",
       "      <td>0.000000</td>\n",
       "      <td>25.800000</td>\n",
       "      <td>31.225000</td>\n",
       "      <td>0.000000</td>\n",
       "      <td>3.501816</td>\n",
       "      <td>0.000000</td>\n",
       "      <td>1.045456</td>\n",
       "      <td>0.880000</td>\n",
       "      <td>0.187500</td>\n",
       "    </tr>\n",
       "    <tr>\n",
       "      <th>50%</th>\n",
       "      <td>0.000000</td>\n",
       "      <td>103.450000</td>\n",
       "      <td>187.550000</td>\n",
       "      <td>1.464327</td>\n",
       "      <td>8.569963</td>\n",
       "      <td>2.148565</td>\n",
       "      <td>4.638115</td>\n",
       "      <td>1.230000</td>\n",
       "      <td>0.860000</td>\n",
       "    </tr>\n",
       "    <tr>\n",
       "      <th>75%</th>\n",
       "      <td>0.000000</td>\n",
       "      <td>296.825000</td>\n",
       "      <td>428.142581</td>\n",
       "      <td>4.075183</td>\n",
       "      <td>13.438735</td>\n",
       "      <td>5.345512</td>\n",
       "      <td>8.024023</td>\n",
       "      <td>1.942500</td>\n",
       "      <td>1.970000</td>\n",
       "    </tr>\n",
       "    <tr>\n",
       "      <th>max</th>\n",
       "      <td>1.000000</td>\n",
       "      <td>2275.971000</td>\n",
       "      <td>3449.826000</td>\n",
       "      <td>150.000000</td>\n",
       "      <td>100.000000</td>\n",
       "      <td>100.000000</td>\n",
       "      <td>100.000000</td>\n",
       "      <td>18.790000</td>\n",
       "      <td>90.944100</td>\n",
       "    </tr>\n",
       "  </tbody>\n",
       "</table>\n",
       "</div>"
      ],
      "text/plain": [
       "           default  Total_assets  Total_income  PAT_to_total_income  \\\n",
       "count  1384.000000   1384.000000   1384.000000          1384.000000   \n",
       "mean      0.234104    256.762568    381.657131           -29.922088   \n",
       "std       0.423591    404.127921    583.461117           346.245121   \n",
       "min       0.000000      0.500000      0.100000         -9700.000000   \n",
       "25%       0.000000     25.800000     31.225000             0.000000   \n",
       "50%       0.000000    103.450000    187.550000             1.464327   \n",
       "75%       0.000000    296.825000    428.142581             4.075183   \n",
       "max       1.000000   2275.971000   3449.826000           150.000000   \n",
       "\n",
       "       PBDITA_to_total_income  PBT_to_total_income  \\\n",
       "count             1384.000000          1384.000000   \n",
       "mean                -4.380180           -27.554086   \n",
       "std                218.854784           332.137949   \n",
       "min              -6400.000000         -9700.000000   \n",
       "25%                  3.501816             0.000000   \n",
       "50%                  8.569963             2.148565   \n",
       "75%                 13.438735             5.345512   \n",
       "max                100.000000           100.000000   \n",
       "\n",
       "       Cash_profit_to_total_income  Current_ratio  Debt_to_equity_ratio  \n",
       "count                  1384.000000    1384.000000           1384.000000  \n",
       "mean                    -16.239313       1.771303              3.394933  \n",
       "std                     245.587280       2.323773             11.364884  \n",
       "min                   -6400.000000       0.000000              0.000000  \n",
       "25%                       1.045456       0.880000              0.187500  \n",
       "50%                       4.638115       1.230000              0.860000  \n",
       "75%                       8.024023       1.942500              1.970000  \n",
       "max                     100.000000      18.790000             90.944100  "
      ]
     },
     "execution_count": 9,
     "metadata": {},
     "output_type": "execute_result"
    }
   ],
   "source": [
    "Default.describe()"
   ]
  },
  {
   "cell_type": "markdown",
   "metadata": {},
   "source": [
    "#### Now, let us check the basic measures of descriptive statistics for the categorical variables."
   ]
  },
  {
   "cell_type": "code",
   "execution_count": 10,
   "metadata": {},
   "outputs": [
    {
     "data": {
      "text/plain": [
       "0    1060\n",
       "1     324\n",
       "Name: default, dtype: int64"
      ]
     },
     "execution_count": 10,
     "metadata": {},
     "output_type": "execute_result"
    }
   ],
   "source": [
    "Default[\"default\"].value_counts()"
   ]
  },
  {
   "cell_type": "markdown",
   "metadata": {},
   "source": [
    "#### Checking proportion of default"
   ]
  },
  {
   "cell_type": "code",
   "execution_count": 11,
   "metadata": {},
   "outputs": [
    {
     "data": {
      "text/plain": [
       "0.23410404624277456"
      ]
     },
     "execution_count": 11,
     "metadata": {},
     "output_type": "execute_result"
    }
   ],
   "source": [
    "Default.default.sum() / len(Default.default)"
   ]
  },
  {
   "cell_type": "markdown",
   "metadata": {},
   "source": [
    "#### Check for missing values"
   ]
  },
  {
   "cell_type": "code",
   "execution_count": 12,
   "metadata": {
    "scrolled": true
   },
   "outputs": [
    {
     "data": {
      "text/plain": [
       "default                        0\n",
       "Total_assets                   0\n",
       "Total_income                   0\n",
       "PAT_to_total_income            0\n",
       "PBDITA_to_total_income         0\n",
       "PBT_to_total_income            0\n",
       "Cash_profit_to_total_income    0\n",
       "Current_ratio                  0\n",
       "Debt_to_equity_ratio           0\n",
       "dtype: int64"
      ]
     },
     "execution_count": 12,
     "metadata": {},
     "output_type": "execute_result"
    }
   ],
   "source": [
    "Default.isnull().sum()"
   ]
  },
  {
   "cell_type": "markdown",
   "metadata": {},
   "source": [
    "There are no missing values in the dataset."
   ]
  },
  {
   "cell_type": "markdown",
   "metadata": {},
   "source": [
    "#### Getting Top 5 rows"
   ]
  },
  {
   "cell_type": "code",
   "execution_count": 13,
   "metadata": {},
   "outputs": [
    {
     "data": {
      "text/html": [
       "<div>\n",
       "<style scoped>\n",
       "    .dataframe tbody tr th:only-of-type {\n",
       "        vertical-align: middle;\n",
       "    }\n",
       "\n",
       "    .dataframe tbody tr th {\n",
       "        vertical-align: top;\n",
       "    }\n",
       "\n",
       "    .dataframe thead th {\n",
       "        text-align: right;\n",
       "    }\n",
       "</style>\n",
       "<table border=\"1\" class=\"dataframe\">\n",
       "  <thead>\n",
       "    <tr style=\"text-align: right;\">\n",
       "      <th></th>\n",
       "      <th>default</th>\n",
       "      <th>Total_assets</th>\n",
       "      <th>Total_income</th>\n",
       "      <th>PAT_to_total_income</th>\n",
       "      <th>PBDITA_to_total_income</th>\n",
       "      <th>PBT_to_total_income</th>\n",
       "      <th>Cash_profit_to_total_income</th>\n",
       "      <th>Current_ratio</th>\n",
       "      <th>Debt_to_equity_ratio</th>\n",
       "    </tr>\n",
       "  </thead>\n",
       "  <tbody>\n",
       "    <tr>\n",
       "      <th>0</th>\n",
       "      <td>1</td>\n",
       "      <td>210.5</td>\n",
       "      <td>125.3</td>\n",
       "      <td>-25.059856</td>\n",
       "      <td>-10.454908</td>\n",
       "      <td>-25.059856</td>\n",
       "      <td>-19.792498</td>\n",
       "      <td>0.86</td>\n",
       "      <td>2.99</td>\n",
       "    </tr>\n",
       "    <tr>\n",
       "      <th>1</th>\n",
       "      <td>1</td>\n",
       "      <td>674.4</td>\n",
       "      <td>939.6</td>\n",
       "      <td>-5.487016</td>\n",
       "      <td>-0.723712</td>\n",
       "      <td>-5.487016</td>\n",
       "      <td>-4.252448</td>\n",
       "      <td>0.87</td>\n",
       "      <td>48.74</td>\n",
       "    </tr>\n",
       "    <tr>\n",
       "      <th>2</th>\n",
       "      <td>1</td>\n",
       "      <td>288.3</td>\n",
       "      <td>1.2</td>\n",
       "      <td>-2233.333333</td>\n",
       "      <td>-1785.083333</td>\n",
       "      <td>-2175.000000</td>\n",
       "      <td>-2100.000000</td>\n",
       "      <td>1.40</td>\n",
       "      <td>0.28</td>\n",
       "    </tr>\n",
       "    <tr>\n",
       "      <th>3</th>\n",
       "      <td>1</td>\n",
       "      <td>32.2</td>\n",
       "      <td>30.3</td>\n",
       "      <td>-15.511551</td>\n",
       "      <td>-6.930693</td>\n",
       "      <td>-15.181518</td>\n",
       "      <td>-12.541254</td>\n",
       "      <td>0.44</td>\n",
       "      <td>24.50</td>\n",
       "    </tr>\n",
       "    <tr>\n",
       "      <th>4</th>\n",
       "      <td>1</td>\n",
       "      <td>380.9</td>\n",
       "      <td>24.6</td>\n",
       "      <td>-208.943089</td>\n",
       "      <td>-1.626016</td>\n",
       "      <td>-208.536585</td>\n",
       "      <td>-142.276423</td>\n",
       "      <td>1.17</td>\n",
       "      <td>10.37</td>\n",
       "    </tr>\n",
       "  </tbody>\n",
       "</table>\n",
       "</div>"
      ],
      "text/plain": [
       "   default  Total_assets  Total_income  PAT_to_total_income  \\\n",
       "0        1         210.5         125.3           -25.059856   \n",
       "1        1         674.4         939.6            -5.487016   \n",
       "2        1         288.3           1.2         -2233.333333   \n",
       "3        1          32.2          30.3           -15.511551   \n",
       "4        1         380.9          24.6          -208.943089   \n",
       "\n",
       "   PBDITA_to_total_income  PBT_to_total_income  Cash_profit_to_total_income  \\\n",
       "0              -10.454908           -25.059856                   -19.792498   \n",
       "1               -0.723712            -5.487016                    -4.252448   \n",
       "2            -1785.083333         -2175.000000                 -2100.000000   \n",
       "3               -6.930693           -15.181518                   -12.541254   \n",
       "4               -1.626016          -208.536585                  -142.276423   \n",
       "\n",
       "   Current_ratio  Debt_to_equity_ratio  \n",
       "0           0.86                  2.99  \n",
       "1           0.87                 48.74  \n",
       "2           1.40                  0.28  \n",
       "3           0.44                 24.50  \n",
       "4           1.17                 10.37  "
      ]
     },
     "execution_count": 13,
     "metadata": {},
     "output_type": "execute_result"
    }
   ],
   "source": [
    "Default.head()"
   ]
  },
  {
   "cell_type": "code",
   "execution_count": 14,
   "metadata": {},
   "outputs": [
    {
     "data": {
      "text/plain": [
       "<AxesSubplot:>"
      ]
     },
     "execution_count": 14,
     "metadata": {},
     "output_type": "execute_result"
    },
    {
     "data": {
      "image/png": "[encoded data removed]",
      "text/plain": [
       "<Figure size 432x288 with 1 Axes>"
      ]
     },
     "metadata": {
      "needs_background": "light"
     },
     "output_type": "display_data"
    }
   ],
   "source": [
    "Default.boxplot()"
   ]
  },
  {
   "cell_type": "code",
   "execution_count": 15,
   "metadata": {},
   "outputs": [],
   "source": [
    "Default_X = Default.drop('default', axis = 1)\n",
    "Default_Y = Default['default']"
   ]
  },
  {
   "cell_type": "code",
   "execution_count": 16,
   "metadata": {},
   "outputs": [],
   "source": [
    "def remove_outlier(col):\n",
    "    sorted(col)\n",
    "    Q1,Q3=np.percentile(col,[25,75])\n",
    "    IQR=Q3-Q1\n",
    "    lower_range= Q1-(1.5 * IQR)\n",
    "    upper_range= Q3+(1.5 * IQR)\n",
    "    return lower_range, upper_range"
   ]
  },
  {
   "cell_type": "code",
   "execution_count": 17,
   "metadata": {},
   "outputs": [],
   "source": [
    "for column in Default_X.columns:\n",
    "    lr,ur=remove_outlier(Default[column])\n",
    "    Default_X[column]=np.where(Default_X[column]>ur,ur,Default_X[column])\n",
    "    Default_X[column]=np.where(Default_X[column]<lr,lr,Default_X[column])"
   ]
  },
  {
   "cell_type": "code",
   "execution_count": 18,
   "metadata": {},
   "outputs": [],
   "source": [
    "Default = pd.concat([Default_X, Default_Y], axis = 1)"
   ]
  },
  {
   "cell_type": "markdown",
   "metadata": {},
   "source": [
    "### Correlation heatmap"
   ]
  },
  {
   "cell_type": "code",
   "execution_count": 19,
   "metadata": {},
   "outputs": [
    {
     "data": {
      "image/png": "[encoded data removed]",
      "text/plain": [
       "<Figure size 1440x1440 with 2 Axes>"
      ]
     },
     "metadata": {
      "needs_background": "light"
     },
     "output_type": "display_data"
    }
   ],
   "source": [
    "#calculate column correlations and make a seaborn heatmap - Before standardisation\n",
    "\n",
    "plt.figure(figsize=(20,20))  # setting the size of figure to 12 by 10\n",
    "p=sns.heatmap(Default.corr(), annot=True,cmap='coolwarm',square=True)"
   ]
  },
  {
   "cell_type": "markdown",
   "metadata": {},
   "source": [
    "- Vaiables such as PAT_as_perc_of_total_income, PBDITA_as_perc_of_total_income, PBT_as_perc_of_total_income, Cash_profit_as_perc_of_total_income  are highly correlated among themselves\n",
    "- Total income & Total assets seem to be highly correlated with each other"
   ]
  },
  {
   "cell_type": "markdown",
   "metadata": {},
   "source": [
    "# Model Building using Logistic Regression for 'Probability at default'"
   ]
  },
  {
   "cell_type": "markdown",
   "metadata": {},
   "source": [
    "## The equation of the Logistic Regression by which we predict the corresponding probabilities and then go on predict a discrete target variable is\n",
    "# y = $\\frac{1}{1 + {e^{-z}}}$\n",
    "\n",
    "### Note: z  = $\\beta_0$ +${\\sum_{i=1}^{n}(\\beta_i  X_1)}$"
   ]
  },
  {
   "cell_type": "markdown",
   "metadata": {},
   "source": [
    "#### Now, Importing statsmodels modules"
   ]
  },
  {
   "cell_type": "markdown",
   "metadata": {},
   "source": [
    "#### Creating logistic regression equation & storing it in f_1\n",
    "\n",
    "model = SM.logit(formula=’Dependent Variable ~ Σ𝐼𝑛𝑑𝑒𝑝𝑒𝑛𝑑𝑒𝑛𝑡 𝑉𝑎𝑟𝑖𝑎𝑏𝑙𝑒𝑠 (𝑘)’\n",
    "               data = ‘Data Frame containing the required values’).fit()"
   ]
  },
  {
   "cell_type": "code",
   "execution_count": 20,
   "metadata": {},
   "outputs": [],
   "source": [
    "import statsmodels.formula.api as SM"
   ]
  },
  {
   "cell_type": "markdown",
   "metadata": {},
   "source": [
    "## Model 1"
   ]
  },
  {
   "cell_type": "markdown",
   "metadata": {},
   "source": [
    "Lets check all columns we have in the dataset"
   ]
  },
  {
   "cell_type": "code",
   "execution_count": 21,
   "metadata": {},
   "outputs": [
    {
     "data": {
      "text/plain": [
       "Index(['Total_assets', 'Total_income', 'PAT_to_total_income',\n",
       "       'PBDITA_to_total_income', 'PBT_to_total_income',\n",
       "       'Cash_profit_to_total_income', 'Current_ratio', 'Debt_to_equity_ratio',\n",
       "       'default'],\n",
       "      dtype='object')"
      ]
     },
     "execution_count": 21,
     "metadata": {},
     "output_type": "execute_result"
    }
   ],
   "source": [
    "Default.columns"
   ]
  },
  {
   "cell_type": "code",
   "execution_count": 22,
   "metadata": {},
   "outputs": [],
   "source": [
    "f_1 = 'default ~ Total_assets + Total_income + PAT_to_total_income + PBDITA_to_total_income + PBT_to_total_income + Cash_profit_to_total_income + Current_ratio + Debt_to_equity_ratio'"
   ]
  },
  {
   "cell_type": "markdown",
   "metadata": {},
   "source": [
    "#### Fitting the logistic regression model on 'Default' dataset"
   ]
  },
  {
   "cell_type": "code",
   "execution_count": 23,
   "metadata": {},
   "outputs": [
    {
     "name": "stdout",
     "output_type": "stream",
     "text": [
      "Optimization terminated successfully.\n",
      "         Current function value: 0.414667\n",
      "         Iterations 7\n"
     ]
    }
   ],
   "source": [
    "model_1 = SM.logit(formula = f_1, data=Default).fit()"
   ]
  },
  {
   "cell_type": "markdown",
   "metadata": {},
   "source": [
    "#### Checking the parameters"
   ]
  },
  {
   "cell_type": "code",
   "execution_count": 24,
   "metadata": {
    "scrolled": true
   },
   "outputs": [
    {
     "data": {
      "text/html": [
       "<table class=\"simpletable\">\n",
       "<caption>Logit Regression Results</caption>\n",
       "<tr>\n",
       "  <th>Dep. Variable:</th>        <td>default</td>     <th>  No. Observations:  </th>  <td>  1384</td>  \n",
       "</tr>\n",
       "<tr>\n",
       "  <th>Model:</th>                 <td>Logit</td>      <th>  Df Residuals:      </th>  <td>  1375</td>  \n",
       "</tr>\n",
       "<tr>\n",
       "  <th>Method:</th>                 <td>MLE</td>       <th>  Df Model:          </th>  <td>     8</td>  \n",
       "</tr>\n",
       "<tr>\n",
       "  <th>Date:</th>            <td>Tue, 05 Apr 2022</td> <th>  Pseudo R-squ.:     </th>  <td>0.2380</td>  \n",
       "</tr>\n",
       "<tr>\n",
       "  <th>Time:</th>                <td>12:52:26</td>     <th>  Log-Likelihood:    </th> <td> -573.90</td> \n",
       "</tr>\n",
       "<tr>\n",
       "  <th>converged:</th>             <td>True</td>       <th>  LL-Null:           </th> <td> -753.16</td> \n",
       "</tr>\n",
       "<tr>\n",
       "  <th>Covariance Type:</th>     <td>nonrobust</td>    <th>  LLR p-value:       </th> <td>1.378e-72</td>\n",
       "</tr>\n",
       "</table>\n",
       "<table class=\"simpletable\">\n",
       "<tr>\n",
       "               <td></td>                  <th>coef</th>     <th>std err</th>      <th>z</th>      <th>P>|z|</th>  <th>[0.025</th>    <th>0.975]</th>  \n",
       "</tr>\n",
       "<tr>\n",
       "  <th>Intercept</th>                   <td>   -0.9072</td> <td>    0.193</td> <td>   -4.693</td> <td> 0.000</td> <td>   -1.286</td> <td>   -0.528</td>\n",
       "</tr>\n",
       "<tr>\n",
       "  <th>Total_assets</th>                <td>   -0.0079</td> <td>    0.001</td> <td>  -10.203</td> <td> 0.000</td> <td>   -0.009</td> <td>   -0.006</td>\n",
       "</tr>\n",
       "<tr>\n",
       "  <th>Total_income</th>                <td>    0.0016</td> <td>    0.000</td> <td>    3.777</td> <td> 0.000</td> <td>    0.001</td> <td>    0.002</td>\n",
       "</tr>\n",
       "<tr>\n",
       "  <th>PAT_to_total_income</th>         <td>    0.0406</td> <td>    0.068</td> <td>    0.601</td> <td> 0.548</td> <td>   -0.092</td> <td>    0.173</td>\n",
       "</tr>\n",
       "<tr>\n",
       "  <th>PBDITA_to_total_income</th>      <td>    0.0331</td> <td>    0.015</td> <td>    2.186</td> <td> 0.029</td> <td>    0.003</td> <td>    0.063</td>\n",
       "</tr>\n",
       "<tr>\n",
       "  <th>PBT_to_total_income</th>         <td>   -0.0845</td> <td>    0.053</td> <td>   -1.588</td> <td> 0.112</td> <td>   -0.189</td> <td>    0.020</td>\n",
       "</tr>\n",
       "<tr>\n",
       "  <th>Cash_profit_to_total_income</th> <td>   -0.0605</td> <td>    0.022</td> <td>   -2.757</td> <td> 0.006</td> <td>   -0.104</td> <td>   -0.018</td>\n",
       "</tr>\n",
       "<tr>\n",
       "  <th>Current_ratio</th>               <td>   -0.1658</td> <td>    0.081</td> <td>   -2.046</td> <td> 0.041</td> <td>   -0.325</td> <td>   -0.007</td>\n",
       "</tr>\n",
       "<tr>\n",
       "  <th>Debt_to_equity_ratio</th>        <td>    0.4780</td> <td>    0.049</td> <td>    9.665</td> <td> 0.000</td> <td>    0.381</td> <td>    0.575</td>\n",
       "</tr>\n",
       "</table>"
      ],
      "text/plain": [
       "<class 'statsmodels.iolib.summary.Summary'>\n",
       "\"\"\"\n",
       "                           Logit Regression Results                           \n",
       "==============================================================================\n",
       "Dep. Variable:                default   No. Observations:                 1384\n",
       "Model:                          Logit   Df Residuals:                     1375\n",
       "Method:                           MLE   Df Model:                            8\n",
       "Date:                Tue, 05 Apr 2022   Pseudo R-squ.:                  0.2380\n",
       "Time:                        12:52:26   Log-Likelihood:                -573.90\n",
       "converged:                       True   LL-Null:                       -753.16\n",
       "Covariance Type:            nonrobust   LLR p-value:                 1.378e-72\n",
       "===============================================================================================\n",
       "                                  coef    std err          z      P>|z|      [0.025      0.975]\n",
       "-----------------------------------------------------------------------------------------------\n",
       "Intercept                      -0.9072      0.193     -4.693      0.000      -1.286      -0.528\n",
       "Total_assets                   -0.0079      0.001    -10.203      0.000      -0.009      -0.006\n",
       "Total_income                    0.0016      0.000      3.777      0.000       0.001       0.002\n",
       "PAT_to_total_income             0.0406      0.068      0.601      0.548      -0.092       0.173\n",
       "PBDITA_to_total_income          0.0331      0.015      2.186      0.029       0.003       0.063\n",
       "PBT_to_total_income            -0.0845      0.053     -1.588      0.112      -0.189       0.020\n",
       "Cash_profit_to_total_income    -0.0605      0.022     -2.757      0.006      -0.104      -0.018\n",
       "Current_ratio                  -0.1658      0.081     -2.046      0.041      -0.325      -0.007\n",
       "Debt_to_equity_ratio            0.4780      0.049      9.665      0.000       0.381       0.575\n",
       "===============================================================================================\n",
       "\"\"\""
      ]
     },
     "execution_count": 24,
     "metadata": {},
     "output_type": "execute_result"
    }
   ],
   "source": [
    "model_1.summary()"
   ]
  },
  {
   "cell_type": "markdown",
   "metadata": {},
   "source": [
    "Most of the ratio variables are insignificant. "
   ]
  },
  {
   "cell_type": "markdown",
   "metadata": {},
   "source": [
    "#### Checking the Variance Inflation Factor"
   ]
  },
  {
   "cell_type": "code",
   "execution_count": 25,
   "metadata": {},
   "outputs": [],
   "source": [
    "from statsmodels.stats.outliers_influence import variance_inflation_factor\n",
    "\n",
    "def calc_vif(X):\n",
    "\n",
    "    # Calculating VIF\n",
    "    vif = pd.DataFrame()\n",
    "    vif[\"variables\"] = X.columns\n",
    "    vif[\"VIF\"] = [variance_inflation_factor(X.values, i) for i in range(X.shape[1])]\n",
    "\n",
    "    return(vif)"
   ]
  },
  {
   "cell_type": "code",
   "execution_count": 26,
   "metadata": {},
   "outputs": [
    {
     "data": {
      "text/html": [
       "<div>\n",
       "<style scoped>\n",
       "    .dataframe tbody tr th:only-of-type {\n",
       "        vertical-align: middle;\n",
       "    }\n",
       "\n",
       "    .dataframe tbody tr th {\n",
       "        vertical-align: top;\n",
       "    }\n",
       "\n",
       "    .dataframe thead th {\n",
       "        text-align: right;\n",
       "    }\n",
       "</style>\n",
       "<table border=\"1\" class=\"dataframe\">\n",
       "  <thead>\n",
       "    <tr style=\"text-align: right;\">\n",
       "      <th></th>\n",
       "      <th>variables</th>\n",
       "      <th>VIF</th>\n",
       "    </tr>\n",
       "  </thead>\n",
       "  <tbody>\n",
       "    <tr>\n",
       "      <th>4</th>\n",
       "      <td>PBT_to_total_income</td>\n",
       "      <td>21.102170</td>\n",
       "    </tr>\n",
       "    <tr>\n",
       "      <th>2</th>\n",
       "      <td>PAT_to_total_income</td>\n",
       "      <td>19.296923</td>\n",
       "    </tr>\n",
       "    <tr>\n",
       "      <th>5</th>\n",
       "      <td>Cash_profit_to_total_income</td>\n",
       "      <td>7.997149</td>\n",
       "    </tr>\n",
       "    <tr>\n",
       "      <th>3</th>\n",
       "      <td>PBDITA_to_total_income</td>\n",
       "      <td>7.834539</td>\n",
       "    </tr>\n",
       "    <tr>\n",
       "      <th>0</th>\n",
       "      <td>Total_assets</td>\n",
       "      <td>5.199503</td>\n",
       "    </tr>\n",
       "    <tr>\n",
       "      <th>1</th>\n",
       "      <td>Total_income</td>\n",
       "      <td>5.155808</td>\n",
       "    </tr>\n",
       "    <tr>\n",
       "      <th>6</th>\n",
       "      <td>Current_ratio</td>\n",
       "      <td>1.983593</td>\n",
       "    </tr>\n",
       "    <tr>\n",
       "      <th>7</th>\n",
       "      <td>Debt_to_equity_ratio</td>\n",
       "      <td>1.857565</td>\n",
       "    </tr>\n",
       "  </tbody>\n",
       "</table>\n",
       "</div>"
      ],
      "text/plain": [
       "                     variables        VIF\n",
       "4          PBT_to_total_income  21.102170\n",
       "2          PAT_to_total_income  19.296923\n",
       "5  Cash_profit_to_total_income   7.997149\n",
       "3       PBDITA_to_total_income   7.834539\n",
       "0                 Total_assets   5.199503\n",
       "1                 Total_income   5.155808\n",
       "6                Current_ratio   1.983593\n",
       "7         Debt_to_equity_ratio   1.857565"
      ]
     },
     "execution_count": 26,
     "metadata": {},
     "output_type": "execute_result"
    }
   ],
   "source": [
    "X = Default.drop('default', axis = 1)\n",
    "calc_vif(X).sort_values(by = 'VIF', ascending = False)"
   ]
  },
  {
   "cell_type": "code",
   "execution_count": 27,
   "metadata": {},
   "outputs": [
    {
     "data": {
      "text/html": [
       "<div>\n",
       "<style scoped>\n",
       "    .dataframe tbody tr th:only-of-type {\n",
       "        vertical-align: middle;\n",
       "    }\n",
       "\n",
       "    .dataframe tbody tr th {\n",
       "        vertical-align: top;\n",
       "    }\n",
       "\n",
       "    .dataframe thead th {\n",
       "        text-align: right;\n",
       "    }\n",
       "</style>\n",
       "<table border=\"1\" class=\"dataframe\">\n",
       "  <thead>\n",
       "    <tr style=\"text-align: right;\">\n",
       "      <th></th>\n",
       "      <th>variables</th>\n",
       "      <th>VIF</th>\n",
       "    </tr>\n",
       "  </thead>\n",
       "  <tbody>\n",
       "    <tr>\n",
       "      <th>4</th>\n",
       "      <td>Cash_profit_to_total_income</td>\n",
       "      <td>7.876186</td>\n",
       "    </tr>\n",
       "    <tr>\n",
       "      <th>3</th>\n",
       "      <td>PBDITA_to_total_income</td>\n",
       "      <td>7.775399</td>\n",
       "    </tr>\n",
       "    <tr>\n",
       "      <th>0</th>\n",
       "      <td>Total_assets</td>\n",
       "      <td>5.199503</td>\n",
       "    </tr>\n",
       "    <tr>\n",
       "      <th>1</th>\n",
       "      <td>Total_income</td>\n",
       "      <td>5.140456</td>\n",
       "    </tr>\n",
       "    <tr>\n",
       "      <th>2</th>\n",
       "      <td>PAT_to_total_income</td>\n",
       "      <td>3.500457</td>\n",
       "    </tr>\n",
       "    <tr>\n",
       "      <th>5</th>\n",
       "      <td>Current_ratio</td>\n",
       "      <td>1.983329</td>\n",
       "    </tr>\n",
       "    <tr>\n",
       "      <th>6</th>\n",
       "      <td>Debt_to_equity_ratio</td>\n",
       "      <td>1.845903</td>\n",
       "    </tr>\n",
       "  </tbody>\n",
       "</table>\n",
       "</div>"
      ],
      "text/plain": [
       "                     variables       VIF\n",
       "4  Cash_profit_to_total_income  7.876186\n",
       "3       PBDITA_to_total_income  7.775399\n",
       "0                 Total_assets  5.199503\n",
       "1                 Total_income  5.140456\n",
       "2          PAT_to_total_income  3.500457\n",
       "5                Current_ratio  1.983329\n",
       "6         Debt_to_equity_ratio  1.845903"
      ]
     },
     "execution_count": 27,
     "metadata": {},
     "output_type": "execute_result"
    }
   ],
   "source": [
    "X = X.drop('PBT_to_total_income', axis = 1)\n",
    "calc_vif(X).sort_values(by = 'VIF', ascending = False)"
   ]
  },
  {
   "cell_type": "code",
   "execution_count": 28,
   "metadata": {},
   "outputs": [
    {
     "data": {
      "text/html": [
       "<div>\n",
       "<style scoped>\n",
       "    .dataframe tbody tr th:only-of-type {\n",
       "        vertical-align: middle;\n",
       "    }\n",
       "\n",
       "    .dataframe tbody tr th {\n",
       "        vertical-align: top;\n",
       "    }\n",
       "\n",
       "    .dataframe thead th {\n",
       "        text-align: right;\n",
       "    }\n",
       "</style>\n",
       "<table border=\"1\" class=\"dataframe\">\n",
       "  <thead>\n",
       "    <tr style=\"text-align: right;\">\n",
       "      <th></th>\n",
       "      <th>variables</th>\n",
       "      <th>VIF</th>\n",
       "    </tr>\n",
       "  </thead>\n",
       "  <tbody>\n",
       "    <tr>\n",
       "      <th>0</th>\n",
       "      <td>Total_assets</td>\n",
       "      <td>5.197439</td>\n",
       "    </tr>\n",
       "    <tr>\n",
       "      <th>1</th>\n",
       "      <td>Total_income</td>\n",
       "      <td>5.139785</td>\n",
       "    </tr>\n",
       "    <tr>\n",
       "      <th>3</th>\n",
       "      <td>PBDITA_to_total_income</td>\n",
       "      <td>3.914149</td>\n",
       "    </tr>\n",
       "    <tr>\n",
       "      <th>2</th>\n",
       "      <td>PAT_to_total_income</td>\n",
       "      <td>2.814014</td>\n",
       "    </tr>\n",
       "    <tr>\n",
       "      <th>4</th>\n",
       "      <td>Current_ratio</td>\n",
       "      <td>1.977934</td>\n",
       "    </tr>\n",
       "    <tr>\n",
       "      <th>5</th>\n",
       "      <td>Debt_to_equity_ratio</td>\n",
       "      <td>1.793156</td>\n",
       "    </tr>\n",
       "  </tbody>\n",
       "</table>\n",
       "</div>"
      ],
      "text/plain": [
       "                variables       VIF\n",
       "0            Total_assets  5.197439\n",
       "1            Total_income  5.139785\n",
       "3  PBDITA_to_total_income  3.914149\n",
       "2     PAT_to_total_income  2.814014\n",
       "4           Current_ratio  1.977934\n",
       "5    Debt_to_equity_ratio  1.793156"
      ]
     },
     "execution_count": 28,
     "metadata": {},
     "output_type": "execute_result"
    }
   ],
   "source": [
    "X = X.drop('Cash_profit_to_total_income', axis = 1)\n",
    "calc_vif(X).sort_values(by = 'VIF', ascending = False)"
   ]
  },
  {
   "cell_type": "code",
   "execution_count": 29,
   "metadata": {},
   "outputs": [
    {
     "data": {
      "text/html": [
       "<div>\n",
       "<style scoped>\n",
       "    .dataframe tbody tr th:only-of-type {\n",
       "        vertical-align: middle;\n",
       "    }\n",
       "\n",
       "    .dataframe tbody tr th {\n",
       "        vertical-align: top;\n",
       "    }\n",
       "\n",
       "    .dataframe thead th {\n",
       "        text-align: right;\n",
       "    }\n",
       "</style>\n",
       "<table border=\"1\" class=\"dataframe\">\n",
       "  <thead>\n",
       "    <tr style=\"text-align: right;\">\n",
       "      <th></th>\n",
       "      <th>variables</th>\n",
       "      <th>VIF</th>\n",
       "    </tr>\n",
       "  </thead>\n",
       "  <tbody>\n",
       "    <tr>\n",
       "      <th>2</th>\n",
       "      <td>PBDITA_to_total_income</td>\n",
       "      <td>3.664134</td>\n",
       "    </tr>\n",
       "    <tr>\n",
       "      <th>1</th>\n",
       "      <td>PAT_to_total_income</td>\n",
       "      <td>2.758106</td>\n",
       "    </tr>\n",
       "    <tr>\n",
       "      <th>3</th>\n",
       "      <td>Current_ratio</td>\n",
       "      <td>1.955957</td>\n",
       "    </tr>\n",
       "    <tr>\n",
       "      <th>4</th>\n",
       "      <td>Debt_to_equity_ratio</td>\n",
       "      <td>1.757982</td>\n",
       "    </tr>\n",
       "    <tr>\n",
       "      <th>0</th>\n",
       "      <td>Total_income</td>\n",
       "      <td>1.697737</td>\n",
       "    </tr>\n",
       "  </tbody>\n",
       "</table>\n",
       "</div>"
      ],
      "text/plain": [
       "                variables       VIF\n",
       "2  PBDITA_to_total_income  3.664134\n",
       "1     PAT_to_total_income  2.758106\n",
       "3           Current_ratio  1.955957\n",
       "4    Debt_to_equity_ratio  1.757982\n",
       "0            Total_income  1.697737"
      ]
     },
     "execution_count": 29,
     "metadata": {},
     "output_type": "execute_result"
    }
   ],
   "source": [
    "X = X.drop('Total_assets', axis = 1)\n",
    "calc_vif(X).sort_values(by = 'VIF', ascending = False)"
   ]
  },
  {
   "cell_type": "code",
   "execution_count": 30,
   "metadata": {},
   "outputs": [],
   "source": [
    "from sklearn.model_selection import train_test_split"
   ]
  },
  {
   "cell_type": "code",
   "execution_count": 31,
   "metadata": {},
   "outputs": [],
   "source": [
    "y = Default['default']"
   ]
  },
  {
   "cell_type": "code",
   "execution_count": 32,
   "metadata": {},
   "outputs": [],
   "source": [
    "X_train, X_test, y_train, y_test = train_test_split(X, y, test_size = 0.3, random_state = 12)"
   ]
  },
  {
   "cell_type": "code",
   "execution_count": 33,
   "metadata": {},
   "outputs": [],
   "source": [
    "Default_train = pd.concat([X_train, y_train], axis = 1)\n",
    "Default_test = pd.concat([X_test, y_test], axis = 1)"
   ]
  },
  {
   "cell_type": "markdown",
   "metadata": {},
   "source": [
    "## Model 2"
   ]
  },
  {
   "cell_type": "code",
   "execution_count": 34,
   "metadata": {},
   "outputs": [
    {
     "name": "stdout",
     "output_type": "stream",
     "text": [
      "Optimization terminated successfully.\n",
      "         Current function value: 0.477293\n",
      "         Iterations 6\n"
     ]
    }
   ],
   "source": [
    "model_2 = SM.logit(formula = 'default ~ PBDITA_to_total_income + PAT_to_total_income + Current_ratio + Debt_to_equity_ratio + Total_income', data=Default_train).fit()"
   ]
  },
  {
   "cell_type": "markdown",
   "metadata": {},
   "source": [
    "#### Checking the coefficients"
   ]
  },
  {
   "cell_type": "code",
   "execution_count": 35,
   "metadata": {},
   "outputs": [
    {
     "data": {
      "text/html": [
       "<table class=\"simpletable\">\n",
       "<caption>Logit Regression Results</caption>\n",
       "<tr>\n",
       "  <th>Dep. Variable:</th>        <td>default</td>     <th>  No. Observations:  </th>  <td>   968</td>  \n",
       "</tr>\n",
       "<tr>\n",
       "  <th>Model:</th>                 <td>Logit</td>      <th>  Df Residuals:      </th>  <td>   962</td>  \n",
       "</tr>\n",
       "<tr>\n",
       "  <th>Method:</th>                 <td>MLE</td>       <th>  Df Model:          </th>  <td>     5</td>  \n",
       "</tr>\n",
       "<tr>\n",
       "  <th>Date:</th>            <td>Tue, 05 Apr 2022</td> <th>  Pseudo R-squ.:     </th>  <td>0.1276</td>  \n",
       "</tr>\n",
       "<tr>\n",
       "  <th>Time:</th>                <td>12:52:34</td>     <th>  Log-Likelihood:    </th> <td> -462.02</td> \n",
       "</tr>\n",
       "<tr>\n",
       "  <th>converged:</th>             <td>True</td>       <th>  LL-Null:           </th> <td> -529.59</td> \n",
       "</tr>\n",
       "<tr>\n",
       "  <th>Covariance Type:</th>     <td>nonrobust</td>    <th>  LLR p-value:       </th> <td>1.934e-27</td>\n",
       "</tr>\n",
       "</table>\n",
       "<table class=\"simpletable\">\n",
       "<tr>\n",
       "             <td></td>               <th>coef</th>     <th>std err</th>      <th>z</th>      <th>P>|z|</th>  <th>[0.025</th>    <th>0.975]</th>  \n",
       "</tr>\n",
       "<tr>\n",
       "  <th>Intercept</th>              <td>   -0.8359</td> <td>    0.215</td> <td>   -3.897</td> <td> 0.000</td> <td>   -1.256</td> <td>   -0.415</td>\n",
       "</tr>\n",
       "<tr>\n",
       "  <th>PBDITA_to_total_income</th> <td>   -0.0293</td> <td>    0.012</td> <td>   -2.368</td> <td> 0.018</td> <td>   -0.054</td> <td>   -0.005</td>\n",
       "</tr>\n",
       "<tr>\n",
       "  <th>PAT_to_total_income</th>    <td>   -0.0269</td> <td>    0.027</td> <td>   -0.997</td> <td> 0.319</td> <td>   -0.080</td> <td>    0.026</td>\n",
       "</tr>\n",
       "<tr>\n",
       "  <th>Current_ratio</th>          <td>   -0.1514</td> <td>    0.097</td> <td>   -1.557</td> <td> 0.119</td> <td>   -0.342</td> <td>    0.039</td>\n",
       "</tr>\n",
       "<tr>\n",
       "  <th>Debt_to_equity_ratio</th>   <td>    0.3813</td> <td>    0.055</td> <td>    6.992</td> <td> 0.000</td> <td>    0.274</td> <td>    0.488</td>\n",
       "</tr>\n",
       "<tr>\n",
       "  <th>Total_income</th>           <td>   -0.0017</td> <td>    0.000</td> <td>   -5.340</td> <td> 0.000</td> <td>   -0.002</td> <td>   -0.001</td>\n",
       "</tr>\n",
       "</table>"
      ],
      "text/plain": [
       "<class 'statsmodels.iolib.summary.Summary'>\n",
       "\"\"\"\n",
       "                           Logit Regression Results                           \n",
       "==============================================================================\n",
       "Dep. Variable:                default   No. Observations:                  968\n",
       "Model:                          Logit   Df Residuals:                      962\n",
       "Method:                           MLE   Df Model:                            5\n",
       "Date:                Tue, 05 Apr 2022   Pseudo R-squ.:                  0.1276\n",
       "Time:                        12:52:34   Log-Likelihood:                -462.02\n",
       "converged:                       True   LL-Null:                       -529.59\n",
       "Covariance Type:            nonrobust   LLR p-value:                 1.934e-27\n",
       "==========================================================================================\n",
       "                             coef    std err          z      P>|z|      [0.025      0.975]\n",
       "------------------------------------------------------------------------------------------\n",
       "Intercept                 -0.8359      0.215     -3.897      0.000      -1.256      -0.415\n",
       "PBDITA_to_total_income    -0.0293      0.012     -2.368      0.018      -0.054      -0.005\n",
       "PAT_to_total_income       -0.0269      0.027     -0.997      0.319      -0.080       0.026\n",
       "Current_ratio             -0.1514      0.097     -1.557      0.119      -0.342       0.039\n",
       "Debt_to_equity_ratio       0.3813      0.055      6.992      0.000       0.274       0.488\n",
       "Total_income              -0.0017      0.000     -5.340      0.000      -0.002      -0.001\n",
       "==========================================================================================\n",
       "\"\"\""
      ]
     },
     "execution_count": 35,
     "metadata": {},
     "output_type": "execute_result"
    }
   ],
   "source": [
    "model_2.summary()"
   ]
  },
  {
   "cell_type": "markdown",
   "metadata": {},
   "source": [
    "PBDITA_to_total_income is an insignificant variable, therefore, we will eliminate it."
   ]
  },
  {
   "cell_type": "markdown",
   "metadata": {},
   "source": [
    "## Model 3"
   ]
  },
  {
   "cell_type": "code",
   "execution_count": 36,
   "metadata": {},
   "outputs": [
    {
     "name": "stdout",
     "output_type": "stream",
     "text": [
      "Optimization terminated successfully.\n",
      "         Current function value: 0.477799\n",
      "         Iterations 6\n"
     ]
    }
   ],
   "source": [
    "model_3 = SM.logit(formula = 'default ~ PBDITA_to_total_income + Current_ratio + Debt_to_equity_ratio + Total_income', data=Default_train).fit()"
   ]
  },
  {
   "cell_type": "markdown",
   "metadata": {},
   "source": [
    "#### Checking the coefficients"
   ]
  },
  {
   "cell_type": "code",
   "execution_count": 37,
   "metadata": {},
   "outputs": [
    {
     "data": {
      "text/html": [
       "<table class=\"simpletable\">\n",
       "<caption>Logit Regression Results</caption>\n",
       "<tr>\n",
       "  <th>Dep. Variable:</th>        <td>default</td>     <th>  No. Observations:  </th>  <td>   968</td>  \n",
       "</tr>\n",
       "<tr>\n",
       "  <th>Model:</th>                 <td>Logit</td>      <th>  Df Residuals:      </th>  <td>   963</td>  \n",
       "</tr>\n",
       "<tr>\n",
       "  <th>Method:</th>                 <td>MLE</td>       <th>  Df Model:          </th>  <td>     4</td>  \n",
       "</tr>\n",
       "<tr>\n",
       "  <th>Date:</th>            <td>Tue, 05 Apr 2022</td> <th>  Pseudo R-squ.:     </th>  <td>0.1267</td>  \n",
       "</tr>\n",
       "<tr>\n",
       "  <th>Time:</th>                <td>12:52:36</td>     <th>  Log-Likelihood:    </th> <td> -462.51</td> \n",
       "</tr>\n",
       "<tr>\n",
       "  <th>converged:</th>             <td>True</td>       <th>  LL-Null:           </th> <td> -529.59</td> \n",
       "</tr>\n",
       "<tr>\n",
       "  <th>Covariance Type:</th>     <td>nonrobust</td>    <th>  LLR p-value:       </th> <td>5.029e-28</td>\n",
       "</tr>\n",
       "</table>\n",
       "<table class=\"simpletable\">\n",
       "<tr>\n",
       "             <td></td>               <th>coef</th>     <th>std err</th>      <th>z</th>      <th>P>|z|</th>  <th>[0.025</th>    <th>0.975]</th>  \n",
       "</tr>\n",
       "<tr>\n",
       "  <th>Intercept</th>              <td>   -0.7943</td> <td>    0.210</td> <td>   -3.775</td> <td> 0.000</td> <td>   -1.207</td> <td>   -0.382</td>\n",
       "</tr>\n",
       "<tr>\n",
       "  <th>PBDITA_to_total_income</th> <td>   -0.0382</td> <td>    0.009</td> <td>   -4.371</td> <td> 0.000</td> <td>   -0.055</td> <td>   -0.021</td>\n",
       "</tr>\n",
       "<tr>\n",
       "  <th>Current_ratio</th>          <td>   -0.1547</td> <td>    0.097</td> <td>   -1.590</td> <td> 0.112</td> <td>   -0.345</td> <td>    0.036</td>\n",
       "</tr>\n",
       "<tr>\n",
       "  <th>Debt_to_equity_ratio</th>   <td>    0.3990</td> <td>    0.052</td> <td>    7.726</td> <td> 0.000</td> <td>    0.298</td> <td>    0.500</td>\n",
       "</tr>\n",
       "<tr>\n",
       "  <th>Total_income</th>           <td>   -0.0018</td> <td>    0.000</td> <td>   -5.806</td> <td> 0.000</td> <td>   -0.002</td> <td>   -0.001</td>\n",
       "</tr>\n",
       "</table>"
      ],
      "text/plain": [
       "<class 'statsmodels.iolib.summary.Summary'>\n",
       "\"\"\"\n",
       "                           Logit Regression Results                           \n",
       "==============================================================================\n",
       "Dep. Variable:                default   No. Observations:                  968\n",
       "Model:                          Logit   Df Residuals:                      963\n",
       "Method:                           MLE   Df Model:                            4\n",
       "Date:                Tue, 05 Apr 2022   Pseudo R-squ.:                  0.1267\n",
       "Time:                        12:52:36   Log-Likelihood:                -462.51\n",
       "converged:                       True   LL-Null:                       -529.59\n",
       "Covariance Type:            nonrobust   LLR p-value:                 5.029e-28\n",
       "==========================================================================================\n",
       "                             coef    std err          z      P>|z|      [0.025      0.975]\n",
       "------------------------------------------------------------------------------------------\n",
       "Intercept                 -0.7943      0.210     -3.775      0.000      -1.207      -0.382\n",
       "PBDITA_to_total_income    -0.0382      0.009     -4.371      0.000      -0.055      -0.021\n",
       "Current_ratio             -0.1547      0.097     -1.590      0.112      -0.345       0.036\n",
       "Debt_to_equity_ratio       0.3990      0.052      7.726      0.000       0.298       0.500\n",
       "Total_income              -0.0018      0.000     -5.806      0.000      -0.002      -0.001\n",
       "==========================================================================================\n",
       "\"\"\""
      ]
     },
     "execution_count": 37,
     "metadata": {},
     "output_type": "execute_result"
    }
   ],
   "source": [
    "model_3.summary()"
   ]
  },
  {
   "cell_type": "markdown",
   "metadata": {},
   "source": [
    "Current_ratio is still insignificant, therefore, we will eliminate it"
   ]
  },
  {
   "cell_type": "markdown",
   "metadata": {},
   "source": [
    "## Model 4"
   ]
  },
  {
   "cell_type": "markdown",
   "metadata": {},
   "source": [
    "Adding variables pertaining to Repayment Status"
   ]
  },
  {
   "cell_type": "code",
   "execution_count": 38,
   "metadata": {},
   "outputs": [
    {
     "name": "stdout",
     "output_type": "stream",
     "text": [
      "Optimization terminated successfully.\n",
      "         Current function value: 0.479129\n",
      "         Iterations 6\n"
     ]
    }
   ],
   "source": [
    "model_4 = SM.logit(formula = 'default ~ PBDITA_to_total_income + Debt_to_equity_ratio + Total_income', data=Default_train).fit()"
   ]
  },
  {
   "cell_type": "code",
   "execution_count": 39,
   "metadata": {},
   "outputs": [
    {
     "data": {
      "text/html": [
       "<table class=\"simpletable\">\n",
       "<caption>Logit Regression Results</caption>\n",
       "<tr>\n",
       "  <th>Dep. Variable:</th>        <td>default</td>     <th>  No. Observations:  </th>  <td>   968</td>  \n",
       "</tr>\n",
       "<tr>\n",
       "  <th>Model:</th>                 <td>Logit</td>      <th>  Df Residuals:      </th>  <td>   964</td>  \n",
       "</tr>\n",
       "<tr>\n",
       "  <th>Method:</th>                 <td>MLE</td>       <th>  Df Model:          </th>  <td>     3</td>  \n",
       "</tr>\n",
       "<tr>\n",
       "  <th>Date:</th>            <td>Tue, 05 Apr 2022</td> <th>  Pseudo R-squ.:     </th>  <td>0.1242</td>  \n",
       "</tr>\n",
       "<tr>\n",
       "  <th>Time:</th>                <td>12:52:39</td>     <th>  Log-Likelihood:    </th> <td> -463.80</td> \n",
       "</tr>\n",
       "<tr>\n",
       "  <th>converged:</th>             <td>True</td>       <th>  LL-Null:           </th> <td> -529.59</td> \n",
       "</tr>\n",
       "<tr>\n",
       "  <th>Covariance Type:</th>     <td>nonrobust</td>    <th>  LLR p-value:       </th> <td>2.469e-28</td>\n",
       "</tr>\n",
       "</table>\n",
       "<table class=\"simpletable\">\n",
       "<tr>\n",
       "             <td></td>               <th>coef</th>     <th>std err</th>      <th>z</th>      <th>P>|z|</th>  <th>[0.025</th>    <th>0.975]</th>  \n",
       "</tr>\n",
       "<tr>\n",
       "  <th>Intercept</th>              <td>   -1.0365</td> <td>    0.148</td> <td>   -6.981</td> <td> 0.000</td> <td>   -1.327</td> <td>   -0.745</td>\n",
       "</tr>\n",
       "<tr>\n",
       "  <th>PBDITA_to_total_income</th> <td>   -0.0388</td> <td>    0.009</td> <td>   -4.430</td> <td> 0.000</td> <td>   -0.056</td> <td>   -0.022</td>\n",
       "</tr>\n",
       "<tr>\n",
       "  <th>Debt_to_equity_ratio</th>   <td>    0.4148</td> <td>    0.051</td> <td>    8.171</td> <td> 0.000</td> <td>    0.315</td> <td>    0.514</td>\n",
       "</tr>\n",
       "<tr>\n",
       "  <th>Total_income</th>           <td>   -0.0017</td> <td>    0.000</td> <td>   -5.717</td> <td> 0.000</td> <td>   -0.002</td> <td>   -0.001</td>\n",
       "</tr>\n",
       "</table>"
      ],
      "text/plain": [
       "<class 'statsmodels.iolib.summary.Summary'>\n",
       "\"\"\"\n",
       "                           Logit Regression Results                           \n",
       "==============================================================================\n",
       "Dep. Variable:                default   No. Observations:                  968\n",
       "Model:                          Logit   Df Residuals:                      964\n",
       "Method:                           MLE   Df Model:                            3\n",
       "Date:                Tue, 05 Apr 2022   Pseudo R-squ.:                  0.1242\n",
       "Time:                        12:52:39   Log-Likelihood:                -463.80\n",
       "converged:                       True   LL-Null:                       -529.59\n",
       "Covariance Type:            nonrobust   LLR p-value:                 2.469e-28\n",
       "==========================================================================================\n",
       "                             coef    std err          z      P>|z|      [0.025      0.975]\n",
       "------------------------------------------------------------------------------------------\n",
       "Intercept                 -1.0365      0.148     -6.981      0.000      -1.327      -0.745\n",
       "PBDITA_to_total_income    -0.0388      0.009     -4.430      0.000      -0.056      -0.022\n",
       "Debt_to_equity_ratio       0.4148      0.051      8.171      0.000       0.315       0.514\n",
       "Total_income              -0.0017      0.000     -5.717      0.000      -0.002      -0.001\n",
       "==========================================================================================\n",
       "\"\"\""
      ]
     },
     "execution_count": 39,
     "metadata": {},
     "output_type": "execute_result"
    }
   ],
   "source": [
    "model_4.summary()"
   ]
  },
  {
   "cell_type": "code",
   "execution_count": 40,
   "metadata": {},
   "outputs": [],
   "source": [
    "y_prob_pred_train = model_4.predict(Default_train)"
   ]
  },
  {
   "cell_type": "code",
   "execution_count": 41,
   "metadata": {},
   "outputs": [],
   "source": [
    "y_class_pred=[]\n",
    "for i in range(0,len(y_prob_pred_train)):\n",
    "    if np.array(y_prob_pred_train)[i]>0.5:\n",
    "        a=1\n",
    "    else:\n",
    "        a=0\n",
    "    y_class_pred.append(a)"
   ]
  },
  {
   "cell_type": "code",
   "execution_count": 42,
   "metadata": {},
   "outputs": [],
   "source": [
    "from sklearn import metrics"
   ]
  },
  {
   "cell_type": "code",
   "execution_count": 43,
   "metadata": {},
   "outputs": [
    {
     "data": {
      "image/png": "[encoded data removed]",
      "text/plain": [
       "<Figure size 432x288 with 2 Axes>"
      ]
     },
     "metadata": {
      "needs_background": "light"
     },
     "output_type": "display_data"
    }
   ],
   "source": [
    "sns.heatmap((metrics.confusion_matrix(Default_train['default'],y_class_pred)),annot=True,fmt='.5g'\n",
    "            ,cmap='Blues');\n",
    "plt.xlabel('Predicted');\n",
    "plt.ylabel('Actuals',rotation=0);"
   ]
  },
  {
   "cell_type": "code",
   "execution_count": 44,
   "metadata": {},
   "outputs": [
    {
     "data": {
      "text/plain": [
       "0.27510917030567683"
      ]
     },
     "execution_count": 44,
     "metadata": {},
     "output_type": "execute_result"
    }
   ],
   "source": [
    "63/229"
   ]
  },
  {
   "cell_type": "code",
   "execution_count": 45,
   "metadata": {},
   "outputs": [
    {
     "data": {
      "text/plain": [
       "0.7325581395348837"
      ]
     },
     "execution_count": 45,
     "metadata": {},
     "output_type": "execute_result"
    }
   ],
   "source": [
    "63/86"
   ]
  },
  {
   "cell_type": "markdown",
   "metadata": {},
   "source": [
    "## Prediction on the Data"
   ]
  },
  {
   "cell_type": "markdown",
   "metadata": {},
   "source": [
    "Now, let us see the predicted probability values."
   ]
  },
  {
   "cell_type": "code",
   "execution_count": 46,
   "metadata": {},
   "outputs": [],
   "source": [
    "y_prob_pred_4 = model_4.predict()"
   ]
  },
  {
   "cell_type": "code",
   "execution_count": 47,
   "metadata": {},
   "outputs": [
    {
     "data": {
      "image/png": "[encoded data removed]",
      "text/plain": [
       "<Figure size 432x288 with 1 Axes>"
      ]
     },
     "metadata": {
      "needs_background": "light"
     },
     "output_type": "display_data"
    }
   ],
   "source": [
    "sns.boxplot(x=Default_train['default'],y=y_prob_pred_4)\n",
    "plt.xlabel('Default');"
   ]
  },
  {
   "cell_type": "markdown",
   "metadata": {},
   "source": [
    "#### Choosing the optimal threshold"
   ]
  },
  {
   "cell_type": "code",
   "execution_count": 48,
   "metadata": {},
   "outputs": [],
   "source": [
    "from sklearn.metrics import roc_curve\n",
    "fpr, tpr, thresholds = roc_curve(Default_train['default'],y_prob_pred_train)"
   ]
  },
  {
   "cell_type": "code",
   "execution_count": 49,
   "metadata": {},
   "outputs": [
    {
     "data": {
      "text/plain": [
       "0.26149740838988317"
      ]
     },
     "execution_count": 49,
     "metadata": {},
     "output_type": "execute_result"
    }
   ],
   "source": [
    "optimal_idx = np.argmax(tpr - fpr)\n",
    "optimal_threshold = thresholds[optimal_idx]\n",
    "optimal_threshold"
   ]
  },
  {
   "cell_type": "markdown",
   "metadata": {},
   "source": [
    "#### Validating on the train set with revised threshold"
   ]
  },
  {
   "cell_type": "code",
   "execution_count": 50,
   "metadata": {},
   "outputs": [],
   "source": [
    "y_class_pred=[]\n",
    "for i in range(0,len(y_prob_pred_train)):\n",
    "    if np.array(y_prob_pred_train)[i]>0.26:\n",
    "        a=1\n",
    "    else:\n",
    "        a=0\n",
    "    y_class_pred.append(a)"
   ]
  },
  {
   "cell_type": "code",
   "execution_count": 51,
   "metadata": {},
   "outputs": [
    {
     "data": {
      "image/png": "[encoded data removed]",
      "text/plain": [
       "<Figure size 432x288 with 2 Axes>"
      ]
     },
     "metadata": {
      "needs_background": "light"
     },
     "output_type": "display_data"
    }
   ],
   "source": [
    "sns.heatmap((metrics.confusion_matrix(Default_train['default'],y_class_pred)),annot=True,fmt='.5g'\n",
    "            ,cmap='Blues');\n",
    "plt.xlabel('Predicted');\n",
    "plt.ylabel('Actuals',rotation=0);"
   ]
  },
  {
   "cell_type": "markdown",
   "metadata": {},
   "source": [
    "Let us now go ahead and print the classification report to check the various other parameters."
   ]
  },
  {
   "cell_type": "code",
   "execution_count": 52,
   "metadata": {},
   "outputs": [
    {
     "name": "stdout",
     "output_type": "stream",
     "text": [
      "              precision    recall  f1-score   support\n",
      "\n",
      "           0      0.866     0.777     0.819       739\n",
      "           1      0.459     0.611     0.524       229\n",
      "\n",
      "    accuracy                          0.738       968\n",
      "   macro avg      0.662     0.694     0.672       968\n",
      "weighted avg      0.770     0.738     0.749       968\n",
      "\n"
     ]
    }
   ],
   "source": [
    "print(metrics.classification_report(Default_train['default'],y_class_pred,digits=3))"
   ]
  },
  {
   "cell_type": "markdown",
   "metadata": {},
   "source": [
    "#### Validating on the test set"
   ]
  },
  {
   "cell_type": "code",
   "execution_count": 53,
   "metadata": {},
   "outputs": [],
   "source": [
    "y_prob_pred_test = model_4.predict(Default_test)"
   ]
  },
  {
   "cell_type": "code",
   "execution_count": 54,
   "metadata": {},
   "outputs": [],
   "source": [
    "y_class_pred=[]\n",
    "for i in range(0,len(y_prob_pred_test)):\n",
    "    if np.array(y_prob_pred_test)[i]>0.26:\n",
    "        a=1\n",
    "    else:\n",
    "        a=0\n",
    "    y_class_pred.append(a)"
   ]
  },
  {
   "cell_type": "code",
   "execution_count": 55,
   "metadata": {},
   "outputs": [
    {
     "data": {
      "image/png": "[encoded data removed]",
      "text/plain": [
       "<Figure size 432x288 with 2 Axes>"
      ]
     },
     "metadata": {
      "needs_background": "light"
     },
     "output_type": "display_data"
    }
   ],
   "source": [
    "sns.heatmap((metrics.confusion_matrix(Default_test['default'],y_class_pred)),annot=True,fmt='.5g'\n",
    "            ,cmap='Blues');\n",
    "plt.xlabel('Predicted');\n",
    "plt.ylabel('Actuals',rotation=0);"
   ]
  },
  {
   "cell_type": "code",
   "execution_count": 56,
   "metadata": {},
   "outputs": [
    {
     "name": "stdout",
     "output_type": "stream",
     "text": [
      "              precision    recall  f1-score   support\n",
      "\n",
      "           0      0.882     0.766     0.820       321\n",
      "           1      0.453     0.653     0.534        95\n",
      "\n",
      "    accuracy                          0.740       416\n",
      "   macro avg      0.667     0.709     0.677       416\n",
      "weighted avg      0.784     0.740     0.755       416\n",
      "\n"
     ]
    }
   ],
   "source": [
    "print(metrics.classification_report(Default_test['default'],y_class_pred,digits=3))"
   ]
  },
  {
   "cell_type": "markdown",
   "metadata": {},
   "source": [
    "# Linear Discriminant Analysis"
   ]
  },
  {
   "cell_type": "code",
   "execution_count": 57,
   "metadata": {},
   "outputs": [],
   "source": [
    "from sklearn.discriminant_analysis import LinearDiscriminantAnalysis\n",
    "from sklearn.ensemble import RandomForestClassifier"
   ]
  },
  {
   "cell_type": "code",
   "execution_count": 58,
   "metadata": {},
   "outputs": [],
   "source": [
    "LDA = LinearDiscriminantAnalysis()"
   ]
  },
  {
   "cell_type": "code",
   "execution_count": 59,
   "metadata": {},
   "outputs": [],
   "source": [
    "lda_model = LDA.fit(X_train, y_train)"
   ]
  },
  {
   "cell_type": "code",
   "execution_count": 60,
   "metadata": {},
   "outputs": [],
   "source": [
    "pred_train_lda = lda_model.predict(X_train)\n",
    "pred_test_lda = lda_model.predict(X_test)"
   ]
  },
  {
   "cell_type": "code",
   "execution_count": 61,
   "metadata": {},
   "outputs": [
    {
     "name": "stdout",
     "output_type": "stream",
     "text": [
      "              precision    recall  f1-score   support\n",
      "\n",
      "           0       0.82      0.96      0.88       739\n",
      "           1       0.72      0.31      0.44       229\n",
      "\n",
      "    accuracy                           0.81       968\n",
      "   macro avg       0.77      0.64      0.66       968\n",
      "weighted avg       0.80      0.81      0.78       968\n",
      "\n"
     ]
    }
   ],
   "source": [
    "print(metrics.classification_report(y_train, pred_train_lda))"
   ]
  },
  {
   "cell_type": "code",
   "execution_count": 62,
   "metadata": {},
   "outputs": [
    {
     "name": "stdout",
     "output_type": "stream",
     "text": [
      "              precision    recall  f1-score   support\n",
      "\n",
      "           0       0.84      0.95      0.89       321\n",
      "           1       0.67      0.37      0.48        95\n",
      "\n",
      "    accuracy                           0.81       416\n",
      "   macro avg       0.75      0.66      0.68       416\n",
      "weighted avg       0.80      0.81      0.79       416\n",
      "\n"
     ]
    }
   ],
   "source": [
    "print(metrics.classification_report(y_test, pred_test_lda))"
   ]
  },
  {
   "cell_type": "code",
   "execution_count": 63,
   "metadata": {},
   "outputs": [],
   "source": [
    "pred_train_lda_prob = lda_model.predict_proba(X_train)[:,1]\n",
    "pred_test_lda_prob = lda_model.predict_proba(X_test)[:,1]"
   ]
  },
  {
   "cell_type": "code",
   "execution_count": 64,
   "metadata": {},
   "outputs": [],
   "source": [
    "fpr, tpr, thresholds = roc_curve(y_train,pred_train_lda_prob)"
   ]
  },
  {
   "cell_type": "code",
   "execution_count": 65,
   "metadata": {},
   "outputs": [
    {
     "data": {
      "text/plain": [
       "0.2834827553153812"
      ]
     },
     "execution_count": 65,
     "metadata": {},
     "output_type": "execute_result"
    }
   ],
   "source": [
    "optimal_idx = np.argmax(tpr - fpr)\n",
    "optimal_threshold = thresholds[optimal_idx]\n",
    "optimal_threshold"
   ]
  },
  {
   "cell_type": "code",
   "execution_count": 66,
   "metadata": {},
   "outputs": [],
   "source": [
    "y_class_pred=[]\n",
    "for i in range(0,len(pred_train_lda_prob)):\n",
    "    if np.array(pred_train_lda_prob)[i]>0.28:\n",
    "        a=1\n",
    "    else:\n",
    "        a=0\n",
    "    y_class_pred.append(a)"
   ]
  },
  {
   "cell_type": "code",
   "execution_count": 67,
   "metadata": {},
   "outputs": [
    {
     "data": {
      "image/png": "[encoded data removed]",
      "text/plain": [
       "<Figure size 432x288 with 2 Axes>"
      ]
     },
     "metadata": {
      "needs_background": "light"
     },
     "output_type": "display_data"
    }
   ],
   "source": [
    "sns.heatmap((metrics.confusion_matrix(y_train,y_class_pred)),annot=True,fmt='.5g'\n",
    "            ,cmap='Blues');\n",
    "plt.xlabel('Predicted');\n",
    "plt.ylabel('Actuals',rotation=0);"
   ]
  },
  {
   "cell_type": "code",
   "execution_count": 68,
   "metadata": {},
   "outputs": [
    {
     "name": "stdout",
     "output_type": "stream",
     "text": [
      "              precision    recall  f1-score   support\n",
      "\n",
      "           0      0.860     0.813     0.836       739\n",
      "           1      0.487     0.572     0.526       229\n",
      "\n",
      "    accuracy                          0.756       968\n",
      "   macro avg      0.673     0.693     0.681       968\n",
      "weighted avg      0.772     0.756     0.763       968\n",
      "\n"
     ]
    }
   ],
   "source": [
    "print(metrics.classification_report(y_train, y_class_pred,digits=3))"
   ]
  },
  {
   "cell_type": "code",
   "execution_count": 69,
   "metadata": {},
   "outputs": [],
   "source": [
    "y_class_pred=[]\n",
    "for i in range(0,len(pred_test_lda_prob)):\n",
    "    if np.array(pred_test_lda_prob)[i]>0.28:\n",
    "        a=1\n",
    "    else:\n",
    "        a=0\n",
    "    y_class_pred.append(a)"
   ]
  },
  {
   "cell_type": "code",
   "execution_count": 70,
   "metadata": {},
   "outputs": [
    {
     "data": {
      "image/png": "[encoded data removed]",
      "text/plain": [
       "<Figure size 432x288 with 2 Axes>"
      ]
     },
     "metadata": {
      "needs_background": "light"
     },
     "output_type": "display_data"
    }
   ],
   "source": [
    "sns.heatmap((metrics.confusion_matrix(y_test, y_class_pred)),annot=True,fmt='.5g'\n",
    "            ,cmap='Blues');\n",
    "plt.xlabel('Predicted');\n",
    "plt.ylabel('Actuals',rotation=0);"
   ]
  },
  {
   "cell_type": "code",
   "execution_count": 71,
   "metadata": {},
   "outputs": [
    {
     "name": "stdout",
     "output_type": "stream",
     "text": [
      "              precision    recall  f1-score   support\n",
      "\n",
      "           0      0.872     0.826     0.848       321\n",
      "           1      0.500     0.589     0.541        95\n",
      "\n",
      "    accuracy                          0.772       416\n",
      "   macro avg      0.686     0.708     0.695       416\n",
      "weighted avg      0.787     0.772     0.778       416\n",
      "\n"
     ]
    }
   ],
   "source": [
    "print(metrics.classification_report(y_test, y_class_pred,digits=3))"
   ]
  },
  {
   "cell_type": "markdown",
   "metadata": {},
   "source": [
    "# Random Forest Classifier"
   ]
  },
  {
   "cell_type": "code",
   "execution_count": 72,
   "metadata": {},
   "outputs": [],
   "source": [
    "from sklearn.ensemble import RandomForestClassifier\n",
    "from sklearn.model_selection import GridSearchCV\n",
    "\n",
    "param_grid = {\n",
    "    'max_depth': [3, 5, 7],\n",
    "    'min_samples_leaf': [5, 10, 15],\n",
    "    'min_samples_split': [15, 30, 45],\n",
    "    'n_estimators': [25, 50]\n",
    "}\n",
    "\n",
    "rfcl = RandomForestClassifier()\n",
    "\n",
    "grid_search = GridSearchCV(estimator = rfcl, param_grid = param_grid)"
   ]
  },
  {
   "cell_type": "code",
   "execution_count": 73,
   "metadata": {},
   "outputs": [
    {
     "data": {
      "text/plain": [
       "GridSearchCV(estimator=RandomForestClassifier(),\n",
       "             param_grid={'max_depth': [3, 5, 7],\n",
       "                         'min_samples_leaf': [5, 10, 15],\n",
       "                         'min_samples_split': [15, 30, 45],\n",
       "                         'n_estimators': [25, 50]})"
      ]
     },
     "execution_count": 73,
     "metadata": {},
     "output_type": "execute_result"
    }
   ],
   "source": [
    "grid_search.fit(X_train, y_train)"
   ]
  },
  {
   "cell_type": "code",
   "execution_count": 74,
   "metadata": {},
   "outputs": [
    {
     "data": {
      "text/plain": [
       "{'max_depth': 7,\n",
       " 'min_samples_leaf': 5,\n",
       " 'min_samples_split': 15,\n",
       " 'n_estimators': 50}"
      ]
     },
     "execution_count": 74,
     "metadata": {},
     "output_type": "execute_result"
    }
   ],
   "source": [
    "grid_search.best_params_"
   ]
  },
  {
   "cell_type": "code",
   "execution_count": 75,
   "metadata": {},
   "outputs": [],
   "source": [
    "best_grid = grid_search.best_estimator_"
   ]
  },
  {
   "cell_type": "code",
   "execution_count": 76,
   "metadata": {},
   "outputs": [],
   "source": [
    "pred_train_rf = best_grid.predict(X_train)\n",
    "pred_test_rf = best_grid.predict(X_test)"
   ]
  },
  {
   "cell_type": "code",
   "execution_count": 77,
   "metadata": {},
   "outputs": [
    {
     "name": "stdout",
     "output_type": "stream",
     "text": [
      "              precision    recall  f1-score   support\n",
      "\n",
      "           0       0.91      0.96      0.93       739\n",
      "           1       0.85      0.68      0.76       229\n",
      "\n",
      "    accuracy                           0.90       968\n",
      "   macro avg       0.88      0.82      0.84       968\n",
      "weighted avg       0.89      0.90      0.89       968\n",
      "\n"
     ]
    }
   ],
   "source": [
    "print(metrics.classification_report(y_train, pred_train_rf))"
   ]
  },
  {
   "cell_type": "code",
   "execution_count": 78,
   "metadata": {},
   "outputs": [
    {
     "name": "stdout",
     "output_type": "stream",
     "text": [
      "              precision    recall  f1-score   support\n",
      "\n",
      "           0       0.87      0.95      0.91       321\n",
      "           1       0.76      0.54      0.63        95\n",
      "\n",
      "    accuracy                           0.86       416\n",
      "   macro avg       0.82      0.74      0.77       416\n",
      "weighted avg       0.85      0.86      0.85       416\n",
      "\n"
     ]
    }
   ],
   "source": [
    "print(metrics.classification_report(y_test, pred_test_rf))"
   ]
  },
  {
   "cell_type": "markdown",
   "metadata": {},
   "source": [
    "### Conclusion"
   ]
  },
  {
   "cell_type": "markdown",
   "metadata": {},
   "source": [
    "Amongst all the models we tried in this case Logistic Regression seems to be best aligned to our objective."
   ]
  },
  {
   "cell_type": "markdown",
   "metadata": {},
   "source": [
    "## END"
   ]
  }
 ],
 "metadata": {
  "kernelspec": {
   "display_name": "Python 3 (ipykernel)",
   "language": "python",
   "name": "python3"
  },
  "language_info": {
   "codemirror_mode": {
    "name": "ipython",
    "version": 3
   },
   "file_extension": ".py",
   "mimetype": "text/x-python",
   "name": "python",
   "nbconvert_exporter": "python",
   "pygments_lexer": "ipython3",
   "version": "3.9.7"
  }
 },
 "nbformat": 4,
 "nbformat_minor": 2
}
