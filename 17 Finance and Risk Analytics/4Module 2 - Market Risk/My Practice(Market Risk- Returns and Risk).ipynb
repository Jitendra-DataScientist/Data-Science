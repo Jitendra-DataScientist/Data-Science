{
 "cells": [
  {
   "cell_type": "markdown",
   "metadata": {},
   "source": [
    "# Market Risk- Returns and Risk"
   ]
  },
  {
   "cell_type": "markdown",
   "metadata": {},
   "source": [
    "#### Importing the libraries"
   ]
  },
  {
   "cell_type": "code",
   "execution_count": 1,
   "metadata": {},
   "outputs": [],
   "source": [
    "import numpy as np\n",
    "import matplotlib.pyplot as plt\n",
    "import pandas as pd\n",
    "import seaborn as sns # for making plots with seaborn\n",
    "color = sns.color_palette()\n",
    "import sklearn.metrics as metrics\n",
    "\n",
    "#import warnings\n",
    "#warnings.filterwarnings(\"ignore\")"
   ]
  },
  {
   "cell_type": "markdown",
   "metadata": {},
   "source": [
    "#### Setting working directory"
   ]
  },
  {
   "cell_type": "code",
   "execution_count": 2,
   "metadata": {},
   "outputs": [],
   "source": [
    "#import os\n",
    "#os.chdir('F:/Data science/GL/FRA/')\n",
    "#os.getcwd()"
   ]
  },
  {
   "cell_type": "markdown",
   "metadata": {},
   "source": [
    "Let us now go ahead and read the dataset and check the first five rows of the dataset"
   ]
  },
  {
   "cell_type": "markdown",
   "metadata": {},
   "source": [
    "#### Importing the dataset"
   ]
  },
  {
   "cell_type": "code",
   "execution_count": 3,
   "metadata": {},
   "outputs": [
    {
     "data": {
      "text/html": [
       "<div>\n",
       "<style scoped>\n",
       "    .dataframe tbody tr th:only-of-type {\n",
       "        vertical-align: middle;\n",
       "    }\n",
       "\n",
       "    .dataframe tbody tr th {\n",
       "        vertical-align: top;\n",
       "    }\n",
       "\n",
       "    .dataframe thead th {\n",
       "        text-align: right;\n",
       "    }\n",
       "</style>\n",
       "<table border=\"1\" class=\"dataframe\">\n",
       "  <thead>\n",
       "    <tr style=\"text-align: right;\">\n",
       "      <th></th>\n",
       "      <th>Date</th>\n",
       "      <th>Bharti Airtel</th>\n",
       "      <th>DLF</th>\n",
       "      <th>ACC</th>\n",
       "      <th>BHEL</th>\n",
       "      <th>TCS</th>\n",
       "      <th>Maruti Suzuki</th>\n",
       "      <th>Reliance</th>\n",
       "      <th>Dr. Reddy</th>\n",
       "      <th>ITC</th>\n",
       "      <th>TATA Steel</th>\n",
       "      <th>Sensex</th>\n",
       "    </tr>\n",
       "  </thead>\n",
       "  <tbody>\n",
       "    <tr>\n",
       "      <th>0</th>\n",
       "      <td>04/04/16</td>\n",
       "      <td>299</td>\n",
       "      <td>114</td>\n",
       "      <td>1320</td>\n",
       "      <td>74</td>\n",
       "      <td>1086</td>\n",
       "      <td>3269</td>\n",
       "      <td>507</td>\n",
       "      <td>2907</td>\n",
       "      <td>188</td>\n",
       "      <td>282</td>\n",
       "      <td>24673.83984</td>\n",
       "    </tr>\n",
       "    <tr>\n",
       "      <th>1</th>\n",
       "      <td>11/04/16</td>\n",
       "      <td>314</td>\n",
       "      <td>117</td>\n",
       "      <td>1345</td>\n",
       "      <td>80</td>\n",
       "      <td>1128</td>\n",
       "      <td>3555</td>\n",
       "      <td>521</td>\n",
       "      <td>2965</td>\n",
       "      <td>194</td>\n",
       "      <td>291</td>\n",
       "      <td>25626.75000</td>\n",
       "    </tr>\n",
       "    <tr>\n",
       "      <th>2</th>\n",
       "      <td>18/04/16</td>\n",
       "      <td>315</td>\n",
       "      <td>118</td>\n",
       "      <td>1294</td>\n",
       "      <td>77</td>\n",
       "      <td>1079</td>\n",
       "      <td>3636</td>\n",
       "      <td>508</td>\n",
       "      <td>3005</td>\n",
       "      <td>191</td>\n",
       "      <td>310</td>\n",
       "      <td>25838.14063</td>\n",
       "    </tr>\n",
       "    <tr>\n",
       "      <th>3</th>\n",
       "      <td>25/04/16</td>\n",
       "      <td>325</td>\n",
       "      <td>125</td>\n",
       "      <td>1321</td>\n",
       "      <td>75</td>\n",
       "      <td>1132</td>\n",
       "      <td>3615</td>\n",
       "      <td>480</td>\n",
       "      <td>2954</td>\n",
       "      <td>190</td>\n",
       "      <td>307</td>\n",
       "      <td>25606.61914</td>\n",
       "    </tr>\n",
       "    <tr>\n",
       "      <th>4</th>\n",
       "      <td>02/05/16</td>\n",
       "      <td>321</td>\n",
       "      <td>121</td>\n",
       "      <td>1305</td>\n",
       "      <td>76</td>\n",
       "      <td>1104</td>\n",
       "      <td>3639</td>\n",
       "      <td>474</td>\n",
       "      <td>2742</td>\n",
       "      <td>186</td>\n",
       "      <td>288</td>\n",
       "      <td>25228.50000</td>\n",
       "    </tr>\n",
       "  </tbody>\n",
       "</table>\n",
       "</div>"
      ],
      "text/plain": [
       "       Date  Bharti Airtel  DLF   ACC  BHEL   TCS  Maruti Suzuki  Reliance  \\\n",
       "0  04/04/16            299  114  1320    74  1086           3269       507   \n",
       "1  11/04/16            314  117  1345    80  1128           3555       521   \n",
       "2  18/04/16            315  118  1294    77  1079           3636       508   \n",
       "3  25/04/16            325  125  1321    75  1132           3615       480   \n",
       "4  02/05/16            321  121  1305    76  1104           3639       474   \n",
       "\n",
       "   Dr. Reddy  ITC  TATA Steel       Sensex  \n",
       "0       2907  188         282  24673.83984  \n",
       "1       2965  194         291  25626.75000  \n",
       "2       3005  191         310  25838.14063  \n",
       "3       2954  190         307  25606.61914  \n",
       "4       2742  186         288  25228.50000  "
      ]
     },
     "execution_count": 3,
     "metadata": {},
     "output_type": "execute_result"
    }
   ],
   "source": [
    "stock_prices = pd.read_csv('Multiple Stock Data.csv')\n",
    "\n",
    "#Glimpse of Data\n",
    "stock_prices.head()"
   ]
  },
  {
   "cell_type": "markdown",
   "metadata": {},
   "source": [
    "#### Fixing messy column names (containing spaces) for ease of use"
   ]
  },
  {
   "cell_type": "code",
   "execution_count": 4,
   "metadata": {},
   "outputs": [
    {
     "name": "stderr",
     "output_type": "stream",
     "text": [
      "C:\\Users\\cools\\AppData\\Local\\Temp/ipykernel_3448/227833681.py:1: FutureWarning: The default value of regex will change from True to False in a future version. In addition, single character regular expressions will *not* be treated as literal strings when regex=True.\n",
      "  stock_prices.columns = stock_prices.columns.str.replace(' ', '_').str.replace('.', '')\n"
     ]
    }
   ],
   "source": [
    "stock_prices.columns = stock_prices.columns.str.replace(' ', '_').str.replace('.', '')"
   ]
  },
  {
   "cell_type": "markdown",
   "metadata": {},
   "source": [
    "#### Checking top 5 rows again"
   ]
  },
  {
   "cell_type": "code",
   "execution_count": 5,
   "metadata": {},
   "outputs": [
    {
     "data": {
      "text/html": [
       "<div>\n",
       "<style scoped>\n",
       "    .dataframe tbody tr th:only-of-type {\n",
       "        vertical-align: middle;\n",
       "    }\n",
       "\n",
       "    .dataframe tbody tr th {\n",
       "        vertical-align: top;\n",
       "    }\n",
       "\n",
       "    .dataframe thead th {\n",
       "        text-align: right;\n",
       "    }\n",
       "</style>\n",
       "<table border=\"1\" class=\"dataframe\">\n",
       "  <thead>\n",
       "    <tr style=\"text-align: right;\">\n",
       "      <th></th>\n",
       "      <th>Date</th>\n",
       "      <th>Bharti_Airtel</th>\n",
       "      <th>DLF</th>\n",
       "      <th>ACC</th>\n",
       "      <th>BHEL</th>\n",
       "      <th>TCS</th>\n",
       "      <th>Maruti_Suzuki</th>\n",
       "      <th>Reliance</th>\n",
       "      <th>Dr_Reddy</th>\n",
       "      <th>ITC</th>\n",
       "      <th>TATA_Steel</th>\n",
       "      <th>Sensex</th>\n",
       "    </tr>\n",
       "  </thead>\n",
       "  <tbody>\n",
       "    <tr>\n",
       "      <th>0</th>\n",
       "      <td>04/04/16</td>\n",
       "      <td>299</td>\n",
       "      <td>114</td>\n",
       "      <td>1320</td>\n",
       "      <td>74</td>\n",
       "      <td>1086</td>\n",
       "      <td>3269</td>\n",
       "      <td>507</td>\n",
       "      <td>2907</td>\n",
       "      <td>188</td>\n",
       "      <td>282</td>\n",
       "      <td>24673.83984</td>\n",
       "    </tr>\n",
       "    <tr>\n",
       "      <th>1</th>\n",
       "      <td>11/04/16</td>\n",
       "      <td>314</td>\n",
       "      <td>117</td>\n",
       "      <td>1345</td>\n",
       "      <td>80</td>\n",
       "      <td>1128</td>\n",
       "      <td>3555</td>\n",
       "      <td>521</td>\n",
       "      <td>2965</td>\n",
       "      <td>194</td>\n",
       "      <td>291</td>\n",
       "      <td>25626.75000</td>\n",
       "    </tr>\n",
       "    <tr>\n",
       "      <th>2</th>\n",
       "      <td>18/04/16</td>\n",
       "      <td>315</td>\n",
       "      <td>118</td>\n",
       "      <td>1294</td>\n",
       "      <td>77</td>\n",
       "      <td>1079</td>\n",
       "      <td>3636</td>\n",
       "      <td>508</td>\n",
       "      <td>3005</td>\n",
       "      <td>191</td>\n",
       "      <td>310</td>\n",
       "      <td>25838.14063</td>\n",
       "    </tr>\n",
       "    <tr>\n",
       "      <th>3</th>\n",
       "      <td>25/04/16</td>\n",
       "      <td>325</td>\n",
       "      <td>125</td>\n",
       "      <td>1321</td>\n",
       "      <td>75</td>\n",
       "      <td>1132</td>\n",
       "      <td>3615</td>\n",
       "      <td>480</td>\n",
       "      <td>2954</td>\n",
       "      <td>190</td>\n",
       "      <td>307</td>\n",
       "      <td>25606.61914</td>\n",
       "    </tr>\n",
       "    <tr>\n",
       "      <th>4</th>\n",
       "      <td>02/05/16</td>\n",
       "      <td>321</td>\n",
       "      <td>121</td>\n",
       "      <td>1305</td>\n",
       "      <td>76</td>\n",
       "      <td>1104</td>\n",
       "      <td>3639</td>\n",
       "      <td>474</td>\n",
       "      <td>2742</td>\n",
       "      <td>186</td>\n",
       "      <td>288</td>\n",
       "      <td>25228.50000</td>\n",
       "    </tr>\n",
       "  </tbody>\n",
       "</table>\n",
       "</div>"
      ],
      "text/plain": [
       "       Date  Bharti_Airtel  DLF   ACC  BHEL   TCS  Maruti_Suzuki  Reliance  \\\n",
       "0  04/04/16            299  114  1320    74  1086           3269       507   \n",
       "1  11/04/16            314  117  1345    80  1128           3555       521   \n",
       "2  18/04/16            315  118  1294    77  1079           3636       508   \n",
       "3  25/04/16            325  125  1321    75  1132           3615       480   \n",
       "4  02/05/16            321  121  1305    76  1104           3639       474   \n",
       "\n",
       "   Dr_Reddy  ITC  TATA_Steel       Sensex  \n",
       "0      2907  188         282  24673.83984  \n",
       "1      2965  194         291  25626.75000  \n",
       "2      3005  191         310  25838.14063  \n",
       "3      2954  190         307  25606.61914  \n",
       "4      2742  186         288  25228.50000  "
      ]
     },
     "execution_count": 5,
     "metadata": {},
     "output_type": "execute_result"
    }
   ],
   "source": [
    "stock_prices.head()\n"
   ]
  },
  {
   "cell_type": "markdown",
   "metadata": {},
   "source": [
    "#### First, let us check the number of rows (observations) and the number of columns (variables)"
   ]
  },
  {
   "cell_type": "code",
   "execution_count": 6,
   "metadata": {},
   "outputs": [
    {
     "name": "stdout",
     "output_type": "stream",
     "text": [
      "The number of rows (observations) is 209 \n",
      "The number of columns (variables) is 12\n"
     ]
    }
   ],
   "source": [
    "print('The number of rows (observations) is',stock_prices.shape[0],'\\n''The number of columns (variables) is',stock_prices.shape[1])"
   ]
  },
  {
   "cell_type": "markdown",
   "metadata": {},
   "source": [
    "#### Checking data types of all columns"
   ]
  },
  {
   "cell_type": "code",
   "execution_count": 7,
   "metadata": {},
   "outputs": [
    {
     "name": "stdout",
     "output_type": "stream",
     "text": [
      "<class 'pandas.core.frame.DataFrame'>\n",
      "RangeIndex: 209 entries, 0 to 208\n",
      "Data columns (total 12 columns):\n",
      " #   Column         Non-Null Count  Dtype  \n",
      "---  ------         --------------  -----  \n",
      " 0   Date           209 non-null    object \n",
      " 1   Bharti_Airtel  209 non-null    int64  \n",
      " 2   DLF            209 non-null    int64  \n",
      " 3   ACC            209 non-null    int64  \n",
      " 4   BHEL           209 non-null    int64  \n",
      " 5   TCS            209 non-null    int64  \n",
      " 6   Maruti_Suzuki  209 non-null    int64  \n",
      " 7   Reliance       209 non-null    int64  \n",
      " 8   Dr_Reddy       209 non-null    int64  \n",
      " 9   ITC            209 non-null    int64  \n",
      " 10  TATA_Steel     209 non-null    int64  \n",
      " 11  Sensex         209 non-null    float64\n",
      "dtypes: float64(1), int64(10), object(1)\n",
      "memory usage: 19.7+ KB\n"
     ]
    }
   ],
   "source": [
    "stock_prices.info()"
   ]
  },
  {
   "cell_type": "markdown",
   "metadata": {},
   "source": [
    "#### Now, let us check the basic measures of descriptive statistics for the continuous variables"
   ]
  },
  {
   "cell_type": "code",
   "execution_count": 8,
   "metadata": {},
   "outputs": [
    {
     "data": {
      "text/html": [
       "<div>\n",
       "<style scoped>\n",
       "    .dataframe tbody tr th:only-of-type {\n",
       "        vertical-align: middle;\n",
       "    }\n",
       "\n",
       "    .dataframe tbody tr th {\n",
       "        vertical-align: top;\n",
       "    }\n",
       "\n",
       "    .dataframe thead th {\n",
       "        text-align: right;\n",
       "    }\n",
       "</style>\n",
       "<table border=\"1\" class=\"dataframe\">\n",
       "  <thead>\n",
       "    <tr style=\"text-align: right;\">\n",
       "      <th></th>\n",
       "      <th>Bharti_Airtel</th>\n",
       "      <th>DLF</th>\n",
       "      <th>ACC</th>\n",
       "      <th>BHEL</th>\n",
       "      <th>TCS</th>\n",
       "      <th>Maruti_Suzuki</th>\n",
       "      <th>Reliance</th>\n",
       "      <th>Dr_Reddy</th>\n",
       "      <th>ITC</th>\n",
       "      <th>TATA_Steel</th>\n",
       "      <th>Sensex</th>\n",
       "    </tr>\n",
       "  </thead>\n",
       "  <tbody>\n",
       "    <tr>\n",
       "      <th>count</th>\n",
       "      <td>209.000000</td>\n",
       "      <td>209.000000</td>\n",
       "      <td>209.000000</td>\n",
       "      <td>209.000000</td>\n",
       "      <td>209.000000</td>\n",
       "      <td>209.000000</td>\n",
       "      <td>209.000000</td>\n",
       "      <td>209.000000</td>\n",
       "      <td>209.000000</td>\n",
       "      <td>209.000000</td>\n",
       "      <td>209.000000</td>\n",
       "    </tr>\n",
       "    <tr>\n",
       "      <th>mean</th>\n",
       "      <td>350.023923</td>\n",
       "      <td>175.933014</td>\n",
       "      <td>1452.014354</td>\n",
       "      <td>72.066986</td>\n",
       "      <td>1559.129187</td>\n",
       "      <td>6751.588517</td>\n",
       "      <td>947.488038</td>\n",
       "      <td>2619.282297</td>\n",
       "      <td>243.411483</td>\n",
       "      <td>468.248804</td>\n",
       "      <td>33636.826229</td>\n",
       "    </tr>\n",
       "    <tr>\n",
       "      <th>std</th>\n",
       "      <td>63.412981</td>\n",
       "      <td>34.734782</td>\n",
       "      <td>138.215776</td>\n",
       "      <td>17.025019</td>\n",
       "      <td>416.373200</td>\n",
       "      <td>1463.828372</td>\n",
       "      <td>331.231503</td>\n",
       "      <td>345.415722</td>\n",
       "      <td>27.615719</td>\n",
       "      <td>108.987099</td>\n",
       "      <td>4628.304650</td>\n",
       "    </tr>\n",
       "    <tr>\n",
       "      <th>min</th>\n",
       "      <td>262.000000</td>\n",
       "      <td>106.000000</td>\n",
       "      <td>934.000000</td>\n",
       "      <td>20.000000</td>\n",
       "      <td>968.000000</td>\n",
       "      <td>3269.000000</td>\n",
       "      <td>457.000000</td>\n",
       "      <td>1892.000000</td>\n",
       "      <td>154.000000</td>\n",
       "      <td>270.000000</td>\n",
       "      <td>24673.839840</td>\n",
       "    </tr>\n",
       "    <tr>\n",
       "      <th>25%</th>\n",
       "      <td>308.000000</td>\n",
       "      <td>151.000000</td>\n",
       "      <td>1371.000000</td>\n",
       "      <td>63.000000</td>\n",
       "      <td>1150.000000</td>\n",
       "      <td>5761.000000</td>\n",
       "      <td>646.000000</td>\n",
       "      <td>2382.000000</td>\n",
       "      <td>228.000000</td>\n",
       "      <td>371.000000</td>\n",
       "      <td>29461.449220</td>\n",
       "    </tr>\n",
       "    <tr>\n",
       "      <th>50%</th>\n",
       "      <td>337.000000</td>\n",
       "      <td>177.000000</td>\n",
       "      <td>1466.000000</td>\n",
       "      <td>74.000000</td>\n",
       "      <td>1489.000000</td>\n",
       "      <td>6887.000000</td>\n",
       "      <td>925.000000</td>\n",
       "      <td>2612.000000</td>\n",
       "      <td>246.000000</td>\n",
       "      <td>470.000000</td>\n",
       "      <td>34142.148440</td>\n",
       "    </tr>\n",
       "    <tr>\n",
       "      <th>75%</th>\n",
       "      <td>373.000000</td>\n",
       "      <td>199.000000</td>\n",
       "      <td>1544.000000</td>\n",
       "      <td>83.000000</td>\n",
       "      <td>1963.000000</td>\n",
       "      <td>7658.000000</td>\n",
       "      <td>1238.000000</td>\n",
       "      <td>2891.000000</td>\n",
       "      <td>260.000000</td>\n",
       "      <td>547.000000</td>\n",
       "      <td>37462.988280</td>\n",
       "    </tr>\n",
       "    <tr>\n",
       "      <th>max</th>\n",
       "      <td>565.000000</td>\n",
       "      <td>262.000000</td>\n",
       "      <td>1711.000000</td>\n",
       "      <td>107.000000</td>\n",
       "      <td>2195.000000</td>\n",
       "      <td>9428.000000</td>\n",
       "      <td>1593.000000</td>\n",
       "      <td>3462.000000</td>\n",
       "      <td>309.000000</td>\n",
       "      <td>703.000000</td>\n",
       "      <td>41945.371090</td>\n",
       "    </tr>\n",
       "  </tbody>\n",
       "</table>\n",
       "</div>"
      ],
      "text/plain": [
       "       Bharti_Airtel         DLF          ACC        BHEL          TCS  \\\n",
       "count     209.000000  209.000000   209.000000  209.000000   209.000000   \n",
       "mean      350.023923  175.933014  1452.014354   72.066986  1559.129187   \n",
       "std        63.412981   34.734782   138.215776   17.025019   416.373200   \n",
       "min       262.000000  106.000000   934.000000   20.000000   968.000000   \n",
       "25%       308.000000  151.000000  1371.000000   63.000000  1150.000000   \n",
       "50%       337.000000  177.000000  1466.000000   74.000000  1489.000000   \n",
       "75%       373.000000  199.000000  1544.000000   83.000000  1963.000000   \n",
       "max       565.000000  262.000000  1711.000000  107.000000  2195.000000   \n",
       "\n",
       "       Maruti_Suzuki     Reliance     Dr_Reddy         ITC  TATA_Steel  \\\n",
       "count     209.000000   209.000000   209.000000  209.000000  209.000000   \n",
       "mean     6751.588517   947.488038  2619.282297  243.411483  468.248804   \n",
       "std      1463.828372   331.231503   345.415722   27.615719  108.987099   \n",
       "min      3269.000000   457.000000  1892.000000  154.000000  270.000000   \n",
       "25%      5761.000000   646.000000  2382.000000  228.000000  371.000000   \n",
       "50%      6887.000000   925.000000  2612.000000  246.000000  470.000000   \n",
       "75%      7658.000000  1238.000000  2891.000000  260.000000  547.000000   \n",
       "max      9428.000000  1593.000000  3462.000000  309.000000  703.000000   \n",
       "\n",
       "             Sensex  \n",
       "count    209.000000  \n",
       "mean   33636.826229  \n",
       "std     4628.304650  \n",
       "min    24673.839840  \n",
       "25%    29461.449220  \n",
       "50%    34142.148440  \n",
       "75%    37462.988280  \n",
       "max    41945.371090  "
      ]
     },
     "execution_count": 8,
     "metadata": {},
     "output_type": "execute_result"
    }
   ],
   "source": [
    "stock_prices.describe()"
   ]
  },
  {
   "cell_type": "markdown",
   "metadata": {},
   "source": [
    "#### Lets us plot & see price trend over time for different companies"
   ]
  },
  {
   "cell_type": "code",
   "execution_count": 9,
   "metadata": {},
   "outputs": [
    {
     "data": {
      "image/png": "[encoded data removed]",
      "text/plain": [
       "<Figure size 720x576 with 1 Axes>"
      ]
     },
     "metadata": {
      "needs_background": "light"
     },
     "output_type": "display_data"
    }
   ],
   "source": [
    "plt.figure(figsize = (10, 8))\n",
    "stock_prices['dates'] = [pd.to_datetime(d) for d in stock_prices['Date']]\n",
    "plt.scatter(stock_prices['dates'], stock_prices['Bharti_Airtel'], edgecolors='b', color = 'lightblue')\n",
    "plt.xlabel('Year')\n",
    "plt.ylabel('Bharti_Airtel')\n",
    "plt.title('Bharti Airtel over the years')\n",
    "plt.show()"
   ]
  },
  {
   "cell_type": "code",
   "execution_count": 10,
   "metadata": {},
   "outputs": [
    {
     "data": {
      "image/png": "[encoded data removed]",
      "text/plain": [
       "<Figure size 720x576 with 1 Axes>"
      ]
     },
     "metadata": {
      "needs_background": "light"
     },
     "output_type": "display_data"
    }
   ],
   "source": [
    "plt.figure(figsize = (10, 8))\n",
    "stock_prices['dates'] = [pd.to_datetime(d) for d in stock_prices['Date']]\n",
    "plt.scatter(stock_prices['dates'], stock_prices['BHEL'], edgecolors='r', color = 'pink')\n",
    "plt.xlabel('Year')\n",
    "plt.ylabel('BHEL')\n",
    "plt.title('BHEL over the years')\n",
    "plt.show()"
   ]
  },
  {
   "cell_type": "code",
   "execution_count": 11,
   "metadata": {},
   "outputs": [
    {
     "data": {
      "image/png": "[encoded data removed]",
      "text/plain": [
       "<Figure size 720x576 with 1 Axes>"
      ]
     },
     "metadata": {
      "needs_background": "light"
     },
     "output_type": "display_data"
    }
   ],
   "source": [
    "plt.figure(figsize = (10, 8))\n",
    "stock_prices['dates'] = [pd.to_datetime(d) for d in stock_prices['Date']]\n",
    "plt.scatter(stock_prices['dates'], stock_prices['Sensex'], edgecolors='darkgreen', color = 'lightgreen')\n",
    "plt.xlabel('Year')\n",
    "plt.ylabel('Sensex')\n",
    "plt.title('Sensex over the years')\n",
    "\n",
    "plt.show()"
   ]
  },
  {
   "cell_type": "markdown",
   "metadata": {},
   "source": [
    "# Analyzing returns"
   ]
  },
  {
   "cell_type": "markdown",
   "metadata": {},
   "source": [
    "Steps for calculating returns from prices:\n",
    "- Take logarithms\n",
    "- Take differences"
   ]
  },
  {
   "cell_type": "code",
   "execution_count": 12,
   "metadata": {},
   "outputs": [],
   "source": [
    "stock_returns = np.log(stock_prices.drop(['Date','dates'],axis=1)).diff(axis = 0, periods = 1) "
   ]
  },
  {
   "cell_type": "markdown",
   "metadata": {},
   "source": [
    "#### Checking the rows & columns of dataset"
   ]
  },
  {
   "cell_type": "code",
   "execution_count": 13,
   "metadata": {},
   "outputs": [
    {
     "data": {
      "text/plain": [
       "(209, 11)"
      ]
     },
     "execution_count": 13,
     "metadata": {},
     "output_type": "execute_result"
    }
   ],
   "source": [
    "stock_returns.shape"
   ]
  },
  {
   "cell_type": "markdown",
   "metadata": {},
   "source": [
    "#### Checking top 5 rows "
   ]
  },
  {
   "cell_type": "code",
   "execution_count": 14,
   "metadata": {},
   "outputs": [
    {
     "data": {
      "text/html": [
       "<div>\n",
       "<style scoped>\n",
       "    .dataframe tbody tr th:only-of-type {\n",
       "        vertical-align: middle;\n",
       "    }\n",
       "\n",
       "    .dataframe tbody tr th {\n",
       "        vertical-align: top;\n",
       "    }\n",
       "\n",
       "    .dataframe thead th {\n",
       "        text-align: right;\n",
       "    }\n",
       "</style>\n",
       "<table border=\"1\" class=\"dataframe\">\n",
       "  <thead>\n",
       "    <tr style=\"text-align: right;\">\n",
       "      <th></th>\n",
       "      <th>Bharti_Airtel</th>\n",
       "      <th>DLF</th>\n",
       "      <th>ACC</th>\n",
       "      <th>BHEL</th>\n",
       "      <th>TCS</th>\n",
       "      <th>Maruti_Suzuki</th>\n",
       "      <th>Reliance</th>\n",
       "      <th>Dr_Reddy</th>\n",
       "      <th>ITC</th>\n",
       "      <th>TATA_Steel</th>\n",
       "      <th>Sensex</th>\n",
       "    </tr>\n",
       "  </thead>\n",
       "  <tbody>\n",
       "    <tr>\n",
       "      <th>0</th>\n",
       "      <td>NaN</td>\n",
       "      <td>NaN</td>\n",
       "      <td>NaN</td>\n",
       "      <td>NaN</td>\n",
       "      <td>NaN</td>\n",
       "      <td>NaN</td>\n",
       "      <td>NaN</td>\n",
       "      <td>NaN</td>\n",
       "      <td>NaN</td>\n",
       "      <td>NaN</td>\n",
       "      <td>NaN</td>\n",
       "    </tr>\n",
       "    <tr>\n",
       "      <th>1</th>\n",
       "      <td>0.048949</td>\n",
       "      <td>0.025975</td>\n",
       "      <td>0.018762</td>\n",
       "      <td>0.077962</td>\n",
       "      <td>0.037945</td>\n",
       "      <td>0.083871</td>\n",
       "      <td>0.027239</td>\n",
       "      <td>0.019755</td>\n",
       "      <td>0.031416</td>\n",
       "      <td>0.031416</td>\n",
       "      <td>0.037893</td>\n",
       "    </tr>\n",
       "    <tr>\n",
       "      <th>2</th>\n",
       "      <td>0.003180</td>\n",
       "      <td>0.008511</td>\n",
       "      <td>-0.038656</td>\n",
       "      <td>-0.038221</td>\n",
       "      <td>-0.044411</td>\n",
       "      <td>0.022529</td>\n",
       "      <td>-0.025269</td>\n",
       "      <td>0.013401</td>\n",
       "      <td>-0.015585</td>\n",
       "      <td>0.063249</td>\n",
       "      <td>0.008215</td>\n",
       "    </tr>\n",
       "    <tr>\n",
       "      <th>3</th>\n",
       "      <td>0.031253</td>\n",
       "      <td>0.057629</td>\n",
       "      <td>0.020651</td>\n",
       "      <td>-0.026317</td>\n",
       "      <td>0.047951</td>\n",
       "      <td>-0.005792</td>\n",
       "      <td>-0.056695</td>\n",
       "      <td>-0.017117</td>\n",
       "      <td>-0.005249</td>\n",
       "      <td>-0.009725</td>\n",
       "      <td>-0.009001</td>\n",
       "    </tr>\n",
       "    <tr>\n",
       "      <th>4</th>\n",
       "      <td>-0.012384</td>\n",
       "      <td>-0.032523</td>\n",
       "      <td>-0.012186</td>\n",
       "      <td>0.013245</td>\n",
       "      <td>-0.025046</td>\n",
       "      <td>0.006617</td>\n",
       "      <td>-0.012579</td>\n",
       "      <td>-0.074473</td>\n",
       "      <td>-0.021277</td>\n",
       "      <td>-0.063887</td>\n",
       "      <td>-0.014877</td>\n",
       "    </tr>\n",
       "  </tbody>\n",
       "</table>\n",
       "</div>"
      ],
      "text/plain": [
       "   Bharti_Airtel       DLF       ACC      BHEL       TCS  Maruti_Suzuki  \\\n",
       "0            NaN       NaN       NaN       NaN       NaN            NaN   \n",
       "1       0.048949  0.025975  0.018762  0.077962  0.037945       0.083871   \n",
       "2       0.003180  0.008511 -0.038656 -0.038221 -0.044411       0.022529   \n",
       "3       0.031253  0.057629  0.020651 -0.026317  0.047951      -0.005792   \n",
       "4      -0.012384 -0.032523 -0.012186  0.013245 -0.025046       0.006617   \n",
       "\n",
       "   Reliance  Dr_Reddy       ITC  TATA_Steel    Sensex  \n",
       "0       NaN       NaN       NaN         NaN       NaN  \n",
       "1  0.027239  0.019755  0.031416    0.031416  0.037893  \n",
       "2 -0.025269  0.013401 -0.015585    0.063249  0.008215  \n",
       "3 -0.056695 -0.017117 -0.005249   -0.009725 -0.009001  \n",
       "4 -0.012579 -0.074473 -0.021277   -0.063887 -0.014877  "
      ]
     },
     "execution_count": 14,
     "metadata": {},
     "output_type": "execute_result"
    }
   ],
   "source": [
    "stock_returns.head()"
   ]
  },
  {
   "cell_type": "markdown",
   "metadata": {},
   "source": [
    "### We now look at Means & Standard Deviations of these returns\n",
    "\n",
    "- Stock Means: Average returns that the stock is making on a week to week basis\n",
    "- Stock Standard Deviation : It is a measure of volatility meaning the more a stock's returns vary from the stock's average return, the more volatile the stock"
   ]
  },
  {
   "cell_type": "markdown",
   "metadata": {},
   "source": [
    "#### Calculating stock means"
   ]
  },
  {
   "cell_type": "code",
   "execution_count": 18,
   "metadata": {},
   "outputs": [
    {
     "data": {
      "text/plain": [
       "Bharti_Airtel    0.001868\n",
       "DLF              0.000884\n",
       "ACC             -0.001546\n",
       "BHEL            -0.006055\n",
       "TCS              0.002485\n",
       "Maruti_Suzuki    0.001305\n",
       "Reliance         0.003767\n",
       "Dr_Reddy         0.000341\n",
       "ITC             -0.000686\n",
       "TATA_Steel      -0.000209\n",
       "Sensex           0.000683\n",
       "dtype: float64"
      ]
     },
     "execution_count": 18,
     "metadata": {},
     "output_type": "execute_result"
    }
   ],
   "source": [
    "stock_means = stock_returns.mean(axis = 0)\n",
    "stock_means"
   ]
  },
  {
   "cell_type": "markdown",
   "metadata": {},
   "source": [
    "#### Calculating stock standard deviation"
   ]
  },
  {
   "cell_type": "code",
   "execution_count": 16,
   "metadata": {},
   "outputs": [
    {
     "data": {
      "text/plain": [
       "Bharti_Airtel    0.040267\n",
       "DLF              0.061261\n",
       "ACC              0.037464\n",
       "BHEL             0.052869\n",
       "TCS              0.034130\n",
       "Maruti_Suzuki    0.036788\n",
       "Reliance         0.038380\n",
       "Dr_Reddy         0.042531\n",
       "ITC              0.032008\n",
       "TATA_Steel       0.046562\n",
       "Sensex           0.020257\n",
       "dtype: float64"
      ]
     },
     "execution_count": 16,
     "metadata": {},
     "output_type": "execute_result"
    }
   ],
   "source": [
    "stock_sd = stock_returns.std(axis = 0)\n",
    "stock_sd"
   ]
  },
  {
   "cell_type": "code",
   "execution_count": 21,
   "metadata": {},
   "outputs": [
    {
     "data": {
      "text/html": [
       "<div>\n",
       "<style scoped>\n",
       "    .dataframe tbody tr th:only-of-type {\n",
       "        vertical-align: middle;\n",
       "    }\n",
       "\n",
       "    .dataframe tbody tr th {\n",
       "        vertical-align: top;\n",
       "    }\n",
       "\n",
       "    .dataframe thead th {\n",
       "        text-align: right;\n",
       "    }\n",
       "</style>\n",
       "<table border=\"1\" class=\"dataframe\">\n",
       "  <thead>\n",
       "    <tr style=\"text-align: right;\">\n",
       "      <th></th>\n",
       "      <th>Average</th>\n",
       "      <th>Volatility</th>\n",
       "    </tr>\n",
       "  </thead>\n",
       "  <tbody>\n",
       "    <tr>\n",
       "      <th>Bharti_Airtel</th>\n",
       "      <td>0.001868</td>\n",
       "      <td>0.040267</td>\n",
       "    </tr>\n",
       "    <tr>\n",
       "      <th>DLF</th>\n",
       "      <td>0.000884</td>\n",
       "      <td>0.061261</td>\n",
       "    </tr>\n",
       "    <tr>\n",
       "      <th>ACC</th>\n",
       "      <td>-0.001546</td>\n",
       "      <td>0.037464</td>\n",
       "    </tr>\n",
       "    <tr>\n",
       "      <th>BHEL</th>\n",
       "      <td>-0.006055</td>\n",
       "      <td>0.052869</td>\n",
       "    </tr>\n",
       "    <tr>\n",
       "      <th>TCS</th>\n",
       "      <td>0.002485</td>\n",
       "      <td>0.034130</td>\n",
       "    </tr>\n",
       "    <tr>\n",
       "      <th>Maruti_Suzuki</th>\n",
       "      <td>0.001305</td>\n",
       "      <td>0.036788</td>\n",
       "    </tr>\n",
       "    <tr>\n",
       "      <th>Reliance</th>\n",
       "      <td>0.003767</td>\n",
       "      <td>0.038380</td>\n",
       "    </tr>\n",
       "    <tr>\n",
       "      <th>Dr_Reddy</th>\n",
       "      <td>0.000341</td>\n",
       "      <td>0.042531</td>\n",
       "    </tr>\n",
       "    <tr>\n",
       "      <th>ITC</th>\n",
       "      <td>-0.000686</td>\n",
       "      <td>0.032008</td>\n",
       "    </tr>\n",
       "    <tr>\n",
       "      <th>TATA_Steel</th>\n",
       "      <td>-0.000209</td>\n",
       "      <td>0.046562</td>\n",
       "    </tr>\n",
       "    <tr>\n",
       "      <th>Sensex</th>\n",
       "      <td>0.000683</td>\n",
       "      <td>0.020257</td>\n",
       "    </tr>\n",
       "  </tbody>\n",
       "</table>\n",
       "</div>"
      ],
      "text/plain": [
       "                Average  Volatility\n",
       "Bharti_Airtel  0.001868    0.040267\n",
       "DLF            0.000884    0.061261\n",
       "ACC           -0.001546    0.037464\n",
       "BHEL          -0.006055    0.052869\n",
       "TCS            0.002485    0.034130\n",
       "Maruti_Suzuki  0.001305    0.036788\n",
       "Reliance       0.003767    0.038380\n",
       "Dr_Reddy       0.000341    0.042531\n",
       "ITC           -0.000686    0.032008\n",
       "TATA_Steel    -0.000209    0.046562\n",
       "Sensex         0.000683    0.020257"
      ]
     },
     "execution_count": 21,
     "metadata": {},
     "output_type": "execute_result"
    }
   ],
   "source": [
    "df = pd.DataFrame({'Average':stock_means, 'Volatility': stock_sd})\n",
    "df"
   ]
  },
  {
   "cell_type": "markdown",
   "metadata": {},
   "source": [
    "#### Let us plot & see what they say about stock prices"
   ]
  },
  {
   "cell_type": "code",
   "execution_count": 22,
   "metadata": {},
   "outputs": [
    {
     "name": "stderr",
     "output_type": "stream",
     "text": [
      "C:\\Users\\cools\\anaconda3\\lib\\site-packages\\seaborn\\_decorators.py:36: FutureWarning: Pass the following variables as keyword args: x, y. From version 0.12, the only valid positional argument will be `data`, and passing other arguments without an explicit keyword will result in an error or misinterpretation.\n",
      "  warnings.warn(\n"
     ]
    },
    {
     "data": {
      "image/png": "[encoded data removed]",
      "text/plain": [
       "<Figure size 432x288 with 1 Axes>"
      ]
     },
     "metadata": {
      "needs_background": "light"
     },
     "output_type": "display_data"
    }
   ],
   "source": [
    "#plt.scatter(stock_sd, stock_means, edgecolors='r')\n",
    "plot = sns.scatterplot(df['Volatility'], df['Average'])\n",
    "plot.axvline(x=0.020257,linestyle='--', color = \"red\")  # sensex volatility\n",
    "plot.axhline(y=0.000683,linestyle='--', color = \"red\")  # sensex average\n",
    "plt.show()"
   ]
  },
  {
   "cell_type": "code",
   "execution_count": 25,
   "metadata": {},
   "outputs": [
    {
     "data": {
      "text/plain": [
       "0.0006830014468502015"
      ]
     },
     "execution_count": 25,
     "metadata": {},
     "output_type": "execute_result"
    }
   ],
   "source": [
    "df.loc['Sensex'][0]"
   ]
  },
  {
   "cell_type": "code",
   "execution_count": 21,
   "metadata": {},
   "outputs": [
    {
     "data": {
      "text/html": [
       "<div>\n",
       "<style scoped>\n",
       "    .dataframe tbody tr th:only-of-type {\n",
       "        vertical-align: middle;\n",
       "    }\n",
       "\n",
       "    .dataframe tbody tr th {\n",
       "        vertical-align: top;\n",
       "    }\n",
       "\n",
       "    .dataframe thead th {\n",
       "        text-align: right;\n",
       "    }\n",
       "</style>\n",
       "<table border=\"1\" class=\"dataframe\">\n",
       "  <thead>\n",
       "    <tr style=\"text-align: right;\">\n",
       "      <th></th>\n",
       "      <th>Average</th>\n",
       "      <th>Volatility</th>\n",
       "    </tr>\n",
       "  </thead>\n",
       "  <tbody>\n",
       "    <tr>\n",
       "      <th>TCS</th>\n",
       "      <td>0.002485</td>\n",
       "      <td>0.034130</td>\n",
       "    </tr>\n",
       "    <tr>\n",
       "      <th>Maruti_Suzuki</th>\n",
       "      <td>0.001305</td>\n",
       "      <td>0.036788</td>\n",
       "    </tr>\n",
       "    <tr>\n",
       "      <th>Reliance</th>\n",
       "      <td>0.003767</td>\n",
       "      <td>0.038380</td>\n",
       "    </tr>\n",
       "    <tr>\n",
       "      <th>Bharti_Airtel</th>\n",
       "      <td>0.001868</td>\n",
       "      <td>0.040267</td>\n",
       "    </tr>\n",
       "    <tr>\n",
       "      <th>DLF</th>\n",
       "      <td>0.000884</td>\n",
       "      <td>0.061261</td>\n",
       "    </tr>\n",
       "  </tbody>\n",
       "</table>\n",
       "</div>"
      ],
      "text/plain": [
       "                Average  Volatility\n",
       "TCS            0.002485    0.034130\n",
       "Maruti_Suzuki  0.001305    0.036788\n",
       "Reliance       0.003767    0.038380\n",
       "Bharti_Airtel  0.001868    0.040267\n",
       "DLF            0.000884    0.061261"
      ]
     },
     "execution_count": 21,
     "metadata": {},
     "output_type": "execute_result"
    }
   ],
   "source": [
    "df[df['Average'] > df.loc['Sensex'][0]].sort_values(by = 'Volatility')"
   ]
  },
  {
   "cell_type": "markdown",
   "metadata": {},
   "source": [
    "Stock with a lower mean & higher standard deviation do not play a role in a portfolio that has competing stock with more returns & less risk.\n",
    "Thus for the data we have here, we are only left few stocks:\n",
    "- Ones with higher return for a comparative or lower risk are considered better"
   ]
  },
  {
   "cell_type": "markdown",
   "metadata": {},
   "source": [
    "# END"
   ]
  }
 ],
 "metadata": {
  "kernelspec": {
   "display_name": "Python 3 (ipykernel)",
   "language": "python",
   "name": "python3"
  },
  "language_info": {
   "codemirror_mode": {
    "name": "ipython",
    "version": 3
   },
   "file_extension": ".py",
   "mimetype": "text/x-python",
   "name": "python",
   "nbconvert_exporter": "python",
   "pygments_lexer": "ipython3",
   "version": "3.9.7"
  }
 },
 "nbformat": 4,
 "nbformat_minor": 2
}
